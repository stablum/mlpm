{
 "metadata": {
  "name": ""
 },
 "nbformat": 3,
 "nbformat_minor": 0,
 "worksheets": [
  {
   "cells": [
    {
     "cell_type": "markdown",
     "metadata": {},
     "source": [
      "# Lab 3: Bayesian PCA\n"
     ]
    },
    {
     "cell_type": "markdown",
     "metadata": {},
     "source": [
      "<font size=4>**Agnes van Belle** *(10363130)*, **Lydia Mennes** *(10333843)*, **Francesco Stablum** *(6200982)*</font>"
     ]
    },
    {
<<<<<<< HEAD
     "cell_type": "code",
     "collapsed": false,
     "input": [
      "%pylab inline\n",
      "import scipy.special as sp\n",
      "\n",
      "class BayesianPCA(object):\n",
      "    \n",
      "    def __init__(self, d, N, a_alpha=10e-3, b_alpha=10e-3, a_tau=10e-3, b_tau=10e-3, beta=10e-3):\n",
      "        \"\"\"\n",
      "        \"\"\"\n",
      "        self.d = d # number of dimensions\n",
      "        self.N = N # number of data points\n",
      "        \n",
      "        # Hyperparameters\n",
      "        self.a_alpha = a_alpha\n",
      "        self.b_alpha = b_alpha\n",
      "        self.a_tau = a_tau\n",
      "        self.b_tau = b_tau\n",
      "        self.beta = beta\n",
      "\n",
      "        # Variational parameters\n",
      "        self.means_z = np.random.randn(d, N) # called x in bishop99\n",
      "        self.sigma_z = np.random.randn(d, d)\n",
      "        self.mean_mu = np.random.randn(d, 1)\n",
      "        self.sigma_mu = np.random.randn(d, d)\n",
      "        self.means_w = np.random.randn(d, d)\n",
      "        self.sigma_w = np.random.randn(d, d)\n",
      "        self.a_alpha_tilde = np.abs(np.random.randn(1))\n",
      "        self.bs_alpha_tilde = np.abs(np.random.randn(d, 1))\n",
      "        self.a_tau_tilde = np.abs(np.random.randn(1))\n",
      "        self.b_tau_tilde = np.abs(np.random.randn(1))\n",
      "    \n",
      "    def __update_z(self, X):\n",
      "        #Update means of z\n",
      "        exp_tau = self.a_tau_tilde / self.b_tau_tilde\n",
      "        exp_Wt = np.transpose(self.means_w)\n",
      "        exp_mu = self.mean_mu\n",
      "        self.means_z = np.dot( np.dot( np.dot(exp_tau, self.sigma_z), exp_Wt), (X-exp_mu) )\n",
      "        \n",
      "        #update sigma of z\n",
      "        exp_WtW = numpy.trace(self.sigma_w) + np.dot(np.transpose(self.means_w), self.means_w)\n",
      "        print expWtW\n",
      "        # sigma w = identity+ exp_tau*expWtW inverse\n",
      "        self.sigma_z = numpy.identity(2)\n",
      "    \n",
      "    def __update_mu(self):\n",
      "        pass\n",
      "    \n",
      "    def __update_w(self, X):\n",
      "        pass\n",
      "    \n",
      "    def __update_alpha(self):\n",
      "        pass\n",
      "\n",
      "    def __update_tau(self, X):\n",
      "        pass\n",
      "\n",
      "    def L(self, X):\n",
      "        # p(X)\n",
      "        p_x = - (self.N / 2 ) * np.trace(self.sigma_z) \n",
      "        for i in range(self.N):\n",
      "            p_x += np.dot(self.sigma_z[:,i], self.sigma_z[:,i].T)\n",
      "        print \"P(X):\", p_x\n",
      "        \n",
      "        # p(W|\\alpha)\n",
      "        p_w_alpha = (self.d / float(4) ) * np.log(2 * np.pi)\n",
      "        p_w_alpha_temp = (self.d * (sp.psi(self.a_alpha_tilde[0] )) )  \n",
      "        p_w_alpha_temp -= sum( map ( lambda x:  np.log( x ), self.bs_alpha_tilde))               \n",
      "        p_w_alpha_temp -= sum (map ( lambda x:  ((self.d * (self.a_alpha_tilde[0]**2 + self.a_alpha_tilde[0] )) / (x**2)),\n",
      "                                    self.bs_alpha_tilde))         \n",
      "        p_w_alpha = p_w_alpha * p_w_alpha_temp        \n",
      "        print \"P(W|\\\\alpha):\", p_w_alpha\n",
      "            \n",
      "        # P(\\alpha)        \n",
      "        p_alpha = (self.a_alpha - 1) * (d * sp.psi(self.a_alpha_tilde[0]) -  np.sum(map(lambda x: np.log(x),  self.bs_alpha_tilde)))\n",
      "        p_alpha -= self.b_alpha * np.sum(map(lambda x: (self.a_alpha_tilde[0] / float( x)),  self.bs_alpha_tilde))\n",
      "        print \"P(\\\\alpha):\", p_alpha\n",
      "        \n",
      "        \n",
      "        # P(\\mu)\n",
      "        p_mu = - (self.beta / float(2)) *  ( \\\n",
      "                    ( d / float(self.beta + self.N*(self.a_alpha_tilde[0] / float(self.a_alpha_tilde[0])))) +\n",
      "                    (np.dot(self.mean_mu.T, self.mean_mu)[0][0]) )        \n",
      "        print \"P(\\\\mu):\", p_mu\n",
      "        \n",
      "        # P(\\tau)\n",
      "        # Note: c_tau and d_tau correspond to a_tau_tilde, b_tau_tilde, respectively        \n",
      "        p_tau = (self.a_tau_tilde[0] - 1) * ( sp.psi(self.a_tau_tilde[0]) - np.log(self.b_tau_tilde[0]))\n",
      "        p_tau -= self.a_tau_tilde[0] # since d_tau is b_tau_tilde        \n",
      "        print \"P(\\\\tau):\", p_tau\n",
      "        \n",
      "        #Q(\\alpha)\n",
      "        q_alpha = (self.a_alpha_tilde[0] - 1) * (d * sp.psi(self.a_alpha_tilde[0]) -  np.sum(map(lambda x: np.log(x),  self.bs_alpha_tilde)))\n",
      "        q_alpha -= self.d * self.a_alpha_tilde[0] \n",
      "        print \"Q(\\\\alpha):\", q_alpha\n",
      "        \n",
      "        #Q(\\tau)\n",
      "        q_tau = (sp.psi(self.a_tau_tilde[0]) - np.log(self.b_tau_tilde[0])) - self.a_tau_tilde[0]\n",
      "        print \"Q(\\\\tau):\", q_tau\n",
      "        \n",
      "        L = p_x + p_w_alpha + p_alpha + p_mu + p_tau - q_alpha - q_tau\n",
      "        return L\n",
      "    \n",
      "    \n",
      "    def fit(self, X):\n",
      "        pass"
     ],
     "language": "python",
     "metadata": {},
     "outputs": [
      {
       "output_type": "stream",
       "stream": "stdout",
       "text": [
        "Populating the interactive namespace from numpy and matplotlib\n"
       ]
      }
     ],
     "prompt_number": 1
=======
     "cell_type": "heading",
     "level": 4,
     "metadata": {},
     "source": [
      "<font size=4 color=\"#800000\">Remark</font>: We use the parameter notation as in <a href=\"http://research.microsoft.com/pubs/67241/bishop-vpca-icann-99.pdf\"> [Bishop99] Variational Principal Components, C. Bishop, ICANN 1999</a>. \n",
      "\n",
      "That is, $D = \\{ t_1, \\dots t_n\\}$ denotes the observed data; $X = \\{ x_1 \\dots x_n \\}$ comprises the latent variables."
     ]
>>>>>>> fce8fb7a3e4a2d36e3b8fe92fdc02562028d312c
    },
    {
     "cell_type": "heading",
     "level": 2,
     "metadata": {},
<<<<<<< HEAD
     "outputs": [
      {
       "output_type": "stream",
       "stream": "stdout",
       "text": [
        "P(X): 6.23202016979\n",
        "P(W|\\alpha): -16.6072653815\n",
        "P(\\alpha): 4.40218469418\n",
        "P(\\mu): -0.0337992949155\n",
        "P(\\tau): -0.314666928397\n",
        "Q(\\alpha): -0.566094980196\n",
        "Q(\\tau): -0.799996972469\n"
       ]
      },
      {
       "metadata": {},
       "output_type": "pyout",
       "prompt_number": 2,
       "text": [
        "-4.9554347881844887"
       ]
      }
     ],
     "prompt_number": 2
=======
     "source": [
      "1. Theoretical foundations"
     ]
>>>>>>> fce8fb7a3e4a2d36e3b8fe92fdc02562028d312c
    },
    {
     "cell_type": "markdown",
     "metadata": {},
     "source": [
      "We will discuss some theory in this section. The implementation is discussed in the next section."
     ]
    },
    {
     "cell_type": "code",
     "collapsed": false,
     "input": [
      "from IPython.display import display, Math, Latex"
     ],
     "language": "python",
     "metadata": {},
     "outputs": [],
     "prompt_number": 13
    },
    {
     "cell_type": "heading",
     "level": 3,
     "metadata": {},
     "source": [
      "1.1 The Q-distribution"
     ]
    },
    {
     "cell_type": "markdown",
     "metadata": {},
     "source": [
      "\n",
      "In variational Bayes, we introduce a distribution $Q(\\Theta)$ over parameters / latent variables in order to make inference tractable. We can think of $Q$ as being an approximation of a certain distribution. "
     ]
    },
    {
     "cell_type": "markdown",
     "metadata": {},
     "source": [
      "The function $Q$ approximates the function that is the posterior distribution, $p(\\Theta | D) $.\n",
      "\n",
      "The posterior $P(\\Theta | D)$ is given by multiplying the likelihood by the prior and then normalizing:\n",
      "\n",
      "\\begin{align}\n",
      "P(\\Theta | D) &= \\dfrac{P(D | \\Theta)P( \\Theta)}{P(D)} \\\\\n",
      "              &= \\dfrac{P(D | \\Theta)P( \\Theta)}{\\int P(D | \\Theta)P(\\Theta) \\hspace{1mm} d\\Theta}\n",
      "\\end{align}\n",
      "\n",
      "Why is this useful? \n",
      "For Maximum a Posteriori (MAP) learning, we could use the posterior to get a point estimate of the parameters:\n",
      "\n",
      "\\begin{align}\n",
      "\\widetilde{\\Theta}_{\\text{MAP}}(D)&= \\arg\\max_{\\Theta} P(\\Theta | D) \\\\\n",
      "            & \\propto {P(D | \\Theta)P( \\Theta)}\n",
      "\\end{align}\n",
      "\n",
      "So for MAP learning the normalization (and therefore integration) is not needed. Like Maximum likelihood estimation (MLE) learning, MAP learning learns a point estimate of our parameters.\n",
      "\n",
      "In the Bayesian framework no fixed parameter setting is chosen. The posterior is used to obtain a predictive density (also called the posterior predictive distribution) for a new data point $t^{*}$ with:\n",
      "\n",
      "\\begin{align}\n",
      "P(t^{*} | D) &= \\int P(t^{*} | \\Theta) P(\\Theta | D) \\hspace{2mm} d\\Theta\n",
      "\\end{align}\n",
      "\n",
      "This means that in the Bayesian learning framework we consider all possible parametrizations of our models by incorporating the posterior this way. Each of these is weighted by the evidence for them in $D$.\n",
      "(Note that when predicting, we also return a probability distribution as prediction for $t^{*}$). \n",
      "\n",
      "Note that we need to integrate over all possible parametrizations for this. In practice this can quickly become infeasible for models with many parameters; when using a mixture of models; or when the prior distribution is not of the same functional form as the likelihood distribution. Therefore we use a ''simpler'' distribution $Q(\\Theta)$ to approximate $P(\\Theta|D)$. \n"
     ]
    },
    {
     "cell_type": "heading",
     "level": 3,
     "metadata": {},
     "source": [
      "1.2 The mean-field approximation \n"
     ]
    },
    {
     "cell_type": "markdown",
     "metadata": {},
     "source": [
      "Equation 13 from [Bishop99] is a very powerful result: assuming only that $Q(\\Theta)$ factorizes in a certain way (no assumptions on the functional form of the factors $Q_i$), we get a set of coupled equations for the $Q_i$.\n",
      "\n",
      "We validate this result by deriving in detail the expression for the optimal $Q_i^{*}(\\Theta_i)$, starting with the expression for the lower bound $\\mathcal{L}(Q)$."
     ]
    },
    {
     "cell_type": "markdown",
     "metadata": {},
     "source": [
      "It is given that the lower bound is \n",
      "\n",
      "$$\n",
      "\\begin{align}\n",
      "\\mathcal{L}(Q) =& \\int Q(\\Theta) \\log \\dfrac{P(D, \\Theta)}{Q(\\Theta)}\n",
      "                \\hspace{3mm} d \\Theta  \\\\\n",
      "\\end{align} \n",
      "$$\n",
      "\n",
      "And the factorization is\n",
      "\n",
      "\\begin{equation}\n",
      "Q(\\Theta)= \\prod_{k} Q_k(\\Theta_k)\n",
      "\\end{equation}\n",
      "\n",
      "Plugging in the factorization into the lower bound, we get\n",
      "\n",
      "\\begin{align}                \n",
      "\\mathcal{L}(Q) =&  \\int \n",
      "                     \\prod_{k} Q_k( \\Theta_k) \n",
      "                     \\left[\n",
      "                         \\log P(D,\\Theta) - \\log \\left( \\prod_k Q_k(\\Theta_k) \\right)\n",
      "                     \\right]\n",
      "                 \\hspace{3mm} d \\Theta  \\\\\n",
      "              =& \\int\n",
      "              \\prod_{k} Q_k( \\Theta_k) \n",
      "                     \\left[\n",
      "                         \\log P(D,\\Theta) - \\sum_k \\log Q_k(\\Theta_k)\n",
      "                     \\right]\n",
      "                  \\hspace{3mm} d \\Theta\n",
      "\\end{align}  \n",
      "\n",
      "By denoting a specific factor $Q_i$ separately we arrive at\n",
      "\n",
      "\\begin{align}\n",
      "\\mathcal{L}(Q) =& \\int Q_i( \\Theta_i) \\prod_{k \\neq i} Q_k( \\Theta_k) \n",
      "                \\left[ \\log P(D, \\Theta) - \\log \\left( \\prod_{j \\neq i}  Q_j(\\Theta_j) \\right) - \\log Q_i (\\Theta_i) \\right] \n",
      "                \\hspace{3mm} d \\Theta  \n",
      "\\end{align}                \n",
      "\n",
      "By taking the integral of $Q_i$ apart from those for $\\{Q_1, \\dots ,Q_{i-1},Q_{i+1}, \\dots ,Q_M \\}$, we get\n",
      "\n",
      "\\begin{align}\n",
      "\\mathcal{L}(Q) =& \n",
      "    \\int Q_i(\\Theta_i) \n",
      "        \\left[ \n",
      "            \\int  \\prod_{k \\neq i} Q_k( \\Theta_k) \\log P(D, \\Theta) \n",
      "            \\hspace{3mm} d \\Theta_{\\setminus i}\n",
      "        \\right]\n",
      "        \\hspace{3mm} d \\Theta_{i} \\hspace{3mm} -\\\\\n",
      "& \n",
      "    \\int Q_i(\\Theta_i) \n",
      "    \\left[ \n",
      "            \\int  \\prod_{k \\neq i} Q_k( \\Theta_k) \n",
      "            \\log \\left( \\prod_{j \\neq i} Q_j(\\Theta_j) \\right)\n",
      "            \\hspace{3mm} d \\Theta_{\\setminus i}\n",
      "        \\right]\n",
      "        \\hspace{3mm} d \\Theta_{i}  \\hspace{3mm} - \\\\\n",
      "& \n",
      "    \\int Q_i(\\Theta_i) \n",
      "        \\log Q_i (\\Theta_i)\n",
      "        \\left[ \n",
      "            \\int\n",
      "             \\prod_{k \\neq i} Q_k( \\Theta_k) \n",
      "             \\hspace{3mm} d \\Theta_{\\setminus i}\n",
      "        \\right]\n",
      "        \\hspace{3mm} d \\Theta_{i} \n",
      "\\end{align}\n"
     ]
    },
    {
     "cell_type": "markdown",
     "metadata": {},
     "source": [
      "\n",
      "Now, when we keep the $Q_k \\neq Q_{i}$ fixed the following happens, the integral over $\\Theta_{\\setminus i}$  in the third row of the equation for $\\mathcal{L}(Q)$ will become 1, because all $Q_n(\\Theta_n)$ are probability distributions. \n",
      "\n",
      "\\begin{align}\n",
      "\\int Q_i(\\Theta_i) \n",
      "        \\log Q_i (\\Theta_i)\n",
      "        \\left[ \n",
      "            \\int\n",
      "             \\prod_{k \\neq i} Q_k( \\Theta_k) \n",
      "             \\hspace{3mm} d \\Theta_{\\setminus i}\n",
      "        \\right]\n",
      "        \\hspace{3mm} d \\Theta_{i} \n",
      "        =& \n",
      "    \\int Q_i(\\Theta_i) \n",
      "        \\log Q_i (\\Theta_i)\n",
      "        \\left[\n",
      "        \\prod_{k \\neq i}         \n",
      "            \\int\n",
      "              Q_k( \\Theta_k) \n",
      "             \\hspace{3mm} d \\Theta_{k}\n",
      "        \\right]        \n",
      "        \\hspace{3mm} d \\Theta_{i} \\\\\n",
      "     =&\n",
      "      \\int Q_i(\\Theta_i) \n",
      "        \\log Q_i (\\Theta_i)\n",
      "        \\left[\n",
      "        \\prod_{k \\neq i}         \n",
      "            1\n",
      "        \\right]        \n",
      "        \\hspace{3mm} d \\Theta_{i} \n",
      "\\end{align}\n",
      "\n",
      "So we can rewrite the equation as\n",
      "\n",
      "\\begin{align}       \n",
      "\\mathcal{L}(Q)  =& \n",
      "    \\int Q_i(\\Theta_i) \n",
      "        \\left[ \n",
      "            \\int  \\prod_{k \\neq i} Q_k( \\Theta_k) \\log P(D, \\Theta) \n",
      "            \\hspace{3mm} d \\Theta_{\\setminus i}\n",
      "        \\right]\n",
      "        \\hspace{3mm} d \\Theta_{i} \\hspace{3mm} -\\\\\n",
      "& \n",
      "    \\int Q_i(\\Theta_i) \n",
      "    \\left[ \n",
      "            \\int  \\prod_{k \\neq i} Q_k( \\Theta_k) \n",
      "            \\log \\left( \\prod_{j \\neq i} Q_j(\\Theta_j) \\right)\n",
      "            \\hspace{3mm} d \\Theta_{\\setminus i}\n",
      "        \\right]\n",
      "        \\hspace{3mm} d \\Theta_{i}  \\hspace{3mm} - \\\\\n",
      "& \n",
      "    \\int Q_i(\\Theta_i) \n",
      "        \\log Q_i (\\Theta_i)    \n",
      "        \\hspace{3mm} d \\Theta_{i}         \n",
      "\\end{align}\n",
      "\n",
      "\n",
      "Furthermore, when we keep the $Q_k \\neq Q_{i}$ fixed, the $\\Theta_{\\setminus i}$ integral in the second row of the equation for  $\\mathcal{L}(Q)$ will become a constant. We know that $\\int Q_i(\\Theta_i)  d\\Theta_{i}$ should be 1 because $Q_i$ is a probability distribution. So the whole second row can be viewed as a constant. \n",
      "\n",
      "\n",
      "\\begin{align}\n",
      "\\mathcal{L}(Q)  =& \n",
      "    \\int Q_i(\\Theta_i) \n",
      "        \\left[ \n",
      "            \\int  \\prod_{k \\neq i} Q_k( \\Theta_k) \\log P(D, \\Theta) \n",
      "            \\hspace{3mm} d \\Theta_{\\setminus i}\n",
      "        \\right]\n",
      "        \\hspace{3mm} d \\Theta_{i} \\hspace{3mm} -\\\\\n",
      "& \n",
      "    \\int Q_i(\\Theta_i) \n",
      "        \\log Q_i (\\Theta_i)    \n",
      "        \\hspace{3mm} d \\Theta_{i}  \\hspace{1mm} + \\text{const}        \n",
      "\\end{align}\n"
     ]
    },
    {
     "cell_type": "markdown",
     "metadata": {},
     "source": [
      "Note that the integral over $\\Theta_{\\setminus i}$  in the  first line in $\\mathcal{L}(Q)$ could be rewritten as an expectation :\n",
      "\n",
      "\\begin{align}\n",
      "\\mathcal{L}(Q)  =& \n",
      "    \\int Q_i(\\Theta_i) \\cdot\n",
      "        \\mathbb{E}_{[k \\neq i]}[ \\log P(D, \\Theta)]\n",
      "        \\hspace{3mm} d \\Theta_{i} \\hspace{3mm} -\\\\\n",
      "& \n",
      "    \\int Q_i(\\Theta_i) \n",
      "        \\log Q_i (\\Theta_i)    \n",
      "        \\hspace{3mm} d \\Theta_{i}  \\hspace{1mm} + \\text{const}        \n",
      "\\end{align}\n",
      "\n",
      "Where $\\mathbb{E}_{[k \\neq i]}$ denotes this expected value is with respect to the $Q$ distributions over all variables $\\Theta_k \\neq \\Theta_i$.\n",
      "\n",
      "\n",
      "We can define $\\mathbb{E}_{[k \\neq i]}[ \\log P(D, \\Theta)]$ as $\\log \\widetilde{P}(D, \\Theta_i)$.\n",
      "\n",
      "Intuitively it makes sense to see  $\\log \\widetilde{P}(D, \\Theta_i)$, the joint probability of that parameter and the data, as the expectation of $\\log P(D, \\Theta)$ under all $\\Theta_k$ that are not $\\Theta_i$ , i.e., to not marginalize out  $\\Theta_i$ in $\\log P(D, \\Theta)$.\n",
      "It is here particularly useful to be able to rewrite the above equation as:\n",
      "\n",
      "\\begin{align}\n",
      "\\mathcal{L}(Q)  =&  \\int Q_i(\\Theta_i) \\log \\widetilde{P}(D, \\Theta_i) -  \\int Q_i(\\Theta_i) \\log Q_i(\\Theta_i) \\\\\n",
      "                =& \\int Q_i(\\Theta_i) \\log \\dfrac{\\widetilde{P}(D , \\Theta_i)}{ Q_i(\\Theta_i)} \\\\\n",
      "                =& - \\text{KL} \\left(Q_i(\\Theta_i) || \\widetilde{P}(D, \\Theta_i) \\right)\n",
      "\\end{align}\n",
      "\n",
      "Recall we wanted to maximize the lower bound function $\\mathcal{L}(Q)$. We see that this negative KL-divergence will be maximal when \n",
      "\n",
      "\\begin{align}\n",
      " Q_i(\\Theta_i) &= \\widetilde{P}(D, \\Theta_i)  \\\\  \n",
      " \\log  Q_i(\\Theta_i) &= \\log \\widetilde{P}(D, \\Theta_i)  \\\\\n",
      "                     &= \\mathbb{E}_{[k \\neq i]}[\\log P(D, \\Theta)]\\\\\n",
      " Q_i(\\Theta_i)      &= \\exp \\left( \\mathbb{E}_{[k \\neq i]} [\\log P(D, \\Theta)] \\right)    \n",
      "\\end{align}\n",
      "\n",
      "So in line with Bishop (except a subscript mismatch on his side), accounting for normalization (marginalizing over all $\\Theta_{\\setminus i}$) we get that the optimal value for $Q_i$ is \n",
      "\n",
      "\\begin{align}\n",
      " Q_i^{*}(\\Theta_i)      &= \\dfrac{\\exp ( \\mathbb{E}_{[k \\neq i]} [\\log P(D, \\Theta)] )   }\n",
      "                      {\\int \\exp ( \\mathbb{E}_{[k \\neq i]} [\\log P(D, \\Theta)] ) \\hspace{2mm} d\\Theta_i  }\n",
      "\\end{align}\n",
      "\n"
     ]
    },
    {
     "cell_type": "heading",
     "level": 3,
     "metadata": {},
     "source": [
      "1.3 The log-probability\n"
     ]
    },
    {
     "cell_type": "markdown",
     "metadata": {},
     "source": [
      "The log-probability of data and parameters, $\\ln p(D, X, W, \\alpha, \\tau, \\mu)$ can be written down in full detail as:\n",
      "\n"
     ]
    },
    {
     "cell_type": "markdown",
     "metadata": {},
     "source": [
      "$$\n",
      "\\begin{align}\n",
      "\\ln p ( D, X, W, \\alpha, \\tau, \\mu) =& \n",
      "\\ln \\left(  \\prod_{n=1}^N p(t_n| x_n, W, \\mu, \\tau)p(X)p(W|\\alpha)p(\\alpha)p(\\mu)p(\\tau) \\right) \\\\\n",
      "=& \\ln \\left( \\prod_{n=1}^N \\left[ \\left( \\frac{\\tau}{2 \\pi} \\right) ^{D/2} \\exp \\left( - \\frac{\\tau}{2} \\parallel t_n-Wx_n-\\mu \\parallel ^2  \\right) \\right]\n",
      "\\prod_{n=1}^N \\left[  \\left( \\frac{1}{2 \\pi} \\right)^{q/2} \\exp \\left( - \\frac{1}{2} x_n^\\top x_n \\right) \\right] \\\\\n",
      "\\prod_{i=1}^q \\left[ \\left( \\frac{\\alpha_i}{2 \\pi} \\right)^{D/2} \\exp \\left( -\\frac{\\alpha_i}{2}  w_i^\\top w_i \\right) \\right]\n",
      "\\prod_{i=1}^q \\left[ \\frac{1}{\\Gamma(a_\\alpha)} b_\\alpha^{a_\\alpha} \\alpha_i^{a_\\alpha-1} e^{-b_\\alpha \\: \\alpha_i} \\right]\\\\ \n",
      "\\left[ \\left(\\frac{ \\beta}{2\\pi} \\right)^{D/2} \\exp \\left( - \\frac{\\beta}{2} \\mu^\\top \\mu \\right) \\right]\n",
      "\\left[ \\frac{1}{\\Gamma(c_\\tau)} d_\\tau^{c_\\tau} \\tau^{c_\\tau-1} e^{-d_\\tau \\: \\tau} \\right] \\right) \n",
      "\\\\\n",
      "~\n",
      "=& \\frac{ND}{2} \\ln \\frac{\\tau}{2 \\pi} + \\sum_{n=1}^N \\left[ - \\frac{\\tau}{2} \\parallel t_n-Wx_n-\\mu \\parallel ^2 \\right]\n",
      "+ \\frac{Nq}{2} \\ln \\frac{1}{2 \\pi} + \\sum_{n=1}^N \\left[ - \\frac{1}{2} x_n^\\top x_n \\right] \\\\\n",
      "&+ \\sum_{i=1}^q \\left[ \\frac{D}{2} \\ln \\frac{\\alpha_i}{2 \\pi} \\right] + \\sum_{i=1}^q \\left[ - \\frac{\\alpha_i}{2} w_i^\\top w_i \\right]\n",
      "+ \\: q \\ln \\frac{ b_\\alpha^{a_\\alpha}}{\\Gamma(a_\\alpha)} + \\sum_{i=1}^q \\left[ (a_\\alpha -1) \\ln \\alpha_i - b_\\alpha \\alpha_i \\right] \\\\\n",
      "&+ \\frac{D}{2} \\ln \\frac{\\beta}{2 \\pi} - \\frac{\\beta}{2} \\mu^\\top\\mu - \\ln \\Gamma(c_\\tau) + \\ln d_\\tau^{c_\\tau} + (c_\\tau-1)\\ln \\tau - d_\\tau \\tau\n",
      "\\end{align}\n",
      "$$"
     ]
    },
    {
     "cell_type": "markdown",
     "metadata": {},
     "source": [
      " Can we use this to assess the convergence of the variational Bayesian PCA algorithm? \n",
      " \n",
      " Bayesian learning results in a posterior distribution over the parameters. If we wish to use $\\ln P(\\Theta,D)$ to assess convergence we have no choice but to use some point estimate of the parameters from the approximated posterior $Q$ to evaluate  $\\ln P(\\Theta,D)$ (we cannot plug in the distribution). \n",
      " \n",
      "However, we consider convergence as $Q$ being as similar to the real posterior $P(\\Theta|D)$ as possible. There is no guarantee that if $Q$ becomes more similar to $P(\\Theta|D)$, that the used point estimate of $Q$ results in a higher value when evaluating $\\ln P(\\Theta,D)$. Therefore $\\ln P(\\Theta,D)$ is not a suitable option to assess convergence."
     ]
    },
    {
     "cell_type": "heading",
     "level": 3,
     "metadata": {},
     "source": [
      "1.4 The lower bound $\\mathcal{L}(Q)$\n"
     ]
    },
    {
     "cell_type": "heading",
     "level": 4,
     "metadata": {},
     "source": [
      "**1.4.1 General expression**"
     ]
    },
    {
     "cell_type": "markdown",
     "metadata": {},
     "source": [
      "Below we derive an expression for the lower bound $\\mathcal{L}(Q)$ of the log-probability $\\ln p(D)$ for Bayesian PCA, making use of the factorization (Equation 12) and the form of the Q-distributions (Equations 16-20) as listed in [Bishop99].\n",
      "\n",
      "The following result may be useful:\n",
      "\n",
      "For $x \\sim \\Gamma(a,b)$, we have $\\langle \\ln x\\rangle = \\ln b + \\psi(a)$, where $\\psi(a) = \\frac{\\Gamma'(a)}{\\Gamma(a)}$ is the digamma function (which is implemented in numpy.special)."
     ]
    },
    {
     "cell_type": "markdown",
     "metadata": {},
     "source": [
      "The lower bound can be defined as"
     ]
    },
    {
     "cell_type": "markdown",
     "metadata": {},
     "source": [
      "\\begin{align}\n",
      "\\mathcal{L}(Q) =& \\int Q(\\Theta) \\ln \\dfrac{P(D,\\Theta)}{Q(\\Theta)} \\hspace{2mm} d \\Theta\\\\\n",
      "                =& \\int Q(\\Theta) \\ln P(D,\\Theta) \\hspace{2mm} d \\Theta  - \\int Q(\\Theta) \\ln Q(\\Theta)  \\hspace{2mm} d \\Theta\\\\\n",
      "                = & \\mathbb{E}_Q[ \\ln P(D,\\Theta)] - \\mathbb{E}_Q[\\ln Q(\\Theta)]\\\\\n",
      "                ~\n",
      "               =& \\mathbb{E}_Q \\left[ \\ln \\left( \\prod_{n=1}^{N} P (t_n | x_n, W, \\mu, \\tau) \\right) \\right] \\\\\n",
      "               & + \\mathbb{E}_Q \\left[ \\ln P(X) \\right ] \\\\\n",
      "               & + \\mathbb{E}_Q \\left[\\ln  P(W | \\alpha ) \\right] \\\\\n",
      "               & + \\mathbb{E}_Q \\left[ \\ln P(\\alpha) \\right]\\\\\n",
      "               &+ \\mathbb{E}_Q \\left[ \\ln P(\\mu) \\right] \\\\\n",
      "                & + \\mathbb{E}_Q \\left[ \\ln P(\\tau) \\right] \\\\\n",
      "                & - \\mathbb{E}_Q \\left[ \\ln Q(X) \\right] \\\\\n",
      "                & - \\mathbb{E}_Q \\left[ \\ln Q(W) \\right] \\\\\n",
      "                & - \\mathbb{E}_Q \\left[ \\ln \\left( Q(\\alpha) \\right) \\right] \\\\\n",
      "                & - \\mathbb{E}_Q \\left[ \\ln Q(\\mu) \\right] \\\\\n",
      "                & - \\mathbb{E}_Q \\left[ \\ln \\left( Q(\\tau) \\right) \\right]\\\\\n",
      "\\end{align}"
     ]
    },
    {
     "cell_type": "markdown",
     "metadata": {},
     "source": [
      "Note that we can treat $ P (t_n | x_n, W, \\mu, \\tau)  $  as a constant because $t$ is observed. So $\\mathcal{L}(Q)$ becomes\n",
      "\n",
      "\\begin{align}\n",
      "\\mathcal{L}(Q) = & \\mathbb{E}_Q \\left[ \\ln \\left( \\prod_{n=1}^{N} \\mathcal{N}(x_n|0, I_q) \\right) \\right]              \\\\\n",
      "                & + \\mathbb{E}_Q \\left[ \\ln \\left( \\prod_{i=1}^{q} (\\dfrac{\\alpha_i}{2 \\pi})^{d/2}  \\exp( - \\dfrac{1}{2} \\alpha_i ||w_i||^2 ) \\right) \\right] \\\\\n",
      "                & + \\mathbb{E}_Q \\left[ \\ln \\left( \\prod_{i=1}^{q} \\Gamma ( \\alpha_i| a_{\\alpha}, b_{\\alpha}) \\right) \\right] \\\\\n",
      "                & + \\mathbb{E}_Q \\left[ \\ln \\left( \\mathcal{N}(\\mu|0, \\beta^{-1} I) \\right) \\right] \\\\\n",
      "                & + \\mathbb{E}_Q \\left[ \\ln \\left( \\Gamma(\\tau|c_\\tau, d_\\tau ) \\right) \\right] \\\\\n",
      "                & - \\mathbb{E}_Q \\left[ \\ln \\left( \\prod_{n=1}^{N} \\mathcal{N}(x_n| m_x^{(n)}, \\Sigma_x) \\right) \\right] \\\\\n",
      "                & - \\mathbb{E}_Q \\left[ \\ln \\left( \\prod_{k=1}^{d}  \\mathcal{N}(\\widetilde{w}_k | m_w^{(k)}, \\Sigma_w) \\right) \\right] \\\\\n",
      "                & - \\mathbb{E}_Q \\left[ \\ln \\left( \\prod_{i=1}^{q} \\Gamma(\\alpha_i| \\widetilde{a}_\\alpha, \\widetilde{b}_{\\alpha i} ) \\right) \\right] \\\\\n",
      "                & - \\mathbb{E}_Q \\left[ \\ln \\left( \\mathcal{N}(\\mu | m_\\mu, \\Sigma_\\mu) \\right) \\right] \\\\\n",
      "                & - \\mathbb{E}_Q \\left[ \\ln \\left( \\Gamma(\\tau | \\widetilde{a}_\\tau, \\widetilde{b}_\\tau ) \\right) \\right] \\\\\n",
      "                & + \\text{const}\n",
      "\\end{align}\n",
      "\n"
     ]
    },
    {
     "cell_type": "heading",
     "level": 4,
     "metadata": {},
     "source": [
      "**1.4.2 Evaluation in detail**"
     ]
    },
    {
     "cell_type": "markdown",
     "metadata": {},
     "source": [
      "We have evaluated the ten integrals corresponding to these ten expectations analytically. \n",
      "\n",
      "Below we give the derivation for each of them."
     ]
    },
    {
     "cell_type": "heading",
     "level": 4,
     "metadata": {},
     "source": [
      "1.4.2.1"
     ]
    },
    {
     "cell_type": "markdown",
     "metadata": {},
     "source": [
      "\\begin{align}\n",
      " \\mathbb{E}_Q \\left[ \\ln  P(X) \\right] = & \\mathbb{E}_Q \\left[ \\ln \\left( \\prod_{n=1}^{N} \\mathcal{N}(x_n|0, I_q) \\right) \\right]   \\\\\n",
      "= & \\int Q(\\Theta) \\sum_{n=1}^N \\ln \\left( \\mathcal{N}(x_n | 0, I_q \\right) d \\Theta\\\\\n",
      "= & \\sum_{n=1}^N \\int Q(x_n) \\ln \\left( \\mathcal{N} (x_n | 0, I_q \\right) d x_n \\\\\n",
      "= & \\sum_{n=1}^N \\int Q(x_n)\\left[ - \\dfrac{1}{2} (x_n - 0)^{T} I_q^{-1} (x_n - 0) - \\dfrac{q}{2} \\ln ( 2 \\pi)\n",
      "            - \\dfrac{1}{2} \\ln (\\text{det}(I_q)) \\right] d x_n \\\\\n",
      "= & -\\dfrac{1}{2} \\sum_{n=1}^N \\int Q(x_n) x_n^{T}x_n d x_n - \\dfrac{q}{2} \\ln (2 \\pi) \\sum_{n=1}^N \\int Q(x_n) d x_n -\n",
      "                    \\dfrac{1}{2} \\ln (\\text{det} (I_q)) \\sum_{n=1}^N \\int Q(x_n ) d x_n \\\\\n",
      "= & - \\dfrac{1}{2} \\sum_{n=1}^{N} \\int Q(x_n) x_n^{T}x_n d x_n + \\text{const} \\\\\n",
      "\\end{align}\n",
      "\n",
      "Rule 355 of <a href=\"http://www2.imm.dtu.dk/pubdb/views/edoc_download.php/3274/pdf/imm3274.pdf\"> the Matrix Cookbook</a> says that $ \\mathbb{E}_P[x^{T}Ax] = \\text{Tr}(A \\Sigma) + m^{T} A m $ where $m$ and $\\Sigma$ are the mean and covariance of $P$, so\n",
      "\n",
      "\\begin{align}\n",
      " \\mathbb{E}_Q \\left[ \\ln  P(X) \\right]   = & \n",
      "     -\\dfrac{1}{2} \\left( N \\cdot \\text{Tr}(\\Sigma_x) + \\sum_{n=1}^N {m_x^{(n)}}^{T}  {m_x^{(n)}} \\right) + \\text{const}\\\\\n",
      "     = & -\\dfrac{N}{2} \\text{Tr}(\\Sigma_x) -\\dfrac{1}{2}  \\sum_{n=1}^N {m_x^{(n)}}^{T}  {m_x^{(n)}} + \\text{const}\n",
      "\\end{align}"
     ]
    },
    {
     "cell_type": "heading",
     "level": 4,
     "metadata": {},
     "source": [
      "1.4.2.2"
     ]
    },
    {
     "cell_type": "markdown",
     "metadata": {},
     "source": [
      "\\begin{align}\n",
      "\\mathbb{E}_Q [\\ln P(W|\\alpha)] = & \\mathbb{E}_Q \\left[ \\ln \\left( \\prod_{i=1}^{q} (\\dfrac{\\alpha_i}{2 \\pi})^{d/2}  \\exp( - \\dfrac{1}{2} \\alpha_i ||w_i||^2 ) \\right) \\right]\\\\\n",
      "=& \\sum_{i=1}^q -\\dfrac{d}{2} \\ln( 2 \\pi) \\int Q(\\alpha_i) \\left[ \\int Q(w_i) \\left( \\ln (\\alpha_i) - \\dfrac{1}{2} \\alpha_i w_i^{T}w_i \\right)  d w_i \\right] d \\alpha_i \\\\\n",
      "=&  \\sum_{i=1}^q -\\dfrac{d}{2} \\ln( 2 \\pi) - \\dfrac{1}{2} \\int Q(\\alpha_i) \\left( \\ln(\\alpha_i) - \\alpha_i \\left[ \\int Q(w_i) w_i^{T} w_i  d w_i\\right] \\right)  d \\alpha_i \\\\\n",
      "\\end{align}\n",
      "\n",
      "Again we can use rule 355 from the Matrix Cookbook.\n",
      "\n",
      "\\begin{align}\n",
      "\\mathbb{E}_Q [\\ln P(W|\\alpha)] =& \\sum_{i=1}^q -\\dfrac{d}{2} \\ln( 2 \\pi) (- \n",
      "    \\dfrac{1}{2}) \\int Q(\\alpha_i) \n",
      "        \\left( \\ln(\\alpha_i) - \\alpha_i( \\text{Tr}(\\alpha_i I) \\right) d \\alpha_i \\\\\n",
      "= & \\sum_{i=1}^q -\\dfrac{d}{2} \\ln( 2 \\pi) (- \n",
      "    \\dfrac{1}{2}) \\int Q(\\alpha_i)      \n",
      "        \\left( \\ln(\\alpha_i) - d \\alpha_i^{2} \\right)\n",
      "        d \\alpha_i \\\\\n",
      "= & \\sum_{i=1}^q -\\dfrac{d}{2} \\ln( 2 \\pi)( - \n",
      "    \\dfrac{1}{2})\n",
      "    \\left( \n",
      "        \\int Q(\\alpha_i)  \\ln(\\alpha_i) d \\alpha_i\n",
      "        -\n",
      "        d \\int Q(\\alpha_i) \\alpha_i^2 d \\alpha_i\n",
      "        \\right)        \\\\\n",
      "\\end{align}\n",
      "\n",
      "We can make use of the fact that $\\mathbb{E}_P[\\ln x ] = \\psi(a) - \\ln(b)$ if $P(x) = \\Gamma(x|a,b)$, where $\\psi(\\cdot)$ is the digamma function;\n",
      "\n",
      "and we can make use of the fact that $\\mathbb{E}_P[x^2] = \\dfrac{(a+1)a}{b^2}$ if $P(x) = \\Gamma(x|a,b)$:\n",
      "\n",
      "\\begin{align}\n",
      "\\mathbb{E}_Q [\\ln P(W|\\alpha)] = &  \\sum_{i=1}^q -\\dfrac{d}{2} \\ln( 2 \\pi) (- \n",
      "    \\dfrac{1}{2})\n",
      "        \\left(\n",
      "            (\\psi(\\widetilde{a}_\\alpha) - \\ln( \\widetilde{b}_{\\alpha i} ) )\n",
      "            - d \\dfrac{ ( \\widetilde{a}_\\alpha + 1 ) \\widetilde{a}_\\alpha}\n",
      "                        { \\widetilde{b}_{\\alpha i}^{2} }\n",
      "         \\right)\\\\\n",
      "= &  \\dfrac{d}{4} \\ln( 2 \\pi) \\sum_{i=1}^q \n",
      "            \\left( \n",
      "              (  \\psi(\\widetilde{a}_\\alpha) - \\ln ( \\widetilde{b}_{\\alpha i}) )-\n",
      "                    \\dfrac{d ( \\widetilde{a}_{\\alpha} + 1 ) \\widetilde{a}_\\alpha }\n",
      "                            { \\widetilde{b}^{2}_{\\alpha i} }\n",
      "              \\right)            \\\\\n",
      "= & \\dfrac{d}{4} \\ln(2 \\pi) \\left( q \\cdot \\psi(\\widetilde{a}_\\alpha) - \\sum_{i=1}^q \\ln (\\widetilde{b}_{\\alpha i}) \n",
      "                               - \\sum_{i=1}^{q} \\left( \\dfrac{d (\\widetilde{a}_\\alpha^2 + \\widetilde{a}_\\alpha) } {\\widetilde{b}_{\\alpha i}^2 } \\right) \\right)               \n",
      "\\end{align}"
     ]
    },
    {
     "cell_type": "heading",
     "level": 4,
     "metadata": {},
     "source": [
      "1.4.2.3"
     ]
    },
    {
     "cell_type": "markdown",
     "metadata": {},
     "source": [
      "\\begin{align}\n",
      "\\mathbb{E}_Q \\left[ \\ln P(\\alpha) \\right] =& \\mathbb{E}_Q \\left[ \\ln \\left( \\prod_{i=1}^{q} \\Gamma ( \\alpha_i| a_{\\alpha}, b_{\\alpha}) \\right) \\right]\\\\\n",
      "= & \\int Q(\\alpha) \\sum_{i=1}^q \\ln( \\Gamma(\\alpha_i|a_\\alpha, b_\\alpha)) d \\alpha \\\\\n",
      "=& \\sum_{i=1}^q  \\int Q(\\alpha_i) \\ln (\\Gamma (\\alpha_i| a_\\alpha , b_\\alpha)) d\\alpha_i \\\\\n",
      "= & \\sum_{i=1}^q \\int Q(\\alpha_i) \\ln \\left( \\dfrac{1}{\\Gamma(a_\\alpha)} \\right) d \\alpha_i +\n",
      "   \\sum_{i=1}^q \\int Q(\\alpha_i) \\ln (b_{\\alpha}^{a_\\alpha} )d \\alpha_i  + \\\\\n",
      "    & \\sum_{i=1}^q \\int Q(\\alpha_i)  \\ln \\left( \\alpha_{i}^{a_\\alpha - 1} \\right) d \\alpha_i + \n",
      "    \\sum_{i=1}^q \\int Q(\\alpha_i) (- b_\\alpha \\alpha_i ) d \\alpha_i \\\\\n",
      "= & \\text{const} +  \n",
      "         (a_\\alpha - 1) \\sum_{i=1}^q   \\int Q(\\alpha_i)  \\ln \\left( \\alpha_{i} \\right) d \\alpha_i - \n",
      "         b_\\alpha \\sum_{i=1}^q \\int Q(\\alpha_i)  \\alpha_i  d \\alpha_i \\\\\n",
      "\\end{align}\n",
      "\n",
      "We make use of the fact that $\\mathbb{E}_P[\\ln x ] = \\psi(a) - \\ln(b)$ if $P(x) = \\Gamma(x|a,b)$, where $\\psi(\\cdot)$ is the digamma function;  \n",
      "and \n",
      "of the fact that $\\mathbb{E}_P[x] = \\dfrac{a}{b}$ if $P(x) = \\Gamma(x|a,b)$.\n",
      "Then:\n",
      "\n",
      "\\begin{align}\n",
      "\\mathbb{E}_Q \\left[ \\ln P(\\alpha) \\right] =& \n",
      "     \\cdot  (a_\\alpha - 1) \\cdot  \\sum_{i=1}^q   \\left(\\psi(\\widetilde{a}_\\alpha) - \\ln(\\widetilde{b}_{\\alpha, i})\\right)\n",
      "     -\n",
      "      b_\\alpha \\sum_{i=1}^q  \\left( \\dfrac{\\widetilde{a}_\\alpha}{\\widetilde{b}_{\\alpha, i}} \\right)\n",
      "     + \\text{const} \\\\\n",
      "     = &    (a_\\alpha - 1) \\left(  q \\cdot  \\psi(\\widetilde{a}_\\alpha) - \\sum_{i=1}^q  \\left( \\ln(\\widetilde{b}_{\\alpha, i})\\right) \\right)\n",
      "     -\n",
      "      b_\\alpha \\sum_{i=1}^q  \\left( \\dfrac{\\widetilde{a}_\\alpha}{\\widetilde{b}_{\\alpha, i}} \\right)\n",
      "     + \\text{const} \n",
      "\\end{align}"
     ]
    },
    {
     "cell_type": "heading",
     "level": 4,
     "metadata": {},
     "source": [
      "1.4.2.4"
     ]
    },
    {
     "cell_type": "markdown",
     "metadata": {},
     "source": [
      "\\begin{align}\n",
      "\\mathbb{E}_Q \\left[ \\ln P(\\mu) \\right] = & \\mathbb{E}_Q \\left[ \\ln \\left( \\mathcal{N}(\\mu|0, \\beta^{-1} I) \\right) \\right]\\\\\n",
      "= & \\mathbb{E}_Q \\left[ - \\dfrac{d}{2}  \\ln ( 2 \\pi)  - \\dfrac{1}{2} \\mu^{T} \\beta \\mu  - \\dfrac{1}{2} \\ln(\\text{det}(\\beta^{-1} I) \\right]\\\\\n",
      "= & -  \\int Q(\\Theta)  \\dfrac{d}{2} \\ln \\left( {2\\pi} \\right) + \\left( \\dfrac{\\beta}{2} \\mu^{T}\\mu \\right)   + \\dfrac{1}{2} \\ln(\\text{det}(\\beta^{-1} I) d \\Theta \\\\\n",
      "= & - \\int Q(\\mu)  \\dfrac{d}{2} \\ln \\left( {2\\pi} \\right) + \\left( \\dfrac{\\beta}{2} \\mu^{T}\\mu \\right)   + \\dfrac{1}{2} \\ln(\\text{det}(\\beta^{-1} I) d \\mu \\\\\n",
      "= & - \\dfrac{d}{2} \\ln \\left( {2\\pi} \\right)  \\int Q(\\mu)  d \\mu - \n",
      "        \\dfrac{1}{2} \\ln(\\text{det}(\\beta^{-1} I) \\int Q(\\mu) d \\mu\n",
      "        - \\int Q(\\mu) \\left( \\dfrac{\\beta}{2} \\mu^{T}\\mu \\right) d \\mu\\\\\n",
      "= &  - \\text{const} - \\dfrac{\\beta}{2} \\int Q(\\mu) \\mu^{T}\\mu d \\mu \\\\\n",
      "= & - \\dfrac{\\beta}{2} \\int Q(\\mu) \\mu^{T}\\mu d \\mu + \\text{const} \\\\\n",
      "\\end{align}\n",
      "\n",
      "Again we make use of rule 355 of the Matrix Cookbook which states that $ \\mathbb{E}_P[x^{T}Ax] = \\text{Tr}(A \\Sigma) + m^{T} A m $ where $m$ and $\\Sigma$ are the mean and covariance of $P$, so\n",
      "\n",
      "\\begin{align}\n",
      "\\mathbb{E}_Q \\left[ \\ln P(\\mu) \\right] = & - \\dfrac{\\beta}{2} \\left( \\text{Tr}(\\Sigma_\\mu) + m_\\mu^{T} m_\\mu \\right) +  \\text{const} \\\\\n",
      "\\end{align}\n",
      "\n",
      "Because $\\mu$ is $d$-dimensional and $\\Sigma_\\mu$ is defined as $(\\beta + N\\langle \\tau \\rangle)^{-1} I$\n",
      "\n",
      "\\begin{align}\n",
      "\\mathbb{E}_Q \\left[ \\ln P(\\mu) \\right] = &- \\dfrac{\\beta}{2} \\left( \\dfrac{d}{\\beta + N \\langle \\tau \\rangle } + m_\\mu^{T} m_\\mu \\right) +  \\text{const}\\\\\n",
      "\\end{align}\n",
      "\n",
      "Because $Q(\\tau) = \\Gamma (\\tau | \\widetilde{a}_\\tau, \\widetilde{b}_\\tau)$we end up with\n",
      "\n",
      "\\begin{align}\n",
      "\\mathbb{E}_Q \\left[ \\ln P(\\mu) \\right] = &\n",
      "    - \\dfrac{\\beta}{2} \n",
      "    \\left( \\dfrac{d}{\\beta + N ({ \\widetilde{a}_\\tau } / { \\widetilde{b}_\\tau} ) }\n",
      "+ m_\\mu^{T} m_\\mu  \\right) +  \\text{const}\\\\\n",
      "\\end{align}"
     ]
    },
    {
     "cell_type": "heading",
     "level": 4,
     "metadata": {},
     "source": [
      "1.4.2.5"
     ]
    },
    {
     "cell_type": "markdown",
     "metadata": {},
     "source": [
      "\\begin{align}\n",
      "\\mathbb{E}_Q \\left[ \\ln P(\\tau) \\right] = & \\mathbb{E}_Q \\left[ \\ln \\left( \\Gamma(\\tau|c_\\tau, d_\\tau ) \\right) \\right] \\\\\n",
      "= & \\mathbb{E}\\left[ \\ln \\left( \\dfrac{1}{\\Gamma (c_\\tau)} d_\\tau^{c_\\tau} \\tau^{c_\\tau -1} e^{-c_\\tau \\cdot \\tau} \\right) \\right]\\\\\n",
      "= & \\int Q(\\Theta) \\left( - \\ln(\\Gamma (c_\\tau)) + c_\\tau \\ln(d_\\tau) + (c_\\tau - 1) \\ln (\\tau) - d_\\tau \\cdot \\tau \\right) \\hspace{3mm} d \\Theta \\\\\n",
      "= & - \\int Q(\\tau) \\ln(\\Gamma (c_\\tau)) \\hspace{3mm} d \\tau \n",
      "    + \\int Q(\\tau) c_\\tau \\ln(d_\\tau)  \\hspace{3mm} d \\tau  \n",
      "    + \\int Q(\\tau) (c_\\tau - 1) \\ln (\\tau) \\hspace{3mm} d \\tau  \n",
      "    - \\int Q(\\tau) d_\\tau \\cdot \\tau \\hspace{3mm} d \\tau    \\\\\n",
      "= &   (c_\\tau - 1) \\int Q(\\tau)  \\ln (\\tau) \\hspace{3mm} d \\tau  \n",
      "    -   d_\\tau \\int Q(\\tau)  \\tau \\hspace{3mm} d \\tau   \n",
      "     + \\text{const} \\\\   \n",
      "\\end{align}\n",
      "\n",
      "Again make use of the fact that $\\mathbb{E}_P[\\ln x ] = \\psi(a) - \\ln(b)$ if $P(x) = \\Gamma(x|a,b)$, where $\\psi(\\cdot)$ is the digamma function;  \n",
      "and \n",
      "of the fact that $\\mathbb{E}_P[x] = \\dfrac{a}{b}$ if $P(x) = \\Gamma(x|a,b)$.\n",
      "Then:\n",
      "\n",
      "\\begin{align}\n",
      "\\mathbb{E}_Q \\left[ \\ln P(\\tau) \\right] \n",
      "= &   (c_\\tau - 1) \\left( \\psi(\\widetilde{a}_\\tau) - \\ln(\\widetilde{b}_\\tau )\\right)\n",
      "    -   d_\\tau  \\dfrac{\\widetilde{a}_\\tau }{\\widetilde{b}_\\tau}  \n",
      "     + \\text{const} \\\\   \n",
      "\\end{align}"
     ]
    },
    {
     "cell_type": "heading",
     "level": 4,
     "metadata": {},
     "source": [
      "1.4.2.6"
     ]
    },
    {
     "cell_type": "markdown",
     "metadata": {},
     "source": [
      "\\begin{align}\n",
      "\\mathbb{E}_Q \\left[ \\ln Q(X) \\right] = &  \\mathbb{E}_Q \\left[ \\ln \\left( \\prod_{n=1}^{N} \\mathcal{N}(x_n| m_x^{(n)}, \\Sigma_x) \\right) \\right] \\\\\n",
      "= & \\sum_{n=1}^N \\mathbb{E}_Q \\left[ \n",
      "                                    \\ln \\left( \\dfrac{1}{(2 \\pi)^{(q/2)}} \\dfrac{1}{\\text{det}(\\Sigma_x)^{(1/2)}} \\right)\n",
      "                                  + \\left( -\\dfrac{1}{2} (x_n - m_x^{(n)} )^{T}\\Sigma_x^{-1} (x_n - m_x^{(n)}) \\right) \n",
      "                                  \\right] \\\\\n",
      "= & N \\cdot  \\ln \\left( \\dfrac{1}{(2 \\pi)^{(q/2)}} \\right)\n",
      "        +  N \\cdot \\left( \\dfrac{1}{\\text{det}(\\Sigma_x)^{(1/2)}} \\right)\n",
      "        - \\sum_{n=1}^N \\dfrac{1}{2} \\int Q(x_n)  (x_n - m_x^{(n)} )^{T}\\Sigma_x^{-1} (x_n - m_x^{(n)}) \\hspace{3mm} d x_n\\\\\n",
      "= &  - \\sum_{n=1}^N \\dfrac{1}{2} \\int Q(x_n)  (x_n - m_x^{(n)} )^{T}\\Sigma_x^{-1} (x_n - m_x^{(n)}) \\hspace{3mm} d x_n + \\text{const}\n",
      "\\end{align}\n",
      "\n",
      "We recognize $(x_n - m_x^{(n)} )^{T}\\Sigma_x^{-1} (x_n - m_x^{(n)}) $ as the square of the Mahalanobis distance $\\vartriangle$.\n",
      "\n",
      "As stated  for example <a href=\"http://stat.ethz.ch/education/semesters/ss2012/ams/slides/v7.2.pdf\"> here</a> , the expectation of the squared Mahalanobis distance pertaining to $x$ and $m$ under a multivariate Gaussian  $\\mathcal{N}(x|m, \\Sigma)$  corresponds to a Chi-square distribution $\\chi^2_{n}$ with the dimensionality of the space of the distribution as the degrees of freedom $n$. This $\\chi^2_n$ distribution has as expected value also $n$. \n",
      "\n",
      "So: $\\mathbb{E}_P[\\vartriangle^2] =  \\text{dimensionality}(x \\sim P(x))$\n",
      "\n",
      "\n",
      "This can also be derived by using rule 357 from the Matrix Cookbook which states that $\\mathbb{E}_P[(x - m')^{T} A (x-m')] = (m-m')^{T} A (m-m') + \\text{Tr}(A \\Sigma)$, if $P(x) = \\mathcal{N}(x | m, \\Sigma)$. We would get $\\text{Tr}(I_q)$.\n",
      "\n",
      "Therefore we end up with\n",
      "\n",
      "\\begin{align}\n",
      "\\mathbb{E}_Q \\left[ \\ln Q(X) \\right] = & -  \\dfrac{N}{2} q + \\text{const}\\\\\n",
      "= & \\text{const}\n",
      "\\end{align}"
     ]
    },
    {
     "cell_type": "heading",
     "level": 4,
     "metadata": {},
     "source": [
      "1.4.2.7"
     ]
    },
    {
     "cell_type": "markdown",
     "metadata": {},
     "source": [
      "\\begin{align}\n",
      "\\mathbb{E}_Q\\left[\\ln Q(W) \\right] = & \\mathbb{E}_Q \\left[ \\ln \\left( \\prod_{k=1}^{d}  \\mathcal{N}(\\widetilde{w}_k | m_w^{(k)}, \\Sigma_w) \\right) \\right]\\\\\n",
      "= &  - \\sum_{k=1}^d \\dfrac{1}{2} \\int Q(\\widetilde{w}_k)  (\\widetilde{w}_k - m_w^{(k)} )^{T}\\Sigma_w^{-1} (\\widetilde{w}_k - m_w^{(k)}) \\hspace{3mm} d \\widetilde{w}_k + \\text{const} \\\\\n",
      "= & - \\dfrac{d}{2} q + \\text{const}\\\\\n",
      "= & \\text{const}\n",
      "\\end{align}\n",
      "\n",
      "Where we have followed the same reasoning as for $\\mathbb{E}_Q[\\ln Q(X)]$ above."
     ]
    },
    {
     "cell_type": "heading",
     "level": 4,
     "metadata": {},
     "source": [
      "1.4.2.8"
     ]
    },
    {
     "cell_type": "markdown",
     "metadata": {},
     "source": [
      "\\begin{align}\n",
      " \\mathbb{E}_Q\\left[ \\ln Q(\\alpha) \\right] =&  \\mathbb{E}_Q \\left[ \\ln \\left( \\prod_{i=1}^{q} \\Gamma(\\alpha_i| \\widetilde{a}_\\alpha, \\widetilde{b}_{\\alpha i} ) \\right) \\right] \\\\\n",
      " =& \\sum_{i=1}^q \\int Q(\\alpha_i) \\ln \\left( \n",
      "     \\dfrac{1}{\\Gamma(\\widetilde{a}_\\alpha)} \\cdot\n",
      "     \\widetilde{b}^{\\widetilde{a}_\\alpha}_{\\alpha i} \\cdot\n",
      "     \\alpha_i^{(\\widetilde{a}_\\alpha - 1) } \\cdot\n",
      "     e^{- \\widetilde{b}_{\\alpha i} \\alpha_i} \n",
      "     \\right) \\hspace{3mm} d \\alpha_i \\\\\n",
      "=& \\sum_{i=1}^q \\int Q(\\alpha_i)  \\dfrac{1}{\\Gamma(\\widetilde{a}_\\alpha)} \\hspace{3mm} d \\alpha_i +\n",
      "   \\sum_{i=1}^q \\int Q(\\alpha_i) \\ln \\left(   \\widetilde{b}^{\\widetilde{a}_\\alpha}_{\\alpha i} \\right) \\hspace{3mm} d \\alpha_i  +\n",
      "   \\sum_{i=1}^q \\int Q(\\alpha_i) \\ln \\left(   \\alpha_i^{(\\widetilde{a}_\\alpha - 1) }   \\right) \\hspace{3mm} d \\alpha_i  -\n",
      "    \\sum_{i=1}^q \\int Q(\\alpha_i) \\widetilde{b}_{\\alpha i} \\alpha_i \\hspace{3mm} d \\alpha_i \\\\\n",
      "=& (\\widetilde{a}_\\alpha - 1)  \\sum_{i=1}^q \\int Q(\\alpha_i) \\ln   \\alpha_i    \\hspace{3mm} d \\alpha_i -\n",
      "    \\sum_{i=1}^q \\widetilde{b}_{\\alpha i}  \\int Q(\\alpha_i) \\alpha_i \\hspace{3mm} d \\alpha_i \n",
      "    + \\text{const}\n",
      "\\end{align}\n",
      "\n",
      "Again we make use of the fact that $\\mathbb{E}_P[\\ln x ] = \\psi(a) - \\ln(b)$ if $P(x) = \\Gamma(x|a,b)$, where $\\psi(\\cdot)$ is the digamma function;  \n",
      "and \n",
      "of the fact that $\\mathbb{E}_P[x] = \\dfrac{a}{b}$ if $P(x) = \\Gamma(x|a,b)$.\n",
      "Then:\n",
      "\n",
      "\\begin{align}\n",
      " \\mathbb{E}_Q\\left[ \\ln Q(\\alpha) \\right] \n",
      "=&    (\\widetilde{a}_\\alpha - 1)  \\sum_{i=1}^q \\left( \\psi(\\widetilde{a}_\\alpha) - \\ln(\\widetilde{b}_{\\alpha i}) \\right) -\n",
      "      \\sum_{i=1}^q  \\widetilde{b}_{\\alpha i} \\left( \\dfrac{\\widetilde{a}_\\alpha}{\\widetilde{b}_{\\alpha i}} \\right)\n",
      "      + \\text{const} \\\\\n",
      "=&    (\\widetilde{a}_\\alpha - 1)   \\left( q  \\cdot \\psi(\\widetilde{a}_\\alpha) - \\left(  \\sum_{i=1}^q \\ln(\\widetilde{b}_{\\alpha i}) \\right) \\right)  -\n",
      "        q \\cdot \\widetilde{a}_\\alpha\n",
      "         + \\text{const} \\\\\n",
      "\\end{align}"
     ]
    },
    {
     "cell_type": "heading",
     "level": 4,
     "metadata": {},
     "source": [
      "1.4.2.9"
     ]
    },
    {
     "cell_type": "markdown",
     "metadata": {},
     "source": [
      "\\begin{align}\n",
      "\\mathbb{E}_q [ \\ln Q(\\mu)] = & \\mathbb{E}_Q \\left[ \\ln \\left( \\mathcal{N}(\\mu | m_\\mu, \\Sigma_\\mu) \\right) \\right] \\\\\n",
      "=& \\int Q(\\mu) \\left[ \\left( -\\dfrac{1}{2} (\\mu - m_\\mu)^{T} \\Sigma_\\mu (\\mu - m_\\mu) \\right) -\n",
      "                    \\left( \\dfrac{d}{2} \\ln (2 \\pi) \\right) -\n",
      "                    \\left( \\dfrac{1}{2} \\ln (\\text{det}(\\Sigma_\\mu)) \\right)\n",
      "                \\right] d \\mu\\\\\n",
      "=& - \\dfrac{1}{2} \\int Q(\\mu) (\\mu - m_\\mu)^{T} \\Sigma_\\mu (\\mu - m_\\mu) d \\mu + \\text{const} \\\\\n",
      "=& - \\dfrac{d}{2} + \\text{const} \\\\\n",
      "=& \\text{const}\n",
      "\\end{align}\n",
      "\n",
      "Where we have followed the same reasoning as for $\\mathbb{E}_Q[\\ln Q(X)]$ above."
     ]
    },
    {
     "cell_type": "heading",
     "level": 4,
     "metadata": {},
     "source": [
      "1.4.2.10"
     ]
    },
    {
     "cell_type": "markdown",
     "metadata": {},
     "source": [
      "\\begin{align}\n",
      "\\mathbb{E}_Q[\\ln Q(\\tau)] = & \\mathbb{E}_Q \\left[ \\ln \\left( \\Gamma(\\tau | \\widetilde{a}_\\tau, \\widetilde{b}_\\tau ) \\right) \\right]\\\\\n",
      "= & \\left(\\psi(\\widetilde{a}_\\tau) - \\ln( \\widetilde{b}_\\tau) \\right) - \\widetilde{b}_\\tau \\left( \\dfrac{ \\widetilde{a}_\\tau}{\\widetilde{b}_\\tau} \\right) + \\text{const}\\\\\n",
      "= & \\left(\\psi(\\widetilde{a}_\\tau) - \\ln( \\widetilde{b}_\\tau) \\right) - \\widetilde{a}_\\tau + \\text{const}\n",
      "\\end{align}\n",
      "\n",
      "Where we have followed the same reasoning as for e.g.  $\\mathbb{E}_Q \\left[ \\ln P(\\tau) \\right] $ above."
     ]
    },
    {
     "cell_type": "heading",
     "level": 4,
     "metadata": {},
     "source": [
      "**1.4.3 Putting it together**"
     ]
    },
    {
     "cell_type": "markdown",
     "metadata": {},
     "source": [
      "The whole lower bound $\\mathcal{L}(Q)$ can now be expressed as:\n",
      "\n",
      "\\begin{align}\n",
      "\\mathcal{L}(Q) =& -\\dfrac{N}{2} \\text{Tr}(\\Sigma_x) -\\dfrac{1}{2}  \\sum_{n=1}^N {m_x^{(n)}}^{T}  {m_x^{(n)}} \\\\\n",
      "               & + \\dfrac{d}{4} \\ln(2 \\pi) \\left( q \\cdot \\psi(\\widetilde{a}_\\alpha) - \\sum_{i=1}^q \\ln (\\widetilde{b}_{\\alpha i}) \n",
      "                               - \\sum_{i=1}^{q} \\left( \\dfrac{d (\\widetilde{a}_\\alpha^2 + \\widetilde{a}_\\alpha) } {\\widetilde{b}_{\\alpha i}^2 } \\right) \\right) \\\\\n",
      "              & +    (a_\\alpha - 1) \\left(  q \\cdot  \\psi(\\widetilde{a}_\\alpha) - \\sum_{i=1}^q  \\left( \\ln(\\widetilde{b}_{\\alpha, i})\\right) \\right)\n",
      "                    - b_\\alpha \\sum_{i=1}^q  \\left( \\dfrac{\\widetilde{a}_\\alpha}{\\widetilde{b}_{\\alpha, i}} \\right) \\\\\n",
      "              & - \\dfrac{\\beta}{2}     \\left( \\dfrac{d}{\\beta + N ({ \\widetilde{a}_\\tau } / { \\widetilde{b}_\\tau} ) } + m_\\mu^{T} m_\\mu  \\right)\\\\\n",
      "              & + (c_\\tau - 1) \\left( \\psi(\\widetilde{a}_\\tau) - \\ln(\\widetilde{b}_\\tau )\\right)     -   d_\\tau  \\dfrac{\\widetilde{a}_\\tau }{\\widetilde{b}_\\tau} \\\\\n",
      "              & - (\\widetilde{a}_\\alpha - 1)   \\left( q  \\cdot \\psi(\\widetilde{a}_\\alpha) - \\left(  \\sum_{i=1}^q \\ln(\\widetilde{b}_{\\alpha i}) \\right) \\right)  +\n",
      "        q \\cdot \\widetilde{a}_\\alpha \\\\\n",
      "              & - \\left(\\psi(\\widetilde{a}_\\tau) - \\ln( \\widetilde{b}_\\tau) \\right) + \\widetilde{a}_\\tau\\\\\n",
      "              & + \\text{const}\n",
      "\\end{align}\n"
     ]
    },
    {
     "cell_type": "heading",
     "level": 2,
     "metadata": {},
     "source": [
      "2. Implementation "
     ]
    },
    {
     "cell_type": "markdown",
     "metadata": {},
     "source": [
      "In the following cell is defined the general `BayesianPCA` class with methods whose implementation is described in more detail below."
     ]
    },
    {
     "cell_type": "code",
     "collapsed": false,
     "input": [
      "%pylab inline\n",
      "import scipy.special as sp\n",
      "\n",
      "class BayesianPCA(object):\n",
      "    \n",
      "    def __init__(self, d, N, a_alpha=10e-3, b_alpha=10e-3, a_tau=10e-3, b_tau=10e-3, beta=10e-3):\n",
      "        \"\"\"\n",
      "        \"\"\"\n",
      "        self.d = d # number of dimensions\n",
      "        self.N = N # number of data points\n",
      "        \n",
      "        # Hyperparameters\n",
      "        self.a_alpha = a_alpha\n",
      "        self.b_alpha = b_alpha\n",
      "        self.a_tau = a_tau\n",
      "        self.b_tau = b_tau\n",
      "        self.beta = beta\n",
      "\n",
      "        # Variational parameters\n",
      "        self.means_x = np.random.randn(d, N) # called x in bishop99\n",
      "        self.sigma_x = np.random.randn(d, d)\n",
      "        self.mean_mu = np.random.randn(d, 1)\n",
      "        self.sigma_mu = np.random.randn(d, d)\n",
      "        self.means_w = np.random.randn(d, d)\n",
      "        self.sigma_w = np.random.randn(d, d)\n",
      "        self.a_alpha_tilde = np.abs(np.random.randn(1))\n",
      "        self.bs_alpha_tilde = np.abs(np.random.randn(d, 1))\n",
      "        self.a_tau_tilde = np.abs(np.random.randn(1))\n",
      "        self.b_tau_tilde = np.abs(np.random.randn(1))\n",
      "    \n",
      "    def __update_z(self, D):\n",
      "        #Update means of z\n",
      "        exp_tau = self.a_tau_tilde / self.b_tau_tilde\n",
      "        exp_Wt = np.transpose(self.means_w)\n",
      "        exp_mu = self.mean_mu\n",
      "        self.means_x = np.dot( np.dot( np.dot(exp_tau, self.sigma_x), exp_Wt), (D-exp_mu) )\n",
      "        \n",
      "        #update sigma of z\n",
      "        exp_WtW = numpy.trace(self.sigma_w) + np.dot(np.transpose(self.means_w), self.means_w)\n",
      "        print expWtW\n",
      "        # sigma w = identity+ exp_tau*expWtW inverse\n",
      "        self.sigma_x = numpy.identity(2)\n",
      "    \n",
      "    def __update_mu(self):\n",
      "        pass\n",
      "    \n",
      "    def __update_w(self, D):\n",
      "        pass\n",
      "    \n",
      "    def __update_alpha(self):\n",
      "        pass\n",
      "\n",
      "    def __update_tau(self, D):\n",
      "        pass\n",
      "\n",
      "    def L(self, D):\n",
      "        # p(X)\n",
      "        p_x = - (self.N / 2 ) * np.trace(self.sigma_x) \n",
      "        for i in range(self.N):\n",
      "            p_x += np.dot(self.sigma_x[:,i], self.sigma_x[:,i].T)\n",
      "        \n",
      "        \n",
      "        # p(W|\\alpha)\n",
      "        p_w_alpha = (self.d / float(4) ) * np.log(2 * np.pi)\n",
      "        p_w_alpha_temp = (self.d * (sp.psi(self.a_alpha_tilde[0] )) )  \n",
      "        p_w_alpha_temp -= sum( map ( lambda x:  np.log( x ), self.bs_alpha_tilde))               \n",
      "        p_w_alpha_temp -= sum (map ( lambda x:  ((self.d * (self.a_alpha_tilde[0]**2 + self.a_alpha_tilde[0] )) / (x**2)),\n",
      "                                    self.bs_alpha_tilde))         \n",
      "        p_w_alpha = p_w_alpha * p_w_alpha_temp        \n",
      "        \n",
      "            \n",
      "        # P(\\alpha)        \n",
      "        p_alpha = (self.a_alpha - 1) * (d * sp.psi(self.a_alpha_tilde[0]) -  np.sum(map(lambda x: np.log(x),  self.bs_alpha_tilde)))\n",
      "        p_alpha -= self.b_alpha * np.sum(map(lambda x: (self.a_alpha_tilde[0] / float( x)),  self.bs_alpha_tilde))\n",
      "              \n",
      "        # P(\\mu)\n",
      "        p_mu = - (self.beta / float(2)) *  ( \\\n",
      "                    ( d / float(self.beta + self.N*(self.a_alpha_tilde[0] / float(self.a_alpha_tilde[0])))) +\n",
      "                    (np.dot(self.mean_mu.T, self.mean_mu)[0][0]) )               \n",
      "        \n",
      "        # P(\\tau)\n",
      "        # Note: c_tau and d_tau correspond to a_tau_tilde, b_tau_tilde, respectively        \n",
      "        p_tau = (self.a_tau_tilde[0] - 1) * ( sp.psi(self.a_tau_tilde[0]) - np.log(self.b_tau_tilde[0]))\n",
      "        p_tau -= self.a_tau_tilde[0] # since d_tau is b_tau_tilde        \n",
      "        \n",
      "        #Q(\\alpha)\n",
      "        q_alpha = (self.a_alpha_tilde[0] - 1) * (d * sp.psi(self.a_alpha_tilde[0]) -  np.sum(map(lambda x: np.log(x),  self.bs_alpha_tilde)))\n",
      "        q_alpha -= self.d * self.a_alpha_tilde[0] \n",
      "        \n",
      "        #Q(\\tau)\n",
      "        q_tau = (sp.psi(self.a_tau_tilde[0]) - np.log(self.b_tau_tilde[0])) - self.a_tau_tilde[0]        \n",
      "        \n",
      "        L = p_x + p_w_alpha + p_alpha + p_mu + p_tau - q_alpha - q_tau\n",
      "        \n",
      "        print \"P(X):\", p_x\n",
      "        print \"P(W|\\\\alpha):\", p_w_alpha\n",
      "        print \"P(\\\\alpha):\", p_alpha\n",
      "        print \"P(\\\\mu):\", p_mu\n",
      "        print \"P(\\\\tau):\", p_tau\n",
      "        print \"Q(\\\\alpha):\", q_alpha\n",
      "        print \"Q(\\\\tau):\", q_tau\n",
      "        \n",
      "        return L\n",
      "    \n",
      "    \n",
      "    def fit(self, D):\n",
      "        pass"
     ],
     "language": "python",
     "metadata": {},
     "outputs": [
      {
       "output_type": "stream",
       "stream": "stdout",
       "text": [
        "Populating the interactive namespace from numpy and matplotlib\n"
       ]
      }
     ],
     "prompt_number": 1
    },
    {
     "cell_type": "heading",
     "level": 3,
     "metadata": {},
     "source": [
      "2.1 Implementation of lower bound"
     ]
    },
    {
     "cell_type": "markdown",
     "metadata": {},
     "source": [
      "The lower bound defined above  in section 1.4.3 is implemented in the function `BayesianPCA::L` ."
     ]
    },
    {
     "cell_type": "heading",
     "level": 3,
     "metadata": {},
     "source": [
      "2.2 Optimization of variational parameters \n"
     ]
    },
    {
     "cell_type": "markdown",
     "metadata": {},
     "source": [
      "We implemented the update equations for the Q-distributions, in the `BayesianPCA::__update_XXX` functions. \n",
      "\n",
      "Each update function  re-estimates the variational parameters of the Q-distribution corresponding to one group of variables (i.e. either $X$, $\\mu$, $W$, $\\alpha$ or $\\tau$)."
     ]
    },
    {
     "cell_type": "heading",
     "level": 3,
     "metadata": {},
<<<<<<< HEAD
     "outputs": [],
     "prompt_number": 3
=======
     "source": [
      "2.3 Learning algorithm \n"
     ]
    },
    {
     "cell_type": "markdown",
     "metadata": {},
     "source": [
      "We implemented the learning algorithm described in [Bishop99], i.e. iteratively optimizing each of the Q-distributions holding the others fixed, in the function `BayesianPCA::fit`."
     ]
>>>>>>> fce8fb7a3e4a2d36e3b8fe92fdc02562028d312c
    },
    {
     "cell_type": "code",
     "collapsed": false,
     "input": [
<<<<<<< HEAD
      "#An image is represented as numpy 1-dimensional array of 784 (28 x 28) float values between 0 and 1 \n",
      "dimIm = 28\n",
      "nrOriginalDimensions = dimIm**2\n",
      "\n",
      "[_, nrImsTestSet] =  shape(test_set)"
     ],
     "language": "python",
     "metadata": {},
     "outputs": [],
     "prompt_number": 4
=======
      "d = 3\n",
      "N = 2\n",
      "\n",
      "pca = BayesianPCA(d, N)\n",
      "D = np.random.randn(d, N)\n",
      "pca.fit(D)\n",
      "\n",
      "pca.L(D)"
     ],
     "language": "python",
     "metadata": {},
     "outputs": [
      {
       "output_type": "stream",
       "stream": "stdout",
       "text": [
        "P(X): 5.41875646753\n",
        "P(W|\\alpha): -26.1497543104\n",
        "P(\\alpha): 8.15859656666\n",
        "P(\\mu): -0.0179655205624\n",
        "P(\\tau): -0.33456501214\n",
        "Q(\\alpha): 4.25101015505\n",
        "Q(\\tau): -2.77630283462\n"
       ]
      },
      {
       "metadata": {},
       "output_type": "pyout",
       "prompt_number": 14,
       "text": [
        "-14.39963912930213"
       ]
      }
     ],
     "prompt_number": 14
    },
    {
     "cell_type": "markdown",
     "metadata": {},
     "source": [
      "What would be a good way to track convergence of the algorithm? Implement your suggestion."
     ]
    },
    {
     "cell_type": "markdown",
     "metadata": {},
     "source": [
      "Test the algorithm on some test data drawn from a Gaussian with different variances in orthogonal directions. "
     ]
    },
    {
     "cell_type": "heading",
     "level": 3,
     "metadata": {},
     "source": [
      "2.4 PCA Representation of MNIST \n"
     ]
    },
    {
     "cell_type": "markdown",
     "metadata": {},
     "source": [
      "Having downloaded the <a href=\"http://deeplearning.net/tutorial/gettingstarted.html\">MNIST</a> dataset of handwritten digits,  we can run your algorithm on (part of) this dataset, and visualize the results.\n",
      "\n",
      "First we load the data:"
     ]
>>>>>>> fce8fb7a3e4a2d36e3b8fe92fdc02562028d312c
    },
    {
     "cell_type": "code",
     "collapsed": false,
     "input": [
<<<<<<< HEAD
      "def showExamples(W, nrExamples=3):\n",
      "    \n",
      "    Wpi = np.linalg.pinv(W)  \n",
=======
      "import cPickle, gzip, numpy\n",
      "\n",
      "# Load the dataset\n",
      "f = gzip.open('../mnist.pkl.gz', 'rb')\n",
      "train_set, valid_set, test_set = cPickle.load(f)\n",
      "f.close()"
     ],
     "language": "python",
     "metadata": {},
     "outputs": [],
     "prompt_number": 7
    },
    {
     "cell_type": "markdown",
     "metadata": {},
     "source": [
      "An image is represented as numpy 1-dimensional array of 784 (28 x 28) float values between 0 and 1:"
     ]
    },
    {
     "cell_type": "code",
     "collapsed": false,
     "input": [
      "dimIm = 28\n",
      "nrOriginalDimensions = dimIm**2\n",
      "\n",
      "[_, nrImsTestSet] =  shape(test_set)"
     ],
     "language": "python",
     "metadata": {},
     "outputs": [],
     "prompt_number": 8
    },
    {
     "cell_type": "markdown",
     "metadata": {},
     "source": [
      "We can compare the performance of \"our\" PCA reduction matrix $W$ with a random matrix $W_{rand}$:"
     ]
    },
    {
     "cell_type": "code",
     "collapsed": false,
     "input": [
      "def getRecoveryResult(W, originalIm):    \n",
      "    Wpi = np.linalg.pinv(W)          \n",
      "    imReduced = np.dot( W.T  , originalIm)               \n",
      "    imRecov = np.dot(Wpi.T, imReduced)    \n",
      "    imRecovMatrix = imRecov.reshape((dimIm, dimIm))    \n",
      "    return imRecovMatrix\n",
      "\n",
      "def showExamples(W,  nrExamples=3):\n",
      "    \n",
      "    [_,nrCols] = shape(W)\n",
      "    Wrand = np.random.randn(nrOriginalDimensions,nrCols)       \n",
>>>>>>> fce8fb7a3e4a2d36e3b8fe92fdc02562028d312c
      "    numbers = []\n",
      "    \n",
      "    for i in range(nrExamples):\n",
      "        randomIndex =  randint(0,nrImsTestSet-1)    \n",
      "        originalIm = test_set[0][randomIndex]\n",
<<<<<<< HEAD
      "        originalLabel = test_set[1][randomIndex]\n",
      "        \n",
      "        imMatrix = originalIm.reshape((dimIm, dimIm))    \n",
      "        matshow(imMatrix,cmap=cm.gray)    \n",
      "        \n",
      "        imReduced = np.dot( W.T  , originalIm)       \n",
      "        \n",
      "        imRecov = np.dot(Wpi.T, imReduced)\n",
      "        \n",
      "        imRecovMatrix = imRecov.reshape((dimIm, dimIm))\n",
      "        matshow(imRecovMatrix,cmap=cm.gray)\n",
      "        \n",
      "        numbers.append(originalLabel)\n",
      "        \n",
      "    print \"Showing numbers %s\" % numbers\n",
      "    \n",
      "    #print shape(imReduced)\n",
      "    #print type(imReduced)\n",
      "    #print shape(W)\n",
      "    #print shape(Wpi)\n",
      "    #print shape(imRecov)\n",
      "\n",
      "\n",
      "nrReducedDimensions = 760\n",
      "W = np.random.randn(nrOriginalDimensions,nrReducedDimensions)\n",
=======
      "        originalLabel = test_set[1][randomIndex]      \n",
      "        originalImMatrix=  originalIm.reshape((dimIm, dimIm))    \n",
      "        \n",
      "        imRecovMatrixRand = getRecoveryResult(Wrand, originalIm)        \n",
      "        imRecovMatrix = getRecoveryResult(W, originalIm)\n",
      "        \n",
      "        matshow(originalImMatrix,cmap=cm.gray)\n",
      "        matshow(imRecovMatrixRand,cmap=cm.gray)       \n",
      "        matshow(imRecovMatrix,cmap=cm.gray)\n",
      "\n",
      "        numbers.append(originalLabel)\n",
      "        \n",
      "    print \"Showing numbers %s\" % numbers\n",
      "    print \"First original image, then random recovery, then with our W\"\n",
      "    \n",
      "  \n",
      "\n",
      "    \n",
      "# run with our W\n",
      "nrDimensionsLeft = 500\n",
      "W = np.random.randn(nrOriginalDimensions,nrDimensionsLeft)       \n",
      "\n",
>>>>>>> fce8fb7a3e4a2d36e3b8fe92fdc02562028d312c
      "showExamples(W)"
     ],
     "language": "python",
     "metadata": {},
     "outputs": [
      {
       "output_type": "stream",
       "stream": "stdout",
       "text": [
<<<<<<< HEAD
        "Showing numbers [3, 0, 7]\n"
=======
        "Showing numbers [7, 5, 2]\n",
        "First original image, then random recovery, then with our W\n"
>>>>>>> fce8fb7a3e4a2d36e3b8fe92fdc02562028d312c
       ]
      },
      {
       "metadata": {},
       "output_type": "display_data",
<<<<<<< HEAD
       "png": "iVBORw0KGgoAAAANSUhEUgAAAPwAAAD5CAYAAAADZljUAAAABHNCSVQICAgIfAhkiAAAAAlwSFlz\nAAALEgAACxIB0t1+/AAAD4pJREFUeJzt3X9MVfUfx/HXqdjKoVM37oUCB1NJULiQLp3TP0rxR38g\nDqeyRFKcza05Jyvtjzb6R3GrOSL/MLVi2Vj2h+ZS0Vz5I1dj1aUxdVoTHEN+lD8SsCbq+f7xXSwm\nfK5c7uFe/Dwf293wvuY9bw+8ON7zOfdex3VdVwCs8ES0BwAwfCg8YBEKD1iEwgMWofCARSg8YBHP\nC19bW6spU6Zo8uTJ2rFjh9ebG7TU1FRlZ2crNzdXL774YrTH0dq1a+X3+5WVldV7340bN5SXl6f0\n9HQtWLBAt27diqn5ysvLlZycrNzcXOXm5qq2tjZq8zU3N+ull17S1KlTNW3aNH3wwQeSYmcfDjTf\nsO1D10P37t1zJ06c6DY2Nrp37951A4GAe+HCBS83OWipqanu9evXoz1GrzNnzri//PKLO23atN77\n3nzzTXfHjh2u67puRUWFu2XLlmiN1+985eXl7vvvvx+1mf6rtbXVDQaDruu6bmdnp5uenu5euHAh\nZvbhQPMN1z709AhfV1enSZMmKTU1VXFxcVq5cqW++uorLzcZFjeGrj2aO3euxo0b1+e+w4cPq6Sk\nRJJUUlKiQ4cORWM0Sf3PJ8XOPkxMTFROTo4kKT4+XhkZGWppaYmZfTjQfNLw7ENPC9/S0qKUlJTe\nPycnJ/f+42KF4ziaP3++ZsyYoT179kR7nH61t7fL7/dLkvx+v9rb26M80cOqqqoUCARUWloa1acc\n/9XU1KRgMKiZM2fG5D78d75Zs2ZJGp596GnhHcfx8uEj4ty5cwoGgzp27Jh27dqls2fPRnskI8dx\nYm6/btiwQY2Njaqvr1dSUpLKysqiPZK6urpUWFioyspKjR49uk8WC/uwq6tLy5YtU2VlpeLj44dt\nH3pa+Oeee07Nzc29f25ublZycrKXmxy0pKQkSVJCQoKWLl2qurq6KE/0ML/fr7a2NklSa2urfD5f\nlCfqy+fz9ZZo3bp1Ud+HPT09KiwsVHFxsQoKCiTF1j78d75Vq1b1zjdc+9DTws+YMUO//fabmpqa\ndPfuXX3xxRfKz8/3cpODcufOHXV2dkqSuru7deLEiT5nn2NFfn6+qqurJUnV1dW9PySxorW1tffr\ngwcPRnUfuq6r0tJSZWZmatOmTb33x8o+HGi+YduHXp8VPHr0qJuenu5OnDjR3bZtm9ebG5QrV664\ngUDADQQC7tSpU2NivpUrV7pJSUluXFycm5yc7H788cfu9evX3Xnz5rmTJ0928/Ly3Js3b8bMfPv2\n7XOLi4vdrKwsNzs7212yZInb1tYWtfnOnj3rOo7jBgIBNycnx83JyXGPHTsWM/uwv/mOHj06bPvQ\ncd0YOb0KwHNcaQdYhMIDFqHwgE3CffJ/7Ngx9/nnn3cnTZrkVlRUPJRL4saNWxRv/Qmr8I9yjXy0\n/7HcuNl6KyoqcqX+qx3Wf+lHyjXyAPoKq/Aj4Rp5AA8Lq/DRvg4ZwMAaGhoGzMIq/Ei4Rh6wlemy\n3LAKH+vXyAPo31Nh/aWnntKHH36ohQsX6v79+yotLVVGRkakZwMQYWEVXpIWL16sxYsXR3IWAB7j\nSjvAIhQesAiFByxC4QGLUHjAIhQesAiFByxC4QGLUHjAIhQesAiFByxC4QGLUHjAIhQesAiFByxC\n4QGLUHjAIhQesAiFByxC4QGLUHjAIhQesAiFByxC4QGLUHjAIhQesAiFByxC4QGLUHjAIhQesAiF\nBywS9ufDp6amasyYMXryyScVFxenurq6SM4FwANhF95xHJ06dUrjx4+P5DwAPDSk/9K7rhupOQAM\ng7AL7ziO5s+frxkzZmjPnj2RnAnAEDQ0NAwcumG6du2a67qu29HR4QYCAffMmTN9ckncuHGLwq2o\nqMiV+q922Ef4pKQkSVJCQoKWLl3KSTtgBAir8Hfu3FFnZ6ckqbu7WydOnFBWVlZEBwMQeWGdpW9v\nb9fSpUslSffu3dOrr76qBQsWRHSwWPfEE+bflXv37jXmr732mjEPdULUcZwh/f1QGhsbjfnnn39u\nzC9dumTMv/zyS2Pe09NjzBGesAqflpam+vr6SM8CwGNcaQdYhMIDFqHwgEUoPGARCg9YhMIDFnFc\nj14BE2qdeKR79tlnjXlzc7On23/w4IEx/+eff4z5qFGjIjnOQ0L9WF28eNGYL1y40Jhfu3Zt0DPZ\noqioSDU1Nf1+DzjCAxah8IBFKDxgEQoPWITCAxah8IBFKDxgkbDftdZ2f/31lzEvKysb0uOHWsfu\n6Ogw5qdPnzbmy5cvH/RM/zVp0iRjXlxcbMwzMzON+YkTJ4aUl5eXG/Pbt28b88cVR3jAIhQesAiF\nByxC4QGLUHjAIhQesAiFByzC6+ERllDf34kTJxrz7777zpiHer+BUD+2ycnJxrytrc2Yj2S8Hh6A\nJAoPWIXCAxah8IBFKDxgEQoPWITCAxYxvh5+7dq1OnLkiHw+nxoaGiRJN27c0IoVK3T16lWlpqbq\nwIEDGjt27LAMi9gRah3877//Nubd3d2RHAePyHiEX7NmjWpra/vcV1FRoby8PF2+fFnz5s1TRUWF\npwMCiBxj4efOnatx48b1ue/w4cMqKSmRJJWUlOjQoUPeTQcgogb9HL69vV1+v1+S5Pf71d7eHvGh\nAHhjSCftHMfhmnkgxvx7vq0/gy683+/vfeFBa2urfD5f+JMBiLisrKwBs0EXPj8/X9XV1ZKk6upq\nFRQUhD8ZgGFlLHxRUZFmz56tS5cuKSUlRZ988om2bt2qb775Runp6fr222+1devW4ZoVwBAZ1+Fr\namr6vf/kyZOeDIPIeeaZZ4x5SkqKMQ/1vvITJkww5q+88ooxHz9+vDEPJdT7yt+/f39Ij/+44ko7\nwCIUHrAIhQcsQuEBi1B4wCIUHrAIhQcswufDx6inn37amIe64Gn27NnG/OWXXzbm0X6NxM2bN435\nihUrjPkff/wRyXEeGxzhAYtQeMAiFB6wCIUHLELhAYtQeMAiFB6wCOvwMWrOnDnG/J133hmmScJz\n69YtY/71118b86qqKmP+008/DXomcIQHrELhAYtQeMAiFB6wCIUHLELhAYtQeMAirMNHyahRo4z5\nW2+95en2Q32++9tvv23Mz58/b8w7OjqM+c8//2zMQ82H8HCEByxC4QGLUHjAIhQesAiFByxC4QGL\nUHjAIsZ1+LVr1+rIkSPy+XxqaGiQJJWXl2vv3r1KSEiQJG3fvl2LFi3yftLHTKj3fX/qqeheIvHD\nDz8Y8++//36YJkEkGY/wa9asUW1tbZ/7HMfR5s2bFQwGFQwGKTswghgLP3fuXI0bN+6h+7kKChiZ\nwnoOX1VVpUAgoNLS0pBvZQQgdgy68Bs2bFBjY6Pq6+uVlJSksrIyL+YCEKZ/z7f1Z9CF9/l8chxH\njuNo3bp1qqurG9JwACIrKytrwGzQhW9tbe39+uDBg8YHBxBbjGs/RUVFOn36tP7880+lpKTo3Xff\n1alTp1RfXy/HcZSWlqbdu3cP16wAhshxPTrlHu3PFx/pMjIyjPmWLVuMeXFx8ZC2/+uvvxrz48eP\nG/NQr6eHd4qKilRTU9PvahpX2gEWofCARSg8YBEKD1iEwgMWofCARSg8YBHelz5GXbx40Zi/8cYb\nQ3r8UOv0gUDAmE+YMMGYf/rpp8b80qVLxhze4AgPWITCAxah8IBFKDxgEQoPWITCAxah8IBFWIcf\nobq6uoy51+v0/b2b8X9t27bNmK9Zs8aY375925gjPBzhAYtQeMAiFB6wCIUHLELhAYtQeMAiFB6w\nCOvwj6mhrtNnZmYa8+nTpxvzJUuWGPOUlBRjfv78eWOO8HCEByxC4QGLUHjAIhQesAiFByxC4QGL\nUHjAIsZ1+ObmZq1evVodHR1yHEfr16/Xxo0bdePGDa1YsUJXr15VamqqDhw4oLFjxw7XzIiA7u5u\nY15XV2fMQ63Dh5KVlWXMWYf3hvEIHxcXp507d+r8+fP68ccftWvXLl28eFEVFRXKy8vT5cuXNW/e\nPFVUVAzXvACGwFj4xMRE5eTkSJLi4+OVkZGhlpYWHT58WCUlJZKkkpISHTp0yPtJAQzZIz+Hb2pq\nUjAY1MyZM9Xe3i6/3y9J8vv9am9v92xAAJHzSIXv6upSYWGhKisrNXr06D6Z4zhyHMeT4QAMXkND\nw4BZyML39PSosLBQxcXFKigokPT/o3pbW5skqbW1VT6fL0KjAhgq0wlRY+Fd11VpaakyMzO1adOm\n3vvz8/NVXV0tSaquru79RQAgthmX5c6dO6f9+/crOztbubm5kqTt27dr69atWr58ufbt29e7LAcg\n9hkLP2fOHD148KDf7OTJk54MhOHhuq4xb25u9nT7TU1Nnj4++seVdoBFKDxgEQoPWITCAxah8IBF\nKDxgEQoPWIT3pX9MJSYmGvP/XjkZTj5UnZ2dnj4++scRHrAIhQcsQuEBi1B4wCIUHrAIhQcsQuEB\ni7AOHyWLFi0y5lOmTDHmodbZX3/9dWM+ZswYYz5UNTU1xvz69euebh/94wgPWITCAxah8IBFKDxg\nEQoPWITCAxah8IBFWIePktTUVGP+3nvvGfNof55feXm5Md++fbsxv3fvXgSnwaPiCA9YhMIDFqHw\ngEUoPGARCg9YhMIDFqHwgEWM6/DNzc1avXq1Ojo65DiO1q9fr40bN6q8vFx79+5VQkKCpP+vuYZ6\nfTf6+uijj4z5kSNHjPnx48eNeTAYNOa///67Mf/ss8+M+ZUrV4z5gwcPjDmiw1j4uLg47dy5Uzk5\nOerq6tL06dOVl5cnx3G0efNmbd68ebjmBBABxsInJib2vrNKfHy8MjIy1NLSIklyXdf76QBE1CM/\nh29qalIwGNSsWbMkSVVVVQoEAiotLdWtW7c8GxBA5DxS4bu6urRs2TJVVlYqPj5eGzZsUGNjo+rr\n65WUlKSysjKv5wTwiBoaGgbMQha+p6dHhYWFWrVqlQoKCiRJPp9PjuPIcRytW7dOdXV1kZsWwJBk\nZWUNmBkL77quSktLlZmZ2efTRFtbW3u/PnjwoHEDAGKH8aTduXPntH//fmVnZys3N1eStG3bNtXU\n1Ki+vl6O4ygtLU27d+8elmEBDI3jenS6Pdqv137ceb1/WYUZuYqKilRTU9Pv95Ar7QCLUHjAIhQe\nsAiFByxC4QGLUHjAIhQesAjvSz9CsU6OcHCEByxC4QGLUHjAIhQesAiFByxC4QGLeLos98ILL/R+\n3draqqSkJC83NyTMNzTMNzSRnC8tLW3AjNfDA4+p/qrt2RGeC0OA2MNzeMAiFB6wCIUHLELhAYtQ\neMAi/wMdVxHeNK7gCgAAAABJRU5ErkJggg==\n",
       "text": [
        "<matplotlib.figure.Figure at 0x2602dd0>"
=======
       "png": "iVBORw0KGgoAAAANSUhEUgAAAPwAAAD5CAYAAAADZljUAAAABHNCSVQICAgIfAhkiAAAAAlwSFlz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\n",
       "text": [
        "<matplotlib.figure.Figure at 0x4e35850>"
>>>>>>> fce8fb7a3e4a2d36e3b8fe92fdc02562028d312c
       ]
      },
      {
       "metadata": {},
       "output_type": "display_data",
<<<<<<< HEAD
       "png": "iVBORw0KGgoAAAANSUhEUgAAAPwAAAD5CAYAAAADZljUAAAABHNCSVQICAgIfAhkiAAAAAlwSFlz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\nTkSuQmCC\n",
       "text": [
        "<matplotlib.figure.Figure at 0x279e850>"
=======
       "png": "iVBORw0KGgoAAAANSUhEUgAAAPwAAAD5CAYAAAADZljUAAAABHNCSVQICAgIfAhkiAAAAAlwSFlz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\nAABJRU5ErkJggg==\n",
       "text": [
        "<matplotlib.figure.Figure at 0x3cb43d0>"
>>>>>>> fce8fb7a3e4a2d36e3b8fe92fdc02562028d312c
       ]
      },
      {
       "metadata": {},
       "output_type": "display_data",
<<<<<<< HEAD
       "png": "iVBORw0KGgoAAAANSUhEUgAAAPwAAAD5CAYAAAADZljUAAAABHNCSVQICAgIfAhkiAAAAAlwSFlz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\nAAAAAElFTkSuQmCC\n",
       "text": [
        "<matplotlib.figure.Figure at 0x27c2d10>"
=======
       "png": "iVBORw0KGgoAAAANSUhEUgAAAPwAAAD5CAYAAAADZljUAAAABHNCSVQICAgIfAhkiAAAAAlwSFlz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\n",
       "text": [
        "<matplotlib.figure.Figure at 0x3c96990>"
>>>>>>> fce8fb7a3e4a2d36e3b8fe92fdc02562028d312c
       ]
      },
      {
       "metadata": {},
       "output_type": "display_data",
<<<<<<< HEAD
       "png": "iVBORw0KGgoAAAANSUhEUgAAAPwAAAD5CAYAAAADZljUAAAABHNCSVQICAgIfAhkiAAAAAlwSFlz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\n",
       "text": [
        "<matplotlib.figure.Figure at 0x296c210>"
=======
       "png": "iVBORw0KGgoAAAANSUhEUgAAAPwAAAD5CAYAAAADZljUAAAABHNCSVQICAgIfAhkiAAAAAlwSFlz\nAAALEgAACxIB0t1+/AAADWRJREFUeJzt3V9I1fcfx/HX97e8s5EDz1FmYGvJtPQoixVj0cJsXTnD\nWMUyyROBNyHFWHezm7SLEc51EdWGEIx1kxMqaWP9Qxhe7AixxhpMQ9zxxHKCFizbPr+LHz9/P0nP\nyXPO95yj7+cDDtT54jnvvvns5Pl8v9/jOeecAJjwr2wPACBzCB4whOABQwgeMITgAUMIHjDE9+D7\n+/v1xhtvaN26dTp16pTfT7dopaWlqqqqUk1Njd56661sj6OWlhYFg0FVVlbO3jcxMaG6ujqVlZVp\nx44dmpyczKn52tvbVVJSopqaGtXU1Ki/vz9r842Ojmrbtm1av369NmzYoM8++0xS7uzDhebL2D50\nPnr27Jlbu3atGx4edk+fPnWhUMjdu3fPz6dctNLSUvfo0aNsjzHr9u3b7scff3QbNmyYve+jjz5y\np06dcs4519nZ6T7++ONsjTfvfO3t7e7TTz/N2kz/LxqNukgk4pxzbmpqypWVlbl79+7lzD5caL5M\n7UNfX+EHBwf1+uuvq7S0VHl5edq7d6+++eYbP58yKS6Hjj3asmWLCgoK5tzX19en5uZmSVJzc7N6\ne3uzMZqk+eeTcmcfFhUVqbq6WpKUn5+v8vJyjY2N5cw+XGg+KTP70Nfgx8bGtHr16tnfl5SUzP7h\ncoXnedq+fbs2btyoc+fOZXucecViMQWDQUlSMBhULBbL8kTP6+7uVigUUjgczuqPHP9vZGREkUhE\nmzZtysl9+N/5Nm/eLCkz+9DX4D3P8/Ph02JgYECRSETXrl3TmTNndOfOnWyPFJfneTm3X1tbWzU8\nPKyhoSEVFxfr2LFj2R5J09PTamxsVFdXl1auXDlnWy7sw+npae3evVtdXV3Kz8/P2D70NfhXX31V\no6Ojs78fHR1VSUmJn0+5aMXFxZKkwsJC7dq1S4ODg1me6HnBYFDj4+OSpGg0qkAgkOWJ5goEArMR\nHTp0KOv7cGZmRo2NjWpqalJDQ4Ok3NqH/51v//79s/Nlah/6GvzGjRv166+/amRkRE+fPtXXX3+t\n+vp6P59yUZ48eaKpqSlJ0uPHj3X9+vU57z7nivr6evX09EiSenp6Zr9JckU0Gp399eXLl7O6D51z\nCofDqqioUFtb2+z9ubIPF5ovY/vQ73cFr1696srKytzatWvdyZMn/X66Rfntt99cKBRyoVDIrV+/\nPifm27t3rysuLnZ5eXmupKTEffHFF+7Ro0eutrbWrVu3ztXV1bk///wzZ+a7cOGCa2pqcpWVla6q\nqsq9//77bnx8PGvz3blzx3me50KhkKuurnbV1dXu2rVrObMP55vv6tWrGduHnnM58vYqAN9xpB1g\nCMEDhqzw40GzveQBWLfQT+pJv8Ln+jHyAOaRzDt9iY6Rl8SNG7cs3haS1Cv8UjlGHsBcSQW/FI6R\nB/C8pILnTTlgaUoq+KVwjDyAeSTzpt3MzIx77bXX3PDwsPvrr794044btxy7LSSpdfgVK1bo888/\n13vvvae///5b4XBY5eXlyTwUgAzy5Vh6fsYHsmuhrDm0FjCE4AFDCB4whOABQwgeMITgAUMIHjCE\n4AFDCB4whOABQwgeMITgAUMIHjCE4AFDCB4whOABQwgeMITgAUMIHjCE4AFDCB4whOABQwgeMITg\nAUMIHjCE4AFDCB4whOABQwgeMITgAUMIHjBkRbJfWFpaqpdfflkvvfSS8vLyNDg4mM65APgg6eA9\nz9PNmzf1yiuvpHMeAD5K6b/0zrl0zQEgA5IO3vM8bd++XRs3btS5c+fSORMAv7gk/f7778455x4+\nfOhCoZC7ffv27DZJ3Lhxy+JtIUm/whcXF0uSCgsLtWvXLt60A5aApIJ/8uSJpqamJEmPHz/W9evX\nVVlZmdbBAKRfUu/Sx2Ix7dq1S5L07Nkzffjhh9qxY0daB1vu2tvbsz2C77Zu3Rp3+7vvvpvS4584\ncSKlr0/VUvw7TCr4NWvWaGhoKN2zAPAZR9oBhhA8YAjBA4YQPGAIwQOGEDxgiOd8OAPG87x0P+Si\nJVrjTbT9k08+Sen5E60Rp/r4yH3Z7GChrHmFBwwheMAQggcMIXjAEIIHDCF4wBCCBwxZtuvwN27c\niLs91XOx4T+/z3dPdL5+Irdu3Yq7PZvny7MOD4DgAUsIHjCE4AFDCB4whOABQwgeMGTZrsPzQZep\nyYW/QySPdXgABA9YQvCAIQQPGELwgCEEDxhC8IAhcT8uuqWlRVeuXFEgENDdu3clSRMTE9qzZ48e\nPHig0tJSXbp0SatWrcrIsIvBdeFT8yLHMSTax0vx89OXu7iv8AcPHlR/f/+c+zo7O1VXV6f79++r\ntrZWnZ2dvg4IIH3iBr9lyxYVFBTMua+vr0/Nzc2SpObmZvX29vo3HYC0WvTP8LFYTMFgUJIUDAYV\ni8XSPhQAf6T0pp3neRxzDSwhiw4+GAxqfHxckhSNRhUIBNI+FAB/LDr4+vp69fT0SJJ6enrU0NCQ\n9qEA+CNu8Pv27dPbb7+tX375RatXr9aXX36p48eP69tvv1VZWZm+//57HT9+PFOzAkjRsj0ffqlL\n9fPrc+G6+zdv3oy7fdu2bZkZxCDOhwdA8IAlBA8YQvCAIQQPGELwgCEEDxjCOvwytRTW8ROtwyda\nx8fCWIcHQPCAJQQPGELwgCEEDxhC8IAhBA8Ywjo85vUi15T3+9r+fB8lj3V4AAQPWELwgCEEDxhC\n8IAhBA8YQvCAIazDI2k3btyIuz3Vc+q5rn3yWIcHQPCAJQQPGELwgCEEDxhC8IAhBA8YEncdvqWl\nRVeuXFEgENDdu3cl/ec86fPnz6uwsFCS1NHRoZ07d859UNbhIf/X6bmu/cKSWoc/ePCg+vv759zn\neZ6OHj2qSCSiSCTyXOwAclfc4Lds2aKCgoLn7vfh4DwAGZDUz/Dd3d0KhUIKh8OanJxM90wAfLLo\n4FtbWzU8PKyhoSEVFxfr2LFjfswFwAeLDj4QCMjzPHmep0OHDmlwcNCPuQD4YNHBR6PR2V9fvnxZ\nlZWVaR0IgH9WxNu4b98+3bp1S3/88YdWr16tEydO6ObNmxoaGpLneVqzZo3Onj2bqVkBpIjz4Rfg\n97ncFiTah4nW6RM5ceJE3O0vcm395Yrz4QEQPGAJwQOGEDxgCMEDhhA8YAjBA4awDr+ARGu4iT4b\nnWuqJ+b3WZfL4fswWazDAyB4wBKCBwwheMAQggcMIXjAEIIHDGEdPkmpXnM90Tp9onO9l8P59n6f\nL2/5uvWswwMgeMASggcMIXjAEIIHDCF4wBCCBwxhHT5Jfq8hJ2JhjTnVb03L161nHR4AwQOWEDxg\nCMEDhhA8YAjBA4YQPGDIingbR0dHdeDAAT18+FCe5+nw4cM6cuSIJiYmtGfPHj148EClpaW6dOmS\nVq1alamZc0Kq151PdZ0+0ddbWKfH4sV9hc/Ly9Pp06f1008/6YcfftCZM2f0888/q7OzU3V1dbp/\n/75qa2vV2dmZqXkBpCBu8EVFRaqurpYk5efnq7y8XGNjY+rr61Nzc7Mkqbm5Wb29vf5PCiBlL/wz\n/MjIiCKRiDZt2qRYLKZgMChJCgaDisVivg0IIH1eKPjp6Wk1Njaqq6tLK1eunLPN8zwTx84Dy0HC\n4GdmZtTY2KimpiY1NDRI+s+r+vj4uCQpGo0qEAj4OyWAtIgbvHNO4XBYFRUVamtrm72/vr5ePT09\nkqSenp7ZfwgA5La4y3IDAwO6ePGiqqqqVFNTI0nq6OjQ8ePH9cEHH+jChQuzy3IAcl/c4N955x39\n888/82777rvvfBlouUh1nT7R58+nej5+Lnx+faI/A9KPI+0AQwgeMITgAUMIHjCE4AFDCB4whOAB\nQ7gu/RKV6ufTp0Oi674nsnXr1rjbU/0zWL4mANelB0DwgCUEDxhC8IAhBA8YQvCAIQQPGMI6/DKV\n7c+vzwV8PvzzeIUHDCF4wBCCBwwheMAQggcMIXjAEIIHDGEdHvN6kXX6XL+uvOXvQ9bhARA8YAnB\nA4YQPGAIwQOGEDxgCMEDhsRdhx8dHdWBAwf08OFDeZ6nw4cP68iRI2pvb9f58+dVWFgoSero6NDO\nnTv/96CG1z/xP36fb76cz2dP1UJZr4j3RXl5eTp9+rSqq6s1PT2tN998U3V1dfI8T0ePHtXRo0d9\nGRaAP+IGX1RUpKKiIklSfn6+ysvLNTY2Jmnhf0EA5K4X/hl+ZGREkUhEmzdvliR1d3crFAopHA5r\ncnLStwEBpM8LBT89Pa3du3erq6tL+fn5am1t1fDwsIaGhlRcXKxjx475PSeANEgY/MzMjBobG7V/\n/341NDRIkgKBgDzPk+d5OnTokAYHB30fFEDq4gbvnFM4HFZFRYXa2tpm749Go7O/vnz5siorK/2b\nEEDaxH3TbmBgQBcvXlRVVZVqamokSSdPntRXX32loaEheZ6nNWvW6OzZsxkZFkBqOB8eWIY4Hx4A\nwQOWEDxgCMEDhhA8YAjBA4YQPGAIwQOGEDxgCMEDhhA8YAjBA4YQPGAIwQOGEDxgSNwLYCSLK9oC\nuYlXeMAQggcMIXjAEIIHDCF4wBCCBwz5NxxM23RX5/BQAAAAAElFTkSuQmCC\n",
       "text": [
        "<matplotlib.figure.Figure at 0x447ac50>"
>>>>>>> fce8fb7a3e4a2d36e3b8fe92fdc02562028d312c
       ]
      },
      {
       "metadata": {},
       "output_type": "display_data",
<<<<<<< HEAD
       "png": "iVBORw0KGgoAAAANSUhEUgAAAPwAAAD5CAYAAAADZljUAAAABHNCSVQICAgIfAhkiAAAAAlwSFlz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\nLQAAAABJRU5ErkJggg==\n",
       "text": [
        "<matplotlib.figure.Figure at 0x29916d0>"
=======
       "png": "iVBORw0KGgoAAAANSUhEUgAAAPwAAAD5CAYAAAADZljUAAAABHNCSVQICAgIfAhkiAAAAAlwSFlz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\n",
       "text": [
        "<matplotlib.figure.Figure at 0x44277d0>"
>>>>>>> fce8fb7a3e4a2d36e3b8fe92fdc02562028d312c
       ]
      },
      {
       "metadata": {},
       "output_type": "display_data",
<<<<<<< HEAD
       "png": "iVBORw0KGgoAAAANSUhEUgAAAPwAAAD5CAYAAAADZljUAAAABHNCSVQICAgIfAhkiAAAAAlwSFlz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\nhAwvhEP8D8LKxLEMWNJ1AAAAAElFTkSuQmCC\n",
       "text": [
        "<matplotlib.figure.Figure at 0x6397b90>"
       ]
      }
     ],
     "prompt_number": 6
=======
       "png": "iVBORw0KGgoAAAANSUhEUgAAAPwAAAD5CAYAAAADZljUAAAABHNCSVQICAgIfAhkiAAAAAlwSFlz\nAAALEgAACxIB0t1+/AAAGepJREFUeJzt3X9M1Pf9B/DnpxRrFUU7+aWgIEIR5VfE4pzYOn6kdpZq\nadaa1jLFtjFbnNM0tVnSuX8qLjGNM01qf8xgurh1MzqdyixbKxbboulRa9FqFRCRHwJqAX8A9rM/\nFu4Levd6yeFx1+/7+Uia0Htyd28/8vKOe71/WLZt2yAiI9zj6wEQ0dBhwRMZhAVPZBAWPJFBWPBE\nBmHBExnE6wVfUlKChIQExMXFYcOGDd5+ugGLjo5GcnIy0tLS8NBDD/l6OFi2bBnCwsKQlJTkvK2t\nrQ05OTmIj49Hbm4uLl++7FfjW7duHSIjI5GWloa0tDSUlJT4bHx1dXWYN28epk2bhunTp+OPf/wj\nAP+5hu7GN2TX0Painp4eOzY21q6urra7urrslJQUu6qqyptPOWDR0dF2a2urr4fhVFZWZn/xxRf2\n9OnTnbe9/PLL9oYNG2zbtu2ioiL7lVde8dXwXI5v3bp19saNG302pr4aGhpsh8Nh27Ztt7e32/Hx\n8XZVVZXfXEN34xuqa+jVV/iKigpMmTIF0dHRCAwMxDPPPIN//OMf3nxKj9h+NPcoMzMTY8eO7Xfb\n7t27UVBQAAAoKCjArl27fDE0AK7HB/jPNQwPD0dqaioAICgoCFOnTkV9fb3fXEN34wOG5hp6teDr\n6+sRFRXl/P/IyEjnH85fWJaF7OxspKen45133vH1cFxqampCWFgYACAsLAxNTU0+HtHtNm/ejJSU\nFBQWFvr0V46+ampq4HA4kJGR4ZfXsHd8s2bNAjA019CrBW9Zljcf/q4oLy+Hw+HA/v378eabb+LQ\noUO+HpLIsiy/u64rVqxAdXU1KisrERERgTVr1vh6SOjo6EB+fj42bdqEUaNG9cv84Rp2dHTgqaee\nwqZNmxAUFDRk19CrBT9hwgTU1dU5/7+urg6RkZHefMoBi4iIAACEhIRg0aJFqKio8PGIbhcWFobG\nxkYAQENDA0JDQ308ov5CQ0OdRbR8+XKfX8Pu7m7k5+djyZIlWLhwIQD/uoa943vuueec4xuqa+jV\ngk9PT8fp06dRU1ODrq4u/PWvf0VeXp43n3JArl69ivb2dgBAZ2cnDhw40O/TZ3+Rl5eH4uJiAEBx\ncbHzh8RfNDQ0OL/euXOnT6+hbdsoLCxEYmIiVq1a5bzdX66hu/EN2TX09qeC+/bts+Pj4+3Y2Fj7\n9ddf9/bTDcjZs2ftlJQUOyUlxZ42bZpfjO+ZZ56xIyIi7MDAQDsyMtL+05/+ZLe2ttpZWVl2XFyc\nnZOTY1+6dMlvxvfee+/ZS5YssZOSkuzk5GT7iSeesBsbG302vkOHDtmWZdkpKSl2amqqnZqaau/f\nv99vrqGr8e3bt2/IrqFl237y8SoReR1n2hEZhAVPZJB7vfGgvm55EJnO3W/qHhd8SUkJVq1ahZs3\nb2L58uV45ZVX+uVLly51fu1wOJCWltYvHz58uPj4J06cEPOf/OQnYn7fffeJeVtbm/Przz77zDn5\nodfo0aPF++/bt0/Mc3JyxPzChQtiPm7cOOfXhw8fxuzZs/vln3/+uXj/3u6DOzExMWJ+7tw5MQeA\nxx57DABQVlaGuXPn3pafOXNGvP+998o/fi0tLWLe2dkp5mVlZWL+hz/8QcwPHz4s5tr4+k46c2XM\nmDEAgCNHjmDmzJm35dokNXfPL43bo7f0N2/exK9+9SuUlJSgqqoK27dvVwuUiHzPo4L/ocyRJ6L+\nPHpL72qO/K1vMR0Oh/PrYcOGeTi8oeFvs/9upb019LVJkyb5egg/aOPHjx/U/a9cuYLvvvvujr7X\no4K/kw/lbv2d3Z+x4AeHBT84EyZMGNT9g4ODERwc7Pz/vtPZb+XRW/ofwhx5IrqdRwXv73Pkicg1\nj6fW7t+/39mWKywsxKuvvvp/D2pZzkX+7iQkJIj5tWvXxDwoKEjM+7bdXImOjhbzq1evivmIESPE\n/NixY2I+ffp0Ma+pqRFzbT231naLjY0Vc1ebXNyqq6tLzEtLSwf1HNpb3Z6eHjHXfjeurKwU8/Dw\ncDHXWpdPPvmkmGttP+35r1y54vL2t9566+734efPn4/58+d7enci8gFOrSUyCAueyCAseCKDsOCJ\nDMKCJzIIC57IIF5ZDw+g31Q/V6ZNmybmf/7zn8Vcm7rbd1NAV3qXJrojTU8EgJSUFDHXpsNqPWxt\nnoG26+o998j/lgcEBIj5nczv/vbbb8U8PT1dzG/evCnmR48eFXPtZ0xbgty7T7072lyQW5dU32rL\nli1inpWVJeba8lttCbcrfIUnMggLnsggLHgig7DgiQzCgicyCAueyCAseCKD+KwPr60l1vrY2j55\nvafCutPR0SHmcXFxYt7a2irm2npzrYc9ceJEMQ8MDBTzixcvivmpU6fEXNsCGnC/93mv7u5uMS8v\nLxdzba7F/fffL+Y3btwQc23PAW29fUhIiJhrc0327Nkj5q62ru5L2+bbFb7CExmEBU9kEBY8kUFY\n8EQGYcETGYQFT2QQFjyRQbzWh9fWi2vHHWs9XG0ttXb8kdZj1daTaz1o7ayv8+fPi/mMGTPE/Pjx\n42KurXd/4IEHxFy7voB+jc6ePSvm2r7z1dXVYq6dLaCt6R85cqSYa3sOvPPOO2J+6xHft3J1xHZf\nzc3NYq6dneAKX+GJDMKCJzIIC57IICx4IoOw4IkMwoInMggLnsggXuvDaz1Uba3ynDlzxFzrsWpr\njePj48VcWw+u7Vuv9ZhHjRol5tqe6u3t7WI+btw4MbcsS8zr6+vFHNDX1D/88MNirp1/fuzYMTHX\n9hzQ1rtrZxNocy0yMjLEXPs70vbF1+ZqrFixwuXtO3bscHsfjws+Ojoao0ePRkBAAAIDA1FRUeHp\nQxHREPG44C3Lwscff6zO2CIi/zGot/TSW56+b8fCwsLUty9E5JmTJ0/im2++uaPvHdQrfHZ2NgIC\nAvDSSy/hhRde6JcnJyd7+tBENAAJCQlISEhw/v/u3bvdfq/HBV9eXo6IiAhcvHgROTk5SEhIQGZm\npqcPR0RDwOO2XO+usCEhIVi0aBE/tCP6AfCo4K9evepsOXR2duLAgQNISkq6qwMjorvPo7f0TU1N\nWLRoEYD/rSt/9tlnkZub2+97srOzxcd46623xFx7x6D1ubU+u/R7DqCf3a2txdb62I888oiYX7ly\nRcy1ffW1/QC0tdSJiYliDujnv3d1dYm59jnP5cuXxVybC6HtCaCdXaDtO691qLS5KEeOHBHz1NRU\nMS8tLRVzVzwq+JiYGFRWVnpyVyLyIU6tJTIIC57IICx4IoOw4IkMwoInMggLnsggXlsPf+bMGTHX\n+thjx44Vc+38+K+++krMf/e73w3q8bX17Np6/+HDh4u5thjiF7/4hZh/9NFHYq6dG6CdXw8AI0aM\nEHNt33rtfHNtLoT2d3D9+nUx135GtPXygz3bQDvf/tq1a2Lubir79u3b3Y9JfEQi+n+FBU9kEBY8\nkUFY8EQGYcETGYQFT2QQFjyRQSxb23zbkwe1LLXPrq0HP3nypJhrZ2e/9tprYl5QUCDmhw4dEnPt\n/HqtD6+tFdf69Nqe7w6HQ8y//PJLMdf+/gBg5syZYr5r1y4x1/b+//7778Vcu8ban/Gxxx4T86NH\nj4r56NGjxVybJ6D9HU2cOFHM3dXA1q1b3W4wy1d4IoOw4IkMwoInMggLnsggLHgig7DgiQzCgicy\niNf68L371ruj9bHj4uLEXNvT+5e//KWYa2eba+vFtbXS2vnugYGBYq7tea49/9dffy3mWg9b27cf\nAIKCgsRc21f9008/FfNLly6J+eOPPy7me/bsEXNtPb42fm1vf229vbbvvbaef+TIkS5v//vf/84+\nPBGx4ImMwoInMggLnsggLHgig7DgiQzCgicyiNiIXLZsGfbu3YvQ0FBnT7GtrQ1PP/00amtrER0d\njQ8++MBlT3j27NniE9fU1Ij5lClTxPzzzz8Xc62Hu2DBAjHX+vTavu1an1s7G72xsVHMtR6vdj68\ntp5eO58e0NeDt7a2irm277p2frt29kFaWpqYa/vCa3167WdYm6egzbXQ1tPX1taKuSviK/zSpUtR\nUlLS77aioiLk5OTg1KlTyMrKQlFR0YCflIh8Qyz4zMzM206A2b17t3O3mIKCAnVXEyLyHwM+aqqp\nqQlhYWEAgLCwMDQ1Nbn8vgMHDji/jo2NRWxsrIdDJCLJxYsX0dLSckffO6iz5SzLgmVZLrPc3NzB\nPDQR3aGQkJB+8/Kl/SAH/Cl9WFiY8wOlhoYGhIaGejBEIvKFARd8Xl4eiouLAQDFxcVYuHDhXR8U\nEXmHWPCLFy/G7Nmz8c033yAqKgpbt27F2rVr8eGHHyI+Ph7/+c9/sHbt2qEaKxENktfWw7/88svi\n9xw7dkx9DInWQ9X63FqPWOvxBgcHi7nWB3f3YWcvd2d/9xo2bJiYa3u6a/viZ2RkiDmgnx2grdkv\nKysTc21Nf2RkpJhXV1eLeXt7u5jf2qG6lTZXQeuza/vyz5gxQ8wPHjzo8vZPPvmE6+GJiAVPZBQW\nPJFBWPBEBmHBExmEBU9kEBY8kUG81oefN2+e+D3avu/a2dxanzsgIEDMtbXY2v3j4+PFXDtfXuvB\nan1yba23uz3Le2nzFLTrC+h9bG2ugTZX4Pjx42KurUfXzlfXnl87G0E7313r03/33Xdirs31cDfP\nYfv27ezDExELnsgoLHgig7DgiQzCgicyCAueyCAseCKDDGpPO8n48ePF/G9/+5uYZ2dni7m21nny\n5Mli3rsRpztan73vJp2uaD1YbT37iBEjxFzbl76np0fM9+3bJ+a//e1vxRzQzx7Qzj9vbm4Wc229\nvbYeXruGGq1Pr+3Lr8210H4Gx40bJ+aeTKHhKzyRQVjwRAZhwRMZhAVPZBAWPJFBWPBEBmHBExnE\na314rc+8cuVKMf/000/F/MknnxTz0tJSMdfWSn/xxRdirp1fr9HWu7e1tYm5dna4tq/82bNnxVzr\ngQPAhAkTxFzbl17rI8+aNUvMtbkE169fF/PAwEAx1/bFT01NFfNz586J+fnz58X8kUceEfM7+Tu6\nFV/hiQzCgicyCAueyCAseCKDsOCJDMKCJzIIC57IIGIfftmyZdi7dy9CQ0Od66/XrVuHd99917nW\nef369Xj00Udvu6/Wo/3222/FXFsLXFdXJ+anT58Wc20t8ieffCLmL7zwgphXVFSIuTYPQNtXXutx\nnzhxQsyHDx8u5j/60Y/EHPjfz4Lk7bffFvP7779fzLX15tre/NqeBNrPYEdHh5hrc0U02lwVy7LE\nXFuv74r4Cr906VKUlJTcNojVq1fD4XDA4XC4LHYi8k9iwWdmZmLs2LG33e6Fw2qIaAh4NLV28+bN\n2LZtG9LT07Fx40aXby/LysqcX0+aNOmOji4iooG7cOECLly4cEffO+AP7VasWIHq6mpUVlYiIiIC\na9ascfl9c+fOdf7HYifynvHjxyM9Pd35n2TABR8aGgrLsmBZFpYvX65+OEVE/mPABd/Q0OD8eufO\nnUhKSrqrAyIi7xF/h1+8eDEOHjyIlpYWREVF4fe//z0+/vhjVFZWwrIsxMTEYMuWLUM1ViIaJK+d\nD7948WLxe7QeorZv/bPPPivm994rfx5ZX18v5jdu3BjU42dmZop533dKrmhnk+/Zs0fMf/rTn4r5\n/v37xfxOPnfR1uRr69GXLl0q5tr58Nr56rt27RJz7RprcxECAgLE/PLly2IeHh4u5tpcEHfr+Q8e\nPMjz4YmIBU9kFBY8kUFY8EQGYcETGYQFT2QQFjyRQby2L712NrirVXh9/eY3vxFzrQ/+73//W8y1\n9fraWuvc3Fwxr62tFXNt33utx33PPfK/1adOnRJzbS26thYbAKqrq8Vcu4YtLS1irq3Z1+ZKZGVl\nibl2Pn15ebmYa+fPa3MZGhsbxTw7O1vMq6qqxNwVvsITGYQFT2QQFjyRQVjwRAZhwRMZhAVPZBAW\nPJFBvNaH1/aN187e1taLJyYmirnWgz148KCYBwcHi7k2/piYGDHPy8sT8x07doi5No9A21NdW0u+\nYMECMQeApqYmMXc4HGKu9eG1uQ7aXA7tZ+jatWtirp2NMHnyZDFvb28Xc22ewc2bN8Vc+xl1ha/w\nRAZhwRMZhAVPZBAWPJFBWPBEBmHBExmEBU9kEK/14bXzyzUXL14Uc60PrfXZMzIyxHzKlClivnXr\nVjF/4oknxDw+Pl7Md+7cKeavvfaamGvXX1sLru2JDrjfF71XZGSkmGtjPHfunJhPmzZNzEeOHCnm\n2jwCbT1/TU2NmEdHR4u5tqeBtmdCWFiYmLt8zgHfg4h+sFjwRAZhwRMZhAVPZBAWPJFBWPBEBmHB\nExlEPB++rq4Ozz//PJqbm2FZFl588UWsXLkSbW1tePrpp1FbW4vo6Gh88MEH/XqqlmVh3rx54hNr\n+65rferKykox1/YMf/DBB8Vc25ddOxtc61FPnDhRzDs7O8V8zpw5Yv7SSy+JeVRUlJhfunRJzAF9\nb3ttvXh9fb2Yv/rqq2L+z3/+U8y1vfmFH30Aep9cmysyevRoMe/u7hZzbR5AT0+Py9vXr1/v2fnw\ngYGBeOONN/D111/js88+w5tvvokTJ06gqKgIOTk5OHXqFLKyslBUVCQOjIj8g1jw4eHhSE1NBQAE\nBQVh6tSpqK+vx+7du1FQUAAAKCgowK5du7w/UiIatDueWltTUwOHw4GMjAw0NTU5p/WFhYW5nKLY\n9xiiMWPGqNsREZFnamtr1WnIve6o4Ds6OpCfn49Nmzbd9ru3ZVkuf9/V9nQjortj0qRJ/c6xk9ZB\nqJ/Sd3d3Iz8/H0uWLMHChQsB/O9VvfcgvIaGBoSGhg52zEQ0BMSCt20bhYWFSExMxKpVq5y35+Xl\nobi4GABQXFzs/IeAiPyb+Ja+vLwc77//PpKTk50tgvXr12Pt2rX4+c9/jvfee8/ZliMi/ycW/Jw5\nc/D999+7zEpLS8UHDg8PF3N3PcRe2tnZcXFxYq6th+/tPrjzl7/8Rcznzp0r5tpaa63P/uijj4q5\nttb817/+tZifP39ezP/1r3+JOaD/GbTPcc6ePSvm2r7xP/vZz8RcW49+9OhRMdd+Bu+9V/4ITNtX\n/vr162J+/PhxMU9KShJzVzjTjsggLHgig7DgiQzCgicyCAueyCAseCKDsOCJDOKz8+Gzs7PF/Msv\nvxRzbS1zRESEmGvr4fPz88W8qqpKzL/66isx1/bV37Ztm5g//PDDYj5s2DAxDwkJEXPtzw/o67nd\nzeHo1Xf+tyvaGfbaevePPvpIzGfMmCHm2oIUbc8F7f7anglaDaWnp4u5K3yFJzIIC57IICx4IoOw\n4IkMwoInMggLnsggLHgig3itD6+tRdb29NZ6sNq+99pa4rKyMjHXeqStra1ivmDBAjHXzvY+fPiw\nmO/YsUPMteuv9aC1fe8B/Qx7bc8CbS6AtmZ//PjxYh4cHCzm2r722jwBbV9+ba6I1qcfPny4mGtz\nPVzhKzyRQVjwRAZhwRMZhAVPZBAWPJFBWPBEBmHBExnEa3147XxxbU9ubc/xQ4cOibm2J/qFCxfE\nXFvrre1rr80j0Hq02r7+x44dE3NtT3RtrfXp06fFHABSUlLEXOtTa/evrKwUc1dnGval7Xuvje/y\n5cti3tXVJeYPPfSQmE+ZMkXMGxoaxHzMmDFi7gpf4YkMwoInMggLnsggLHgig7DgiQzCgicyCAue\nyCBiH76urg7PP/88mpubYVkWXnzxRaxcuRLr1q3Du+++61zPvH79+tvOM6+vrxefWOtza2uZq6ur\nxXzs2LFi3tzcLOajRo0S8ytXroj51KlTxVzr02t9cG0/AK0P39LSIua1tbViDujr1ePj4wd1f+0a\nbdiwQcxzc3PFXFuPr+1ZoJ1NoJ2toK1nnzt3rphr8whcEQs+MDAQb7zxBlJTU9HR0YEZM2YgJycH\nlmVh9erVWL169YCfkIh8Ryz48PBw54yvoKAgTJ061fnKrc0UIyL/c8dTa2tqauBwODBr1iyUl5dj\n8+bN2LZtG9LT07Fx48bbpvk1NjY6vw4KCkJQUNDdGzUROdXV1alTpXvd0Yd2HR0deOqpp7Bp0yYE\nBQVhxYoVqK6uRmVlJSIiIrBmzZrb7tP77iA8PJzFTuRFUVFRmD17tvM/iVrw3d3dyM/Px3PPPYeF\nCxcCAEJDQ2FZFizLwvLly1FRUXF3Rk5EXiUWvG3bKCwsRGJiIlatWuW8ve8qnp07dyIpKcl7IySi\nu0b8Hb68vBzvv/8+kpOTkZaWBgB4/fXXsX37dlRWVsKyLMTExGDLli1DMlgiGhyx4OfMmePyjO/5\n8+erD6ytFZ45c6aYa310rY+v9Si1tcraen7t/PWenh4xP3HihJhrPvzwQzFPTk4W88mTJ4t5W1ub\nOoaJEyeK+bVr18S8tLRUzLU9AX784x+LeUREhJhrff6AgAAxv3Hjhphr1/i+++4Tc229v3a2gyuc\naUdkEBY8kUFY8EQGYcETGYQFT2QQFjyRQVjwRAbx2r702p7j2lporYerrbXW1jJr6821Pr92/rq2\nXl9bb//AAw+I+eOPPy7m2p7s2r78R44cEXNAn8ug9cG1a3DmzBkx1+Zy7N27V8wffPBBMX/77bfF\nXNvz4OTJk2KuzSPQ/vyxsbFi7gpf4YkMwoInMsiQFHxTU9NQPI3HtCN9fM3fx6f9euBrHR0dvh6C\nSPv1724akoLX9o/ztb6bdfgjfx+fv/+D1NnZ6eshiGpqaobsufiWnsggLHgig1i2F3aj1Jb1EZF3\nuStrr/ThuaMtkX/iW3oig7DgiQzCgicyCAueyCAseCKDsOCJDPJfnxZkxhrOFckAAAAASUVORK5C\nYII=\n",
       "text": [
        "<matplotlib.figure.Figure at 0x45a5d10>"
       ]
      },
      {
       "metadata": {},
       "output_type": "display_data",
       "png": "iVBORw0KGgoAAAANSUhEUgAAAPwAAAD5CAYAAAADZljUAAAABHNCSVQICAgIfAhkiAAAAAlwSFlz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\nQmCC\n",
       "text": [
        "<matplotlib.figure.Figure at 0x3cc6fd0>"
       ]
      },
      {
       "metadata": {},
       "output_type": "display_data",
       "png": "iVBORw0KGgoAAAANSUhEUgAAAPwAAAD5CAYAAAADZljUAAAABHNCSVQICAgIfAhkiAAAAAlwSFlz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\nuaecSAwxqAAAAABJRU5ErkJggg==\n",
       "text": [
        "<matplotlib.figure.Figure at 0x55e0990>"
       ]
      },
      {
       "metadata": {},
       "output_type": "display_data",
       "png": "iVBORw0KGgoAAAANSUhEUgAAAPwAAAD5CAYAAAADZljUAAAABHNCSVQICAgIfAhkiAAAAAlwSFlz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\nRU5ErkJggg==\n",
       "text": [
        "<matplotlib.figure.Figure at 0x5432e90>"
       ]
      }
     ],
     "prompt_number": 12
>>>>>>> fce8fb7a3e4a2d36e3b8fe92fdc02562028d312c
    },
    {
     "cell_type": "code",
     "collapsed": false,
     "input": [],
     "language": "python",
     "metadata": {},
     "outputs": []
    }
   ],
   "metadata": {}
  }
 ]
}