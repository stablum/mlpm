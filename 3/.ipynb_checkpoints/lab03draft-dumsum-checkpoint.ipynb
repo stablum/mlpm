{
 "metadata": {
  "name": ""
 },
 "nbformat": 3,
 "nbformat_minor": 0,
 "worksheets": [
  {
   "cells": [
    {
     "cell_type": "markdown",
     "metadata": {},
     "source": [
      "# Lab 2: Bayesian PCA\n",
      "\n",
      "### Machine Learning: Principles and Methods, November 2013\n",
      "\n",
      "* The lab exercises should be made in groups of three people, or at least two people.\n",
      "* The deadline is Wednesday, 11 December, 23:59.\n",
      "* Assignment should be sent to T.S.Cohen at uva dot nl (Taco Cohen). The subject line of your email should be \"[MLPM2013] lab#_lastname1\\_lastname2\\_lastname3\". \n",
      "* Put your and your teammates' names in the body of the email\n",
      "* Attach the .IPYNB (IPython Notebook) file containing your code and answers. Naming of the file follows the same rule as the subject line. For example, if the subject line is \"[MLPM2013] lab01\\_Kingma\\_Hu\", the attached file should be \"lab01\\_Kingma\\_Hu.ipynb\". Only use underscores (\"\\_\") to connect names, otherwise the files cannot be parsed.\n",
      "\n",
      "Notes on implementation:\n",
      "\n",
      "* You should write your code and answers in an IPython Notebook: http://ipython.org/notebook.html. If you have problems, please contact us.\n",
      "* Among the first lines of your notebook should be \"%pylab inline\". This imports all required modules, and your plots will appear inline.\n",
      "* NOTE: test your code and make sure we can run your notebook / scripts!"
     ]
    },
    {
     "cell_type": "markdown",
     "metadata": {},
     "source": [
      "### Introduction\n",
      "\n",
      "In this lab assignment, we will implement a variational algorithm for Bayesian PCA. Unlike regular PCA based on maximization of retained variance or minimization of projection error (see Bishop, 12.1.1 and 12.1.2), probabilistic PCA defines a proper density model over observed and latent variables. We will work with a fully Bayesian model this time, which is to say that we will put priors on our parameters and will be interested in learning the posterior over those parameters. Bayesian methods are very elegant, but require a shift in mindset: we are no longer looking for a point estimate of the parameters (as in maximum likelihood or MAP), but for a full posterior distribution.\n",
      "\n",
      "The integrals involved in a Bayesian analysis are usually analytically intractable, so that we must resort to approximations. In this lab assignment, we will implement the variational method described in Bishop99. Chapters 10 and 12 of the PRML book contain additional material that may be useful when doing this exercise.\n",
      "\n",
      "* [Bishop99] Variational Principal Components, C. Bishop, ICANN 1999 - http://research.microsoft.com/pubs/67241/bishop-vpca-icann-99.pdf\n",
      "\n",
      "Below, you will find some code to get you started."
     ]
    },
    {
     "cell_type": "code",
     "collapsed": false,
     "input": [
      "%pylab inline\n",
      "import scipy.special as sp\n",
      "\n",
      "class BayesianPCA(object):\n",
      "    \n",
      "    def __init__(self, d, N, a_alpha=10e-3, b_alpha=10e-3, a_tau=10e-3, b_tau=10e-3, beta=10e-3):\n",
      "        \"\"\"\n",
      "        \"\"\"\n",
      "        self.d = d # number of dimensions\n",
      "        self.N = N # number of data points\n",
      "        \n",
      "        # Hyperparameters\n",
      "        self.a_alpha = a_alpha\n",
      "        self.b_alpha = b_alpha\n",
      "        self.a_tau = a_tau\n",
      "        self.b_tau = b_tau\n",
      "        self.beta = beta\n",
      "\n",
      "        # Variational parameters\n",
      "        self.means_x = np.random.randn(d, N) # called x in bishop99\n",
      "        self.sigma_x = np.random.randn(d, d)\n",
      "        self.mean_mu = np.random.randn(d, 1)\n",
      "        self.sigma_mu = np.random.randn(d, d)\n",
      "        self.means_w = np.random.randn(d, d)\n",
      "        self.sigma_w = np.random.randn(d, d)\n",
      "        self.a_alpha_tilde = self.a_alpha + d/2.0\n",
      "        self.bs_alpha_tilde = np.abs(np.random.randn(d, 1))\n",
      "        self.a_tau_tilde = self.a_tau + (N*d)/2.0\n",
      "        self.b_tau_tilde = np.abs(np.random.randn(1)) \n",
      "    \n",
      "    # WtW = E[W.t W]. element WtW(i,j) = sum_d E[W_id * W_dj] = sum_d cov(W_id, W_dj) + E[W_id] * E[W_dj] \n",
      "    # covariance is zero unless the two elements are in the same column, which is only  \n",
      "    # the case during the summation if d = j so WtW(i,j) = sigma_w[j,j] + mean_w_i: * mean_w_:j\n",
      "    def get_exp_WtW(self):\n",
      "        exp_WtW = np.zeros((self.d,self.d))\n",
      "        for i in range(self.d):\n",
      "            diagonal_sigma = np.array([np.diag(self.sigma_w)]).T            \n",
      "            dot_product = np.dot(self.means_w, np.array([self.means_w[:,i]]).T)            \n",
      "            exp_WtW[:,i] = (diagonal_sigma + dot_product)[:,0]\n",
      "        return exp_WtW\n",
      "    \n",
      "    def update_x(self, D):\n",
      "        #update sigma of x\n",
      "        exp_tau = self.a_tau_tilde / float(self.b_tau_tilde)\n",
      "        exp_WtW = self.get_exp_WtW()\n",
      "        to_invert = numpy.identity(self.d)+(exp_tau * exp_WtW)\n",
      "        if np.linalg.det(to_invert)==0:\n",
      "            print 'determinant is 0:\\n', to_invert\n",
      "        self.sigma_x = numpy.linalg.inv(to_invert)\n",
      "                \n",
      "        # update mu of x\n",
      "        for n in range(self.N):\n",
      "            diff = np.array([D[:,n]]).T - self.mean_mu \n",
      "            product1 = np.dot(self.sigma_x, self.means_w.T)\n",
      "            product2 = np.dot(product1, diff)\n",
      "            self.means_x[:,n] = exp_tau * product2[:,0]            \n",
      "        \n",
      "    \n",
      "    def update_mu(self, D):\n",
      "        # Update sigma of mu        \n",
      "        exp_tau = self.a_tau_tilde / float(self.b_tau_tilde)\n",
      "        self.sigma_mu = (1/float(self.beta+N*exp_tau)) * numpy.identity(self.d)\n",
      "                \n",
      "        summed = np.zeros((self.d,1))\n",
      "        # Update means of mu \n",
      "        for n in range(self.N):\n",
      "            exp_xn = np.array([self.means_x[:,n]]).T\n",
      "            tn = np.array([D[:,n]]).T\n",
      "            product  = np.dot(self.means_w, exp_xn)\n",
      "            diff = tn - product\n",
      "            summed += diff\n",
      "        final_product = np.dot(self.sigma_mu, summed)\n",
      "        self.mean_mu = exp_tau *  final_product\n",
      "        \n",
      "            \n",
      "    def update_w(self, D):\n",
      "        # Update sigma of W\n",
      "        exp_tau = self.a_tau_tilde / float(self.b_tau_tilde)\n",
      "        \n",
      "        exp_alpha =map( lambda x : self.a_alpha_tilde/float(x), self.bs_alpha_tilde)\n",
      "        exp_alpha_diag = np.diag(exp_alpha) \n",
      "        \n",
      "        sum_exp_xxt = np.zeros((self.d,self.d))\n",
      "        for i in range(self.N):\n",
      "            exp_x = np.array([self.means_x[:,i]]).T\n",
      "            exp_xxt = np.dot(exp_x, exp_x.T)\n",
      "            sum_exp_xxt = sum_exp_xxt +  exp_xxt\n",
      "                \n",
      "        self.sigma_w = numpy.linalg.inv(exp_alpha_diag +  (exp_tau * sum_exp_xxt))\n",
      "                \n",
      "        # Update mu of W\n",
      "        # w(k) is a column\n",
      "        for k in range(self.d):# for each column\n",
      "            summed = np.zeros((self.d,1))\n",
      "            for i in range(self.N):\n",
      "                exp_xn = self.means_x[:,i]\n",
      "                diff = D[k,i] - self.mean_mu[k]\n",
      "                product = exp_xn * diff                \n",
      "                summed = summed + array([product]).T\n",
      "            \n",
      "            #print 'xn', exp_xn.shape, 'diff', diff.shape, 'prod', product.shape, 'summed', summed.shape            \n",
      "            #print 'shape summed:\\n', summed.shape\n",
      "            self.means_w[:,k] = np.dot(np.multiply(exp_tau, self.sigma_mu), summed)[:,0]        \n",
      "        \n",
      "        \n",
      "    def update_alpha(self):\n",
      "        # a_alpha_tilde is a constant: a_alpha + d/2 so set it in the initialization and do not change anymore\n",
      "        \n",
      "        # b alpha tilde\n",
      "        for i in range(self.d):\n",
      "            wi = np.array([self.means_w[:,i]]).T\n",
      "            exp_wtw =  np.trace(self.sigma_w) + np.dot(wi.T, wi)\n",
      "                        \n",
      "            self.bs_alpha_tilde[:,0] = self.b_alpha + exp_wtw/2.0\n",
      "                \n",
      "        \n",
      "    def update_tau(self, D):\n",
      "        # a_tau is a constant so set in the initialization\n",
      "        \n",
      "        exp_WtW = self.get_exp_WtW()\n",
      "        exp_mutmu = np.trace(self.sigma_mu) + np.dot(self.mean_mu.T, self.mean_mu)        \n",
      "        summed = 0.0\n",
      "        \n",
      "        for i in range(N):\n",
      "            tn = np.array([D[:,i]]).T\n",
      "            summed += np.dot(tn.T, tn) + exp_mutmu \n",
      "            xi = np.array([self.means_x[:,i]]).T            \n",
      "            summed += np.trace(np.dot(exp_WtW, (np.dot(xi, xi.T) +self.sigma_x)))\n",
      "            summed += 2.0 * np.dot(np.dot(self.mean_mu.T, self.means_w), self.means_x[:,i])\n",
      "            summed -= 2.0 * np.dot(np.dot(tn.T, self.means_w),self.means_x[:,i])\n",
      "            summed -= 2.0 * np.dot(tn.T, self.mean_mu)\n",
      "                \n",
      "        self.b_tau_tilde = self.b_tau + 0.5* summed\n",
      "        \n",
      "        \n",
      "        \n",
      "    def L(self, X):\n",
      "        L = 0.0\n",
      "        return L\n",
      "    \n",
      "    def fit(self, X, max_it):\n",
      "        print 'dimensions data:', X.shape\n",
      "        self.update_tau(X)\n",
      "        for i in range(max_it):\n",
      "            if i%10 == 0:\n",
      "                print i,\n",
      "            \n",
      "            self.update_tau(X)\n",
      "            self.update_mu(X)\n",
      "            self.update_alpha()            \n",
      "            self.update_w(X)\n",
      "            self.update_x(X)  \n",
      "            \n",
      "            \n",
      "            #print '\\n w at',i, ':\\n', self.means_w\n",
      "            \n",
      "            if i%100==0:\n",
      "                print '\\n w after',i+1, 'iterations:\\n', self.means_w\n",
      "                \n",
      "        print '\\n w final:\\n', self.means_w"
     ],
     "language": "python",
     "metadata": {},
     "outputs": [
      {
       "output_type": "stream",
       "stream": "stdout",
       "text": [
        "Populating the interactive namespace from numpy and matplotlib\n"
       ]
      }
     ],
     "prompt_number": 24
    },
    {
     "cell_type": "code",
     "collapsed": false,
     "input": [
      "# matrix with orthonormal vectors\n",
      "A = np.array([ [0.4246,-0.1753,-0.1466,-0.0956,0.7864,0.3741]\n",
      "                ,[0.5199,0.3483,0.2280,-0.4751,-0.4102,0.4031]\n",
      "                ,[-0.2212,-0.7183,-0.2838,-0.2656,-0.3263,0.4213]\n",
      "                ,[-0.5600,0.0724,0.6716,-0.1030,0.2397,0.4025]\n",
      "                ,[0.2692,-0.1393,0.2114,0.8147,-0.2223,0.3876]\n",
      "                ,[-0.3382,0.5544,-0.5918,0.1422,-0.0037,0.4558]])\n",
      "\n",
      "# eigenvalues on a diagonal matrix representing the magnitude of the variance\n",
      "L = np.diag( [17,16,15,14,1,1])\n",
      "\n",
      "# Covariance matrix generated based on A and L\n",
      "covariance = np.dot(np.dot(A, L) , A.T)\n",
      "means = [2,2,2,2,2,2]\n",
      "\n",
      "dims = 6\n",
      "N = 500\n",
      "\n",
      "data = numpy.random.multivariate_normal(means, covariance, (N)).T\n",
      "\n",
      "#print 'Plot of the first three dimensions of the data'\n",
      "#plot_data(data)\n",
      "\n",
      "bay_pca = BayesianPCA(dims,N)\n",
      "bay_pca.fit(data, 500)"
     ],
     "language": "python",
     "metadata": {},
     "outputs": [
      {
       "output_type": "stream",
       "stream": "stdout",
       "text": [
        "dimensions data: (6, 500)\n",
        "0"
       ]
      },
      {
       "output_type": "stream",
       "stream": "stdout",
       "text": [
        " \n",
        " w after 1 iterations:\n",
        "[[ 0.07627541  0.04305321  0.06143312 -0.1359948  -0.05019948  0.09815031]\n",
        " [ 0.01384036 -0.13427203  0.16646194  0.06421134 -0.18173069 -0.00444168]\n",
        " [-0.27501191 -0.5646636  -0.03106981  0.25712981  0.18964213  0.1652049 ]\n",
        " [-0.03031745  0.00899467 -0.20082111  0.00226765  0.06473084  0.14136016]\n",
        " [ 0.01100216  0.02737552 -0.14180826  0.09614918  0.0741947  -0.00736109]\n",
        " [-0.09768329 -0.11660952  0.13341937  0.16578828 -0.37660548  0.20522303]]\n",
        "10"
       ]
      },
      {
       "output_type": "stream",
       "stream": "stdout",
       "text": [
        " 20 "
       ]
      },
      {
       "output_type": "stream",
       "stream": "stdout",
       "text": [
        "30 "
       ]
      },
      {
       "output_type": "stream",
       "stream": "stdout",
       "text": [
        "40 "
       ]
      },
      {
       "output_type": "stream",
       "stream": "stdout",
       "text": [
        "50 "
       ]
      },
      {
       "output_type": "stream",
       "stream": "stdout",
       "text": [
        "60 "
       ]
      },
      {
       "output_type": "stream",
       "stream": "stdout",
       "text": [
        "70 "
       ]
      },
      {
       "output_type": "stream",
       "stream": "stdout",
       "text": [
        "80 "
       ]
      },
      {
       "output_type": "stream",
       "stream": "stdout",
       "text": [
        "90 "
       ]
      },
      {
       "output_type": "stream",
       "stream": "stdout",
       "text": [
        "100 "
       ]
      },
      {
       "output_type": "stream",
       "stream": "stdout",
       "text": [
        "\n",
        " w after 101 iterations:\n",
        "[[ -1.07940907e-06  -1.37756876e-06   8.42503113e-07   2.03199164e-06\n",
        "   -1.41376050e-07  -3.51222509e-07]\n",
        " [  2.81997383e-06   3.59892591e-06  -2.20106064e-06  -5.30861441e-06\n",
        "    3.69344579e-07   9.17581933e-07]\n",
        " [ -6.29964105e-06  -8.03976685e-06   4.91702367e-06   1.18591028e-05\n",
        "   -8.25093900e-07  -2.04981445e-06]\n",
        " [ -5.83845309e-07  -7.45119853e-07   4.55707292e-07   1.09909216e-06\n",
        "   -7.64683629e-08  -1.89976785e-07]\n",
        " [ -1.31977050e-06  -1.68432469e-06   1.03011164e-06   2.48447335e-06\n",
        "   -1.72857126e-07  -4.29433292e-07]\n",
        " [  6.46268553e-06   8.24784587e-06  -5.04427996e-06  -1.21660332e-05\n",
        "    8.46450000e-07   2.10286297e-06]]\n",
        "110"
       ]
      },
      {
       "output_type": "stream",
       "stream": "stdout",
       "text": [
        " 120 "
       ]
      },
      {
       "output_type": "stream",
       "stream": "stdout",
       "text": [
        "130 "
       ]
      },
      {
       "output_type": "stream",
       "stream": "stdout",
       "text": [
        "140 "
       ]
      },
      {
       "output_type": "stream",
       "stream": "stdout",
       "text": [
        "150 "
       ]
      },
      {
       "output_type": "stream",
       "stream": "stdout",
       "text": [
        "160 "
       ]
      },
      {
       "output_type": "stream",
       "stream": "stdout",
       "text": [
        "170 "
       ]
      },
      {
       "output_type": "stream",
       "stream": "stdout",
       "text": [
        "180 "
       ]
      },
      {
       "output_type": "stream",
       "stream": "stdout",
       "text": [
        "190 "
       ]
      },
      {
       "output_type": "stream",
       "stream": "stdout",
       "text": [
        "200 "
       ]
      },
      {
       "output_type": "stream",
       "stream": "stdout",
       "text": [
        "\n",
        " w after 201 iterations:\n",
        "[[  4.94807633e-08   2.03306224e-08   3.50665985e-08  -6.48110916e-08\n",
        "    1.83612698e-08  -4.85260455e-08]\n",
        " [ -1.08701114e-07  -4.46630399e-08  -7.70355601e-08   1.42379329e-07\n",
        "   -4.03366954e-08   1.06603756e-07]\n",
        " [  2.52579681e-07   1.03779768e-07   1.79001084e-07  -3.30834929e-07\n",
        "    9.37270032e-08  -2.47706225e-07]\n",
        " [  1.26515487e-08   5.19825974e-09   8.96604557e-09  -1.65713022e-08\n",
        "    4.69472343e-09  -1.24074405e-08]\n",
        " [  5.48034643e-08   2.25176102e-08   3.88387517e-08  -7.17828932e-08\n",
        "    2.03364121e-08  -5.37460465e-08]\n",
        " [ -2.60813294e-07  -1.07162789e-07  -1.84836176e-07   3.41619514e-07\n",
        "   -9.67823239e-08   2.55780973e-07]]\n",
        "210"
       ]
      },
      {
       "output_type": "stream",
       "stream": "stdout",
       "text": [
        " 220 "
       ]
      },
      {
       "output_type": "stream",
       "stream": "stdout",
       "text": [
        "230 "
       ]
      },
      {
       "output_type": "stream",
       "stream": "stdout",
       "text": [
        "240 "
       ]
      },
      {
       "output_type": "stream",
       "stream": "stdout",
       "text": [
        "250 "
       ]
      },
      {
       "output_type": "stream",
       "stream": "stdout",
       "text": [
        "260 "
       ]
      },
      {
       "output_type": "stream",
       "stream": "stdout",
       "text": [
        "270 "
       ]
      },
      {
       "output_type": "stream",
       "stream": "stdout",
       "text": [
        "280 "
       ]
      },
      {
       "output_type": "stream",
       "stream": "stdout",
       "text": [
        "290 "
       ]
      },
      {
       "output_type": "stream",
       "stream": "stdout",
       "text": [
        "300 "
       ]
      },
      {
       "output_type": "stream",
       "stream": "stdout",
       "text": [
        "\n",
        " w after 301 iterations:\n",
        "[[  6.73794877e-07  -7.30835369e-07   2.26643906e-06  -1.22366180e-07\n",
        "    5.72339139e-07  -2.35530164e-06]\n",
        " [  8.36081132e-07  -9.06860059e-07   2.81232018e-06  -1.51838576e-07\n",
        "    7.10189363e-07  -2.92258569e-06]\n",
        " [ -5.25196579e-07   5.69657396e-07  -1.76660001e-06   9.53796199e-08\n",
        "   -4.46115825e-07   1.83586490e-06]\n",
        " [ -1.31055057e-06   1.42149598e-06  -4.40828967e-06   2.38005768e-07\n",
        "   -1.11321622e-06   4.58112998e-06]\n",
        " [  8.66866860e-08  -9.40251970e-08   2.91587392e-07  -1.57429494e-08\n",
        "    7.36339573e-08  -3.03019956e-07]\n",
        " [  2.39184440e-07  -2.59432736e-07   8.04543006e-07  -4.34376801e-08\n",
        "    2.03169571e-07  -8.36087545e-07]]\n",
        "310"
       ]
      },
      {
       "output_type": "stream",
       "stream": "stdout",
       "text": [
        " 320 "
       ]
      },
      {
       "output_type": "stream",
       "stream": "stdout",
       "text": [
        "330 "
       ]
      },
      {
       "output_type": "stream",
       "stream": "stdout",
       "text": [
        "340 "
       ]
      },
      {
       "output_type": "stream",
       "stream": "stdout",
       "text": [
        "350 "
       ]
      },
      {
       "output_type": "stream",
       "stream": "stdout",
       "text": [
        "360 "
       ]
      },
      {
       "output_type": "stream",
       "stream": "stdout",
       "text": [
        "370 "
       ]
      },
      {
       "output_type": "stream",
       "stream": "stdout",
       "text": [
        "380 "
       ]
      },
      {
       "output_type": "stream",
       "stream": "stdout",
       "text": [
        "390 "
       ]
      },
      {
       "output_type": "stream",
       "stream": "stdout",
       "text": [
        "400 "
       ]
      },
      {
       "output_type": "stream",
       "stream": "stdout",
       "text": [
        "\n",
        " w after 401 iterations:\n",
        "[[ -2.06575011e-06  -3.97290858e-06   3.90485503e-06   4.80006133e-06\n",
        "    1.46578916e-07  -2.74774027e-06]\n",
        " [  4.09059693e-07   7.86715079e-07  -7.73239120e-07  -9.50507810e-07\n",
        "   -2.90255468e-08   5.44107337e-07]\n",
        " [ -3.52601737e-06  -6.78133554e-06   6.66517532e-06   8.19319798e-06\n",
        "    2.50194737e-07  -4.69010258e-06]\n",
        " [  2.06873483e-06   3.97864886e-06  -3.91049699e-06  -4.80699674e-06\n",
        "   -1.46790702e-07   2.75171036e-06]\n",
        " [ -1.09838306e-06  -2.11244112e-06   2.07625626e-06   2.55224773e-06\n",
        "    7.79376931e-08  -1.46100506e-06]\n",
        " [  4.21213507e-06   8.10089636e-06  -7.96213285e-06  -9.78748910e-06\n",
        "   -2.98879420e-07   5.60273632e-06]]\n",
        "410"
       ]
      },
      {
       "output_type": "stream",
       "stream": "stdout",
       "text": [
        " 420 "
       ]
      },
      {
       "output_type": "stream",
       "stream": "stdout",
       "text": [
        "430 "
       ]
      },
      {
       "output_type": "stream",
       "stream": "stdout",
       "text": [
        "440 "
       ]
      },
      {
       "output_type": "stream",
       "stream": "stdout",
       "text": [
        "450 "
       ]
      },
      {
       "output_type": "stream",
       "stream": "stdout",
       "text": [
        "460 "
       ]
      },
      {
       "output_type": "stream",
       "stream": "stdout",
       "text": [
        "470 "
       ]
      },
      {
       "output_type": "stream",
       "stream": "stdout",
       "text": [
        "480 "
       ]
      },
      {
       "output_type": "stream",
       "stream": "stdout",
       "text": [
        "490 "
       ]
      },
      {
       "output_type": "stream",
       "stream": "stdout",
       "text": [
        "\n",
        " w final:\n",
        "[[ -4.00421759e-04  -1.08605706e-03   1.30359877e-03   1.14325717e-03\n",
        "    1.17417035e-04  -1.01676506e-03]\n",
        " [  9.86640328e-02   2.67604763e-01  -3.21207099e-01  -2.81698884e-01\n",
        "   -2.89315901e-02   2.50531195e-01]\n",
        " [ -1.70518999e-01  -4.62495753e-01   5.55135558e-01   4.86854330e-01\n",
        "    5.00018663e-02  -4.32987860e-01]\n",
        " [ -6.11637499e-02  -1.65893389e-01   1.99122518e-01   1.74630608e-01\n",
        "    1.79352545e-02  -1.55309153e-01]\n",
        " [ -2.66457771e-02  -7.22708839e-02   8.67470398e-02   7.60772235e-02\n",
        "    7.81343191e-03  -6.76598978e-02]\n",
        " [  1.60039231e-01   4.34071660e-01  -5.21018002e-01  -4.56933206e-01\n",
        "   -4.69288484e-02   4.06377265e-01]]\n"
       ]
      }
     ],
     "prompt_number": 25
    },
    {
     "cell_type": "code",
     "collapsed": false,
     "input": [
      "a = np.random.randn(3,1)\n",
      "print a\n",
      "\n",
      "print np.dot(a.T,a)\n",
      "print np.dot(a, a.T)\n",
      "print np.outer(a, a.T)"
     ],
     "language": "python",
     "metadata": {},
     "outputs": [
      {
       "output_type": "stream",
       "stream": "stdout",
       "text": [
        "[[-2.08720041]\n",
        " [-0.48982131]\n",
        " [-0.57021456]]\n",
        "[[ 4.92147511]]\n",
        "[[ 4.35640555  1.02235524  1.19015207]\n",
        " [ 1.02235524  0.23992492  0.27930324]\n",
        " [ 1.19015207  0.27930324  0.32514465]]\n",
        "[[ 4.35640555  1.02235524  1.19015207]\n",
        " [ 1.02235524  0.23992492  0.27930324]\n",
        " [ 1.19015207  0.27930324  0.32514465]]\n"
       ]
      }
     ],
     "prompt_number": 3
    },
    {
     "cell_type": "code",
     "collapsed": false,
     "input": [
      "a = np.random.randn(3)\n",
      "print a\n",
      "print a.shape\n",
      "print type(a)\n",
      "b = array([a])\n",
      "print type(b)\n",
      "print b.shape"
     ],
     "language": "python",
     "metadata": {},
     "outputs": [
      {
       "output_type": "stream",
       "stream": "stdout",
       "text": [
        "[ 1.25946374  1.12673783 -0.04781394]\n",
        "(3,)\n",
        "<type 'numpy.ndarray'>\n",
        "<type 'numpy.ndarray'>\n",
        "(1, 3)\n"
       ]
      }
     ],
     "prompt_number": 4
    },
    {
     "cell_type": "code",
     "collapsed": false,
     "input": [
      "from IPython.display import display, Math, Latex"
     ],
     "language": "python",
     "metadata": {},
     "outputs": [],
     "prompt_number": 21
    },
    {
     "cell_type": "markdown",
     "metadata": {},
     "source": [
      "### 1. The Q-distribution (5 points)\n",
      "\n",
      "In variational Bayes, we introduce a distribution $Q(\\Theta)$ over parameters / latent variables in order to make inference tractable. We can think of $Q$ as being an approximation of a certain distribution. What function does $Q$ approximate, $p(D|\\Theta)$, $p(\\Theta|D)$, $p(D, \\Theta)$, $p(\\Theta)$, or $p(D)$, and how do you see that?"
     ]
    },
    {
     "cell_type": "markdown",
     "metadata": {},
     "source": [
      "The function $Q$ approximates the function that is the posterior distribution, $p(\\Theta | D) $.\n",
      "\n",
      "The posterior $P(\\Theta | D)$ is given by multiplying the likelihood by the prior and then normalizing:\n",
      "\n",
      "\\begin{align}\n",
      "P(\\Theta | D) &= \\dfrac{P(D | \\Theta)P( \\Theta)}{P(D)} \\\\\n",
      "              &= \\dfrac{P(D | \\Theta)P( \\Theta)}{\\int P(D | \\Theta)P(\\Theta) \\hspace{1mm} d\\Theta}\n",
      "\\end{align}\n",
      "\n",
      "Why is this useful? \n",
      "For Maximum a Posteriori (MAP) learning, we could use the posterior to get a point estimate of the parameters:\n",
      "\n",
      "\\begin{align}\n",
      "\\widetilde{\\Theta}_{\\text{MAP}}(D)&= \\arg\\max_{\\Theta} P(\\Theta | D) \\\\\n",
      "            & \\propto {P(D | \\Theta)P( \\Theta)}\n",
      "\\end{align}\n",
      "\n",
      "So for MAP learning the normalization (and therefore integration) is not needed. Like Maximum likelihood estimation (MLE) learning, MAP learning learns a point estimate of our parameters.\n",
      "\n",
      "In the Bayesian framework no fixed parameter setting is chosen. The posterior is used to obtain a predictive density (also called the posterior predictive distribution) for a new data point $t^{*}$ with:\n",
      "\n",
      "\\begin{align}\n",
      "P(t^{*} | D) &= \\int P(t^{*} | \\Theta) P(\\Theta | D) \\hspace{2mm} d\\Theta\n",
      "\\end{align}\n",
      "\n",
      "This means that in the Bayesian learning framework we consider all possible parametrizations of our models by incorporating the posterior this way. Each of these is weighted by the evidence for them in $D$.\n",
      "(Note that when predicting, we also return a probability distribution as prediction for $t^{*}$. \n",
      "Retaining all possible parametrizations is in this case of Principal Component Analysis) particularly advantageous for automatically determining an adequate number of principal components given $D$.\n",
      "\n",
      "Note that we need to integrate over all possible parametrizations for this. In practice this can quickly become infeasible for models with many parameters; when using a mixture of models; or when the prior distribution is not of the same functional form as the likelihood distribution. Therefore we use a ''simpler'' distribution $Q(\\Theta)$ to approximate $P(\\Theta|D)$. \n"
     ]
    },
    {
     "cell_type": "markdown",
     "metadata": {},
     "source": [
      "### 2. The mean-field approximation (15 points)\n",
      "\n",
      "Equation 13 from [Bishop99] is a very powerful result: assuming only that $Q(\\Theta)$ factorizes in a certain way (no assumptions on the functional form of the factors $Q_i$!), we get a set of coupled equations for the $Q_i$.\n",
      "\n",
      "However, the expression given in eq. 13 for Q_i contains a small mistake. Starting with the expression for the lower bound $\\mathcal{L}(Q)$, derive the correct expression (and include your derivation). You can proceed as follows: first, substitute the factorization of $Q$ (eq. 12) into the definition of $\\mathcal{L}(Q)$ and separate $\\mathcal{L}(Q)$ into $Q_i$-dependent and $Q_i$-independent terms. At this point, you should be able to spot the expectations $\\langle\\cdot\\rangle_{k \\neq i}$ over the other $Q$-distributions that appear in Bishop's solution (eq. 13). Now, keeping all $Q_k, k \\neq i$ fixed, maximize the expression with respect to $Q_i$. You should be able to spot the form of the optimal $ln Q_i$, from which $Q_i$ can easily be obtained."
     ]
    },
    {
     "cell_type": "markdown",
     "metadata": {},
     "source": [
      "It is given that the lower bound is \n",
      "\n",
      "$$\n",
      "\\begin{align}\n",
      "\\mathcal{L}(Q) =& \\int Q(\\Theta) \\log \\dfrac{P(D, \\Theta)}{Q(\\Theta)}\n",
      "                \\hspace{3mm} d \\Theta  \\\\\n",
      "\\end{align} \n",
      "$$\n",
      "\n",
      "And the factorization is\n",
      "\n",
      "\\begin{equation}\n",
      "Q(\\Theta)= \\prod_{k} Q_k(\\Theta_k)\n",
      "\\end{equation}\n",
      "\n",
      "Plugging in the factorization into the lower bound, we get\n",
      "\n",
      "\\begin{align}                \n",
      "\\mathcal{L}(Q) =&  \\int \n",
      "                     \\prod_{k} Q_k( \\Theta_k) \n",
      "                     \\left[\n",
      "                         \\log P(D,\\Theta) - \\log \\left( \\prod_k Q_k(\\Theta_k) \\right)\n",
      "                     \\right]\n",
      "                 \\hspace{3mm} d \\Theta  \\\\\n",
      "              =& \\int\n",
      "              \\prod_{k} Q_k( \\Theta_k) \n",
      "                     \\left[\n",
      "                         \\log P(D,\\Theta) - \\sum_k \\log Q_k(\\Theta_k)\n",
      "                     \\right]\n",
      "                  \\hspace{3mm} d \\Theta\n",
      "\\end{align}  \n",
      "\n",
      "By denoting a specific factor $Q_i$ separately we arrive at\n",
      "\n",
      "\\begin{align}\n",
      "\\mathcal{L}(Q) =& \\int Q_i( \\Theta_i) \\prod_{k \\neq i} Q_k( \\Theta_k) \n",
      "                \\left[ \\log P(D, \\Theta) - \\log \\left( \\prod_{j \\neq i}  Q_j(\\Theta_j) \\right) - \\log Q_i (\\Theta_i) \\right] \n",
      "                \\hspace{3mm} d \\Theta  \n",
      "\\end{align}                \n",
      "\n",
      "By taking the integral of $Q_i$ apart from those for $\\{Q_1, \\dots ,Q_{i-1},Q_{i+1}, \\dots ,Q_M \\}$, we get\n",
      "\n",
      "\\begin{align}\n",
      "\\mathcal{L}(Q) =& \n",
      "    \\int Q_i(\\Theta_i) \n",
      "        \\left[ \n",
      "            \\int  \\prod_{k \\neq i} Q_k( \\Theta_k) \\log P(D, \\Theta) \n",
      "            \\hspace{3mm} d \\Theta_{\\setminus i}\n",
      "        \\right]\n",
      "        \\hspace{3mm} d \\Theta_{i} \\hspace{3mm} -\\\\\n",
      "& \n",
      "    \\int Q_i(\\Theta_i) \n",
      "    \\left[ \n",
      "            \\int  \\prod_{k \\neq i} Q_k( \\Theta_k) \n",
      "            \\log \\left( \\prod_{j \\neq i} Q_j(\\Theta_j) \\right)\n",
      "            \\hspace{3mm} d \\Theta_{\\setminus i}\n",
      "        \\right]\n",
      "        \\hspace{3mm} d \\Theta_{i}  \\hspace{3mm} - \\\\\n",
      "& \n",
      "    \\int Q_i(\\Theta_i) \n",
      "        \\log Q_i (\\Theta_i)\n",
      "        \\left[ \n",
      "            \\int\n",
      "             \\prod_{k \\neq i} Q_k( \\Theta_k) \n",
      "             \\hspace{3mm} d \\Theta_{\\setminus i}\n",
      "        \\right]\n",
      "        \\hspace{3mm} d \\Theta_{i} \n",
      "\\end{align}\n"
     ]
    },
    {
     "cell_type": "markdown",
     "metadata": {},
     "source": [
      "\n",
      "Now, when we keep the $Q_k \\neq Q_{i}$ fixed the following happens, the integral over $\\Theta_{\\setminus i}$  in the third row of the equation for $\\mathcal{L}(Q)$ will become 1, because all $Q_n(\\Theta_n)$ are probability distributions. \n",
      "\n",
      "\\begin{align}\n",
      "\\int Q_i(\\Theta_i) \n",
      "        \\log Q_i (\\Theta_i)\n",
      "        \\left[ \n",
      "            \\int\n",
      "             \\prod_{k \\neq i} Q_k( \\Theta_k) \n",
      "             \\hspace{3mm} d \\Theta_{\\setminus i}\n",
      "        \\right]\n",
      "        \\hspace{3mm} d \\Theta_{i} \n",
      "        =& \n",
      "    \\int Q_i(\\Theta_i) \n",
      "        \\log Q_i (\\Theta_i)\n",
      "        \\left[\n",
      "        \\prod_{k \\neq i}         \n",
      "            \\int\n",
      "              Q_k( \\Theta_k) \n",
      "             \\hspace{3mm} d \\Theta_{k}\n",
      "        \\right]        \n",
      "        \\hspace{3mm} d \\Theta_{i} \\\\\n",
      "     =&\n",
      "      \\int Q_i(\\Theta_i) \n",
      "        \\log Q_i (\\Theta_i)\n",
      "        \\left[\n",
      "        \\prod_{k \\neq i}         \n",
      "            1\n",
      "        \\right]        \n",
      "        \\hspace{3mm} d \\Theta_{i} \n",
      "\\end{align}\n",
      "\n",
      "So we can rewrite the equation as\n",
      "\n",
      "\\begin{align}       \n",
      "\\mathcal{L}(Q)  =& \n",
      "    \\int Q_i(\\Theta_i) \n",
      "        \\left[ \n",
      "            \\int  \\prod_{k \\neq i} Q_k( \\Theta_k) \\log P(D, \\Theta) \n",
      "            \\hspace{3mm} d \\Theta_{\\setminus i}\n",
      "        \\right]\n",
      "        \\hspace{3mm} d \\Theta_{i} \\hspace{3mm} -\\\\\n",
      "& \n",
      "    \\int Q_i(\\Theta_i) \n",
      "    \\left[ \n",
      "            \\int  \\prod_{k \\neq i} Q_k( \\Theta_k) \n",
      "            \\log \\left( \\prod_{j \\neq i} Q_j(\\Theta_j) \\right)\n",
      "            \\hspace{3mm} d \\Theta_{\\setminus i}\n",
      "        \\right]\n",
      "        \\hspace{3mm} d \\Theta_{i}  \\hspace{3mm} - \\\\\n",
      "& \n",
      "    \\int Q_i(\\Theta_i) \n",
      "        \\log Q_i (\\Theta_i)    \n",
      "        \\hspace{3mm} d \\Theta_{i}         \n",
      "\\end{align}\n",
      "\n",
      "\n",
      "Furthermore, when we keep the $Q_k \\neq Q_{i}$ fixed, the $\\Theta_{\\setminus i}$ integral in the second row of the equation for  $\\mathcal{L}(Q)$ will become a constant. We know that $\\int Q_i(\\Theta_i)  d\\Theta_{i}$ should be 1 because $Q_i$ is a probability distribution. So the whole second row can be viewed as a constant. \n",
      "\n",
      "\n",
      "\\begin{align}\n",
      "\\mathcal{L}(Q)  =& \n",
      "    \\int Q_i(\\Theta_i) \n",
      "        \\left[ \n",
      "            \\int  \\prod_{k \\neq i} Q_k( \\Theta_k) \\log P(D, \\Theta) \n",
      "            \\hspace{3mm} d \\Theta_{\\setminus i}\n",
      "        \\right]\n",
      "        \\hspace{3mm} d \\Theta_{i} \\hspace{3mm} -\\\\\n",
      "& \n",
      "    \\int Q_i(\\Theta_i) \n",
      "        \\log Q_i (\\Theta_i)    \n",
      "        \\hspace{3mm} d \\Theta_{i}  \\hspace{1mm} + \\text{const}        \n",
      "\\end{align}\n"
     ]
    },
    {
     "cell_type": "markdown",
     "metadata": {},
     "source": [
      "Note that the integral over $\\Theta_{\\setminus i}$  in the  first line in $\\mathcal{L}(Q)$ could be rewritten as an expectation :\n",
      "\n",
      "\\begin{align}\n",
      "\\mathcal{L}(Q)  =& \n",
      "    \\int Q_i(\\Theta_i) \\cdot\n",
      "        \\mathbb{E}_{[k \\neq i]}[ \\log P(D, \\Theta)]\n",
      "        \\hspace{3mm} d \\Theta_{i} \\hspace{3mm} -\\\\\n",
      "& \n",
      "    \\int Q_i(\\Theta_i) \n",
      "        \\log Q_i (\\Theta_i)    \n",
      "        \\hspace{3mm} d \\Theta_{i}  \\hspace{1mm} + \\text{const}        \n",
      "\\end{align}\n",
      "\n",
      "Where $\\mathbb{E}_{[k \\neq i]}$ denotes this expected value is with respect to the $Q$ distributions over all variables $\\Theta_k \\neq \\Theta_i$.\n",
      "\n",
      "\n",
      "We can define $\\mathbb{E}_{[k \\neq i]}[ \\log P(D, \\Theta)]$ as $\\log \\widetilde{P}(D, \\Theta_i)$.\n",
      "\n",
      "Intuitively it makes sense to see  $\\log \\widetilde{P}(D, \\Theta_i)$, the joint probability of that parameter and the data, as the expectation of $\\log P(D, \\Theta)$ under all $\\Theta_k$ that are not $\\Theta_i$ , i.e., to not marginalize out  $\\Theta_i$ in $\\log P(D, \\Theta)$.\n",
      "It is here particularly useful to be able to rewrite the above equation as:\n",
      "\n",
      "\\begin{align}\n",
      "\\mathcal{L}(Q)  =&  \\int Q_i(\\Theta_i) \\log \\widetilde{P}(D, \\Theta_i) -  \\int Q_i(\\Theta_i) \\log Q_i(\\Theta_i) \\\\\n",
      "                =& \\int Q_i(\\Theta_i) \\log \\dfrac{\\widetilde{P}(D , \\Theta_i)}{ Q_i(\\Theta_i)} \\\\\n",
      "                =& - \\text{KL} \\left(Q_i(\\Theta_i) || \\widetilde{P}(D, \\Theta_i) \\right)\n",
      "\\end{align}\n",
      "\n",
      "Recall we wanted to maximize the lower bound function $\\mathcal{L}(Q)$. We see that this negative KL-divergence will be maximal when \n",
      "\n",
      "\\begin{align}\n",
      " Q_i(\\Theta_i) &= \\widetilde{P}(D, \\Theta_i)  \\\\  \n",
      " \\log  Q_i(\\Theta_i) &= \\log \\widetilde{P}(D, \\Theta_i)  \\\\\n",
      "                     &= \\mathbb{E}_{[k \\neq i]}[\\log P(D, \\Theta)]\\\\\n",
      " Q_i(\\Theta_i)      &= \\exp \\left( \\mathbb{E}_{[k \\neq i]} [\\log P(D, \\Theta)] \\right)    \n",
      "\\end{align}\n",
      "\n",
      "So in line with Bishop (except a subscript mismatch on his side), accounting for normalization (marginalizing over all $\\Theta_{\\setminus i}$) we get that the optimal value for $Q_i$ is \n",
      "\n",
      "\\begin{align}\n",
      " Q_i^{*}(\\Theta_i)      &= \\dfrac{\\exp ( \\mathbb{E}_{[k \\neq i]} [\\log P(D, \\Theta)] )   }\n",
      "                      {\\int \\exp ( \\mathbb{E}_{[k \\neq i]} [\\log P(D, \\Theta)] ) \\hspace{2mm} d\\Theta_i  }\n",
      "\\end{align}\n",
      "\n"
     ]
    },
    {
     "cell_type": "markdown",
     "metadata": {},
     "source": [
      "### 3. The log-probability (10 points)\n",
      "\n",
      "Write down the log-prob of data and parameters, $\\ln p(\\mathbf{X}, \\mathbf{Z}, \\mathbf{W}, \\mathbf{\\alpha}, \\tau, \\mathbf{\\mu})$, in full detail (where $\\mathbf{X}$ are observed, $\\mathbf{Z}$ is latent; this is different from [Bishop99] who uses $\\mathbf{T}$ and $\\mathbf{X}$ respectively, but $\\mathbf{X}$ and $\\mathbf{Z}$ are consistent with the PRML book and are more common nowadays). Could we use this to assess the convergence of the variational Bayesian PCA algorithm? If yes, how? If no, why not?"
     ]
    },
    {
     "cell_type": "markdown",
     "metadata": {},
     "source": [
      "The log-probability of the data and parameters is defined as:\n",
      "$$\n",
      "\\begin{align}\n",
      "\\ln p ( X, Z, W, \\alpha, \\tau, \\mu) =& \n",
      "\\ln \\left(  \\prod_{n=1}^N p(x_n| z_n, W, \\mu, \\tau)p(Z)p(W|\\alpha)p(\\alpha)p(\\mu)p(\\tau) \\right) \\\\\n",
      "=& \\ln \\left( \\prod_{n=1}^N \\left[ \\left( \\frac{\\tau}{2 \\pi} \\right) ^{D/2} \\exp \\left( - \\frac{\\tau}{2} \\parallel x_t-Wz_n-\\mu \\parallel ^2  \\right) \\right]\n",
      "\\prod_{n=1}^N \\left[  \\left( \\frac{1}{2 \\pi} \\right)^{q/2} \\exp \\left( - \\frac{1}{2} z_n^\\top z_n \\right) \\right] \\\\\n",
      "\\prod_{i=1}^q \\left[ \\left( \\frac{\\alpha_i}{2 \\pi} \\right)^{D/2} \\exp \\left( -\\frac{\\alpha_i}{2}  w_i^\\top w_i \\right) \\right]\n",
      "\\prod_{i=1}^q \\left[ \\frac{1}{\\Gamma(a_\\alpha)} b_\\alpha^{a_\\alpha} \\alpha_i^{a_\\alpha-1} e^{-b_\\alpha \\: \\alpha_i} \\right]\\\\ \n",
      "\\left[ \\left(\\frac{ \\beta}{2\\pi} \\right)^{D/2} \\exp \\left( - \\frac{\\beta}{2} \\mu^\\top \\mu \\right) \\right]\n",
      "\\left[ \\frac{1}{\\Gamma(c_\\tau)} d_\\tau^{c_\\tau} \\tau^{c_\\tau-1} e^{-d_\\tau \\: \\tau} \\right] \\right) \n",
      "\\\\\n",
      "=& \\frac{ND}{2} \\ln \\frac{\\tau}{2 \\pi} + \\sum_{n=1}^N \\left[ - \\frac{\\tau}{2} \\parallel x_n-Wz_n-\\mu \\parallel ^2 \\right]\n",
      "+ \\frac{Nq}{2} \\ln \\frac{1}{2 \\pi} + \\sum_{n=1}^N \\left[ - \\frac{1}{2} z_n^\\top z_n \\right] \\\\\n",
      "&+ \\sum_{i=1}^q \\left[ \\frac{D}{2} \\ln \\frac{\\alpha_i}{2 \\pi} \\right] + \\sum_{i=1}^q \\left[ - \\frac{\\alpha_i}{2} w_i^\\top w_i \\right]\n",
      "+ \\: q \\ln \\frac{ b_\\alpha^{a_\\alpha}}{\\Gamma(a_\\alpha)} + \\sum_{i=1}^q \\left[ (a_\\alpha -1) \\ln \\alpha_i - b_\\alpha \\alpha_i \\right] \\\\\n",
      "&+ \\frac{D}{2} \\ln \\frac{\\beta}{2 \\pi} - \\frac{\\beta}{2} \\mu^\\top\\mu - \\ln \\Gamma(c_\\tau) + \\ln d_\\tau^{c_\\tau} + (c_\\tau-1)\\ln \\tau - d_\\tau \\tau\n",
      "\\end{align}\n",
      "$$"
     ]
    },
    {
     "cell_type": "markdown",
     "metadata": {},
     "source": [
      "Bayesian learning results in a posterior distribution over the parameters. If we wish to use $\\ln P(\\Theta,D)$ to assess convergence we have no choice but to use some point estimate of the parameters from the approximated posterior $Q$ to evaluate  $\\ln P(\\Theta,D)$ (we cannot plug in the distribution). However, we consider convergence as $Q$ being as similar to the real posterior $P(\\Theta|D)$ as possible. There is no guarantee that if $Q$ becomes more similar to $P(\\Theta|D)$, that the used point estimate of $Q$ results in a higher value when evaluating $\\ln P(\\Theta,D)$. Therefore $\\ln P(\\Theta,D)$ is not a suitable option to assess convergence."
     ]
    },
    {
     "cell_type": "markdown",
     "metadata": {},
     "source": [
      "### 4. The lower bound $\\mathcal{L}(Q)$ (25 points)\n",
      "\n",
      "Derive an expression for the lower bound $\\mathcal{L}(Q)$ of the log-prob $\\ln p(X)$ for Bayesian PCA, making use of the factorization (eq. 12) and the form of the Q-distributions (eq. 16-20) as listed in [Bishop99]. Show your steps. Implement this function.\n",
      "\n",
      "The following result may be useful:\n",
      "\n",
      "For $x \\sim \\Gamma(a,b)$, we have $\\langle \\ln x\\rangle = \\ln b + \\psi(a)$, where $\\psi(a) = \\frac{\\Gamma'(a)}{\\Gamma(a)}$ is the digamma function (which is implemented in numpy.special)."
     ]
    },
    {
     "cell_type": "markdown",
     "metadata": {},
     "source": [
      "\\begin{align}\n",
      "\\mathcal{L}(Q) =& \\int Q(\\Theta) \\ln \\dfrac{P(D,\\Theta)}{Q(\\Theta)} \\hspace{2mm} d \\Theta\\\\\n",
      "                =& \\int Q(\\Theta) \\ln P(D,\\Theta) \\hspace{2mm} d \\Theta  - \\int Q(\\Theta) \\ln Q(\\Theta)  \\hspace{2mm} d \\Theta\\\\\n",
      "                =& \\mathbb{E}_Q[ \\ln P(D,\\Theta)] - \\mathbb{E}_q[\\ln Q(\\Theta)]\\\\\n",
      "               =& \\mathbb{E}_Q \\left[ \\ln \\left( \\prod_{n=1}^{N} \\mathcal{N} (x_n | m_x^{(n)} \\Sigma_x) \\right) \\right] \n",
      "                + \\mathbb{E}_Q \\left[ \\ln P(X) \\right ] + \\mathbb{E}_Q \\left[\\ln  P(W | \\alpha ) \\right] \n",
      "                + \\mathbb{E}_Q \\left[ \\ln P(\\alpha) \\right] + \\mathbb{E}_Q \\left[ \\ln P(\\mu) \\right] \n",
      "                + \\mathbb{E}_Q \\left[ \\ln P(\\tau) \\right] \\\\\n",
      "                & - \\mathbb{E}_Q \\left[ \\ln Q(X) \\right] - \\mathbb{E}_Q \\left[ \\ln Q(W) \\right] - \\mathbb{E}_Q \\left[ Q(\\alpha) \\right] - \\mathbb{E}_Q \\left[ \\ln Q(\\mu) \\right] - \\mathbb{E}_Q \\left[ \\ln \\left( Q(\\tau) \\right) \\right]\\\\\n",
      "                =& \\mathbb{E}_Q \\left[ \\ln \\left( \\prod_{n=1}^{N} \\mathcal{N}({t}|{W} {x}_i + \\mu , \\sigma^2 I_d) \\right) \\right] \\\\\n",
      "                & + \\mathbb{E}_Q \\left[ \\ln \\left( \\prod_{n=1}^{N} \\mathcal{N}(x|0, I_q) \\right) \\right]              \\\\\n",
      "                & + \\mathbb{E}_Q \\left[ \\ln \\left( \\prod_{i=1}^{q} (\\dfrac{\\alpha_i}{2 \\pi})^{d/2}  \\exp( - \\dfrac{1}{2} \\alpha_i ||w_i||^2 ) \\right) \\right] \\\\\n",
      "                & + \\mathbb{E}_Q \\left[ \\ln \\left( \\prod_{i=1}^{q} \\Gamma ( \\alpha_i| a_{\\alpha}, b_{\\alpha}) \\right) \\right] \\\\\n",
      "                & + \\mathbb{E}_Q \\left[ \\ln \\left( \\mathcal{N}(\\mu|0, \\beta^{-1} I) \\right) \\right] \\\\\n",
      "                & + \\mathbb{E}_Q \\left[ \\ln \\left( \\Gamma(\\tau|c_\\tau, d_\\tau ) \\right) \\right] \\\\\n",
      "                & - \\mathbb{E}_Q \\left[ \\ln \\left( \\prod_{n=1}^{N} \\mathcal{N}(x_n| m_x^{(n)}, \\Sigma_x) \\right) \\right] \\\\\n",
      "                & - \\mathbb{E}_Q \\left[ \\ln \\left( \\prod_{k=1}^{d}  \\mathcal{N}(\\widetilde{w}_k | m_w^{(k)}, \\Sigma_w) \\right) \\right] \\\\\n",
      "                & - \\mathbb{E}_Q \\left[ \\ln \\left( \\prod_{i=1}^{q} \\Gamma(\\alpha_i| \\widetilde{a}_\\alpha, \\widetilde{b}_{\\alpha i} ) \\right) \\right] \\\\\n",
      "                & - \\mathbb{E}_Q \\left[ \\ln \\left( \\mathcal{N}(\\mu | m_\\mu, \\Sigma_\\mu) \\right) \\right] \\\\\n",
      "                & - \\mathbb{E}_Q \\left[ \\ln \\left( \\Gamma(\\tau | \\widetilde{a}_\\tau, \\widetilde{b}_\\tau ) \\right) \\right]\n",
      "\\end{align}"
     ]
    },
    {
     "cell_type": "markdown",
     "metadata": {},
     "source": [
      "### 5. Optimize variational parameters (50 points)\n",
      "Implement the update equations for the Q-distributions, in the __update_XXX methods. Each update function should re-estimate the variational parameters of the Q-distribution corresponding to one group of variables (i.e. either $Z$, $\\mu$, $W$, $\\alpha$ or $\\tau$)."
     ]
    },
    {
     "cell_type": "markdown",
     "metadata": {},
     "source": [
      "### 6. Learning algorithm (10 points)\n",
      "Implement the learning algorithm described in [Bishop99], i.e. iteratively optimize each of the Q-distributions holding the others fixed.\n",
      "\n",
      "What would be a good way to track convergence of the algorithm? Implement your suggestion.\n",
      "\n",
      "Test the algorithm on some test data drawn from a Gaussian with different variances in orthogonal directions. "
     ]
    },
    {
     "cell_type": "code",
     "collapsed": false,
     "input": [
      "import matplotlib.pyplot as plt\n",
      "from mpl_toolkits.mplot3d import Axes3D\n",
      "\n",
      "def plot_data(X):\n",
      "    fig = plt.figure()\n",
      "    ax = fig.add_subplot(111, projection='3d')\n",
      "    ax.scatter(X[0,:], X[1,:], zs=X[2,:])"
     ],
     "language": "python",
     "metadata": {},
     "outputs": [],
     "prompt_number": 22
    },
    {
     "cell_type": "markdown",
     "metadata": {},
     "source": [
      "We created a set of orthonormal basis vectors by using Matlab code from <a href=\"http://www.mathworks.com/matlabcentral/fileexchange/18973-create-orthonormal-vectors\">[Price 2008]</a>."
     ]
    },
    {
     "cell_type": "code",
     "collapsed": false,
     "input": [
      "# matrix with orthonormal vectors\n",
      "A = np.array([ [0.4246,-0.1753,-0.1466,-0.0956,0.7864,0.3741]\n",
      "                ,[0.5199,0.3483,0.2280,-0.4751,-0.4102,0.4031]\n",
      "                ,[-0.2212,-0.7183,-0.2838,-0.2656,-0.3263,0.4213]\n",
      "                ,[-0.5600,0.0724,0.6716,-0.1030,0.2397,0.4025]\n",
      "                ,[0.2692,-0.1393,0.2114,0.8147,-0.2223,0.3876]\n",
      "                ,[-0.3382,0.5544,-0.5918,0.1422,-0.0037,0.4558]])\n",
      "\n",
      "# eigenvalues on a diagonal matrix representing the magnitude of the variance\n",
      "L = np.diag( [7,6,5,4,1,1])\n",
      "\n",
      "# Covariance matrix generated based on A and L\n",
      "covariance = np.dot(np.dot(A, L) , A.T)\n",
      "means = [2,2,2,2,2,2]\n",
      "\n",
      "dims = 6\n",
      "N = 1000\n",
      "\n",
      "data = numpy.random.multivariate_normal(means, covariance, (N)).T\n",
      "\n",
      "#print 'Plot of the first three dimensions of the data'\n",
      "#plot_data(data)\n",
      "\n",
      "bay_pca = BayesianPCA(dims,N)\n",
      "#bay_pca.fit(data, 300)"
     ],
     "language": "python",
     "metadata": {},
     "outputs": [],
     "prompt_number": 66
    },
    {
     "cell_type": "markdown",
     "metadata": {},
     "source": [
      "### 7. PCA Representation of MNIST (10 points)\n",
      "\n",
      "Download the MNIST dataset from here http://deeplearning.net/tutorial/gettingstarted.html (the page contains python code for loading the data). Run your algorithm on (part of) this dataset, and visualize the results.\n"
     ]
    },
    {
     "cell_type": "code",
     "collapsed": false,
     "input": [],
     "language": "python",
     "metadata": {},
     "outputs": []
    }
   ],
   "metadata": {}
  }
 ]
}