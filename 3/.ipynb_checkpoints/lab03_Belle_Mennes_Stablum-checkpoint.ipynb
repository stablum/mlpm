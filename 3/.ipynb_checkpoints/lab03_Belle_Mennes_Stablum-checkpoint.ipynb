{
 "metadata": {
  "name": ""
 },
 "nbformat": 3,
 "nbformat_minor": 0,
 "worksheets": [
  {
   "cells": [
    {
     "cell_type": "markdown",
     "metadata": {},
     "source": [
      "# Lab 3: Bayesian PCA\n"
     ]
    },
    {
     "cell_type": "markdown",
     "metadata": {},
     "source": [
      "### Introduction\n",
      "\n",
      "In this lab assignment, we will implement a variational algorithm for Bayesian PCA. Unlike regular PCA based on maximization of retained variance or minimization of projection error (see Bishop, 12.1.1 and 12.1.2), probabilistic PCA defines a proper density model over observed and latent variables. We will work with a fully Bayesian model this time, which is to say that we will put priors on our parameters and will be interested in learning the posterior over those parameters. Bayesian methods are very elegant, but require a shift in mindset: we are no longer looking for a point estimate of the parameters (as in maximum likelihood or MAP), but for a full posterior distribution.\n",
      "\n",
      "The integrals involved in a Bayesian analysis are usually analytically intractable, so that we must resort to approximations. In this lab assignment, we will implement the variational method described in Bishop99. Chapters 10 and 12 of the PRML book contain additional material that may be useful when doing this exercise.\n",
      "\n",
      "* [Bishop99] Variational Principal Components, C. Bishop, ICANN 1999 - http://research.microsoft.com/pubs/67241/bishop-vpca-icann-99.pdf\n",
      "\n",
      "Below, you will find some code to get you started."
     ]
    },
    {
     "cell_type": "code",
     "collapsed": false,
     "input": [
      "%pylab inline\n",
      "import scipy.special as sp\n",
      "\n",
      "class BayesianPCA(object):\n",
      "    \n",
      "    def __init__(self, d, N, a_alpha=10e-3, b_alpha=10e-3, a_tau=10e-3, b_tau=10e-3, beta=10e-3):\n",
      "        \"\"\"\n",
      "        \"\"\"\n",
      "        self.d = d # number of dimensions\n",
      "        self.N = N # number of data points\n",
      "        \n",
      "        # Hyperparameters\n",
      "        self.a_alpha = a_alpha\n",
      "        self.b_alpha = b_alpha\n",
      "        self.a_tau = a_tau\n",
      "        self.b_tau = b_tau\n",
      "        self.beta = beta\n",
      "\n",
      "        # Variational parameters\n",
      "        self.means_z = np.random.randn(d, N) # called x in bishop99\n",
      "        self.sigma_z = np.random.randn(d, d)\n",
      "        self.mean_mu = np.random.randn(d, 1)\n",
      "        self.sigma_mu = np.random.randn(d, d)\n",
      "        self.means_w = np.random.randn(d, d)\n",
      "        self.sigma_w = np.random.randn(d, d)\n",
      "        self.a_alpha_tilde = np.abs(np.random.randn(1))\n",
      "        self.bs_alpha_tilde = np.abs(np.random.randn(d, 1))\n",
      "        self.a_tau_tilde = np.abs(np.random.randn(1))\n",
      "        self.b_tau_tilde = np.abs(np.random.randn(1))\n",
      "    \n",
      "    def __update_z(self, X):\n",
      "        #Update means of z\n",
      "        exp_tau = self.a_tau_tilde / self.b_tau_tilde\n",
      "        exp_Wt = np.transpose(self.means_w)\n",
      "        exp_mu = self.mean_mu\n",
      "        self.means_z = np.dot( np.dot( np.dot(exp_tau, self.sigma_z), exp_Wt), (X-exp_mu) )\n",
      "        \n",
      "        #update sigma of z\n",
      "        exp_WtW = numpy.trace(self.sigma_w) + np.dot(np.transpose(self.means_w), self.means_w)\n",
      "        print expWtW\n",
      "        # sigma w = identity+ exp_tau*expWtW inverse\n",
      "        self.sigma_z = numpy.identity(2)\n",
      "    \n",
      "    def __update_mu(self):\n",
      "        pass\n",
      "    \n",
      "    def __update_w(self, X):\n",
      "        pass\n",
      "    \n",
      "    def __update_alpha(self):\n",
      "        pass\n",
      "\n",
      "    def __update_tau(self, X):\n",
      "        pass\n",
      "\n",
      "    def L(self, X):\n",
      "        # p(X)\n",
      "        p_x = - (self.N / 2 ) * np.trace(self.sigma_z) \n",
      "        for i in range(self.N):\n",
      "            p_x += np.dot(self.sigma_z[:,i], self.sigma_z[:,i].T)\n",
      "        print \"P(X):\", p_x\n",
      "        \n",
      "        # p(W|\\alpha)\n",
      "        p_w_alpha = (self.d / float(4) ) * np.log(2 * np.pi)\n",
      "        p_w_alpha_temp = (self.d * (sp.psi(self.a_alpha_tilde[0] )) )  \n",
      "        p_w_alpha_temp -= sum( map ( lambda x:  np.log( x ), self.bs_alpha_tilde))               \n",
      "        p_w_alpha_temp -= sum (map ( lambda x:  ((self.d * (self.a_alpha_tilde[0]**2 + self.a_alpha_tilde[0] )) / (x**2)),\n",
      "                                    self.bs_alpha_tilde))         \n",
      "        p_w_alpha = p_w_alpha * p_w_alpha_temp        \n",
      "        print \"P(W|\\\\alpha):\", p_w_alpha\n",
      "            \n",
      "        # P(\\alpha)        \n",
      "        p_alpha = (self.a_alpha - 1) * (d * sp.psi(self.a_alpha_tilde[0]) -  np.sum(map(lambda x: np.log(x),  self.bs_alpha_tilde)))\n",
      "        p_alpha -= self.b_alpha * np.sum(map(lambda x: (self.a_alpha_tilde[0] / float( x)),  self.bs_alpha_tilde))\n",
      "        print \"P(\\\\alpha):\", p_alpha\n",
      "        \n",
      "        \n",
      "        # P(\\mu)\n",
      "        p_mu = - (self.beta / float(2)) *  ( \\\n",
      "                    ( d / float(self.beta + self.N*(self.a_alpha_tilde[0] / float(self.a_alpha_tilde[0])))) +\n",
      "                    (np.dot(self.mean_mu.T, self.mean_mu)[0][0]) )        \n",
      "        print \"P(\\\\mu):\", p_mu\n",
      "        \n",
      "        # P(\\tau)\n",
      "        # Note: c_tau and d_tau correspond to a_tau_tilde, b_tau_tilde, respectively        \n",
      "        p_tau = (self.a_tau_tilde[0] - 1) * ( sp.psi(self.a_tau_tilde[0]) - np.log(self.b_tau_tilde[0]))\n",
      "        p_tau -= self.a_tau_tilde[0] # since d_tau is b_tau_tilde        \n",
      "        print \"P(\\\\tau):\", p_tau\n",
      "        \n",
      "        #Q(\\alpha)\n",
      "        q_alpha = (self.a_alpha_tilde[0] - 1) * (d * sp.psi(self.a_alpha_tilde[0]) -  np.sum(map(lambda x: np.log(x),  self.bs_alpha_tilde)))\n",
      "        q_alpha -= self.d * self.a_alpha_tilde[0] \n",
      "        print \"Q(\\\\alpha):\", q_alpha\n",
      "        \n",
      "        #Q(\\tau)\n",
      "        q_tau = (sp.psi(self.a_tau_tilde[0]) - np.log(self.b_tau_tilde[0])) - self.a_tau_tilde[0]\n",
      "        print \"Q(\\\\tau):\", q_tau\n",
      "        \n",
      "        L = p_x + p_w_alpha + p_alpha + p_mu + p_tau - q_alpha - q_tau\n",
      "        return L\n",
      "    \n",
      "    \n",
      "    def fit(self, X):\n",
      "        pass"
     ],
     "language": "python",
     "metadata": {},
     "outputs": [
      {
       "output_type": "stream",
       "stream": "stdout",
       "text": [
        "Populating the interactive namespace from numpy and matplotlib\n"
       ]
      }
     ],
     "prompt_number": 1
    },
    {
     "cell_type": "code",
     "collapsed": false,
     "input": [
      "d = 3\n",
      "N = 2\n",
      "\n",
      "pca = BayesianPCA(d, N)\n",
      "X = np.random.randn(d, N)\n",
      "pca.fit(X)\n",
      "\n",
      "pca.L(X)"
     ],
     "language": "python",
     "metadata": {},
     "outputs": [
      {
       "output_type": "stream",
       "stream": "stdout",
       "text": [
        "P(X): 6.23202016979\n",
        "P(W|\\alpha): -16.6072653815\n",
        "P(\\alpha): 4.40218469418\n",
        "P(\\mu): -0.0337992949155\n",
        "P(\\tau): -0.314666928397\n",
        "Q(\\alpha): -0.566094980196\n",
        "Q(\\tau): -0.799996972469\n"
       ]
      },
      {
       "metadata": {},
       "output_type": "pyout",
       "prompt_number": 2,
       "text": [
        "-4.9554347881844887"
       ]
      }
     ],
     "prompt_number": 2
    },
    {
     "cell_type": "code",
     "collapsed": false,
     "input": [
      "\n",
      "sp.psi(np.abs(np.random.randn(1))[0])"
     ],
     "language": "python",
     "metadata": {},
     "outputs": [
      {
       "metadata": {},
       "output_type": "pyout",
       "prompt_number": 46,
       "text": [
        "-1.1539174538099943"
       ]
      }
     ],
     "prompt_number": 46
    },
    {
     "cell_type": "code",
     "collapsed": false,
     "input": [
      "from IPython.display import display, Math, Latex"
     ],
     "language": "python",
     "metadata": {},
     "outputs": [],
     "prompt_number": 1
    },
    {
     "cell_type": "markdown",
     "metadata": {},
     "source": [
      "### 1. The Q-distribution (5 points)\n",
      "\n",
      "In variational Bayes, we introduce a distribution $Q(\\Theta)$ over parameters / latent variables in order to make inference tractable. We can think of $Q$ as being an approximation of a certain distribution. What function does $Q$ approximate, $p(D|\\Theta)$, $p(\\Theta|D)$, $p(D, \\Theta)$, $p(\\Theta)$, or $p(D)$, and how do you see that?"
     ]
    },
    {
     "cell_type": "markdown",
     "metadata": {},
     "source": [
      "The function $Q$ approximates the function that is the posterior distribution, $p(\\Theta | D) $.\n",
      "\n",
      "The posterior $P(\\Theta | D)$ is given by multiplying the likelihood by the prior and then normalizing:\n",
      "\n",
      "\\begin{align}\n",
      "P(\\Theta | D) &= \\dfrac{P(D | \\Theta)P( \\Theta)}{P(D)} \\\\\n",
      "              &= \\dfrac{P(D | \\Theta)P( \\Theta)}{\\int P(D | \\Theta)P(\\Theta) \\hspace{1mm} d\\Theta}\n",
      "\\end{align}\n",
      "\n",
      "Why is this useful? \n",
      "For Maximum a Posteriori (MAP) learning, we could use the posterior to get a point estimate of the parameters:\n",
      "\n",
      "\\begin{align}\n",
      "\\widetilde{\\Theta}_{\\text{MAP}}(D)&= \\arg\\max_{\\Theta} P(\\Theta | D) \\\\\n",
      "            & \\propto {P(D | \\Theta)P( \\Theta)}\n",
      "\\end{align}\n",
      "\n",
      "So for MAP learning the normalization (and therefore integration) is not needed. Like Maximum likelihood estimation (MLE) learning, MAP learning learns a point estimate of our parameters.\n",
      "\n",
      "In the Bayesian framework no fixed parameter setting is chosen. The posterior is used to obtain a predictive density (also called the posterior predictive distribution) for a new data point $t^{*}$ with:\n",
      "\n",
      "\\begin{align}\n",
      "P(t^{*} | D) &= \\int P(t^{*} | \\Theta) P(\\Theta | D) \\hspace{2mm} d\\Theta\n",
      "\\end{align}\n",
      "\n",
      "This means that in the Bayesian learning framework we consider all possible parametrizations of our models by incorporating the posterior this way. Each of these is weighted by the evidence for them in $D$.\n",
      "(Note that when predicting, we also return a probability distribution as prediction for $t^{*}$. \n",
      "Retaining all possible parametrizations is in this case of Principal Component Analysis) particularly advantageous for automatically determining an adequate number of principal components given $D$.\n",
      "\n",
      "Note that we need to integrate over all possible parametrizations for this. In practice this can quickly become infeasible for models with many parameters; when using a mixture of models; or when the prior distribution is not of the same functional form as the likelihood distribution. Therefore we use a ''simpler'' distribution $Q(\\Theta)$ to approximate $P(\\Theta|D)$. \n"
     ]
    },
    {
     "cell_type": "markdown",
     "metadata": {},
     "source": [
      "### 2. The mean-field approximation (15 points)\n",
      "\n",
      "Equation 13 from [Bishop99] is a very powerful result: assuming only that $Q(\\Theta)$ factorizes in a certain way (no assumptions on the functional form of the factors $Q_i$!), we get a set of coupled equations for the $Q_i$.\n",
      "\n",
      "However, the expression given in eq. 13 for Q_i contains a small mistake. Starting with the expression for the lower bound $\\mathcal{L}(Q)$, derive the correct expression (and include your derivation). You can proceed as follows: first, substitute the factorization of $Q$ (eq. 12) into the definition of $\\mathcal{L}(Q)$ and separate $\\mathcal{L}(Q)$ into $Q_i$-dependent and $Q_i$-independent terms. At this point, you should be able to spot the expectations $\\langle\\cdot\\rangle_{k \\neq i}$ over the other $Q$-distributions that appear in Bishop's solution (eq. 13). Now, keeping all $Q_k, k \\neq i$ fixed, maximize the expression with respect to $Q_i$. You should be able to spot the form of the optimal $ln Q_i$, from which $Q_i$ can easily be obtained."
     ]
    },
    {
     "cell_type": "markdown",
     "metadata": {},
     "source": [
      "It is given that the lower bound is \n",
      "\n",
      "$$\n",
      "\\begin{align}\n",
      "\\mathcal{L}(Q) =& \\int Q(\\Theta) \\log \\dfrac{P(D, \\Theta)}{Q(\\Theta)}\n",
      "                \\hspace{3mm} d \\Theta  \\\\\n",
      "\\end{align} \n",
      "$$\n",
      "\n",
      "And the factorization is\n",
      "\n",
      "\\begin{equation}\n",
      "Q(\\Theta)= \\prod_{k} Q_k(\\Theta_k)\n",
      "\\end{equation}\n",
      "\n",
      "Plugging in the factorization into the lower bound, we get\n",
      "\n",
      "\\begin{align}                \n",
      "\\mathcal{L}(Q) =&  \\int \n",
      "                     \\prod_{k} Q_k( \\Theta_k) \n",
      "                     \\left[\n",
      "                         \\log P(D,\\Theta) - \\log \\left( \\prod_k Q_k(\\Theta_k) \\right)\n",
      "                     \\right]\n",
      "                 \\hspace{3mm} d \\Theta  \\\\\n",
      "              =& \\int\n",
      "              \\prod_{k} Q_k( \\Theta_k) \n",
      "                     \\left[\n",
      "                         \\log P(D,\\Theta) - \\sum_k \\log Q_k(\\Theta_k)\n",
      "                     \\right]\n",
      "                  \\hspace{3mm} d \\Theta\n",
      "\\end{align}  \n",
      "\n",
      "By denoting a specific factor $Q_i$ separately we arrive at\n",
      "\n",
      "\\begin{align}\n",
      "\\mathcal{L}(Q) =& \\int Q_i( \\Theta_i) \\prod_{k \\neq i} Q_k( \\Theta_k) \n",
      "                \\left[ \\log P(D, \\Theta) - \\log \\left( \\prod_{j \\neq i}  Q_j(\\Theta_j) \\right) - \\log Q_i (\\Theta_i) \\right] \n",
      "                \\hspace{3mm} d \\Theta  \n",
      "\\end{align}                \n",
      "\n",
      "By taking the integral of $Q_i$ apart from those for $\\{Q_1, \\dots ,Q_{i-1},Q_{i+1}, \\dots ,Q_M \\}$, we get\n",
      "\n",
      "\\begin{align}\n",
      "\\mathcal{L}(Q) =& \n",
      "    \\int Q_i(\\Theta_i) \n",
      "        \\left[ \n",
      "            \\int  \\prod_{k \\neq i} Q_k( \\Theta_k) \\log P(D, \\Theta) \n",
      "            \\hspace{3mm} d \\Theta_{\\setminus i}\n",
      "        \\right]\n",
      "        \\hspace{3mm} d \\Theta_{i} \\hspace{3mm} -\\\\\n",
      "& \n",
      "    \\int Q_i(\\Theta_i) \n",
      "    \\left[ \n",
      "            \\int  \\prod_{k \\neq i} Q_k( \\Theta_k) \n",
      "            \\log \\left( \\prod_{j \\neq i} Q_j(\\Theta_j) \\right)\n",
      "            \\hspace{3mm} d \\Theta_{\\setminus i}\n",
      "        \\right]\n",
      "        \\hspace{3mm} d \\Theta_{i}  \\hspace{3mm} - \\\\\n",
      "& \n",
      "    \\int Q_i(\\Theta_i) \n",
      "        \\log Q_i (\\Theta_i)\n",
      "        \\left[ \n",
      "            \\int\n",
      "             \\prod_{k \\neq i} Q_k( \\Theta_k) \n",
      "             \\hspace{3mm} d \\Theta_{\\setminus i}\n",
      "        \\right]\n",
      "        \\hspace{3mm} d \\Theta_{i} \n",
      "\\end{align}\n"
     ]
    },
    {
     "cell_type": "markdown",
     "metadata": {},
     "source": [
      "\n",
      "Now, when we keep the $Q_k \\neq Q_{i}$ fixed the following happens, the integral over $\\Theta_{\\setminus i}$  in the third row of the equation for $\\mathcal{L}(Q)$ will become 1, because all $Q_n(\\Theta_n)$ are probability distributions. \n",
      "\n",
      "\\begin{align}\n",
      "\\int Q_i(\\Theta_i) \n",
      "        \\log Q_i (\\Theta_i)\n",
      "        \\left[ \n",
      "            \\int\n",
      "             \\prod_{k \\neq i} Q_k( \\Theta_k) \n",
      "             \\hspace{3mm} d \\Theta_{\\setminus i}\n",
      "        \\right]\n",
      "        \\hspace{3mm} d \\Theta_{i} \n",
      "        =& \n",
      "    \\int Q_i(\\Theta_i) \n",
      "        \\log Q_i (\\Theta_i)\n",
      "        \\left[\n",
      "        \\prod_{k \\neq i}         \n",
      "            \\int\n",
      "              Q_k( \\Theta_k) \n",
      "             \\hspace{3mm} d \\Theta_{k}\n",
      "        \\right]        \n",
      "        \\hspace{3mm} d \\Theta_{i} \\\\\n",
      "     =&\n",
      "      \\int Q_i(\\Theta_i) \n",
      "        \\log Q_i (\\Theta_i)\n",
      "        \\left[\n",
      "        \\prod_{k \\neq i}         \n",
      "            1\n",
      "        \\right]        \n",
      "        \\hspace{3mm} d \\Theta_{i} \n",
      "\\end{align}\n",
      "\n",
      "So we can rewrite the equation as\n",
      "\n",
      "\\begin{align}       \n",
      "\\mathcal{L}(Q)  =& \n",
      "    \\int Q_i(\\Theta_i) \n",
      "        \\left[ \n",
      "            \\int  \\prod_{k \\neq i} Q_k( \\Theta_k) \\log P(D, \\Theta) \n",
      "            \\hspace{3mm} d \\Theta_{\\setminus i}\n",
      "        \\right]\n",
      "        \\hspace{3mm} d \\Theta_{i} \\hspace{3mm} -\\\\\n",
      "& \n",
      "    \\int Q_i(\\Theta_i) \n",
      "    \\left[ \n",
      "            \\int  \\prod_{k \\neq i} Q_k( \\Theta_k) \n",
      "            \\log \\left( \\prod_{j \\neq i} Q_j(\\Theta_j) \\right)\n",
      "            \\hspace{3mm} d \\Theta_{\\setminus i}\n",
      "        \\right]\n",
      "        \\hspace{3mm} d \\Theta_{i}  \\hspace{3mm} - \\\\\n",
      "& \n",
      "    \\int Q_i(\\Theta_i) \n",
      "        \\log Q_i (\\Theta_i)    \n",
      "        \\hspace{3mm} d \\Theta_{i}         \n",
      "\\end{align}\n",
      "\n",
      "\n",
      "Furthermore, when we keep the $Q_k \\neq Q_{i}$ fixed, the $\\Theta_{\\setminus i}$ integral in the second row of the equation for  $\\mathcal{L}(Q)$ will become a constant. We know that $\\int Q_i(\\Theta_i)  d\\Theta_{i}$ should be 1 because $Q_i$ is a probability distribution. So the whole second row can be viewed as a constant. \n",
      "\n",
      "\n",
      "\\begin{align}\n",
      "\\mathcal{L}(Q)  =& \n",
      "    \\int Q_i(\\Theta_i) \n",
      "        \\left[ \n",
      "            \\int  \\prod_{k \\neq i} Q_k( \\Theta_k) \\log P(D, \\Theta) \n",
      "            \\hspace{3mm} d \\Theta_{\\setminus i}\n",
      "        \\right]\n",
      "        \\hspace{3mm} d \\Theta_{i} \\hspace{3mm} -\\\\\n",
      "& \n",
      "    \\int Q_i(\\Theta_i) \n",
      "        \\log Q_i (\\Theta_i)    \n",
      "        \\hspace{3mm} d \\Theta_{i}  \\hspace{1mm} + \\text{const}        \n",
      "\\end{align}\n"
     ]
    },
    {
     "cell_type": "markdown",
     "metadata": {},
     "source": [
      "Note that the integral over $\\Theta_{\\setminus i}$  in the  first line in $\\mathcal{L}(Q)$ could be rewritten as an expectation :\n",
      "\n",
      "\\begin{align}\n",
      "\\mathcal{L}(Q)  =& \n",
      "    \\int Q_i(\\Theta_i) \\cdot\n",
      "        \\mathbb{E}_{[k \\neq i]}[ \\log P(D, \\Theta)]\n",
      "        \\hspace{3mm} d \\Theta_{i} \\hspace{3mm} -\\\\\n",
      "& \n",
      "    \\int Q_i(\\Theta_i) \n",
      "        \\log Q_i (\\Theta_i)    \n",
      "        \\hspace{3mm} d \\Theta_{i}  \\hspace{1mm} + \\text{const}        \n",
      "\\end{align}\n",
      "\n",
      "Where $\\mathbb{E}_{[k \\neq i]}$ denotes this expected value is with respect to the $Q$ distributions over all variables $\\Theta_k \\neq \\Theta_i$.\n",
      "\n",
      "\n",
      "We can define $\\mathbb{E}_{[k \\neq i]}[ \\log P(D, \\Theta)]$ as $\\log \\widetilde{P}(D, \\Theta_i)$.\n",
      "\n",
      "Intuitively it makes sense to see  $\\log \\widetilde{P}(D, \\Theta_i)$, the joint probability of that parameter and the data, as the expectation of $\\log P(D, \\Theta)$ under all $\\Theta_k$ that are not $\\Theta_i$ , i.e., to not marginalize out  $\\Theta_i$ in $\\log P(D, \\Theta)$.\n",
      "It is here particularly useful to be able to rewrite the above equation as:\n",
      "\n",
      "\\begin{align}\n",
      "\\mathcal{L}(Q)  =&  \\int Q_i(\\Theta_i) \\log \\widetilde{P}(D, \\Theta_i) -  \\int Q_i(\\Theta_i) \\log Q_i(\\Theta_i) \\\\\n",
      "                =& \\int Q_i(\\Theta_i) \\log \\dfrac{\\widetilde{P}(D , \\Theta_i)}{ Q_i(\\Theta_i)} \\\\\n",
      "                =& - \\text{KL} \\left(Q_i(\\Theta_i) || \\widetilde{P}(D, \\Theta_i) \\right)\n",
      "\\end{align}\n",
      "\n",
      "Recall we wanted to maximize the lower bound function $\\mathcal{L}(Q)$. We see that this negative KL-divergence will be maximal when \n",
      "\n",
      "\\begin{align}\n",
      " Q_i(\\Theta_i) &= \\widetilde{P}(D, \\Theta_i)  \\\\  \n",
      " \\log  Q_i(\\Theta_i) &= \\log \\widetilde{P}(D, \\Theta_i)  \\\\\n",
      "                     &= \\mathbb{E}_{[k \\neq i]}[\\log P(D, \\Theta)]\\\\\n",
      " Q_i(\\Theta_i)      &= \\exp \\left( \\mathbb{E}_{[k \\neq i]} [\\log P(D, \\Theta)] \\right)    \n",
      "\\end{align}\n",
      "\n",
      "So in line with Bishop (except a subscript mismatch on his side), accounting for normalization (marginalizing over all $\\Theta_{\\setminus i}$) we get that the optimal value for $Q_i$ is \n",
      "\n",
      "\\begin{align}\n",
      " Q_i^{*}(\\Theta_i)      &= \\dfrac{\\exp ( \\mathbb{E}_{[k \\neq i]} [\\log P(D, \\Theta)] )   }\n",
      "                      {\\int \\exp ( \\mathbb{E}_{[k \\neq i]} [\\log P(D, \\Theta)] ) \\hspace{2mm} d\\Theta_i  }\n",
      "\\end{align}\n",
      "\n"
     ]
    },
    {
     "cell_type": "markdown",
     "metadata": {},
     "source": [
      "### 3. The log-probability (10 points)\n",
      "\n",
      "Write down the log-prob of data and parameters, $\\ln p(\\mathbf{X}, \\mathbf{Z}, \\mathbf{W}, \\mathbf{\\alpha}, \\tau, \\mathbf{\\mu})$, in full detail (where $\\mathbf{X}$ are observed, $\\mathbf{Z}$ is latent; this is different from [Bishop99] who uses $\\mathbf{T}$ and $\\mathbf{X}$ respectively, but $\\mathbf{X}$ and $\\mathbf{Z}$ are consistent with the PRML book and are more common nowadays). Could we use this to assess the convergence of the variational Bayesian PCA algorithm? If yes, how? If no, why not?"
     ]
    },
    {
     "cell_type": "markdown",
     "metadata": {},
     "source": [
      "The log-probability of the data and parameters is defined as:\n",
      "$$\n",
      "\\begin{align}\n",
      "\\ln p ( X, Z, W, \\alpha, \\tau, \\mu) =& \n",
      "\\ln \\left(  \\prod_{n=1}^N p(x_n| z_n, W, \\mu, \\tau)p(Z)p(W|\\alpha)p(\\alpha)p(\\mu)p(\\tau) \\right) \\\\\n",
      "=& \\ln \\left( \\prod_{n=1}^N \\left[ \\left( \\frac{\\tau}{2 \\pi} \\right) ^{D/2} \\exp \\left( - \\frac{\\tau}{2} \\parallel x_t-Wz_n-\\mu \\parallel ^2  \\right) \\right]\n",
      "\\prod_{n=1}^N \\left[  \\left( \\frac{1}{2 \\pi} \\right)^{q/2} \\exp \\left( - \\frac{1}{2} z_n^\\top z_n \\right) \\right] \\\\\n",
      "\\prod_{i=1}^q \\left[ \\left( \\frac{\\alpha_i}{2 \\pi} \\right)^{D/2} \\exp \\left( -\\frac{\\alpha_i}{2}  w_i^\\top w_i \\right) \\right]\n",
      "\\prod_{i=1}^q \\left[ \\frac{1}{\\Gamma(a_\\alpha)} b_\\alpha^{a_\\alpha} \\alpha_i^{a_\\alpha-1} e^{-b_\\alpha \\: \\alpha_i} \\right]\\\\ \n",
      "\\left[ \\left(\\frac{ \\beta}{2\\pi} \\right)^{D/2} \\exp \\left( - \\frac{\\beta}{2} \\mu^\\top \\mu \\right) \\right]\n",
      "\\left[ \\frac{1}{\\Gamma(c_\\tau)} d_\\tau^{c_\\tau} \\tau^{c_\\tau-1} e^{-d_\\tau \\: \\tau} \\right] \\right) \n",
      "\\\\\n",
      "=& \\frac{ND}{2} \\ln \\frac{\\tau}{2 \\pi} + \\sum_{n=1}^N \\left[ - \\frac{\\tau}{2} \\parallel x_n-Wz_n-\\mu \\parallel ^2 \\right]\n",
      "+ \\frac{Nq}{2} \\ln \\frac{1}{2 \\pi} + \\sum_{n=1}^N \\left[ - \\frac{1}{2} z_n^\\top z_n \\right] \\\\\n",
      "&+ \\sum_{i=1}^q \\left[ \\frac{D}{2} \\ln \\frac{\\alpha_i}{2 \\pi} \\right] + \\sum_{i=1}^q \\left[ - \\frac{\\alpha_i}{2} w_i^\\top w_i \\right]\n",
      "+ \\: q \\ln \\frac{ b_\\alpha^{a_\\alpha}}{\\Gamma(a_\\alpha)} + \\sum_{i=1}^q \\left[ (a_\\alpha -1) \\ln \\alpha_i - b_\\alpha \\alpha_i \\right] \\\\\n",
      "&+ \\frac{D}{2} \\ln \\frac{\\beta}{2 \\pi} - \\frac{\\beta}{2} \\mu^\\top\\mu - \\ln \\Gamma(c_\\tau) + \\ln d_\\tau^{c_\\tau} + (c_\\tau-1)\\ln \\tau - d_\\tau \\tau\n",
      "\\end{align}\n",
      "$$"
     ]
    },
    {
     "cell_type": "markdown",
     "metadata": {},
     "source": [
      "Bayesian learning results in a posterior distribution over the parameters. If we wish to use $\\ln P(\\Theta,D)$ to assess convergence we have no choice but to use some point estimate of the parameters from the approximated posterior $Q$ to evaluate  $\\ln P(\\Theta,D)$ (we cannot plug in the distribution). However, we consider convergence as $Q$ being as similar to the real posterior $P(\\Theta|D)$ as possible. There is no guarantee that if $Q$ becomes more similar to $P(\\Theta|D)$, that the used point estimate of $Q$ results in a higher value when evaluating $\\ln P(\\Theta,D)$. Therefore $\\ln P(\\Theta,D)$ is not a suitable option to assess convergence."
     ]
    },
    {
     "cell_type": "markdown",
     "metadata": {},
     "source": [
      "### 4. The lower bound $\\mathcal{L}(Q)$ (25 points)\n",
      "\n",
      "Derive an expression for the lower bound $\\mathcal{L}(Q)$ of the log-prob $\\ln p(X)$ for Bayesian PCA, making use of the factorization (eq. 12) and the form of the Q-distributions (eq. 16-20) as listed in [Bishop99]. Show your steps. Implement this function.\n",
      "\n",
      "The following result may be useful:\n",
      "\n",
      "For $x \\sim \\Gamma(a,b)$, we have $\\langle \\ln x\\rangle = \\ln b + \\psi(a)$, where $\\psi(a) = \\frac{\\Gamma'(a)}{\\Gamma(a)}$ is the digamma function (which is implemented in numpy.special)."
     ]
    },
    {
     "cell_type": "markdown",
     "metadata": {},
     "source": [
      "The lower bound can be defined as"
     ]
    },
    {
     "cell_type": "markdown",
     "metadata": {},
     "source": [
      "\\begin{align}\n",
      "\\mathcal{L}(Q) =& \\int Q(\\Theta) \\ln \\dfrac{P(D,\\Theta)}{Q(\\Theta)} \\hspace{2mm} d \\Theta\\\\\n",
      "                =& \\int Q(\\Theta) \\ln P(D,\\Theta) \\hspace{2mm} d \\Theta  - \\int Q(\\Theta) \\ln Q(\\Theta)  \\hspace{2mm} d \\Theta\\\\\n",
      "                = & \\mathbb{E}_Q[ \\ln P(D,\\Theta)] - \\mathbb{E}_Q[\\ln Q(\\Theta)]\\\\\n",
      "                ~\n",
      "               =& \\mathbb{E}_Q \\left[ \\ln \\left( \\prod_{n=1}^{N} P (t_n | x_n, W, \\mu, \\tau) \\right) \\right] \\\\\n",
      "               & + \\mathbb{E}_Q \\left[ \\ln P(X) \\right ] \\\\\n",
      "               & + \\mathbb{E}_Q \\left[\\ln  P(W | \\alpha ) \\right] \\\\\n",
      "               & + \\mathbb{E}_Q \\left[ \\ln P(\\alpha) \\right]\\\\\n",
      "               &+ \\mathbb{E}_Q \\left[ \\ln P(\\mu) \\right] \\\\\n",
      "                & + \\mathbb{E}_Q \\left[ \\ln P(\\tau) \\right] \\\\\n",
      "                & - \\mathbb{E}_Q \\left[ \\ln Q(X) \\right] \\\\\n",
      "                & - \\mathbb{E}_Q \\left[ \\ln Q(W) \\right] \\\\\n",
      "                & - \\mathbb{E}_Q \\left[ \\ln \\left( Q(\\alpha) \\right) \\right] \\\\\n",
      "                & - \\mathbb{E}_Q \\left[ \\ln Q(\\mu) \\right] \\\\\n",
      "                & - \\mathbb{E}_Q \\left[ \\ln \\left( Q(\\tau) \\right) \\right]\\\\\n",
      "\\end{align}"
     ]
    },
    {
     "cell_type": "markdown",
     "metadata": {},
     "source": [
      "Note that we can treat $ P (t_n | x_n, W, \\mu, \\tau)  $  as a constant because $t$ is observed. So $\\mathcal{L}(Q)$ becomes\n",
      "\n",
      "\\begin{align}\n",
      "\\mathcal{L}(Q) = & \\mathbb{E}_Q \\left[ \\ln \\left( \\prod_{n=1}^{N} \\mathcal{N}(x_n|0, I_q) \\right) \\right]              \\\\\n",
      "                & + \\mathbb{E}_Q \\left[ \\ln \\left( \\prod_{i=1}^{q} (\\dfrac{\\alpha_i}{2 \\pi})^{d/2}  \\exp( - \\dfrac{1}{2} \\alpha_i ||w_i||^2 ) \\right) \\right] \\\\\n",
      "                & + \\mathbb{E}_Q \\left[ \\ln \\left( \\prod_{i=1}^{q} \\Gamma ( \\alpha_i| a_{\\alpha}, b_{\\alpha}) \\right) \\right] \\\\\n",
      "                & + \\mathbb{E}_Q \\left[ \\ln \\left( \\mathcal{N}(\\mu|0, \\beta^{-1} I) \\right) \\right] \\\\\n",
      "                & + \\mathbb{E}_Q \\left[ \\ln \\left( \\Gamma(\\tau|c_\\tau, d_\\tau ) \\right) \\right] \\\\\n",
      "                & - \\mathbb{E}_Q \\left[ \\ln \\left( \\prod_{n=1}^{N} \\mathcal{N}(x_n| m_x^{(n)}, \\Sigma_x) \\right) \\right] \\\\\n",
      "                & - \\mathbb{E}_Q \\left[ \\ln \\left( \\prod_{k=1}^{d}  \\mathcal{N}(\\widetilde{w}_k | m_w^{(k)}, \\Sigma_w) \\right) \\right] \\\\\n",
      "                & - \\mathbb{E}_Q \\left[ \\ln \\left( \\prod_{i=1}^{q} \\Gamma(\\alpha_i| \\widetilde{a}_\\alpha, \\widetilde{b}_{\\alpha i} ) \\right) \\right] \\\\\n",
      "                & - \\mathbb{E}_Q \\left[ \\ln \\left( \\mathcal{N}(\\mu | m_\\mu, \\Sigma_\\mu) \\right) \\right] \\\\\n",
      "                & - \\mathbb{E}_Q \\left[ \\ln \\left( \\Gamma(\\tau | \\widetilde{a}_\\tau, \\widetilde{b}_\\tau ) \\right) \\right] \\\\\n",
      "                & + \\text{const}\n",
      "\\end{align}\n",
      "\n"
     ]
    },
    {
     "cell_type": "markdown",
     "metadata": {},
     "source": [
      "We have evaluated the ten integrals corresponding to these ten expectations analytically. \n",
      "\n",
      "Below we give the derivation for each of them."
     ]
    },
    {
     "cell_type": "markdown",
     "metadata": {},
     "source": [
      "1"
     ]
    },
    {
     "cell_type": "markdown",
     "metadata": {},
     "source": [
      "\\begin{align}\n",
      " \\mathbb{E}_Q \\left[ \\ln  P(X) \\right] = & \\mathbb{E}_Q \\left[ \\ln \\left( \\prod_{n=1}^{N} \\mathcal{N}(x_n|0, I_q) \\right) \\right]   \\\\\n",
      "= & \\int Q(\\Theta) \\sum_{n=1}^N \\ln \\left( \\mathcal{N}(x_n | 0, I_q \\right) d \\Theta\\\\\n",
      "= & \\sum_{n=1}^N \\int Q(x_n) \\ln \\left( \\mathcal{N} (x_n | 0, I_q \\right) d x_n \\\\\n",
      "= & \\sum_{n=1}^N \\int Q(x_n)\\left[ - \\dfrac{1}{2} (x_n - 0)^{T} I_q^{-1} (x_n - 0) - \\dfrac{q}{2} \\ln ( 2 \\pi)\n",
      "            - \\dfrac{1}{2} \\ln (\\text{det}(I_q)) \\right] d x_n \\\\\n",
      "= & -\\dfrac{1}{2} \\sum_{n=1}^N \\int Q(x_n) x_n^{T}x_n d x_n - \\dfrac{q}{2} \\ln (2 \\pi) \\sum_{n=1}^N \\int Q(x_n) d x_n -\n",
      "                    \\dfrac{1}{2} \\ln (\\text{det} (I_q)) \\sum_{n=1}^N \\int Q(x_n ) d x_n \\\\\n",
      "= & - \\dfrac{1}{2} \\sum_{n=1}^{N} \\int Q(x_n) x_n^{T}x_n d x_n + \\text{const} \\\\\n",
      "\\end{align}\n",
      "\n",
      "Rule 355 of <a href=\"http://www2.imm.dtu.dk/pubdb/views/edoc_download.php/3274/pdf/imm3274.pdf\"> the Matrix Cookbook</a> says that $ \\mathbb{E}_P[x^{T}Ax] = \\text{Tr}(A \\Sigma) + m^{T} A m $ where $m$ and $\\Sigma$ are the mean and covariance of $P$, so\n",
      "\n",
      "\\begin{align}\n",
      " \\mathbb{E}_Q \\left[ \\ln  P(X) \\right]   = & \n",
      "     -\\dfrac{1}{2} \\left( N \\cdot \\text{Tr}(\\Sigma_x) + \\sum_{n=1}^N {m_x^{(n)}}^{T}  {m_x^{(n)}} \\right) + \\text{const}\\\\\n",
      "     = & -\\dfrac{N}{2} \\text{Tr}(\\Sigma_x) -\\dfrac{1}{2}  \\sum_{n=1}^N {m_x^{(n)}}^{T}  {m_x^{(n)}} + \\text{const}\n",
      "\\end{align}"
     ]
    },
    {
     "cell_type": "markdown",
     "metadata": {},
     "source": [
      "2"
     ]
    },
    {
     "cell_type": "markdown",
     "metadata": {},
     "source": [
      "\\begin{align}\n",
      "\\mathbb{E}_Q [\\ln P(W|\\alpha)] = & \\mathbb{E}_Q \\left[ \\ln \\left( \\prod_{i=1}^{q} (\\dfrac{\\alpha_i}{2 \\pi})^{d/2}  \\exp( - \\dfrac{1}{2} \\alpha_i ||w_i||^2 ) \\right) \\right]\\\\\n",
      "=& \\sum_{i=1}^q -\\dfrac{d}{2} \\ln( 2 \\pi) \\int Q(\\alpha_i) \\left[ \\int Q(w_i) \\left( \\ln (\\alpha_i) - \\dfrac{1}{2} \\alpha_i w_i^{T}w_i \\right)  d w_i \\right] d \\alpha_i \\\\\n",
      "=&  \\sum_{i=1}^q -\\dfrac{d}{2} \\ln( 2 \\pi) - \\dfrac{1}{2} \\int Q(\\alpha_i) \\left( \\ln(\\alpha_i) - \\alpha_i \\left[ \\int Q(w_i) w_i^{T} w_i  d w_i\\right] \\right)  d \\alpha_i \\\\\n",
      "\\end{align}\n",
      "\n",
      "Again we can use rule 355 from the Matrix Cookbook.\n",
      "\n",
      "\\begin{align}\n",
      "\\mathbb{E}_Q [\\ln P(W|\\alpha)] =& \\sum_{i=1}^q -\\dfrac{d}{2} \\ln( 2 \\pi) (- \n",
      "    \\dfrac{1}{2}) \\int Q(\\alpha_i) \n",
      "        \\left( \\ln(\\alpha_i) - \\alpha_i( \\text{Tr}(\\alpha_i I) \\right) d \\alpha_i \\\\\n",
      "= & \\sum_{i=1}^q -\\dfrac{d}{2} \\ln( 2 \\pi) (- \n",
      "    \\dfrac{1}{2}) \\int Q(\\alpha_i)      \n",
      "        \\left( \\ln(\\alpha_i) - d \\alpha_i^{2} \\right)\n",
      "        d \\alpha_i \\\\\n",
      "= & \\sum_{i=1}^q -\\dfrac{d}{2} \\ln( 2 \\pi)( - \n",
      "    \\dfrac{1}{2})\n",
      "    \\left( \n",
      "        \\int Q(\\alpha_i)  \\ln(\\alpha_i) d \\alpha_i\n",
      "        -\n",
      "        d \\int Q(\\alpha_i) \\alpha_i^2 d \\alpha_i\n",
      "        \\right)        \\\\\n",
      "\\end{align}\n",
      "\n",
      "We can make use of the fact that $\\mathbb{E}_P[\\ln x ] = \\psi(a) - \\ln(b)$ if $P(x) = \\Gamma(x|a,b)$, where $\\psi(\\cdot)$ is the digamma function;\n",
      "\n",
      "and we can make use of the fact that $\\mathbb{E}_P[x^2] = \\dfrac{(a+1)a}{b^2}$ if $P(x) = \\Gamma(x|a,b)$:\n",
      "\n",
      "\\begin{align}\n",
      "\\mathbb{E}_Q [\\ln P(W|\\alpha)] = &  \\sum_{i=1}^q -\\dfrac{d}{2} \\ln( 2 \\pi) (- \n",
      "    \\dfrac{1}{2})\n",
      "        \\left(\n",
      "            (\\psi(\\widetilde{a}_\\alpha) - \\ln( \\widetilde{b}_{\\alpha i} ) )\n",
      "            - d \\dfrac{ ( \\widetilde{a}_\\alpha + 1 ) \\widetilde{a}_\\alpha}\n",
      "                        { \\widetilde{b}_{\\alpha i}^{2} }\n",
      "         \\right)\\\\\n",
      "= &  \\dfrac{d}{4} \\ln( 2 \\pi) \\sum_{i=1}^q \n",
      "            \\left( \n",
      "              (  \\psi(\\widetilde{a}_\\alpha) - \\ln ( \\widetilde{b}_{\\alpha i}) )-\n",
      "                    \\dfrac{d ( \\widetilde{a}_{\\alpha} + 1 ) \\widetilde{a}_\\alpha }\n",
      "                            { \\widetilde{b}^{2}_{\\alpha i} }\n",
      "              \\right)            \\\\\n",
      "= & \\dfrac{d}{4} \\ln(2 \\pi) \\left( q \\cdot \\psi(\\widetilde{a}_\\alpha) - \\sum_{i=1}^q \\ln (\\widetilde{b}_{\\alpha i}) \n",
      "                               - \\sum_{i=1}^{q} \\left( \\dfrac{d (\\widetilde{a}_\\alpha^2 + \\widetilde{a}_\\alpha) } {\\widetilde{b}_{\\alpha i}^2 } \\right) \\right)               \n",
      "\\end{align}"
     ]
    },
    {
     "cell_type": "markdown",
     "metadata": {},
     "source": [
      "3"
     ]
    },
    {
     "cell_type": "markdown",
     "metadata": {},
     "source": [
      "\\begin{align}\n",
      "\\mathbb{E}_Q \\left[ \\ln P(\\alpha) \\right] =& \\mathbb{E}_Q \\left[ \\ln \\left( \\prod_{i=1}^{q} \\Gamma ( \\alpha_i| a_{\\alpha}, b_{\\alpha}) \\right) \\right]\\\\\n",
      "= & \\int Q(\\alpha) \\sum_{i=1}^q \\ln( \\Gamma(\\alpha_i|a_\\alpha, b_\\alpha)) d \\alpha \\\\\n",
      "=& \\sum_{i=1}^q  \\int Q(\\alpha_i) \\ln (\\Gamma (\\alpha_i| a_\\alpha , b_\\alpha)) d\\alpha_i \\\\\n",
      "= & \\sum_{i=1}^q \\int Q(\\alpha_i) \\ln \\left( \\dfrac{1}{\\Gamma(a_\\alpha)} \\right) d \\alpha_i +\n",
      "   \\sum_{i=1}^q \\int Q(\\alpha_i) \\ln (b_{\\alpha}^{a_\\alpha} )d \\alpha_i  + \\\\\n",
      "    & \\sum_{i=1}^q \\int Q(\\alpha_i)  \\ln \\left( \\alpha_{i}^{a_\\alpha - 1} \\right) d \\alpha_i + \n",
      "    \\sum_{i=1}^q \\int Q(\\alpha_i) (- b_\\alpha \\alpha_i ) d \\alpha_i \\\\\n",
      "= & \\text{const} +  \n",
      "         (a_\\alpha - 1) \\sum_{i=1}^q   \\int Q(\\alpha_i)  \\ln \\left( \\alpha_{i} \\right) d \\alpha_i - \n",
      "         b_\\alpha \\sum_{i=1}^q \\int Q(\\alpha_i)  \\alpha_i  d \\alpha_i \\\\\n",
      "\\end{align}\n",
      "\n",
      "We make use of the fact that $\\mathbb{E}_P[\\ln x ] = \\psi(a) - \\ln(b)$ if $P(x) = \\Gamma(x|a,b)$, where $\\psi(\\cdot)$ is the digamma function;  \n",
      "and \n",
      "of the fact that $\\mathbb{E}_P[x] = \\dfrac{a}{b}$ if $P(x) = \\Gamma(x|a,b)$.\n",
      "Then:\n",
      "\n",
      "\\begin{align}\n",
      "\\mathbb{E}_Q \\left[ \\ln P(\\alpha) \\right] =& \n",
      "     \\cdot  (a_\\alpha - 1) \\cdot  \\sum_{i=1}^q   \\left(\\psi(\\widetilde{a}_\\alpha) - \\ln(\\widetilde{b}_{\\alpha, i})\\right)\n",
      "     -\n",
      "      b_\\alpha \\sum_{i=1}^q  \\left( \\dfrac{\\widetilde{a}_\\alpha}{\\widetilde{b}_{\\alpha, i}} \\right)\n",
      "     + \\text{const} \\\\\n",
      "     = &    (a_\\alpha - 1) \\left(  q \\cdot  \\psi(\\widetilde{a}_\\alpha) - \\sum_{i=1}^q  \\left( \\ln(\\widetilde{b}_{\\alpha, i})\\right) \\right)\n",
      "     -\n",
      "      b_\\alpha \\sum_{i=1}^q  \\left( \\dfrac{\\widetilde{a}_\\alpha}{\\widetilde{b}_{\\alpha, i}} \\right)\n",
      "     + \\text{const} \n",
      "\\end{align}"
     ]
    },
    {
     "cell_type": "markdown",
     "metadata": {},
     "source": [
      "4"
     ]
    },
    {
     "cell_type": "markdown",
     "metadata": {},
     "source": [
      "\\begin{align}\n",
      "\\mathbb{E}_Q \\left[ \\ln P(\\mu) \\right] = & \\mathbb{E}_Q \\left[ \\ln \\left( \\mathcal{N}(\\mu|0, \\beta^{-1} I) \\right) \\right]\\\\\n",
      "= & \\mathbb{E}_Q \\left[ - \\dfrac{d}{2}  \\ln ( 2 \\pi)  - \\dfrac{1}{2} \\mu^{T} \\beta \\mu  - \\dfrac{1}{2} \\ln(\\text{det}(\\beta^{-1} I) \\right]\\\\\n",
      "= & -  \\int Q(\\Theta)  \\dfrac{d}{2} \\ln \\left( {2\\pi} \\right) + \\left( \\dfrac{\\beta}{2} \\mu^{T}\\mu \\right)   + \\dfrac{1}{2} \\ln(\\text{det}(\\beta^{-1} I) d \\Theta \\\\\n",
      "= & - \\int Q(\\mu)  \\dfrac{d}{2} \\ln \\left( {2\\pi} \\right) + \\left( \\dfrac{\\beta}{2} \\mu^{T}\\mu \\right)   + \\dfrac{1}{2} \\ln(\\text{det}(\\beta^{-1} I) d \\mu \\\\\n",
      "= & - \\dfrac{d}{2} \\ln \\left( {2\\pi} \\right)  \\int Q(\\mu)  d \\mu - \n",
      "        \\dfrac{1}{2} \\ln(\\text{det}(\\beta^{-1} I) \\int Q(\\mu) d \\mu\n",
      "        - \\int Q(\\mu) \\left( \\dfrac{\\beta}{2} \\mu^{T}\\mu \\right) d \\mu\\\\\n",
      "= &  - \\text{const} - \\dfrac{\\beta}{2} \\int Q(\\mu) \\mu^{T}\\mu d \\mu \\\\\n",
      "= & - \\dfrac{\\beta}{2} \\int Q(\\mu) \\mu^{T}\\mu d \\mu + \\text{const} \\\\\n",
      "\\end{align}\n",
      "\n",
      "Again we make use of rule 355 of the Matrix Cookbook which states that $ \\mathbb{E}_P[x^{T}Ax] = \\text{Tr}(A \\Sigma) + m^{T} A m $ where $m$ and $\\Sigma$ are the mean and covariance of $P$, so\n",
      "\n",
      "\\begin{align}\n",
      "\\mathbb{E}_Q \\left[ \\ln P(\\mu) \\right] = & - \\dfrac{\\beta}{2} \\left( \\text{Tr}(\\Sigma_\\mu) + m_\\mu^{T} m_\\mu \\right) +  \\text{const} \\\\\n",
      "\\end{align}\n",
      "\n",
      "Because $\\mu$ is $d$-dimensional and $\\Sigma_\\mu$ is defined as $(\\beta + N\\langle \\tau \\rangle)^{-1} I$\n",
      "\n",
      "\\begin{align}\n",
      "\\mathbb{E}_Q \\left[ \\ln P(\\mu) \\right] = &- \\dfrac{\\beta}{2} \\left( \\dfrac{d}{\\beta + N \\langle \\tau \\rangle } + m_\\mu^{T} m_\\mu \\right) +  \\text{const}\\\\\n",
      "\\end{align}\n",
      "\n",
      "Because $Q(\\tau) = \\Gamma (\\tau | \\widetilde{a}_\\tau, \\widetilde{b}_\\tau)$we end up with\n",
      "\n",
      "\\begin{align}\n",
      "\\mathbb{E}_Q \\left[ \\ln P(\\mu) \\right] = &\n",
      "    - \\dfrac{\\beta}{2} \n",
      "    \\left( \\dfrac{d}{\\beta + N ({ \\widetilde{a}_\\tau } / { \\widetilde{b}_\\tau} ) }\n",
      "+ m_\\mu^{T} m_\\mu  \\right) +  \\text{const}\\\\\n",
      "\\end{align}"
     ]
    },
    {
     "cell_type": "markdown",
     "metadata": {},
     "source": [
      "5"
     ]
    },
    {
     "cell_type": "markdown",
     "metadata": {},
     "source": [
      "\\begin{align}\n",
      "\\mathbb{E}_Q \\left[ \\ln P(\\tau) \\right] = & \\mathbb{E}_Q \\left[ \\ln \\left( \\Gamma(\\tau|c_\\tau, d_\\tau ) \\right) \\right] \\\\\n",
      "= & \\mathbb{E}\\left[ \\ln \\left( \\dfrac{1}{\\Gamma (c_\\tau)} d_\\tau^{c_\\tau} \\tau^{c_\\tau -1} e^{-c_\\tau \\cdot \\tau} \\right) \\right]\\\\\n",
      "= & \\int Q(\\Theta) \\left( - \\ln(\\Gamma (c_\\tau)) + c_\\tau \\ln(d_\\tau) + (c_\\tau - 1) \\ln (\\tau) - d_\\tau \\cdot \\tau \\right) \\hspace{3mm} d \\Theta \\\\\n",
      "= & - \\int Q(\\tau) \\ln(\\Gamma (c_\\tau)) \\hspace{3mm} d \\tau \n",
      "    + \\int Q(\\tau) c_\\tau \\ln(d_\\tau)  \\hspace{3mm} d \\tau  \n",
      "    + \\int Q(\\tau) (c_\\tau - 1) \\ln (\\tau) \\hspace{3mm} d \\tau  \n",
      "    - \\int Q(\\tau) d_\\tau \\cdot \\tau \\hspace{3mm} d \\tau    \\\\\n",
      "= &   (c_\\tau - 1) \\int Q(\\tau)  \\ln (\\tau) \\hspace{3mm} d \\tau  \n",
      "    -   d_\\tau \\int Q(\\tau)  \\tau \\hspace{3mm} d \\tau   \n",
      "     + \\text{const} \\\\   \n",
      "\\end{align}\n",
      "\n",
      "Again make use of the fact that $\\mathbb{E}_P[\\ln x ] = \\psi(a) - \\ln(b)$ if $P(x) = \\Gamma(x|a,b)$, where $\\psi(\\cdot)$ is the digamma function;  \n",
      "and \n",
      "of the fact that $\\mathbb{E}_P[x] = \\dfrac{a}{b}$ if $P(x) = \\Gamma(x|a,b)$.\n",
      "Then:\n",
      "\n",
      "\\begin{align}\n",
      "\\mathbb{E}_Q \\left[ \\ln P(\\tau) \\right] \n",
      "= &   (c_\\tau - 1) \\left( \\psi(\\widetilde{a}_\\tau) - \\ln(\\widetilde{b}_\\tau )\\right)\n",
      "    -   d_\\tau  \\dfrac{\\widetilde{a}_\\tau }{\\widetilde{b}_\\tau}  \n",
      "     + \\text{const} \\\\   \n",
      "\\end{align}"
     ]
    },
    {
     "cell_type": "markdown",
     "metadata": {},
     "source": [
      "6"
     ]
    },
    {
     "cell_type": "markdown",
     "metadata": {},
     "source": [
      "\\begin{align}\n",
      "\\mathbb{E}_Q \\left[ \\ln Q(X) \\right] = &  \\mathbb{E}_Q \\left[ \\ln \\left( \\prod_{n=1}^{N} \\mathcal{N}(x_n| m_x^{(n)}, \\Sigma_x) \\right) \\right] \\\\\n",
      "= & \\sum_{n=1}^N \\mathbb{E}_Q \\left[ \n",
      "                                    \\ln \\left( \\dfrac{1}{(2 \\pi)^{(q/2)}} \\dfrac{1}{\\text{det}(\\Sigma_x)^{(1/2)}} \\right)\n",
      "                                  + \\left( -\\dfrac{1}{2} (x_n - m_x^{(n)} )^{T}\\Sigma_x^{-1} (x_n - m_x^{(n)}) \\right) \n",
      "                                  \\right] \\\\\n",
      "= & N \\cdot  \\ln \\left( \\dfrac{1}{(2 \\pi)^{(q/2)}} \\right)\n",
      "        +  N \\cdot \\left( \\dfrac{1}{\\text{det}(\\Sigma_x)^{(1/2)}} \\right)\n",
      "        - \\sum_{n=1}^N \\dfrac{1}{2} \\int Q(x_n)  (x_n - m_x^{(n)} )^{T}\\Sigma_x^{-1} (x_n - m_x^{(n)}) \\hspace{3mm} d x_n\\\\\n",
      "= &  - \\sum_{n=1}^N \\dfrac{1}{2} \\int Q(x_n)  (x_n - m_x^{(n)} )^{T}\\Sigma_x^{-1} (x_n - m_x^{(n)}) \\hspace{3mm} d x_n + \\text{const}\n",
      "\\end{align}\n",
      "\n",
      "We recognize $(x_n - m_x^{(n)} )^{T}\\Sigma_x^{-1} (x_n - m_x^{(n)}) $ as the square of the Mahalanobis distance $\\vartriangle$.\n",
      "\n",
      "As stated  for example <a href=\"http://stat.ethz.ch/education/semesters/ss2012/ams/slides/v7.2.pdf\"> here</a> , the expectation of the squared Mahalanobis distance pertaining to $x$ and $m$ under a multivariate Gaussian  $\\mathcal{N}(x|m, \\Sigma)$  corresponds to a Chi-square distribution $\\chi^2_{n}$ with the dimensionality of the space of the distribution as the degrees of freedom $n$. This $\\chi^2_n$ distribution has as expected value also $n$. \n",
      "\n",
      "So: $\\mathbb{E}_P[\\vartriangle^2] =  \\text{dimensionality}(x \\sim P(x))$\n",
      "\n",
      "\n",
      "This can also be derived by using rule 357 from the Matrix Cookbook which states that $\\mathbb{E}_P[(x - m')^{T} A (x-m')] = (m-m')^{T} A (m-m') + \\text{Tr}(A \\Sigma)$, if $P(x) = \\mathcal{N}(x | m, \\Sigma)$. We would get $\\text{Tr}(I_q)$.\n",
      "\n",
      "Therefore we end up with\n",
      "\n",
      "\\begin{align}\n",
      "\\mathbb{E}_Q \\left[ \\ln Q(X) \\right] = & -  \\dfrac{N}{2} q + \\text{const}\\\\\n",
      "= & \\text{const}\n",
      "\\end{align}"
     ]
    },
    {
     "cell_type": "markdown",
     "metadata": {},
     "source": [
      "7"
     ]
    },
    {
     "cell_type": "markdown",
     "metadata": {},
     "source": [
      "\\begin{align}\n",
      "\\mathbb{E}_Q\\left[\\ln Q(W) \\right] = & \\mathbb{E}_Q \\left[ \\ln \\left( \\prod_{k=1}^{d}  \\mathcal{N}(\\widetilde{w}_k | m_w^{(k)}, \\Sigma_w) \\right) \\right]\\\\\n",
      "= &  - \\sum_{k=1}^d \\dfrac{1}{2} \\int Q(\\widetilde{w}_k)  (\\widetilde{w}_k - m_w^{(k)} )^{T}\\Sigma_w^{-1} (\\widetilde{w}_k - m_w^{(k)}) \\hspace{3mm} d \\widetilde{w}_k + \\text{const} \\\\\n",
      "= & - \\dfrac{d}{2} q + \\text{const}\\\\\n",
      "= & \\text{const}\n",
      "\\end{align}\n",
      "\n",
      "Where we have followed the same reasoning as for $\\mathbb{E}_Q[\\ln Q(X)]$ above."
     ]
    },
    {
     "cell_type": "markdown",
     "metadata": {},
     "source": [
      "8"
     ]
    },
    {
     "cell_type": "markdown",
     "metadata": {},
     "source": [
      "\\begin{align}\n",
      " \\mathbb{E}_Q\\left[ \\ln Q(\\alpha) \\right] =&  \\mathbb{E}_Q \\left[ \\ln \\left( \\prod_{i=1}^{q} \\Gamma(\\alpha_i| \\widetilde{a}_\\alpha, \\widetilde{b}_{\\alpha i} ) \\right) \\right] \\\\\n",
      " =& \\sum_{i=1}^q \\int Q(\\alpha_i) \\ln \\left( \n",
      "     \\dfrac{1}{\\Gamma(\\widetilde{a}_\\alpha)} \\cdot\n",
      "     \\widetilde{b}^{\\widetilde{a}_\\alpha}_{\\alpha i} \\cdot\n",
      "     \\alpha_i^{(\\widetilde{a}_\\alpha - 1) } \\cdot\n",
      "     e^{- \\widetilde{b}_{\\alpha i} \\alpha_i} \n",
      "     \\right) \\hspace{3mm} d \\alpha_i \\\\\n",
      "=& \\sum_{i=1}^q \\int Q(\\alpha_i)  \\dfrac{1}{\\Gamma(\\widetilde{a}_\\alpha)} \\hspace{3mm} d \\alpha_i +\n",
      "   \\sum_{i=1}^q \\int Q(\\alpha_i) \\ln \\left(   \\widetilde{b}^{\\widetilde{a}_\\alpha}_{\\alpha i} \\right) \\hspace{3mm} d \\alpha_i  +\n",
      "   \\sum_{i=1}^q \\int Q(\\alpha_i) \\ln \\left(   \\alpha_i^{(\\widetilde{a}_\\alpha - 1) }   \\right) \\hspace{3mm} d \\alpha_i  -\n",
      "    \\sum_{i=1}^q \\int Q(\\alpha_i) \\widetilde{b}_{\\alpha i} \\alpha_i \\hspace{3mm} d \\alpha_i \\\\\n",
      "=& (\\widetilde{a}_\\alpha - 1)  \\sum_{i=1}^q \\int Q(\\alpha_i) \\ln   \\alpha_i    \\hspace{3mm} d \\alpha_i -\n",
      "    \\sum_{i=1}^q \\widetilde{b}_{\\alpha i}  \\int Q(\\alpha_i) \\alpha_i \\hspace{3mm} d \\alpha_i \n",
      "    + \\text{const}\n",
      "\\end{align}\n",
      "\n",
      "Again we make use of the fact that $\\mathbb{E}_P[\\ln x ] = \\psi(a) - \\ln(b)$ if $P(x) = \\Gamma(x|a,b)$, where $\\psi(\\cdot)$ is the digamma function;  \n",
      "and \n",
      "of the fact that $\\mathbb{E}_P[x] = \\dfrac{a}{b}$ if $P(x) = \\Gamma(x|a,b)$.\n",
      "Then:\n",
      "\n",
      "\\begin{align}\n",
      " \\mathbb{E}_Q\\left[ \\ln Q(\\alpha) \\right] \n",
      "=&    (\\widetilde{a}_\\alpha - 1)  \\sum_{i=1}^q \\left( \\psi(\\widetilde{a}_\\alpha) - \\ln(\\widetilde{b}_{\\alpha i}) \\right) -\n",
      "      \\sum_{i=1}^q  \\widetilde{b}_{\\alpha i} \\left( \\dfrac{\\widetilde{a}_\\alpha}{\\widetilde{b}_{\\alpha i}} \\right)\n",
      "      + \\text{const} \\\\\n",
      "=&    (\\widetilde{a}_\\alpha - 1)   \\left( q  \\cdot \\psi(\\widetilde{a}_\\alpha) - \\left(  \\sum_{i=1}^q \\ln(\\widetilde{b}_{\\alpha i}) \\right) \\right)  -\n",
      "        q \\cdot \\widetilde{a}_\\alpha\n",
      "         + \\text{const} \\\\\n",
      "\\end{align}"
     ]
    },
    {
     "cell_type": "markdown",
     "metadata": {},
     "source": [
      "9"
     ]
    },
    {
     "cell_type": "markdown",
     "metadata": {},
     "source": [
      "\\begin{align}\n",
      "\\mathbb{E}_q [ \\ln Q(\\mu)] = & \\mathbb{E}_Q \\left[ \\ln \\left( \\mathcal{N}(\\mu | m_\\mu, \\Sigma_\\mu) \\right) \\right] \\\\\n",
      "=& \\int Q(\\mu) \\left[ \\left( -\\dfrac{1}{2} (\\mu - m_\\mu)^{T} \\Sigma_\\mu (\\mu - m_\\mu) \\right) -\n",
      "                    \\left( \\dfrac{d}{2} \\ln (2 \\pi) \\right) -\n",
      "                    \\left( \\dfrac{1}{2} \\ln (\\text{det}(\\Sigma_\\mu)) \\right)\n",
      "                \\right] d \\mu\\\\\n",
      "=& - \\dfrac{1}{2} \\int Q(\\mu) (\\mu - m_\\mu)^{T} \\Sigma_\\mu (\\mu - m_\\mu) d \\mu + \\text{const} \\\\\n",
      "=& - \\dfrac{d}{2} + \\text{const} \\\\\n",
      "=& \\text{const}\n",
      "\\end{align}\n",
      "\n",
      "Where we have followed the same reasoning as for $\\mathbb{E}_Q[\\ln Q(X)]$ above."
     ]
    },
    {
     "cell_type": "markdown",
     "metadata": {},
     "source": [
      "10"
     ]
    },
    {
     "cell_type": "markdown",
     "metadata": {},
     "source": [
      "\\begin{align}\n",
      "\\mathbb{E}_Q[\\ln Q(\\tau)] = & \\mathbb{E}_Q \\left[ \\ln \\left( \\Gamma(\\tau | \\widetilde{a}_\\tau, \\widetilde{b}_\\tau ) \\right) \\right]\\\\\n",
      "= & \\left(\\psi(\\widetilde{a}_\\tau) - \\ln( \\widetilde{b}_\\tau) \\right) - \\widetilde{b}_\\tau \\left( \\dfrac{ \\widetilde{a}_\\tau}{\\widetilde{b}_\\tau} \\right) + \\text{const}\\\\\n",
      "= & \\left(\\psi(\\widetilde{a}_\\tau) - \\ln( \\widetilde{b}_\\tau) \\right) - \\widetilde{a}_\\tau + \\text{const}\n",
      "\\end{align}\n",
      "\n",
      "Where we have followed the same reasoning as for e.g.  $\\mathbb{E}_Q \\left[ \\ln P(\\tau) \\right] $ above."
     ]
    },
    {
     "cell_type": "markdown",
     "metadata": {},
     "source": [
      "The whole lower bound $\\mathcal{L}(Q)$ can now be expressed as:\n",
      "\n",
      "\\begin{align}\n",
      "\\mathcal{L}(Q) =& -\\dfrac{N}{2} \\text{Tr}(\\Sigma_x) -\\dfrac{1}{2}  \\sum_{n=1}^N {m_x^{(n)}}^{T}  {m_x^{(n)}} \\\\\n",
      "               & + \\dfrac{d}{4} \\ln(2 \\pi) \\left( q \\cdot \\psi(\\widetilde{a}_\\alpha) - \\sum_{i=1}^q \\ln (\\widetilde{b}_{\\alpha i}) \n",
      "                               - \\sum_{i=1}^{q} \\left( \\dfrac{d (\\widetilde{a}_\\alpha^2 + \\widetilde{a}_\\alpha) } {\\widetilde{b}_{\\alpha i}^2 } \\right) \\right) \\\\\n",
      "              & +    (a_\\alpha - 1) \\left(  q \\cdot  \\psi(\\widetilde{a}_\\alpha) - \\sum_{i=1}^q  \\left( \\ln(\\widetilde{b}_{\\alpha, i})\\right) \\right)\n",
      "                    - b_\\alpha \\sum_{i=1}^q  \\left( \\dfrac{\\widetilde{a}_\\alpha}{\\widetilde{b}_{\\alpha, i}} \\right) \\\\\n",
      "              & - \\dfrac{\\beta}{2}     \\left( \\dfrac{d}{\\beta + N ({ \\widetilde{a}_\\tau } / { \\widetilde{b}_\\tau} ) } + m_\\mu^{T} m_\\mu  \\right)\\\\\n",
      "              & + (c_\\tau - 1) \\left( \\psi(\\widetilde{a}_\\tau) - \\ln(\\widetilde{b}_\\tau )\\right)     -   d_\\tau  \\dfrac{\\widetilde{a}_\\tau }{\\widetilde{b}_\\tau} \\\\\n",
      "              & - (\\widetilde{a}_\\alpha - 1)   \\left( q  \\cdot \\psi(\\widetilde{a}_\\alpha) - \\left(  \\sum_{i=1}^q \\ln(\\widetilde{b}_{\\alpha i}) \\right) \\right)  +\n",
      "        q \\cdot \\widetilde{a}_\\alpha \\\\\n",
      "              & - \\left(\\psi(\\widetilde{a}_\\tau) - \\ln( \\widetilde{b}_\\tau) \\right) + \\widetilde{a}_\\tau\\\\\n",
      "              & + \\text{const}\n",
      "\\end{align}\n"
     ]
    },
    {
     "cell_type": "markdown",
     "metadata": {},
     "source": [
      "### 5. Optimize variational parameters (50 points)\n",
      "Implement the update equations for the Q-distributions, in the __update_XXX methods. Each update function should re-estimate the variational parameters of the Q-distribution corresponding to one group of variables (i.e. either $Z$, $\\mu$, $W$, $\\alpha$ or $\\tau$)."
     ]
    },
    {
     "cell_type": "markdown",
     "metadata": {},
     "source": [
      "### 6. Learning algorithm (10 points)\n",
      "Implement the learning algorithm described in [Bishop99], i.e. iteratively optimize each of the Q-distributions holding the others fixed.\n",
      "\n",
      "What would be a good way to track convergence of the algorithm? Implement your suggestion.\n",
      "\n",
      "Test the algorithm on some test data drawn from a Gaussian with different variances in orthogonal directions. "
     ]
    },
    {
     "cell_type": "markdown",
     "metadata": {},
     "source": [
      "### 7. PCA Representation of MNIST (10 points)\n",
      "\n",
      "Download the MNIST dataset from here http://deeplearning.net/tutorial/gettingstarted.html (the page contains python code for loading the data). Run your algorithm on (part of) this dataset, and visualize the results.\n"
     ]
    },
    {
     "cell_type": "code",
     "collapsed": false,
     "input": [
      "import cPickle, gzip, numpy\n",
      "\n",
      "# Load the dataset\n",
      "f = gzip.open('../mnist.pkl.gz', 'rb')\n",
      "train_set, valid_set, test_set = cPickle.load(f)\n",
      "f.close()"
     ],
     "language": "python",
     "metadata": {},
     "outputs": [],
     "prompt_number": 3
    },
    {
     "cell_type": "code",
     "collapsed": false,
     "input": [
      "#An image is represented as numpy 1-dimensional array of 784 (28 x 28) float values between 0 and 1 \n",
      "dimIm = 28\n",
      "nrOriginalDimensions = dimIm**2\n",
      "\n",
      "[_, nrImsTestSet] =  shape(test_set)"
     ],
     "language": "python",
     "metadata": {},
     "outputs": [],
     "prompt_number": 4
    },
    {
     "cell_type": "code",
     "collapsed": false,
     "input": [
      "def showExamples(W, nrExamples=3):\n",
      "    \n",
      "    Wpi = np.linalg.pinv(W)  \n",
      "    numbers = []\n",
      "    \n",
      "    for i in range(nrExamples):\n",
      "        randomIndex =  randint(0,nrImsTestSet-1)    \n",
      "        originalIm = test_set[0][randomIndex]\n",
      "        originalLabel = test_set[1][randomIndex]\n",
      "        \n",
      "        imMatrix = originalIm.reshape((dimIm, dimIm))    \n",
      "        matshow(imMatrix,cmap=cm.gray)    \n",
      "        \n",
      "        imReduced = np.dot( W.T  , originalIm)       \n",
      "        \n",
      "        imRecov = np.dot(Wpi.T, imReduced)\n",
      "        \n",
      "        imRecovMatrix = imRecov.reshape((dimIm, dimIm))\n",
      "        matshow(imRecovMatrix,cmap=cm.gray)\n",
      "        \n",
      "        numbers.append(originalLabel)\n",
      "        \n",
      "    print \"Showing numbers %s\" % numbers\n",
      "    \n",
      "    #print shape(imReduced)\n",
      "    #print type(imReduced)\n",
      "    #print shape(W)\n",
      "    #print shape(Wpi)\n",
      "    #print shape(imRecov)\n",
      "\n",
      "\n",
      "nrReducedDimensions = 760\n",
      "W = np.random.randn(nrOriginalDimensions,nrReducedDimensions)\n",
      "showExamples(W)"
     ],
     "language": "python",
     "metadata": {},
     "outputs": [
      {
       "output_type": "stream",
       "stream": "stdout",
       "text": [
        "Showing numbers [3, 0, 7]\n"
       ]
      },
      {
       "metadata": {},
       "output_type": "display_data",
       "png": "[encoded data removed]",
       "text": [
        "<matplotlib.figure.Figure at 0x2602dd0>"
       ]
      },
      {
       "metadata": {},
       "output_type": "display_data",
       "png": "[encoded data removed]",
       "text": [
        "<matplotlib.figure.Figure at 0x279e850>"
       ]
      },
      {
       "metadata": {},
       "output_type": "display_data",
       "png": "[encoded data removed]",
       "text": [
        "<matplotlib.figure.Figure at 0x27c2d10>"
       ]
      },
      {
       "metadata": {},
       "output_type": "display_data",
       "png": "[encoded data removed]",
       "text": [
        "<matplotlib.figure.Figure at 0x296c210>"
       ]
      },
      {
       "metadata": {},
       "output_type": "display_data",
       "png": "[encoded data removed]",
       "text": [
        "<matplotlib.figure.Figure at 0x29916d0>"
       ]
      },
      {
       "metadata": {},
       "output_type": "display_data",
       "png": "[encoded data removed]",
       "text": [
        "<matplotlib.figure.Figure at 0x6397b90>"
       ]
      }
     ],
     "prompt_number": 6
    },
    {
     "cell_type": "code",
     "collapsed": false,
     "input": [],
     "language": "python",
     "metadata": {},
     "outputs": []
    }
   ],
   "metadata": {}
  }
 ]
}