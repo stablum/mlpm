{
 "metadata": {
  "name": ""
 },
 "nbformat": 3,
 "nbformat_minor": 0,
 "worksheets": [
  {
   "cells": [
    {
     "cell_type": "markdown",
     "metadata": {},
     "source": [
      "# Lab 2: Bayesian PCA\n",
      "\n",
      "### Machine Learning: Principles and Methods, November 2013\n",
      "\n",
      "* The lab exercises should be made in groups of three people, or at least two people.\n",
      "* The deadline is Wednesday, 11 December, 23:59.\n",
      "* Assignment should be sent to T.S.Cohen at uva dot nl (Taco Cohen). The subject line of your email should be \"[MLPM2013] lab#_lastname1\\_lastname2\\_lastname3\". \n",
      "* Put your and your teammates' names in the body of the email\n",
      "* Attach the .IPYNB (IPython Notebook) file containing your code and answers. Naming of the file follows the same rule as the subject line. For example, if the subject line is \"[MLPM2013] lab01\\_Kingma\\_Hu\", the attached file should be \"lab01\\_Kingma\\_Hu.ipynb\". Only use underscores (\"\\_\") to connect names, otherwise the files cannot be parsed.\n",
      "\n",
      "Notes on implementation:\n",
      "\n",
      "* You should write your code and answers in an IPython Notebook: http://ipython.org/notebook.html. If you have problems, please contact us.\n",
      "* Among the first lines of your notebook should be \"%pylab inline\". This imports all required modules, and your plots will appear inline.\n",
      "* NOTE: test your code and make sure we can run your notebook / scripts!"
     ]
    },
    {
     "cell_type": "markdown",
     "metadata": {},
     "source": [
      "### Introduction\n",
      "\n",
      "In this lab assignment, we will implement a variational algorithm for Bayesian PCA. Unlike regular PCA based on maximization of retained variance or minimization of projection error (see Bishop, 12.1.1 and 12.1.2), probabilistic PCA defines a proper density model over observed and latent variables. We will work with a fully Bayesian model this time, which is to say that we will put priors on our parameters and will be interested in learning the posterior over those parameters. Bayesian methods are very elegant, but require a shift in mindset: we are no longer looking for a point estimate of the parameters (as in maximum likelihood or MAP), but for a full posterior distribution.\n",
      "\n",
      "The integrals involved in a Bayesian analysis are usually analytically intractable, so that we must resort to approximations. In this lab assignment, we will implement the variational method described in Bishop99. Chapters 10 and 12 of the PRML book contain additional material that may be useful when doing this exercise.\n",
      "\n",
      "* [Bishop99] Variational Principal Components, C. Bishop, ICANN 1999 - http://research.microsoft.com/pubs/67241/bishop-vpca-icann-99.pdf\n",
      "\n",
      "Below, you will find some code to get you started."
     ]
    },
    {
     "cell_type": "code",
     "collapsed": false,
     "input": [
      "%pylab inline\n",
      "import scipy.special as sp\n",
      "\n",
      "class BayesianPCA(object):\n",
      "    \n",
      "    def __init__(self, d, N, a_alpha=10e-3, b_alpha=10e-3, a_tau=10e-3, b_tau=10e-3, beta=10e-3):\n",
      "        \n",
      "        self.d = d # number of dimensions\n",
      "        self.N = N # number of data points\n",
      "        \n",
      "        # Hyperparameters\n",
      "        self.a_alpha = a_alpha\n",
      "        self.b_alpha = b_alpha\n",
      "        self.a_tau = a_tau\n",
      "        self.b_tau = b_tau\n",
      "        self.beta = beta\n",
      "\n",
      "        # Variational parameters\n",
      "        self.means_x = np.random.randn(d, N)\n",
      "        self.sigma_x = np.random.randn(d, d)\n",
      "        self.mean_mu = np.random.randn(d, 1)\n",
      "        self.sigma_mu = np.random.randn(d, d)\n",
      "        self.means_w = np.random.randn(d, d)\n",
      "        self.sigma_w = np.random.randn(d, d)\n",
      "        self.a_alpha_tilde = self.a_alpha + d/2.0\n",
      "        self.bs_alpha_tilde = np.abs(np.random.randn(d, 1))\n",
      "        self.a_tau_tilde = self.a_tau + (N*d)/2.0\n",
      "        self.b_tau_tilde = np.abs(np.random.randn(1)) \n",
      "    \n",
      "    # WtW = E[W.t W]. element WtW(i,j) = sum_d E[W_id * W_dj] = sum_d cov(W_id, W_dj) + E[W_id] * E[W_dj] \n",
      "    # covariance is zero unless the two elements are in the same column, which is only  \n",
      "    # the case during the summation if d = j so WtW(i,j) = sigma_w[i,j] + mean_w_i: * mean_w_:j\n",
      "    def get_exp_WtW(self):\n",
      "        return np.add( np.dot(self.means_w.T, self.means_w), self.sigma_w)\n",
      "        \n",
      "    \n",
      "    def update_x(self, D):\n",
      "        #update sigma of x\n",
      "        exp_tau = self.a_tau_tilde / float(self.b_tau_tilde)\n",
      "        exp_WtW = self.get_exp_WtW()\n",
      "        to_invert = numpy.identity(self.d)+(exp_tau * exp_WtW)\n",
      "        if np.linalg.det(to_invert)==0:\n",
      "            print 'determinant is 0:\\n', to_invert\n",
      "        self.sigma_x = numpy.linalg.inv(to_invert)\n",
      "                \n",
      "        # update mu of x\n",
      "        for n in range(self.N):\n",
      "            diff = np.array([D[:,n]]).T - self.mean_mu \n",
      "            product1 = np.dot(self.sigma_x, self.means_w.T)\n",
      "            product2 = np.dot(product1, diff)\n",
      "            self.means_x[:,n] = exp_tau * product2[:,0]            \n",
      "        \n",
      "    \n",
      "    def update_mu(self, D):\n",
      "        # Update sigma of mu        \n",
      "        exp_tau = self.a_tau_tilde / float(self.b_tau_tilde)\n",
      "        self.sigma_mu = (1/float(self.beta+N*exp_tau)) * numpy.identity(self.d)\n",
      "                \n",
      "        \n",
      "        # Update means of mu \n",
      "        summed = np.zeros((self.d,1))\n",
      "        for n in range(self.N):\n",
      "            exp_xn = np.array([self.means_x[:,n]]).T\n",
      "            tn = np.array([D[:,n]]).T\n",
      "            product  = np.dot(self.means_w, exp_xn)\n",
      "            diff = tn - product\n",
      "            summed += diff\n",
      "        final_product = np.dot(self.sigma_mu, summed)\n",
      "        self.mean_mu = exp_tau *  final_product\n",
      "        \n",
      "            \n",
      "    def update_w(self, D):\n",
      "        # Update sigma of W\n",
      "        exp_tau = self.a_tau_tilde / float(self.b_tau_tilde)\n",
      "        \n",
      "        exp_alpha = map( lambda x : self.a_alpha_tilde/float(x), self.bs_alpha_tilde)\n",
      "        exp_alpha_diag = np.diag(exp_alpha)         \n",
      "        \n",
      "        sum_exp_xxt = np.zeros((self.d,self.d))\n",
      "        for i in range(self.N):\n",
      "            exp_x = np.array([self.means_x[:,i]]).T\n",
      "            exp_xxt = np.dot(exp_x, exp_x.T) + self.sigma_x\n",
      "            sum_exp_xxt = sum_exp_xxt +  exp_xxt\n",
      "                \n",
      "        self.sigma_w = numpy.linalg.inv(exp_alpha_diag +  (exp_tau * sum_exp_xxt))\n",
      "                \n",
      "        # Update mu of W\n",
      "        # w(k) is a column\n",
      "        for k in range(self.d):# for each column\n",
      "            summed = np.zeros((self.d,1))\n",
      "            for i in range(self.N):\n",
      "                exp_xn = self.means_x[:,i]\n",
      "                diff = D[k,i] - self.mean_mu[k]\n",
      "                product = exp_xn * diff                \n",
      "                summed = summed + array([product]).T\n",
      "                        \n",
      "            self.means_w[:,k] = np.dot(np.multiply(exp_tau, self.sigma_mu), summed)[:,0]        \n",
      "        \n",
      "        \n",
      "    def update_alpha(self):\n",
      "        # a_alpha_tilde is a constant: a_alpha + d/2 so set it in the initialization and do not change anymore\n",
      "        \n",
      "        # b alpha tilde\n",
      "        for i in range(self.d):\n",
      "            wi = np.array([self.means_w[:,i]]).T\n",
      "            exp_wtw =  np.trace(self.sigma_w) + np.dot(wi.T, wi)\n",
      "                        \n",
      "            self.bs_alpha_tilde[i,0] = self.b_alpha + exp_wtw/2.0\n",
      "                \n",
      "        \n",
      "    def update_tau(self, D):\n",
      "        # a_tau is a constant so set in the initialization\n",
      "        \n",
      "        exp_WtW = self.get_exp_WtW()\n",
      "        exp_mutmu = np.trace(self.sigma_mu) + np.dot(self.mean_mu.T, self.mean_mu)        \n",
      "        summed = 0.0\n",
      "        \n",
      "        for i in range(N):\n",
      "            tn = np.array([D[:,i]]).T\n",
      "            exp_xn = np.array([self.means_x[:,i]]).T\n",
      "            exp_xxt = np.dot(exp_xn, exp_xn.T) + self.sigma_x\n",
      "            \n",
      "            summed += np.dot(tn.T, tn) + exp_mutmu                         \n",
      "            summed += np.trace(np.dot(exp_WtW, exp_xxt))\n",
      "            summed += 2.0 * np.dot(np.dot(self.mean_mu.T, self.means_w), exp_xn)\n",
      "            summed -= 2.0 * np.dot(np.dot(tn.T, self.means_w), exp_xn)\n",
      "            summed -= 2.0 * np.dot(tn.T, self.mean_mu)\n",
      "                \n",
      "        self.b_tau_tilde = self.b_tau + 0.5* summed\n",
      "        \n",
      "        \n",
      "        \n",
      "    def L(self, X):\n",
      "        L = 0.0\n",
      "        return L\n",
      "    \n",
      "    def fit(self, X, max_it):\n",
      "        print 'dimensions data:', X.shape\n",
      "        print 'a alpha tilde =', self.a_alpha_tilde\n",
      "        self.update_tau(X)\n",
      "        for i in range(max_it):\n",
      "            if i%10 == 0:\n",
      "                print i,\n",
      "            \n",
      "            self.update_tau(X)\n",
      "            self.update_mu(X)\n",
      "            self.update_alpha()            \n",
      "            self.update_w(X)\n",
      "            self.update_x(X)  \n",
      "                        \n",
      "            #print '\\n w at',i, ':\\n', self.means_w\n",
      "            \n",
      "            if i%5==0:                \n",
      "                #print '\\n w after',i+1, 'iterations:\\n', self.means_w\n",
      "                \n",
      "                print 'means of mu:', self.mean_mu.T\n",
      "                exp_tau = self.a_tau_tilde / float(self.b_tau_tilde)\n",
      "                print 'expectation of tau:', exp_tau\n",
      "                #exp_alpha = map( lambda x : self.a_alpha_tilde/float(x), self.bs_alpha_tilde) \n",
      "                #print 'expectation of alpha:', exp_alpha\n",
      "                #print 'bs of alpha:', self.bs_alpha_tilde.T\n",
      "                print '\\n\\n'\n",
      "                \n",
      "        print '\\n w final:\\n', self.means_w"
     ],
     "language": "python",
     "metadata": {},
     "outputs": [
      {
       "output_type": "stream",
       "stream": "stdout",
       "text": [
        "Populating the interactive namespace from numpy and matplotlib\n"
       ]
      }
     ],
     "prompt_number": 77
    },
    {
     "cell_type": "code",
     "collapsed": false,
     "input": [
      "import matplotlib.pyplot as plt\n",
      "from mpl_toolkits.mplot3d import Axes3D\n",
      "\n",
      "def plot_data(X):\n",
      "    fig = plt.figure()\n",
      "    ax = fig.add_subplot(111, projection='3d')\n",
      "    ax.scatter(X[0,:], X[1,:], zs=X[2,:])\n",
      "    \n",
      "    '''\n",
      "    fig2 = plt.figure()\n",
      "    ax2 = fig2.add_subplot(111)\n",
      "    ax2.scatter(X[0,:], X[1,:])\n",
      "    \n",
      "    fig3 = plt.figure()\n",
      "    ax3 = fig3.add_subplot(111)\n",
      "    ax3.scatter(X[0,:], X[2,:])\n",
      "    \n",
      "    fig4 = plt.figure()\n",
      "    ax4 = fig4.add_subplot(111)\n",
      "    ax4.scatter(X[2,:], X[1,:])              \n",
      "    '''\n",
      "\n",
      "# matrix with orthonormal vectors\n",
      "A = np.array([ [0.4246,-0.1753,-0.1466,-0.0956,0.7864,0.3741]\n",
      "                ,[0.5199,0.3483,0.2280,-0.4751,-0.4102,0.4031]\n",
      "                ,[-0.2212,-0.7183,-0.2838,-0.2656,-0.3263,0.4213]\n",
      "                ,[-0.5600,0.0724,0.6716,-0.1030,0.2397,0.4025]\n",
      "                ,[0.2692,-0.1393,0.2114,0.8147,-0.2223,0.3876]\n",
      "                ,[-0.3382,0.5544,-0.5918,0.1422,-0.0037,0.4558]])\n",
      "\n",
      "# eigenvalues on a diagonal matrix representing the magnitude of the variance\n",
      "L = np.diag( [15,15,1,1,1,1])\n",
      "\n",
      "# Covariance matrix generated based on A and L\n",
      "covariance = np.dot(np.dot(A, L) , A.T)\n",
      "means = [2,2,2,2,2,2]\n",
      "\n",
      "dims = 6\n",
      "N = 500\n",
      "\n",
      "data = numpy.random.multivariate_normal(means, covariance, (N)).T\n",
      "\n",
      "#print 'Plot of the first three dimensions of the data'\n",
      "#plot_data(data)\n",
      "\n",
      "bay_pca = BayesianPCA(dims,N)\n",
      "bay_pca.fit(data, 300)"
     ],
     "language": "python",
     "metadata": {},
     "outputs": [
      {
       "output_type": "stream",
       "stream": "stdout",
       "text": [
        "dimensions data: (6L, 500L)\n",
        "a alpha tilde = 3.01\n",
        "0 "
       ]
      },
      {
       "output_type": "stream",
       "stream": "stdout",
       "text": [
        "means of mu: [[ 2.02376749  1.79813984  2.11943645  2.05760933  1.72537133  1.69723712]]\n",
        "expectation of tau: 0.0339742205019\n",
        "\n",
        "\n",
        "\n",
        "means of mu:"
       ]
      },
      {
       "output_type": "stream",
       "stream": "stdout",
       "text": [
        " [[ 2.13058508  1.99354099  2.03275539  1.96096267  1.93726953  1.89607593]]\n",
        "expectation of tau: 0.206312330841\n",
        "\n",
        "\n",
        "\n",
        "10"
       ]
      },
      {
       "output_type": "stream",
       "stream": "stdout",
       "text": [
        " means of mu: [[ 2.13073062  1.99369353  2.03289223  1.96113261  1.93740713  1.89625229]]\n",
        "expectation of tau: 1.02240226615\n",
        "\n",
        "\n",
        "\n",
        "means of mu:"
       ]
      },
      {
       "output_type": "stream",
       "stream": "stdout",
       "text": [
        " [[ 2.13072433  1.99369302  2.03288686  1.96114112  1.93740351  1.89626423]]\n",
        "expectation of tau: 1.0531883185\n",
        "\n",
        "\n",
        "\n",
        "20"
       ]
      },
      {
       "output_type": "stream",
       "stream": "stdout",
       "text": [
        " means of mu: [[ 2.1307185   1.99369117  2.03288259  1.96114702  1.93739984  1.89627224]]\n",
        "expectation of tau: 1.05274016412\n",
        "\n",
        "\n",
        "\n",
        "means of mu:"
       ]
      },
      {
       "output_type": "stream",
       "stream": "stdout",
       "text": [
        " [[ 2.13071393  1.9936894   2.03287967  1.96115177  1.93739697  1.89627835]]\n",
        "expectation of tau: 1.05254684136\n",
        "\n",
        "\n",
        "\n",
        "30"
       ]
      },
      {
       "output_type": "stream",
       "stream": "stdout",
       "text": [
        " means of mu: [[ 2.13071037  1.99368779  2.03287773  1.96115553  1.93739475  1.89628293]]\n",
        "expectation of tau: 1.05233117887\n",
        "\n",
        "\n",
        "\n",
        "means of mu:"
       ]
      },
      {
       "output_type": "stream",
       "stream": "stdout",
       "text": [
        " [[ 2.13070761  1.99368641  2.03287642  1.9611585   1.93739302  1.89628641]]\n",
        "expectation of tau: 1.05224189801\n",
        "\n",
        "\n",
        "\n",
        "40"
       ]
      },
      {
       "output_type": "stream",
       "stream": "stdout",
       "text": [
        " means of mu: [[ 2.13070549  1.99368524  2.03287557  1.96116082  1.9373917   1.89628902]]\n",
        "expectation of tau: 1.05214863252\n",
        "\n",
        "\n",
        "\n",
        "means of mu:"
       ]
      },
      {
       "output_type": "stream",
       "stream": "stdout",
       "text": [
        " [[ 2.13070384  1.99368425  2.03287501  1.96116265  1.93739067  1.89629099]]\n",
        "expectation of tau: 1.05208874005\n",
        "\n",
        "\n",
        "\n",
        "50"
       ]
      },
      {
       "output_type": "stream",
       "stream": "stdout",
       "text": [
        " means of mu: [[ 2.13070256  1.99368342  2.03287467  1.96116409  1.93738988  1.89629247]]\n",
        "expectation of tau: 1.05202682369\n",
        "\n",
        "\n",
        "\n",
        "means of mu:"
       ]
      },
      {
       "output_type": "stream",
       "stream": "stdout",
       "text": [
        " [[ 2.13070157  1.99368272  2.03287448  1.96116523  1.93738926  1.89629359]]\n",
        "expectation of tau: 1.05197301385\n",
        "\n",
        "\n",
        "\n",
        "60"
       ]
      },
      {
       "output_type": "stream",
       "stream": "stdout",
       "text": [
        " means of mu: [[ 2.13070079  1.99368213  2.0328744   1.96116613  1.93738878  1.89629443]]\n",
        "expectation of tau: 1.05191805065\n",
        "\n",
        "\n",
        "\n",
        "means of mu:"
       ]
      },
      {
       "output_type": "stream",
       "stream": "stdout",
       "text": [
        " [[ 2.13070018  1.99368161  2.03287441  1.96116685  1.9373884   1.89629506]]\n",
        "expectation of tau: 1.05186489685\n",
        "\n",
        "\n",
        "\n",
        "70"
       ]
      },
      {
       "output_type": "stream",
       "stream": "stdout",
       "text": [
        " means of mu: [[ 2.1306997   1.99368116  2.03287447  1.96116744  1.93738811  1.89629553]]\n",
        "expectation of tau: 1.05181190055\n",
        "\n",
        "\n",
        "\n",
        "means of mu:"
       ]
      },
      {
       "output_type": "stream",
       "stream": "stdout",
       "text": [
        " [[ 2.13069931  1.99368076  2.03287458  1.96116793  1.93738787  1.89629588]]\n",
        "expectation of tau: 1.05176292889\n",
        "\n",
        "\n",
        "\n",
        "80"
       ]
      },
      {
       "output_type": "stream",
       "stream": "stdout",
       "text": [
        " means of mu: [[ 2.130699    1.99368039  2.03287472  1.96116833  1.93738768  1.89629614]]\n",
        "expectation of tau: 1.05172999615\n",
        "\n",
        "\n",
        "\n",
        "means of mu:"
       ]
      },
      {
       "output_type": "stream",
       "stream": "stdout",
       "text": [
        " [[ 2.13069874  1.99368007  2.03287488  1.96116868  1.93738752  1.89629633]]\n",
        "expectation of tau: 1.05176466403\n",
        "\n",
        "\n",
        "\n",
        "90"
       ]
      },
      {
       "output_type": "stream",
       "stream": "stdout",
       "text": [
        " means of mu: [[ 2.13069853  1.99367978  2.03287508  1.96116899  1.9373874   1.89629647]]\n",
        "expectation of tau: 1.05207349363\n",
        "\n",
        "\n",
        "\n",
        "means of mu:"
       ]
      },
      {
       "output_type": "stream",
       "stream": "stdout",
       "text": [
        " [[ 2.13069836  1.99367957  2.03287535  1.96116931  1.93738733  1.89629659]]\n",
        "expectation of tau: 1.05345671048\n",
        "\n",
        "\n",
        "\n",
        "100"
       ]
      },
      {
       "output_type": "stream",
       "stream": "stdout",
       "text": [
        " means of mu: [[ 2.13069824  1.99367961  2.0328758   1.96116974  1.93738737  1.89629674]]\n",
        "expectation of tau: 1.05856740173\n",
        "\n",
        "\n",
        "\n",
        "means of mu:"
       ]
      },
      {
       "output_type": "stream",
       "stream": "stdout",
       "text": [
        " [[ 2.13069818  1.99368019  2.03287665  1.96117048  1.93738762  1.89629701]]\n",
        "expectation of tau: 1.07221130009\n",
        "\n",
        "\n",
        "\n",
        "110"
       ]
      },
      {
       "output_type": "stream",
       "stream": "stdout",
       "text": [
        " means of mu: [[ 2.13069808  1.99368108  2.03287774  1.96117142  1.93738796  1.89629734]]\n",
        "expectation of tau: 1.09098387974\n",
        "\n",
        "\n",
        "\n",
        "means of mu:"
       ]
      },
      {
       "output_type": "stream",
       "stream": "stdout",
       "text": [
        " [[ 2.1306979   1.99368149  2.03287851  1.96117211  1.9373881   1.89629754]]\n",
        "expectation of tau: 1.10236300472\n",
        "\n",
        "\n",
        "\n",
        "120"
       ]
      },
      {
       "output_type": "stream",
       "stream": "stdout",
       "text": [
        " means of mu: [[ 2.1306976   1.99368148  2.03287897  1.96117256  1.93738803  1.89629762]]\n",
        "expectation of tau: 1.10621016944\n",
        "\n",
        "\n",
        "\n",
        "means of mu:"
       ]
      },
      {
       "output_type": "stream",
       "stream": "stdout",
       "text": [
        " [[ 2.13069646  1.99368193  2.03287937  1.96117305  1.93738761  1.89629745]]\n",
        "expectation of tau: 1.1067429155\n",
        "\n",
        "\n",
        "\n",
        "130"
       ]
      },
      {
       "output_type": "stream",
       "stream": "stdout",
       "text": [
        " means of mu: [[ 2.13068736  1.99368698  2.03287975  1.96117379  1.93738392  1.89629417]]\n",
        "expectation of tau: 1.077295769\n",
        "\n",
        "\n",
        "\n",
        "means of mu:"
       ]
      },
      {
       "output_type": "stream",
       "stream": "stdout",
       "text": [
        " [[ 2.130633    1.99369148  2.03286521  1.96115708  1.93735299  1.89626034]]\n",
        "expectation of tau: 0.679728255035\n",
        "\n",
        "\n",
        "\n",
        "140"
       ]
      },
      {
       "output_type": "stream",
       "stream": "stdout",
       "text": [
        " means of mu: [[ 2.13068633  1.9936827   2.03286544  1.96117558  1.93738061  1.89630668]]\n",
        "expectation of tau: 1.03160765595\n",
        "\n",
        "\n",
        "\n",
        "means of mu:"
       ]
      },
      {
       "output_type": "stream",
       "stream": "stdout",
       "text": [
        " [[ 2.13069228  1.99368091  2.03286879  1.96117488  1.93738382  1.89630586]]\n",
        "expectation of tau: 1.06408901509\n",
        "\n",
        "\n",
        "\n",
        "150"
       ]
      },
      {
       "output_type": "stream",
       "stream": "stdout",
       "text": [
        " means of mu: [[ 2.13069366  1.99368115  2.03287225  1.96117466  1.93738508  1.89630359]]\n",
        "expectation of tau: 1.08156221232\n",
        "\n",
        "\n",
        "\n",
        "means of mu:"
       ]
      },
      {
       "output_type": "stream",
       "stream": "stdout",
       "text": [
        " [[ 2.13069327  1.99368229  2.03287511  1.961175    1.93738552  1.8963017 ]]\n",
        "expectation of tau: 1.09672203392\n",
        "\n",
        "\n",
        "\n",
        "160"
       ]
      },
      {
       "output_type": "stream",
       "stream": "stdout",
       "text": [
        " means of mu: [[ 2.13068363  1.99368794  2.03287707  1.9611754   1.93738187  1.89629658]]\n",
        "expectation of tau: 1.06706073361\n",
        "\n",
        "\n",
        "\n",
        "means of mu:"
       ]
      },
      {
       "output_type": "stream",
       "stream": "stdout",
       "text": [
        " [[ 2.130633    1.99369221  2.03286406  1.96115987  1.93735316  1.89626471]]\n",
        "expectation of tau: 0.693923969657\n",
        "\n",
        "\n",
        "\n",
        "170"
       ]
      },
      {
       "output_type": "stream",
       "stream": "stdout",
       "text": [
        " means of mu: [[ 2.1306853   1.99368243  2.03286497  1.96117681  1.93738003  1.89630811]]\n",
        "expectation of tau: 1.03443559688\n",
        "\n",
        "\n",
        "\n",
        "means of mu:"
       ]
      },
      {
       "output_type": "stream",
       "stream": "stdout",
       "text": [
        " [[ 2.1306913   1.99368055  2.03286863  1.96117592  1.93738328  1.89630684]]\n",
        "expectation of tau: 1.06540680709\n",
        "\n",
        "\n",
        "\n",
        "180"
       ]
      },
      {
       "output_type": "stream",
       "stream": "stdout",
       "text": [
        " means of mu: [[ 2.13069273  1.99368086  2.03287236  1.96117561  1.9373846   1.89630428]]\n",
        "expectation of tau: 1.08336281348\n",
        "\n",
        "\n",
        "\n",
        "means of mu:"
       ]
      },
      {
       "output_type": "stream",
       "stream": "stdout",
       "text": [
        " [[ 2.13069158  1.99368253  2.03287539  1.96117593  1.93738478  1.89630192]]\n",
        "expectation of tau: 1.09616919383\n",
        "\n",
        "\n",
        "\n",
        "190"
       ]
      },
      {
       "output_type": "stream",
       "stream": "stdout",
       "text": [
        " means of mu: [[ 2.13067443  1.99369066  2.03287681  1.96117496  1.93737749  1.89629221]]\n",
        "expectation of tau: 1.01068478922\n",
        "\n",
        "\n",
        "\n",
        "means of mu:"
       ]
      },
      {
       "output_type": "stream",
       "stream": "stdout",
       "text": [
        " [[ 2.1306447   1.9936894   2.03286166  1.96116618  1.93735884  1.89627954]]\n",
        "expectation of tau: 0.758558823352\n",
        "\n",
        "\n",
        "\n",
        "200"
       ]
      }
     ],
     "prompt_number": "*"
    },
    {
     "cell_type": "code",
     "collapsed": false,
     "input": [],
     "language": "python",
     "metadata": {},
     "outputs": [],
     "prompt_number": 2
    },
    {
     "cell_type": "code",
     "collapsed": false,
     "input": [
      "a = [[ 0.00339594,  0.0117771,  -0.01315114, -0.00609362,  0.00133929,  0.00365245],\n",
      " [ 0.00074487,  0.00258319, -0.00288457, -0.00133657,  0.00029376,  0.00080113],\n",
      " [ 0.00325301,  0.01128141, -0.01259761, -0.00583714,  0.00128292,  0.00349872],\n",
      " [-0.00357125, -0.01238505,  0.01383002,  0.00640818, -0.00140842, -0.003841  ],\n",
      " [ 0.0023858,  0.00827394, -0.00923927, -0.00428104,  0.00094091,  0.00256601],\n",
      " [-0.0053734,  -0.01863493,  0.02080907,  0.00964195, -0.00211916, -0.00577928]]\n",
      "print a"
     ],
     "language": "python",
     "metadata": {},
     "outputs": [
      {
       "output_type": "stream",
       "stream": "stdout",
       "text": [
        "[[0.00339594, 0.0117771, -0.01315114, -0.00609362, 0.00133929, 0.00365245], [0.00074487, 0.00258319, -0.00288457, -0.00133657, 0.00029376, 0.00080113], [0.00325301, 0.01128141, -0.01259761, -0.00583714, 0.00128292, 0.00349872], [-0.00357125, -0.01238505, 0.01383002, 0.00640818, -0.00140842, -0.003841], [0.0023858, 0.00827394, -0.00923927, -0.00428104, 0.00094091, 0.00256601], [-0.0053734, -0.01863493, 0.02080907, 0.00964195, -0.00211916, -0.00577928]]\n"
       ]
      }
     ],
     "prompt_number": 68
    },
    {
     "cell_type": "code",
     "collapsed": false,
     "input": [
      "# Code from https://gist.github.com/dwf/292018\n",
      "\n",
      "def _blob(x, y, area, colour):\n",
      "    \"\"\"\n",
      "    Draws a square-shaped blob with the given area (< 1) at\n",
      "    the given coordinates.\n",
      "    \"\"\"\n",
      "    hs = np.sqrt(area) / 2\n",
      "    xcorners = np.array([x - hs, x + hs, x + hs, x - hs])\n",
      "    ycorners = np.array([y - hs, y - hs, y + hs, y + hs])\n",
      "    plt.fill(xcorners, ycorners, colour, edgecolor=colour)\n",
      "\n",
      "def hinton(W, maxweight=None):\n",
      "    \"\"\"\n",
      "    Draws a Hinton diagram for visualizing a weight matrix. \n",
      "    Temporarily disables matplotlib interactive mode if it is on, \n",
      "    otherwise this takes forever.\n",
      "    \"\"\"\n",
      "    reenable = False\n",
      "    if plt.isinteractive():\n",
      "        plt.ioff()\n",
      "    \n",
      "    plt.clf()\n",
      "    height, width = W.shape\n",
      "    if not maxweight:\n",
      "        maxweight = 2**np.ceil(np.log(np.max(np.abs(W)))/np.log(2))\n",
      "        \n",
      "    plt.fill(np.array([0, width, width, 0]), \n",
      "             np.array([0, 0, height, height]),\n",
      "             'gray')\n",
      "    \n",
      "    plt.axis('off')\n",
      "    plt.axis('equal')\n",
      "    for x in xrange(width):\n",
      "        for y in xrange(height):\n",
      "            _x = x+1\n",
      "            _y = y+1\n",
      "            w = W[y, x]\n",
      "            if w > 0:\n",
      "                _blob(_x - 0.5,\n",
      "                      height - _y + 0.5,\n",
      "                      min(1, w/maxweight),\n",
      "                      'white')\n",
      "            elif w < 0:\n",
      "                _blob(_x - 0.5,\n",
      "                      height - _y + 0.5, \n",
      "                      min(1, -w/maxweight), \n",
      "                      'black')\n",
      "    if reenable:\n",
      "        plt.ion()"
     ],
     "language": "python",
     "metadata": {},
     "outputs": [],
     "prompt_number": 73
    },
    {
     "cell_type": "code",
     "collapsed": false,
     "input": [
      "a = [[ 0.00339594,  0.0117771,  -0.01315114, -0.00609362,  0.00133929,  0.00365245],\n",
      " [ 0.00074487,  0.00258319, -0.00288457, -0.00133657,  0.00029376,  0.00080113],\n",
      " [ 0.00325301,  0.01128141, -0.01259761, -0.00583714,  0.00128292,  0.00349872],\n",
      " [-0.00357125, -0.01238505,  0.01383002,  0.00640818, -0.00140842, -0.003841  ],\n",
      " [ 0.0023858,  0.00827394, -0.00923927, -0.00428104,  0.00094091,  0.00256601],\n",
      " [-0.0053734,  -0.01863493,  0.02080907,  0.00964195, -0.00211916, -0.00577928]]\n",
      "a2 = np.array(a)\n",
      "hinton(a2)"
     ],
     "language": "python",
     "metadata": {},
     "outputs": [
      {
       "metadata": {},
       "output_type": "display_data",
       "png": "[encoded data removed]",
       "text": [
        "<matplotlib.figure.Figure at 0x8ca8438>"
       ]
      }
     ],
     "prompt_number": 74
    },
    {
     "cell_type": "code",
     "collapsed": false,
     "input": [
      "from IPython.display import display, Math, Latex"
     ],
     "language": "python",
     "metadata": {},
     "outputs": [],
     "prompt_number": 21
    },
    {
     "cell_type": "markdown",
     "metadata": {},
     "source": [
      "### 1. The Q-distribution (5 points)\n",
      "\n",
      "In variational Bayes, we introduce a distribution $Q(\\Theta)$ over parameters / latent variables in order to make inference tractable. We can think of $Q$ as being an approximation of a certain distribution. What function does $Q$ approximate, $p(D|\\Theta)$, $p(\\Theta|D)$, $p(D, \\Theta)$, $p(\\Theta)$, or $p(D)$, and how do you see that?"
     ]
    },
    {
     "cell_type": "markdown",
     "metadata": {},
     "source": [
      "The function $Q$ approximates the function that is the posterior distribution, $p(\\Theta | D) $.\n",
      "\n",
      "The posterior $P(\\Theta | D)$ is given by multiplying the likelihood by the prior and then normalizing:\n",
      "\n",
      "\\begin{align}\n",
      "P(\\Theta | D) &= \\dfrac{P(D | \\Theta)P( \\Theta)}{P(D)} \\\\\n",
      "              &= \\dfrac{P(D | \\Theta)P( \\Theta)}{\\int P(D | \\Theta)P(\\Theta) \\hspace{1mm} d\\Theta}\n",
      "\\end{align}\n",
      "\n",
      "Why is this useful? \n",
      "For Maximum a Posteriori (MAP) learning, we could use the posterior to get a point estimate of the parameters:\n",
      "\n",
      "\\begin{align}\n",
      "\\widetilde{\\Theta}_{\\text{MAP}}(D)&= \\arg\\max_{\\Theta} P(\\Theta | D) \\\\\n",
      "            & \\propto {P(D | \\Theta)P( \\Theta)}\n",
      "\\end{align}\n",
      "\n",
      "So for MAP learning the normalization (and therefore integration) is not needed. Like Maximum likelihood estimation (MLE) learning, MAP learning learns a point estimate of our parameters.\n",
      "\n",
      "In the Bayesian framework no fixed parameter setting is chosen. The posterior is used to obtain a predictive density (also called the posterior predictive distribution) for a new data point $t^{*}$ with:\n",
      "\n",
      "\\begin{align}\n",
      "P(t^{*} | D) &= \\int P(t^{*} | \\Theta) P(\\Theta | D) \\hspace{2mm} d\\Theta\n",
      "\\end{align}\n",
      "\n",
      "This means that in the Bayesian learning framework we consider all possible parametrizations of our models by incorporating the posterior this way. Each of these is weighted by the evidence for them in $D$.\n",
      "(Note that when predicting, we also return a probability distribution as prediction for $t^{*}$. \n",
      "Retaining all possible parametrizations is in this case of Principal Component Analysis) particularly advantageous for automatically determining an adequate number of principal components given $D$.\n",
      "\n",
      "Note that we need to integrate over all possible parametrizations for this. In practice this can quickly become infeasible for models with many parameters; when using a mixture of models; or when the prior distribution is not of the same functional form as the likelihood distribution. Therefore we use a ''simpler'' distribution $Q(\\Theta)$ to approximate $P(\\Theta|D)$. \n"
     ]
    },
    {
     "cell_type": "markdown",
     "metadata": {},
     "source": [
      "### 2. The mean-field approximation (15 points)\n",
      "\n",
      "Equation 13 from [Bishop99] is a very powerful result: assuming only that $Q(\\Theta)$ factorizes in a certain way (no assumptions on the functional form of the factors $Q_i$!), we get a set of coupled equations for the $Q_i$.\n",
      "\n",
      "However, the expression given in eq. 13 for Q_i contains a small mistake. Starting with the expression for the lower bound $\\mathcal{L}(Q)$, derive the correct expression (and include your derivation). You can proceed as follows: first, substitute the factorization of $Q$ (eq. 12) into the definition of $\\mathcal{L}(Q)$ and separate $\\mathcal{L}(Q)$ into $Q_i$-dependent and $Q_i$-independent terms. At this point, you should be able to spot the expectations $\\langle\\cdot\\rangle_{k \\neq i}$ over the other $Q$-distributions that appear in Bishop's solution (eq. 13). Now, keeping all $Q_k, k \\neq i$ fixed, maximize the expression with respect to $Q_i$. You should be able to spot the form of the optimal $ln Q_i$, from which $Q_i$ can easily be obtained."
     ]
    },
    {
     "cell_type": "markdown",
     "metadata": {},
     "source": [
      "It is given that the lower bound is \n",
      "\n",
      "$$\n",
      "\\begin{align}\n",
      "\\mathcal{L}(Q) =& \\int Q(\\Theta) \\log \\dfrac{P(D, \\Theta)}{Q(\\Theta)}\n",
      "                \\hspace{3mm} d \\Theta  \\\\\n",
      "\\end{align} \n",
      "$$\n",
      "\n",
      "And the factorization is\n",
      "\n",
      "\\begin{equation}\n",
      "Q(\\Theta)= \\prod_{k} Q_k(\\Theta_k)\n",
      "\\end{equation}\n",
      "\n",
      "Plugging in the factorization into the lower bound, we get\n",
      "\n",
      "\\begin{align}                \n",
      "\\mathcal{L}(Q) =&  \\int \n",
      "                     \\prod_{k} Q_k( \\Theta_k) \n",
      "                     \\left[\n",
      "                         \\log P(D,\\Theta) - \\log \\left( \\prod_k Q_k(\\Theta_k) \\right)\n",
      "                     \\right]\n",
      "                 \\hspace{3mm} d \\Theta  \\\\\n",
      "              =& \\int\n",
      "              \\prod_{k} Q_k( \\Theta_k) \n",
      "                     \\left[\n",
      "                         \\log P(D,\\Theta) - \\sum_k \\log Q_k(\\Theta_k)\n",
      "                     \\right]\n",
      "                  \\hspace{3mm} d \\Theta\n",
      "\\end{align}  \n",
      "\n",
      "By denoting a specific factor $Q_i$ separately we arrive at\n",
      "\n",
      "\\begin{align}\n",
      "\\mathcal{L}(Q) =& \\int Q_i( \\Theta_i) \\prod_{k \\neq i} Q_k( \\Theta_k) \n",
      "                \\left[ \\log P(D, \\Theta) - \\log \\left( \\prod_{j \\neq i}  Q_j(\\Theta_j) \\right) - \\log Q_i (\\Theta_i) \\right] \n",
      "                \\hspace{3mm} d \\Theta  \n",
      "\\end{align}                \n",
      "\n",
      "By taking the integral of $Q_i$ apart from those for $\\{Q_1, \\dots ,Q_{i-1},Q_{i+1}, \\dots ,Q_M \\}$, we get\n",
      "\n",
      "\\begin{align}\n",
      "\\mathcal{L}(Q) =& \n",
      "    \\int Q_i(\\Theta_i) \n",
      "        \\left[ \n",
      "            \\int  \\prod_{k \\neq i} Q_k( \\Theta_k) \\log P(D, \\Theta) \n",
      "            \\hspace{3mm} d \\Theta_{\\setminus i}\n",
      "        \\right]\n",
      "        \\hspace{3mm} d \\Theta_{i} \\hspace{3mm} -\\\\\n",
      "& \n",
      "    \\int Q_i(\\Theta_i) \n",
      "    \\left[ \n",
      "            \\int  \\prod_{k \\neq i} Q_k( \\Theta_k) \n",
      "            \\log \\left( \\prod_{j \\neq i} Q_j(\\Theta_j) \\right)\n",
      "            \\hspace{3mm} d \\Theta_{\\setminus i}\n",
      "        \\right]\n",
      "        \\hspace{3mm} d \\Theta_{i}  \\hspace{3mm} - \\\\\n",
      "& \n",
      "    \\int Q_i(\\Theta_i) \n",
      "        \\log Q_i (\\Theta_i)\n",
      "        \\left[ \n",
      "            \\int\n",
      "             \\prod_{k \\neq i} Q_k( \\Theta_k) \n",
      "             \\hspace{3mm} d \\Theta_{\\setminus i}\n",
      "        \\right]\n",
      "        \\hspace{3mm} d \\Theta_{i} \n",
      "\\end{align}\n"
     ]
    },
    {
     "cell_type": "markdown",
     "metadata": {},
     "source": [
      "\n",
      "Now, when we keep the $Q_k \\neq Q_{i}$ fixed the following happens, the integral over $\\Theta_{\\setminus i}$  in the third row of the equation for $\\mathcal{L}(Q)$ will become 1, because all $Q_n(\\Theta_n)$ are probability distributions. \n",
      "\n",
      "\\begin{align}\n",
      "\\int Q_i(\\Theta_i) \n",
      "        \\log Q_i (\\Theta_i)\n",
      "        \\left[ \n",
      "            \\int\n",
      "             \\prod_{k \\neq i} Q_k( \\Theta_k) \n",
      "             \\hspace{3mm} d \\Theta_{\\setminus i}\n",
      "        \\right]\n",
      "        \\hspace{3mm} d \\Theta_{i} \n",
      "        =& \n",
      "    \\int Q_i(\\Theta_i) \n",
      "        \\log Q_i (\\Theta_i)\n",
      "        \\left[\n",
      "        \\prod_{k \\neq i}         \n",
      "            \\int\n",
      "              Q_k( \\Theta_k) \n",
      "             \\hspace{3mm} d \\Theta_{k}\n",
      "        \\right]        \n",
      "        \\hspace{3mm} d \\Theta_{i} \\\\\n",
      "     =&\n",
      "      \\int Q_i(\\Theta_i) \n",
      "        \\log Q_i (\\Theta_i)\n",
      "        \\left[\n",
      "        \\prod_{k \\neq i}         \n",
      "            1\n",
      "        \\right]        \n",
      "        \\hspace{3mm} d \\Theta_{i} \n",
      "\\end{align}\n",
      "\n",
      "So we can rewrite the equation as\n",
      "\n",
      "\\begin{align}       \n",
      "\\mathcal{L}(Q)  =& \n",
      "    \\int Q_i(\\Theta_i) \n",
      "        \\left[ \n",
      "            \\int  \\prod_{k \\neq i} Q_k( \\Theta_k) \\log P(D, \\Theta) \n",
      "            \\hspace{3mm} d \\Theta_{\\setminus i}\n",
      "        \\right]\n",
      "        \\hspace{3mm} d \\Theta_{i} \\hspace{3mm} -\\\\\n",
      "& \n",
      "    \\int Q_i(\\Theta_i) \n",
      "    \\left[ \n",
      "            \\int  \\prod_{k \\neq i} Q_k( \\Theta_k) \n",
      "            \\log \\left( \\prod_{j \\neq i} Q_j(\\Theta_j) \\right)\n",
      "            \\hspace{3mm} d \\Theta_{\\setminus i}\n",
      "        \\right]\n",
      "        \\hspace{3mm} d \\Theta_{i}  \\hspace{3mm} - \\\\\n",
      "& \n",
      "    \\int Q_i(\\Theta_i) \n",
      "        \\log Q_i (\\Theta_i)    \n",
      "        \\hspace{3mm} d \\Theta_{i}         \n",
      "\\end{align}\n",
      "\n",
      "\n",
      "Furthermore, when we keep the $Q_k \\neq Q_{i}$ fixed, the $\\Theta_{\\setminus i}$ integral in the second row of the equation for  $\\mathcal{L}(Q)$ will become a constant. We know that $\\int Q_i(\\Theta_i)  d\\Theta_{i}$ should be 1 because $Q_i$ is a probability distribution. So the whole second row can be viewed as a constant. \n",
      "\n",
      "\n",
      "\\begin{align}\n",
      "\\mathcal{L}(Q)  =& \n",
      "    \\int Q_i(\\Theta_i) \n",
      "        \\left[ \n",
      "            \\int  \\prod_{k \\neq i} Q_k( \\Theta_k) \\log P(D, \\Theta) \n",
      "            \\hspace{3mm} d \\Theta_{\\setminus i}\n",
      "        \\right]\n",
      "        \\hspace{3mm} d \\Theta_{i} \\hspace{3mm} -\\\\\n",
      "& \n",
      "    \\int Q_i(\\Theta_i) \n",
      "        \\log Q_i (\\Theta_i)    \n",
      "        \\hspace{3mm} d \\Theta_{i}  \\hspace{1mm} + \\text{const}        \n",
      "\\end{align}\n"
     ]
    },
    {
     "cell_type": "markdown",
     "metadata": {},
     "source": [
      "Note that the integral over $\\Theta_{\\setminus i}$  in the  first line in $\\mathcal{L}(Q)$ could be rewritten as an expectation :\n",
      "\n",
      "\\begin{align}\n",
      "\\mathcal{L}(Q)  =& \n",
      "    \\int Q_i(\\Theta_i) \\cdot\n",
      "        \\mathbb{E}_{[k \\neq i]}[ \\log P(D, \\Theta)]\n",
      "        \\hspace{3mm} d \\Theta_{i} \\hspace{3mm} -\\\\\n",
      "& \n",
      "    \\int Q_i(\\Theta_i) \n",
      "        \\log Q_i (\\Theta_i)    \n",
      "        \\hspace{3mm} d \\Theta_{i}  \\hspace{1mm} + \\text{const}        \n",
      "\\end{align}\n",
      "\n",
      "Where $\\mathbb{E}_{[k \\neq i]}$ denotes this expected value is with respect to the $Q$ distributions over all variables $\\Theta_k \\neq \\Theta_i$.\n",
      "\n",
      "\n",
      "We can define $\\mathbb{E}_{[k \\neq i]}[ \\log P(D, \\Theta)]$ as $\\log \\widetilde{P}(D, \\Theta_i)$.\n",
      "\n",
      "Intuitively it makes sense to see  $\\log \\widetilde{P}(D, \\Theta_i)$, the joint probability of that parameter and the data, as the expectation of $\\log P(D, \\Theta)$ under all $\\Theta_k$ that are not $\\Theta_i$ , i.e., to not marginalize out  $\\Theta_i$ in $\\log P(D, \\Theta)$.\n",
      "It is here particularly useful to be able to rewrite the above equation as:\n",
      "\n",
      "\\begin{align}\n",
      "\\mathcal{L}(Q)  =&  \\int Q_i(\\Theta_i) \\log \\widetilde{P}(D, \\Theta_i) -  \\int Q_i(\\Theta_i) \\log Q_i(\\Theta_i) \\\\\n",
      "                =& \\int Q_i(\\Theta_i) \\log \\dfrac{\\widetilde{P}(D , \\Theta_i)}{ Q_i(\\Theta_i)} \\\\\n",
      "                =& - \\text{KL} \\left(Q_i(\\Theta_i) || \\widetilde{P}(D, \\Theta_i) \\right)\n",
      "\\end{align}\n",
      "\n",
      "Recall we wanted to maximize the lower bound function $\\mathcal{L}(Q)$. We see that this negative KL-divergence will be maximal when \n",
      "\n",
      "\\begin{align}\n",
      " Q_i(\\Theta_i) &= \\widetilde{P}(D, \\Theta_i)  \\\\  \n",
      " \\log  Q_i(\\Theta_i) &= \\log \\widetilde{P}(D, \\Theta_i)  \\\\\n",
      "                     &= \\mathbb{E}_{[k \\neq i]}[\\log P(D, \\Theta)]\\\\\n",
      " Q_i(\\Theta_i)      &= \\exp \\left( \\mathbb{E}_{[k \\neq i]} [\\log P(D, \\Theta)] \\right)    \n",
      "\\end{align}\n",
      "\n",
      "So in line with Bishop (except a subscript mismatch on his side), accounting for normalization (marginalizing over all $\\Theta_{\\setminus i}$) we get that the optimal value for $Q_i$ is \n",
      "\n",
      "\\begin{align}\n",
      " Q_i^{*}(\\Theta_i)      &= \\dfrac{\\exp ( \\mathbb{E}_{[k \\neq i]} [\\log P(D, \\Theta)] )   }\n",
      "                      {\\int \\exp ( \\mathbb{E}_{[k \\neq i]} [\\log P(D, \\Theta)] ) \\hspace{2mm} d\\Theta_i  }\n",
      "\\end{align}\n",
      "\n"
     ]
    },
    {
     "cell_type": "markdown",
     "metadata": {},
     "source": [
      "### 3. The log-probability (10 points)\n",
      "\n",
      "Write down the log-prob of data and parameters, $\\ln p(\\mathbf{X}, \\mathbf{Z}, \\mathbf{W}, \\mathbf{\\alpha}, \\tau, \\mathbf{\\mu})$, in full detail (where $\\mathbf{X}$ are observed, $\\mathbf{Z}$ is latent; this is different from [Bishop99] who uses $\\mathbf{T}$ and $\\mathbf{X}$ respectively, but $\\mathbf{X}$ and $\\mathbf{Z}$ are consistent with the PRML book and are more common nowadays). Could we use this to assess the convergence of the variational Bayesian PCA algorithm? If yes, how? If no, why not?"
     ]
    },
    {
     "cell_type": "markdown",
     "metadata": {},
     "source": [
      "The log-probability of the data and parameters is defined as:\n",
      "$$\n",
      "\\begin{align}\n",
      "\\ln p ( X, Z, W, \\alpha, \\tau, \\mu) =& \n",
      "\\ln \\left(  \\prod_{n=1}^N p(x_n| z_n, W, \\mu, \\tau)p(Z)p(W|\\alpha)p(\\alpha)p(\\mu)p(\\tau) \\right) \\\\\n",
      "=& \\ln \\left( \\prod_{n=1}^N \\left[ \\left( \\frac{\\tau}{2 \\pi} \\right) ^{D/2} \\exp \\left( - \\frac{\\tau}{2} \\parallel x_t-Wz_n-\\mu \\parallel ^2  \\right) \\right]\n",
      "\\prod_{n=1}^N \\left[  \\left( \\frac{1}{2 \\pi} \\right)^{q/2} \\exp \\left( - \\frac{1}{2} z_n^\\top z_n \\right) \\right] \\\\\n",
      "\\prod_{i=1}^q \\left[ \\left( \\frac{\\alpha_i}{2 \\pi} \\right)^{D/2} \\exp \\left( -\\frac{\\alpha_i}{2}  w_i^\\top w_i \\right) \\right]\n",
      "\\prod_{i=1}^q \\left[ \\frac{1}{\\Gamma(a_\\alpha)} b_\\alpha^{a_\\alpha} \\alpha_i^{a_\\alpha-1} e^{-b_\\alpha \\: \\alpha_i} \\right]\\\\ \n",
      "\\left[ \\left(\\frac{ \\beta}{2\\pi} \\right)^{D/2} \\exp \\left( - \\frac{\\beta}{2} \\mu^\\top \\mu \\right) \\right]\n",
      "\\left[ \\frac{1}{\\Gamma(c_\\tau)} d_\\tau^{c_\\tau} \\tau^{c_\\tau-1} e^{-d_\\tau \\: \\tau} \\right] \\right) \n",
      "\\\\\n",
      "=& \\frac{ND}{2} \\ln \\frac{\\tau}{2 \\pi} + \\sum_{n=1}^N \\left[ - \\frac{\\tau}{2} \\parallel x_n-Wz_n-\\mu \\parallel ^2 \\right]\n",
      "+ \\frac{Nq}{2} \\ln \\frac{1}{2 \\pi} + \\sum_{n=1}^N \\left[ - \\frac{1}{2} z_n^\\top z_n \\right] \\\\\n",
      "&+ \\sum_{i=1}^q \\left[ \\frac{D}{2} \\ln \\frac{\\alpha_i}{2 \\pi} \\right] + \\sum_{i=1}^q \\left[ - \\frac{\\alpha_i}{2} w_i^\\top w_i \\right]\n",
      "+ \\: q \\ln \\frac{ b_\\alpha^{a_\\alpha}}{\\Gamma(a_\\alpha)} + \\sum_{i=1}^q \\left[ (a_\\alpha -1) \\ln \\alpha_i - b_\\alpha \\alpha_i \\right] \\\\\n",
      "&+ \\frac{D}{2} \\ln \\frac{\\beta}{2 \\pi} - \\frac{\\beta}{2} \\mu^\\top\\mu - \\ln \\Gamma(c_\\tau) + \\ln d_\\tau^{c_\\tau} + (c_\\tau-1)\\ln \\tau - d_\\tau \\tau\n",
      "\\end{align}\n",
      "$$"
     ]
    },
    {
     "cell_type": "markdown",
     "metadata": {},
     "source": [
      "Bayesian learning results in a posterior distribution over the parameters. If we wish to use $\\ln P(\\Theta,D)$ to assess convergence we have no choice but to use some point estimate of the parameters from the approximated posterior $Q$ to evaluate  $\\ln P(\\Theta,D)$ (we cannot plug in the distribution). However, we consider convergence as $Q$ being as similar to the real posterior $P(\\Theta|D)$ as possible. There is no guarantee that if $Q$ becomes more similar to $P(\\Theta|D)$, that the used point estimate of $Q$ results in a higher value when evaluating $\\ln P(\\Theta,D)$. Therefore $\\ln P(\\Theta,D)$ is not a suitable option to assess convergence."
     ]
    },
    {
     "cell_type": "markdown",
     "metadata": {},
     "source": [
      "### 4. The lower bound $\\mathcal{L}(Q)$ (25 points)\n",
      "\n",
      "Derive an expression for the lower bound $\\mathcal{L}(Q)$ of the log-prob $\\ln p(X)$ for Bayesian PCA, making use of the factorization (eq. 12) and the form of the Q-distributions (eq. 16-20) as listed in [Bishop99]. Show your steps. Implement this function.\n",
      "\n",
      "The following result may be useful:\n",
      "\n",
      "For $x \\sim \\Gamma(a,b)$, we have $\\langle \\ln x\\rangle = \\ln b + \\psi(a)$, where $\\psi(a) = \\frac{\\Gamma'(a)}{\\Gamma(a)}$ is the digamma function (which is implemented in numpy.special)."
     ]
    },
    {
     "cell_type": "markdown",
     "metadata": {},
     "source": [
      "\\begin{align}\n",
      "\\mathcal{L}(Q) =& \\int Q(\\Theta) \\ln \\dfrac{P(D,\\Theta)}{Q(\\Theta)} \\hspace{2mm} d \\Theta\\\\\n",
      "                =& \\int Q(\\Theta) \\ln P(D,\\Theta) \\hspace{2mm} d \\Theta  - \\int Q(\\Theta) \\ln Q(\\Theta)  \\hspace{2mm} d \\Theta\\\\\n",
      "                =& \\mathbb{E}_Q[ \\ln P(D,\\Theta)] - \\mathbb{E}_q[\\ln Q(\\Theta)]\\\\\n",
      "               =& \\mathbb{E}_Q \\left[ \\ln \\left( \\prod_{n=1}^{N} \\mathcal{N} (x_n | m_x^{(n)} \\Sigma_x) \\right) \\right] \n",
      "                + \\mathbb{E}_Q \\left[ \\ln P(X) \\right ] + \\mathbb{E}_Q \\left[\\ln  P(W | \\alpha ) \\right] \n",
      "                + \\mathbb{E}_Q \\left[ \\ln P(\\alpha) \\right] + \\mathbb{E}_Q \\left[ \\ln P(\\mu) \\right] \n",
      "                + \\mathbb{E}_Q \\left[ \\ln P(\\tau) \\right] \\\\\n",
      "                & - \\mathbb{E}_Q \\left[ \\ln Q(X) \\right] - \\mathbb{E}_Q \\left[ \\ln Q(W) \\right] - \\mathbb{E}_Q \\left[ Q(\\alpha) \\right] - \\mathbb{E}_Q \\left[ \\ln Q(\\mu) \\right] - \\mathbb{E}_Q \\left[ \\ln \\left( Q(\\tau) \\right) \\right]\\\\\n",
      "                =& \\mathbb{E}_Q \\left[ \\ln \\left( \\prod_{n=1}^{N} \\mathcal{N}({t}|{W} {x}_i + \\mu , \\sigma^2 I_d) \\right) \\right] \\\\\n",
      "                & + \\mathbb{E}_Q \\left[ \\ln \\left( \\prod_{n=1}^{N} \\mathcal{N}(x|0, I_q) \\right) \\right]              \\\\\n",
      "                & + \\mathbb{E}_Q \\left[ \\ln \\left( \\prod_{i=1}^{q} (\\dfrac{\\alpha_i}{2 \\pi})^{d/2}  \\exp( - \\dfrac{1}{2} \\alpha_i ||w_i||^2 ) \\right) \\right] \\\\\n",
      "                & + \\mathbb{E}_Q \\left[ \\ln \\left( \\prod_{i=1}^{q} \\Gamma ( \\alpha_i| a_{\\alpha}, b_{\\alpha}) \\right) \\right] \\\\\n",
      "                & + \\mathbb{E}_Q \\left[ \\ln \\left( \\mathcal{N}(\\mu|0, \\beta^{-1} I) \\right) \\right] \\\\\n",
      "                & + \\mathbb{E}_Q \\left[ \\ln \\left( \\Gamma(\\tau|c_\\tau, d_\\tau ) \\right) \\right] \\\\\n",
      "                & - \\mathbb{E}_Q \\left[ \\ln \\left( \\prod_{n=1}^{N} \\mathcal{N}(x_n| m_x^{(n)}, \\Sigma_x) \\right) \\right] \\\\\n",
      "                & - \\mathbb{E}_Q \\left[ \\ln \\left( \\prod_{k=1}^{d}  \\mathcal{N}(\\widetilde{w}_k | m_w^{(k)}, \\Sigma_w) \\right) \\right] \\\\\n",
      "                & - \\mathbb{E}_Q \\left[ \\ln \\left( \\prod_{i=1}^{q} \\Gamma(\\alpha_i| \\widetilde{a}_\\alpha, \\widetilde{b}_{\\alpha i} ) \\right) \\right] \\\\\n",
      "                & - \\mathbb{E}_Q \\left[ \\ln \\left( \\mathcal{N}(\\mu | m_\\mu, \\Sigma_\\mu) \\right) \\right] \\\\\n",
      "                & - \\mathbb{E}_Q \\left[ \\ln \\left( \\Gamma(\\tau | \\widetilde{a}_\\tau, \\widetilde{b}_\\tau ) \\right) \\right]\n",
      "\\end{align}"
     ]
    },
    {
     "cell_type": "markdown",
     "metadata": {},
     "source": [
      "### 5. Optimize variational parameters (50 points)\n",
      "Implement the update equations for the Q-distributions, in the __update_XXX methods. Each update function should re-estimate the variational parameters of the Q-distribution corresponding to one group of variables (i.e. either $Z$, $\\mu$, $W$, $\\alpha$ or $\\tau$)."
     ]
    },
    {
     "cell_type": "markdown",
     "metadata": {},
     "source": [
      "### 6. Learning algorithm (10 points)\n",
      "Implement the learning algorithm described in [Bishop99], i.e. iteratively optimize each of the Q-distributions holding the others fixed.\n",
      "\n",
      "What would be a good way to track convergence of the algorithm? Implement your suggestion.\n",
      "\n",
      "Test the algorithm on some test data drawn from a Gaussian with different variances in orthogonal directions. "
     ]
    },
    {
     "cell_type": "code",
     "collapsed": false,
     "input": [],
     "language": "python",
     "metadata": {},
     "outputs": [],
     "prompt_number": 22
    },
    {
     "cell_type": "markdown",
     "metadata": {},
     "source": [
      "We created a set of orthonormal basis vectors by using Matlab code from <a href=\"http://www.mathworks.com/matlabcentral/fileexchange/18973-create-orthonormal-vectors\">[Price 2008]</a>."
     ]
    },
    {
     "cell_type": "code",
     "collapsed": false,
     "input": [
      "# matrix with orthonormal vectors\n",
      "A = np.array([ [0.4246,-0.1753,-0.1466,-0.0956,0.7864,0.3741]\n",
      "                ,[0.5199,0.3483,0.2280,-0.4751,-0.4102,0.4031]\n",
      "                ,[-0.2212,-0.7183,-0.2838,-0.2656,-0.3263,0.4213]\n",
      "                ,[-0.5600,0.0724,0.6716,-0.1030,0.2397,0.4025]\n",
      "                ,[0.2692,-0.1393,0.2114,0.8147,-0.2223,0.3876]\n",
      "                ,[-0.3382,0.5544,-0.5918,0.1422,-0.0037,0.4558]])\n",
      "\n",
      "# eigenvalues on a diagonal matrix representing the magnitude of the variance\n",
      "L = np.diag( [7,6,5,4,1,1])\n",
      "\n",
      "# Covariance matrix generated based on A and L\n",
      "covariance = np.dot(np.dot(A, L) , A.T)\n",
      "means = [2,2,2,2,2,2]\n",
      "\n",
      "dims = 6\n",
      "N = 1000\n",
      "\n",
      "data = numpy.random.multivariate_normal(means, covariance, (N)).T\n",
      "\n",
      "#print 'Plot of the first three dimensions of the data'\n",
      "#plot_data(data)\n",
      "\n",
      "bay_pca = BayesianPCA(dims,N)\n",
      "#bay_pca.fit(data, 300)"
     ],
     "language": "python",
     "metadata": {},
     "outputs": [],
     "prompt_number": 66
    },
    {
     "cell_type": "markdown",
     "metadata": {},
     "source": [
      "### 7. PCA Representation of MNIST (10 points)\n",
      "\n",
      "Download the MNIST dataset from here http://deeplearning.net/tutorial/gettingstarted.html (the page contains python code for loading the data). Run your algorithm on (part of) this dataset, and visualize the results.\n"
     ]
    },
    {
     "cell_type": "code",
     "collapsed": false,
     "input": [],
     "language": "python",
     "metadata": {},
     "outputs": []
    }
   ],
   "metadata": {}
  }
 ]
}