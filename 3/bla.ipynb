{
 "metadata": {
  "name": ""
 },
 "nbformat": 3,
 "nbformat_minor": 0,
 "worksheets": [
  {
   "cells": [
    {
     "cell_type": "markdown",
     "metadata": {},
     "source": [
      "# Lab 3: Bayesian PCA\n"
     ]
    },
    {
     "cell_type": "markdown",
     "metadata": {},
     "source": [
      "<font size=4>**Agnes van Belle** *(10363130)*, **Lydia Mennes** *(10333843)*, **Francesco Stablum** *(6200982)*</font>"
     ]
    },
    {
     "cell_type": "heading",
     "level": 4,
     "metadata": {},
     "source": [
      "<font size=4 color=\"#800000\">Remark</font>: We use the parameter notation as in <a href=\"http://research.microsoft.com/pubs/67241/bishop-vpca-icann-99.pdf\"> [Bishop99] Variational Principal Components, C. Bishop, ICANN 1999</a>. \n",
      "\n",
      "That is, $D = \\{ t_1, \\dots t_n\\}$ denotes the observed data; $X = \\{ x_1 \\dots x_n \\}$ comprises the latent variables."
     ]
    },
    {
     "cell_type": "heading",
     "level": 2,
     "metadata": {},
     "source": [
      "1. Theoretical foundations"
     ]
    },
    {
     "cell_type": "markdown",
     "metadata": {},
     "source": [
      "We will discuss some theory in this section. The implementation is discussed in the next section."
     ]
    },
    {
     "cell_type": "code",
     "collapsed": false,
     "input": [
      "from IPython.display import display, Math, Latex"
     ],
     "language": "python",
     "metadata": {},
     "outputs": [],
     "prompt_number": 13
    },
    {
     "cell_type": "heading",
     "level": 3,
     "metadata": {},
     "source": [
      "1.1 The Q-distribution"
     ]
    },
    {
     "cell_type": "markdown",
     "metadata": {},
     "source": [
      "\n",
      "In variational Bayes, we introduce a distribution $Q(\\Theta)$ over parameters / latent variables in order to make inference tractable. We can think of $Q$ as being an approximation of a certain distribution. "
     ]
    },
    {
     "cell_type": "markdown",
     "metadata": {},
     "source": [
      "The function $Q$ approximates the function that is the posterior distribution, $p(\\Theta | D) $.\n",
      "\n",
      "The posterior $P(\\Theta | D)$ is given by multiplying the likelihood by the prior and then normalizing:\n",
      "\n",
      "\\begin{align}\n",
      "P(\\Theta | D) &= \\dfrac{P(D | \\Theta)P( \\Theta)}{P(D)} \\\\\n",
      "              &= \\dfrac{P(D | \\Theta)P( \\Theta)}{\\int P(D | \\Theta)P(\\Theta) \\hspace{1mm} d\\Theta}\n",
      "\\end{align}\n",
      "\n",
      "Why is this useful? \n",
      "For Maximum a Posteriori (MAP) learning, we could use the posterior to get a point estimate of the parameters:\n",
      "\n",
      "\\begin{align}\n",
      "\\widetilde{\\Theta}_{\\text{MAP}}(D)&= \\arg\\max_{\\Theta} P(\\Theta | D) \\\\\n",
      "            & \\propto {P(D | \\Theta)P( \\Theta)}\n",
      "\\end{align}\n",
      "\n",
      "So for MAP learning the normalization (and therefore integration) is not needed. Like Maximum likelihood estimation (MLE) learning, MAP learning learns a point estimate of our parameters.\n",
      "\n",
      "In the Bayesian framework no fixed parameter setting is chosen. The posterior is used to obtain a predictive density (also called the posterior predictive distribution) for a new data point $t^{*}$ with:\n",
      "\n",
      "\\begin{align}\n",
      "P(t^{*} | D) &= \\int P(t^{*} | \\Theta) P(\\Theta | D) \\hspace{2mm} d\\Theta\n",
      "\\end{align}\n",
      "\n",
      "This means that in the Bayesian learning framework we consider all possible parametrizations of our models by incorporating the posterior this way. Each of these is weighted by the evidence for them in $D$.\n",
      "(Note that when predicting, we also return a probability distribution as prediction for $t^{*}$). \n",
      "\n",
      "Note that we need to integrate over all possible parametrizations for this. In practice this can quickly become infeasible for models with many parameters; when using a mixture of models; or when the prior distribution is not of the same functional form as the likelihood distribution. Therefore we use a ''simpler'' distribution $Q(\\Theta)$ to approximate $P(\\Theta|D)$. \n"
     ]
    },
    {
     "cell_type": "heading",
     "level": 3,
     "metadata": {},
     "source": [
      "1.2 The mean-field approximation \n"
     ]
    },
    {
     "cell_type": "markdown",
     "metadata": {},
     "source": [
      "Equation 13 from [Bishop99] is a very powerful result: assuming only that $Q(\\Theta)$ factorizes in a certain way (no assumptions on the functional form of the factors $Q_i$), we get a set of coupled equations for the $Q_i$.\n",
      "\n",
      "We validate this result by deriving in detail the expression for the optimal $Q_i^{*}(\\Theta_i)$, starting with the expression for the lower bound $\\mathcal{L}(Q)$."
     ]
    },
    {
     "cell_type": "markdown",
     "metadata": {},
     "source": [
      "It is given that the lower bound is \n",
      "\n",
      "$$\n",
      "\\begin{align}\n",
      "\\mathcal{L}(Q) =& \\int Q(\\Theta) \\log \\dfrac{P(D, \\Theta)}{Q(\\Theta)}\n",
      "                \\hspace{3mm} d \\Theta  \\\\\n",
      "\\end{align} \n",
      "$$\n",
      "\n",
      "And the factorization is\n",
      "\n",
      "\\begin{equation}\n",
      "Q(\\Theta)= \\prod_{k} Q_k(\\Theta_k)\n",
      "\\end{equation}\n",
      "\n",
      "Plugging in the factorization into the lower bound, we get\n",
      "\n",
      "\\begin{align}                \n",
      "\\mathcal{L}(Q) =&  \\int \n",
      "                     \\prod_{k} Q_k( \\Theta_k) \n",
      "                     \\left[\n",
      "                         \\log P(D,\\Theta) - \\log \\left( \\prod_k Q_k(\\Theta_k) \\right)\n",
      "                     \\right]\n",
      "                 \\hspace{3mm} d \\Theta  \\\\\n",
      "              =& \\int\n",
      "              \\prod_{k} Q_k( \\Theta_k) \n",
      "                     \\left[\n",
      "                         \\log P(D,\\Theta) - \\sum_k \\log Q_k(\\Theta_k)\n",
      "                     \\right]\n",
      "                  \\hspace{3mm} d \\Theta\n",
      "\\end{align}  \n",
      "\n",
      "By denoting a specific factor $Q_i$ separately we arrive at\n",
      "\n",
      "\\begin{align}\n",
      "\\mathcal{L}(Q) =& \\int Q_i( \\Theta_i) \\prod_{k \\neq i} Q_k( \\Theta_k) \n",
      "                \\left[ \\log P(D, \\Theta) - \\log \\left( \\prod_{j \\neq i}  Q_j(\\Theta_j) \\right) - \\log Q_i (\\Theta_i) \\right] \n",
      "                \\hspace{3mm} d \\Theta  \n",
      "\\end{align}                \n",
      "\n",
      "By taking the integral of $Q_i$ apart from those for $\\{Q_1, \\dots ,Q_{i-1},Q_{i+1}, \\dots ,Q_M \\}$, we get\n",
      "\n",
      "\\begin{align}\n",
      "\\mathcal{L}(Q) =& \n",
      "    \\int Q_i(\\Theta_i) \n",
      "        \\left[ \n",
      "            \\int  \\prod_{k \\neq i} Q_k( \\Theta_k) \\log P(D, \\Theta) \n",
      "            \\hspace{3mm} d \\Theta_{\\setminus i}\n",
      "        \\right]\n",
      "        \\hspace{3mm} d \\Theta_{i} \\hspace{3mm} -\\\\\n",
      "& \n",
      "    \\int Q_i(\\Theta_i) \n",
      "    \\left[ \n",
      "            \\int  \\prod_{k \\neq i} Q_k( \\Theta_k) \n",
      "            \\log \\left( \\prod_{j \\neq i} Q_j(\\Theta_j) \\right)\n",
      "            \\hspace{3mm} d \\Theta_{\\setminus i}\n",
      "        \\right]\n",
      "        \\hspace{3mm} d \\Theta_{i}  \\hspace{3mm} - \\\\\n",
      "& \n",
      "    \\int Q_i(\\Theta_i) \n",
      "        \\log Q_i (\\Theta_i)\n",
      "        \\left[ \n",
      "            \\int\n",
      "             \\prod_{k \\neq i} Q_k( \\Theta_k) \n",
      "             \\hspace{3mm} d \\Theta_{\\setminus i}\n",
      "        \\right]\n",
      "        \\hspace{3mm} d \\Theta_{i} \n",
      "\\end{align}\n"
     ]
    },
    {
     "cell_type": "markdown",
     "metadata": {},
     "source": [
      "\n",
      "Now, when we keep the $Q_k \\neq Q_{i}$ fixed the following happens, the integral over $\\Theta_{\\setminus i}$  in the third row of the equation for $\\mathcal{L}(Q)$ will become 1, because all $Q_n(\\Theta_n)$ are probability distributions. \n",
      "\n",
      "\\begin{align}\n",
      "\\int Q_i(\\Theta_i) \n",
      "        \\log Q_i (\\Theta_i)\n",
      "        \\left[ \n",
      "            \\int\n",
      "             \\prod_{k \\neq i} Q_k( \\Theta_k) \n",
      "             \\hspace{3mm} d \\Theta_{\\setminus i}\n",
      "        \\right]\n",
      "        \\hspace{3mm} d \\Theta_{i} \n",
      "        =& \n",
      "    \\int Q_i(\\Theta_i) \n",
      "        \\log Q_i (\\Theta_i)\n",
      "        \\left[\n",
      "        \\prod_{k \\neq i}         \n",
      "            \\int\n",
      "              Q_k( \\Theta_k) \n",
      "             \\hspace{3mm} d \\Theta_{k}\n",
      "        \\right]        \n",
      "        \\hspace{3mm} d \\Theta_{i} \\\\\n",
      "     =&\n",
      "      \\int Q_i(\\Theta_i) \n",
      "        \\log Q_i (\\Theta_i)\n",
      "        \\left[\n",
      "        \\prod_{k \\neq i}         \n",
      "            1\n",
      "        \\right]        \n",
      "        \\hspace{3mm} d \\Theta_{i} \n",
      "\\end{align}\n",
      "\n",
      "So we can rewrite the equation as\n",
      "\n",
      "\\begin{align}       \n",
      "\\mathcal{L}(Q)  =& \n",
      "    \\int Q_i(\\Theta_i) \n",
      "        \\left[ \n",
      "            \\int  \\prod_{k \\neq i} Q_k( \\Theta_k) \\log P(D, \\Theta) \n",
      "            \\hspace{3mm} d \\Theta_{\\setminus i}\n",
      "        \\right]\n",
      "        \\hspace{3mm} d \\Theta_{i} \\hspace{3mm} -\\\\\n",
      "& \n",
      "    \\int Q_i(\\Theta_i) \n",
      "    \\left[ \n",
      "            \\int  \\prod_{k \\neq i} Q_k( \\Theta_k) \n",
      "            \\log \\left( \\prod_{j \\neq i} Q_j(\\Theta_j) \\right)\n",
      "            \\hspace{3mm} d \\Theta_{\\setminus i}\n",
      "        \\right]\n",
      "        \\hspace{3mm} d \\Theta_{i}  \\hspace{3mm} - \\\\\n",
      "& \n",
      "    \\int Q_i(\\Theta_i) \n",
      "        \\log Q_i (\\Theta_i)    \n",
      "        \\hspace{3mm} d \\Theta_{i}         \n",
      "\\end{align}\n",
      "\n",
      "\n",
      "Furthermore, when we keep the $Q_k \\neq Q_{i}$ fixed, the $\\Theta_{\\setminus i}$ integral in the second row of the equation for  $\\mathcal{L}(Q)$ will become a constant. We know that $\\int Q_i(\\Theta_i)  d\\Theta_{i}$ should be 1 because $Q_i$ is a probability distribution. So the whole second row can be viewed as a constant. \n",
      "\n",
      "\n",
      "\\begin{align}\n",
      "\\mathcal{L}(Q)  =& \n",
      "    \\int Q_i(\\Theta_i) \n",
      "        \\left[ \n",
      "            \\int  \\prod_{k \\neq i} Q_k( \\Theta_k) \\log P(D, \\Theta) \n",
      "            \\hspace{3mm} d \\Theta_{\\setminus i}\n",
      "        \\right]\n",
      "        \\hspace{3mm} d \\Theta_{i} \\hspace{3mm} -\\\\\n",
      "& \n",
      "    \\int Q_i(\\Theta_i) \n",
      "        \\log Q_i (\\Theta_i)    \n",
      "        \\hspace{3mm} d \\Theta_{i}  \\hspace{1mm} + \\text{const}        \n",
      "\\end{align}\n"
     ]
    },
    {
     "cell_type": "markdown",
     "metadata": {},
     "source": [
      "Note that the integral over $\\Theta_{\\setminus i}$  in the  first line in $\\mathcal{L}(Q)$ could be rewritten as an expectation :\n",
      "\n",
      "\\begin{align}\n",
      "\\mathcal{L}(Q)  =& \n",
      "    \\int Q_i(\\Theta_i) \\cdot\n",
      "        \\mathbb{E}_{[k \\neq i]}[ \\log P(D, \\Theta)]\n",
      "        \\hspace{3mm} d \\Theta_{i} \\hspace{3mm} -\\\\\n",
      "& \n",
      "    \\int Q_i(\\Theta_i) \n",
      "        \\log Q_i (\\Theta_i)    \n",
      "        \\hspace{3mm} d \\Theta_{i}  \\hspace{1mm} + \\text{const}        \n",
      "\\end{align}\n",
      "\n",
      "Where $\\mathbb{E}_{[k \\neq i]}$ denotes this expected value is with respect to the $Q$ distributions over all variables $\\Theta_k \\neq \\Theta_i$.\n",
      "\n",
      "\n",
      "We can define $\\mathbb{E}_{[k \\neq i]}[ \\log P(D, \\Theta)]$ as $\\log \\widetilde{P}(D, \\Theta_i)$.\n",
      "\n",
      "Intuitively it makes sense to see  $\\log \\widetilde{P}(D, \\Theta_i)$, the joint probability of that parameter and the data, as the expectation of $\\log P(D, \\Theta)$ under all $\\Theta_k$ that are not $\\Theta_i$ , i.e., to not marginalize out  $\\Theta_i$ in $\\log P(D, \\Theta)$.\n",
      "It is here particularly useful to be able to rewrite the above equation as:\n",
      "\n",
      "\\begin{align}\n",
      "\\mathcal{L}(Q)  =&  \\int Q_i(\\Theta_i) \\log \\widetilde{P}(D, \\Theta_i) -  \\int Q_i(\\Theta_i) \\log Q_i(\\Theta_i) \\\\\n",
      "                =& \\int Q_i(\\Theta_i) \\log \\dfrac{\\widetilde{P}(D , \\Theta_i)}{ Q_i(\\Theta_i)} \\\\\n",
      "                =& - \\text{KL} \\left(Q_i(\\Theta_i) || \\widetilde{P}(D, \\Theta_i) \\right)\n",
      "\\end{align}\n",
      "\n",
      "Recall we wanted to maximize the lower bound function $\\mathcal{L}(Q)$. We see that this negative KL-divergence will be maximal when \n",
      "\n",
      "\\begin{align}\n",
      " Q_i(\\Theta_i) &= \\widetilde{P}(D, \\Theta_i)  \\\\  \n",
      " \\log  Q_i(\\Theta_i) &= \\log \\widetilde{P}(D, \\Theta_i)  \\\\\n",
      "                     &= \\mathbb{E}_{[k \\neq i]}[\\log P(D, \\Theta)]\\\\\n",
      " Q_i(\\Theta_i)      &= \\exp \\left( \\mathbb{E}_{[k \\neq i]} [\\log P(D, \\Theta)] \\right)    \n",
      "\\end{align}\n",
      "\n",
      "So in line with Bishop (except a subscript mismatch on his side), accounting for normalization (marginalizing over all $\\Theta_{\\setminus i}$) we get that the optimal value for $Q_i$ is \n",
      "\n",
      "\\begin{align}\n",
      " Q_i^{*}(\\Theta_i)      &= \\dfrac{\\exp ( \\mathbb{E}_{[k \\neq i]} [\\log P(D, \\Theta)] )   }\n",
      "                      {\\int \\exp ( \\mathbb{E}_{[k \\neq i]} [\\log P(D, \\Theta)] ) \\hspace{2mm} d\\Theta_i  }\n",
      "\\end{align}\n",
      "\n"
     ]
    },
    {
     "cell_type": "heading",
     "level": 3,
     "metadata": {},
     "source": [
      "1.3 The log-probability\n"
     ]
    },
    {
     "cell_type": "markdown",
     "metadata": {},
     "source": [
      "The log-probability of data and parameters, $\\ln p(D, X, W, \\alpha, \\tau, \\mu)$ can be written down in full detail as:\n",
      "\n"
     ]
    },
    {
     "cell_type": "markdown",
     "metadata": {},
     "source": [
      "$$\n",
      "\\begin{align}\n",
      "\\ln p ( D, X, W, \\alpha, \\tau, \\mu) =& \n",
      "\\ln \\left(  \\prod_{n=1}^N p(t_n| x_n, W, \\mu, \\tau)p(X)p(W|\\alpha)p(\\alpha)p(\\mu)p(\\tau) \\right) \\\\\n",
      "=& \\ln \\left( \\prod_{n=1}^N \\left[ \\left( \\frac{\\tau}{2 \\pi} \\right) ^{D/2} \\exp \\left( - \\frac{\\tau}{2} \\parallel t_n-Wx_n-\\mu \\parallel ^2  \\right) \\right]\n",
      "\\prod_{n=1}^N \\left[  \\left( \\frac{1}{2 \\pi} \\right)^{q/2} \\exp \\left( - \\frac{1}{2} x_n^\\top x_n \\right) \\right] \\\\\n",
      "\\prod_{i=1}^q \\left[ \\left( \\frac{\\alpha_i}{2 \\pi} \\right)^{D/2} \\exp \\left( -\\frac{\\alpha_i}{2}  w_i^\\top w_i \\right) \\right]\n",
      "\\prod_{i=1}^q \\left[ \\frac{1}{\\Gamma(a_\\alpha)} b_\\alpha^{a_\\alpha} \\alpha_i^{a_\\alpha-1} e^{-b_\\alpha \\: \\alpha_i} \\right]\\\\ \n",
      "\\left[ \\left(\\frac{ \\beta}{2\\pi} \\right)^{D/2} \\exp \\left( - \\frac{\\beta}{2} \\mu^\\top \\mu \\right) \\right]\n",
      "\\left[ \\frac{1}{\\Gamma(c_\\tau)} d_\\tau^{c_\\tau} \\tau^{c_\\tau-1} e^{-d_\\tau \\: \\tau} \\right] \\right) \n",
      "\\\\\n",
      "~\n",
      "=& \\frac{ND}{2} \\ln \\frac{\\tau}{2 \\pi} + \\sum_{n=1}^N \\left[ - \\frac{\\tau}{2} \\parallel t_n-Wx_n-\\mu \\parallel ^2 \\right]\n",
      "+ \\frac{Nq}{2} \\ln \\frac{1}{2 \\pi} + \\sum_{n=1}^N \\left[ - \\frac{1}{2} x_n^\\top x_n \\right] \\\\\n",
      "&+ \\sum_{i=1}^q \\left[ \\frac{D}{2} \\ln \\frac{\\alpha_i}{2 \\pi} \\right] + \\sum_{i=1}^q \\left[ - \\frac{\\alpha_i}{2} w_i^\\top w_i \\right]\n",
      "+ \\: q \\ln \\frac{ b_\\alpha^{a_\\alpha}}{\\Gamma(a_\\alpha)} + \\sum_{i=1}^q \\left[ (a_\\alpha -1) \\ln \\alpha_i - b_\\alpha \\alpha_i \\right] \\\\\n",
      "&+ \\frac{D}{2} \\ln \\frac{\\beta}{2 \\pi} - \\frac{\\beta}{2} \\mu^\\top\\mu - \\ln \\Gamma(c_\\tau) + \\ln d_\\tau^{c_\\tau} + (c_\\tau-1)\\ln \\tau - d_\\tau \\tau\n",
      "\\end{align}\n",
      "$$"
     ]
    },
    {
     "cell_type": "markdown",
     "metadata": {},
     "source": [
      " Can we use this to assess the convergence of the variational Bayesian PCA algorithm? \n",
      " \n",
      " Bayesian learning results in a posterior distribution over the parameters. If we wish to use $\\ln P(\\Theta,D)$ to assess convergence we have no choice but to use some point estimate of the parameters from the approximated posterior $Q$ to evaluate  $\\ln P(\\Theta,D)$ (we cannot plug in the distribution). \n",
      " \n",
      "However, we consider convergence as $Q$ being as similar to the real posterior $P(\\Theta|D)$ as possible. There is no guarantee that if $Q$ becomes more similar to $P(\\Theta|D)$, that the used point estimate of $Q$ results in a higher value when evaluating $\\ln P(\\Theta,D)$. Therefore $\\ln P(\\Theta,D)$ is not a suitable option to assess convergence."
     ]
    },
    {
     "cell_type": "heading",
     "level": 3,
     "metadata": {},
     "source": [
      "1.4 The lower bound $\\mathcal{L}(Q)$\n"
     ]
    },
    {
     "cell_type": "heading",
     "level": 4,
     "metadata": {},
     "source": [
      "**1.4.1 General expression**"
     ]
    },
    {
     "cell_type": "markdown",
     "metadata": {},
     "source": [
      "Below we derive an expression for the lower bound $\\mathcal{L}(Q)$ of the log-probability $\\ln p(D)$ for Bayesian PCA, making use of the factorization (Equation 12) and the form of the Q-distributions (Equations 16-20) as listed in [Bishop99].\n",
      "\n",
      "The following result may be useful:\n",
      "\n",
      "For $x \\sim \\Gamma(a,b)$, we have $\\langle \\ln x\\rangle = \\ln b + \\psi(a)$, where $\\psi(a) = \\frac{\\Gamma'(a)}{\\Gamma(a)}$ is the digamma function (which is implemented in numpy.special)."
     ]
    },
    {
     "cell_type": "markdown",
     "metadata": {},
     "source": [
      "The lower bound can be defined as"
     ]
    },
    {
     "cell_type": "markdown",
     "metadata": {},
     "source": [
      "\\begin{align}\n",
      "\\mathcal{L}(Q) =& \\int Q(\\Theta) \\ln \\dfrac{P(D,\\Theta)}{Q(\\Theta)} \\hspace{2mm} d \\Theta\\\\\n",
      "                =& \\int Q(\\Theta) \\ln P(D,\\Theta) \\hspace{2mm} d \\Theta  - \\int Q(\\Theta) \\ln Q(\\Theta)  \\hspace{2mm} d \\Theta\\\\\n",
      "                = & \\mathbb{E}_Q[ \\ln P(D,\\Theta)] - \\mathbb{E}_Q[\\ln Q(\\Theta)]\\\\\n",
      "                ~\n",
      "               =& \\mathbb{E}_Q \\left[ \\ln \\left( P (t | x, W, \\mu, \\tau) \\right) \\right] \\\\\n",
      "               & + \\mathbb{E}_Q \\left[ \\ln P(X) \\right ] \\\\\n",
      "               & + \\mathbb{E}_Q \\left[\\ln  P(W | \\alpha ) \\right] \\\\\n",
      "               & + \\mathbb{E}_Q \\left[ \\ln P(\\alpha) \\right]\\\\\n",
      "               &+ \\mathbb{E}_Q \\left[ \\ln P(\\mu) \\right] \\\\\n",
      "                & + \\mathbb{E}_Q \\left[ \\ln P(\\tau) \\right] \\\\\n",
      "                & - \\mathbb{E}_Q \\left[ \\ln Q(X) \\right] \\\\\n",
      "                & - \\mathbb{E}_Q \\left[ \\ln Q(W) \\right] \\\\\n",
      "                & - \\mathbb{E}_Q \\left[ \\ln \\left( Q(\\alpha) \\right) \\right] \\\\\n",
      "                & - \\mathbb{E}_Q \\left[ \\ln Q(\\mu) \\right] \\\\\n",
      "                & - \\mathbb{E}_Q \\left[ \\ln \\left( Q(\\tau) \\right) \\right]\\\\\n",
      "\\end{align}"
     ]
    },
    {
     "cell_type": "markdown",
     "metadata": {},
     "source": [
      "\\begin{align}\n",
      "\\mathcal{L}(Q) = & \\mathbb{E}_Q \\left[ \\ln \\left( \\prod_{n=1}^{N} \\mathcal{N} (t_n | W x_n +  \\mu, \\tau^{-1} I) \\right) \\right] \\\\\n",
      "                & +\\mathbb{E}_Q \\left[ \\ln \\left( \\prod_{n=1}^{N} \\mathcal{N}(x_n|0, I_q) \\right) \\right]              \\\\\n",
      "                & + \\mathbb{E}_Q \\left[ \\ln \\left( \\prod_{i=1}^{q} (\\dfrac{\\alpha_i}{2 \\pi})^{d/2}  \\exp( - \\dfrac{1}{2} \\alpha_i ||w_i||^2 ) \\right) \\right] \\\\\n",
      "                & + \\mathbb{E}_Q \\left[ \\ln \\left( \\prod_{i=1}^{q} \\Gamma ( \\alpha_i| a_{\\alpha}, b_{\\alpha}) \\right) \\right] \\\\\n",
      "                & + \\mathbb{E}_Q \\left[ \\ln \\left( \\mathcal{N}(\\mu|0, \\beta^{-1} I) \\right) \\right] \\\\\n",
      "                & + \\mathbb{E}_Q \\left[ \\ln \\left( \\Gamma(\\tau|c_\\tau, d_\\tau ) \\right) \\right] \\\\\n",
      "                & - \\mathbb{E}_Q \\left[ \\ln \\left( \\prod_{n=1}^{N} \\mathcal{N}(x_n| m_x^{(n)}, \\Sigma_x) \\right) \\right] \\\\\n",
      "                & - \\mathbb{E}_Q \\left[ \\ln \\left( \\prod_{k=1}^{d}  \\mathcal{N}(\\widetilde{w}_k | m_w^{(k)}, \\Sigma_w) \\right) \\right] \\\\\n",
      "                & - \\mathbb{E}_Q \\left[ \\ln \\left( \\prod_{i=1}^{q} \\Gamma(\\alpha_i| \\widetilde{a}_\\alpha, \\widetilde{b}_{\\alpha i} ) \\right) \\right] \\\\\n",
      "                & - \\mathbb{E}_Q \\left[ \\ln \\left( \\mathcal{N}(\\mu | m_\\mu, \\Sigma_\\mu) \\right) \\right] \\\\\n",
      "                & - \\mathbb{E}_Q \\left[ \\ln \\left( \\Gamma(\\tau | \\widetilde{a}_\\tau, \\widetilde{b}_\\tau ) \\right) \\right] \\\\\n",
      "                & + \\text{const}\n",
      "\\end{align}\n",
      "\n"
     ]
    },
    {
     "cell_type": "heading",
     "level": 4,
     "metadata": {},
     "source": [
      "**1.4.2 Evaluation in detail**"
     ]
    },
    {
     "cell_type": "markdown",
     "metadata": {},
     "source": [
      "We have evaluated the eleven integrals corresponding to these eleven expectations analytically. \n",
      "\n",
      "Below we give the derivation for each of them."
     ]
    },
    {
     "cell_type": "heading",
     "level": 4,
     "metadata": {},
     "source": [
      "1.4.2.1"
     ]
    },
    {
     "cell_type": "markdown",
     "metadata": {},
     "source": [
      "\\begin{align}\n",
      "\\mathbb{E}_Q \\left[ \\ln \\left( \\prod_{n=1}^{N} P (t_n | x_n, W, \\mu, \\tau) \\right) \\right] = & \n",
      "\\mathbb{E}_Q \\left[ \\ln \\left( \\prod_{n=1}^N  \\left( \\frac{\\tau}{2 \\pi} \\right) ^{D/2} \\exp \\left(  - \\frac{\\tau}{2} \\parallel t_n - Wx_n-\\mu \\parallel^2 \\right) \\right) \\right] \\\\\n",
      "= & \\int Q(\\Theta) \\frac{ND}{2} \\ln \\left( \\frac{\\tau}{2 \\pi} \\right) d\\Theta + \\int Q(\\Theta) \\sum_{n=1}^N - \\frac{\\tau}{2} \\parallel t_n - Wx_n-\\mu \\parallel^2 d\\Theta \n",
      "\\end{align}"
     ]
    },
    {
     "cell_type": "markdown",
     "metadata": {},
     "source": [
      "Where"
     ]
    },
    {
     "cell_type": "markdown",
     "metadata": {},
     "source": [
      "\\begin{align}\n",
      "\\int Q(\\Theta) \\frac{ND}{2} \\ln \\left( \\frac{\\tau}{2 \\pi} \\right) d\\Theta &= \\frac{ND}{2} \\left( \\psi ( \\widetilde{a}_\\tau ) - \\ln \\widetilde{b}_\\tau - \\ln 2 \\pi \\right) \\\\ \n",
      "&= \\frac{ND}{2} \\left( \\psi ( \\widetilde{a}_\\tau ) - \\ln \\widetilde{b}_\\tau \\right) + \\text{const}\n",
      "\\end{align}\n",
      "\n",
      "Where we use the fact that $\\mathbb{E}_P[\\ln x ] = \\psi(a) - \\ln(b)$ if $P(x) = \\Gamma(x|a,b)$, where $\\psi(\\cdot)$ is the digamma function;"
     ]
    },
    {
     "cell_type": "markdown",
     "metadata": {},
     "source": [
      "And for the second term:\n",
      "\\begin{align}\n",
      "\\int Q(\\Theta) \\sum_{n=1}^N - \\frac{\\tau}{2} \\parallel t_n - Wx_n-\\mu \\parallel^2 d\\Theta =&\n",
      "\\int Q(\\Theta_{/ \\tau})  \\sum_{n=1}^N - \\frac{1}{2} \\parallel t_n - Wx_n-\\mu \\parallel^2 \\int Q(\\tau) \\tau \\: d\\tau \\: d\\Theta_{/ \\tau} \\\\\n",
      "=& \\int Q(\\Theta_{/ \\tau})  \\sum_{n=1}^N - \\frac{1}{2} \\parallel t_n - Wx_n-\\mu \\parallel^2 \\frac{ \\widetilde{a}_\\tau }{ \\widetilde{b}_\\tau} \\: d\\Theta_{/ \\tau} \\\\\n",
      "=&  -\\frac{ N\\widetilde{a}_\\tau }{ 2 \\widetilde{b}_\\tau} \\sum_{n=1}^N \\int Q(\\Theta_{/ \\tau}) \\parallel t_n - Wx_n-\\mu \\parallel^2  \\: d\\Theta_{/ \\tau} \\\\\n",
      "=& -\\frac{ N\\widetilde{a}_\\tau }{ 2 \\widetilde{b}_\\tau} \\sum_{n=1}^N \\int Q(\\Theta_{/ \\tau}) (t_n^\\top t_n - t_n^\\top Wx_n - t_n^\\top \\mu + x_n^\\top W^\\top Wx_n - x_n^\\top W^\\top t_n +x_n^\\top W^\\top \\mu - \\mu^\\top t_n + \\mu^\\top Wx_n + \\mu^\\top \\mu)  \\: d\\Theta_{/ \\tau}\n",
      "\\end{align}"
     ]
    },
    {
     "cell_type": "markdown",
     "metadata": {},
     "source": [
      "We can now split the remaining integral in seperate terms and solve them seperately, which results in:\n",
      "\\begin{align}\n",
      "\\int Q(\\Theta_{/ \\tau}) \\parallel t_n - Wx_n-\\mu \\parallel^2  \\: d\\Theta_{/ \\tau} &=  t_n^\\top t_n - t_n^\\top m_\\mu - m_\\mu^\\top t_n + m_\\mu^\\top m_\\mu - t_n^\\top m_w m_x^{(n)} - m_x^{(n) \\top} m_w^\\top t_n + m_x^{(n)^\\top} m_w^\\top m_\\mu + m_\\mu^\\top m_w m_x^{(n)} + ( Tr( \\Sigma_x ) + m_x^{(n) \\top} m_x^{(n)})(\\Sigma_w + w_w^\\top m_w) \\\\\n",
      "&= \\parallel t_n-m_\\mu \\parallel^2 - (t_n^\\top - m_\\mu^\\top)m_wm_x^{(n)} - m_x^{(n)\\top}m_w^\\top(t_n-m_\\mu) + Tr \\left( \\Sigma_x \\right) + m_x^{(n) \\top} \\left(\\Sigma_w + w_w^\\top m_w \\right) m_x^{(n)}\n",
      "\\end{align}\n",
      "\n",
      "The following result needs some more explaining:\n",
      "\\begin{align}\n",
      "\\int Q(\\Theta_{/ \\tau}) x_n^\\top W^\\top W x_n \\: d\\Theta_{/ \\tau} &=  \\int Q(x_n) x_n^\\top  \\int Q(W) W^\\top W \\: dW \\: x_n \\: dx_n  \\\\\n",
      "&=  Tr \\left( \\Sigma_x \\right) + m_x^{(n) \\top} \\left(\\Sigma_w + w_w^\\top m_w \\right) m_x^{(n)}\n",
      "\\end{align} \n",
      "\n",
      "$\\mathbb{E}_Q \\left[W^\\top W \\right]$ results in a matrix $M$, where $M_{ij} = \\sum_{k=1}^d \\mathbb{E}_Q \\left[ W_{ik} W_{kj} \\right]$. Here we use $\\mathbb{E}[XY] = cov(X,Y) + \\mathbb{E}[X]\\mathbb{E}[Y]$. Since the columns in $W$ are independent the covariance between  $W_{ik}$ and $W_{kj}$ is $0$, unless $k=j$ in which case $cov(W_{ij}, W_{jj}) = \\Sigma_w^{(i,j)}$. This results in: \n",
      "\n",
      "\\begin{equation}\n",
      "\\mathbb{E}_Q \\left[W^\\top W \\right] = w_w^\\top m_w + \\Sigma_w\n",
      "\\end{equation}\n",
      "\n",
      "Furthermore we use rule 355 from The Matrix Cookbook from which we know that if $x \\sim \\mathcal{N}(x |\\mu, \\Sigma)$, then:\n",
      "\n",
      "\\begin{equation}\n",
      "\\mathbb{E} \\left[ x^\\top x \\right] = \\mu^\\top \\mu + Tr(\\Sigma)\n",
      "\\end{equation}"
     ]
    },
    {
     "cell_type": "markdown",
     "metadata": {},
     "source": [
      "Combining all steps above results in:\n",
      "\n",
      "\\begin{equation}\n",
      "\\mathbb{E}_Q \\left[ \\ln \\left( \\prod_{n=1}^{N} P (t_n | x_n, W, \\mu, \\tau) \\right) \\right] = \\frac{ND}{2} \\left( \\psi ( \\widetilde{a}_\\tau ) - \\ln \\widetilde{b}_\\tau \\right) -\\frac{ N\\widetilde{a}_\\tau }{ 2 \\widetilde{b}_\\tau} \\sum_{n=1}^N \\left(  \\parallel t_n-m_\\mu \\parallel^2 - (t_n^\\top - m_\\mu^\\top)m_wm_x^{(n)} - m_x^{(n)\\top}m_w^\\top(t_n-m_\\mu) + Tr \\left( \\Sigma_x \\right) + m_x^{(n) \\top} \\left(\\Sigma_w + w_w^\\top m_w \\right) m_x^{(n)} \\right) + \\text{const}\n",
      "\\end{equation}"
     ]
    },
    {
     "cell_type": "heading",
     "level": 4,
     "metadata": {},
     "source": [
      "1.4.2.2"
     ]
    },
    {
     "cell_type": "markdown",
     "metadata": {},
     "source": [
      "\\begin{align}\n",
      " \\mathbb{E}_Q \\left[ \\ln  P(X) \\right] = & \\mathbb{E}_Q \\left[ \\ln \\left( \\prod_{n=1}^{N} \\mathcal{N}(x_n|0, I_q) \\right) \\right]   \\\\\n",
      "= & \\int Q(\\Theta) \\sum_{n=1}^N \\ln \\left( \\mathcal{N}(x_n | 0, I_q \\right) d \\Theta\\\\\n",
      "= & \\sum_{n=1}^N \\int Q(x_n) \\ln \\left( \\mathcal{N} (x_n | 0, I_q \\right) d x_n \\\\\n",
      "= & \\sum_{n=1}^N \\int Q(x_n)\\left[ - \\dfrac{1}{2} (x_n - 0)^{T} I_q^{-1} (x_n - 0) - \\dfrac{q}{2} \\ln ( 2 \\pi)\n",
      "            - \\dfrac{1}{2} \\ln (\\text{det}(I_q)) \\right] d x_n \\\\\n",
      "= & -\\dfrac{1}{2} \\sum_{n=1}^N \\int Q(x_n) x_n^{T}x_n d x_n - \\dfrac{q}{2} \\ln (2 \\pi) \\sum_{n=1}^N \\int Q(x_n) d x_n -\n",
      "                    \\dfrac{1}{2} \\ln (\\text{det} (I_q)) \\sum_{n=1}^N \\int Q(x_n ) d x_n \\\\\n",
      "= & - \\dfrac{1}{2} \\sum_{n=1}^{N} \\int Q(x_n) x_n^{T}x_n d x_n + \\text{const} \\\\\n",
      "= & \n",
      "     -\\dfrac{1}{2} \\left( N \\cdot \\text{Tr}(\\Sigma_x) + \\sum_{n=1}^N {m_x^{(n)}}^{T}  {m_x^{(n)}} \\right) + \\text{const}\\\\\n",
      "     = & -\\dfrac{N}{2} \\text{Tr}(\\Sigma_x) -\\dfrac{1}{2}  \\sum_{n=1}^N {m_x^{(n)}}^{T}  {m_x^{(n)}} + \\text{const}\n",
      "\\end{align}\n",
      "\n",
      "Where we have used rule 355 from the Matrix Cookbook again."
     ]
    },
    {
     "cell_type": "heading",
     "level": 4,
     "metadata": {},
     "source": [
      "1.4.2.3"
     ]
    },
    {
     "cell_type": "markdown",
     "metadata": {},
     "source": [
      "\\begin{align}\n",
      "\\mathbb{E}_Q [\\ln P(W|\\alpha)] = & \\mathbb{E}_Q \\left[ \\ln \\left( \\prod_{i=1}^{q} (\\dfrac{\\alpha_i}{2 \\pi})^{d/2}  \\exp( - \\dfrac{1}{2} \\alpha_i ||w_i||^2 ) \\right) \\right]\\\\\n",
      "=& \\sum_{i=1}^q -\\dfrac{d}{2} \\ln( 2 \\pi) \\int Q(\\alpha_i) \\left[ \\int Q(w_i) \\left( \\ln (\\alpha_i) - \\dfrac{1}{2} \\alpha_i w_i^{T}w_i \\right)  d w_i \\right] d \\alpha_i \\\\\n",
      "=&  \\sum_{i=1}^q -\\dfrac{d}{2} \\ln( 2 \\pi) - \\dfrac{1}{2} \\int Q(\\alpha_i) \\left( \\ln(\\alpha_i) - \\alpha_i \\left[ \\int Q(w_i) w_i^{T} w_i  d w_i\\right] \\right)  d \\alpha_i \\\\\n",
      "\\end{align}\n",
      "\n",
      "Again we can use rule 355 from the Matrix Cookbook.\n",
      "\n",
      "\\begin{align}\n",
      "\\mathbb{E}_Q [\\ln P(W|\\alpha)] =& \\sum_{i=1}^q -\\dfrac{d}{2} \\ln( 2 \\pi) (- \n",
      "    \\dfrac{1}{2}) \\int Q(\\alpha_i) \n",
      "        \\left( \\ln(\\alpha_i) - \\alpha_i( \\text{Tr}(\\alpha_i I) \\right) d \\alpha_i \\\\\n",
      "= & \\sum_{i=1}^q -\\dfrac{d}{2} \\ln( 2 \\pi) (- \n",
      "    \\dfrac{1}{2}) \\int Q(\\alpha_i)      \n",
      "        \\left( \\ln(\\alpha_i) - d \\alpha_i^{2} \\right)\n",
      "        d \\alpha_i \\\\\n",
      "= & \\sum_{i=1}^q -\\dfrac{d}{2} \\ln( 2 \\pi)( - \n",
      "    \\dfrac{1}{2})\n",
      "    \\left( \n",
      "        \\int Q(\\alpha_i)  \\ln(\\alpha_i) d \\alpha_i\n",
      "        -\n",
      "        d \\int Q(\\alpha_i) \\alpha_i^2 d \\alpha_i\n",
      "        \\right)        \\\\\n",
      "\\end{align}\n",
      "\n",
      "We again use the fact that $\\mathbb{E}_P[\\ln x ] = \\psi(a) - \\ln(b)$ if $P(x) = \\Gamma(x|a,b)$.\n",
      "\n",
      "and we can make use of the fact that $\\mathbb{E}_P[x^2] = \\dfrac{(a+1)a}{b^2}$ if $P(x) = \\Gamma(x|a,b)$:\n",
      "\n",
      "\\begin{align}\n",
      "\\mathbb{E}_Q [\\ln P(W|\\alpha)] = &  \\sum_{i=1}^q -\\dfrac{d}{2} \\ln( 2 \\pi) (- \n",
      "    \\dfrac{1}{2})\n",
      "        \\left(\n",
      "            (\\psi(\\widetilde{a}_\\alpha) - \\ln( \\widetilde{b}_{\\alpha i} ) )\n",
      "            - d \\dfrac{ ( \\widetilde{a}_\\alpha + 1 ) \\widetilde{a}_\\alpha}\n",
      "                        { \\widetilde{b}_{\\alpha i}^{2} }\n",
      "         \\right)\\\\\n",
      "= &  \\dfrac{d}{4} \\ln( 2 \\pi) \\sum_{i=1}^q \n",
      "            \\left( \n",
      "              (  \\psi(\\widetilde{a}_\\alpha) - \\ln ( \\widetilde{b}_{\\alpha i}) )-\n",
      "                    \\dfrac{d ( \\widetilde{a}_{\\alpha} + 1 ) \\widetilde{a}_\\alpha }\n",
      "                            { \\widetilde{b}^{2}_{\\alpha i} }\n",
      "              \\right)            \\\\\n",
      "= & \\dfrac{d}{4} \\ln(2 \\pi) \\left( q \\cdot \\psi(\\widetilde{a}_\\alpha) - \\sum_{i=1}^q \\ln (\\widetilde{b}_{\\alpha i}) \n",
      "                               - \\sum_{i=1}^{q} \\left( \\dfrac{d (\\widetilde{a}_\\alpha^2 + \\widetilde{a}_\\alpha) } {\\widetilde{b}_{\\alpha i}^2 } \\right) \\right)               \n",
      "\\end{align}"
     ]
    },
    {
     "cell_type": "heading",
     "level": 4,
     "metadata": {},
     "source": [
      "1.4.2.4"
     ]
    },
    {
     "cell_type": "markdown",
     "metadata": {},
     "source": [
      "\\begin{align}\n",
      "\\mathbb{E}_Q \\left[ \\ln P(\\alpha) \\right] =& \\mathbb{E}_Q \\left[ \\ln \\left( \\prod_{i=1}^{q} \\Gamma ( \\alpha_i| a_{\\alpha}, b_{\\alpha}) \\right) \\right]\\\\\n",
      "= & \\int Q(\\alpha) \\sum_{i=1}^q \\ln( \\Gamma(\\alpha_i|a_\\alpha, b_\\alpha)) d \\alpha \\\\\n",
      "=& \\sum_{i=1}^q  \\int Q(\\alpha_i) \\ln (\\Gamma (\\alpha_i| a_\\alpha , b_\\alpha)) d\\alpha_i \\\\\n",
      "= & \\sum_{i=1}^q \\int Q(\\alpha_i) \\ln \\left( \\dfrac{1}{\\Gamma(a_\\alpha)} \\right) d \\alpha_i +\n",
      "   \\sum_{i=1}^q \\int Q(\\alpha_i) \\ln (b_{\\alpha}^{a_\\alpha} )d \\alpha_i  + \\\\\n",
      "    & \\sum_{i=1}^q \\int Q(\\alpha_i)  \\ln \\left( \\alpha_{i}^{a_\\alpha - 1} \\right) d \\alpha_i + \n",
      "    \\sum_{i=1}^q \\int Q(\\alpha_i) (- b_\\alpha \\alpha_i ) d \\alpha_i \\\\\n",
      "= & \\text{const} +  \n",
      "         (a_\\alpha - 1) \\sum_{i=1}^q   \\int Q(\\alpha_i)  \\ln \\left( \\alpha_{i} \\right) d \\alpha_i - \n",
      "         b_\\alpha \\sum_{i=1}^q \\int Q(\\alpha_i)  \\alpha_i  d \\alpha_i \\\\\n",
      "\\end{align}\n",
      "\n",
      "We make use of the fact that $\\mathbb{E}_P[\\ln x ] = \\psi(a) - \\ln(b)$ if $P(x) = \\Gamma(x|a,b)$, where $\\psi(\\cdot)$ is the digamma function;  \n",
      "and \n",
      "of the fact that $\\mathbb{E}_P[x] = \\dfrac{a}{b}$ if $P(x) = \\Gamma(x|a,b)$.\n",
      "Then:\n",
      "\n",
      "\\begin{align}\n",
      "\\mathbb{E}_Q \\left[ \\ln P(\\alpha) \\right] =& \n",
      "     \\cdot  (a_\\alpha - 1) \\cdot  \\sum_{i=1}^q   \\left(\\psi(\\widetilde{a}_\\alpha) - \\ln(\\widetilde{b}_{\\alpha, i})\\right)\n",
      "     -\n",
      "      b_\\alpha \\sum_{i=1}^q  \\left( \\dfrac{\\widetilde{a}_\\alpha}{\\widetilde{b}_{\\alpha, i}} \\right)\n",
      "     + \\text{const} \\\\\n",
      "     = &    (a_\\alpha - 1) \\left(  q \\cdot  \\psi(\\widetilde{a}_\\alpha) - \\sum_{i=1}^q  \\left( \\ln(\\widetilde{b}_{\\alpha, i})\\right) \\right)\n",
      "     -\n",
      "      b_\\alpha \\sum_{i=1}^q  \\left( \\dfrac{\\widetilde{a}_\\alpha}{\\widetilde{b}_{\\alpha, i}} \\right)\n",
      "     + \\text{const} \n",
      "\\end{align}"
     ]
    },
    {
     "cell_type": "heading",
     "level": 4,
     "metadata": {},
     "source": [
      "1.4.2.5"
     ]
    },
    {
     "cell_type": "markdown",
     "metadata": {},
     "source": [
      "\\begin{align}\n",
      "\\mathbb{E}_Q \\left[ \\ln P(\\mu) \\right] = & \\mathbb{E}_Q \\left[ \\ln \\left( \\mathcal{N}(\\mu|0, \\beta^{-1} I) \\right) \\right]\\\\\n",
      "= & \\mathbb{E}_Q \\left[ - \\dfrac{d}{2}  \\ln ( 2 \\pi)  - \\dfrac{1}{2} \\mu^{T} \\beta \\mu  - \\dfrac{1}{2} \\ln(\\text{det}(\\beta^{-1} I) \\right]\\\\\n",
      "= & -  \\int Q(\\Theta)  \\dfrac{d}{2} \\ln \\left( {2\\pi} \\right) + \\left( \\dfrac{\\beta}{2} \\mu^{T}\\mu \\right)   + \\dfrac{1}{2} \\ln(\\text{det}(\\beta^{-1} I) d \\Theta \\\\\n",
      "= & - \\int Q(\\mu)  \\dfrac{d}{2} \\ln \\left( {2\\pi} \\right) + \\left( \\dfrac{\\beta}{2} \\mu^{T}\\mu \\right)   + \\dfrac{1}{2} \\ln(\\text{det}(\\beta^{-1} I) d \\mu \\\\\n",
      "= & - \\dfrac{d}{2} \\ln \\left( {2\\pi} \\right)  \\int Q(\\mu)  d \\mu - \n",
      "        \\dfrac{1}{2} \\ln(\\text{det}(\\beta^{-1} I) \\int Q(\\mu) d \\mu\n",
      "        - \\int Q(\\mu) \\left( \\dfrac{\\beta}{2} \\mu^{T}\\mu \\right) d \\mu\\\\\n",
      "= &  - \\text{const} - \\dfrac{\\beta}{2} \\int Q(\\mu) \\mu^{T}\\mu d \\mu \\\\\n",
      "= & - \\dfrac{\\beta}{2} \\int Q(\\mu) \\mu^{T}\\mu d \\mu + \\text{const} \\\\\n",
      "\\end{align}\n",
      "\n",
      "Again we make use of rule 355 of the Matrix Cookbook which states that $ \\mathbb{E}_P[x^{T}Ax] = \\text{Tr}(A \\Sigma) + m^{T} A m $ where $m$ and $\\Sigma$ are the mean and covariance of $P$, so\n",
      "\n",
      "\\begin{align}\n",
      "\\mathbb{E}_Q \\left[ \\ln P(\\mu) \\right] = & - \\dfrac{\\beta}{2} \\left( \\text{Tr}(\\Sigma_\\mu) + m_\\mu^{T} m_\\mu \\right) +  \\text{const} \\\\\n",
      "\\end{align}\n",
      "\n",
      "Because $\\mu$ is $d$-dimensional and $\\Sigma_\\mu$ is defined as $(\\beta + N\\langle \\tau \\rangle)^{-1} I$\n",
      "\n",
      "\\begin{align}\n",
      "\\mathbb{E}_Q \\left[ \\ln P(\\mu) \\right] = &- \\dfrac{\\beta}{2} \\left( \\dfrac{d}{\\beta + N \\langle \\tau \\rangle } + m_\\mu^{T} m_\\mu \\right) +  \\text{const}\\\\\n",
      "\\end{align}\n",
      "\n",
      "Because $Q(\\tau) = \\Gamma (\\tau | \\widetilde{a}_\\tau, \\widetilde{b}_\\tau)$we end up with\n",
      "\n",
      "\\begin{align}\n",
      "\\mathbb{E}_Q \\left[ \\ln P(\\mu) \\right] = &\n",
      "    - \\dfrac{\\beta}{2} \n",
      "    \\left( \\dfrac{d}{\\beta + N ({ \\widetilde{a}_\\tau } / { \\widetilde{b}_\\tau} ) }\n",
      "+ m_\\mu^{T} m_\\mu  \\right) +  \\text{const}\\\\\n",
      "\\end{align}"
     ]
    },
    {
     "cell_type": "heading",
     "level": 4,
     "metadata": {},
     "source": [
      "1.4.2.6"
     ]
    },
    {
     "cell_type": "markdown",
     "metadata": {},
     "source": [
      "\\begin{align}\n",
      "\\mathbb{E}_Q \\left[ \\ln P(\\tau) \\right] = & \\mathbb{E}_Q \\left[ \\ln \\left( \\Gamma(\\tau|c_\\tau, d_\\tau ) \\right) \\right] \\\\\n",
      "= & \\mathbb{E}\\left[ \\ln \\left( \\dfrac{1}{\\Gamma (c_\\tau)} d_\\tau^{c_\\tau} \\tau^{c_\\tau -1} e^{-c_\\tau \\cdot \\tau} \\right) \\right]\\\\\n",
      "= & \\int Q(\\Theta) \\left( - \\ln(\\Gamma (c_\\tau)) + c_\\tau \\ln(d_\\tau) + (c_\\tau - 1) \\ln (\\tau) - d_\\tau \\cdot \\tau \\right) \\hspace{3mm} d \\Theta \\\\\n",
      "= & - \\int Q(\\tau) \\ln(\\Gamma (c_\\tau)) \\hspace{3mm} d \\tau \n",
      "    + \\int Q(\\tau) c_\\tau \\ln(d_\\tau)  \\hspace{3mm} d \\tau  \n",
      "    + \\int Q(\\tau) (c_\\tau - 1) \\ln (\\tau) \\hspace{3mm} d \\tau  \n",
      "    - \\int Q(\\tau) d_\\tau \\cdot \\tau \\hspace{3mm} d \\tau    \\\\\n",
      "= &   (c_\\tau - 1) \\int Q(\\tau)  \\ln (\\tau) \\hspace{3mm} d \\tau  \n",
      "    -   d_\\tau \\int Q(\\tau)  \\tau \\hspace{3mm} d \\tau   \n",
      "     + \\text{const} \\\\   \n",
      "\\end{align}\n",
      "\n",
      "Again make use of the fact that $\\mathbb{E}_P[\\ln x ] = \\psi(a) - \\ln(b)$ if $P(x) = \\Gamma(x|a,b)$, where $\\psi(\\cdot)$ is the digamma function;  \n",
      "and \n",
      "of the fact that $\\mathbb{E}_P[x] = \\dfrac{a}{b}$ if $P(x) = \\Gamma(x|a,b)$.\n",
      "Then:\n",
      "\n",
      "\\begin{align}\n",
      "\\mathbb{E}_Q \\left[ \\ln P(\\tau) \\right] \n",
      "= &   (c_\\tau - 1) \\left( \\psi(\\widetilde{a}_\\tau) - \\ln(\\widetilde{b}_\\tau )\\right)\n",
      "    -   d_\\tau  \\dfrac{\\widetilde{a}_\\tau }{\\widetilde{b}_\\tau}  \n",
      "     + \\text{const} \\\\   \n",
      "\\end{align}"
     ]
    },
    {
     "cell_type": "heading",
     "level": 4,
     "metadata": {},
     "source": [
      "1.4.2.7"
     ]
    },
    {
     "cell_type": "markdown",
     "metadata": {},
     "source": [
      "\\begin{align}\n",
      "\\mathbb{E}_Q \\left[ \\ln Q(X) \\right] = &  \\mathbb{E}_Q \\left[ \\ln \\left( \\prod_{n=1}^{N} \\mathcal{N}(x_n| m_x^{(n)}, \\Sigma_x) \\right) \\right] \\\\\n",
      "= & \\sum_{n=1}^N \\mathbb{E}_Q \\left[ \n",
      "                                    \\ln \\left( \\dfrac{1}{(2 \\pi)^{(q/2)}} \\dfrac{1}{\\text{det}(\\Sigma_x)^{(1/2)}} \\right)\n",
      "                                  + \\left( -\\dfrac{1}{2} (x_n - m_x^{(n)} )^{T}\\Sigma_x^{-1} (x_n - m_x^{(n)}) \\right) \n",
      "                                  \\right] \\\\\n",
      "= & N \\cdot  \\ln \\left( \\dfrac{1}{(2 \\pi)^{(q/2)}} \\right)\n",
      "        +  N \\cdot \\left( \\dfrac{1}{\\text{det}(\\Sigma_x)^{(1/2)}} \\right)\n",
      "        - \\sum_{n=1}^N \\dfrac{1}{2} \\int Q(x_n)  (x_n - m_x^{(n)} )^{T}\\Sigma_x^{-1} (x_n - m_x^{(n)}) \\hspace{3mm} d x_n\\\\\n",
      "= &  - \\sum_{n=1}^N \\dfrac{1}{2} \\int Q(x_n)  (x_n - m_x^{(n)} )^{T}\\Sigma_x^{-1} (x_n - m_x^{(n)}) \\hspace{3mm} d x_n + \\text{const}\n",
      "\\end{align}\n",
      "\n",
      "We recognize $(x_n - m_x^{(n)} )^{T}\\Sigma_x^{-1} (x_n - m_x^{(n)}) $ as the square of the Mahalanobis distance $\\vartriangle$.\n",
      "\n",
      "As stated  for example <a href=\"http://stat.ethz.ch/education/semesters/ss2012/ams/slides/v7.2.pdf\"> here</a> , the expectation of the squared Mahalanobis distance pertaining to $x$ and $m$ under a multivariate Gaussian  $\\mathcal{N}(x|m, \\Sigma)$  corresponds to a Chi-square distribution $\\chi^2_{n}$ with the dimensionality of the space of the distribution as the degrees of freedom $n$. This $\\chi^2_n$ distribution has as expected value also $n$. \n",
      "\n",
      "So: $\\mathbb{E}_P[\\vartriangle^2] =  \\text{dimensionality}(x \\sim P(x))$\n",
      "\n",
      "\n",
      "This can also be derived by using rule 357 from the Matrix Cookbook which states that $\\mathbb{E}_P[(x - m')^{T} A (x-m')] = (m-m')^{T} A (m-m') + \\text{Tr}(A \\Sigma)$, if $P(x) = \\mathcal{N}(x | m, \\Sigma)$. We would get $\\text{Tr}(I_q)$.\n",
      "\n",
      "Therefore we end up with\n",
      "\n",
      "\\begin{align}\n",
      "\\mathbb{E}_Q \\left[ \\ln Q(X) \\right] = & -  \\dfrac{N}{2} q + \\text{const}\\\\\n",
      "= & \\text{const}\n",
      "\\end{align}"
     ]
    },
    {
     "cell_type": "heading",
     "level": 4,
     "metadata": {},
     "source": [
      "1.4.2.8"
     ]
    },
    {
     "cell_type": "markdown",
     "metadata": {},
     "source": [
      "\\begin{align}\n",
      "\\mathbb{E}_Q\\left[\\ln Q(W) \\right] = & \\mathbb{E}_Q \\left[ \\ln \\left( \\prod_{k=1}^{d}  \\mathcal{N}(\\widetilde{w}_k | m_w^{(k)}, \\Sigma_w) \\right) \\right]\\\\\n",
      "= &  - \\sum_{k=1}^d \\dfrac{1}{2} \\int Q(\\widetilde{w}_k)  (\\widetilde{w}_k - m_w^{(k)} )^{T}\\Sigma_w^{-1} (\\widetilde{w}_k - m_w^{(k)}) \\hspace{3mm} d \\widetilde{w}_k + \\text{const} \\\\\n",
      "= & - \\dfrac{d}{2} q + \\text{const}\\\\\n",
      "= & \\text{const}\n",
      "\\end{align}\n",
      "\n",
      "Where we have followed the same reasoning as for $\\mathbb{E}_Q[\\ln Q(X)]$ above."
     ]
    },
    {
     "cell_type": "heading",
     "level": 4,
     "metadata": {},
     "source": [
      "1.4.2.9"
     ]
    },
    {
     "cell_type": "markdown",
     "metadata": {},
     "source": [
      "\\begin{align}\n",
      " \\mathbb{E}_Q\\left[ \\ln Q(\\alpha) \\right] =&  \\mathbb{E}_Q \\left[ \\ln \\left( \\prod_{i=1}^{q} \\Gamma(\\alpha_i| \\widetilde{a}_\\alpha, \\widetilde{b}_{\\alpha i} ) \\right) \\right] \\\\\n",
      " =& \\sum_{i=1}^q \\int Q(\\alpha_i) \\ln \\left( \n",
      "     \\dfrac{1}{\\Gamma(\\widetilde{a}_\\alpha)} \\cdot\n",
      "     \\widetilde{b}^{\\widetilde{a}_\\alpha}_{\\alpha i} \\cdot\n",
      "     \\alpha_i^{(\\widetilde{a}_\\alpha - 1) } \\cdot\n",
      "     e^{- \\widetilde{b}_{\\alpha i} \\alpha_i} \n",
      "     \\right) \\hspace{3mm} d \\alpha_i \\\\\n",
      "=& \\sum_{i=1}^q \\int Q(\\alpha_i)  \\dfrac{1}{\\Gamma(\\widetilde{a}_\\alpha)} \\hspace{3mm} d \\alpha_i +\n",
      "   \\sum_{i=1}^q \\int Q(\\alpha_i) \\ln \\left(   \\widetilde{b}^{\\widetilde{a}_\\alpha}_{\\alpha i} \\right) \\hspace{3mm} d \\alpha_i  +\n",
      "   \\sum_{i=1}^q \\int Q(\\alpha_i) \\ln \\left(   \\alpha_i^{(\\widetilde{a}_\\alpha - 1) }   \\right) \\hspace{3mm} d \\alpha_i  -\n",
      "    \\sum_{i=1}^q \\int Q(\\alpha_i) \\widetilde{b}_{\\alpha i} \\alpha_i \\hspace{3mm} d \\alpha_i \\\\\n",
      "=& (\\widetilde{a}_\\alpha - 1)  \\sum_{i=1}^q \\int Q(\\alpha_i) \\ln   \\alpha_i    \\hspace{3mm} d \\alpha_i -\n",
      "    \\sum_{i=1}^q \\widetilde{b}_{\\alpha i}  \\int Q(\\alpha_i) \\alpha_i \\hspace{3mm} d \\alpha_i \n",
      "    + \\text{const}\n",
      "\\end{align}\n",
      "\n",
      "Again we make use of the fact that $\\mathbb{E}_P[\\ln x ] = \\psi(a) - \\ln(b)$ if $P(x) = \\Gamma(x|a,b)$, where $\\psi(\\cdot)$ is the digamma function;  \n",
      "and \n",
      "of the fact that $\\mathbb{E}_P[x] = \\dfrac{a}{b}$ if $P(x) = \\Gamma(x|a,b)$.\n",
      "Then:\n",
      "\n",
      "\\begin{align}\n",
      " \\mathbb{E}_Q\\left[ \\ln Q(\\alpha) \\right] \n",
      "=&    (\\widetilde{a}_\\alpha - 1)  \\sum_{i=1}^q \\left( \\psi(\\widetilde{a}_\\alpha) - \\ln(\\widetilde{b}_{\\alpha i}) \\right) -\n",
      "      \\sum_{i=1}^q  \\widetilde{b}_{\\alpha i} \\left( \\dfrac{\\widetilde{a}_\\alpha}{\\widetilde{b}_{\\alpha i}} \\right)\n",
      "      + \\text{const} \\\\\n",
      "=&    (\\widetilde{a}_\\alpha - 1)   \\left( q  \\cdot \\psi(\\widetilde{a}_\\alpha) - \\left(  \\sum_{i=1}^q \\ln(\\widetilde{b}_{\\alpha i}) \\right) \\right)  -\n",
      "        q \\cdot \\widetilde{a}_\\alpha\n",
      "         + \\text{const} \\\\\n",
      "\\end{align}"
     ]
    },
    {
     "cell_type": "heading",
     "level": 4,
     "metadata": {},
     "source": [
      "1.4.2.10"
     ]
    },
    {
     "cell_type": "markdown",
     "metadata": {},
     "source": [
      "\\begin{align}\n",
      "\\mathbb{E}_q [ \\ln Q(\\mu)] = & \\mathbb{E}_Q \\left[ \\ln \\left( \\mathcal{N}(\\mu | m_\\mu, \\Sigma_\\mu) \\right) \\right] \\\\\n",
      "=& \\int Q(\\mu) \\left[ \\left( -\\dfrac{1}{2} (\\mu - m_\\mu)^{T} \\Sigma_\\mu (\\mu - m_\\mu) \\right) -\n",
      "                    \\left( \\dfrac{d}{2} \\ln (2 \\pi) \\right) -\n",
      "                    \\left( \\dfrac{1}{2} \\ln (\\text{det}(\\Sigma_\\mu)) \\right)\n",
      "                \\right] d \\mu\\\\\n",
      "=& - \\dfrac{1}{2} \\int Q(\\mu) (\\mu - m_\\mu)^{T} \\Sigma_\\mu (\\mu - m_\\mu) d \\mu + \\text{const} \\\\\n",
      "=& - \\dfrac{d}{2} + \\text{const} \\\\\n",
      "=& \\text{const}\n",
      "\\end{align}\n",
      "\n",
      "Where we have followed the same reasoning as for $\\mathbb{E}_Q[\\ln Q(X)]$ above."
     ]
    },
    {
     "cell_type": "heading",
     "level": 4,
     "metadata": {},
     "source": [
      "1.4.2.11"
     ]
    },
    {
     "cell_type": "markdown",
     "metadata": {},
     "source": [
      "\\begin{align}\n",
      "\\mathbb{E}_Q[\\ln Q(\\tau)] = & \\mathbb{E}_Q \\left[ \\ln \\left( \\Gamma(\\tau | \\widetilde{a}_\\tau, \\widetilde{b}_\\tau ) \\right) \\right]\\\\\n",
      "= & \\left(\\psi(\\widetilde{a}_\\tau) - \\ln( \\widetilde{b}_\\tau) \\right) - \\widetilde{b}_\\tau \\left( \\dfrac{ \\widetilde{a}_\\tau}{\\widetilde{b}_\\tau} \\right) + \\text{const}\\\\\n",
      "= & \\left(\\psi(\\widetilde{a}_\\tau) - \\ln( \\widetilde{b}_\\tau) \\right) - \\widetilde{a}_\\tau + \\text{const}\n",
      "\\end{align}\n",
      "\n",
      "Where we have followed the same reasoning as for e.g.  $\\mathbb{E}_Q \\left[ \\ln P(\\tau) \\right] $ above."
     ]
    },
    {
     "cell_type": "heading",
     "level": 4,
     "metadata": {},
     "source": [
      "**1.4.3 Putting it together**"
     ]
    },
    {
     "cell_type": "markdown",
     "metadata": {},
     "source": [
      "The whole lower bound $\\mathcal{L}(Q)$ can now be expressed as:\n",
      "\n",
      "\\begin{align}\n",
      "\\mathcal{L}(Q) =& \\frac{ND}{2} \\left( \\psi ( \\widetilde{a}_\\tau ) - \\ln \\widetilde{b}_\\tau \\right) -\\frac{ N\\widetilde{a}_\\tau }{ 2 \\widetilde{b}_\\tau} \\sum_{n=1}^N \\left(  \\parallel t_n-m_\\mu \\parallel^2 - (t_n^\\top - m_\\mu^\\top)m_wm_x^{(n)} - m_x^{(n)\\top}m_w^\\top(t_n-m_\\mu) + Tr \\left( \\Sigma_x \\right) + m_x^{(n) \\top} \\left(\\Sigma_w + w_w^\\top m_w \\right) m_x^{(n)} \\right) \\\\ \n",
      "               & -\\dfrac{N}{2} \\text{Tr}(\\Sigma_x) -\\dfrac{1}{2}  \\sum_{n=1}^N {m_x^{(n)}}^{T}  {m_x^{(n)}} \\\\\n",
      "               & + \\dfrac{d}{4} \\ln(2 \\pi) \\left( q \\cdot \\psi(\\widetilde{a}_\\alpha) - \\sum_{i=1}^q \\ln (\\widetilde{b}_{\\alpha i}) \n",
      "                               - \\sum_{i=1}^{q} \\left( \\dfrac{d (\\widetilde{a}_\\alpha^2 + \\widetilde{a}_\\alpha) } {\\widetilde{b}_{\\alpha i}^2 } \\right) \\right) \\\\\n",
      "              & +    (a_\\alpha - 1) \\left(  q \\cdot  \\psi(\\widetilde{a}_\\alpha) - \\sum_{i=1}^q  \\left( \\ln(\\widetilde{b}_{\\alpha, i})\\right) \\right)\n",
      "                    - b_\\alpha \\sum_{i=1}^q  \\left( \\dfrac{\\widetilde{a}_\\alpha}{\\widetilde{b}_{\\alpha, i}} \\right) \\\\\n",
      "              & - \\dfrac{\\beta}{2}     \\left( \\dfrac{d}{\\beta + N ({ \\widetilde{a}_\\tau } / { \\widetilde{b}_\\tau} ) } + m_\\mu^{T} m_\\mu  \\right)\\\\\n",
      "              & + (c_\\tau - 1) \\left( \\psi(\\widetilde{a}_\\tau) - \\ln(\\widetilde{b}_\\tau )\\right)     -   d_\\tau  \\dfrac{\\widetilde{a}_\\tau }{\\widetilde{b}_\\tau} \\\\\n",
      "              & - (\\widetilde{a}_\\alpha - 1)   \\left( q  \\cdot \\psi(\\widetilde{a}_\\alpha) - \\left(  \\sum_{i=1}^q \\ln(\\widetilde{b}_{\\alpha i}) \\right) \\right)  +\n",
      "        q \\cdot \\widetilde{a}_\\alpha \\\\\n",
      "              & - \\left(\\psi(\\widetilde{a}_\\tau) - \\ln( \\widetilde{b}_\\tau) \\right) + \\widetilde{a}_\\tau\\\\              \n",
      "              & + \\text{const}\n",
      "\\end{align}\n"
     ]
    },
    {
     "cell_type": "heading",
     "level": 2,
     "metadata": {},
     "source": [
      "2. Implementation "
     ]
    },
    {
     "cell_type": "markdown",
     "metadata": {},
     "source": [
      "In the following cell is defined the general `BayesianPCA` class with methods whose implementation is described in more detail below."
     ]
    },
    {
     "cell_type": "code",
     "collapsed": false,
     "input": [
      "%pylab inline\n",
      "import scipy.special as sp\n",
      "\n",
      "class BayesianPCA(object):\n",
      "    \n",
      "    def __init__(self, d, N, a_alpha=10e-3, b_alpha=10e-3, a_tau=10e-3, b_tau=10e-3, beta=10e-3):\n",
      "        \n",
      "        self.d = d # number of dimensions\n",
      "        self.N = N # number of data points\n",
      "        \n",
      "        # Hyperparameters\n",
      "        self.a_alpha = a_alpha\n",
      "        self.b_alpha = b_alpha\n",
      "        self.a_tau = a_tau\n",
      "        self.b_tau = b_tau\n",
      "        self.beta = beta\n",
      "\n",
      "        # Variational parameters\n",
      "        self.means_x = np.random.randn(d, N)\n",
      "        self.sigma_x = np.random.randn(d, d)\n",
      "        self.mean_mu = np.random.randn(d, 1)\n",
      "        self.sigma_mu = np.random.randn(d, d)\n",
      "        self.means_w = np.random.randn(d, d)\n",
      "        self.sigma_w = np.random.randn(d, d)\n",
      "        self.a_alpha_tilde = np.array([self.a_alpha + d/2.0])\n",
      "        self.bs_alpha_tilde = np.abs(np.random.randn(d, 1))\n",
      "        self.a_tau_tilde = np.array([self.a_tau + (N*d)/2.0])\n",
      "        self.b_tau_tilde = np.abs(np.random.randn(1)) \n",
      "    \n",
      "    # WtW = E[W.t W]. element WtW(i,j) = sum_d E[W_id * W_dj] = sum_d cov(W_id, W_dj) + E[W_id] * E[W_dj] \n",
      "    # covariance is zero unless the two elements are in the same column, which is only  \n",
      "    # the case during the summation if d = j so WtW(i,j) = sigma_w[i,j] + mean_w_i: * mean_w_:j\n",
      "    def get_exp_WtW(self):\n",
      "        return np.add( np.dot(self.means_w.T, self.means_w), self.sigma_w)\n",
      "        \n",
      "    \n",
      "    def update_x(self, D):\n",
      "        #update sigma of x\n",
      "        exp_tau = self.a_tau_tilde / float(self.b_tau_tilde)\n",
      "        exp_WtW = self.get_exp_WtW()\n",
      "        to_invert = numpy.identity(self.d)+(exp_tau * exp_WtW)\n",
      "        if np.linalg.det(to_invert)==0:\n",
      "            print 'determinant is 0:\\n', to_invert\n",
      "        self.sigma_x = numpy.linalg.inv(to_invert)\n",
      "                \n",
      "        # update mu of x\n",
      "        for n in range(self.N):\n",
      "            diff = np.array([D[:,n]]).T - self.mean_mu \n",
      "            product1 = np.dot(self.sigma_x, self.means_w.T)\n",
      "            product2 = np.dot(product1, diff)\n",
      "            self.means_x[:,n] = exp_tau * product2[:,0]            \n",
      "        \n",
      "    \n",
      "    def update_mu(self, D):\n",
      "        # Update sigma of mu        \n",
      "        exp_tau = self.a_tau_tilde / float(self.b_tau_tilde)\n",
      "        self.sigma_mu = (1/float(self.beta+ self.N *exp_tau)) * numpy.identity(self.d)\n",
      "                \n",
      "        \n",
      "        # Update means of mu         \n",
      "        product = np.dot(self.means_w, self.means_x)\n",
      "        dif = D - product\n",
      "        summed = np.array([np.sum(dif, 1)]).T\n",
      "        final_product = np.dot(self.sigma_mu, summed)\n",
      "        self.mean_mu = exp_tau *  final_product\n",
      "        \n",
      "            \n",
      "    def update_w(self, D):\n",
      "        # Update sigma of W\n",
      "        exp_tau = self.a_tau_tilde / float(self.b_tau_tilde)        \n",
      "        exp_alpha = map( lambda x : self.a_alpha_tilde/float(x), self.bs_alpha_tilde)\n",
      "        exp_alpha_diag = np.diag(exp_alpha)         \n",
      "        \n",
      "        sum_exp_xxt = np.zeros((self.d,self.d))\n",
      "        for i in range(self.N):\n",
      "            exp_x = np.array([self.means_x[:,i]]).T\n",
      "            exp_xxt = np.dot(exp_x, exp_x.T) + self.sigma_x\n",
      "            sum_exp_xxt = sum_exp_xxt +  exp_xxt\n",
      "                \n",
      "        self.sigma_w = numpy.linalg.inv(exp_alpha_diag +  (exp_tau * sum_exp_xxt))\n",
      "                \n",
      "        # Update mu of W\n",
      "        # w(k) is a row\n",
<<<<<<< HEAD
      "        for k in range(self.d):# for each row\n",
      "            summed = np.zeros((self.d,1))\n",
      "            for i in range(self.N):\n",
      "                exp_xn = self.means_x[:,i]\n",
      "                diff = D[k,i] - self.mean_mu[k]\n",
      "                product = exp_xn * diff                \n",
      "                summed = summed + array([product]).T\n",
      "                        \n",
      "            self.means_w[k,:] = np.dot(np.multiply(exp_tau, self.sigma_mu), summed)[:,0]        \n",
=======
>>>>>>> edc5829b29796f9ae7d29a44d2b4b0abd0b89407
      "        \n",
      "        for k in range(self.d):# for each column\n",
      "            repmat = np.tile(self.mean_mu, (1,self.N))\n",
      "            product = np.multiply(self.means_x, D-repmat)\n",
      "            summed_out = np.array([np.sum(product,1)]).T\n",
      "            self.means_w[k,:] = exp_tau * np.dot(self.sigma_w, summed_out)[:,0]\n",
      "              \n",
      "        \n",
      "    def update_alpha(self):\n",
      "        # a_alpha_tilde is a constant: a_alpha + d/2 so set it in the initialization and do not change anymore\n",
      "        \n",
      "        # b alpha tilde\n",
      "        for i in range(self.d):\n",
      "            wi = np.array([self.means_w[:,i]]).T\n",
      "            exp_wtw =  np.trace(self.sigma_w) + np.dot(wi.T, wi)\n",
      "                        \n",
      "            self.bs_alpha_tilde[i,0] = self.b_alpha + exp_wtw/2.0\n",
      "                \n",
      "        \n",
      "    def update_tau(self, D):\n",
      "        # a_tau is a constant so set in the initialization\n",
      "        \n",
      "        exp_WtW = self.get_exp_WtW()\n",
      "        exp_mutmu = np.trace(self.sigma_mu) + np.dot(self.mean_mu.T, self.mean_mu)        \n",
      "        summed = 0.0\n",
      "        \n",
      "        for i in range(self.N):\n",
      "            tn = np.array([D[:,i]]).T\n",
      "            exp_xn = np.array([self.means_x[:,i]]).T\n",
      "            exp_xxt = np.dot(exp_xn, exp_xn.T) + self.sigma_x\n",
      "            \n",
      "            summed += np.dot(tn.T, tn) + exp_mutmu                         \n",
      "            summed += np.trace(np.dot(exp_WtW, exp_xxt))\n",
      "            summed += 2.0 * np.dot(np.dot(self.mean_mu.T, self.means_w), exp_xn)\n",
      "            summed -= 2.0 * np.dot(np.dot(tn.T, self.means_w), exp_xn)\n",
      "            summed -= 2.0 * np.dot(tn.T, self.mean_mu)\n",
      "                \n",
      "        self.b_tau_tilde = self.b_tau + 0.5* summed\n",
      "\n",
      "    def L(self, D, debug=False):\n",
      "        \n",
      "        # p(t| W, alpha, tau, mu)\n",
      "        p_t = ((self.N*self.d)/2) * (sp.psi(self.a_tau_tilde) - np.log(self.b_tau_tilde))\n",
      "        summed = 0.0\n",
      "        for i in range(self.N):\n",
      "            tn = np.array([D[:,i]]).T\n",
      "            xn = np.array([self.means_x[:,i]]).T\n",
      "            dif = tn - self.mean_mu\n",
      "            summed += np.dot(dif.T, dif) - np.dot(np.dot( dif.T, self.means_w), xn)\n",
      "            summed += np.dot(np.dot(xn.T, self.means_w.T), dif) - np.trace(self.sigma_x)\n",
      "            summed += np.dot(np.dot(xn.T, self.sigma_w + np.dot(self.means_w.T, self.means_w)), xn)\n",
      "        p_t -= summed[0,0] * ((self.N*self.a_tau_tilde)/(2*self.b_tau_tilde))\n",
      "        \n",
      "        # p(X)\n",
      "        p_x = - (self.N / 2 ) * np.trace(self.sigma_x) \n",
      "        for i in range(self.N):\n",
      "            p_x += np.dot(self.means_x[:,i], self.means_x[:,i].T)\n",
      "        \n",
      "        \n",
      "        # p(W|\\alpha)\n",
      "        p_w_alpha = (self.d / float(4) ) * np.log(2 * np.pi)\n",
      "        p_w_alpha_temp = (self.d * (sp.psi(self.a_alpha_tilde[0] )) )  \n",
      "        p_w_alpha_temp -= sum( map ( lambda x:  np.log( x ), self.bs_alpha_tilde))               \n",
      "        p_w_alpha_temp -= sum (map ( lambda x:  ((self.d * (self.a_alpha_tilde[0]**2 + \\\n",
      "                                                            self.a_alpha_tilde[0] )) / (x**2)),\n",
      "                                    self.bs_alpha_tilde))         \n",
      "        p_w_alpha = p_w_alpha * p_w_alpha_temp        \n",
      "        \n",
      "            \n",
      "        # P(\\alpha)        \n",
      "        p_alpha = (self.a_alpha - 1) * (self.d * sp.psi(self.a_alpha_tilde[0]) -  np.sum(map(lambda x: np.log(x),  self.bs_alpha_tilde)))\n",
      "        p_alpha -= self.b_alpha * np.sum(map(lambda x: (self.a_alpha_tilde[0] / float( x)),  self.bs_alpha_tilde))\n",
      "              \n",
      "        # P(\\mu)\n",
      "        p_mu = - (self.beta / float(2)) *  ( \\\n",
      "                    ( self.d / float(self.beta + self.N*(self.a_alpha_tilde[0] / float(self.a_alpha_tilde[0])))) +\n",
      "                    (np.dot(self.mean_mu.T, self.mean_mu)[0][0]) )               \n",
      "        \n",
      "        # P(\\tau)\n",
      "        # Note: c_tau and d_tau correspond to a_tau_tilde, b_tau_tilde, respectively        \n",
      "        p_tau = (self.a_tau_tilde[0] - 1) * ( sp.psi(self.a_tau_tilde[0]) - np.log(self.b_tau_tilde[0]))\n",
      "        p_tau -= self.a_tau_tilde[0] # since d_tau is b_tau_tilde        \n",
      "        \n",
      "        #Q(\\alpha)\n",
      "        q_alpha = (self.a_alpha_tilde[0] - 1) * (self.d * sp.psi(self.a_alpha_tilde[0]) -  np.sum(map(lambda x: np.log(x),  self.bs_alpha_tilde)))\n",
      "        q_alpha -= self.d * self.a_alpha_tilde[0] \n",
      "        \n",
      "        #Q(\\tau)\n",
      "        q_tau = (sp.psi(self.a_tau_tilde[0]) - np.log(self.b_tau_tilde[0])) - self.a_tau_tilde[0]        \n",
      "        \n",
      "        L = p_x + p_w_alpha + p_alpha + p_mu + p_tau - q_alpha - q_tau\n",
      "        \n",
      "        if debug :\n",
      "            print \"P(X):\", p_x\n",
      "            print \"P(W|\\\\alpha):\", p_w_alpha\n",
      "            print \"P(\\\\alpha):\", p_alpha\n",
      "            print \"P(\\\\mu):\", p_mu\n",
      "            print \"P(\\\\tau):\", p_tau\n",
      "            print \"Q(\\\\alpha):\", q_alpha\n",
      "            print \"Q(\\\\tau):\", q_tau\n",
      "            \n",
      "        return L\n",
      "    \n",
      "    \n",
      "    def fit(self, D):\n",
      "        self.update_w(D)\n",
      "        self.update_tau(D)\n",
      "        self.update_mu(D)\n",
      "        self.update_alpha()            \n",
      "        self.update_x(D)  \n",
      "        \n",
      "    def getW(self):\n",
      "        return self.means_w"
     ],
     "language": "python",
     "metadata": {},
     "outputs": [
      {
       "output_type": "stream",
       "stream": "stdout",
       "text": [
        "Populating the interactive namespace from numpy and matplotlib\n"
       ]
      },
      {
       "output_type": "stream",
       "stream": "stderr",
       "text": [
        "WARNING: pylab import has clobbered these variables: ['f']\n",
        "`%pylab --no-import-all` prevents importing * from pylab and numpy\n"
       ]
      }
     ],
<<<<<<< HEAD
     "prompt_number": 298
=======
     "prompt_number": 1
>>>>>>> edc5829b29796f9ae7d29a44d2b4b0abd0b89407
    },
    {
     "cell_type": "heading",
     "level": 3,
     "metadata": {},
     "source": [
      "2.1 Implementation of lower bound"
     ]
    },
    {
     "cell_type": "markdown",
     "metadata": {},
     "source": [
      "The lower bound defined above  in section 1.4.3 is implemented in the function `BayesianPCA::L` .\n",
      "\n",
      "The constant in the final $\\mathcal{L}(Q)$ integral in Equation 1.4.3 (which basically consists of the constants from all expectations calculated in section 1.4.2) is omitted since it does not contribute to optimization convergence. The probability of the data $D$ was for the same reason already omitted in section 1.4.1. \n"
     ]
    },
    {
     "cell_type": "heading",
     "level": 3,
     "metadata": {},
     "source": [
      "2.2 Optimization of variational parameters \n"
     ]
    },
    {
     "cell_type": "markdown",
     "metadata": {},
     "source": [
      "We implemented the update equations for the Q-distributions, in the `BayesianPCA::__update_XXX` functions. \n",
      "\n",
      "Each update function  re-estimates the variational parameters of the Q-distribution corresponding to one group of variables (i.e. either $X$, $\\mu$, $W$, $\\alpha$ or $\\tau$)."
     ]
    },
    {
     "cell_type": "heading",
     "level": 3,
     "metadata": {},
     "source": [
      "2.3 Learning algorithm \n"
     ]
    },
    {
     "cell_type": "markdown",
     "metadata": {},
     "source": [
      "We implemented the learning algorithm (iteratively optimizing each of the Q-distributions holding the others fixed) below in the function `learnBPCA` , by using an implmenation of the method `BayesianPCA::fit`."
     ]
    },
    {
     "cell_type": "markdown",
     "metadata": {},
     "source": [
      "For convergence we  compare  the lower bound  (see section 2.1) change with a specific value $\\epsilon$ , and we can also set a maximum number of iterations as well."
     ]
    },
    {
     "cell_type": "code",
     "collapsed": false,
     "input": [
      "\n",
      "def learnBPCA(D, epsilon=0.01, maxIterations=sys.maxint, printInterval=100) :\n",
      "    \n",
      "    [d,N] = shape(D)\n",
      "    bPCA = BayesianPCA(d, N)\n",
      "    \n",
      "    prevL = 0\n",
      "    L = None\n",
      "    Ldelta = sys.maxint\n",
      "    \n",
      "    iteration = 0\n",
      "    while(abs(Ldelta) > epsilon and iteration < maxIterations):\n",
      "        \n",
      "        bPCA.fit(D)\n",
      "        \n",
      "        L = bPCA.L(D)\n",
      "        if iteration > 0:\n",
      "            Ldelta = L - prevL \n",
      "            if Ldelta < 0:\n",
      "                print (\"!Lower bound decreased!\")\n",
      "    \n",
      "        prevL = L\n",
      "        \n",
      "        if iteration % printInterval == 0:\n",
      "            print \"iteration %d\\t, Ldelta=%.4f\" % (iteration, Ldelta)\n",
      "            \n",
      "        iteration+= 1\n",
      "        \n",
      "       \n",
      "    return bPCA.getW()"
     ],
     "language": "python",
     "metadata": {},
     "outputs": [],
     "prompt_number": 299
    },
    {
     "cell_type": "markdown",
     "metadata": {},
     "source": [
      "We also put in some <a href=\"https://gist.github.com/dwf/292018\">code from David Warde-Farley</a> to plot the resulting matrix $W$ in a Hinton diagram: "
     ]
    },
    {
     "cell_type": "code",
     "collapsed": false,
     "input": [
      "# Code from https://gist.github.com/dwf/292018\n",
      "\n",
      "def _blob(x, y, area, colour):\n",
      "    \"\"\"\n",
      "    Draws a square-shaped blob with the given area (< 1) at\n",
      "    the given coordinates.\n",
      "    \"\"\"\n",
      "    hs = np.sqrt(area) / 2\n",
      "    xcorners = np.array([x - hs, x + hs, x + hs, x - hs])\n",
      "    ycorners = np.array([y - hs, y - hs, y + hs, y + hs])\n",
      "    plt.fill(xcorners, ycorners, colour, edgecolor=colour)\n",
      "\n",
      "def hinton(W, maxweight=None):\n",
      "    \"\"\"\n",
      "    Draws a Hinton diagram for visualizing a weight matrix. \n",
      "    Temporarily disables matplotlib interactive mode if it is on, \n",
      "    otherwise this takes forever.\n",
      "    \"\"\"\n",
      "    reenable = False\n",
      "    if plt.isinteractive():\n",
      "        plt.ioff()\n",
      "    \n",
      "    plt.clf()\n",
      "    height, width = W.shape\n",
      "    if not maxweight:\n",
      "        maxweight = 2**np.ceil(np.log(np.max(np.abs(W)))/np.log(2))\n",
      "        \n",
      "    plt.fill(np.array([0, width, width, 0]), \n",
      "             np.array([0, 0, height, height]),\n",
      "             'gray')\n",
      "    \n",
      "    plt.axis('off')\n",
      "    plt.axis('equal')\n",
      "    for x in xrange(width):\n",
      "        for y in xrange(height):\n",
      "            _x = x+1\n",
      "            _y = y+1\n",
      "            w = W[y, x]\n",
      "            if w > 0:\n",
      "                _blob(_x - 0.5,\n",
      "                      height - _y + 0.5,\n",
      "                      min(1, w/maxweight),\n",
      "                      'white')\n",
      "            elif w < 0:\n",
      "                _blob(_x - 0.5,\n",
      "                      height - _y + 0.5, \n",
      "                      min(1, -w/maxweight), \n",
      "                      'black')\n",
      "    if reenable:\n",
      "        plt.ion()\n",
      "        \n",
      "def plotHinton(W, title=\"w\"):\n",
      "    hinton(W)\n",
      "    plt.title(title)\n",
      "    plt.show()\n"
     ],
     "language": "python",
     "metadata": {},
     "outputs": [],
     "prompt_number": 300
    },
    {
     "cell_type": "markdown",
     "metadata": {},
     "source": [
      "Dummy run (random data)"
     ]
    },
    {
     "cell_type": "code",
     "collapsed": false,
     "input": [
      "d = 3\n",
      "N = 2\n",
      "\n",
      "D = np.random.randn(d, N)\n",
      "\n",
      "W = learnBPCA(D,epsilon=0.001,maxIterations=5, printInterval=1)\n",
      "\n",
      "plotHinton(W)"
     ],
     "language": "python",
     "metadata": {},
     "outputs": [
      {
       "output_type": "stream",
       "stream": "stdout",
       "text": [
        "iteration 0\t, Ldelta=9223372036854775808.0000\n",
        "iteration 1\t, Ldelta=2.0733\n",
        "iteration 2\t, Ldelta=0.5664\n",
        "iteration 3\t, Ldelta=0.3268\n",
        "iteration 4\t, Ldelta=0.1975\n"
       ]
      },
      {
       "metadata": {},
       "output_type": "display_data",
       "png": "iVBORw0KGgoAAAANSUhEUgAAAW8AAAEFCAYAAAAsU2YoAAAABHNCSVQICAgIfAhkiAAAAAlwSFlz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\n",
       "text": [
        "<matplotlib.figure.Figure at 0x3966fd0>"
       ]
      }
     ],
     "prompt_number": 301
    },
    {
     "cell_type": "markdown",
     "metadata": {},
     "source": [
      "We can test the algorithm on some test data drawn from a Gaussian with different variances in orthogonal directions. \n",
      "\n",
      "We created a set of orthonormal basis vectors by using Matlab code from <a href=\"http://www.mathworks.com/matlabcentral/fileexchange/18973-create-orthonormal-vectors\">[Price 2008]</a>.\n",
      "Using these and a diagonal matrix of eigenvalues, we first define a covariance matrix that will be able to define a Gaussian with large variances in four orthogonal dimensions and a low variance in two remaining dimensions."
     ]
    },
    {
     "cell_type": "code",
     "collapsed": false,
     "input": [
      "dims = 6\n",
      "\n",
      "# matrix with orthonormal vectors\n",
      "A = np.array([ [0.4246,-0.1753,-0.1466,-0.0956,0.7864,0.3741]\n",
      "                ,[0.5199,0.3483,0.2280,-0.4751,-0.4102,0.4031]\n",
      "                ,[-0.2212,-0.7183,-0.2838,-0.2656,-0.3263,0.4213]\n",
      "                ,[-0.5600,0.0724,0.6716,-0.1030,0.2397,0.4025]\n",
      "                ,[0.2692,-0.1393,0.2114,0.8147,-0.2223,0.3876]\n",
      "                ,[-0.3382,0.5544,-0.5918,0.1422,-0.0037,0.4558]])\n",
      "\n",
      "# eigenvalues on a diagonal matrix representing the magnitude of the variance\n",
      "L = np.diag( [8,7,6,5,1,1])\n",
      "\n",
      "# Covariance matrix generated based on A and L\n",
      "covariance = np.dot(np.dot(A, L) , A.T)"
     ],
     "language": "python",
     "metadata": {},
     "outputs": [],
     "prompt_number": 302
    },
    {
     "cell_type": "markdown",
     "metadata": {},
     "source": [
      "We can plot this Gaussian data :"
     ]
    },
    {
     "cell_type": "code",
     "collapsed": false,
     "input": [
      "import matplotlib.pyplot as plt\n",
      "from mpl_toolkits.mplot3d import Axes3D\n",
      "\n",
      "def plot_data(X, dims=[3,4,5]):\n",
      "    fig = plt.figure()\n",
      "    ax = fig.add_subplot(111, projection='3d')\n",
      "    ax.scatter(X[dims[0],:], X[dims[1],:], zs=X[dims[2],:])\n",
      "    plt.show()\n",
      "    \n",
      "means = zeros(dims)\n",
      "N = 1000\n",
      "data = numpy.random.multivariate_normal(means, covariance, (N)).T\n",
      "\n",
      "for i in range(0,dims,2):\n",
      "    l = map (lambda x : x% dims, range(i,i+3))\n",
      "    print 'Plot of dimensions %s of the data' % l\n",
      "    plot_data(data, l)\n",
      "    "
     ],
     "language": "python",
     "metadata": {},
     "outputs": [
      {
       "output_type": "stream",
       "stream": "stdout",
       "text": [
        "Plot of dimensions [0, 1, 2] of the data\n"
       ]
      },
      {
       "metadata": {},
       "output_type": "display_data",
       "png": "iVBORw0KGgoAAAANSUhEUgAAAV0AAADtCAYAAAAcNaZ2AAAABHNCSVQICAgIfAhkiAAAAAlwSFlz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\n4yHkAAAAAElFTkSuQmCC\n",
       "text": [
        "<matplotlib.figure.Figure at 0x3773290>"
       ]
      },
      {
       "output_type": "stream",
       "stream": "stdout",
       "text": [
        "Plot of dimensions [2, 3, 4] of the data\n"
       ]
      },
      {
       "metadata": {},
       "output_type": "display_data",
       "png": "iVBORw0KGgoAAAANSUhEUgAAAV0AAADtCAYAAAAcNaZ2AAAABHNCSVQICAgIfAhkiAAAAAlwSFlz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\n",
       "text": [
        "<matplotlib.figure.Figure at 0x30a5790>"
       ]
      },
      {
       "output_type": "stream",
       "stream": "stdout",
       "text": [
        "Plot of dimensions [4, 5, 0] of the data\n"
       ]
      },
      {
       "metadata": {},
       "output_type": "display_data",
       "png": "iVBORw0KGgoAAAANSUhEUgAAAV0AAADtCAYAAAAcNaZ2AAAABHNCSVQICAgIfAhkiAAAAAlwSFlz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\n4YcffjQh/h/NOxTlAB8MQAAAAABJRU5ErkJggg==\n",
       "text": [
        "<matplotlib.figure.Figure at 0x457a6d0>"
       ]
      }
     ],
     "prompt_number": 303
    },
    {
     "cell_type": "markdown",
     "metadata": {},
     "source": [
      "Run the Bayesian PCA method on it:"
     ]
    },
    {
     "cell_type": "code",
     "collapsed": false,
     "input": [
      "N = 100\n",
      "data = numpy.random.multivariate_normal(means, covariance, (N)).T\n",
      "\n",
      "\n",
      "W = learnBPCA(data,epsilon=0.0001,maxIterations=150, printInterval=10)\n",
      "\n",
      "plotHinton(W)\n"
     ],
     "language": "python",
     "metadata": {},
     "outputs": [
      {
       "output_type": "stream",
       "stream": "stdout",
       "text": [
        "iteration 0\t, Ldelta=9223372036854775808.0000\n",
        "!Lower bound decreased!"
       ]
      },
      {
       "output_type": "stream",
       "stream": "stdout",
       "text": [
        "\n",
        "!Lower bound decreased!\n",
        "!Lower bound decreased!"
       ]
      },
      {
       "output_type": "stream",
       "stream": "stdout",
       "text": [
        "\n",
        "!Lower bound decreased!\n",
        "!Lower bound decreased!"
       ]
      },
      {
       "output_type": "stream",
       "stream": "stdout",
       "text": [
        "\n",
        "!Lower bound decreased!\n",
        "iteration 10\t, Ldelta=-1.1915\n",
        "!Lower bound decreased!"
       ]
      },
      {
       "output_type": "stream",
       "stream": "stdout",
       "text": [
        "\n",
        "!Lower bound decreased!\n",
        "!Lower bound decreased!"
       ]
      },
      {
       "output_type": "stream",
       "stream": "stdout",
       "text": [
        "\n"
       ]
      },
      {
       "metadata": {},
       "output_type": "display_data",
       "png": "iVBORw0KGgoAAAANSUhEUgAAAWYAAAEFCAYAAADQRk3iAAAABHNCSVQICAgIfAhkiAAAAAlwSFlz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\n/g/FqUO1J3BJZgAAAABJRU5ErkJggg==\n",
       "text": [
        "<matplotlib.figure.Figure at 0x3c8d6d0>"
       ]
      }
     ],
     "prompt_number": 340
    },
    {
     "cell_type": "markdown",
     "metadata": {},
     "source": [
      "The matrix $W$ can be fetched from the class `BayesianPCA` now and if everything went well it will have two columns with siginificantly lower values compared with each of the four other columns"
     ]
    },
    {
     "cell_type": "heading",
     "level": 3,
     "metadata": {},
     "source": [
      "2.4 PCA Representation of MNIST \n"
     ]
    },
    {
     "cell_type": "markdown",
     "metadata": {},
     "source": [
      "Having downloaded the <a href=\"http://deeplearning.net/tutorial/gettingstarted.html\">MNIST</a> dataset of handwritten digits,  we can run your algorithm on (part of) this dataset, and visualize the results.\n",
      "\n",
      "First we load the data:"
     ]
    },
    {
     "cell_type": "code",
     "collapsed": false,
     "input": [
      "import cPickle, gzip, numpy\n",
      "\n",
      "# Load the dataset\n",
      "f = gzip.open('../mnist.pkl.gz', 'rb')\n",
      "train_set, valid_set, test_set = cPickle.load(f)\n",
      "f.close()"
     ],
     "language": "python",
     "metadata": {},
     "outputs": [],
     "prompt_number": 309
    },
    {
     "cell_type": "markdown",
     "metadata": {},
     "source": [
      "An image is represented as numpy 1-dimensional array of 784 (28 x 28) float values between 0 and 1:"
     ]
    },
    {
     "cell_type": "code",
     "collapsed": false,
     "input": [
      "dimIm = 28\n",
      "nrOriginalDimensions = dimIm**2\n",
      "\n",
      "[_, nrImsTestSet] =  shape(test_set)"
     ],
     "language": "python",
     "metadata": {},
     "outputs": [],
     "prompt_number": 310
    },
    {
     "cell_type": "markdown",
     "metadata": {},
     "source": [
      "Define nr. of samples and convert the read-in data to `numpy` matrix format"
     ]
    },
    {
     "cell_type": "code",
     "collapsed": false,
     "input": [
      "nrSamples= 100\n",
      "    \n",
      "trainSet= np.array( valid_set[0][0:nrSamples])\n",
      "trainSet.reshape(dimIm**2, nrSamples)\n",
      "\n",
      "print \"Data correct: %s\" % (nrSamples == sum(map(lambda x: sum(trainSet[x] ==  valid_set[0][x]) == dimIm**2, \\\n",
      "                                                 range(0,nrSamples))))\n",
      "trainSet = trainSet.T\n",
      "print shape(trainSet)"
     ],
     "language": "python",
     "metadata": {},
     "outputs": [
      {
       "output_type": "stream",
       "stream": "stdout",
       "text": [
        "Data correct: True\n",
        "(784, 100)\n"
       ]
      }
     ],
     "prompt_number": 312
    },
    {
     "cell_type": "markdown",
     "metadata": {},
     "source": [
      "Define a new 'train' data set of lower (image) dimensionality"
     ]
    },
    {
     "cell_type": "code",
     "collapsed": false,
     "input": [
      "def smaller(im):\n",
      "    imMatrix=  im.reshape((dimIm, dimIm)) \n",
      "    newIm = zeros((7,7))\n",
      "    i2 = 0\n",
      "    for i in range(0, dimIm, 4): \n",
      "        #print i\n",
      "        val = sum( imMatrix[i:i+3,i:i+3]) / float(4)\n",
      "        #print val\n",
      "        newIm[i2,i2] = val\n",
      "        i2 += 1\n",
      "        \n",
      "    return newIm.reshape(7*7)\n",
      "\n",
      "\n",
      "newTrainSet = zeros((7**2,nrSamples))\n",
      "for i in range(nrSamples):\n",
      "    im = np.array([trainSet[:,i]])\n",
      "    newIm = smaller(im)\n",
      "    newTrainSet[:,i] = newIm\n",
      "\n",
      "print shape(newTrainSet)"
     ],
     "language": "python",
     "metadata": {},
     "outputs": [
      {
       "output_type": "stream",
       "stream": "stdout",
       "text": [
        "(49, 100)\n"
       ]
      }
     ],
     "prompt_number": 313
    },
    {
     "cell_type": "markdown",
     "metadata": {},
     "source": [
      "Learn something"
     ]
    },
    {
     "cell_type": "code",
     "collapsed": false,
     "input": [
      "digitW = learnBPCA(newTrainSet,epsilon=0.000001,maxIterations=100, printInterval=20)\n",
      "\n",
      "plotHinton(digitW)"
     ],
     "language": "python",
     "metadata": {},
     "outputs": [
      {
       "output_type": "stream",
       "stream": "stdout",
       "text": [
        "iteration 0\t, Ldelta=9223372036854775808.0000\n",
        "!Lower bound decreased!"
       ]
      },
      {
       "output_type": "stream",
       "stream": "stdout",
       "text": [
        "\n",
        "!Lower bound decreased!"
       ]
      },
      {
       "output_type": "stream",
       "stream": "stdout",
       "text": [
        "\n",
        "!Lower bound decreased!"
       ]
      },
      {
       "output_type": "stream",
       "stream": "stdout",
       "text": [
        "\n",
        "!Lower bound decreased!"
       ]
      },
      {
       "output_type": "stream",
       "stream": "stdout",
       "text": [
        "\n",
        "!Lower bound decreased!"
       ]
      },
      {
       "output_type": "stream",
       "stream": "stdout",
       "text": [
        "\n",
        "!Lower bound decreased!"
       ]
      },
      {
       "output_type": "stream",
       "stream": "stdout",
       "text": [
        "\n",
        "!Lower bound decreased!"
       ]
      },
      {
       "output_type": "stream",
       "stream": "stdout",
       "text": [
        "\n",
        "!Lower bound decreased!"
       ]
      },
      {
       "output_type": "stream",
       "stream": "stdout",
       "text": [
        "\n",
        "!Lower bound decreased!"
       ]
      },
      {
       "output_type": "stream",
       "stream": "stdout",
       "text": [
        "\n",
        "!Lower bound decreased!"
       ]
      },
      {
       "output_type": "stream",
       "stream": "stdout",
       "text": [
        "\n",
        "!Lower bound decreased!"
       ]
      },
      {
       "output_type": "stream",
       "stream": "stdout",
       "text": [
        "\n",
        "!Lower bound decreased!"
       ]
      },
      {
       "output_type": "stream",
       "stream": "stdout",
       "text": [
        "\n",
        "!Lower bound decreased!"
       ]
      },
      {
       "output_type": "stream",
       "stream": "stdout",
       "text": [
        "\n"
       ]
      },
      {
       "metadata": {},
       "output_type": "display_data",
       "png": "iVBORw0KGgoAAAANSUhEUgAAAWwAAAEFCAYAAADHZN0rAAAABHNCSVQICAgIfAhkiAAAAAlwSFlz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\ngg==\n",
       "text": [
        "<matplotlib.figure.Figure at 0x35a2150>"
       ]
      }
     ],
     "prompt_number": 341
    },
    {
     "cell_type": "markdown",
     "metadata": {},
     "source": [
      "Define a transformation matrix of lower dimensionality along one dimension omitting the columns from $W$ which are significantly lower in absolute value"
     ]
    },
    {
     "cell_type": "code",
     "collapsed": false,
     "input": [
      "minCol = sys.maxint\n",
      "maxCol = 0\n",
      "\n",
      "digitW = digitW.T\n",
      "\n",
      "for i in range(nrSamples):\n",
      "    minCol = min(minCol, np.min(abs(digitW[:,1])))\n",
      "    maxCol = max(maxCol,np.max(abs(digitW[:,1])))\n",
      "\n",
      "print (minCol, maxCol)\n",
      "\n",
      "listCols = []\n",
      "for i in range(49):\n",
      "    r = sum (abs(digitW[i,:]))\n",
      " \n",
      "    if ( r > 0):\n",
      "      listCols.append(digitW[i,:])  \n",
      "\n",
      "s = np.array([listCols[0]])\n",
      "for l in range(1, len(listCols)):\n",
      "    s = numpy.vstack((s, listCols[l]))\n",
      "\n",
      "    \n",
      "print len(listCols)\n",
      "\n",
      "s = s.T\n",
      "plotHinton(s)"
     ],
     "language": "python",
     "metadata": {},
     "outputs": [
      {
       "output_type": "stream",
       "stream": "stdout",
       "text": [
        "(0.0, 2.8274351783184028e-41)\n",
        "5\n"
       ]
      },
      {
       "metadata": {},
       "output_type": "display_data",
       "png": "iVBORw0KGgoAAAANSUhEUgAAAXIAAAEFCAYAAAD+A2xwAAAABHNCSVQICAgIfAhkiAAAAAlwSFlz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\n",
       "text": [
        "<matplotlib.figure.Figure at 0x457f450>"
       ]
      }
     ],
     "prompt_number": 343
    },
    {
     "cell_type": "markdown",
     "metadata": {},
     "source": [
      "We define functions to compare the performance of \"our\" PCA reduction matrix $W$ with a random matrix $W_{rand}$:"
     ]
    },
    {
     "cell_type": "code",
     "collapsed": false,
     "input": [
      "def getRecoveryResult(W, originalIm, dimm=dimIm):    \n",
      "    Wpi = np.linalg.pinv(W)  \n",
      "    #print \"%s x %s\" % (shape(W.T), shape(originalIm))    \n",
      "    imReduced = np.dot( W.T  , originalIm)         \n",
      "    imRecov = np.dot(Wpi.T, imReduced)    \n",
      "    imRecovMatrix = imRecov.reshape((dimm, dimm))    \n",
      "    return imRecovMatrix\n",
      "\n",
      "def showExamples(W, rtest_set, dimm = dimIm, nrExamples=3):\n",
      "    \n",
      "    [_,nrCols] = shape(W)\n",
      "    Wrand = np.random.randn(dimm**2,nrCols)\n",
      "\n",
      "    [_,nrIms ] = shape(rtest_set)\n",
      "    for i in range(nrExamples):\n",
      "        randomIndex =  randint(0,nrIms-1)    \n",
      "        originalIm = rtest_set[:,randomIndex]\n",
      "        originalImMatrix=  originalIm.reshape((dimm, dimm))    \n",
      "        \n",
      "        imRecovMatrixRand = getRecoveryResult(Wrand, originalIm,dimm)        \n",
      "        imRecovMatrix = getRecoveryResult(W, originalIm,dimm)\n",
      "        \n",
      "        matshow(originalImMatrix,cmap=cm.gray)\n",
      "        matshow(imRecovMatrixRand,cmap=cm.gray)       \n",
      "        matshow(imRecovMatrix,cmap=cm.gray)\n",
      "        plt.show()\n",
      "        \n",
      "    print \"First original image, then random recovery, then with our W\""
     ],
     "language": "python",
     "metadata": {},
     "outputs": [],
     "prompt_number": 344
    },
    {
     "cell_type": "markdown",
     "metadata": {},
     "source": [
      "Experiment"
     ]
    },
    {
     "cell_type": "code",
     "collapsed": false,
     "input": [
      "\n",
      "nrDimensionsLeft = 5\n",
      "#W = np.random.randn(nrOriginalDimensions,nrDimensionsLeft)       \n",
      "\n",
      "\n",
      "print shape(s)\n",
      "\n",
      "showExamples(s, newTrainSet, dimm=7)\n"
     ],
     "language": "python",
     "metadata": {},
     "outputs": [
      {
       "output_type": "stream",
       "stream": "stdout",
       "text": [
        "(49, 5)\n",
        "(5, 49) x (49,)\n",
        "(5, 49) x (49,)\n"
       ]
      },
      {
       "metadata": {},
       "output_type": "display_data",
       "png": "iVBORw0KGgoAAAANSUhEUgAAAPYAAAD5CAYAAAAURMgdAAAABHNCSVQICAgIfAhkiAAAAAlwSFlz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\nDCJswKD/AKARMPnuTAhjAAAAAElFTkSuQmCC\n",
       "text": [
        "<matplotlib.figure.Figure at 0x3966090>"
       ]
      },
      {
       "metadata": {},
       "output_type": "display_data",
       "png": "iVBORw0KGgoAAAANSUhEUgAAAPYAAAD5CAYAAAAURMgdAAAABHNCSVQICAgIfAhkiAAAAAlwSFlz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\ngg==\n",
       "text": [
        "<matplotlib.figure.Figure at 0x3782690>"
       ]
      },
      {
       "metadata": {},
       "output_type": "display_data",
       "png": "iVBORw0KGgoAAAANSUhEUgAAAPYAAAD5CAYAAAAURMgdAAAABHNCSVQICAgIfAhkiAAAAAlwSFlz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\na5Z99DIAAAAASUVORK5CYII=\n",
       "text": [
        "<matplotlib.figure.Figure at 0x30c6e90>"
       ]
      },
      {
       "output_type": "stream",
       "stream": "stdout",
       "text": [
        "(5, 49) x (49,)\n",
        "(5, 49) x (49,)\n"
       ]
      },
      {
       "metadata": {},
       "output_type": "display_data",
       "png": "iVBORw0KGgoAAAANSUhEUgAAAPYAAAD5CAYAAAAURMgdAAAABHNCSVQICAgIfAhkiAAAAAlwSFlz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\n",
       "text": [
        "<matplotlib.figure.Figure at 0x395ad50>"
       ]
      },
      {
       "metadata": {},
       "output_type": "display_data",
       "png": "iVBORw0KGgoAAAANSUhEUgAAAPYAAAD5CAYAAAAURMgdAAAABHNCSVQICAgIfAhkiAAAAAlwSFlz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\nNmAgwgYMRNiAgQgbMND/AKUCycT5pruLAAAAAElFTkSuQmCC\n",
       "text": [
        "<matplotlib.figure.Figure at 0x390dad0>"
       ]
      },
      {
       "metadata": {},
       "output_type": "display_data",
       "png": "iVBORw0KGgoAAAANSUhEUgAAAPYAAAD5CAYAAAAURMgdAAAABHNCSVQICAgIfAhkiAAAAAlwSFlz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\nybKyznOYAAAAAElFTkSuQmCC\n",
       "text": [
        "<matplotlib.figure.Figure at 0x4368550>"
       ]
      },
      {
       "output_type": "stream",
       "stream": "stdout",
       "text": [
        "(5, 49) x (49,)\n",
        "(5, 49) x (49,)\n"
       ]
      },
      {
       "metadata": {},
       "output_type": "display_data",
       "png": "iVBORw0KGgoAAAANSUhEUgAAAPYAAAD5CAYAAAAURMgdAAAABHNCSVQICAgIfAhkiAAAAAlwSFlz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\nGzCIsAGD/gP6vFbQMHLCtQAAAABJRU5ErkJggg==\n",
       "text": [
        "<matplotlib.figure.Figure at 0x3962050>"
       ]
      },
      {
       "metadata": {},
       "output_type": "display_data",
       "png": "iVBORw0KGgoAAAANSUhEUgAAAPYAAAD5CAYAAAAURMgdAAAABHNCSVQICAgIfAhkiAAAAAlwSFlz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\nuGgaDVSOAAAAAElFTkSuQmCC\n",
       "text": [
        "<matplotlib.figure.Figure at 0x35a2e10>"
       ]
      },
      {
       "metadata": {},
       "output_type": "display_data",
       "png": "iVBORw0KGgoAAAANSUhEUgAAAPYAAAD5CAYAAAAURMgdAAAABHNCSVQICAgIfAhkiAAAAAlwSFlz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\n6P8AT8yxPKn/6D0AAAAASUVORK5CYII=\n",
       "text": [
        "<matplotlib.figure.Figure at 0x3faf150>"
       ]
      },
      {
       "output_type": "stream",
       "stream": "stdout",
       "text": [
        "First original image, then random recovery, then with our W\n"
       ]
      }
     ],
     "prompt_number": 322
    }
   ],
   "metadata": {}
  }
 ]
}