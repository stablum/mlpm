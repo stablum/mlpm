{
 "metadata": {
  "name": "testn"
 },
 "nbformat": 3,
 "nbformat_minor": 0,
 "worksheets": [
  {
   "cells": [
    {
     "cell_type": "markdown",
     "metadata": {},
     "source": "<h1 id=\"heading-1\">Report</h1>"
    },
    {
     "cell_type": "markdown",
     "metadata": {},
     "source": "<h2>Imported functions</h2>"
    },
    {
     "cell_type": "code",
     "collapsed": false,
     "input": "#%pylab inline\n\n# Signal generators\ndef sawtooth(x, period=0.2, amp=1.0, phase=0.):\n    return (((x / period - phase - 0.5) % 1) - 0.5) * 2 * amp\n\ndef sine_wave(x, period=0.2, amp=1.0, phase=0.):\n    return np.sin((x / period - phase) * 2 * np.pi) * amp\n\ndef square_wave(x, period=0.2, amp=1.0, phase=0.):\n    return ((np.floor(2 * x / period - 2 * phase - 1) % 2 == 0).astype(float) - 0.5) * 2 * amp\n\ndef triangle_wave(x, period=0.2, amp=1.0, phase=0.):\n    return (sawtooth(x, period, 1., phase) * square_wave(x, period, 1., phase) + 0.5) * 2 * amp\n\ndef random_nonsingular_matrix(d=2):\n    \"\"\"\n    Generates a random nonsingular (invertible) matrix of shape d*d\n    \"\"\"\n    epsilon = 0.1\n    A = np.random.rand(d, d)\n    while abs(np.linalg.det(A)) < epsilon:\n        A = np.random.rand(d, d)\n    return A\n\ndef plot_signals(X, showAxes=False):\n    \"\"\"\n    Plot the signals contained in the rows of X.\n    \"\"\"\n    figure()\n    for i in range(X.shape[0]):\n        # see http://matplotlib.org/api/pyplot_api.html#matplotlib.pyplot.subplot\n        # subplot params: numrows, numcols, fignum where fignum ranges from 1 to numrows*numcols.\n        ax = plt.subplot(X.shape[0], 1, i + 1)\n        plot(X[i, :])\n        if not showAxes:\n            ax.set_xticks([])\n            ax.set_yticks([])",
     "language": "python",
     "metadata": {},
     "outputs": [],
     "prompt_number": 1
    },
    {
     "cell_type": "code",
     "collapsed": false,
     "input": "sine_wave(np.array([1,2,3]))\n",
     "language": "python",
     "metadata": {},
     "outputs": [
      {
       "metadata": {},
       "output_type": "pyout",
       "prompt_number": 2,
       "text": "array([ -1.22464680e-15,  -2.44929360e-15,  -1.07793678e-14])"
      }
     ],
     "prompt_number": 2
    },
    {
     "cell_type": "code",
     "collapsed": false,
     "input": "num_sources = 5\nsignal_length = 500\nt = linspace(0, 1, signal_length)\n# np.c_ Translates slice objects to concatenation along the second axis.\nS = np.c_[sawtooth(t), sine_wave(t, 0.3), square_wave(t, 0.4), triangle_wave(t, 0.25), np.random.randn(t.size)].T\n",
     "language": "python",
     "metadata": {},
     "outputs": [],
     "prompt_number": 3
    },
    {
     "cell_type": "code",
     "collapsed": false,
     "input": "print num_sources",
     "language": "python",
     "metadata": {},
     "outputs": [
      {
       "output_type": "stream",
       "stream": "stdout",
       "text": "5\n"
      }
     ],
     "prompt_number": 4
    },
    {
     "cell_type": "code",
     "collapsed": false,
     "input": "t2 = linspace(0,2,10)\ns1 = sawtooth(t2)\ns2 = sine_wave(t2, 0.3)\nS2 = np.array([s1, s2])\nprint S2\nprint \"\" \nprint np.c_[s1,s2].T",
     "language": "python",
     "metadata": {},
     "outputs": [
      {
       "output_type": "stream",
       "stream": "stdout",
       "text": "[[ 0.          0.22222222  0.44444444  0.66666667  0.88888889 -0.88888889\n  -0.66666667 -0.44444444 -0.22222222  0.        ]\n [ 0.         -0.99830816  0.11609291  0.98480775 -0.23061587 -0.95798951\n   0.34202014  0.91821611 -0.44879918 -0.8660254 ]]\n\n[[ 0.          0.22222222  0.44444444  0.66666667  0.88888889 -0.88888889\n  -0.66666667 -0.44444444 -0.22222222  0.        ]\n [ 0.         -0.99830816  0.11609291  0.98480775 -0.23061587 -0.95798951\n   0.34202014  0.91821611 -0.44879918 -0.8660254 ]]\n"
      }
     ],
     "prompt_number": 5
    },
    {
     "cell_type": "code",
     "collapsed": false,
     "input": "print S",
     "language": "python",
     "metadata": {},
     "outputs": [
      {
       "output_type": "stream",
       "stream": "stdout",
       "text": "[[ 0.          0.02004008  0.04008016 ..., -0.04008016 -0.02004008  0.        ]\n [ 0.          0.04195952  0.08384514 ...,  0.90489852  0.88624247\n   0.8660254 ]\n [-1.         -1.         -1.         ..., -1.         -1.          1.        ]\n [ 1.          0.96793587  0.93587174 ...,  0.93587174  0.96793587  1.        ]\n [-0.26507727  0.78392234  0.23230958 ...,  0.42078372 -0.24461439\n   0.3065207 ]]\n"
      }
     ],
     "prompt_number": 6
    },
    {
     "cell_type": "code",
     "collapsed": false,
     "input": "plot_signals(S2,showAxes=True)",
     "language": "python",
     "metadata": {},
     "outputs": [],
     "prompt_number": 7
    },
    {
     "cell_type": "code",
     "collapsed": false,
     "input": "plot_signals(S,showAxes=True)",
     "language": "python",
     "metadata": {},
     "outputs": [],
     "prompt_number": 8
    },
    {
     "cell_type": "code",
     "collapsed": false,
     "input": "print random_nonsingular_matrix(d=4)\n",
     "language": "python",
     "metadata": {},
     "outputs": [
      {
       "output_type": "stream",
       "stream": "stdout",
       "text": "[[ 0.64868091  0.78898606  0.98962121  0.1891607 ]\n [ 0.04399428  0.99204579  0.63606068  0.91344195]\n [ 0.82778535  0.97644758  0.56077787  0.36603936]\n [ 0.88173079  0.6082974   0.6724467   0.32898105]]\n"
      }
     ],
     "prompt_number": 9
    },
    {
     "cell_type": "code",
     "collapsed": false,
     "input": "B =np.array([[1,2,3,4],[5,3,6,7]])\nprint B\nprint B.shape\nprint B.T\nB = B.T\nA = np.array([[1,2,3],[4,5,6],[7,8,9],[10,11,12]]).T\nprint \"A = %s \" % A\nprint \"B = %s\" % B\n\nprint \"A x B: %s\" % np.dot(A,B)",
     "language": "python",
     "metadata": {},
     "outputs": [
      {
       "output_type": "stream",
       "stream": "stdout",
       "text": "[[1 2 3 4]\n [5 3 6 7]]\n(2, 4)\n[[1 5]\n [2 3]\n [3 6]\n [4 7]]\nA = [[ 1  4  7 10]\n [ 2  5  8 11]\n [ 3  6  9 12]] \nB = [[1 5]\n [2 3]\n [3 6]\n [4 7]]\nA x B: [[ 70 129]\n [ 80 150]\n [ 90 171]]\n"
      }
     ],
     "prompt_number": 10
    },
    {
     "cell_type": "code",
     "collapsed": false,
     "input": "def make_mixtures(S, A):\n    X = np.dot(A,S)\n    return X\n\n\n \n\nMnr = Snr = S.shape[0]\nTnr = S.shape[1]\n\nA = random_nonsingular_matrix(Snr)\n\nX = make_mixtures(S,A)\n\nplot_signals( X)",
     "language": "python",
     "metadata": {},
     "outputs": [],
     "prompt_number": 11
    },
    {
     "cell_type": "code",
     "collapsed": false,
     "input": "# prints a histogram for each row of X\ndef plot_histograms(X, nrBins=10,showAxes=False):\n    nrRows = X.shape[0]\n    nrColumns = X.shape[1]\n    if nrBins > nrColumns:\n        raise Exception(\"nr bins > nr columns of matrix X\")\n    figure()\n    for i in range(nrRows):\n        #print X[i,:]\n        hist, bin_edges = histogram(X[i,:],nrBins)\n        #print hist\n        #print bin_edges\n        lowest = bin_edges[:1][0]\n        highest =  bin_edges[-1:][0]\n        interval = (highest-lowest)/float(nrBins)\n        #print interval\n        ax = plt.subplot(nrRows, 1, i + 1)\n        bar(bin_edges[:-1],hist, width=interval)\n        if not showAxes:\n            ax.set_xticks([])\n            ax.set_yticks([])\n            \nprint \"S:\"\nplot_histograms(S,nrBins=50,showAxes=False)\n\nprint \"X:\"\nplot_histograms(X,nrBins=50,showAxes=False)\n",
     "language": "python",
     "metadata": {},
     "outputs": [
      {
       "output_type": "stream",
       "stream": "stdout",
       "text": "S:\nX:"
      },
      {
       "output_type": "stream",
       "stream": "stdout",
       "text": "\n"
      }
     ],
     "prompt_number": 12
    },
    {
     "cell_type": "code",
     "collapsed": false,
     "input": "act0 = lambda x : -tanh(x)\nsourceDistr0 = lambda x : math.exp ( - math.log( cosh(x)))\n\nact1 = lambda x : -x + tanh(x)\nsourceDistr1 = lambda x : math.exp(  -( math.pow(x,2) / float(2) ) + math.log(cosh(x)) )\n\nact2 = lambda x : (-1)*(math.pow(x,3))\nsourceDistr2 = lambda x : math.exp( -((math.pow(x,4))/float(4)))\n\nact3 = lambda x : -((6*x)/((math.pow(x,2))+5))\nsourceDistr3 = lambda x : float(1)/(math.pow(math.pow(x,2)+5,3))\n\nactFunctions = [act0, act1, act2, act3]\nsourceDistrFunctions = [sourceDistr0, sourceDistr1, sourceDistr2, sourceDistr3]\n\nactT = linspace(-4,4,500)\n#actM = [x for x in     \n\nactMl = []\nsourceDistrMl = []\nfor i in range (0, len(actFunctions)):\n    actMl.append(map (actFunctions[i], actT))\n    sourceDistrMl.append(map (sourceDistrFunctions[i], actT))\n\n\nactM = np.array(actMl)\nsourceDistrM = np.array(sourceDistrMl)\n\ndef plot_signals2(X1,X2, showAxes=False):\n    \"\"\"\n    Plot the signals contained in the rows of X.\n    \"\"\"\n    figure()\n    for i in range(X1.shape[0]):\n        # see http://matplotlib.org/api/pyplot_api.html#matplotlib.pyplot.subplot\n        # subplot params: numrows, numcols, fignum where fignum ranges from 1 to numrows*numcols.\n        ax = plt.subplot(X.shape[0], 1, i + 1)\n        plot(X1[i, :])\n        plot(X2[i,:])\n        if not showAxes:\n            ax.set_xticks([])\n            ax.set_yticks([])\n            \nplot_signals2(actM, sourceDistrM, showAxes=True)\n\nplot_signals(actM)\n\nplot_signals(sourceDistrM)",
     "language": "python",
     "metadata": {},
     "outputs": [],
     "prompt_number": 13
    },
    {
     "cell_type": "code",
     "collapsed": false,
     "input": "l = []\nl.append([1,2,3]) \nl.append([3,3,6])\nprint l\n\nla = np.array(l)\nprint la",
     "language": "python",
     "metadata": {},
     "outputs": [
      {
       "output_type": "stream",
       "stream": "stdout",
       "text": "[[1, 2, 3], [3, 3, 6]]\n[[1 2 3]\n [3 3 6]]\n"
      }
     ],
     "prompt_number": 14
    },
    {
     "cell_type": "markdown",
     "metadata": {},
     "source": "<blockquote>\n<p>Example of a <em>blockquote</em>. \n</p>\n</blockquote>"
    },
    {
     "cell_type": "markdown",
     "metadata": {},
     "source": "Example $\\LaTeX$ code: $$e^{x-1}$$ "
    },
    {
     "cell_type": "markdown",
     "metadata": {},
     "source": "Bla bla  $$ \\sum_{i=1}^{I} x_i $$ \n\n<ul>\n<li>apples</li>\n<li>oranges</li>\n<li>pears</li>\n</ul>\n \n"
    },
    {
     "cell_type": "code",
     "collapsed": false,
     "input": "def normalizeZeroMean(X):\n    mu = np.array([ np.mean(d) for d in np.transpose(X) ])\n    #X = X - mean(X)\n    X = X - mu\n    return X\n\nnp.set_printoptions(suppress=True)\n\nB = X.T\n#B =np.array([[4,2,.6],[4.2,2.1,.59],[3.9,2.0,.58],[4.3,2.1,.62],[4.1,2.2,.63]])#\n#B=np.array([[ 1,2,4,5 ], [2,2,3,4 ] , [ 3,4,4,3 ], [4,2,4,4 ], [5,2,4,2]])\nprint B\nB = normalizeZeroMean(B)\nprint mean(B)  \nprint \"B (normalized):\\n%s\" % B\n\ncovB = cov(B.T)\n#covB = normalizeZeroMean(covB)\nprint \"covB: %s\" % covB \n\nprint \"=== the above is correct ===\"\n# see http://www.itl.nist.gov/div898/handbook/pmc/section5/pmc541.htm\nprint \"=== now do eigen decomposition thing ===\"\n\neigenvalues, eigenVectors = eigh(covB)\n#eigenvalues, eigenVectors = np.linalg.eig(covB)\n\nprint \"eigenvalues: %s\" % eigenvalues\nprint \"eigenVectors: %s\" % eigenVectors\n\nprint \"=== should be equal: ===\"\ndEv = np.dot(np.dot(eigenVectors.T, covB), eigenVectors)\nprint \"dEv:\\n%s\" % dEv\n\ndEv2 = np.diag(eigenvalues)\nprint \"dEv2 (eigenvalue-diag-matrix):\\n%s\" % dEv2\nprint \"======\"\n\nprint \"sum(dEv - dEv2): %s\" % sum(dEv - dEv2)\n\nprint \"== should be equal: ===\"\nprint \"covB * eigenVectorMatrix:\\n%s\" %  (np.dot(covB, eigenVectors))\n\nprint \"eigenvectorMatrix * eigenvalue-diag-matrix:\\n%s\" % (np.dot(eigenVectors , dEv2))\n\nprint \"======\"\n\ndiff = sum(sum((np.dot(covB, eigenVectors))-(np.dot(eigenVectors , dEv2))))\nprint \"diff: %s\" % diff\n\nprint \"eigenVectors.T:\\n%s\" % eigenVectors.T\n\n#D = np.diag(1./sqrt(eigenvalues+0.0001))\n\"\"\"\nprint B[0,:]\ny0 = dot(eigenVectors.T,B[0,:].T)\ny1 = dot(eigenVectors.T,B[1,:].T)\ny2 = dot(eigenVectors.T,B[2,:].T)\ny3 = dot(eigenVectors.T,B[3,:].T)\ny4 = dot(eigenVectors.T,B[4,:].T)\nprint y0\nprint y1\nprint y2\nprint y3\nprint y4\nY = np.array([y0,y1,y2,y3,y4])\nprint Y\n\"\"\"\n# RULE:\n# stacking rows of Y2: X * (row of y).T ==> Y2\n# equals\n# X * Y.T ==> Y2\nY2 = np.dot(eigenVectors.T, B.T)\nprint \"Y2:\\n%s\" % Y2.T\nY = Y2.T\n\nyCov =  np.cov(Y.T)\nprint \"yCov (should be equal to  dEv, dEv2, (eigenVectorMatrx.T * covB * eigenVectorMatrix) :\\n%s\" % yCov\nax = imshow(log(abs(yCov)), cmap='gray', interpolation='nearest')\n",
     "language": "python",
     "metadata": {},
     "outputs": [
      {
       "output_type": "stream",
       "stream": "stdout",
       "text": "[[ 0.08587799  0.52170495 -0.24845746  0.32980816 -0.6447589 ]\n [ 0.15709283  0.76179915  0.37782722  0.96851208 -0.38384467]\n [ 0.09551888  0.63692977  0.09153997  0.61250855 -0.46430283]\n ..., \n [ 0.23395168  0.68073533  0.98326696  0.74086438 -0.13800986]\n [ 0.2034037   0.56696774  0.60594311  0.35837061 -0.26794856]\n [ 1.62550718  0.89246911  2.13763903  1.22389009  1.08750836]]\n3.02868841118e-17\nB (normalized):\n[[ 0.2066058   0.53387206 -0.19022766  0.38399534 -0.5527493 ]\n [ 0.27782063  0.77396625  0.43605701  1.02269925 -0.29183507]\n [ 0.21624668  0.64909688  0.14976977  0.66669572 -0.37229323]\n ..., \n [ 0.35467948  0.69290244  1.04149675  0.79505155 -0.04600026]\n [ 0.32413151  0.57913485  0.6641729   0.41255778 -0.17593896]\n [ 1.74623499  0.90463622  2.19586882  1.27807726  1.17951796]]\ncovB: [[ 0.68717296  0.27085081  0.59071212  0.3819054   0.47960203]\n [ 0.27085081  0.46759313  0.27209293  0.42766078  0.37127294]\n [ 0.59071212  0.27209293  1.12282747  0.51828198  0.7276921 ]\n [ 0.3819054   0.42766078  0.51828198  0.62872464  0.35713127]\n [ 0.47960203  0.37127294  0.7276921   0.35713127  0.81116335]]\n=== the above is correct ===\n=== now do eigen decomposition thing ===\neigenvalues: [ 0.03305567  0.26836915  0.29557693  0.50834408  2.61213572]\neigenVectors: [[-0.03074247 -0.83842917 -0.34124223  0.04966093 -0.42092632]\n [-0.64276148  0.00305597  0.3155775  -0.63499553 -0.28989629]\n [-0.35278416  0.45281191 -0.27798925  0.49175386 -0.59279409]\n [ 0.54508348  0.29658175 -0.3834214  -0.56450382 -0.38632465]\n [ 0.4053886  -0.06346519  0.74811403  0.18392403 -0.48798525]]\n=== should be equal: ===\ndEv:\n[[ 0.03305567  0.         -0.         -0.          0.        ]\n [ 0.          0.26836915 -0.          0.         -0.        ]\n [-0.          0.          0.29557693  0.          0.        ]\n [-0.          0.          0.          0.50834408 -0.        ]\n [-0.         -0.          0.         -0.          2.61213572]]\ndEv2 (eigenvalue-diag-matrix):\n[[ 0.03305567  0.          0.          0.          0.        ]\n [ 0.          0.26836915  0.          0.          0.        ]\n [ 0.          0.          0.29557693  0.          0.        ]\n [ 0.          0.          0.          0.50834408  0.        ]\n [ 0.          0.          0.          0.          2.61213572]]\n======\nsum(dEv - dEv2): -1.07411909228e-15\n== should be equal: ===\ncovB * eigenVectorMatrix:\n[[-0.00101621 -0.22500853 -0.10086333  0.02524484 -1.09951667]\n [-0.02124691  0.00082013  0.09327743 -0.32279622 -0.75724845]\n [-0.01166152  0.12152075 -0.08216721  0.24998016 -1.54845862]\n [ 0.0180181   0.07959339 -0.11333052 -0.28696217 -1.00913242]\n [ 0.01340039 -0.0170321   0.22112525  0.09349669 -1.27468371]]\neigenvectorMatrix * eigenvalue-diag-matrix:\n[[-0.00101621 -0.22500853 -0.10086333  0.02524484 -1.09951667]\n [-0.02124691  0.00082013  0.09327743 -0.32279622 -0.75724845]\n [-0.01166152  0.12152075 -0.08216721  0.24998016 -1.54845862]\n [ 0.0180181   0.07959339 -0.11333052 -0.28696217 -1.00913242]\n [ 0.01340039 -0.0170321   0.22112525  0.09349669 -1.27468371]]\n======\ndiff: 8.50556604315e-16\neigenVectors.T:\n[[-0.03074247 -0.64276148 -0.35278416  0.54508348  0.4053886 ]\n [-0.83842917  0.00305597  0.45281191  0.29658175 -0.06346519]\n [-0.34124223  0.3155775  -0.27798925 -0.3834214   0.74811403]\n [ 0.04966093 -0.63499553  0.49175386 -0.56450382  0.18392403]\n [-0.42092632 -0.28989629 -0.59279409 -0.38632465 -0.48798525]]\nY2:\n[[-0.29716342 -0.10876383 -0.4098949  -0.74072204 -0.00758087]\n [-0.22070073  0.28871941 -0.58222765 -0.89422868 -0.85248671]\n [-0.26421744  0.10985107 -0.44472971 -0.7726107  -0.44386472]\n ..., \n [-0.40897679  0.41506319 -0.53114531 -0.36748639 -1.25225746]\n [-0.46296507  0.16427702 -0.40228424 -0.29029163 -0.77156793]\n [-0.23499469 -0.16281819 -0.52846245  0.08756887 -3.36832513]]\nyCov (should be equal to  dEv, dEv2, (eigenVectorMatrx.T * covB * eigenVectorMatrix) :\n[[ 0.03305567 -0.         -0.         -0.          0.        ]\n [-0.          0.26836915  0.          0.         -0.        ]\n [-0.          0.          0.29557693  0.          0.        ]\n [-0.          0.          0.          0.50834408 -0.        ]\n [ 0.         -0.          0.         -0.          2.61213572]]\n"
      }
     ],
     "prompt_number": 33
    },
    {
     "cell_type": "code",
     "collapsed": false,
     "input": "print B\nB + B  \n",
     "language": "python",
     "metadata": {},
     "outputs": [
      {
       "output_type": "stream",
       "stream": "stdout",
       "text": "[[-2.875 -1.875 -0.875  0.125]\n [ 1.125 -0.875  2.125  3.125]]\n"
      },
      {
       "metadata": {},
       "output_type": "pyout",
       "prompt_number": 91,
       "text": "array([[-5.75, -3.75, -1.75,  0.25],\n       [ 2.25, -1.75,  4.25,  6.25]])"
      }
     ],
     "prompt_number": 91
    },
    {
     "cell_type": "code",
     "collapsed": false,
     "input": "np.dot(B.T,B)",
     "language": "python",
     "metadata": {},
     "outputs": [
      {
       "metadata": {},
       "output_type": "pyout",
       "prompt_number": 88,
       "text": "array([[ 9.53125,  4.40625,  4.90625,  3.15625],\n       [ 4.40625,  4.28125, -0.21875, -2.96875],\n       [ 4.90625, -0.21875,  5.28125,  6.53125],\n       [ 3.15625, -2.96875,  6.53125,  9.78125]])"
      }
     ],
     "prompt_number": 88
    },
    {
     "cell_type": "code",
     "collapsed": false,
     "input": "",
     "language": "python",
     "metadata": {},
     "outputs": []
    }
   ],
   "metadata": {}
  }
 ]
}