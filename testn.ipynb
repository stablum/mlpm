{
 "metadata": {
  "name": ""
 },
 "nbformat": 3,
 "nbformat_minor": 0,
 "worksheets": [
  {
   "cells": [
    {
     "cell_type": "markdown",
     "metadata": {},
     "source": [
      "<h1 id=\"heading-1\">Report</h1>"
     ]
    },
    {
     "cell_type": "markdown",
     "metadata": {},
     "source": [
      "<h2>Imported functions</h2>"
     ]
    },
    {
     "cell_type": "code",
     "collapsed": false,
     "input": [
      "import time\n",
      "import copy"
     ],
     "language": "python",
     "metadata": {},
     "outputs": [],
     "prompt_number": 2
    },
    {
     "cell_type": "code",
     "collapsed": false,
     "input": [
      "#%pylab inline\n",
      "\n",
      "\n",
      "# Signal generators\n",
      "def sawtooth(x, period=0.2, amp=1.0, phase=0.):\n",
      "    return (((x / period - phase - 0.5) % 1) - 0.5) * 2 * amp\n",
      "\n",
      "def sine_wave(x, period=0.2, amp=1.0, phase=0.):\n",
      "    return np.sin((x / period - phase) * 2 * np.pi) * amp\n",
      "\n",
      "def square_wave(x, period=0.2, amp=1.0, phase=0.):\n",
      "    return ((np.floor(2 * x / period - 2 * phase - 1) % 2 == 0).astype(float) - 0.5) * 2 * amp\n",
      "\n",
      "def triangle_wave(x, period=0.2, amp=1.0, phase=0.):\n",
      "    return (sawtooth(x, period, 1., phase) * square_wave(x, period, 1., phase) + 0.5) * 2 * amp\n",
      "\n",
      "def random_nonsingular_matrix(d=2):\n",
      "    \"\"\"\n",
      "    Generates a random nonsingular (invertible) matrix of shape d*d\n",
      "    \"\"\"\n",
      "    epsilon = 0.1\n",
      "    A = np.random.rand(d, d)\n",
      "    while abs(np.linalg.det(A)) < epsilon:\n",
      "        A = np.random.rand(d, d)\n",
      "    return A\n",
      "\n",
      "def plot_signals(X, showAxes=False):\n",
      "    \"\"\"\n",
      "    Plot the signals contained in the rows of X.\n",
      "    \"\"\"\n",
      "    figure()\n",
      "    for i in range(X.shape[0]):\n",
      "        # see http://matplotlib.org/api/pyplot_api.html#matplotlib.pyplot.subplot\n",
      "        # subplot params: numrows, numcols, fignum where fignum ranges from 1 to numrows*numcols.\n",
      "        ax = plt.subplot(X.shape[0], 1, i + 1)\n",
      "        plot(X[i, :])\n",
      "        draw()\n",
      "        time.sleep(1)\n",
      "        if not showAxes:\n",
      "            ax.set_xticks([])\n",
      "            ax.set_yticks([])"
     ],
     "language": "python",
     "metadata": {},
     "outputs": [],
     "prompt_number": 3
    },
    {
     "cell_type": "code",
     "collapsed": false,
     "input": [
      "sine_wave(np.array([1,2,3]))\n"
     ],
     "language": "python",
     "metadata": {},
     "outputs": [
      {
       "metadata": {},
       "output_type": "pyout",
       "prompt_number": 4,
       "text": [
        "array([ -1.22464680e-15,  -2.44929360e-15,  -1.07793678e-14])"
       ]
      }
     ],
     "prompt_number": 4
    },
    {
     "cell_type": "code",
     "collapsed": false,
     "input": [
      "num_sources = 5\n",
      "signal_length = 500\n",
      "t = linspace(0, 1, signal_length)\n",
      "# np.c_ Translates slice objects to concatenation along the second axis.\n",
      "S = np.c_[sawtooth(t), sine_wave(t, 0.3), square_wave(t, 0.4), triangle_wave(t, 0.25), np.random.randn(t.size)].T\n"
     ],
     "language": "python",
     "metadata": {},
     "outputs": [],
     "prompt_number": 5
    },
    {
     "cell_type": "code",
     "collapsed": false,
     "input": [
      "print num_sources"
     ],
     "language": "python",
     "metadata": {},
     "outputs": [
      {
       "output_type": "stream",
       "stream": "stdout",
       "text": [
        "5\n"
       ]
      }
     ],
     "prompt_number": 6
    },
    {
     "cell_type": "code",
     "collapsed": false,
     "input": [
      "t2 = linspace(0,2,10)\n",
      "s1 = sawtooth(t2)\n",
      "s2 = sine_wave(t2, 0.3)\n",
      "S2 = np.array([s1, s2])\n",
      "print S2\n",
      "print \"\" \n",
      "print np.c_[s1,s2].T"
     ],
     "language": "python",
     "metadata": {},
     "outputs": [
      {
       "output_type": "stream",
       "stream": "stdout",
       "text": [
        "[[ 0.          0.22222222  0.44444444  0.66666667  0.88888889 -0.88888889\n",
        "  -0.66666667 -0.44444444 -0.22222222  0.        ]\n",
        " [ 0.         -0.99830816  0.11609291  0.98480775 -0.23061587 -0.95798951\n",
        "   0.34202014  0.91821611 -0.44879918 -0.8660254 ]]\n",
        "\n",
        "[[ 0.          0.22222222  0.44444444  0.66666667  0.88888889 -0.88888889\n",
        "  -0.66666667 -0.44444444 -0.22222222  0.        ]\n",
        " [ 0.         -0.99830816  0.11609291  0.98480775 -0.23061587 -0.95798951\n",
        "   0.34202014  0.91821611 -0.44879918 -0.8660254 ]]\n"
       ]
      }
     ],
     "prompt_number": 7
    },
    {
     "cell_type": "code",
     "collapsed": false,
     "input": [
      "print S"
     ],
     "language": "python",
     "metadata": {},
     "outputs": [
      {
       "output_type": "stream",
       "stream": "stdout",
       "text": [
        "[[ 0.          0.02004008  0.04008016 ..., -0.04008016 -0.02004008  0.        ]\n",
        " [ 0.          0.04195952  0.08384514 ...,  0.90489852  0.88624247\n",
        "   0.8660254 ]\n",
        " [-1.         -1.         -1.         ..., -1.         -1.          1.        ]\n",
        " [ 1.          0.96793587  0.93587174 ...,  0.93587174  0.96793587  1.        ]\n",
        " [-0.83522727  0.93048571  2.1731816  ..., -0.37230681 -0.68088864\n",
        "  -0.06258762]]\n"
       ]
      }
     ],
     "prompt_number": 8
    },
    {
     "cell_type": "code",
     "collapsed": false,
     "input": [
      "plot_signals(S2,showAxes=True)"
     ],
     "language": "python",
     "metadata": {},
     "outputs": [
      {
       "metadata": {},
       "output_type": "display_data",
       "png": "[encoded data removed]",
       "text": [
        "<matplotlib.figure.Figure at 0x2f779d0>"
       ]
      }
     ],
     "prompt_number": 9
    },
    {
     "cell_type": "code",
     "collapsed": false,
     "input": [
      "plot_signals(S,showAxes=True)"
     ],
     "language": "python",
     "metadata": {},
     "outputs": [
      {
       "metadata": {},
       "output_type": "display_data",
       "png": "[encoded data removed]",
       "text": [
        "<matplotlib.figure.Figure at 0x2ed7fd0>"
       ]
      }
     ],
     "prompt_number": 10
    },
    {
     "cell_type": "code",
     "collapsed": false,
     "input": [
      "print random_nonsingular_matrix(d=4)\n"
     ],
     "language": "python",
     "metadata": {},
     "outputs": [
      {
       "output_type": "stream",
       "stream": "stdout",
       "text": [
        "[[ 0.0211929   0.72010358  0.6061454   0.98052732]\n",
        " [ 0.62257366  0.68751996  0.80765911  0.00944951]\n",
        " [ 0.79324627  0.73682011  0.71377714  0.69652584]\n",
        " [ 0.71060187  0.90875863  0.62867091  0.57381383]]\n"
       ]
      }
     ],
     "prompt_number": 11
    },
    {
     "cell_type": "code",
     "collapsed": false,
     "input": [
      "B =np.array([[1,2,3,4],[5,3,6,7]])\n",
      "print B\n",
      "print B.shape\n",
      "print B.T\n",
      "B = B.T\n",
      "A = np.array([[1,2,3],[4,5,6],[7,8,9],[10,11,12]]).T\n",
      "print \"A = %s \" % A\n",
      "print \"B = %s\" % B\n",
      "\n",
      "print \"A x B: %s\" % np.dot(A,B)"
     ],
     "language": "python",
     "metadata": {},
     "outputs": [
      {
       "output_type": "stream",
       "stream": "stdout",
       "text": [
        "[[1 2 3 4]\n",
        " [5 3 6 7]]\n",
        "(2, 4)\n",
        "[[1 5]\n",
        " [2 3]\n",
        " [3 6]\n",
        " [4 7]]\n",
        "A = [[ 1  4  7 10]\n",
        " [ 2  5  8 11]\n",
        " [ 3  6  9 12]] \n",
        "B = [[1 5]\n",
        " [2 3]\n",
        " [3 6]\n",
        " [4 7]]\n",
        "A x B: [[ 70 129]\n",
        " [ 80 150]\n",
        " [ 90 171]]\n"
       ]
      }
     ],
     "prompt_number": 12
    },
    {
     "cell_type": "code",
     "collapsed": false,
     "input": [
      "def make_mixtures(S, A):\n",
      "    X = np.dot(A,S)\n",
      "    return X\n",
      "\n",
      "\n",
      " \n",
      "\n",
      "Mnr = Snr = S.shape[0]\n",
      "Tnr = S.shape[1]\n",
      "\n",
      "\n",
      "\n",
      "A = random_nonsingular_matrix(Snr)\n",
      "\n",
      "X = make_mixtures(S,A)\n",
      "\n",
      "plot_signals( X)"
     ],
     "language": "python",
     "metadata": {},
     "outputs": [
      {
       "metadata": {},
       "output_type": "display_data",
       "png": "[encoded data removed]",
       "text": [
        "<matplotlib.figure.Figure at 0x2fa3e90>"
       ]
      }
     ],
     "prompt_number": 13
    },
    {
     "cell_type": "code",
     "collapsed": false,
     "input": [
      "# prints a histogram for each row of X\n",
      "def plot_histograms(X, nrBins=10,showAxes=False):\n",
      "    nrRows = X.shape[0]\n",
      "    nrColumns = X.shape[1]\n",
      "    if nrBins > nrColumns:\n",
      "        raise Exception(\"nr bins > nr columns of matrix X\")\n",
      "    figure()\n",
      "    for i in range(nrRows):\n",
      "        #print X[i,:]\n",
      "        hist, bin_edges = histogram(X[i,:],nrBins)\n",
      "        #print hist\n",
      "        #print bin_edges\n",
      "        lowest = bin_edges[:1][0]\n",
      "        highest =  bin_edges[-1:][0]\n",
      "        interval = (highest-lowest)/float(nrBins)\n",
      "        #print interval\n",
      "        ax = plt.subplot(nrRows, 1, i + 1)\n",
      "        bar(bin_edges[:-1],hist, width=interval)\n",
      "        if not showAxes:\n",
      "            ax.set_xticks([])\n",
      "            ax.set_yticks([])\n",
      "            \n",
      "print \"S:\"\n",
      "plot_histograms(S,nrBins=50,showAxes=False)\n",
      "\n",
      "print \"X:\"\n",
      "plot_histograms(X,nrBins=50,showAxes=False)\n"
     ],
     "language": "python",
     "metadata": {},
     "outputs": [
      {
       "output_type": "stream",
       "stream": "stdout",
       "text": [
        "S:\n",
        "X:"
       ]
      },
      {
       "output_type": "stream",
       "stream": "stdout",
       "text": [
        "\n"
       ]
      },
      {
       "metadata": {},
       "output_type": "display_data",
       "png": "[encoded data removed]",
       "text": [
        "<matplotlib.figure.Figure at 0x3332090>"
       ]
      },
      {
       "metadata": {},
       "output_type": "display_data",
       "png": "[encoded data removed]",
       "text": [
        "<matplotlib.figure.Figure at 0x2ee6250>"
       ]
      }
     ],
     "prompt_number": 14
    },
    {
     "cell_type": "code",
     "collapsed": false,
     "input": [
      "act0 = lambda x : -tanh(x)\n",
      "sourceDistr0 = lambda x : math.exp ( - math.log( cosh(x)))\n",
      "\n",
      "act1 = lambda x : -x + tanh(x)\n",
      "sourceDistr1 = lambda x : math.exp(  -( math.pow(x,2) / float(2) ) + math.log(cosh(x)) )\n",
      "\n",
      "act2 = lambda x : (-1)*(x**3)\n",
      "sourceDistr2 = lambda x : math.exp( -((math.pow(x,4))/float(4)))\n",
      "\n",
      "act3 = lambda x : -((6*x)/((math.pow(x,2))+5))\n",
      "sourceDistr3 = lambda x : float(1)/(math.pow(math.pow(x,2)+5,3))\n",
      "\n",
      "actFunctions = [act0, act1, act2, act3]\n",
      "sourceDistrFunctions = [sourceDistr0, sourceDistr1, sourceDistr2, sourceDistr3]\n",
      "\n",
      "actT = linspace(-4,4,500)\n",
      "#actM = [x for x in     \n",
      "\n",
      "actMl = []\n",
      "sourceDistrMl = []\n",
      "for i in range (0, len(actFunctions)):\n",
      "    actMl.append(map (actFunctions[i], actT))\n",
      "    sourceDistrMl.append(map (sourceDistrFunctions[i], actT))\n",
      "\n",
      "\n",
      "actM = np.array(actMl)\n",
      "sourceDistrM = np.array(sourceDistrMl)\n",
      "\n",
      "def plot_signals2(X1,X2, showAxes=False):\n",
      "    \"\"\"\n",
      "    Plot the signals contained in the rows of X.\n",
      "    \"\"\"\n",
      "    figure()\n",
      "    for i in range(X1.shape[0]):\n",
      "        # see http://matplotlib.org/api/pyplot_api.html#matplotlib.pyplot.subplot\n",
      "        # subplot params: numrows, numcols, fignum where fignum ranges from 1 to numrows*numcols.\n",
      "        ax = plt.subplot(X.shape[0], 1, i + 1)\n",
      "        plot(X1[i, :])\n",
      "        plot(X2[i,:])\n",
      "        if not showAxes:\n",
      "            ax.set_xticks([])\n",
      "            ax.set_yticks([])\n",
      "            \n",
      "plot_signals2(actM, sourceDistrM, showAxes=True)\n",
      "\n",
      "plot_signals(actM)\n",
      "\n",
      "plot_signals(sourceDistrM)"
     ],
     "language": "python",
     "metadata": {},
     "outputs": [
      {
       "metadata": {},
       "output_type": "display_data",
       "png": "[encoded data removed]",
       "text": [
        "<matplotlib.figure.Figure at 0x3331050>"
       ]
      },
      {
       "metadata": {},
       "output_type": "display_data",
       "png": "[encoded data removed]",
       "text": [
        "<matplotlib.figure.Figure at 0x2f96d50>"
       ]
      },
      {
       "metadata": {},
       "output_type": "display_data",
       "png": "[encoded data removed]",
       "text": [
        "<matplotlib.figure.Figure at 0x3602a50>"
       ]
      }
     ],
     "prompt_number": 45
    },
    {
     "cell_type": "code",
     "collapsed": false,
     "input": [
      "l = []\n",
      "l.append([1,2,3]) \n",
      "l.append([3,3,6])\n",
      "print l\n",
      "\n",
      "la = np.array(l)\n",
      "print la"
     ],
     "language": "python",
     "metadata": {},
     "outputs": [
      {
       "output_type": "stream",
       "stream": "stdout",
       "text": [
        "[[1, 2, 3], [3, 3, 6]]\n",
        "[[1 2 3]\n",
        " [3 3 6]]\n"
       ]
      }
     ],
     "prompt_number": 16
    },
    {
     "cell_type": "markdown",
     "metadata": {},
     "source": [
      "<blockquote>\n",
      "<p>Example of a <em>blockquote</em>. \n",
      "</p>\n",
      "</blockquote>"
     ]
    },
    {
     "cell_type": "markdown",
     "metadata": {},
     "source": [
      "Example $\\LaTeX$ code: $$e^{x-1}$$ "
     ]
    },
    {
     "cell_type": "markdown",
     "metadata": {},
     "source": [
      "Bla bla  $$ \\sum_{i=1}^{I} x_i $$ \n",
      "\n",
      "<ul>\n",
      "<li>apples</li>\n",
      "<li>oranges</li>\n",
      "<li>pears</li>\n",
      "</ul>\n",
      " \n"
     ]
    },
    {
     "cell_type": "code",
     "collapsed": false,
     "input": [
      "def normalizeZeroMean(X):\n",
      "    mu = np.array([ np.mean(d) for d in np.transpose(X) ])\n",
      "    #X = X - mean(X)\n",
      "    X = X - mu\n",
      "    return X\n",
      "\n",
      "\n",
      "\n",
      "np.set_printoptions(suppress=True)\n",
      "\n",
      "B = X.T\n",
      "\n",
      "#B =np.array([[4,2,.6],[4.2,2.1,.59],[3.9,2.0,.58],[4.3,2.1,.62],[4.1,2.2,.63]])\n",
      "#B=np.array([[ 1,2,4,5 ], [2,2,3,4 ] , [ 3,4,4,3 ], [4,2,4,4 ], [5,2,4,2]])\n",
      "\n",
      "#print B\n",
      "B = normalizeZeroMean(B)\n",
      "#print mean(B)  \n",
      "#print \"B (normalized):\\n%s\" % B\n",
      "\n",
      "covB = cov(B.T)\n",
      "#covB = normalizeZeroMean(covB)\n",
      "#print \"covB: %s\" % covB \n",
      "\n",
      "print mean(B[:,1])"
     ],
     "language": "python",
     "metadata": {},
     "outputs": [
      {
       "output_type": "stream",
       "stream": "stdout",
       "text": [
        "8.61533067109e-17\n"
       ]
      }
     ],
     "prompt_number": 17
    },
    {
     "cell_type": "code",
     "collapsed": false,
     "input": [
      "\n",
      "print \"=== the above is correct ===\"\n",
      "# see http://www.itl.nist.gov/div898/handbook/pmc/section5/pmc541.htm\n",
      "print \"=== now do eigen decomposition thing ===\"\n",
      "\n",
      "eigenvalues, eigenVectors = eigh(covB)\n",
      "#eigenvalues, eigenVectors = np.linalg.eig(covB)\n",
      "\n",
      "print \"eigenvalues: %s\" % eigenvalues\n",
      "print \"eigenVectors: %s\" % eigenVectors\n",
      "\n",
      "print \"=== should be equal: ===\"\n",
      "dEv = np.dot(np.dot(eigenVectors.T, covB), eigenVectors)\n",
      "print \"dEv:\\n%s\" % dEv\n",
      "\n",
      "dEv2 = np.diag(eigenvalues)\n",
      "print \"dEv2 (eigenvalue-diag-matrix):\\n%s\" % dEv2\n",
      "print \"======\"\n",
      "\n",
      "print \"sum(dEv - dEv2): %s\" % sum(dEv - dEv2)\n",
      "\n",
      "print \"== should be equal: ===\"\n",
      "print \"covB * eigenVectorMatrix:\\n%s\" %  (np.dot(covB, eigenVectors))\n",
      "\n",
      "print \"eigenvectorMatrix * eigenvalue-diag-matrix:\\n%s\" % (np.dot(eigenVectors , dEv2))\n",
      "\n",
      "print \"======\"\n",
      "\n",
      "\n",
      "#print \"eigenVectors.T:\\n%s\" % eigenVectors.T"
     ],
     "language": "python",
     "metadata": {},
     "outputs": [
      {
       "output_type": "stream",
       "stream": "stdout",
       "text": [
        "=== the above is correct ===\n",
        "=== now do eigen decomposition thing ===\n",
        "eigenvalues: [ 0.05481339  0.0738138   0.08952118  0.35216543  4.06917175]\n",
        "eigenVectors: [[ 0.21888061  0.69675734 -0.52234339  0.15473487 -0.4121104 ]\n",
        " [ 0.03256188  0.20173087  0.78011345  0.24177998 -0.53963861]\n",
        " [-0.55550709 -0.40917825 -0.3088375   0.51739833 -0.40112767]\n",
        " [-0.60009137  0.18053085  0.00285671 -0.72377075 -0.28887143]\n",
        " [ 0.53135038 -0.52327396 -0.15228795 -0.35504146 -0.54277535]]"
       ]
      },
      {
       "output_type": "stream",
       "stream": "stdout",
       "text": [
        "\n",
        "=== should be equal: ===\n",
        "dEv:\n",
        "[[ 0.05481339 -0.          0.         -0.         -0.        ]\n",
        " [ 0.          0.0738138  -0.         -0.          0.        ]\n",
        " [ 0.         -0.          0.08952118 -0.         -0.        ]\n",
        " [ 0.         -0.         -0.          0.35216543  0.        ]\n",
        " [ 0.          0.         -0.         -0.          4.06917175]]\n",
        "dEv2 (eigenvalue-diag-matrix):\n",
        "[[ 0.05481339  0.          0.          0.          0.        ]\n",
        " [ 0.          0.0738138   0.          0.          0.        ]\n",
        " [ 0.          0.          0.08952118  0.          0.        ]\n",
        " [ 0.          0.          0.          0.35216543  0.        ]\n",
        " [ 0.          0.          0.          0.          4.06917175]]\n",
        "======\n",
        "sum(dEv - dEv2): -2.04523897818e-15\n",
        "== should be equal: ===\n",
        "covB * eigenVectorMatrix:\n",
        "[[ 0.01199759  0.05143031 -0.0467608   0.05449227 -1.67694801]\n",
        " [ 0.00178483  0.01489052  0.06983668  0.08514655 -2.19588218]\n",
        " [-0.03044922 -0.030203   -0.0276475   0.1822098  -1.63225737]\n",
        " [-0.03289304  0.01332567  0.00025574 -0.25488703 -1.17546747]\n",
        " [ 0.02912511 -0.03862484 -0.013633   -0.12503333 -2.20864612]]\n",
        "eigenvectorMatrix * eigenvalue-diag-matrix:\n",
        "[[ 0.01199759  0.05143031 -0.0467608   0.05449227 -1.67694801]\n",
        " [ 0.00178483  0.01489052  0.06983668  0.08514655 -2.19588218]\n",
        " [-0.03044922 -0.030203   -0.0276475   0.1822098  -1.63225737]\n",
        " [-0.03289304  0.01332567  0.00025574 -0.25488703 -1.17546747]\n",
        " [ 0.02912511 -0.03862484 -0.013633   -0.12503333 -2.20864612]]\n",
        "======\n"
       ]
      }
     ],
     "prompt_number": 18
    },
    {
     "cell_type": "code",
     "collapsed": false,
     "input": [
      "\n",
      "\n",
      "\"\"\"\n",
      "print B[0,:]\n",
      "y0 = dot(eigenVectors.T,B[0,:].T)\n",
      "y1 = dot(eigenVectors.T,B[1,:].T)\n",
      "y2 = dot(eigenVectors.T,B[2,:].T)\n",
      "y3 = dot(eigenVectors.T,B[3,:].T)\n",
      "y4 = dot(eigenVectors.T,B[4,:].T)\n",
      "print y0\n",
      "print y1\n",
      "print y2\n",
      "print y3\n",
      "print y4\n",
      "Y = np.array([y0,y1,y2,y3,y4])\n",
      "print Y\n",
      "\"\"\"\n",
      "# RULE:\n",
      "# stacking rows of Y2: X * (row of y).T ==> Y2\n",
      "# equals\n",
      "# X * Y.T ==> Y2\n",
      "Y = np.dot(eigenVectors.T, B.T)\n",
      "print \"Y:\\n%s\" % Y.T\n",
      "Y = Y.T\n",
      "\n",
      "yCov =  np.cov(Y.T)\n",
      "print \"yCov (should be equal to  dEv, dEv2, (eigenVectorMatrx.T * covB * eigenVectorMatrix) :\\n%s\" % yCov\n",
      "imshow(log(abs(yCov)), cmap='gray', interpolation='nearest')\n",
      "\n",
      "show()\n"
     ],
     "language": "python",
     "metadata": {},
     "outputs": [
      {
       "output_type": "stream",
       "stream": "stdout",
       "text": [
        "Y:\n",
        "[[ 0.15419828 -0.09389697 -0.58099099  0.51717106  0.88263147]\n",
        " [ 0.12689127  0.0827072  -0.58012252 -0.2015071  -1.4974471 ]\n",
        " [ 0.10244944  0.20856302 -0.57829969 -0.70543182 -3.17801471]\n",
        " ..., \n",
        " [ 0.01512784  0.13739264 -0.69908852  0.79166808 -0.59109508]\n",
        " [ 0.01921004  0.09577316 -0.7119162   0.91397213 -0.21415552]\n",
        " [ 0.09531167 -0.09556418 -0.31134374  1.02281464 -3.18557435]]\n",
        "yCov (should be equal to  dEv, dEv2, (eigenVectorMatrx.T * covB * eigenVectorMatrix) :\n",
        "[[ 0.05481339  0.          0.         -0.         -0.        ]\n",
        " [ 0.          0.0738138  -0.         -0.          0.        ]\n",
        " [ 0.         -0.          0.08952118 -0.         -0.        ]\n",
        " [-0.         -0.         -0.          0.35216543  0.        ]\n",
        " [-0.          0.         -0.          0.          4.06917175]]\n"
       ]
      },
      {
       "metadata": {},
       "output_type": "display_data",
       "png": "[encoded data removed]",
       "text": [
        "<matplotlib.figure.Figure at 0x2f19dd0>"
       ]
      }
     ],
     "prompt_number": 19
    },
    {
     "cell_type": "code",
     "collapsed": false,
     "input": [
      "dEv3 = np.diag(1./sqrt(eigenvalues+0.0001))\n",
      "\n",
      "print \"dEv3:\\n%s\" % dEv3\n",
      "\n",
      "Y2 = np.dot(np.dot(dEv3,eigenVectors.T), B.T)\n",
      "print \"Y2:\\n%s\" % Y2.T\n",
      "#Y2 = Y2.T\n",
      "\n",
      "y2Cov =  np.cov(Y2)\n",
      "print \"y2Cov:\\n%s\" % y2Cov\n",
      "ax2 = imshow(log(abs(y2Cov)), cmap='gray', interpolation='nearest')\n",
      "\n",
      "show()\n"
     ],
     "language": "python",
     "metadata": {},
     "outputs": [
      {
       "output_type": "stream",
       "stream": "stdout",
       "text": [
        "dEv3:\n",
        "[[ 4.26737574  0.          0.          0.          0.        ]\n",
        " [ 0.          3.67821607  0.          0.          0.        ]\n",
        " [ 0.          0.          3.3403707   0.          0.        ]\n",
        " [ 0.          0.          0.          1.68486454  0.        ]\n",
        " [ 0.          0.          0.          0.          0.49572595]]\n",
        "Y2:\n",
        "[[ 0.65802201 -0.34537336 -1.94072527  0.87136318  0.43754332]\n",
        " [ 0.54149271  0.30421496 -1.93782427 -0.33951216 -0.74232339]\n",
        " [ 0.43719026  0.76713986 -1.93173532 -1.18855706 -1.57542436]\n",
        " ..., \n",
        " [ 0.06455617  0.50535983 -2.33521482  1.33385347 -0.29302117]\n",
        " [ 0.08197647  0.35227439 -2.378064    1.53991924 -0.10616245]\n",
        " [ 0.40673069 -0.3515057  -1.0400035   1.72330412 -1.57917187]]\n",
        "y2Cov:\n",
        "[[ 0.99817895  0.          0.         -0.         -0.        ]\n",
        " [ 0.          0.99864707 -0.         -0.          0.        ]\n",
        " [ 0.         -0.          0.99888419 -0.         -0.        ]\n",
        " [-0.         -0.         -0.          0.99971612  0.        ]\n",
        " [-0.          0.         -0.          0.          0.99997543]]\n"
       ]
      },
      {
       "metadata": {},
       "output_type": "display_data",
       "png": "[encoded data removed]",
       "text": [
        "<matplotlib.figure.Figure at 0x5344710>"
       ]
      }
     ],
     "prompt_number": 20
    },
    {
     "cell_type": "code",
     "collapsed": false,
     "input": [
      "print X.shape\n",
      "print Y2.shape\n",
      "\n",
      "Xwhitened = Y2\n",
      "\n",
      "np.zeros((5,5))"
     ],
     "language": "python",
     "metadata": {},
     "outputs": [
      {
       "output_type": "stream",
       "stream": "stdout",
       "text": [
        "(5, 500)\n",
        "(5, 500)\n"
       ]
      },
      {
       "metadata": {},
       "output_type": "pyout",
       "prompt_number": 21,
       "text": [
        "array([[ 0.,  0.,  0.,  0.,  0.],\n",
        "       [ 0.,  0.,  0.,  0.,  0.],\n",
        "       [ 0.,  0.,  0.,  0.,  0.],\n",
        "       [ 0.,  0.,  0.,  0.,  0.],\n",
        "       [ 0.,  0.,  0.,  0.,  0.]])"
       ]
      }
     ],
     "prompt_number": 21
    },
    {
     "cell_type": "code",
     "collapsed": false,
     "input": [
      "# McKay approach w/o covariant\n",
      "\n",
      "\n",
      "def ICA_McKay_noCovariant(Xh, activation_function, learningRate, maxIterations):\n",
      "    \n",
      "    epsilon = 0.000000001 # stop criterion\n",
      "   \n",
      "    W =  random_nonsingular_matrix(num_sources)\n",
      "\n",
      "    deltaW = W*1000\n",
      "\n",
      "    iteration = 0\n",
      "    \n",
      "    Z = 0\n",
      "\n",
      "    while mean(abs(deltaW)) > epsilon and iteration < maxIterations:\n",
      "        #print \"mean(abs(deltaW)): %2.8f\" % mean(abs(deltaW))\n",
      "        \n",
      "        # multiply by column!\n",
      "        #\n",
      "        # [X * column1(W); X*column2(W)]\n",
      "        # equals\n",
      "        # X * W\n",
      "        A = np.dot(W,Xh)\n",
      "        \n",
      "        #print \"A dimensions: %d,%d\" % A.shape\n",
      "        \n",
      "        Z =  np.array(map(activation_function, A))\n",
      "        \n",
      "        #print \"Z dimensions: %d,%d\" % Z.shape\n",
      "\n",
      "        #Xprime = dot(W.T, A) # possibly wrong\n",
      "        \n",
      "        nrCols = X.shape[1]\n",
      "        \n",
      "        deltaW = np.zeros((num_sources,num_sources))\n",
      "        for i in range(0,nrCols):\n",
      "            \n",
      "            #print \"shape colums z %d %d\" % (np.array([Z[:,i]])).shape\n",
      "            #print \"shape colums z %d %d\" % np.array([Xprime[:,i]]).shape\n",
      "            \n",
      "            gradPerTime =  np.dot(np.array([Z[:,i]]).T, np.array([Xh[:,i]]))\n",
      "            #print \"gradPerTime %d:\\n%s\" % (i, gradPerTime )\n",
      "            deltaW += gradPerTime\n",
      "        \n",
      "        deltaW = deltaW + linalg.inv(W.T)\n",
      "        #print \"deltaW sum:\\n%s\" % deltaW\n",
      "        deltaW = deltaW / nrCols        \n",
      "        #print \"deltaW avg.:\\n%s\" % deltaW\n",
      "        \n",
      "        oldW = copy.deepcopy(W)\n",
      "        #print \"old W: \\n%s\" % oldW\n",
      "        W = W + (learningRate * ( deltaW))\n",
      "        #print \"new W: \\n%s\" % W\n",
      "        \n",
      "        #print \"old W:\\n%s\" % oldW\n",
      "        #print \"new W:\\n%s\" % W\n",
      "        #print \"diff:\\n%s\" % (oldW - W)\n",
      "        #print \"(learningRate * deltaW):\\n%s\" % (learningRate * deltaW)\n",
      "        \n",
      "        \n",
      "        \n",
      "        iteration += 1\n",
      "        if iteration % 100 == 0:\n",
      "            print \"iteration:%d\" % iteration\n",
      "            print \"mean(abs(deltaW)): %2.8f\" % mean(abs(deltaW))\n",
      "            #Sapprox = dot(W,X)  \n",
      "            #time.sleep(1)\n",
      "            #plot_signals(Sapprox)\n",
      "            #plt.pause(1)\n",
      "            #pyplot.draw()\n",
      "\n",
      "    Sapprox = dot(W,Xh)  \n",
      "    #print Z\n",
      "    return Sapprox\n",
      "    \n",
      "    \n",
      "\n",
      "\n"
     ],
     "language": "python",
     "metadata": {},
     "outputs": [],
     "prompt_number": 70
    },
    {
     "cell_type": "code",
     "collapsed": false,
     "input": [
      "### McKay approach with covariant\n",
      "def ICA_McKay_covariant(X, activation_function, learningRate, maxIterations=10000,epsilon = 0.0001):    \n",
      "    \n",
      "    W =  random_nonsingular_matrix(num_sources)\n",
      "\n",
      "    deltaW = W*sys.maxint    \n",
      "    \n",
      "    nrInstances = X.shape[1]\n",
      "\n",
      "    iteration = 0\n",
      "    while mean(abs(deltaW)) > epsilon and iteration < maxIterations:       \n",
      "        \n",
      "        ## A <-- current source approximation\n",
      "        # multiply by column!\n",
      "        #\n",
      "        # [X * column1(W); X*column2(W)]\n",
      "        # equals\n",
      "        # X * W\n",
      "        A = np.dot(W,X)\n",
      "        \n",
      "        ## Z <-- map activation function on A\n",
      "        Z =  np.array(map(activation_function, A))       \n",
      "\n",
      "        ## Xprime <-- map activation function on A\n",
      "        Xprime = dot(W.T, A) \n",
      "        \n",
      "        ## take the average of the gradient update rule for all column \n",
      "        ## vectors of X\n",
      "        #\n",
      "        # dot(Z,Xprime.T) = get A back through W for maintaining covariance \n",
      "        averageGradient = W + (dot(Z,Xprime.T) / nrInstances)            \n",
      "                \n",
      "        ## update W\n",
      "        deltaW = learningRate * averageGradient\n",
      "        W = W + deltaW\n",
      "       \n",
      "        \n",
      "        \n",
      "        iteration += 1\n",
      "        if iteration % 1000 == 0:\n",
      "            print \"Iteration: %d\" % iteration\n",
      "\n",
      "    output = \"Stopped at iteration %d\" % iteration\n",
      "    if iteration >= maxIterations:\n",
      "        output += \" because max nr. of iterations (%d) exceeded.\" %  maxIterations\n",
      "    else:\n",
      "        output += \" because mean(abs(deltaW)) >= epsilon (%2.8f)\" % epsilon\n",
      "    print output\n",
      "    \n",
      "    Sapprox = dot(W,X)  \n",
      "\n",
      "    return Sapprox\n",
      "    \n",
      "    "
     ],
     "language": "python",
     "metadata": {},
     "outputs": [],
     "prompt_number": 71
    },
    {
     "cell_type": "code",
     "collapsed": false,
     "input": [
      "def ICA_lecture_old(X, activation_function, learningRate, maxIterations):\n",
      "    epsilon = 0.00000001 # stop criterion\n",
      "\n",
      "    W =  random_nonsingular_matrix(num_sources)\n",
      "\n",
      "    deltaW = W*1000\n",
      "\n",
      "    iteration = 0\n",
      "    \n",
      "    Z = 0\n",
      "    \n",
      "    nrColsW = W.shape[1]\n",
      "    nrRowsW = W.shape[0]\n",
      "    \n",
      "    numDatapoints = X.shape[1]\n",
      "    \n",
      "    while mean(abs(deltaW)) > epsilon and iteration < maxIterations:\n",
      "        deltaW = zeros((nrRowsW, nrColsW))\n",
      "        for i in range(0, nrRowsW):\n",
      "            for j in range(0, nrColsW):\n",
      "                sumDatapoints = 0\n",
      "                for n in range(0, numDatapoints):\n",
      "                    sumDatapoints += activation_function(dot(W[i,:].T, X[:,n])) *  X[j,n]\n",
      "                \n",
      "                \n",
      "                avgDatapoints = (1/float(numDatapoints)) * (sumDatapoints)\n",
      "                deltaW[i,j] = avgDatapoints \n",
      "                \n",
      "                \n",
      "                WTinv = linalg.inv(W.T)\n",
      "                deltaW[i,j] += WTinv[i,j]\n",
      "                \n",
      "                \n",
      "                \n",
      "        W = W + (learningRate * deltaW * W) #dot(W.T, W) )\n",
      "        \n",
      "        iteration += 1\n",
      "        if iteration % 100 == 0:\n",
      "            print \"iteration:%d\" % iteration\n",
      "            print \"mean(abs(deltaW)): %2.8f\" % mean(abs(deltaW))\n",
      "            \n",
      "    return dot(W, X)\n",
      "\n"
     ],
     "language": "python",
     "metadata": {},
     "outputs": [],
     "prompt_number": 72
    },
    {
     "cell_type": "code",
     "collapsed": false,
     "input": [
      "def ICA_lecture(X, activation_function, learningRate,  maxIterations=10000,epsilon = 0.0001):\n",
      "    epsilon = 0.0000001 # stop criterion\n",
      "\n",
      "    W =  random_nonsingular_matrix(num_sources)\n",
      "\n",
      "    deltaW = W*1000\n",
      "\n",
      "    iteration = 0\n",
      "    \n",
      "    Z = 0\n",
      "    \n",
      "    nrColsW = W.shape[1]\n",
      "    nrRowsW = W.shape[0]\n",
      "    \n",
      "    numDatapoints = X.shape[1]\n",
      "    \n",
      "    while mean(abs(deltaW)) > epsilon and iteration < maxIterations:\n",
      "        deltaW = zeros((nrRowsW, nrColsW))\n",
      "        \n",
      "        prodSum = zeros((num_sources, num_sources))\n",
      "        \n",
      "        for i in range(0, numDatapoints):\n",
      "            xColumn = np.array([X[:,i]]).T\n",
      "            \n",
      "            sApprox = dot(W,xColumn)\n",
      "            #print sApprox.shape\n",
      "            \n",
      "            sApproxAct = map(activation_function, sApprox)\n",
      "            \n",
      "            prod = dot(sApproxAct, sApprox.T)\n",
      "            \n",
      "            #print prod.shape\n",
      "            \n",
      "        \n",
      "            prodSum += prod\n",
      "        \n",
      "        \n",
      "        deltaW = (dot( (identity(num_sources) + prodSum), W)/ float(numDatapoints)) + W\n",
      "        \n",
      "        #print deltaW.shape\n",
      "        \n",
      "        W = W + learningRate * deltaW\n",
      "        \n",
      "        \n",
      "            \n",
      "        iteration += 1\n",
      "        if iteration % 100 == 0:\n",
      "            print \"iteration:%d\" % iteration\n",
      "            print \"mean(abs(deltaW)): %2.8f\" % mean(abs(deltaW))\n",
      "            \n",
      "    return dot(W, X)\n"
     ],
     "language": "python",
     "metadata": {},
     "outputs": [],
     "prompt_number": 79
    },
    {
     "cell_type": "code",
     "collapsed": false,
     "input": [
      "#Sapprox = ICA_McKay_noCovariant(Xwhitened, actFunctions[1], 0.001, 3000)\n",
      "#Sapprox = ICA_McKay_covariant(Xwhitened, actFunctions[2], 0.02, maxIterations=20000,epsilon = 0.0000001)\n",
      "Sapprox = ICA_lecture_old(Xwhitened,actFunctions[0], 0.0001, 1000)\n",
      "#Sapprox = ICA_lecture(Xwhitened,actFunctions[0], 0.000001, 1000)\n",
      "\n",
      "\n",
      "plot_signals(Sapprox)\n"
     ],
     "language": "python",
     "metadata": {},
     "outputs": [
      {
       "output_type": "stream",
       "stream": "stdout",
       "text": [
        "iteration:100\n",
        "mean(abs(deltaW)): 1.06978553\n",
        "iteration:200"
       ]
      },
      {
       "output_type": "stream",
       "stream": "stdout",
       "text": [
        "\n",
        "mean(abs(deltaW)): 0.92658772\n",
        "iteration:300"
       ]
      },
      {
       "output_type": "stream",
       "stream": "stdout",
       "text": [
        "\n",
        "mean(abs(deltaW)): 0.83473925\n",
        "iteration:400"
       ]
      },
      {
       "output_type": "stream",
       "stream": "stdout",
       "text": [
        "\n",
        "mean(abs(deltaW)): 0.77161907\n",
        "iteration:500"
       ]
      },
      {
       "output_type": "stream",
       "stream": "stdout",
       "text": [
        "\n",
        "mean(abs(deltaW)): 0.72589663\n",
        "iteration:600"
       ]
      },
      {
       "output_type": "stream",
       "stream": "stdout",
       "text": [
        "\n",
        "mean(abs(deltaW)): 0.68927376\n",
        "iteration:700"
       ]
      },
      {
       "output_type": "stream",
       "stream": "stdout",
       "text": [
        "\n",
        "mean(abs(deltaW)): 0.65900453\n",
        "iteration:800"
       ]
      },
      {
       "output_type": "stream",
       "stream": "stdout",
       "text": [
        "\n",
        "mean(abs(deltaW)): 0.63337845\n",
        "iteration:900"
       ]
      },
      {
       "output_type": "stream",
       "stream": "stdout",
       "text": [
        "\n",
        "mean(abs(deltaW)): 0.61126740\n",
        "iteration:1000"
       ]
      },
      {
       "output_type": "stream",
       "stream": "stdout",
       "text": [
        "\n",
        "mean(abs(deltaW)): 0.59189338\n"
       ]
      },
      {
       "metadata": {},
       "output_type": "display_data",
       "png": "[encoded data removed]",
       "text": [
        "<matplotlib.figure.Figure at 0x3363090>"
       ]
      }
     ],
     "prompt_number": 103
    },
    {
     "cell_type": "code",
     "collapsed": false,
     "input": [],
     "language": "python",
     "metadata": {},
     "outputs": []
    },
    {
     "cell_type": "code",
     "collapsed": false,
     "input": [],
     "language": "python",
     "metadata": {},
     "outputs": []
    },
    {
     "cell_type": "code",
     "collapsed": false,
     "input": [],
     "language": "python",
     "metadata": {},
     "outputs": []
    },
    {
     "cell_type": "code",
     "collapsed": false,
     "input": [],
     "language": "python",
     "metadata": {},
     "outputs": []
    },
    {
     "cell_type": "code",
     "collapsed": false,
     "input": [],
     "language": "python",
     "metadata": {},
     "outputs": []
    },
    {
     "cell_type": "code",
     "collapsed": false,
     "input": [],
     "language": "python",
     "metadata": {},
     "outputs": []
    }
   ],
   "metadata": {}
  }
 ]
}