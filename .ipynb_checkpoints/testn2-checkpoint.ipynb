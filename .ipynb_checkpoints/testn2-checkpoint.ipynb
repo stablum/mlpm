{
 "metadata": {
  "name": ""
 },
 "nbformat": 3,
 "nbformat_minor": 0,
 "worksheets": [
  {
   "cells": [
    {
     "cell_type": "markdown",
     "metadata": {},
     "source": [
      "<h1 id=\"heading-1\">Report</h1>"
     ]
    },
    {
     "cell_type": "markdown",
     "metadata": {},
     "source": [
      "<h2>Imported functions</h2>"
     ]
    },
    {
     "cell_type": "code",
     "collapsed": false,
     "input": [
      "%pylab inline\n",
      "\n",
      "# Signal generators\n",
      "def sawtooth(x, period=0.2, amp=1.0, phase=0.):\n",
      "    return (((x / period - phase - 0.5) % 1) - 0.5) * 2 * amp\n",
      "\n",
      "def sine_wave(x, period=0.2, amp=1.0, phase=0.):\n",
      "    return np.sin((x / period - phase) * 2 * np.pi) * amp\n",
      "\n",
      "def square_wave(x, period=0.2, amp=1.0, phase=0.):\n",
      "    return ((np.floor(2 * x / period - 2 * phase - 1) % 2 == 0).astype(float) - 0.5) * 2 * amp\n",
      "\n",
      "def triangle_wave(x, period=0.2, amp=1.0, phase=0.):\n",
      "    return (sawtooth(x, period, 1., phase) * square_wave(x, period, 1., phase) + 0.5) * 2 * amp\n",
      "\n",
      "def random_nonsingular_matrix(d=2):\n",
      "    \"\"\"\n",
      "    Generates a random nonsingular (invertible) matrix of shape d*d\n",
      "    \"\"\"\n",
      "    epsilon = 0.1\n",
      "    A = np.random.rand(d, d)\n",
      "    while abs(np.linalg.det(A)) < epsilon:\n",
      "        A = np.random.rand(d, d)\n",
      "    return A\n",
      "\n",
      "def plot_signals(X, showAxes=False):\n",
      "    \"\"\"\n",
      "    Plot the signals contained in the rows of X.\n",
      "    \"\"\"\n",
      "    figure()\n",
      "    for i in range(X.shape[0]):\n",
      "        # see http://matplotlib.org/api/pyplot_api.html#matplotlib.pyplot.subplot\n",
      "        # subplot params: numrows, numcols, fignum where fignum ranges from 1 to numrows*numcols.\n",
      "        ax = plt.subplot(X.shape[0], 1, i + 1)\n",
      "        plot(X[i, :])\n",
      "        if not showAxes:\n",
      "            ax.set_xticks([])\n",
      "            ax.set_yticks([])"
     ],
     "language": "python",
     "metadata": {},
     "outputs": [
      {
       "output_type": "stream",
       "stream": "stdout",
       "text": [
        "Populating the interactive namespace from numpy and matplotlib\n"
       ]
      }
     ],
     "prompt_number": 2
    },
    {
     "cell_type": "code",
     "collapsed": false,
     "input": [
      "sine_wave(np.array([1,2,3]))\n"
     ],
     "language": "python",
     "metadata": {},
     "outputs": [
      {
       "metadata": {},
       "output_type": "pyout",
       "prompt_number": 3,
       "text": [
        "array([ -1.22464680e-15,  -2.44929360e-15,  -1.07793678e-14])"
       ]
      }
     ],
     "prompt_number": 3
    },
    {
     "cell_type": "code",
     "collapsed": false,
     "input": [
      "num_sources = 5\n",
      "signal_length = 500\n",
      "t = linspace(0, 1, signal_length)\n",
      "# np.c_ Translates slice objects to concatenation along the second axis.\n",
      "S = np.c_[sawtooth(t), sine_wave(t, 0.3), square_wave(t, 0.4), triangle_wave(t, 0.25), np.random.randn(t.size)].T\n"
     ],
     "language": "python",
     "metadata": {},
     "outputs": [],
     "prompt_number": 4
    },
    {
     "cell_type": "code",
     "collapsed": false,
     "input": [
      "print num_sources"
     ],
     "language": "python",
     "metadata": {},
     "outputs": [
      {
       "output_type": "stream",
       "stream": "stdout",
       "text": [
        "5\n"
       ]
      }
     ],
     "prompt_number": 5
    },
    {
     "cell_type": "code",
     "collapsed": false,
     "input": [
      "t2 = linspace(0,2,10)\n",
      "s1 = sawtooth(t2)\n",
      "s2 = sine_wave(t2, 0.3)\n",
      "S2 = np.array([s1, s2])\n",
      "print S2\n",
      "print \"\" \n",
      "print np.c_[s1,s2].T"
     ],
     "language": "python",
     "metadata": {},
     "outputs": [
      {
       "output_type": "stream",
       "stream": "stdout",
       "text": [
        "[[ 0.          0.22222222  0.44444444  0.66666667  0.88888889 -0.88888889\n",
        "  -0.66666667 -0.44444444 -0.22222222  0.        ]\n",
        " [ 0.         -0.99830816  0.11609291  0.98480775 -0.23061587 -0.95798951\n",
        "   0.34202014  0.91821611 -0.44879918 -0.8660254 ]]\n",
        "\n",
        "[[ 0.          0.22222222  0.44444444  0.66666667  0.88888889 -0.88888889\n",
        "  -0.66666667 -0.44444444 -0.22222222  0.        ]\n",
        " [ 0.         -0.99830816  0.11609291  0.98480775 -0.23061587 -0.95798951\n",
        "   0.34202014  0.91821611 -0.44879918 -0.8660254 ]]\n"
       ]
      }
     ],
     "prompt_number": 6
    },
    {
     "cell_type": "code",
     "collapsed": false,
     "input": [
      "print S"
     ],
     "language": "python",
     "metadata": {},
     "outputs": [
      {
       "output_type": "stream",
       "stream": "stdout",
       "text": [
        "[[ 0.          0.02004008  0.04008016 ..., -0.04008016 -0.02004008  0.        ]\n",
        " [ 0.          0.04195952  0.08384514 ...,  0.90489852  0.88624247\n",
        "   0.8660254 ]\n",
        " [-1.         -1.         -1.         ..., -1.         -1.          1.        ]\n",
        " [ 1.          0.96793587  0.93587174 ...,  0.93587174  0.96793587  1.        ]\n",
        " [ 0.55226855 -0.4727102  -0.37536193 ..., -0.58536335  0.34310824\n",
        "  -0.05257777]]\n"
       ]
      }
     ],
     "prompt_number": 7
    },
    {
     "cell_type": "code",
     "collapsed": false,
     "input": [
      "plot_signals(S2,showAxes=True)"
     ],
     "language": "python",
     "metadata": {},
     "outputs": [
      {
       "metadata": {},
       "output_type": "display_data",
       "png": "[encoded data removed]",
       "text": [
        "<matplotlib.figure.Figure at 0x3ba36d0>"
       ]
      }
     ],
     "prompt_number": 8
    },
    {
     "cell_type": "code",
     "collapsed": false,
     "input": [
      "plot_signals(S,showAxes=True)"
     ],
     "language": "python",
     "metadata": {},
     "outputs": [
      {
       "metadata": {},
       "output_type": "display_data",
       "png": "[encoded data removed]",
       "text": [
        "<matplotlib.figure.Figure at 0x3ba3dd0>"
       ]
      }
     ],
     "prompt_number": 9
    },
    {
     "cell_type": "code",
     "collapsed": false,
     "input": [
      "print random_nonsingular_matrix()\n"
     ],
     "language": "python",
     "metadata": {},
     "outputs": [
      {
       "output_type": "stream",
       "stream": "stdout",
       "text": [
        "[[ 0.79183489  0.81880944]\n",
        " [ 0.22173576  0.54557998]]\n"
       ]
      }
     ],
     "prompt_number": 10
    },
    {
     "cell_type": "code",
     "collapsed": false,
     "input": [
      "B =np.array([[1,2,3,4],[5,3,6,7]])\n",
      "print B\n",
      "print B.shape\n",
      "print B.T\n",
      "B = B.T\n",
      "A = np.array([[1,2,3],[4,5,6],[7,8,9],[10,11,12]]).T\n",
      "print \"A = %s \" % A\n",
      "print \"B = %s\" % B\n",
      "\n",
      "print \"A x B: %s\" % np.dot(A,B)"
     ],
     "language": "python",
     "metadata": {},
     "outputs": [
      {
       "output_type": "stream",
       "stream": "stdout",
       "text": [
        "[[1 2 3 4]\n",
        " [5 3 6 7]]\n",
        "(2, 4)\n",
        "[[1 5]\n",
        " [2 3]\n",
        " [3 6]\n",
        " [4 7]]\n",
        "A = [[ 1  4  7 10]\n",
        " [ 2  5  8 11]\n",
        " [ 3  6  9 12]] \n",
        "B = [[1 5]\n",
        " [2 3]\n",
        " [3 6]\n",
        " [4 7]]\n",
        "A x B: [[ 70 129]\n",
        " [ 80 150]\n",
        " [ 90 171]]\n"
       ]
      }
     ],
     "prompt_number": 11
    },
    {
     "cell_type": "code",
     "collapsed": false,
     "input": [
      "def make_mixtures(S, A):\n",
      "    X = np.dot(A,S)\n",
      "    return X\n",
      "\n",
      "\n",
      "\n",
      "\n",
      "Mnr = Snr = S.shape[0]\n",
      "Tnr = S.shape[1]\n",
      "\n",
      "A = random_nonsingular_matrix(Snr)\n",
      "\n",
      "X = make_mixtures(S,A)\n",
      "\n",
      "plot_signals( X)"
     ],
     "language": "python",
     "metadata": {},
     "outputs": [
      {
       "metadata": {},
       "output_type": "display_data",
       "png": "[encoded data removed]",
       "text": [
        "<matplotlib.figure.Figure at 0x3c58310>"
       ]
      }
     ],
     "prompt_number": 12
    },
    {
     "cell_type": "code",
     "collapsed": false,
     "input": [
      "# prints a histogram for each row of X\n",
      "def plot_histograms(X, nrBins=10,showAxes=False):\n",
      "    nrRows = X.shape[0]\n",
      "    nrColumns = X.shape[1]\n",
      "    if nrBins > nrColumns:\n",
      "        raise Exception(\"nr bins > nr columns of matrix X\")\n",
      "    figure()\n",
      "    for i in range(nrRows):\n",
      "        #print X[i,:]\n",
      "        hist, bin_edges = histogram(X[i,:],nrBins)\n",
      "        #print hist\n",
      "        #print bin_edges\n",
      "        lowest = bin_edges[:1][0]\n",
      "        highest =  bin_edges[-1:][0]\n",
      "        interval = (highest-lowest)/float(nrBins)\n",
      "        #print interval\n",
      "        ax = plt.subplot(nrRows, 1, i + 1)\n",
      "        bar(bin_edges[:-1],hist, width=interval)\n",
      "        if not showAxes:\n",
      "            ax.set_xticks([])\n",
      "            ax.set_yticks([])\n",
      "            \n",
      "\n",
      "plot_histograms(X,nrBins=50,showAxes=False)\n"
     ],
     "language": "python",
     "metadata": {},
     "outputs": [
      {
       "metadata": {},
       "output_type": "display_data",
       "png": "[encoded data removed]",
       "text": [
        "<matplotlib.figure.Figure at 0x3bb5ad0>"
       ]
      }
     ],
     "prompt_number": 13
    },
    {
     "cell_type": "code",
     "collapsed": false,
     "input": [
      "act0 = lambda x : -tanh(x)\n",
      "sourceDistr0 = lambda x : math.exp ( - math.log( cosh(x)))\n",
      "\n",
      "act1 = lambda x : -x + tanh(x)\n",
      "sourceDistr1 = lambda x : math.exp(  -( math.pow(x,2) / float(2) ) + math.log(cosh(x)) )\n",
      "\n",
      "act2 = lambda x : (-1)*(math.pow(x,3))\n",
      "sourceDistr2 = lambda x : math.exp( -((math.pow(x,4))/float(4)))\n",
      "\n",
      "act3 = lambda x : -((6*x)/((math.pow(x,2))+5))\n",
      "sourceDistr3 = lambda x : float(1)/(math.pow(math.pow(x,2)+5,3))\n",
      "\n",
      "actFunctions = [act0, act1, act2, act3]\n",
      "sourceDistrFunctions = [sourceDistr0, sourceDistr1, sourceDistr2, sourceDistr3]\n",
      "\n",
      "actT = linspace(-4,4,500)\n",
      "#actM = [x for x in     \n",
      "\n",
      "actMl = []\n",
      "sourceDistrMl = []\n",
      "for i in range (0, len(actFunctions)):\n",
      "    actMl.append(map (actFunctions[i], actT))\n",
      "    sourceDistrMl.append(map (sourceDistrFunctions[i], actT))\n",
      "\n",
      "\n",
      "actM = np.array(actMl)\n",
      "sourceDistrM = np.array(sourceDistrMl)\n",
      "\n",
      "def plot_signals2(X1,X2, showAxes=False):\n",
      "    \"\"\"\n",
      "    Plot the signals contained in the rows of X.\n",
      "    \"\"\"\n",
      "    figure()\n",
      "    for i in range(X1.shape[0]):\n",
      "        # see http://matplotlib.org/api/pyplot_api.html#matplotlib.pyplot.subplot\n",
      "        # subplot params: numrows, numcols, fignum where fignum ranges from 1 to numrows*numcols.\n",
      "        ax = plt.subplot(X.shape[0], 1, i + 1)\n",
      "        plot(X1[i, :])\n",
      "        plot(X2[i,:])\n",
      "        if not showAxes:\n",
      "            ax.set_xticks([])\n",
      "            ax.set_yticks([])\n",
      "            \n",
      "plot_signals2(actM, sourceDistrM, showAxes=True)\n",
      "\n",
      "plot_signals(actM)\n",
      "\n",
      "plot_signals(sourceDistrM)"
     ],
     "language": "python",
     "metadata": {},
     "outputs": [
      {
       "metadata": {},
       "output_type": "display_data",
       "png": "[encoded data removed]",
       "text": [
        "<matplotlib.figure.Figure at 0x3bee150>"
       ]
      },
      {
       "metadata": {},
       "output_type": "display_data",
       "png": "[encoded data removed]",
       "text": [
        "<matplotlib.figure.Figure at 0x3bee7d0>"
       ]
      },
      {
       "metadata": {},
       "output_type": "display_data",
       "png": "[encoded data removed]",
       "text": [
        "<matplotlib.figure.Figure at 0x3bee510>"
       ]
      }
     ],
     "prompt_number": 14
    },
    {
     "cell_type": "code",
     "collapsed": false,
     "input": [
      "l = []\n",
      "l.append([1,2,3]) \n",
      "l.append([3,3,6])\n",
      "print l\n",
      "\n",
      "la = np.array(l)\n",
      "print la"
     ],
     "language": "python",
     "metadata": {},
     "outputs": [
      {
       "output_type": "stream",
       "stream": "stdout",
       "text": [
        "[[1, 2, 3], [3, 3, 6]]\n",
        "[[1 2 3]\n",
        " [3 3 6]]\n"
       ]
      }
     ],
     "prompt_number": 15
    },
    {
     "cell_type": "markdown",
     "metadata": {},
     "source": [
      "<blockquote>\n",
      "<p>Example of a <em>blockquote</em>. \n",
      "</p>\n",
      "</blockquote>"
     ]
    },
    {
     "cell_type": "markdown",
     "metadata": {},
     "source": [
      "Example $\\LaTeX$ code: $$e^{x-1}$$ "
     ]
    },
    {
     "cell_type": "markdown",
     "metadata": {},
     "source": [
      "Bla bla  $$ \\sum_{i=1}^{I} x_i $$ \n",
      "\n",
      "<ul>\n",
      "<li>apples</li>\n",
      "<li>oranges</li>\n",
      "<li>pears</li>\n",
      "</ul>\n",
      " \n"
     ]
    },
    {
     "cell_type": "code",
     "collapsed": false,
     "input": [
      "def normalizeZeroMean(X):\n",
      "    X = X - mean(X)\n",
      "    return X\n",
      "\n",
      "# X = M*T\n",
      "def whiten(X) :\n",
      "    x = normalizeZeroMean(X)\n",
      "    \n",
      "    Xcov = dot(X,X.T)\n",
      "    \n",
      "    pass\n",
      "\n",
      "\n",
      "B =np.array([[1,2,3,4],[5,3,6,7]])\n",
      "\n",
      "print B\n",
      "B = normalizeZeroMean(B)\n",
      "print B  \n",
      "\n",
      "covB = dot(B,B.T)\n",
      "#covB = normalizeZeroMean(covB)\n",
      "print \"covB: %s\" % covB \n",
      "\n",
      "eigenvalues, eigenVectors = eigh(covB)\n",
      "\n",
      "\n",
      "print eigenvalues\n",
      "print eigenVectors\n",
      "\n",
      "dEv = diag(eigenvalues)\n",
      "\n",
      "print \"dEv: %s\" % dEv\n",
      "\n",
      "dEv2 = diag(1./sqrt(eigenvalues))\n",
      "#print dEv2\n",
      "\n",
      "print \"covB * eigenVectorMatrix:\\n%s\" %  (np.dot(covB, eigenVectors))\n",
      "\n",
      "print \"eigenvectorMatrix * eigenvalue-diag-matrix:\\n%s\" % (np.dot(eigenVectors , dEv))\n",
      "\n",
      "w = dot(dEv2,eigenVectors.T)\n",
      "\n",
      "print w\n",
      "\n"
     ],
     "language": "python",
     "metadata": {},
     "outputs": [
      {
       "output_type": "stream",
       "stream": "stdout",
       "text": [
        "[[1 2 3 4]\n",
        " [5 3 6 7]]\n",
        "[[-2.875 -1.875 -0.875  0.125]\n",
        " [ 1.125 -0.875  2.125  3.125]]\n",
        "covB: [[ 12.5625  -3.0625]\n",
        " [ -3.0625  16.3125]]\n",
        "[ 10.84660439  18.02839561]"
       ]
      },
      {
       "output_type": "stream",
       "stream": "stdout",
       "text": [
        "\n",
        "[[-0.87239723 -0.48879758]\n",
        " [-0.48879758  0.87239723]]\n",
        "dEv: [[ 10.84660439   0.        ]\n",
        " [  0.          18.02839561]]\n",
        "covB * eigenVectorMatrix:\n",
        "[[ -9.46254765  -8.81223607]\n",
        " [ -5.30179393  15.72792242]]\n",
        "eigenvectorMatrix * eigenvalue-diag-matrix:\n",
        "[[ -9.46254765  -8.81223607]\n",
        " [ -5.30179393  15.72792242]]\n",
        "[[-0.26489111 -0.14841649]\n",
        " [-0.11511993  0.205464  ]]\n"
       ]
      }
     ],
     "prompt_number": 16
    },
    {
     "cell_type": "code",
     "collapsed": false,
     "input": [
      "print B\n",
      "B + B\n"
     ],
     "language": "python",
     "metadata": {},
     "outputs": [
      {
       "output_type": "stream",
       "stream": "stdout",
       "text": [
        "[[-2.875 -1.875 -0.875  0.125]\n",
        " [ 1.125 -0.875  2.125  3.125]]\n"
       ]
      },
      {
       "metadata": {},
       "output_type": "pyout",
       "prompt_number": 17,
       "text": [
        "array([[-5.75, -3.75, -1.75,  0.25],\n",
        "       [ 2.25, -1.75,  4.25,  6.25]])"
       ]
      }
     ],
     "prompt_number": 17
    },
    {
     "cell_type": "code",
     "collapsed": false,
     "input": [
      "np.dot(B.T,B)"
     ],
     "language": "python",
     "metadata": {},
     "outputs": [
      {
       "metadata": {},
       "output_type": "pyout",
       "prompt_number": 18,
       "text": [
        "array([[ 9.53125,  4.40625,  4.90625,  3.15625],\n",
        "       [ 4.40625,  4.28125, -0.21875, -2.96875],\n",
        "       [ 4.90625, -0.21875,  5.28125,  6.53125],\n",
        "       [ 3.15625, -2.96875,  6.53125,  9.78125]])"
       ]
      }
     ],
     "prompt_number": 18
    },
    {
     "cell_type": "markdown",
     "metadata": {},
     "source": [
      "<h1>Obtaining decorrelated data</h1>\n",
      "At first we need a dataset $\\mathbf{D}_1$ "
     ]
    },
    {
     "cell_type": "code",
     "collapsed": false,
     "input": [
      "D1 = np.matrix([[ 1,2,4,3 ], [2,2,4,4 ] , [ 3,4,4,3 ], [4,3,4,4 ], [5,2,4,3]])\n",
      "D1"
     ],
     "language": "python",
     "metadata": {},
     "outputs": [
      {
       "metadata": {},
       "output_type": "pyout",
       "prompt_number": 19,
       "text": [
        "matrix([[1, 2, 4, 3],\n",
        "        [2, 2, 4, 4],\n",
        "        [3, 4, 4, 3],\n",
        "        [4, 3, 4, 4],\n",
        "        [5, 2, 4, 3]])"
       ]
      }
     ],
     "prompt_number": 19
    },
    {
     "cell_type": "markdown",
     "metadata": {},
     "source": [
      "Then the vector of means $\\mathbf{\\mu}$ has to be obtained, in order to be subtracted afterwards before the calculation of the covariance matrix."
     ]
    },
    {
     "cell_type": "code",
     "collapsed": false,
     "input": [
      "mu = np.array([ np.mean(d) for d in np.transpose(D1) ])\n",
      "mu"
     ],
     "language": "python",
     "metadata": {},
     "outputs": [
      {
       "metadata": {},
       "output_type": "pyout",
       "prompt_number": 20,
       "text": [
        "array([ 3. ,  2.6,  4. ,  3.4])"
       ]
      }
     ],
     "prompt_number": 20
    },
    {
     "cell_type": "markdown",
     "metadata": {},
     "source": [
      "A new dataset $\\mathbf{D}_2$ is obtained subtracting each row of $\\mathbf{D}_1$ with the mean vector $\\mu$"
     ]
    },
    {
     "cell_type": "code",
     "collapsed": false,
     "input": [
      "D2 = D1 - mu\n",
      "D2\n"
     ],
     "language": "python",
     "metadata": {},
     "outputs": [
      {
       "metadata": {},
       "output_type": "pyout",
       "prompt_number": 21,
       "text": [
        "matrix([[-2. , -0.6,  0. , -0.4],\n",
        "        [-1. , -0.6,  0. ,  0.6],\n",
        "        [ 0. ,  1.4,  0. , -0.4],\n",
        "        [ 1. ,  0.4,  0. ,  0.6],\n",
        "        [ 2. , -0.6,  0. , -0.4]])"
       ]
      }
     ],
     "prompt_number": 21
    },
    {
     "cell_type": "markdown",
     "metadata": {},
     "source": [
      "The dataset $\\mathbf{D}_2$ represents some observations of a $\\mathbf{x}$ aleatory vector, which has one observation per row.\n",
      "Now it's important to calculate the covariance matrix.\n",
      "$$\\mathbf{\\Sigma} = \\mathbb{E}(\\mathbf{xx}^\\mathrm{T})$$"
     ]
    },
    {
     "cell_type": "code",
     "collapsed": false,
     "input": [
      "Sigma = np.cov(np.transpose(D2))\n",
      "print Sigma\n",
      "\n",
      "print np.dot(D2.T, D2)"
     ],
     "language": "python",
     "metadata": {},
     "outputs": [
      {
       "output_type": "stream",
       "stream": "stdout",
       "text": [
        "[[ 0.75666667  0.45666667  0.02333333 -0.32666667 -0.91      ]\n",
        " [ 0.45666667  0.49       -0.27666667 -0.12666667 -0.54333333]\n",
        " [ 0.02333333 -0.27666667  0.62333333 -0.06       -0.31      ]\n",
        " [-0.32666667 -0.12666667 -0.06        0.17333333  0.34      ]\n",
        " [-0.91       -0.54333333 -0.31        0.34        1.42333333]]\n",
        "[[ 4.52  2.12 -0.68 -2.48 -3.48]\n",
        " [ 2.12  1.72 -1.08 -0.88 -1.88]\n",
        " [-0.68 -1.08  2.12  0.32 -0.68]\n",
        " [-2.48 -0.88  0.32  1.52  1.52]\n",
        " [-3.48 -1.88 -0.68  1.52  4.52]]\n"
       ]
      }
     ],
     "prompt_number": 35
    },
    {
     "cell_type": "markdown",
     "metadata": {},
     "source": [
      "Then the matrix of eigenvectors $\\Phi$ has to be found"
     ]
    },
    {
     "cell_type": "code",
     "collapsed": false,
     "input": [
      "lambdas, Phi = np.linalg.eig(Sigma)"
     ],
     "language": "python",
     "metadata": {},
     "outputs": [],
     "prompt_number": 23
    },
    {
     "cell_type": "markdown",
     "metadata": {},
     "source": [
      "At this point, all data needs to be processed trough $\\Phi^\\mathrm{T}$ in order to find the transformed data $\\mathbf{y}$"
     ]
    },
    {
     "cell_type": "code",
     "collapsed": false,
     "input": [
      "Phi_T = np.transpose(Phi)\n",
      "Phi_T"
     ],
     "language": "python",
     "metadata": {},
     "outputs": [
      {
       "metadata": {},
       "output_type": "pyout",
       "prompt_number": 24,
       "text": [
        "array([[ 0.98977151,  0.14262602,  0.        , -0.00318928],\n",
        "       [-0.14217116,  0.98426961,  0.        , -0.10488422],\n",
        "       [-0.01182011,  0.10426484,  0.        ,  0.99447933],\n",
        "       [ 0.        ,  0.        ,  1.        ,  0.        ]])"
       ]
      }
     ],
     "prompt_number": 24
    },
    {
     "cell_type": "code",
     "collapsed": false,
     "input": [
      "ys = np.dot(Phi_T, np.transpose(D2))\n",
      "ys"
     ],
     "language": "python",
     "metadata": {},
     "outputs": [
      {
       "metadata": {},
       "output_type": "pyout",
       "prompt_number": 25,
       "text": [
        "matrix([[-2.06384293, -1.07726069,  0.20095214,  1.04490836,  1.89524312],\n",
        "        [-0.26426575, -0.51132114,  1.41993114,  0.18860615, -0.8329504 ],\n",
        "        [-0.43671041,  0.5459488 , -0.25182096,  0.62657342, -0.48399086],\n",
        "        [ 0.        ,  0.        ,  0.        ,  0.        ,  0.        ]])"
       ]
      }
     ],
     "prompt_number": 25
    },
    {
     "cell_type": "code",
     "collapsed": false,
     "input": [
      "covYs  = np.cov(ys)\n",
      "\n",
      "print covYs.T"
     ],
     "language": "python",
     "metadata": {},
     "outputs": [
      {
       "output_type": "stream",
       "stream": "stdout",
       "text": [
        "[[  2.53602499e+00   2.22044605e-16  -2.77555756e-17   0.00000000e+00]\n",
        " [  2.22044605e-16   7.69217195e-01  -2.77555756e-17   0.00000000e+00]\n",
        " [ -2.77555756e-17  -2.77555756e-17   2.94757818e-01   0.00000000e+00]\n",
        " [  0.00000000e+00   0.00000000e+00   0.00000000e+00   0.00000000e+00]]\n"
       ]
      }
     ],
     "prompt_number": 30
    },
    {
     "cell_type": "code",
     "collapsed": false,
     "input": [],
     "language": "python",
     "metadata": {},
     "outputs": []
    }
   ],
   "metadata": {}
  }
 ]
}