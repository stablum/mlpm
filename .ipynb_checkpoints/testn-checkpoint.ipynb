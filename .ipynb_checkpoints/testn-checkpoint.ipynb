{
 "metadata": {
  "name": ""
 },
 "nbformat": 3,
 "nbformat_minor": 0,
 "worksheets": [
  {
   "cells": [
    {
     "cell_type": "markdown",
     "metadata": {},
     "source": [
      "<h1 id=\"heading-1\">Report</h1>"
     ]
    },
    {
     "cell_type": "markdown",
     "metadata": {},
     "source": [
      "<h2>Imported functions</h2>"
     ]
    },
    {
     "cell_type": "code",
     "collapsed": false,
     "input": [
      "#%pylab inline\n",
      "\n",
      "# Signal generators\n",
      "def sawtooth(x, period=0.2, amp=1.0, phase=0.):\n",
      "    return (((x / period - phase - 0.5) % 1) - 0.5) * 2 * amp\n",
      "\n",
      "def sine_wave(x, period=0.2, amp=1.0, phase=0.):\n",
      "    return np.sin((x / period - phase) * 2 * np.pi) * amp\n",
      "\n",
      "def square_wave(x, period=0.2, amp=1.0, phase=0.):\n",
      "    return ((np.floor(2 * x / period - 2 * phase - 1) % 2 == 0).astype(float) - 0.5) * 2 * amp\n",
      "\n",
      "def triangle_wave(x, period=0.2, amp=1.0, phase=0.):\n",
      "    return (sawtooth(x, period, 1., phase) * square_wave(x, period, 1., phase) + 0.5) * 2 * amp\n",
      "\n",
      "def random_nonsingular_matrix(d=2):\n",
      "    \"\"\"\n",
      "    Generates a random nonsingular (invertible) matrix of shape d*d\n",
      "    \"\"\"\n",
      "    epsilon = 0.1\n",
      "    A = np.random.rand(d, d)\n",
      "    while abs(np.linalg.det(A)) < epsilon:\n",
      "        A = np.random.rand(d, d)\n",
      "    return A\n",
      "\n",
      "def plot_signals(X, showAxes=False):\n",
      "    \"\"\"\n",
      "    Plot the signals contained in the rows of X.\n",
      "    \"\"\"\n",
      "    figure()\n",
      "    for i in range(X.shape[0]):\n",
      "        # see http://matplotlib.org/api/pyplot_api.html#matplotlib.pyplot.subplot\n",
      "        # subplot params: numrows, numcols, fignum where fignum ranges from 1 to numrows*numcols.\n",
      "        ax = plt.subplot(X.shape[0], 1, i + 1)\n",
      "        plot(X[i, :])\n",
      "        if not showAxes:\n",
      "            ax.set_xticks([])\n",
      "            ax.set_yticks([])"
     ],
     "language": "python",
     "metadata": {},
     "outputs": [],
     "prompt_number": 167
    },
    {
     "cell_type": "code",
     "collapsed": false,
     "input": [
      "sine_wave(np.array([1,2,3]))\n"
     ],
     "language": "python",
     "metadata": {},
     "outputs": [
      {
       "metadata": {},
       "output_type": "pyout",
       "prompt_number": 168,
       "text": [
        "array([-0., -0., -0.])"
       ]
      }
     ],
     "prompt_number": 168
    },
    {
     "cell_type": "code",
     "collapsed": false,
     "input": [
      "num_sources = 5\n",
      "signal_length = 500\n",
      "t = linspace(0, 1, signal_length)\n",
      "# np.c_ Translates slice objects to concatenation along the second axis.\n",
      "S = np.c_[sawtooth(t), sine_wave(t, 0.3), square_wave(t, 0.4), triangle_wave(t, 0.25), np.random.randn(t.size)].T\n"
     ],
     "language": "python",
     "metadata": {},
     "outputs": [],
     "prompt_number": 169
    },
    {
     "cell_type": "code",
     "collapsed": false,
     "input": [
      "print num_sources"
     ],
     "language": "python",
     "metadata": {},
     "outputs": [
      {
       "output_type": "stream",
       "stream": "stdout",
       "text": [
        "5\n"
       ]
      }
     ],
     "prompt_number": 170
    },
    {
     "cell_type": "code",
     "collapsed": false,
     "input": [
      "t2 = linspace(0,2,10)\n",
      "s1 = sawtooth(t2)\n",
      "s2 = sine_wave(t2, 0.3)\n",
      "S2 = np.array([s1, s2])\n",
      "print S2\n",
      "print \"\" \n",
      "print np.c_[s1,s2].T"
     ],
     "language": "python",
     "metadata": {},
     "outputs": [
      {
       "output_type": "stream",
       "stream": "stdout",
       "text": [
        "[[ 0.          0.22222222  0.44444444  0.66666667  0.88888889 -0.88888889\n",
        "  -0.66666667 -0.44444444 -0.22222222  0.        ]\n",
        " [ 0.         -0.99830816  0.11609291  0.98480775 -0.23061587 -0.95798951\n",
        "   0.34202014  0.91821611 -0.44879918 -0.8660254 ]]\n",
        "\n",
        "[[ 0.          0.22222222  0.44444444  0.66666667  0.88888889 -0.88888889\n",
        "  -0.66666667 -0.44444444 -0.22222222  0.        ]\n",
        " [ 0.         -0.99830816  0.11609291  0.98480775 -0.23061587 -0.95798951\n",
        "   0.34202014  0.91821611 -0.44879918 -0.8660254 ]]\n"
       ]
      }
     ],
     "prompt_number": 171
    },
    {
     "cell_type": "code",
     "collapsed": false,
     "input": [
      "print S"
     ],
     "language": "python",
     "metadata": {},
     "outputs": [
      {
       "output_type": "stream",
       "stream": "stdout",
       "text": [
        "[[ 0.          0.02004008  0.04008016 ..., -0.04008016 -0.02004008  0.        ]\n",
        " [ 0.          0.04195952  0.08384514 ...,  0.90489852  0.88624247\n",
        "   0.8660254 ]\n",
        " [-1.         -1.         -1.         ..., -1.         -1.          1.        ]\n",
        " [ 1.          0.96793587  0.93587174 ...,  0.93587174  0.96793587  1.        ]\n",
        " [-0.04055262 -0.24971128  0.40723845 ...,  0.11146058 -0.57765218\n",
        "  -0.55954434]]\n"
       ]
      }
     ],
     "prompt_number": 172
    },
    {
     "cell_type": "code",
     "collapsed": false,
     "input": [
      "plot_signals(S2,showAxes=True)"
     ],
     "language": "python",
     "metadata": {},
     "outputs": [
      {
       "metadata": {},
       "output_type": "display_data",
       "png": "[encoded data removed]",
       "text": [
        "<matplotlib.figure.Figure at 0x3716290>"
       ]
      }
     ],
     "prompt_number": 173
    },
    {
     "cell_type": "code",
     "collapsed": false,
     "input": [
      "plot_signals(S,showAxes=True)"
     ],
     "language": "python",
     "metadata": {},
     "outputs": [
      {
       "metadata": {},
       "output_type": "display_data",
       "png": "[encoded data removed]",
       "text": [
        "<matplotlib.figure.Figure at 0x3bc2110>"
       ]
      }
     ],
     "prompt_number": 174
    },
    {
     "cell_type": "code",
     "collapsed": false,
     "input": [
      "print random_nonsingular_matrix(d=4)\n"
     ],
     "language": "python",
     "metadata": {},
     "outputs": [
      {
       "output_type": "stream",
       "stream": "stdout",
       "text": [
        "[[ 0.2555384   0.80534482  0.09015703  0.10681662]\n",
        " [ 0.97463926  0.86146177  0.45883268  0.10605112]\n",
        " [ 0.27937128  0.11371036  0.68856998  0.34335547]\n",
        " [ 0.54917694  0.98552917  0.82954503  0.96260746]]\n"
       ]
      }
     ],
     "prompt_number": 175
    },
    {
     "cell_type": "code",
     "collapsed": false,
     "input": [
      "B =np.array([[1,2,3,4],[5,3,6,7]])\n",
      "print B\n",
      "print B.shape\n",
      "print B.T\n",
      "B = B.T\n",
      "A = np.array([[1,2,3],[4,5,6],[7,8,9],[10,11,12]]).T\n",
      "print \"A = %s \" % A\n",
      "print \"B = %s\" % B\n",
      "\n",
      "print \"A x B: %s\" % np.dot(A,B)"
     ],
     "language": "python",
     "metadata": {},
     "outputs": [
      {
       "output_type": "stream",
       "stream": "stdout",
       "text": [
        "[[1 2 3 4]\n",
        " [5 3 6 7]]\n",
        "(2, 4)\n",
        "[[1 5]\n",
        " [2 3]\n",
        " [3 6]\n",
        " [4 7]]\n",
        "A = [[ 1  4  7 10]\n",
        " [ 2  5  8 11]\n",
        " [ 3  6  9 12]] \n",
        "B = [[1 5]\n",
        " [2 3]\n",
        " [3 6]\n",
        " [4 7]]\n",
        "A x B: [[ 70 129]\n",
        " [ 80 150]\n",
        " [ 90 171]]\n"
       ]
      }
     ],
     "prompt_number": 176
    },
    {
     "cell_type": "code",
     "collapsed": false,
     "input": [
      "def make_mixtures(S, A):\n",
      "    X = np.dot(A,S)\n",
      "    return X\n",
      "\n",
      "\n",
      " \n",
      "\n",
      "Mnr = Snr = S.shape[0]\n",
      "Tnr = S.shape[1]\n",
      "\n",
      "\n",
      "\n",
      "A = random_nonsingular_matrix(Snr)\n",
      "\n",
      "X = make_mixtures(S,A)\n",
      "\n",
      "plot_signals( X)"
     ],
     "language": "python",
     "metadata": {},
     "outputs": [
      {
       "metadata": {},
       "output_type": "display_data",
       "png": "[encoded data removed]",
       "text": [
        "<matplotlib.figure.Figure at 0x4d0e750>"
       ]
      }
     ],
     "prompt_number": 177
    },
    {
     "cell_type": "code",
     "collapsed": false,
     "input": [
      "# prints a histogram for each row of X\n",
      "def plot_histograms(X, nrBins=10,showAxes=False):\n",
      "    nrRows = X.shape[0]\n",
      "    nrColumns = X.shape[1]\n",
      "    if nrBins > nrColumns:\n",
      "        raise Exception(\"nr bins > nr columns of matrix X\")\n",
      "    figure()\n",
      "    for i in range(nrRows):\n",
      "        #print X[i,:]\n",
      "        hist, bin_edges = histogram(X[i,:],nrBins)\n",
      "        #print hist\n",
      "        #print bin_edges\n",
      "        lowest = bin_edges[:1][0]\n",
      "        highest =  bin_edges[-1:][0]\n",
      "        interval = (highest-lowest)/float(nrBins)\n",
      "        #print interval\n",
      "        ax = plt.subplot(nrRows, 1, i + 1)\n",
      "        bar(bin_edges[:-1],hist, width=interval)\n",
      "        if not showAxes:\n",
      "            ax.set_xticks([])\n",
      "            ax.set_yticks([])\n",
      "            \n",
      "print \"S:\"\n",
      "plot_histograms(S,nrBins=50,showAxes=False)\n",
      "\n",
      "print \"X:\"\n",
      "plot_histograms(X,nrBins=50,showAxes=False)\n"
     ],
     "language": "python",
     "metadata": {},
     "outputs": [
      {
       "output_type": "stream",
       "stream": "stdout",
       "text": [
        "S:\n",
        "X:"
       ]
      },
      {
       "output_type": "stream",
       "stream": "stdout",
       "text": [
        "\n"
       ]
      },
      {
       "metadata": {},
       "output_type": "display_data",
       "png": "[encoded data removed]",
       "text": [
        "<matplotlib.figure.Figure at 0x47a1dd0>"
       ]
      },
      {
       "metadata": {},
       "output_type": "display_data",
       "png": "[encoded data removed]",
       "text": [
        "<matplotlib.figure.Figure at 0x4a9bcd0>"
       ]
      }
     ],
     "prompt_number": 178
    },
    {
     "cell_type": "code",
     "collapsed": false,
     "input": [
      "act0 = lambda x : -tanh(x)\n",
      "sourceDistr0 = lambda x : math.exp ( - math.log( cosh(x)))\n",
      "\n",
      "act1 = lambda x : -x + tanh(x)\n",
      "sourceDistr1 = lambda x : math.exp(  -( math.pow(x,2) / float(2) ) + math.log(cosh(x)) )\n",
      "\n",
      "act2 = lambda x : (-1)*(math.pow(x,3))\n",
      "sourceDistr2 = lambda x : math.exp( -((math.pow(x,4))/float(4)))\n",
      "\n",
      "act3 = lambda x : -((6*x)/((math.pow(x,2))+5))\n",
      "sourceDistr3 = lambda x : float(1)/(math.pow(math.pow(x,2)+5,3))\n",
      "\n",
      "actFunctions = [act0, act1, act2, act3]\n",
      "sourceDistrFunctions = [sourceDistr0, sourceDistr1, sourceDistr2, sourceDistr3]\n",
      "\n",
      "actT = linspace(-4,4,500)\n",
      "#actM = [x for x in     \n",
      "\n",
      "actMl = []\n",
      "sourceDistrMl = []\n",
      "for i in range (0, len(actFunctions)):\n",
      "    actMl.append(map (actFunctions[i], actT))\n",
      "    sourceDistrMl.append(map (sourceDistrFunctions[i], actT))\n",
      "\n",
      "\n",
      "actM = np.array(actMl)\n",
      "sourceDistrM = np.array(sourceDistrMl)\n",
      "\n",
      "def plot_signals2(X1,X2, showAxes=False):\n",
      "    \"\"\"\n",
      "    Plot the signals contained in the rows of X.\n",
      "    \"\"\"\n",
      "    figure()\n",
      "    for i in range(X1.shape[0]):\n",
      "        # see http://matplotlib.org/api/pyplot_api.html#matplotlib.pyplot.subplot\n",
      "        # subplot params: numrows, numcols, fignum where fignum ranges from 1 to numrows*numcols.\n",
      "        ax = plt.subplot(X.shape[0], 1, i + 1)\n",
      "        plot(X1[i, :])\n",
      "        plot(X2[i,:])\n",
      "        if not showAxes:\n",
      "            ax.set_xticks([])\n",
      "            ax.set_yticks([])\n",
      "            \n",
      "plot_signals2(actM, sourceDistrM, showAxes=True)\n",
      "\n",
      "plot_signals(actM)\n",
      "\n",
      "plot_signals(sourceDistrM)"
     ],
     "language": "python",
     "metadata": {},
     "outputs": [
      {
       "metadata": {},
       "output_type": "display_data",
       "png": "[encoded data removed]",
       "text": [
        "<matplotlib.figure.Figure at 0x3ede7d0>"
       ]
      },
      {
       "metadata": {},
       "output_type": "display_data",
       "png": "[encoded data removed]",
       "text": [
        "<matplotlib.figure.Figure at 0x46aead0>"
       ]
      },
      {
       "metadata": {},
       "output_type": "display_data",
       "png": "[encoded data removed]",
       "text": [
        "<matplotlib.figure.Figure at 0x46d7f90>"
       ]
      }
     ],
     "prompt_number": 179
    },
    {
     "cell_type": "code",
     "collapsed": false,
     "input": [
      "l = []\n",
      "l.append([1,2,3]) \n",
      "l.append([3,3,6])\n",
      "print l\n",
      "\n",
      "la = np.array(l)\n",
      "print la"
     ],
     "language": "python",
     "metadata": {},
     "outputs": [
      {
       "output_type": "stream",
       "stream": "stdout",
       "text": [
        "[[1, 2, 3], [3, 3, 6]]\n",
        "[[1 2 3]\n",
        " [3 3 6]]\n"
       ]
      }
     ],
     "prompt_number": 180
    },
    {
     "cell_type": "markdown",
     "metadata": {},
     "source": [
      "<blockquote>\n",
      "<p>Example of a <em>blockquote</em>. \n",
      "</p>\n",
      "</blockquote>"
     ]
    },
    {
     "cell_type": "markdown",
     "metadata": {},
     "source": [
      "Example $\\LaTeX$ code: $$e^{x-1}$$ "
     ]
    },
    {
     "cell_type": "markdown",
     "metadata": {},
     "source": [
      "Bla bla  $$ \\sum_{i=1}^{I} x_i $$ \n",
      "\n",
      "<ul>\n",
      "<li>apples</li>\n",
      "<li>oranges</li>\n",
      "<li>pears</li>\n",
      "</ul>\n",
      " \n"
     ]
    },
    {
     "cell_type": "code",
     "collapsed": false,
     "input": [
      "def normalizeZeroMean(X):\n",
      "    mu = np.array([ np.mean(d) for d in np.transpose(X) ])\n",
      "    #X = X - mean(X)\n",
      "    X = X - mu\n",
      "    return X\n",
      "\n",
      "\n",
      "\n",
      "np.set_printoptions(suppress=True)\n",
      "\n",
      "B = X.T\n",
      "\n",
      "#B =np.array([[4,2,.6],[4.2,2.1,.59],[3.9,2.0,.58],[4.3,2.1,.62],[4.1,2.2,.63]])#\n",
      "#B=np.array([[ 1,2,4,5 ], [2,2,3,4 ] , [ 3,4,4,3 ], [4,2,4,4 ], [5,2,4,2]])\n",
      "print B\n",
      "B = normalizeZeroMean(B)\n",
      "print mean(B)  \n",
      "print \"B (normalized):\\n%s\" % B\n",
      "\n",
      "covB = cov(B.T)\n",
      "#covB = normalizeZeroMean(covB)\n",
      "print \"covB: %s\" % covB \n"
     ],
     "language": "python",
     "metadata": {},
     "outputs": [
      {
       "output_type": "stream",
       "stream": "stdout",
       "text": [
        "[[ 0.31067298 -0.44818278  0.50360444 -0.74736406 -0.23513423]\n",
        " [ 0.22282565 -0.44748554  0.36162939 -0.87169139 -0.3939766 ]\n",
        " [ 0.52157614 -0.28601132  0.78461352 -0.44530108  0.23775067]\n",
        " ..., \n",
        " [ 0.39031356  0.17753152  0.82738894 -0.33466128  0.60094314]\n",
        " [ 0.11474648  0.05941435  0.39134119 -0.77143408 -0.03929755]\n",
        " [ 0.48945235  1.37165301  0.49714899  1.15281542  0.48220025]]\n",
        "-5.22692999994e-17\n",
        "B (normalized):\n",
        "[[ 0.3204755  -0.37916786  0.4665037  -0.60939625 -0.27289701]\n",
        " [ 0.23262817 -0.37847061  0.32452865 -0.73372358 -0.43173938]\n",
        " [ 0.53137866 -0.21699639  0.74751279 -0.30733327  0.19998788]\n",
        " ..., \n",
        " [ 0.40011608  0.24654645  0.79028821 -0.19669347  0.56318035]\n",
        " [ 0.12454899  0.12842927  0.35424045 -0.63346628 -0.07706034]\n",
        " [ 0.49925487  1.44066793  0.46004825  1.29078323  0.44443746]]\n",
        "covB: [[ 0.59202518  0.48543462  0.41667874  0.534786    0.50431989]\n",
        " [ 0.48543462  0.97360025  0.30259456  0.96791469  0.70615211]\n",
        " [ 0.41667874  0.30259456  0.5639864   0.59679262  0.72954377]\n",
        " [ 0.534786    0.96791469  0.59679262  1.47025782  1.07362979]\n",
        " [ 0.50431989  0.70615211  0.72954377  1.07362979  1.30143769]]\n"
       ]
      }
     ],
     "prompt_number": 184
    },
    {
     "cell_type": "code",
     "collapsed": false,
     "input": [
      "\n",
      "print \"=== the above is correct ===\"\n",
      "# see http://www.itl.nist.gov/div898/handbook/pmc/section5/pmc541.htm\n",
      "print \"=== now do eigen decomposition thing ===\"\n",
      "\n",
      "eigenvalues, eigenVectors = eigh(covB)\n",
      "#eigenvalues, eigenVectors = np.linalg.eig(covB)\n",
      "\n",
      "print \"eigenvalues: %s\" % eigenvalues\n",
      "print \"eigenVectors: %s\" % eigenVectors\n",
      "\n",
      "print \"=== should be equal: ===\"\n",
      "dEv = np.dot(np.dot(eigenVectors.T, covB), eigenVectors)\n",
      "print \"dEv:\\n%s\" % dEv\n",
      "\n",
      "dEv2 = np.diag(eigenvalues)\n",
      "print \"dEv2 (eigenvalue-diag-matrix):\\n%s\" % dEv2\n",
      "print \"======\"\n",
      "\n",
      "print \"sum(dEv - dEv2): %s\" % sum(dEv - dEv2)\n",
      "\n",
      "print \"== should be equal: ===\"\n",
      "print \"covB * eigenVectorMatrix:\\n%s\" %  (np.dot(covB, eigenVectors))\n",
      "\n",
      "print \"eigenvectorMatrix * eigenvalue-diag-matrix:\\n%s\" % (np.dot(eigenVectors , dEv2))\n",
      "\n",
      "print \"======\"\n",
      "\n",
      "\n",
      "#print \"eigenVectors.T:\\n%s\" % eigenVectors.T"
     ],
     "language": "python",
     "metadata": {},
     "outputs": [
      {
       "output_type": "stream",
       "stream": "stdout",
       "text": [
        "=== the above is correct ===\n",
        "=== now do eigen decomposition thing ===\n",
        "eigenvalues: [ 0.02184664  0.18442395  0.36765456  0.58657399  3.74080819]\n",
        "eigenVectors: [[-0.42409423  0.15146412  0.84068035  0.06748045 -0.29309663]\n",
        " [ 0.39546922 -0.48557698  0.18784049 -0.62395781 -0.42803236]\n",
        " [ 0.72744761  0.25460094  0.16961851  0.52856826 -0.31279944]\n",
        " [-0.16430942  0.62790378 -0.37649343 -0.30314311 -0.5874489 ]\n",
        " [-0.32797951 -0.53121449 -0.29572749  0.48460592 -0.53660317]]\n",
        "=== should be equal: ===\n",
        "dEv:\n",
        "[[ 0.02184664  0.         -0.         -0.         -0.        ]\n",
        " [ 0.          0.18442395  0.         -0.          0.        ]\n",
        " [-0.          0.          0.36765456 -0.         -0.        ]\n",
        " [-0.         -0.          0.          0.58657399  0.        ]\n",
        " [-0.          0.         -0.          0.          3.74080819]]\n",
        "dEv2 (eigenvalue-diag-matrix):\n",
        "[[ 0.02184664  0.          0.          0.          0.        ]\n",
        " [ 0.          0.18442395  0.          0.          0.        ]\n",
        " [ 0.          0.          0.36765456  0.          0.        ]\n",
        " [ 0.          0.          0.          0.58657399  0.        ]\n",
        " [ 0.          0.          0.          0.          3.74080819]]\n",
        "======\n",
        "sum(dEv - dEv2): -6.63531729561e-17\n",
        "== should be equal: ===\n",
        "covB * eigenVectorMatrix:\n",
        "[[-0.00926503  0.02793361  0.30907997  0.03958227 -1.09641829]\n",
        " [ 0.00863967 -0.08955203  0.06906041 -0.36599742 -1.60118696]\n",
        " [ 0.01589228  0.04695451  0.06236102  0.31004439 -1.1701227 ]\n",
        " [-0.00358961  0.1158005  -0.13841953 -0.17781586 -2.19753367]\n",
        " [-0.00716525 -0.09796868 -0.10872556  0.28425723 -2.00732953]]\n",
        "eigenvectorMatrix * eigenvalue-diag-matrix:\n",
        "[[-0.00926503  0.02793361  0.30907997  0.03958227 -1.09641829]\n",
        " [ 0.00863967 -0.08955203  0.06906041 -0.36599742 -1.60118696]\n",
        " [ 0.01589228  0.04695451  0.06236102  0.31004439 -1.1701227 ]\n",
        " [-0.00358961  0.1158005  -0.13841953 -0.17781586 -2.19753367]\n",
        " [-0.00716525 -0.09796868 -0.10872556  0.28425723 -2.00732953]]\n",
        "======\n"
       ]
      }
     ],
     "prompt_number": 185
    },
    {
     "cell_type": "code",
     "collapsed": false,
     "input": [
      "\n",
      "\n",
      "\"\"\"\n",
      "print B[0,:]\n",
      "y0 = dot(eigenVectors.T,B[0,:].T)\n",
      "y1 = dot(eigenVectors.T,B[1,:].T)\n",
      "y2 = dot(eigenVectors.T,B[2,:].T)\n",
      "y3 = dot(eigenVectors.T,B[3,:].T)\n",
      "y4 = dot(eigenVectors.T,B[4,:].T)\n",
      "print y0\n",
      "print y1\n",
      "print y2\n",
      "print y3\n",
      "print y4\n",
      "Y = np.array([y0,y1,y2,y3,y4])\n",
      "print Y\n",
      "\"\"\"\n",
      "# RULE:\n",
      "# stacking rows of Y2: X * (row of y).T ==> Y2\n",
      "# equals\n",
      "# X * Y.T ==> Y2\n",
      "Y = np.dot(eigenVectors.T, B.T)\n",
      "print \"Y:\\n%s\" % Y.T\n",
      "Y = Y.T\n",
      "\n",
      "yCov =  np.cov(Y.T)\n",
      "print \"yCov (should be equal to  dEv, dEv2, (eigenVectorMatrx.T * covB * eigenVectorMatrix) :\\n%s\" % yCov\n",
      "imshow(log(abs(yCov)), cmap='gray', interpolation='nearest')\n",
      "\n",
      "show()\n"
     ],
     "language": "python",
     "metadata": {},
     "outputs": [
      {
       "output_type": "stream",
       "stream": "stdout",
       "text": [
        "Y:\n",
        "[[ 0.24313015  0.11375264  0.58745888  0.55727639  0.42687029]\n",
        " [ 0.24990722  0.07027514  0.5834392   0.43658287  0.65500059]\n",
        " [ 0.2175122   0.07695852  0.58931793  0.75644707 -0.22345694]\n",
        " ..., \n",
        " [ 0.35031485 -0.28058007  0.42423453  0.6234335  -0.65666123]\n",
        " [ 0.38501937 -0.31012794  0.4502006   0.27019747  0.2111969 ]\n",
        " [ 0.33481548  0.06758877  0.15095844 -0.79797417 -1.90364099]]\n",
        "yCov (should be equal to  dEv, dEv2, (eigenVectorMatrx.T * covB * eigenVectorMatrix) :\n",
        "[[ 0.02184664 -0.         -0.          0.         -0.        ]\n",
        " [-0.          0.18442395  0.         -0.         -0.        ]\n",
        " [-0.          0.          0.36765456 -0.         -0.        ]\n",
        " [ 0.         -0.         -0.          0.58657399  0.        ]\n",
        " [-0.         -0.         -0.          0.          3.74080819]]\n"
       ]
      },
      {
       "metadata": {},
       "output_type": "display_data",
       "png": "[encoded data removed]",
       "text": [
        "<matplotlib.figure.Figure at 0x3bcca90>"
       ]
      }
     ],
     "prompt_number": 189
    },
    {
     "cell_type": "code",
     "collapsed": false,
     "input": [
      "dEv3 = np.diag(1./sqrt(eigenvalues+0.0001))\n",
      "\n",
      "print \"dEv3:\\n%s\" % dEv3\n",
      "\n",
      "Y2 = np.dot(np.dot(dEv3,eigenVectors.T), B.T)\n",
      "print \"Y2:\\n%s\" % Y2.T\n",
      "#Y2 = Y2.T\n",
      "\n",
      "y2Cov =  np.cov(Y2)\n",
      "print \"y2Cov:\\n%s\" % y2Cov\n",
      "ax2 = imshow(log(abs(y2Cov)), cmap='gray', interpolation='nearest')\n",
      "\n",
      "show()\n"
     ],
     "language": "python",
     "metadata": {},
     "outputs": [
      {
       "output_type": "stream",
       "stream": "stdout",
       "text": [
        "dEv3:\n",
        "[[ 6.75019022  0.          0.          0.          0.        ]\n",
        " [ 0.          2.32794988  0.          0.          0.        ]\n",
        " [ 0.          0.          1.64900118  0.          0.        ]\n",
        " [ 0.          0.          0.          1.30557427  0.        ]\n",
        " [ 0.          0.          0.          0.          0.51702492]]\n",
        "Y2:\n",
        "[[ 1.64117478  0.26481044  0.96872039  0.72756572  0.22070258]\n",
        " [ 1.68692129  0.16359701  0.96209194  0.56999136  0.33865163]\n",
        " [ 1.46824872  0.17915558  0.97178597  0.98759783 -0.1155328 ]\n",
        " ..., \n",
        " [ 2.36469188 -0.65317634  0.69956323  0.81393873 -0.33951022]\n",
        " [ 2.59895401 -0.72196231  0.74238132  0.35276287  0.10919406]\n",
        " [ 2.26006821  0.15734328  0.24893065 -1.04181454 -0.98422983]]\n",
        "y2Cov:\n",
        "[[ 0.99544349 -0.         -0.          0.         -0.        ]\n",
        " [-0.          0.99945806  0.         -0.         -0.        ]\n",
        " [-0.          0.          0.99972808  0.         -0.        ]\n",
        " [ 0.         -0.          0.          0.99982955  0.        ]\n",
        " [-0.         -0.         -0.          0.          0.99997327]]\n"
       ]
      },
      {
       "metadata": {},
       "output_type": "display_data",
       "png": "[encoded data removed]",
       "text": [
        "<matplotlib.figure.Figure at 0x3ede7d0>"
       ]
      }
     ],
     "prompt_number": 187
    },
    {
     "cell_type": "code",
     "collapsed": false,
     "input": [
      "print X.shape\n",
      "print Y2.shape\n",
      "\n",
      "Xwhitened = Y2\n",
      "\n",
      "np.zeros((5,5))"
     ],
     "language": "python",
     "metadata": {},
     "outputs": [
      {
       "output_type": "stream",
       "stream": "stdout",
       "text": [
        "(5, 500)\n",
        "(5, 500)\n"
       ]
      },
      {
       "metadata": {},
       "output_type": "pyout",
       "prompt_number": 157,
       "text": [
        "array([[ 0.,  0.,  0.,  0.,  0.],\n",
        "       [ 0.,  0.,  0.,  0.,  0.],\n",
        "       [ 0.,  0.,  0.,  0.,  0.],\n",
        "       [ 0.,  0.,  0.,  0.,  0.],\n",
        "       [ 0.,  0.,  0.,  0.,  0.]])"
       ]
      }
     ],
     "prompt_number": 157
    },
    {
     "cell_type": "code",
     "collapsed": false,
     "input": [
      "learningRate = 0.001\n",
      "epsilon = 0.00001 # stop criterion\n",
      "\n",
      "\n",
      "import copy\n",
      "\n",
      "def ICA(X, activation_function, learning_rate):\n",
      "    \n",
      "    W =  random_nonsingular_matrix(num_sources)\n",
      "\n",
      "    deltaW = W*1000\n",
      "\n",
      "    iteration = 0\n",
      "\n",
      "    while mean(abs(deltaW)) > epsilon and iteration < 500:\n",
      "        print \"mean(abs(deltaW)): %2.8f\" % mean(abs(deltaW))\n",
      "        \n",
      "        # multiply by column!\n",
      "        #\n",
      "        # [X * column1(W); X*column2(W)]\n",
      "        # equals\n",
      "        # X * W\n",
      "        A = np.dot(W,X)\n",
      "        \n",
      "        print \"A dimensions: %d,%d\" % A.shape\n",
      "        \n",
      "        Z =  np.array(map(activation_function, A))\n",
      "        \n",
      "        print \"Z dimensions: %d,%d\" % Z.shape\n",
      "\n",
      "        Xprime = dot(W.T, A) # possibly wrong\n",
      "        \n",
      "        print \"Xprime dimensions: %d,%d\" % Xprime.shape\n",
      "        #print X[1:5,1:5]\n",
      "        #print A[1:5,1:5]\n",
      "        #print Z[1:5,1:5]\n",
      "        #print Xprime[1:5,1:5]\n",
      "        \n",
      "        nrCols = X.shape[1]\n",
      "        \n",
      "        deltaW = np.zeros((num_sources,num_sources))\n",
      "        for i in range(0,nrCols):\n",
      "            #print (np.array([Z[:,i]])).shape\n",
      "            #print np.array([Xprime[:,i]]).shape\n",
      "            \n",
      "            gradPerTime =  np.dot(np.array([Z[:,i]]).T, np.array([Xprime[:,i]]))\n",
      "            #print \"gradPerTime %d:\\n%s\" % (i, gradPerTime )\n",
      "            deltaW += gradPerTime\n",
      "        \n",
      "        #print \"deltaW sum:\\n%s\" % deltaW\n",
      "        deltaW = deltaW / nrCols        \n",
      "        #print \"deltaW avg.:\\n%s\" % deltaW\n",
      "        \n",
      "        oldW = copy.deepcopy(W)\n",
      "        W = W + (learningRate * deltaW)\n",
      "        \n",
      "        #print \"old W:\\n%s\" % oldW\n",
      "        #print \"new W:\\n%s\" % W\n",
      "        #print \"diff:\\n%s\" % (oldW - W)\n",
      "        #print \"(learningRate * deltaW):\\n%s\" % (learningRate * deltaW)\n",
      "        \n",
      "        \n",
      "        \n",
      "        iteration += 1\n",
      "        if iteration % 100 == 0:\n",
      "            print \"iteration:%d\" % iteration\n",
      "\n",
      "    Sapprox = dot(W,X)\n",
      "    plot_signals(Sapprox)\n",
      "    pass\n",
      "    \n",
      "\n",
      "#print W\n",
      "\n",
      "plot_signals(S)\n",
      "plot_signals(Xwhitened)\n",
      "ICA(Xwhitened, actFunctions[0], learningRate)"
     ],
     "language": "python",
     "metadata": {},
     "outputs": [
      {
       "output_type": "stream",
       "stream": "stdout",
       "text": [
        "mean(abs(deltaW)): 503.36117693\n",
        "A dimensions: 5,500\n",
        "Z dimensions: 5,500\n",
        "Xprime dimensions: 5,500\n",
        "mean(abs(deltaW)): 1.95440921\n",
        "A dimensions: 5,500\n",
        "Z dimensions: 5,500\n",
        "Xprime dimensions: 5,500\n",
        "mean(abs(deltaW)): 1.93550200"
       ]
      },
      {
       "output_type": "stream",
       "stream": "stdout",
       "text": [
        "\n",
        "A dimensions: 5,500\n",
        "Z dimensions: 5,500\n",
        "Xprime dimensions: 5,500\n",
        "mean(abs(deltaW)): 1.91687222\n",
        "A dimensions: 5,500\n",
        "Z dimensions: 5,500"
       ]
      },
      {
       "output_type": "stream",
       "stream": "stdout",
       "text": [
        "\n",
        "Xprime dimensions: 5,500\n",
        "mean(abs(deltaW)): 1.89851453\n",
        "A dimensions: 5,500\n",
        "Z dimensions: 5,500\n",
        "Xprime dimensions: 5,500\n",
        "mean(abs(deltaW)): 1.88042374"
       ]
      },
      {
       "output_type": "stream",
       "stream": "stdout",
       "text": [
        "\n",
        "A dimensions: 5,500\n",
        "Z dimensions: 5,500\n",
        "Xprime dimensions: 5,500\n",
        "mean(abs(deltaW)): 1.86259475\n",
        "A dimensions: 5,500\n",
        "Z dimensions: 5,500\n",
        "Xprime dimensions: 5,500\n",
        "mean(abs(deltaW)): 1.84502260"
       ]
      },
      {
       "output_type": "stream",
       "stream": "stdout",
       "text": [
        "\n",
        "A dimensions: 5,500\n",
        "Z dimensions: 5,500\n",
        "Xprime dimensions: 5,500\n",
        "mean(abs(deltaW)): 1.82770244\n",
        "A dimensions: 5,500\n",
        "Z dimensions: 5,500\n",
        "Xprime dimensions: 5,500\n",
        "mean(abs(deltaW)): 1.81062953"
       ]
      },
      {
       "output_type": "stream",
       "stream": "stdout",
       "text": [
        "\n",
        "A dimensions: 5,500\n",
        "Z dimensions: 5,500\n",
        "Xprime dimensions: 5,500\n",
        "mean(abs(deltaW)): 1.79379924\n",
        "A dimensions: 5,500\n",
        "Z dimensions: 5,500\n",
        "Xprime dimensions: 5,500\n",
        "mean(abs(deltaW)): 1.77720704"
       ]
      },
      {
       "output_type": "stream",
       "stream": "stdout",
       "text": [
        "\n",
        "A dimensions: 5,500\n",
        "Z dimensions: 5,500\n",
        "Xprime dimensions: 5,500\n",
        "mean(abs(deltaW)): 1.76084851\n",
        "A dimensions: 5,500\n",
        "Z dimensions: 5,500\n",
        "Xprime dimensions: 5,500\n",
        "mean(abs(deltaW)): 1.74471933"
       ]
      },
      {
       "output_type": "stream",
       "stream": "stdout",
       "text": [
        "\n",
        "A dimensions: 5,500\n",
        "Z dimensions: 5,500\n",
        "Xprime dimensions: 5,500\n",
        "mean(abs(deltaW)): 1.72881527\n",
        "A dimensions: 5,500\n",
        "Z dimensions: 5,500\n",
        "Xprime dimensions: 5,500\n",
        "mean(abs(deltaW)): 1.71313222"
       ]
      },
      {
       "output_type": "stream",
       "stream": "stdout",
       "text": [
        "\n",
        "A dimensions: 5,500\n",
        "Z dimensions: 5,500\n",
        "Xprime dimensions: 5,500\n",
        "mean(abs(deltaW)): 1.69766613\n",
        "A dimensions: 5,500\n",
        "Z dimensions: 5,500\n",
        "Xprime dimensions: 5,500\n",
        "mean(abs(deltaW)): 1.68241305"
       ]
      },
      {
       "output_type": "stream",
       "stream": "stdout",
       "text": [
        "\n",
        "A dimensions: 5,500\n",
        "Z dimensions: 5,500\n",
        "Xprime dimensions: 5,500\n",
        "mean(abs(deltaW)): 1.66736913\n",
        "A dimensions: 5,500\n",
        "Z dimensions: 5,500\n",
        "Xprime dimensions: 5,500\n",
        "mean(abs(deltaW)): 1.65253060"
       ]
      },
      {
       "output_type": "stream",
       "stream": "stdout",
       "text": [
        "\n",
        "A dimensions: 5,500\n",
        "Z dimensions: 5,500\n",
        "Xprime dimensions: 5,500\n",
        "mean(abs(deltaW)): 1.63789376\n",
        "A dimensions: 5,500\n",
        "Z dimensions: 5,500\n",
        "Xprime dimensions: 5,500\n",
        "mean(abs(deltaW)): 1.62345501"
       ]
      },
      {
       "output_type": "stream",
       "stream": "stdout",
       "text": [
        "\n",
        "A dimensions: 5,500\n",
        "Z dimensions: 5,500\n",
        "Xprime dimensions: 5,500\n",
        "mean(abs(deltaW)): 1.60921082\n",
        "A dimensions: 5,500\n",
        "Z dimensions: 5,500\n",
        "Xprime dimensions: 5,500\n",
        "mean(abs(deltaW)): 1.59515774"
       ]
      },
      {
       "output_type": "stream",
       "stream": "stdout",
       "text": [
        "\n",
        "A dimensions: 5,500\n",
        "Z dimensions: 5,500\n",
        "Xprime dimensions: 5,500\n",
        "mean(abs(deltaW)): 1.58129239\n",
        "A dimensions: 5,500\n",
        "Z dimensions: 5,500\n",
        "Xprime dimensions: 5,500\n",
        "mean(abs(deltaW)): 1.56761147"
       ]
      },
      {
       "output_type": "stream",
       "stream": "stdout",
       "text": [
        "\n",
        "A dimensions: 5,500\n",
        "Z dimensions: 5,500\n",
        "Xprime dimensions: 5,500\n",
        "mean(abs(deltaW)): 1.55411174\n",
        "A dimensions: 5,500\n",
        "Z dimensions: 5,500\n",
        "Xprime dimensions: 5,500\n",
        "mean(abs(deltaW)): 1.54079004"
       ]
      },
      {
       "output_type": "stream",
       "stream": "stdout",
       "text": [
        "\n",
        "A dimensions: 5,500\n",
        "Z dimensions: 5,500\n",
        "Xprime dimensions: 5,500\n",
        "mean(abs(deltaW)): 1.52764327\n",
        "A dimensions: 5,500\n",
        "Z dimensions: 5,500\n",
        "Xprime dimensions: 5,500\n",
        "mean(abs(deltaW)): 1.51466841"
       ]
      },
      {
       "output_type": "stream",
       "stream": "stdout",
       "text": [
        "\n",
        "A dimensions: 5,500\n",
        "Z dimensions: 5,500\n",
        "Xprime dimensions: 5,500\n",
        "mean(abs(deltaW)): 1.50186250\n",
        "A dimensions: 5,500\n",
        "Z dimensions: 5,500\n",
        "Xprime dimensions: 5,500\n",
        "mean(abs(deltaW)): 1.48922261"
       ]
      },
      {
       "output_type": "stream",
       "stream": "stdout",
       "text": [
        "\n",
        "A dimensions: 5,500\n",
        "Z dimensions: 5,500\n",
        "Xprime dimensions: 5,500\n",
        "mean(abs(deltaW)): 1.47674593\n",
        "A dimensions: 5,500\n",
        "Z dimensions: 5,500\n",
        "Xprime dimensions: 5,500\n",
        "mean(abs(deltaW)): 1.46442966"
       ]
      },
      {
       "output_type": "stream",
       "stream": "stdout",
       "text": [
        "\n",
        "A dimensions: 5,500\n",
        "Z dimensions: 5,500\n",
        "Xprime dimensions: 5,500\n",
        "mean(abs(deltaW)): 1.45227108\n",
        "A dimensions: 5,500\n",
        "Z dimensions: 5,500\n",
        "Xprime dimensions: 5,500\n",
        "mean(abs(deltaW)): 1.44026752"
       ]
      },
      {
       "output_type": "stream",
       "stream": "stdout",
       "text": [
        "\n",
        "A dimensions: 5,500\n",
        "Z dimensions: 5,500\n",
        "Xprime dimensions: 5,500\n",
        "mean(abs(deltaW)): 1.42841638\n",
        "A dimensions: 5,500\n",
        "Z dimensions: 5,500\n",
        "Xprime dimensions: 5,500\n",
        "mean(abs(deltaW)): 1.41671510"
       ]
      },
      {
       "output_type": "stream",
       "stream": "stdout",
       "text": [
        "\n",
        "A dimensions: 5,500\n",
        "Z dimensions: 5,500\n",
        "Xprime dimensions: 5,500\n",
        "mean(abs(deltaW)): 1.40516116\n",
        "A dimensions: 5,500\n",
        "Z dimensions: 5,500\n",
        "Xprime dimensions: 5,500\n",
        "mean(abs(deltaW)): 1.39375213"
       ]
      },
      {
       "output_type": "stream",
       "stream": "stdout",
       "text": [
        "\n",
        "A dimensions: 5,500\n",
        "Z dimensions: 5,500\n",
        "Xprime dimensions: 5,500\n",
        "mean(abs(deltaW)): 1.38248559\n",
        "A dimensions: 5,500\n",
        "Z dimensions: 5,500\n",
        "Xprime dimensions: 5,500\n",
        "mean(abs(deltaW)): 1.37135919"
       ]
      },
      {
       "output_type": "stream",
       "stream": "stdout",
       "text": [
        "\n",
        "A dimensions: 5,500\n",
        "Z dimensions: 5,500\n",
        "Xprime dimensions: 5,500\n",
        "mean(abs(deltaW)): 1.36037062\n",
        "A dimensions: 5,500\n",
        "Z dimensions: 5,500\n",
        "Xprime dimensions: 5,500\n",
        "mean(abs(deltaW)): 1.34951764"
       ]
      },
      {
       "output_type": "stream",
       "stream": "stdout",
       "text": [
        "\n",
        "A dimensions: 5,500\n",
        "Z dimensions: 5,500\n",
        "Xprime dimensions: 5,500\n",
        "mean(abs(deltaW)): 1.33879801\n",
        "A dimensions: 5,500\n",
        "Z dimensions: 5,500\n",
        "Xprime dimensions: 5,500\n",
        "mean(abs(deltaW)): 1.32820957"
       ]
      },
      {
       "output_type": "stream",
       "stream": "stdout",
       "text": [
        "\n",
        "A dimensions: 5,500\n",
        "Z dimensions: 5,500\n",
        "Xprime dimensions: 5,500\n",
        "mean(abs(deltaW)): 1.31775020\n",
        "A dimensions: 5,500\n",
        "Z dimensions: 5,500\n",
        "Xprime dimensions: 5,500\n",
        "mean(abs(deltaW)): 1.30741781"
       ]
      },
      {
       "output_type": "stream",
       "stream": "stdout",
       "text": [
        "\n",
        "A dimensions: 5,500\n",
        "Z dimensions: 5,500\n",
        "Xprime dimensions: 5,500\n",
        "mean(abs(deltaW)): 1.29721036\n",
        "A dimensions: 5,500\n",
        "Z dimensions: 5,500\n",
        "Xprime dimensions: 5,500\n",
        "mean(abs(deltaW)): 1.28712585"
       ]
      },
      {
       "output_type": "stream",
       "stream": "stdout",
       "text": [
        "\n",
        "A dimensions: 5,500\n",
        "Z dimensions: 5,500\n",
        "Xprime dimensions: 5,500\n",
        "mean(abs(deltaW)): 1.27716231\n",
        "A dimensions: 5,500\n",
        "Z dimensions: 5,500\n",
        "Xprime dimensions: 5,500\n",
        "mean(abs(deltaW)): 1.26731783"
       ]
      },
      {
       "output_type": "stream",
       "stream": "stdout",
       "text": [
        "\n",
        "A dimensions: 5,500\n",
        "Z dimensions: 5,500\n",
        "Xprime dimensions: 5,500\n",
        "mean(abs(deltaW)): 1.25759050\n",
        "A dimensions: 5,500\n",
        "Z dimensions: 5,500\n",
        "Xprime dimensions: 5,500\n",
        "mean(abs(deltaW)): 1.24797850"
       ]
      },
      {
       "output_type": "stream",
       "stream": "stdout",
       "text": [
        "\n",
        "A dimensions: 5,500\n",
        "Z dimensions: 5,500\n",
        "Xprime dimensions: 5,500\n",
        "mean(abs(deltaW)): 1.23847999\n",
        "A dimensions: 5,500\n",
        "Z dimensions: 5,500\n",
        "Xprime dimensions: 5,500\n",
        "mean(abs(deltaW)): 1.22909321"
       ]
      },
      {
       "output_type": "stream",
       "stream": "stdout",
       "text": [
        "\n",
        "A dimensions: 5,500\n",
        "Z dimensions: 5,500\n",
        "Xprime dimensions: 5,500\n",
        "mean(abs(deltaW)): 1.21981641\n",
        "A dimensions: 5,500\n",
        "Z dimensions: 5,500\n",
        "Xprime dimensions: 5,500\n",
        "mean(abs(deltaW)): 1.21064788"
       ]
      },
      {
       "output_type": "stream",
       "stream": "stdout",
       "text": [
        "\n",
        "A dimensions: 5,500\n",
        "Z dimensions: 5,500\n",
        "Xprime dimensions: 5,500\n",
        "mean(abs(deltaW)): 1.20158594\n",
        "A dimensions: 5,500\n",
        "Z dimensions: 5,500\n",
        "Xprime dimensions: 5,500\n",
        "mean(abs(deltaW)): 1.19262894"
       ]
      },
      {
       "output_type": "stream",
       "stream": "stdout",
       "text": [
        "\n",
        "A dimensions: 5,500\n",
        "Z dimensions: 5,500\n",
        "Xprime dimensions: 5,500\n",
        "mean(abs(deltaW)): 1.18377528\n",
        "A dimensions: 5,500\n",
        "Z dimensions: 5,500\n",
        "Xprime dimensions: 5,500\n",
        "mean(abs(deltaW)): 1.17502337"
       ]
      },
      {
       "output_type": "stream",
       "stream": "stdout",
       "text": [
        "\n",
        "A dimensions: 5,500\n",
        "Z dimensions: 5,500\n",
        "Xprime dimensions: 5,500\n",
        "mean(abs(deltaW)): 1.16637164\n",
        "A dimensions: 5,500\n",
        "Z dimensions: 5,500\n",
        "Xprime dimensions: 5,500\n",
        "mean(abs(deltaW)): 1.15781859"
       ]
      },
      {
       "output_type": "stream",
       "stream": "stdout",
       "text": [
        "\n",
        "A dimensions: 5,500\n",
        "Z dimensions: 5,500\n",
        "Xprime dimensions: 5,500\n",
        "mean(abs(deltaW)): 1.14936271\n",
        "A dimensions: 5,500\n",
        "Z dimensions: 5,500\n",
        "Xprime dimensions: 5,500\n",
        "mean(abs(deltaW)): 1.14100254"
       ]
      },
      {
       "output_type": "stream",
       "stream": "stdout",
       "text": [
        "\n",
        "A dimensions: 5,500\n",
        "Z dimensions: 5,500\n",
        "Xprime dimensions: 5,500\n",
        "mean(abs(deltaW)): 1.13273663\n",
        "A dimensions: 5,500\n",
        "Z dimensions: 5,500\n",
        "Xprime dimensions: 5,500\n",
        "mean(abs(deltaW)): 1.12456358"
       ]
      },
      {
       "output_type": "stream",
       "stream": "stdout",
       "text": [
        "\n",
        "A dimensions: 5,500\n",
        "Z dimensions: 5,500\n",
        "Xprime dimensions: 5,500\n",
        "mean(abs(deltaW)): 1.11648198\n",
        "A dimensions: 5,500\n",
        "Z dimensions: 5,500"
       ]
      },
      {
       "output_type": "stream",
       "stream": "stdout",
       "text": [
        "\n",
        "Xprime dimensions: 5,500\n",
        "mean(abs(deltaW)): 1.10849049\n",
        "A dimensions: 5,500\n",
        "Z dimensions: 5,500\n",
        "Xprime dimensions: 5,500\n",
        "mean(abs(deltaW)): 1.10058777"
       ]
      },
      {
       "output_type": "stream",
       "stream": "stdout",
       "text": [
        "\n",
        "A dimensions: 5,500\n",
        "Z dimensions: 5,500\n",
        "Xprime dimensions: 5,500\n",
        "mean(abs(deltaW)): 1.09277250\n",
        "A dimensions: 5,500\n",
        "Z dimensions: 5,500\n",
        "Xprime dimensions: 5,500\n",
        "mean(abs(deltaW)): 1.08504339"
       ]
      },
      {
       "output_type": "stream",
       "stream": "stdout",
       "text": [
        "\n",
        "A dimensions: 5,500\n",
        "Z dimensions: 5,500\n",
        "Xprime dimensions: 5,500\n",
        "mean(abs(deltaW)): 1.07739918\n",
        "A dimensions: 5,500\n",
        "Z dimensions: 5,500\n",
        "Xprime dimensions: 5,500\n",
        "mean(abs(deltaW)): 1.06983863"
       ]
      },
      {
       "output_type": "stream",
       "stream": "stdout",
       "text": [
        "\n",
        "A dimensions: 5,500\n",
        "Z dimensions: 5,500\n",
        "Xprime dimensions: 5,500\n",
        "mean(abs(deltaW)): 1.06236051\n",
        "A dimensions: 5,500\n",
        "Z dimensions: 5,500\n",
        "Xprime dimensions: 5,500\n",
        "mean(abs(deltaW)): 1.05496364"
       ]
      },
      {
       "output_type": "stream",
       "stream": "stdout",
       "text": [
        "\n",
        "A dimensions: 5,500\n",
        "Z dimensions: 5,500\n",
        "Xprime dimensions: 5,500\n",
        "mean(abs(deltaW)): 1.04764683\n",
        "A dimensions: 5,500\n",
        "Z dimensions: 5,500\n",
        "Xprime dimensions: 5,500\n",
        "mean(abs(deltaW)): 1.04040892"
       ]
      },
      {
       "output_type": "stream",
       "stream": "stdout",
       "text": [
        "\n",
        "A dimensions: 5,500\n",
        "Z dimensions: 5,500\n",
        "Xprime dimensions: 5,500\n",
        "mean(abs(deltaW)): 1.03324879\n",
        "A dimensions: 5,500\n",
        "Z dimensions: 5,500\n",
        "Xprime dimensions: 5,500\n",
        "mean(abs(deltaW)): 1.02616533"
       ]
      },
      {
       "output_type": "stream",
       "stream": "stdout",
       "text": [
        "\n",
        "A dimensions: 5,500\n",
        "Z dimensions: 5,500\n",
        "Xprime dimensions: 5,500\n",
        "mean(abs(deltaW)): 1.01915742\n",
        "A dimensions: 5,500\n",
        "Z dimensions: 5,500\n",
        "Xprime dimensions: 5,500\n",
        "mean(abs(deltaW)): 1.01222401"
       ]
      },
      {
       "output_type": "stream",
       "stream": "stdout",
       "text": [
        "\n",
        "A dimensions: 5,500\n",
        "Z dimensions: 5,500\n",
        "Xprime dimensions: 5,500\n",
        "mean(abs(deltaW)): 1.00536403\n",
        "A dimensions: 5,500\n",
        "Z dimensions: 5,500\n",
        "Xprime dimensions: 5,500\n",
        "mean(abs(deltaW)): 0.99857644"
       ]
      },
      {
       "output_type": "stream",
       "stream": "stdout",
       "text": [
        "\n",
        "A dimensions: 5,500\n",
        "Z dimensions: 5,500\n",
        "Xprime dimensions: 5,500\n",
        "mean(abs(deltaW)): 0.99186024\n",
        "A dimensions: 5,500\n",
        "Z dimensions: 5,500\n",
        "Xprime dimensions: 5,500\n",
        "mean(abs(deltaW)): 0.98521441"
       ]
      },
      {
       "output_type": "stream",
       "stream": "stdout",
       "text": [
        "\n",
        "A dimensions: 5,500\n",
        "Z dimensions: 5,500\n",
        "Xprime dimensions: 5,500\n",
        "mean(abs(deltaW)): 0.97863796\n",
        "A dimensions: 5,500\n",
        "Z dimensions: 5,500\n",
        "Xprime dimensions: 5,500\n",
        "mean(abs(deltaW)): 0.97212994"
       ]
      },
      {
       "output_type": "stream",
       "stream": "stdout",
       "text": [
        "\n",
        "A dimensions: 5,500\n",
        "Z dimensions: 5,500\n",
        "Xprime dimensions: 5,500\n",
        "mean(abs(deltaW)): 0.96568940\n",
        "A dimensions: 5,500\n",
        "Z dimensions: 5,500\n",
        "Xprime dimensions: 5,500\n",
        "mean(abs(deltaW)): 0.95931539"
       ]
      },
      {
       "output_type": "stream",
       "stream": "stdout",
       "text": [
        "\n",
        "A dimensions: 5,500\n",
        "Z dimensions: 5,500\n",
        "Xprime dimensions: 5,500\n",
        "mean(abs(deltaW)): 0.95300700\n",
        "A dimensions: 5,500\n",
        "Z dimensions: 5,500\n",
        "Xprime dimensions: 5,500\n",
        "mean(abs(deltaW)): 0.94676332"
       ]
      },
      {
       "output_type": "stream",
       "stream": "stdout",
       "text": [
        "\n",
        "A dimensions: 5,500\n",
        "Z dimensions: 5,500\n",
        "Xprime dimensions: 5,500\n",
        "mean(abs(deltaW)): 0.94058348\n",
        "A dimensions: 5,500\n",
        "Z dimensions: 5,500\n",
        "Xprime dimensions: 5,500\n",
        "mean(abs(deltaW)): 0.93446659"
       ]
      },
      {
       "output_type": "stream",
       "stream": "stdout",
       "text": [
        "\n",
        "A dimensions: 5,500\n",
        "Z dimensions: 5,500\n",
        "Xprime dimensions: 5,500\n",
        "mean(abs(deltaW)): 0.92841181\n",
        "A dimensions: 5,500\n",
        "Z dimensions: 5,500\n",
        "Xprime dimensions: 5,500\n",
        "mean(abs(deltaW)): 0.92241828"
       ]
      },
      {
       "output_type": "stream",
       "stream": "stdout",
       "text": [
        "\n",
        "A dimensions: 5,500\n",
        "Z dimensions: 5,500\n",
        "Xprime dimensions: 5,500\n",
        "mean(abs(deltaW)): 0.91648518\n",
        "A dimensions: 5,500\n",
        "Z dimensions: 5,500\n",
        "Xprime dimensions: 5,500\n",
        "mean(abs(deltaW)): 0.91061169"
       ]
      },
      {
       "output_type": "stream",
       "stream": "stdout",
       "text": [
        "\n",
        "A dimensions: 5,500\n",
        "Z dimensions: 5,500\n",
        "Xprime dimensions: 5,500\n",
        "mean(abs(deltaW)): 0.90479702\n",
        "A dimensions: 5,500\n",
        "Z dimensions: 5,500\n",
        "Xprime dimensions: 5,500\n",
        "iteration:100"
       ]
      },
      {
       "output_type": "stream",
       "stream": "stdout",
       "text": [
        "\n",
        "mean(abs(deltaW)): 0.89904037\n",
        "A dimensions: 5,500\n",
        "Z dimensions: 5,500\n",
        "Xprime dimensions: 5,500\n",
        "mean(abs(deltaW)): 0.89334097\n",
        "A dimensions: 5,500\n",
        "Z dimensions: 5,500\n",
        "Xprime dimensions: 5,500\n",
        "mean(abs(deltaW)): 0.88769806"
       ]
      },
      {
       "output_type": "stream",
       "stream": "stdout",
       "text": [
        "\n",
        "A dimensions: 5,500\n",
        "Z dimensions: 5,500\n",
        "Xprime dimensions: 5,500\n",
        "mean(abs(deltaW)): 0.88211088\n",
        "A dimensions: 5,500\n",
        "Z dimensions: 5,500\n",
        "Xprime dimensions: 5,500\n",
        "mean(abs(deltaW)): 0.87657871"
       ]
      },
      {
       "output_type": "stream",
       "stream": "stdout",
       "text": [
        "\n",
        "A dimensions: 5,500\n",
        "Z dimensions: 5,500\n",
        "Xprime dimensions: 5,500\n",
        "mean(abs(deltaW)): 0.87110082\n",
        "A dimensions: 5,500\n",
        "Z dimensions: 5,500\n",
        "Xprime dimensions: 5,500\n",
        "mean(abs(deltaW)): 0.86567649"
       ]
      },
      {
       "output_type": "stream",
       "stream": "stdout",
       "text": [
        "\n",
        "A dimensions: 5,500\n",
        "Z dimensions: 5,500\n",
        "Xprime dimensions: 5,500\n",
        "mean(abs(deltaW)): 0.86030502\n",
        "A dimensions: 5,500\n",
        "Z dimensions: 5,500\n",
        "Xprime dimensions: 5,500\n",
        "mean(abs(deltaW)): 0.85498572"
       ]
      },
      {
       "output_type": "stream",
       "stream": "stdout",
       "text": [
        "\n",
        "A dimensions: 5,500\n",
        "Z dimensions: 5,500\n",
        "Xprime dimensions: 5,500\n",
        "mean(abs(deltaW)): 0.84971792\n",
        "A dimensions: 5,500\n",
        "Z dimensions: 5,500\n",
        "Xprime dimensions: 5,500\n",
        "mean(abs(deltaW)): 0.84450094"
       ]
      },
      {
       "output_type": "stream",
       "stream": "stdout",
       "text": [
        "\n",
        "A dimensions: 5,500\n",
        "Z dimensions: 5,500\n",
        "Xprime dimensions: 5,500\n",
        "mean(abs(deltaW)): 0.83933413\n",
        "A dimensions: 5,500\n",
        "Z dimensions: 5,500\n",
        "Xprime dimensions: 5,500\n",
        "mean(abs(deltaW)): 0.83421685"
       ]
      },
      {
       "output_type": "stream",
       "stream": "stdout",
       "text": [
        "\n",
        "A dimensions: 5,500\n",
        "Z dimensions: 5,500\n",
        "Xprime dimensions: 5,500\n",
        "mean(abs(deltaW)): 0.82914845\n",
        "A dimensions: 5,500\n",
        "Z dimensions: 5,500\n",
        "Xprime dimensions: 5,500\n",
        "mean(abs(deltaW)): 0.82412830"
       ]
      },
      {
       "output_type": "stream",
       "stream": "stdout",
       "text": [
        "\n",
        "A dimensions: 5,500\n",
        "Z dimensions: 5,500\n",
        "Xprime dimensions: 5,500\n",
        "mean(abs(deltaW)): 0.81915580\n",
        "A dimensions: 5,500\n",
        "Z dimensions: 5,500\n",
        "Xprime dimensions: 5,500\n",
        "mean(abs(deltaW)): 0.81423034"
       ]
      },
      {
       "output_type": "stream",
       "stream": "stdout",
       "text": [
        "\n",
        "A dimensions: 5,500\n",
        "Z dimensions: 5,500\n",
        "Xprime dimensions: 5,500\n",
        "mean(abs(deltaW)): 0.80935132\n",
        "A dimensions: 5,500\n",
        "Z dimensions: 5,500\n",
        "Xprime dimensions: 5,500\n",
        "mean(abs(deltaW)): 0.80451815"
       ]
      },
      {
       "output_type": "stream",
       "stream": "stdout",
       "text": [
        "\n",
        "A dimensions: 5,500\n",
        "Z dimensions: 5,500\n",
        "Xprime dimensions: 5,500\n",
        "mean(abs(deltaW)): 0.79973026\n",
        "A dimensions: 5,500\n",
        "Z dimensions: 5,500\n",
        "Xprime dimensions: 5,500\n",
        "mean(abs(deltaW)): 0.79498707"
       ]
      },
      {
       "output_type": "stream",
       "stream": "stdout",
       "text": [
        "\n",
        "A dimensions: 5,500\n",
        "Z dimensions: 5,500\n",
        "Xprime dimensions: 5,500\n",
        "mean(abs(deltaW)): 0.79028803\n",
        "A dimensions: 5,500\n",
        "Z dimensions: 5,500\n",
        "Xprime dimensions: 5,500\n",
        "mean(abs(deltaW)): 0.78563258"
       ]
      },
      {
       "output_type": "stream",
       "stream": "stdout",
       "text": [
        "\n",
        "A dimensions: 5,500\n",
        "Z dimensions: 5,500\n",
        "Xprime dimensions: 5,500\n",
        "mean(abs(deltaW)): 0.78102018\n",
        "A dimensions: 5,500\n",
        "Z dimensions: 5,500\n",
        "Xprime dimensions: 5,500\n",
        "mean(abs(deltaW)): 0.77645030"
       ]
      },
      {
       "output_type": "stream",
       "stream": "stdout",
       "text": [
        "\n",
        "A dimensions: 5,500\n",
        "Z dimensions: 5,500\n",
        "Xprime dimensions: 5,500\n",
        "mean(abs(deltaW)): 0.77192241\n",
        "A dimensions: 5,500\n",
        "Z dimensions: 5,500\n",
        "Xprime dimensions: 5,500\n",
        "mean(abs(deltaW)): 0.76743599"
       ]
      },
      {
       "output_type": "stream",
       "stream": "stdout",
       "text": [
        "\n",
        "A dimensions: 5,500\n",
        "Z dimensions: 5,500\n",
        "Xprime dimensions: 5,500\n",
        "mean(abs(deltaW)): 0.76299053\n",
        "A dimensions: 5,500\n",
        "Z dimensions: 5,500\n",
        "Xprime dimensions: 5,500\n",
        "mean(abs(deltaW)): 0.75858554"
       ]
      },
      {
       "output_type": "stream",
       "stream": "stdout",
       "text": [
        "\n",
        "A dimensions: 5,500\n",
        "Z dimensions: 5,500\n",
        "Xprime dimensions: 5,500\n",
        "mean(abs(deltaW)): 0.75422051\n",
        "A dimensions: 5,500\n",
        "Z dimensions: 5,500\n",
        "Xprime dimensions: 5,500\n",
        "mean(abs(deltaW)): 0.74989496"
       ]
      },
      {
       "output_type": "stream",
       "stream": "stdout",
       "text": [
        "\n",
        "A dimensions: 5,500\n",
        "Z dimensions: 5,500\n",
        "Xprime dimensions: 5,500\n",
        "mean(abs(deltaW)): 0.74560840\n",
        "A dimensions: 5,500\n",
        "Z dimensions: 5,500\n",
        "Xprime dimensions: 5,500\n",
        "mean(abs(deltaW)): 0.74136037"
       ]
      },
      {
       "output_type": "stream",
       "stream": "stdout",
       "text": [
        "\n",
        "A dimensions: 5,500\n",
        "Z dimensions: 5,500\n",
        "Xprime dimensions: 5,500\n",
        "mean(abs(deltaW)): 0.73715040\n",
        "A dimensions: 5,500\n",
        "Z dimensions: 5,500\n",
        "Xprime dimensions: 5,500\n",
        "mean(abs(deltaW)): 0.73297804"
       ]
      },
      {
       "output_type": "stream",
       "stream": "stdout",
       "text": [
        "\n",
        "A dimensions: 5,500\n",
        "Z dimensions: 5,500\n",
        "Xprime dimensions: 5,500\n",
        "mean(abs(deltaW)): 0.72884282\n",
        "A dimensions: 5,500\n",
        "Z dimensions: 5,500\n",
        "Xprime dimensions: 5,500\n",
        "mean(abs(deltaW)): 0.72474431"
       ]
      },
      {
       "output_type": "stream",
       "stream": "stdout",
       "text": [
        "\n",
        "A dimensions: 5,500\n",
        "Z dimensions: 5,500\n",
        "Xprime dimensions: 5,500\n",
        "mean(abs(deltaW)): 0.72068207\n",
        "A dimensions: 5,500\n",
        "Z dimensions: 5,500\n",
        "Xprime dimensions: 5,500\n",
        "mean(abs(deltaW)): 0.71665567"
       ]
      },
      {
       "output_type": "stream",
       "stream": "stdout",
       "text": [
        "\n",
        "A dimensions: 5,500\n",
        "Z dimensions: 5,500\n",
        "Xprime dimensions: 5,500\n",
        "mean(abs(deltaW)): 0.71266467\n",
        "A dimensions: 5,500\n",
        "Z dimensions: 5,500\n",
        "Xprime dimensions: 5,500\n",
        "mean(abs(deltaW)): 0.70870867"
       ]
      },
      {
       "output_type": "stream",
       "stream": "stdout",
       "text": [
        "\n",
        "A dimensions: 5,500\n",
        "Z dimensions: 5,500\n",
        "Xprime dimensions: 5,500\n",
        "mean(abs(deltaW)): 0.70478724\n",
        "A dimensions: 5,500\n",
        "Z dimensions: 5,500\n",
        "Xprime dimensions: 5,500\n",
        "mean(abs(deltaW)): 0.70089999"
       ]
      },
      {
       "output_type": "stream",
       "stream": "stdout",
       "text": [
        "\n",
        "A dimensions: 5,500\n",
        "Z dimensions: 5,500\n",
        "Xprime dimensions: 5,500\n",
        "mean(abs(deltaW)): 0.69704651\n",
        "A dimensions: 5,500\n",
        "Z dimensions: 5,500\n",
        "Xprime dimensions: 5,500\n",
        "mean(abs(deltaW)): 0.69322641"
       ]
      },
      {
       "output_type": "stream",
       "stream": "stdout",
       "text": [
        "\n",
        "A dimensions: 5,500\n",
        "Z dimensions: 5,500\n",
        "Xprime dimensions: 5,500\n",
        "mean(abs(deltaW)): 0.68943929\n",
        "A dimensions: 5,500\n",
        "Z dimensions: 5,500\n",
        "Xprime dimensions: 5,500\n",
        "mean(abs(deltaW)): 0.68568478"
       ]
      },
      {
       "output_type": "stream",
       "stream": "stdout",
       "text": [
        "\n",
        "A dimensions: 5,500\n",
        "Z dimensions: 5,500\n",
        "Xprime dimensions: 5,500\n",
        "mean(abs(deltaW)): 0.68196249\n",
        "A dimensions: 5,500\n",
        "Z dimensions: 5,500\n",
        "Xprime dimensions: 5,500\n",
        "mean(abs(deltaW)): 0.67827206"
       ]
      },
      {
       "output_type": "stream",
       "stream": "stdout",
       "text": [
        "\n",
        "A dimensions: 5,500\n",
        "Z dimensions: 5,500\n",
        "Xprime dimensions: 5,500\n",
        "mean(abs(deltaW)): 0.67461312\n",
        "A dimensions: 5,500\n",
        "Z dimensions: 5,500\n",
        "Xprime dimensions: 5,500\n",
        "mean(abs(deltaW)): 0.67098530"
       ]
      },
      {
       "output_type": "stream",
       "stream": "stdout",
       "text": [
        "\n",
        "A dimensions: 5,500\n",
        "Z dimensions: 5,500\n",
        "Xprime dimensions: 5,500\n",
        "mean(abs(deltaW)): 0.66738825\n",
        "A dimensions: 5,500\n",
        "Z dimensions: 5,500\n",
        "Xprime dimensions: 5,500\n",
        "mean(abs(deltaW)): 0.66382161"
       ]
      },
      {
       "output_type": "stream",
       "stream": "stdout",
       "text": [
        "\n",
        "A dimensions: 5,500\n",
        "Z dimensions: 5,500\n",
        "Xprime dimensions: 5,500\n",
        "mean(abs(deltaW)): 0.66028505\n",
        "A dimensions: 5,500\n",
        "Z dimensions: 5,500\n",
        "Xprime dimensions: 5,500\n",
        "mean(abs(deltaW)): 0.65677821"
       ]
      },
      {
       "output_type": "stream",
       "stream": "stdout",
       "text": [
        "\n",
        "A dimensions: 5,500\n",
        "Z dimensions: 5,500\n",
        "Xprime dimensions: 5,500\n",
        "mean(abs(deltaW)): 0.65330076\n",
        "A dimensions: 5,500\n",
        "Z dimensions: 5,500\n",
        "Xprime dimensions: 5,500\n",
        "mean(abs(deltaW)): 0.64985238"
       ]
      },
      {
       "output_type": "stream",
       "stream": "stdout",
       "text": [
        "\n",
        "A dimensions: 5,500\n",
        "Z dimensions: 5,500\n",
        "Xprime dimensions: 5,500\n",
        "mean(abs(deltaW)): 0.64643273\n",
        "A dimensions: 5,500\n",
        "Z dimensions: 5,500\n",
        "Xprime dimensions: 5,500\n",
        "mean(abs(deltaW)): 0.64304149"
       ]
      },
      {
       "output_type": "stream",
       "stream": "stdout",
       "text": [
        "\n",
        "A dimensions: 5,500\n",
        "Z dimensions: 5,500\n",
        "Xprime dimensions: 5,500\n",
        "mean(abs(deltaW)): 0.63967833\n",
        "A dimensions: 5,500\n",
        "Z dimensions: 5,500\n",
        "Xprime dimensions: 5,500\n",
        "mean(abs(deltaW)): 0.63634296"
       ]
      },
      {
       "output_type": "stream",
       "stream": "stdout",
       "text": [
        "\n",
        "A dimensions: 5,500\n",
        "Z dimensions: 5,500\n",
        "Xprime dimensions: 5,500\n",
        "mean(abs(deltaW)): 0.63303506\n",
        "A dimensions: 5,500\n",
        "Z dimensions: 5,500\n",
        "Xprime dimensions: 5,500\n",
        "mean(abs(deltaW)): 0.62975431"
       ]
      },
      {
       "output_type": "stream",
       "stream": "stdout",
       "text": [
        "\n",
        "A dimensions: 5,500\n",
        "Z dimensions: 5,500\n",
        "Xprime dimensions: 5,500\n",
        "mean(abs(deltaW)): 0.62650044\n",
        "A dimensions: 5,500\n",
        "Z dimensions: 5,500\n",
        "Xprime dimensions: 5,500\n",
        "mean(abs(deltaW)): 0.62327312"
       ]
      },
      {
       "output_type": "stream",
       "stream": "stdout",
       "text": [
        "\n",
        "A dimensions: 5,500\n",
        "Z dimensions: 5,500\n",
        "Xprime dimensions: 5,500\n",
        "mean(abs(deltaW)): 0.62007208\n",
        "A dimensions: 5,500\n",
        "Z dimensions: 5,500\n",
        "Xprime dimensions: 5,500\n",
        "mean(abs(deltaW)): 0.61689703"
       ]
      },
      {
       "output_type": "stream",
       "stream": "stdout",
       "text": [
        "\n",
        "A dimensions: 5,500\n",
        "Z dimensions: 5,500\n",
        "Xprime dimensions: 5,500\n",
        "mean(abs(deltaW)): 0.61374767\n",
        "A dimensions: 5,500\n",
        "Z dimensions: 5,500\n",
        "Xprime dimensions: 5,500\n",
        "mean(abs(deltaW)): 0.61062374"
       ]
      },
      {
       "output_type": "stream",
       "stream": "stdout",
       "text": [
        "\n",
        "A dimensions: 5,500\n",
        "Z dimensions: 5,500\n",
        "Xprime dimensions: 5,500\n",
        "mean(abs(deltaW)): 0.60752494\n",
        "A dimensions: 5,500\n",
        "Z dimensions: 5,500\n",
        "Xprime dimensions: 5,500\n",
        "mean(abs(deltaW)): 0.60445102"
       ]
      },
      {
       "output_type": "stream",
       "stream": "stdout",
       "text": [
        "\n",
        "A dimensions: 5,500\n",
        "Z dimensions: 5,500\n",
        "Xprime dimensions: 5,500\n",
        "mean(abs(deltaW)): 0.60140169\n",
        "A dimensions: 5,500\n",
        "Z dimensions: 5,500\n",
        "Xprime dimensions: 5,500\n",
        "mean(abs(deltaW)): 0.59837670"
       ]
      },
      {
       "output_type": "stream",
       "stream": "stdout",
       "text": [
        "\n",
        "A dimensions: 5,500\n",
        "Z dimensions: 5,500\n",
        "Xprime dimensions: 5,500\n",
        "mean(abs(deltaW)): 0.59537579\n",
        "A dimensions: 5,500\n",
        "Z dimensions: 5,500\n",
        "Xprime dimensions: 5,500\n",
        "mean(abs(deltaW)): 0.59239868"
       ]
      },
      {
       "output_type": "stream",
       "stream": "stdout",
       "text": [
        "\n",
        "A dimensions: 5,500\n",
        "Z dimensions: 5,500\n",
        "Xprime dimensions: 5,500\n",
        "mean(abs(deltaW)): 0.58944513\n",
        "A dimensions: 5,500\n",
        "Z dimensions: 5,500\n",
        "Xprime dimensions: 5,500\n",
        "mean(abs(deltaW)): 0.58651489"
       ]
      },
      {
       "output_type": "stream",
       "stream": "stdout",
       "text": [
        "\n",
        "A dimensions: 5,500\n",
        "Z dimensions: 5,500\n",
        "Xprime dimensions: 5,500\n",
        "mean(abs(deltaW)): 0.58360771\n",
        "A dimensions: 5,500\n",
        "Z dimensions: 5,500\n",
        "Xprime dimensions: 5,500\n",
        "mean(abs(deltaW)): 0.58072334"
       ]
      },
      {
       "output_type": "stream",
       "stream": "stdout",
       "text": [
        "\n",
        "A dimensions: 5,500\n",
        "Z dimensions: 5,500\n",
        "Xprime dimensions: 5,500\n",
        "mean(abs(deltaW)): 0.57786154\n",
        "A dimensions: 5,500\n",
        "Z dimensions: 5,500\n",
        "Xprime dimensions: 5,500\n",
        "mean(abs(deltaW)): 0.57502208"
       ]
      },
      {
       "output_type": "stream",
       "stream": "stdout",
       "text": [
        "\n",
        "A dimensions: 5,500\n",
        "Z dimensions: 5,500\n",
        "Xprime dimensions: 5,500\n",
        "mean(abs(deltaW)): 0.57220471\n",
        "A dimensions: 5,500\n",
        "Z dimensions: 5,500\n",
        "Xprime dimensions: 5,500\n",
        "mean(abs(deltaW)): 0.56940920"
       ]
      },
      {
       "output_type": "stream",
       "stream": "stdout",
       "text": [
        "\n",
        "A dimensions: 5,500\n",
        "Z dimensions: 5,500\n",
        "Xprime dimensions: 5,500\n",
        "mean(abs(deltaW)): 0.56663533\n",
        "A dimensions: 5,500\n",
        "Z dimensions: 5,500\n",
        "Xprime dimensions: 5,500\n",
        "mean(abs(deltaW)): 0.56388287"
       ]
      },
      {
       "output_type": "stream",
       "stream": "stdout",
       "text": [
        "\n",
        "A dimensions: 5,500\n",
        "Z dimensions: 5,500\n",
        "Xprime dimensions: 5,500\n",
        "mean(abs(deltaW)): 0.56115159\n",
        "A dimensions: 5,500\n",
        "Z dimensions: 5,500\n",
        "Xprime dimensions: 5,500\n",
        "mean(abs(deltaW)): 0.55844128"
       ]
      },
      {
       "output_type": "stream",
       "stream": "stdout",
       "text": [
        "\n",
        "A dimensions: 5,500\n",
        "Z dimensions: 5,500\n",
        "Xprime dimensions: 5,500\n",
        "mean(abs(deltaW)): 0.55575172\n",
        "A dimensions: 5,500\n",
        "Z dimensions: 5,500\n",
        "Xprime dimensions: 5,500\n",
        "mean(abs(deltaW)): 0.55308269"
       ]
      },
      {
       "output_type": "stream",
       "stream": "stdout",
       "text": [
        "\n",
        "A dimensions: 5,500\n",
        "Z dimensions: 5,500\n",
        "Xprime dimensions: 5,500\n",
        "mean(abs(deltaW)): 0.55043398\n",
        "A dimensions: 5,500\n",
        "Z dimensions: 5,500\n",
        "Xprime dimensions: 5,500\n",
        "mean(abs(deltaW)): 0.54780538"
       ]
      },
      {
       "output_type": "stream",
       "stream": "stdout",
       "text": [
        "\n",
        "A dimensions: 5,500\n",
        "Z dimensions: 5,500\n",
        "Xprime dimensions: 5,500\n",
        "mean(abs(deltaW)): 0.54519669\n",
        "A dimensions: 5,500\n",
        "Z dimensions: 5,500\n",
        "Xprime dimensions: 5,500\n",
        "mean(abs(deltaW)): 0.54260770"
       ]
      },
      {
       "output_type": "stream",
       "stream": "stdout",
       "text": [
        "\n",
        "A dimensions: 5,500\n",
        "Z dimensions: 5,500\n",
        "Xprime dimensions: 5,500\n",
        "mean(abs(deltaW)): 0.54003821\n",
        "A dimensions: 5,500\n",
        "Z dimensions: 5,500\n",
        "Xprime dimensions: 5,500\n",
        "mean(abs(deltaW)): 0.53748801"
       ]
      },
      {
       "output_type": "stream",
       "stream": "stdout",
       "text": [
        "\n",
        "A dimensions: 5,500\n",
        "Z dimensions: 5,500\n",
        "Xprime dimensions: 5,500\n",
        "mean(abs(deltaW)): 0.53495693\n",
        "A dimensions: 5,500\n",
        "Z dimensions: 5,500\n",
        "Xprime dimensions: 5,500\n",
        "mean(abs(deltaW)): 0.53244475"
       ]
      },
      {
       "output_type": "stream",
       "stream": "stdout",
       "text": [
        "\n",
        "A dimensions: 5,500\n",
        "Z dimensions: 5,500\n",
        "Xprime dimensions: 5,500\n",
        "mean(abs(deltaW)): 0.52995130\n",
        "A dimensions: 5,500\n",
        "Z dimensions: 5,500\n",
        "Xprime dimensions: 5,500\n",
        "mean(abs(deltaW)): 0.52747638"
       ]
      },
      {
       "output_type": "stream",
       "stream": "stdout",
       "text": [
        "\n",
        "A dimensions: 5,500\n",
        "Z dimensions: 5,500\n",
        "Xprime dimensions: 5,500\n",
        "mean(abs(deltaW)): 0.52501980\n",
        "A dimensions: 5,500\n",
        "Z dimensions: 5,500\n",
        "Xprime dimensions: 5,500\n",
        "iteration:200"
       ]
      },
      {
       "output_type": "stream",
       "stream": "stdout",
       "text": [
        "\n",
        "mean(abs(deltaW)): 0.52258138\n",
        "A dimensions: 5,500\n",
        "Z dimensions: 5,500\n",
        "Xprime dimensions: 5,500\n",
        "mean(abs(deltaW)): 0.52016094\n",
        "A dimensions: 5,500\n",
        "Z dimensions: 5,500\n",
        "Xprime dimensions: 5,500\n",
        "mean(abs(deltaW)): 0.51775831"
       ]
      },
      {
       "output_type": "stream",
       "stream": "stdout",
       "text": [
        "\n",
        "A dimensions: 5,500\n",
        "Z dimensions: 5,500\n",
        "Xprime dimensions: 5,500\n",
        "mean(abs(deltaW)): 0.51537329\n",
        "A dimensions: 5,500\n",
        "Z dimensions: 5,500\n",
        "Xprime dimensions: 5,500\n",
        "mean(abs(deltaW)): 0.51300572"
       ]
      },
      {
       "output_type": "stream",
       "stream": "stdout",
       "text": [
        "\n",
        "A dimensions: 5,500\n",
        "Z dimensions: 5,500\n",
        "Xprime dimensions: 5,500\n",
        "mean(abs(deltaW)): 0.51065543\n",
        "A dimensions: 5,500\n",
        "Z dimensions: 5,500\n",
        "Xprime dimensions: 5,500\n",
        "mean(abs(deltaW)): 0.50832224"
       ]
      },
      {
       "output_type": "stream",
       "stream": "stdout",
       "text": [
        "\n",
        "A dimensions: 5,500\n",
        "Z dimensions: 5,500\n",
        "Xprime dimensions: 5,500\n",
        "mean(abs(deltaW)): 0.50600598\n",
        "A dimensions: 5,500\n",
        "Z dimensions: 5,500\n",
        "Xprime dimensions: 5,500\n",
        "mean(abs(deltaW)): 0.50370650"
       ]
      },
      {
       "output_type": "stream",
       "stream": "stdout",
       "text": [
        "\n",
        "A dimensions: 5,500\n",
        "Z dimensions: 5,500\n",
        "Xprime dimensions: 5,500\n",
        "mean(abs(deltaW)): 0.50142362\n",
        "A dimensions: 5,500\n",
        "Z dimensions: 5,500\n",
        "Xprime dimensions: 5,500\n",
        "mean(abs(deltaW)): 0.49915718"
       ]
      },
      {
       "output_type": "stream",
       "stream": "stdout",
       "text": [
        "\n",
        "A dimensions: 5,500\n",
        "Z dimensions: 5,500\n",
        "Xprime dimensions: 5,500\n",
        "mean(abs(deltaW)): 0.49690702\n",
        "A dimensions: 5,500\n",
        "Z dimensions: 5,500\n",
        "Xprime dimensions: 5,500\n",
        "mean(abs(deltaW)): 0.49467299"
       ]
      },
      {
       "output_type": "stream",
       "stream": "stdout",
       "text": [
        "\n",
        "A dimensions: 5,500\n",
        "Z dimensions: 5,500\n",
        "Xprime dimensions: 5,500\n",
        "mean(abs(deltaW)): 0.49245492\n",
        "A dimensions: 5,500\n",
        "Z dimensions: 5,500\n",
        "Xprime dimensions: 5,500\n",
        "mean(abs(deltaW)): 0.49025266"
       ]
      },
      {
       "output_type": "stream",
       "stream": "stdout",
       "text": [
        "\n",
        "A dimensions: 5,500\n",
        "Z dimensions: 5,500\n",
        "Xprime dimensions: 5,500\n",
        "mean(abs(deltaW)): 0.48806606\n",
        "A dimensions: 5,500\n",
        "Z dimensions: 5,500\n",
        "Xprime dimensions: 5,500\n",
        "mean(abs(deltaW)): 0.48589497"
       ]
      },
      {
       "output_type": "stream",
       "stream": "stdout",
       "text": [
        "\n",
        "A dimensions: 5,500\n",
        "Z dimensions: 5,500\n",
        "Xprime dimensions: 5,500\n",
        "mean(abs(deltaW)): 0.48373924\n",
        "A dimensions: 5,500\n",
        "Z dimensions: 5,500\n",
        "Xprime dimensions: 5,500\n",
        "mean(abs(deltaW)): 0.48159873"
       ]
      },
      {
       "output_type": "stream",
       "stream": "stdout",
       "text": [
        "\n",
        "A dimensions: 5,500\n",
        "Z dimensions: 5,500\n",
        "Xprime dimensions: 5,500\n",
        "mean(abs(deltaW)): 0.47947328\n",
        "A dimensions: 5,500\n",
        "Z dimensions: 5,500\n",
        "Xprime dimensions: 5,500\n",
        "mean(abs(deltaW)): 0.47736275"
       ]
      },
      {
       "output_type": "stream",
       "stream": "stdout",
       "text": [
        "\n",
        "A dimensions: 5,500\n",
        "Z dimensions: 5,500\n",
        "Xprime dimensions: 5,500\n",
        "mean(abs(deltaW)): 0.47526700\n",
        "A dimensions: 5,500\n",
        "Z dimensions: 5,500\n",
        "Xprime dimensions: 5,500\n",
        "mean(abs(deltaW)): 0.47318589"
       ]
      },
      {
       "output_type": "stream",
       "stream": "stdout",
       "text": [
        "\n",
        "A dimensions: 5,500\n",
        "Z dimensions: 5,500\n",
        "Xprime dimensions: 5,500\n",
        "mean(abs(deltaW)): 0.47111928\n",
        "A dimensions: 5,500\n",
        "Z dimensions: 5,500\n",
        "Xprime dimensions: 5,500\n",
        "mean(abs(deltaW)): 0.46906704"
       ]
      },
      {
       "output_type": "stream",
       "stream": "stdout",
       "text": [
        "\n",
        "A dimensions: 5,500\n",
        "Z dimensions: 5,500\n",
        "Xprime dimensions: 5,500\n",
        "mean(abs(deltaW)): 0.46702902\n",
        "A dimensions: 5,500\n",
        "Z dimensions: 5,500\n",
        "Xprime dimensions: 5,500\n",
        "mean(abs(deltaW)): 0.46500511"
       ]
      },
      {
       "output_type": "stream",
       "stream": "stdout",
       "text": [
        "\n",
        "A dimensions: 5,500\n",
        "Z dimensions: 5,500\n",
        "Xprime dimensions: 5,500\n",
        "mean(abs(deltaW)): 0.46299515\n",
        "A dimensions: 5,500\n",
        "Z dimensions: 5,500\n",
        "Xprime dimensions: 5,500\n",
        "mean(abs(deltaW)): 0.46099903"
       ]
      },
      {
       "output_type": "stream",
       "stream": "stdout",
       "text": [
        "\n",
        "A dimensions: 5,500\n",
        "Z dimensions: 5,500\n",
        "Xprime dimensions: 5,500\n",
        "mean(abs(deltaW)): 0.45901661\n",
        "A dimensions: 5,500\n",
        "Z dimensions: 5,500\n",
        "Xprime dimensions: 5,500\n",
        "mean(abs(deltaW)): 0.45704776"
       ]
      },
      {
       "output_type": "stream",
       "stream": "stdout",
       "text": [
        "\n",
        "A dimensions: 5,500\n",
        "Z dimensions: 5,500\n",
        "Xprime dimensions: 5,500\n",
        "mean(abs(deltaW)): 0.45509236\n",
        "A dimensions: 5,500\n",
        "Z dimensions: 5,500\n",
        "Xprime dimensions: 5,500\n",
        "mean(abs(deltaW)): 0.45315029"
       ]
      },
      {
       "output_type": "stream",
       "stream": "stdout",
       "text": [
        "\n",
        "A dimensions: 5,500\n",
        "Z dimensions: 5,500\n",
        "Xprime dimensions: 5,500\n",
        "mean(abs(deltaW)): 0.45122142\n",
        "A dimensions: 5,500\n",
        "Z dimensions: 5,500\n",
        "Xprime dimensions: 5,500\n",
        "mean(abs(deltaW)): 0.44930563"
       ]
      },
      {
       "output_type": "stream",
       "stream": "stdout",
       "text": [
        "\n",
        "A dimensions: 5,500\n",
        "Z dimensions: 5,500\n",
        "Xprime dimensions: 5,500\n",
        "mean(abs(deltaW)): 0.44740280\n",
        "A dimensions: 5,500\n",
        "Z dimensions: 5,500\n",
        "Xprime dimensions: 5,500\n",
        "mean(abs(deltaW)): 0.44551281"
       ]
      },
      {
       "output_type": "stream",
       "stream": "stdout",
       "text": [
        "\n",
        "A dimensions: 5,500\n",
        "Z dimensions: 5,500\n",
        "Xprime dimensions: 5,500\n",
        "mean(abs(deltaW)): 0.44363554\n",
        "A dimensions: 5,500\n",
        "Z dimensions: 5,500\n",
        "Xprime dimensions: 5,500\n",
        "mean(abs(deltaW)): 0.44177088"
       ]
      },
      {
       "output_type": "stream",
       "stream": "stdout",
       "text": [
        "\n",
        "A dimensions: 5,500\n",
        "Z dimensions: 5,500\n",
        "Xprime dimensions: 5,500\n",
        "mean(abs(deltaW)): 0.43991871\n",
        "A dimensions: 5,500\n",
        "Z dimensions: 5,500\n",
        "Xprime dimensions: 5,500\n",
        "mean(abs(deltaW)): 0.43807892"
       ]
      },
      {
       "output_type": "stream",
       "stream": "stdout",
       "text": [
        "\n",
        "A dimensions: 5,500\n",
        "Z dimensions: 5,500\n",
        "Xprime dimensions: 5,500\n",
        "mean(abs(deltaW)): 0.43625139\n",
        "A dimensions: 5,500\n",
        "Z dimensions: 5,500\n",
        "Xprime dimensions: 5,500\n",
        "mean(abs(deltaW)): 0.43443601"
       ]
      },
      {
       "output_type": "stream",
       "stream": "stdout",
       "text": [
        "\n",
        "A dimensions: 5,500\n",
        "Z dimensions: 5,500\n",
        "Xprime dimensions: 5,500\n",
        "mean(abs(deltaW)): 0.43263269\n",
        "A dimensions: 5,500\n",
        "Z dimensions: 5,500\n",
        "Xprime dimensions: 5,500\n",
        "mean(abs(deltaW)): 0.43084129"
       ]
      },
      {
       "output_type": "stream",
       "stream": "stdout",
       "text": [
        "\n",
        "A dimensions: 5,500\n",
        "Z dimensions: 5,500\n",
        "Xprime dimensions: 5,500\n",
        "mean(abs(deltaW)): 0.42906173\n",
        "A dimensions: 5,500\n",
        "Z dimensions: 5,500\n",
        "Xprime dimensions: 5,500\n",
        "mean(abs(deltaW)): 0.42729389"
       ]
      },
      {
       "output_type": "stream",
       "stream": "stdout",
       "text": [
        "\n",
        "A dimensions: 5,500\n",
        "Z dimensions: 5,500\n",
        "Xprime dimensions: 5,500\n",
        "mean(abs(deltaW)): 0.42553766\n",
        "A dimensions: 5,500\n",
        "Z dimensions: 5,500\n",
        "Xprime dimensions: 5,500\n",
        "mean(abs(deltaW)): 0.42379295"
       ]
      },
      {
       "output_type": "stream",
       "stream": "stdout",
       "text": [
        "\n",
        "A dimensions: 5,500\n",
        "Z dimensions: 5,500\n",
        "Xprime dimensions: 5,500\n",
        "mean(abs(deltaW)): 0.42205966\n",
        "A dimensions: 5,500\n",
        "Z dimensions: 5,500\n",
        "Xprime dimensions: 5,500\n",
        "mean(abs(deltaW)): 0.42033767"
       ]
      },
      {
       "output_type": "stream",
       "stream": "stdout",
       "text": [
        "\n",
        "A dimensions: 5,500\n",
        "Z dimensions: 5,500\n",
        "Xprime dimensions: 5,500\n",
        "mean(abs(deltaW)): 0.41862689\n",
        "A dimensions: 5,500\n",
        "Z dimensions: 5,500\n",
        "Xprime dimensions: 5,500\n",
        "mean(abs(deltaW)): 0.41692722"
       ]
      },
      {
       "output_type": "stream",
       "stream": "stdout",
       "text": [
        "\n",
        "A dimensions: 5,500\n",
        "Z dimensions: 5,500\n",
        "Xprime dimensions: 5,500\n",
        "mean(abs(deltaW)): 0.41523857\n",
        "A dimensions: 5,500\n",
        "Z dimensions: 5,500\n",
        "Xprime dimensions: 5,500\n",
        "mean(abs(deltaW)): 0.41356083"
       ]
      },
      {
       "output_type": "stream",
       "stream": "stdout",
       "text": [
        "\n",
        "A dimensions: 5,500\n",
        "Z dimensions: 5,500\n",
        "Xprime dimensions: 5,500\n",
        "mean(abs(deltaW)): 0.41189391\n",
        "A dimensions: 5,500\n",
        "Z dimensions: 5,500\n",
        "Xprime dimensions: 5,500\n",
        "mean(abs(deltaW)): 0.41023771"
       ]
      },
      {
       "output_type": "stream",
       "stream": "stdout",
       "text": [
        "\n",
        "A dimensions: 5,500\n",
        "Z dimensions: 5,500\n",
        "Xprime dimensions: 5,500\n",
        "mean(abs(deltaW)): 0.40859215\n",
        "A dimensions: 5,500\n",
        "Z dimensions: 5,500\n",
        "Xprime dimensions: 5,500\n",
        "mean(abs(deltaW)): 0.40695712"
       ]
      },
      {
       "output_type": "stream",
       "stream": "stdout",
       "text": [
        "\n",
        "A dimensions: 5,500\n",
        "Z dimensions: 5,500\n",
        "Xprime dimensions: 5,500\n",
        "mean(abs(deltaW)): 0.40533254\n",
        "A dimensions: 5,500\n",
        "Z dimensions: 5,500\n",
        "Xprime dimensions: 5,500\n",
        "mean(abs(deltaW)): 0.40371832"
       ]
      },
      {
       "output_type": "stream",
       "stream": "stdout",
       "text": [
        "\n",
        "A dimensions: 5,500\n",
        "Z dimensions: 5,500\n",
        "Xprime dimensions: 5,500\n",
        "mean(abs(deltaW)): 0.40211436\n",
        "A dimensions: 5,500\n",
        "Z dimensions: 5,500\n",
        "Xprime dimensions: 5,500\n",
        "mean(abs(deltaW)): 0.40052058"
       ]
      },
      {
       "output_type": "stream",
       "stream": "stdout",
       "text": [
        "\n",
        "A dimensions: 5,500\n",
        "Z dimensions: 5,500\n",
        "Xprime dimensions: 5,500\n",
        "mean(abs(deltaW)): 0.39893688\n",
        "A dimensions: 5,500\n",
        "Z dimensions: 5,500\n",
        "Xprime dimensions: 5,500\n",
        "mean(abs(deltaW)): 0.39736320"
       ]
      },
      {
       "output_type": "stream",
       "stream": "stdout",
       "text": [
        "\n",
        "A dimensions: 5,500\n",
        "Z dimensions: 5,500\n",
        "Xprime dimensions: 5,500\n",
        "mean(abs(deltaW)): 0.39579942\n",
        "A dimensions: 5,500\n",
        "Z dimensions: 5,500\n",
        "Xprime dimensions: 5,500\n",
        "mean(abs(deltaW)): 0.39424548"
       ]
      },
      {
       "output_type": "stream",
       "stream": "stdout",
       "text": [
        "\n",
        "A dimensions: 5,500\n",
        "Z dimensions: 5,500\n",
        "Xprime dimensions: 5,500\n",
        "mean(abs(deltaW)): 0.39270129\n",
        "A dimensions: 5,500\n",
        "Z dimensions: 5,500\n",
        "Xprime dimensions: 5,500\n",
        "mean(abs(deltaW)): 0.39116676"
       ]
      },
      {
       "output_type": "stream",
       "stream": "stdout",
       "text": [
        "\n",
        "A dimensions: 5,500\n",
        "Z dimensions: 5,500\n",
        "Xprime dimensions: 5,500\n",
        "mean(abs(deltaW)): 0.38964181\n",
        "A dimensions: 5,500\n",
        "Z dimensions: 5,500\n",
        "Xprime dimensions: 5,500\n",
        "mean(abs(deltaW)): 0.38812636"
       ]
      },
      {
       "output_type": "stream",
       "stream": "stdout",
       "text": [
        "\n",
        "A dimensions: 5,500\n",
        "Z dimensions: 5,500\n",
        "Xprime dimensions: 5,500\n",
        "mean(abs(deltaW)): 0.38662034\n",
        "A dimensions: 5,500\n",
        "Z dimensions: 5,500\n",
        "Xprime dimensions: 5,500\n",
        "mean(abs(deltaW)): 0.38512365"
       ]
      },
      {
       "output_type": "stream",
       "stream": "stdout",
       "text": [
        "\n",
        "A dimensions: 5,500\n",
        "Z dimensions: 5,500\n",
        "Xprime dimensions: 5,500\n",
        "mean(abs(deltaW)): 0.38363623\n",
        "A dimensions: 5,500\n",
        "Z dimensions: 5,500\n",
        "Xprime dimensions: 5,500\n",
        "mean(abs(deltaW)): 0.38215799"
       ]
      },
      {
       "output_type": "stream",
       "stream": "stdout",
       "text": [
        "\n",
        "A dimensions: 5,500\n",
        "Z dimensions: 5,500\n",
        "Xprime dimensions: 5,500\n",
        "mean(abs(deltaW)): 0.38068885\n",
        "A dimensions: 5,500\n",
        "Z dimensions: 5,500\n",
        "Xprime dimensions: 5,500\n",
        "mean(abs(deltaW)): 0.37922875"
       ]
      },
      {
       "output_type": "stream",
       "stream": "stdout",
       "text": [
        "\n",
        "A dimensions: 5,500\n",
        "Z dimensions: 5,500\n",
        "Xprime dimensions: 5,500\n",
        "mean(abs(deltaW)): 0.37777760\n",
        "A dimensions: 5,500\n",
        "Z dimensions: 5,500\n",
        "Xprime dimensions: 5,500\n",
        "mean(abs(deltaW)): 0.37633532"
       ]
      },
      {
       "output_type": "stream",
       "stream": "stdout",
       "text": [
        "\n",
        "A dimensions: 5,500\n",
        "Z dimensions: 5,500\n",
        "Xprime dimensions: 5,500\n",
        "mean(abs(deltaW)): 0.37490186\n",
        "A dimensions: 5,500\n",
        "Z dimensions: 5,500\n",
        "Xprime dimensions: 5,500\n",
        "mean(abs(deltaW)): 0.37347713"
       ]
      },
      {
       "output_type": "stream",
       "stream": "stdout",
       "text": [
        "\n",
        "A dimensions: 5,500\n",
        "Z dimensions: 5,500\n",
        "Xprime dimensions: 5,500\n",
        "mean(abs(deltaW)): 0.37206106\n",
        "A dimensions: 5,500\n",
        "Z dimensions: 5,500\n",
        "Xprime dimensions: 5,500\n",
        "mean(abs(deltaW)): 0.37065357"
       ]
      },
      {
       "output_type": "stream",
       "stream": "stdout",
       "text": [
        "\n",
        "A dimensions: 5,500\n",
        "Z dimensions: 5,500\n",
        "Xprime dimensions: 5,500\n",
        "mean(abs(deltaW)): 0.36925461\n",
        "A dimensions: 5,500\n",
        "Z dimensions: 5,500\n",
        "Xprime dimensions: 5,500\n",
        "mean(abs(deltaW)): 0.36786409"
       ]
      },
      {
       "output_type": "stream",
       "stream": "stdout",
       "text": [
        "\n",
        "A dimensions: 5,500\n",
        "Z dimensions: 5,500\n",
        "Xprime dimensions: 5,500\n",
        "mean(abs(deltaW)): 0.36648195\n",
        "A dimensions: 5,500\n",
        "Z dimensions: 5,500\n",
        "Xprime dimensions: 5,500\n",
        "mean(abs(deltaW)): 0.36510812"
       ]
      },
      {
       "output_type": "stream",
       "stream": "stdout",
       "text": [
        "\n",
        "A dimensions: 5,500\n",
        "Z dimensions: 5,500\n",
        "Xprime dimensions: 5,500\n",
        "mean(abs(deltaW)): 0.36374252\n",
        "A dimensions: 5,500\n",
        "Z dimensions: 5,500\n",
        "Xprime dimensions: 5,500\n",
        "mean(abs(deltaW)): 0.36238511"
       ]
      },
      {
       "output_type": "stream",
       "stream": "stdout",
       "text": [
        "\n",
        "A dimensions: 5,500\n",
        "Z dimensions: 5,500\n",
        "Xprime dimensions: 5,500\n",
        "mean(abs(deltaW)): 0.36103580\n",
        "A dimensions: 5,500\n",
        "Z dimensions: 5,500\n",
        "Xprime dimensions: 5,500\n",
        "mean(abs(deltaW)): 0.35969453"
       ]
      },
      {
       "output_type": "stream",
       "stream": "stdout",
       "text": [
        "\n",
        "A dimensions: 5,500\n",
        "Z dimensions: 5,500\n",
        "Xprime dimensions: 5,500\n",
        "mean(abs(deltaW)): 0.35836124\n",
        "A dimensions: 5,500\n",
        "Z dimensions: 5,500\n",
        "Xprime dimensions: 5,500\n",
        "mean(abs(deltaW)): 0.35703586"
       ]
      },
      {
       "output_type": "stream",
       "stream": "stdout",
       "text": [
        "\n",
        "A dimensions: 5,500\n",
        "Z dimensions: 5,500\n",
        "Xprime dimensions: 5,500\n",
        "mean(abs(deltaW)): 0.35571832\n",
        "A dimensions: 5,500\n",
        "Z dimensions: 5,500\n",
        "Xprime dimensions: 5,500\n",
        "mean(abs(deltaW)): 0.35440857"
       ]
      },
      {
       "output_type": "stream",
       "stream": "stdout",
       "text": [
        "\n",
        "A dimensions: 5,500\n",
        "Z dimensions: 5,500\n",
        "Xprime dimensions: 5,500\n",
        "mean(abs(deltaW)): 0.35310655\n",
        "A dimensions: 5,500\n",
        "Z dimensions: 5,500\n",
        "Xprime dimensions: 5,500\n",
        "mean(abs(deltaW)): 0.35181218"
       ]
      },
      {
       "output_type": "stream",
       "stream": "stdout",
       "text": [
        "\n",
        "A dimensions: 5,500\n",
        "Z dimensions: 5,500\n",
        "Xprime dimensions: 5,500\n",
        "mean(abs(deltaW)): 0.35052541\n",
        "A dimensions: 5,500\n",
        "Z dimensions: 5,500\n",
        "Xprime dimensions: 5,500\n",
        "mean(abs(deltaW)): 0.34924617"
       ]
      },
      {
       "output_type": "stream",
       "stream": "stdout",
       "text": [
        "\n",
        "A dimensions: 5,500\n",
        "Z dimensions: 5,500\n",
        "Xprime dimensions: 5,500\n",
        "mean(abs(deltaW)): 0.34797442\n",
        "A dimensions: 5,500\n",
        "Z dimensions: 5,500\n",
        "Xprime dimensions: 5,500\n",
        "iteration:300"
       ]
      },
      {
       "output_type": "stream",
       "stream": "stdout",
       "text": [
        "\n",
        "mean(abs(deltaW)): 0.34671008\n",
        "A dimensions: 5,500\n",
        "Z dimensions: 5,500\n",
        "Xprime dimensions: 5,500\n",
        "mean(abs(deltaW)): 0.34545310\n",
        "A dimensions: 5,500\n",
        "Z dimensions: 5,500\n",
        "Xprime dimensions: 5,500\n",
        "mean(abs(deltaW)): 0.34420341"
       ]
      },
      {
       "output_type": "stream",
       "stream": "stdout",
       "text": [
        "\n",
        "A dimensions: 5,500\n",
        "Z dimensions: 5,500\n",
        "Xprime dimensions: 5,500\n",
        "mean(abs(deltaW)): 0.34296098\n",
        "A dimensions: 5,500\n",
        "Z dimensions: 5,500\n",
        "Xprime dimensions: 5,500\n",
        "mean(abs(deltaW)): 0.34172572"
       ]
      },
      {
       "output_type": "stream",
       "stream": "stdout",
       "text": [
        "\n",
        "A dimensions: 5,500\n",
        "Z dimensions: 5,500\n",
        "Xprime dimensions: 5,500\n",
        "mean(abs(deltaW)): 0.34049760\n",
        "A dimensions: 5,500\n",
        "Z dimensions: 5,500\n",
        "Xprime dimensions: 5,500\n",
        "mean(abs(deltaW)): 0.33927655"
       ]
      },
      {
       "output_type": "stream",
       "stream": "stdout",
       "text": [
        "\n",
        "A dimensions: 5,500\n",
        "Z dimensions: 5,500\n",
        "Xprime dimensions: 5,500\n",
        "mean(abs(deltaW)): 0.33806251\n",
        "A dimensions: 5,500\n",
        "Z dimensions: 5,500\n",
        "Xprime dimensions: 5,500\n",
        "mean(abs(deltaW)): 0.33685544"
       ]
      },
      {
       "output_type": "stream",
       "stream": "stdout",
       "text": [
        "\n",
        "A dimensions: 5,500\n",
        "Z dimensions: 5,500\n",
        "Xprime dimensions: 5,500\n",
        "mean(abs(deltaW)): 0.33565527\n",
        "A dimensions: 5,500\n",
        "Z dimensions: 5,500\n",
        "Xprime dimensions: 5,500\n",
        "mean(abs(deltaW)): 0.33446196"
       ]
      },
      {
       "output_type": "stream",
       "stream": "stdout",
       "text": [
        "\n",
        "A dimensions: 5,500\n",
        "Z dimensions: 5,500\n",
        "Xprime dimensions: 5,500\n",
        "mean(abs(deltaW)): 0.33327545\n",
        "A dimensions: 5,500\n",
        "Z dimensions: 5,500\n",
        "Xprime dimensions: 5,500\n",
        "mean(abs(deltaW)): 0.33209568"
       ]
      },
      {
       "output_type": "stream",
       "stream": "stdout",
       "text": [
        "\n",
        "A dimensions: 5,500\n",
        "Z dimensions: 5,500\n",
        "Xprime dimensions: 5,500\n",
        "mean(abs(deltaW)): 0.33092261\n",
        "A dimensions: 5,500\n",
        "Z dimensions: 5,500\n",
        "Xprime dimensions: 5,500\n",
        "mean(abs(deltaW)): 0.32975618"
       ]
      },
      {
       "output_type": "stream",
       "stream": "stdout",
       "text": [
        "\n",
        "A dimensions: 5,500\n",
        "Z dimensions: 5,500\n",
        "Xprime dimensions: 5,500\n",
        "mean(abs(deltaW)): 0.32859635\n",
        "A dimensions: 5,500\n",
        "Z dimensions: 5,500\n",
        "Xprime dimensions: 5,500\n",
        "mean(abs(deltaW)): 0.32744305"
       ]
      },
      {
       "output_type": "stream",
       "stream": "stdout",
       "text": [
        "\n",
        "A dimensions: 5,500\n",
        "Z dimensions: 5,500\n",
        "Xprime dimensions: 5,500\n",
        "mean(abs(deltaW)): 0.32629625\n",
        "A dimensions: 5,500\n",
        "Z dimensions: 5,500\n",
        "Xprime dimensions: 5,500\n",
        "mean(abs(deltaW)): 0.32515589"
       ]
      },
      {
       "output_type": "stream",
       "stream": "stdout",
       "text": [
        "\n",
        "A dimensions: 5,500\n",
        "Z dimensions: 5,500\n",
        "Xprime dimensions: 5,500\n",
        "mean(abs(deltaW)): 0.32402192\n",
        "A dimensions: 5,500\n",
        "Z dimensions: 5,500\n",
        "Xprime dimensions: 5,500\n",
        "mean(abs(deltaW)): 0.32289429"
       ]
      },
      {
       "output_type": "stream",
       "stream": "stdout",
       "text": [
        "\n",
        "A dimensions: 5,500\n",
        "Z dimensions: 5,500\n",
        "Xprime dimensions: 5,500\n",
        "mean(abs(deltaW)): 0.32177295\n",
        "A dimensions: 5,500\n",
        "Z dimensions: 5,500\n",
        "Xprime dimensions: 5,500\n",
        "mean(abs(deltaW)): 0.32065786"
       ]
      },
      {
       "output_type": "stream",
       "stream": "stdout",
       "text": [
        "\n",
        "A dimensions: 5,500\n",
        "Z dimensions: 5,500\n",
        "Xprime dimensions: 5,500\n",
        "mean(abs(deltaW)): 0.31954897\n",
        "A dimensions: 5,500\n",
        "Z dimensions: 5,500\n",
        "Xprime dimensions: 5,500\n",
        "mean(abs(deltaW)): 0.31844624"
       ]
      },
      {
       "output_type": "stream",
       "stream": "stdout",
       "text": [
        "\n",
        "A dimensions: 5,500\n",
        "Z dimensions: 5,500\n",
        "Xprime dimensions: 5,500\n",
        "mean(abs(deltaW)): 0.31734960\n",
        "A dimensions: 5,500\n",
        "Z dimensions: 5,500\n",
        "Xprime dimensions: 5,500\n",
        "mean(abs(deltaW)): 0.31625903"
       ]
      },
      {
       "output_type": "stream",
       "stream": "stdout",
       "text": [
        "\n",
        "A dimensions: 5,500\n",
        "Z dimensions: 5,500\n",
        "Xprime dimensions: 5,500\n",
        "mean(abs(deltaW)): 0.31517447\n",
        "A dimensions: 5,500\n",
        "Z dimensions: 5,500\n",
        "Xprime dimensions: 5,500\n",
        "mean(abs(deltaW)): 0.31409588"
       ]
      },
      {
       "output_type": "stream",
       "stream": "stdout",
       "text": [
        "\n",
        "A dimensions: 5,500\n",
        "Z dimensions: 5,500\n",
        "Xprime dimensions: 5,500\n",
        "mean(abs(deltaW)): 0.31302321\n",
        "A dimensions: 5,500\n",
        "Z dimensions: 5,500\n",
        "Xprime dimensions: 5,500\n",
        "mean(abs(deltaW)): 0.31195642"
       ]
      },
      {
       "output_type": "stream",
       "stream": "stdout",
       "text": [
        "\n",
        "A dimensions: 5,500\n",
        "Z dimensions: 5,500\n",
        "Xprime dimensions: 5,500\n",
        "mean(abs(deltaW)): 0.31089547\n",
        "A dimensions: 5,500\n",
        "Z dimensions: 5,500\n",
        "Xprime dimensions: 5,500\n",
        "mean(abs(deltaW)): 0.30984030"
       ]
      },
      {
       "output_type": "stream",
       "stream": "stdout",
       "text": [
        "\n",
        "A dimensions: 5,500\n",
        "Z dimensions: 5,500\n",
        "Xprime dimensions: 5,500\n",
        "mean(abs(deltaW)): 0.30879089\n",
        "A dimensions: 5,500\n",
        "Z dimensions: 5,500\n",
        "Xprime dimensions: 5,500\n",
        "mean(abs(deltaW)): 0.30774718"
       ]
      },
      {
       "output_type": "stream",
       "stream": "stdout",
       "text": [
        "\n",
        "A dimensions: 5,500\n",
        "Z dimensions: 5,500\n",
        "Xprime dimensions: 5,500\n",
        "mean(abs(deltaW)): 0.30670913\n",
        "A dimensions: 5,500\n",
        "Z dimensions: 5,500\n",
        "Xprime dimensions: 5,500\n",
        "mean(abs(deltaW)): 0.30567671"
       ]
      },
      {
       "output_type": "stream",
       "stream": "stdout",
       "text": [
        "\n",
        "A dimensions: 5,500\n",
        "Z dimensions: 5,500\n",
        "Xprime dimensions: 5,500\n",
        "mean(abs(deltaW)): 0.30464986\n",
        "A dimensions: 5,500\n",
        "Z dimensions: 5,500\n",
        "Xprime dimensions: 5,500\n",
        "mean(abs(deltaW)): 0.30362856"
       ]
      },
      {
       "output_type": "stream",
       "stream": "stdout",
       "text": [
        "\n",
        "A dimensions: 5,500\n",
        "Z dimensions: 5,500\n",
        "Xprime dimensions: 5,500\n",
        "mean(abs(deltaW)): 0.30261275\n",
        "A dimensions: 5,500\n",
        "Z dimensions: 5,500\n",
        "Xprime dimensions: 5,500\n",
        "mean(abs(deltaW)): 0.30160239"
       ]
      },
      {
       "output_type": "stream",
       "stream": "stdout",
       "text": [
        "\n",
        "A dimensions: 5,500\n",
        "Z dimensions: 5,500\n",
        "Xprime dimensions: 5,500\n",
        "mean(abs(deltaW)): 0.30059746\n",
        "A dimensions: 5,500\n",
        "Z dimensions: 5,500\n",
        "Xprime dimensions: 5,500\n",
        "mean(abs(deltaW)): 0.29959790"
       ]
      },
      {
       "output_type": "stream",
       "stream": "stdout",
       "text": [
        "\n",
        "A dimensions: 5,500\n",
        "Z dimensions: 5,500\n",
        "Xprime dimensions: 5,500\n",
        "mean(abs(deltaW)): 0.29860368\n",
        "A dimensions: 5,500\n",
        "Z dimensions: 5,500\n",
        "Xprime dimensions: 5,500\n",
        "mean(abs(deltaW)): 0.29761476"
       ]
      },
      {
       "output_type": "stream",
       "stream": "stdout",
       "text": [
        "\n",
        "A dimensions: 5,500\n",
        "Z dimensions: 5,500\n",
        "Xprime dimensions: 5,500\n",
        "mean(abs(deltaW)): 0.29663110\n",
        "A dimensions: 5,500\n",
        "Z dimensions: 5,500\n",
        "Xprime dimensions: 5,500\n",
        "mean(abs(deltaW)): 0.29565266"
       ]
      },
      {
       "output_type": "stream",
       "stream": "stdout",
       "text": [
        "\n",
        "A dimensions: 5,500\n",
        "Z dimensions: 5,500\n",
        "Xprime dimensions: 5,500\n",
        "mean(abs(deltaW)): 0.29467941\n",
        "A dimensions: 5,500\n",
        "Z dimensions: 5,500\n",
        "Xprime dimensions: 5,500\n",
        "mean(abs(deltaW)): 0.29371130"
       ]
      },
      {
       "output_type": "stream",
       "stream": "stdout",
       "text": [
        "\n",
        "A dimensions: 5,500\n",
        "Z dimensions: 5,500\n",
        "Xprime dimensions: 5,500\n",
        "mean(abs(deltaW)): 0.29274831\n",
        "A dimensions: 5,500\n",
        "Z dimensions: 5,500\n",
        "Xprime dimensions: 5,500\n",
        "mean(abs(deltaW)): 0.29179038"
       ]
      },
      {
       "output_type": "stream",
       "stream": "stdout",
       "text": [
        "\n",
        "A dimensions: 5,500\n",
        "Z dimensions: 5,500\n",
        "Xprime dimensions: 5,500\n",
        "mean(abs(deltaW)): 0.29083750\n",
        "A dimensions: 5,500\n",
        "Z dimensions: 5,500\n",
        "Xprime dimensions: 5,500\n",
        "mean(abs(deltaW)): 0.28988961"
       ]
      },
      {
       "output_type": "stream",
       "stream": "stdout",
       "text": [
        "\n",
        "A dimensions: 5,500\n",
        "Z dimensions: 5,500\n",
        "Xprime dimensions: 5,500\n",
        "mean(abs(deltaW)): 0.28894669\n",
        "A dimensions: 5,500\n",
        "Z dimensions: 5,500\n",
        "Xprime dimensions: 5,500\n",
        "mean(abs(deltaW)): 0.28800870"
       ]
      },
      {
       "output_type": "stream",
       "stream": "stdout",
       "text": [
        "\n",
        "A dimensions: 5,500\n",
        "Z dimensions: 5,500\n",
        "Xprime dimensions: 5,500\n",
        "mean(abs(deltaW)): 0.28707560\n",
        "A dimensions: 5,500\n",
        "Z dimensions: 5,500\n",
        "Xprime dimensions: 5,500\n",
        "mean(abs(deltaW)): 0.28614736"
       ]
      },
      {
       "output_type": "stream",
       "stream": "stdout",
       "text": [
        "\n",
        "A dimensions: 5,500\n",
        "Z dimensions: 5,500\n",
        "Xprime dimensions: 5,500\n",
        "mean(abs(deltaW)): 0.28522394\n",
        "A dimensions: 5,500\n",
        "Z dimensions: 5,500\n",
        "Xprime dimensions: 5,500\n",
        "mean(abs(deltaW)): 0.28430531"
       ]
      },
      {
       "output_type": "stream",
       "stream": "stdout",
       "text": [
        "\n",
        "A dimensions: 5,500\n",
        "Z dimensions: 5,500\n",
        "Xprime dimensions: 5,500\n",
        "mean(abs(deltaW)): 0.28339144\n",
        "A dimensions: 5,500\n",
        "Z dimensions: 5,500\n",
        "Xprime dimensions: 5,500\n",
        "mean(abs(deltaW)): 0.28248229"
       ]
      },
      {
       "output_type": "stream",
       "stream": "stdout",
       "text": [
        "\n",
        "A dimensions: 5,500\n",
        "Z dimensions: 5,500\n",
        "Xprime dimensions: 5,500\n",
        "mean(abs(deltaW)): 0.28157783\n",
        "A dimensions: 5,500\n",
        "Z dimensions: 5,500\n",
        "Xprime dimensions: 5,500\n",
        "mean(abs(deltaW)): 0.28067803"
       ]
      },
      {
       "output_type": "stream",
       "stream": "stdout",
       "text": [
        "\n",
        "A dimensions: 5,500\n",
        "Z dimensions: 5,500\n",
        "Xprime dimensions: 5,500\n",
        "mean(abs(deltaW)): 0.27978285\n",
        "A dimensions: 5,500\n",
        "Z dimensions: 5,500\n",
        "Xprime dimensions: 5,500\n",
        "mean(abs(deltaW)): 0.27889226"
       ]
      },
      {
       "output_type": "stream",
       "stream": "stdout",
       "text": [
        "\n",
        "A dimensions: 5,500\n",
        "Z dimensions: 5,500\n",
        "Xprime dimensions: 5,500\n",
        "mean(abs(deltaW)): 0.27800623\n",
        "A dimensions: 5,500\n",
        "Z dimensions: 5,500\n",
        "Xprime dimensions: 5,500\n",
        "mean(abs(deltaW)): 0.27712473"
       ]
      },
      {
       "output_type": "stream",
       "stream": "stdout",
       "text": [
        "\n",
        "A dimensions: 5,500\n",
        "Z dimensions: 5,500\n",
        "Xprime dimensions: 5,500\n",
        "mean(abs(deltaW)): 0.27624772\n",
        "A dimensions: 5,500\n",
        "Z dimensions: 5,500\n",
        "Xprime dimensions: 5,500\n",
        "mean(abs(deltaW)): 0.27537517"
       ]
      },
      {
       "output_type": "stream",
       "stream": "stdout",
       "text": [
        "\n",
        "A dimensions: 5,500\n",
        "Z dimensions: 5,500\n",
        "Xprime dimensions: 5,500\n",
        "mean(abs(deltaW)): 0.27450706\n",
        "A dimensions: 5,500\n",
        "Z dimensions: 5,500\n",
        "Xprime dimensions: 5,500\n",
        "mean(abs(deltaW)): 0.27364335"
       ]
      },
      {
       "output_type": "stream",
       "stream": "stdout",
       "text": [
        "\n",
        "A dimensions: 5,500\n",
        "Z dimensions: 5,500\n",
        "Xprime dimensions: 5,500\n",
        "mean(abs(deltaW)): 0.27278401\n",
        "A dimensions: 5,500\n",
        "Z dimensions: 5,500\n",
        "Xprime dimensions: 5,500\n",
        "mean(abs(deltaW)): 0.27192901"
       ]
      },
      {
       "output_type": "stream",
       "stream": "stdout",
       "text": [
        "\n",
        "A dimensions: 5,500\n",
        "Z dimensions: 5,500\n",
        "Xprime dimensions: 5,500\n",
        "mean(abs(deltaW)): 0.27107832\n",
        "A dimensions: 5,500\n",
        "Z dimensions: 5,500\n",
        "Xprime dimensions: 5,500\n",
        "mean(abs(deltaW)): 0.27023191"
       ]
      },
      {
       "output_type": "stream",
       "stream": "stdout",
       "text": [
        "\n",
        "A dimensions: 5,500\n",
        "Z dimensions: 5,500\n",
        "Xprime dimensions: 5,500\n",
        "mean(abs(deltaW)): 0.26938976\n",
        "A dimensions: 5,500\n",
        "Z dimensions: 5,500\n",
        "Xprime dimensions: 5,500\n",
        "mean(abs(deltaW)): 0.26855182"
       ]
      },
      {
       "output_type": "stream",
       "stream": "stdout",
       "text": [
        "\n",
        "A dimensions: 5,500\n",
        "Z dimensions: 5,500\n",
        "Xprime dimensions: 5,500\n",
        "mean(abs(deltaW)): 0.26771808\n",
        "A dimensions: 5,500\n",
        "Z dimensions: 5,500\n",
        "Xprime dimensions: 5,500\n",
        "mean(abs(deltaW)): 0.26688851"
       ]
      },
      {
       "output_type": "stream",
       "stream": "stdout",
       "text": [
        "\n",
        "A dimensions: 5,500\n",
        "Z dimensions: 5,500\n",
        "Xprime dimensions: 5,500\n",
        "mean(abs(deltaW)): 0.26606307\n",
        "A dimensions: 5,500\n",
        "Z dimensions: 5,500\n",
        "Xprime dimensions: 5,500\n",
        "mean(abs(deltaW)): 0.26524174"
       ]
      },
      {
       "output_type": "stream",
       "stream": "stdout",
       "text": [
        "\n",
        "A dimensions: 5,500\n",
        "Z dimensions: 5,500\n",
        "Xprime dimensions: 5,500\n",
        "mean(abs(deltaW)): 0.26442449\n",
        "A dimensions: 5,500\n",
        "Z dimensions: 5,500\n",
        "Xprime dimensions: 5,500\n",
        "mean(abs(deltaW)): 0.26361130"
       ]
      },
      {
       "output_type": "stream",
       "stream": "stdout",
       "text": [
        "\n",
        "A dimensions: 5,500\n",
        "Z dimensions: 5,500\n",
        "Xprime dimensions: 5,500\n",
        "mean(abs(deltaW)): 0.26280213\n",
        "A dimensions: 5,500\n",
        "Z dimensions: 5,500\n",
        "Xprime dimensions: 5,500\n",
        "mean(abs(deltaW)): 0.26199695"
       ]
      },
      {
       "output_type": "stream",
       "stream": "stdout",
       "text": [
        "\n",
        "A dimensions: 5,500\n",
        "Z dimensions: 5,500\n",
        "Xprime dimensions: 5,500\n",
        "mean(abs(deltaW)): 0.26119575\n",
        "A dimensions: 5,500\n",
        "Z dimensions: 5,500\n",
        "Xprime dimensions: 5,500\n",
        "mean(abs(deltaW)): 0.26039849"
       ]
      },
      {
       "output_type": "stream",
       "stream": "stdout",
       "text": [
        "\n",
        "A dimensions: 5,500\n",
        "Z dimensions: 5,500\n",
        "Xprime dimensions: 5,500\n",
        "mean(abs(deltaW)): 0.25960515\n",
        "A dimensions: 5,500\n",
        "Z dimensions: 5,500\n",
        "Xprime dimensions: 5,500\n",
        "mean(abs(deltaW)): 0.25881570"
       ]
      },
      {
       "output_type": "stream",
       "stream": "stdout",
       "text": [
        "\n",
        "A dimensions: 5,500\n",
        "Z dimensions: 5,500\n",
        "Xprime dimensions: 5,500\n",
        "mean(abs(deltaW)): 0.25803011\n",
        "A dimensions: 5,500\n",
        "Z dimensions: 5,500\n",
        "Xprime dimensions: 5,500\n",
        "mean(abs(deltaW)): 0.25724836"
       ]
      },
      {
       "output_type": "stream",
       "stream": "stdout",
       "text": [
        "\n",
        "A dimensions: 5,500\n",
        "Z dimensions: 5,500\n",
        "Xprime dimensions: 5,500\n",
        "mean(abs(deltaW)): 0.25647043\n",
        "A dimensions: 5,500\n",
        "Z dimensions: 5,500\n",
        "Xprime dimensions: 5,500\n",
        "mean(abs(deltaW)): 0.25569628"
       ]
      },
      {
       "output_type": "stream",
       "stream": "stdout",
       "text": [
        "\n",
        "A dimensions: 5,500\n",
        "Z dimensions: 5,500\n",
        "Xprime dimensions: 5,500\n",
        "mean(abs(deltaW)): 0.25492590\n",
        "A dimensions: 5,500\n",
        "Z dimensions: 5,500\n",
        "Xprime dimensions: 5,500\n",
        "mean(abs(deltaW)): 0.25415926"
       ]
      },
      {
       "output_type": "stream",
       "stream": "stdout",
       "text": [
        "\n",
        "A dimensions: 5,500\n",
        "Z dimensions: 5,500\n",
        "Xprime dimensions: 5,500\n",
        "mean(abs(deltaW)): 0.25339632\n",
        "A dimensions: 5,500\n",
        "Z dimensions: 5,500\n",
        "Xprime dimensions: 5,500\n",
        "mean(abs(deltaW)): 0.25263708"
       ]
      },
      {
       "output_type": "stream",
       "stream": "stdout",
       "text": [
        "\n",
        "A dimensions: 5,500\n",
        "Z dimensions: 5,500\n",
        "Xprime dimensions: 5,500\n",
        "mean(abs(deltaW)): 0.25188150\n",
        "A dimensions: 5,500\n",
        "Z dimensions: 5,500\n",
        "Xprime dimensions: 5,500\n",
        "mean(abs(deltaW)): 0.25112956"
       ]
      },
      {
       "output_type": "stream",
       "stream": "stdout",
       "text": [
        "\n",
        "A dimensions: 5,500\n",
        "Z dimensions: 5,500\n",
        "Xprime dimensions: 5,500\n",
        "mean(abs(deltaW)): 0.25038123\n",
        "A dimensions: 5,500\n",
        "Z dimensions: 5,500\n",
        "Xprime dimensions: 5,500\n",
        "iteration:400"
       ]
      },
      {
       "output_type": "stream",
       "stream": "stdout",
       "text": [
        "\n",
        "mean(abs(deltaW)): 0.24963650\n",
        "A dimensions: 5,500\n",
        "Z dimensions: 5,500\n",
        "Xprime dimensions: 5,500\n",
        "mean(abs(deltaW)): 0.24889533\n",
        "A dimensions: 5,500\n",
        "Z dimensions: 5,500\n",
        "Xprime dimensions: 5,500\n",
        "mean(abs(deltaW)): 0.24815771"
       ]
      },
      {
       "output_type": "stream",
       "stream": "stdout",
       "text": [
        "\n",
        "A dimensions: 5,500\n",
        "Z dimensions: 5,500\n",
        "Xprime dimensions: 5,500\n",
        "mean(abs(deltaW)): 0.24742361\n",
        "A dimensions: 5,500\n",
        "Z dimensions: 5,500\n",
        "Xprime dimensions: 5,500\n",
        "mean(abs(deltaW)): 0.24669301"
       ]
      },
      {
       "output_type": "stream",
       "stream": "stdout",
       "text": [
        "\n",
        "A dimensions: 5,500\n",
        "Z dimensions: 5,500\n",
        "Xprime dimensions: 5,500\n",
        "mean(abs(deltaW)): 0.24596589\n",
        "A dimensions: 5,500\n",
        "Z dimensions: 5,500\n",
        "Xprime dimensions: 5,500\n",
        "mean(abs(deltaW)): 0.24524222"
       ]
      },
      {
       "output_type": "stream",
       "stream": "stdout",
       "text": [
        "\n",
        "A dimensions: 5,500\n",
        "Z dimensions: 5,500\n",
        "Xprime dimensions: 5,500\n",
        "mean(abs(deltaW)): 0.24452198\n",
        "A dimensions: 5,500\n",
        "Z dimensions: 5,500\n",
        "Xprime dimensions: 5,500\n",
        "mean(abs(deltaW)): 0.24380514"
       ]
      },
      {
       "output_type": "stream",
       "stream": "stdout",
       "text": [
        "\n",
        "A dimensions: 5,500\n",
        "Z dimensions: 5,500\n",
        "Xprime dimensions: 5,500\n",
        "mean(abs(deltaW)): 0.24309170\n",
        "A dimensions: 5,500\n",
        "Z dimensions: 5,500\n",
        "Xprime dimensions: 5,500\n",
        "mean(abs(deltaW)): 0.24238161"
       ]
      },
      {
       "output_type": "stream",
       "stream": "stdout",
       "text": [
        "\n",
        "A dimensions: 5,500\n",
        "Z dimensions: 5,500\n",
        "Xprime dimensions: 5,500\n",
        "mean(abs(deltaW)): 0.24167487\n",
        "A dimensions: 5,500\n",
        "Z dimensions: 5,500\n",
        "Xprime dimensions: 5,500\n",
        "mean(abs(deltaW)): 0.24097146"
       ]
      },
      {
       "output_type": "stream",
       "stream": "stdout",
       "text": [
        "\n",
        "A dimensions: 5,500\n",
        "Z dimensions: 5,500\n",
        "Xprime dimensions: 5,500\n",
        "mean(abs(deltaW)): 0.24027134\n",
        "A dimensions: 5,500\n",
        "Z dimensions: 5,500\n",
        "Xprime dimensions: 5,500\n",
        "mean(abs(deltaW)): 0.23957450"
       ]
      },
      {
       "output_type": "stream",
       "stream": "stdout",
       "text": [
        "\n",
        "A dimensions: 5,500\n",
        "Z dimensions: 5,500\n",
        "Xprime dimensions: 5,500\n",
        "mean(abs(deltaW)): 0.23888091\n",
        "A dimensions: 5,500\n",
        "Z dimensions: 5,500\n",
        "Xprime dimensions: 5,500\n",
        "mean(abs(deltaW)): 0.23819057"
       ]
      },
      {
       "output_type": "stream",
       "stream": "stdout",
       "text": [
        "\n",
        "A dimensions: 5,500\n",
        "Z dimensions: 5,500\n",
        "Xprime dimensions: 5,500\n",
        "mean(abs(deltaW)): 0.23750343\n",
        "A dimensions: 5,500\n",
        "Z dimensions: 5,500\n",
        "Xprime dimensions: 5,500\n",
        "mean(abs(deltaW)): 0.23681950"
       ]
      },
      {
       "output_type": "stream",
       "stream": "stdout",
       "text": [
        "\n",
        "A dimensions: 5,500\n",
        "Z dimensions: 5,500\n",
        "Xprime dimensions: 5,500\n",
        "mean(abs(deltaW)): 0.23613874\n",
        "A dimensions: 5,500\n",
        "Z dimensions: 5,500\n",
        "Xprime dimensions: 5,500\n",
        "mean(abs(deltaW)): 0.23546113"
       ]
      },
      {
       "output_type": "stream",
       "stream": "stdout",
       "text": [
        "\n",
        "A dimensions: 5,500\n",
        "Z dimensions: 5,500\n",
        "Xprime dimensions: 5,500\n",
        "mean(abs(deltaW)): 0.23478666\n",
        "A dimensions: 5,500\n",
        "Z dimensions: 5,500\n",
        "Xprime dimensions: 5,500\n",
        "mean(abs(deltaW)): 0.23411531"
       ]
      },
      {
       "output_type": "stream",
       "stream": "stdout",
       "text": [
        "\n",
        "A dimensions: 5,500\n",
        "Z dimensions: 5,500\n",
        "Xprime dimensions: 5,500\n",
        "mean(abs(deltaW)): 0.23344705\n",
        "A dimensions: 5,500\n",
        "Z dimensions: 5,500\n",
        "Xprime dimensions: 5,500\n",
        "mean(abs(deltaW)): 0.23278186"
       ]
      },
      {
       "output_type": "stream",
       "stream": "stdout",
       "text": [
        "\n",
        "A dimensions: 5,500\n",
        "Z dimensions: 5,500\n",
        "Xprime dimensions: 5,500\n",
        "mean(abs(deltaW)): 0.23211973\n",
        "A dimensions: 5,500\n",
        "Z dimensions: 5,500\n",
        "Xprime dimensions: 5,500\n",
        "mean(abs(deltaW)): 0.23146064"
       ]
      },
      {
       "output_type": "stream",
       "stream": "stdout",
       "text": [
        "\n",
        "A dimensions: 5,500\n",
        "Z dimensions: 5,500\n",
        "Xprime dimensions: 5,500\n",
        "mean(abs(deltaW)): 0.23080457\n",
        "A dimensions: 5,500\n",
        "Z dimensions: 5,500\n",
        "Xprime dimensions: 5,500\n",
        "mean(abs(deltaW)): 0.23015149"
       ]
      },
      {
       "output_type": "stream",
       "stream": "stdout",
       "text": [
        "\n",
        "A dimensions: 5,500\n",
        "Z dimensions: 5,500\n",
        "Xprime dimensions: 5,500\n",
        "mean(abs(deltaW)): 0.22950140\n",
        "A dimensions: 5,500\n",
        "Z dimensions: 5,500\n",
        "Xprime dimensions: 5,500\n",
        "mean(abs(deltaW)): 0.22885426"
       ]
      },
      {
       "output_type": "stream",
       "stream": "stdout",
       "text": [
        "\n",
        "A dimensions: 5,500\n",
        "Z dimensions: 5,500\n",
        "Xprime dimensions: 5,500\n",
        "mean(abs(deltaW)): 0.22821007\n",
        "A dimensions: 5,500\n",
        "Z dimensions: 5,500\n",
        "Xprime dimensions: 5,500\n",
        "mean(abs(deltaW)): 0.22756881"
       ]
      },
      {
       "output_type": "stream",
       "stream": "stdout",
       "text": [
        "\n",
        "A dimensions: 5,500\n",
        "Z dimensions: 5,500\n",
        "Xprime dimensions: 5,500\n",
        "mean(abs(deltaW)): 0.22693045\n",
        "A dimensions: 5,500\n",
        "Z dimensions: 5,500\n",
        "Xprime dimensions: 5,500\n",
        "mean(abs(deltaW)): 0.22629498"
       ]
      },
      {
       "output_type": "stream",
       "stream": "stdout",
       "text": [
        "\n",
        "A dimensions: 5,500\n",
        "Z dimensions: 5,500\n",
        "Xprime dimensions: 5,500\n",
        "mean(abs(deltaW)): 0.22566238\n",
        "A dimensions: 5,500\n",
        "Z dimensions: 5,500\n",
        "Xprime dimensions: 5,500\n",
        "mean(abs(deltaW)): 0.22503263"
       ]
      },
      {
       "output_type": "stream",
       "stream": "stdout",
       "text": [
        "\n",
        "A dimensions: 5,500\n",
        "Z dimensions: 5,500\n",
        "Xprime dimensions: 5,500\n",
        "mean(abs(deltaW)): 0.22440572\n",
        "A dimensions: 5,500\n",
        "Z dimensions: 5,500\n",
        "Xprime dimensions: 5,500\n",
        "mean(abs(deltaW)): 0.22378163"
       ]
      },
      {
       "output_type": "stream",
       "stream": "stdout",
       "text": [
        "\n",
        "A dimensions: 5,500\n",
        "Z dimensions: 5,500\n",
        "Xprime dimensions: 5,500\n",
        "mean(abs(deltaW)): 0.22316033\n",
        "A dimensions: 5,500\n",
        "Z dimensions: 5,500\n",
        "Xprime dimensions: 5,500\n",
        "mean(abs(deltaW)): 0.22254182"
       ]
      },
      {
       "output_type": "stream",
       "stream": "stdout",
       "text": [
        "\n",
        "A dimensions: 5,500\n",
        "Z dimensions: 5,500\n",
        "Xprime dimensions: 5,500\n",
        "mean(abs(deltaW)): 0.22192608\n",
        "A dimensions: 5,500\n",
        "Z dimensions: 5,500\n",
        "Xprime dimensions: 5,500\n",
        "mean(abs(deltaW)): 0.22131308"
       ]
      },
      {
       "output_type": "stream",
       "stream": "stdout",
       "text": [
        "\n",
        "A dimensions: 5,500\n",
        "Z dimensions: 5,500\n",
        "Xprime dimensions: 5,500\n",
        "mean(abs(deltaW)): 0.22070282\n",
        "A dimensions: 5,500\n",
        "Z dimensions: 5,500\n",
        "Xprime dimensions: 5,500\n",
        "mean(abs(deltaW)): 0.22009527"
       ]
      },
      {
       "output_type": "stream",
       "stream": "stdout",
       "text": [
        "\n",
        "A dimensions: 5,500\n",
        "Z dimensions: 5,500\n",
        "Xprime dimensions: 5,500\n",
        "mean(abs(deltaW)): 0.21949042\n",
        "A dimensions: 5,500\n",
        "Z dimensions: 5,500\n",
        "Xprime dimensions: 5,500\n",
        "mean(abs(deltaW)): 0.21888825"
       ]
      },
      {
       "output_type": "stream",
       "stream": "stdout",
       "text": [
        "\n",
        "A dimensions: 5,500\n",
        "Z dimensions: 5,500\n",
        "Xprime dimensions: 5,500\n",
        "mean(abs(deltaW)): 0.21828875\n",
        "A dimensions: 5,500\n",
        "Z dimensions: 5,500\n",
        "Xprime dimensions: 5,500\n",
        "mean(abs(deltaW)): 0.21769190"
       ]
      },
      {
       "output_type": "stream",
       "stream": "stdout",
       "text": [
        "\n",
        "A dimensions: 5,500\n",
        "Z dimensions: 5,500\n",
        "Xprime dimensions: 5,500\n",
        "mean(abs(deltaW)): 0.21709768\n",
        "A dimensions: 5,500\n",
        "Z dimensions: 5,500\n",
        "Xprime dimensions: 5,500\n",
        "mean(abs(deltaW)): 0.21650608"
       ]
      },
      {
       "output_type": "stream",
       "stream": "stdout",
       "text": [
        "\n",
        "A dimensions: 5,500\n",
        "Z dimensions: 5,500\n",
        "Xprime dimensions: 5,500\n",
        "mean(abs(deltaW)): 0.21591709\n",
        "A dimensions: 5,500\n",
        "Z dimensions: 5,500\n",
        "Xprime dimensions: 5,500\n",
        "mean(abs(deltaW)): 0.21533068"
       ]
      },
      {
       "output_type": "stream",
       "stream": "stdout",
       "text": [
        "\n",
        "A dimensions: 5,500\n",
        "Z dimensions: 5,500\n",
        "Xprime dimensions: 5,500\n",
        "mean(abs(deltaW)): 0.21474684\n",
        "A dimensions: 5,500\n",
        "Z dimensions: 5,500\n",
        "Xprime dimensions: 5,500\n",
        "mean(abs(deltaW)): 0.21416555"
       ]
      },
      {
       "output_type": "stream",
       "stream": "stdout",
       "text": [
        "\n",
        "A dimensions: 5,500\n",
        "Z dimensions: 5,500\n",
        "Xprime dimensions: 5,500\n",
        "mean(abs(deltaW)): 0.21358681\n",
        "A dimensions: 5,500\n",
        "Z dimensions: 5,500\n",
        "Xprime dimensions: 5,500\n",
        "mean(abs(deltaW)): 0.21301059"
       ]
      },
      {
       "output_type": "stream",
       "stream": "stdout",
       "text": [
        "\n",
        "A dimensions: 5,500\n",
        "Z dimensions: 5,500\n",
        "Xprime dimensions: 5,500\n",
        "mean(abs(deltaW)): 0.21243688\n",
        "A dimensions: 5,500\n",
        "Z dimensions: 5,500\n",
        "Xprime dimensions: 5,500\n",
        "mean(abs(deltaW)): 0.21186566"
       ]
      },
      {
       "output_type": "stream",
       "stream": "stdout",
       "text": [
        "\n",
        "A dimensions: 5,500\n",
        "Z dimensions: 5,500\n",
        "Xprime dimensions: 5,500\n",
        "mean(abs(deltaW)): 0.21129693\n",
        "A dimensions: 5,500\n",
        "Z dimensions: 5,500\n",
        "Xprime dimensions: 5,500\n",
        "mean(abs(deltaW)): 0.21073066"
       ]
      },
      {
       "output_type": "stream",
       "stream": "stdout",
       "text": [
        "\n",
        "A dimensions: 5,500\n",
        "Z dimensions: 5,500\n",
        "Xprime dimensions: 5,500\n",
        "mean(abs(deltaW)): 0.21016684\n",
        "A dimensions: 5,500\n",
        "Z dimensions: 5,500\n",
        "Xprime dimensions: 5,500\n",
        "mean(abs(deltaW)): 0.20960546"
       ]
      },
      {
       "output_type": "stream",
       "stream": "stdout",
       "text": [
        "\n",
        "A dimensions: 5,500\n",
        "Z dimensions: 5,500\n",
        "Xprime dimensions: 5,500\n",
        "mean(abs(deltaW)): 0.20904649\n",
        "A dimensions: 5,500\n",
        "Z dimensions: 5,500\n",
        "Xprime dimensions: 5,500\n",
        "mean(abs(deltaW)): 0.20848994"
       ]
      },
      {
       "output_type": "stream",
       "stream": "stdout",
       "text": [
        "\n",
        "A dimensions: 5,500\n",
        "Z dimensions: 5,500\n",
        "Xprime dimensions: 5,500\n",
        "mean(abs(deltaW)): 0.20793578\n",
        "A dimensions: 5,500\n",
        "Z dimensions: 5,500\n",
        "Xprime dimensions: 5,500\n",
        "mean(abs(deltaW)): 0.20738399"
       ]
      },
      {
       "output_type": "stream",
       "stream": "stdout",
       "text": [
        "\n",
        "A dimensions: 5,500\n",
        "Z dimensions: 5,500\n",
        "Xprime dimensions: 5,500\n",
        "mean(abs(deltaW)): 0.20683457\n",
        "A dimensions: 5,500\n",
        "Z dimensions: 5,500\n",
        "Xprime dimensions: 5,500\n",
        "mean(abs(deltaW)): 0.20628751"
       ]
      },
      {
       "output_type": "stream",
       "stream": "stdout",
       "text": [
        "\n",
        "A dimensions: 5,500\n",
        "Z dimensions: 5,500\n",
        "Xprime dimensions: 5,500\n",
        "mean(abs(deltaW)): 0.20574277\n",
        "A dimensions: 5,500\n",
        "Z dimensions: 5,500\n",
        "Xprime dimensions: 5,500\n",
        "mean(abs(deltaW)): 0.20520037"
       ]
      },
      {
       "output_type": "stream",
       "stream": "stdout",
       "text": [
        "\n",
        "A dimensions: 5,500\n",
        "Z dimensions: 5,500\n",
        "Xprime dimensions: 5,500\n",
        "mean(abs(deltaW)): 0.20466027\n",
        "A dimensions: 5,500\n",
        "Z dimensions: 5,500\n",
        "Xprime dimensions: 5,500\n",
        "mean(abs(deltaW)): 0.20412247"
       ]
      },
      {
       "output_type": "stream",
       "stream": "stdout",
       "text": [
        "\n",
        "A dimensions: 5,500\n",
        "Z dimensions: 5,500\n",
        "Xprime dimensions: 5,500\n",
        "mean(abs(deltaW)): 0.20358695\n",
        "A dimensions: 5,500\n",
        "Z dimensions: 5,500\n",
        "Xprime dimensions: 5,500\n",
        "mean(abs(deltaW)): 0.20305370"
       ]
      },
      {
       "output_type": "stream",
       "stream": "stdout",
       "text": [
        "\n",
        "A dimensions: 5,500\n",
        "Z dimensions: 5,500\n",
        "Xprime dimensions: 5,500\n",
        "mean(abs(deltaW)): 0.20252271\n",
        "A dimensions: 5,500\n",
        "Z dimensions: 5,500\n",
        "Xprime dimensions: 5,500\n",
        "mean(abs(deltaW)): 0.20199396"
       ]
      },
      {
       "output_type": "stream",
       "stream": "stdout",
       "text": [
        "\n",
        "A dimensions: 5,500\n",
        "Z dimensions: 5,500\n",
        "Xprime dimensions: 5,500\n",
        "mean(abs(deltaW)): 0.20146744\n",
        "A dimensions: 5,500\n",
        "Z dimensions: 5,500\n",
        "Xprime dimensions: 5,500\n",
        "mean(abs(deltaW)): 0.20094314"
       ]
      },
      {
       "output_type": "stream",
       "stream": "stdout",
       "text": [
        "\n",
        "A dimensions: 5,500\n",
        "Z dimensions: 5,500\n",
        "Xprime dimensions: 5,500\n",
        "mean(abs(deltaW)): 0.20042104\n",
        "A dimensions: 5,500\n",
        "Z dimensions: 5,500\n",
        "Xprime dimensions: 5,500\n",
        "mean(abs(deltaW)): 0.19990113"
       ]
      },
      {
       "output_type": "stream",
       "stream": "stdout",
       "text": [
        "\n",
        "A dimensions: 5,500\n",
        "Z dimensions: 5,500\n",
        "Xprime dimensions: 5,500\n",
        "mean(abs(deltaW)): 0.19938341\n",
        "A dimensions: 5,500\n",
        "Z dimensions: 5,500\n",
        "Xprime dimensions: 5,500\n",
        "mean(abs(deltaW)): 0.19886785"
       ]
      },
      {
       "output_type": "stream",
       "stream": "stdout",
       "text": [
        "\n",
        "A dimensions: 5,500\n",
        "Z dimensions: 5,500\n",
        "Xprime dimensions: 5,500\n",
        "mean(abs(deltaW)): 0.19835444\n",
        "A dimensions: 5,500\n",
        "Z dimensions: 5,500\n",
        "Xprime dimensions: 5,500\n",
        "mean(abs(deltaW)): 0.19784318"
       ]
      },
      {
       "output_type": "stream",
       "stream": "stdout",
       "text": [
        "\n",
        "A dimensions: 5,500\n",
        "Z dimensions: 5,500\n",
        "Xprime dimensions: 5,500\n",
        "mean(abs(deltaW)): 0.19733404\n",
        "A dimensions: 5,500\n",
        "Z dimensions: 5,500\n",
        "Xprime dimensions: 5,500\n",
        "mean(abs(deltaW)): 0.19682702"
       ]
      },
      {
       "output_type": "stream",
       "stream": "stdout",
       "text": [
        "\n",
        "A dimensions: 5,500\n",
        "Z dimensions: 5,500\n",
        "Xprime dimensions: 5,500\n",
        "mean(abs(deltaW)): 0.19632211\n",
        "A dimensions: 5,500\n",
        "Z dimensions: 5,500\n",
        "Xprime dimensions: 5,500\n",
        "mean(abs(deltaW)): 0.19581929"
       ]
      },
      {
       "output_type": "stream",
       "stream": "stdout",
       "text": [
        "\n",
        "A dimensions: 5,500\n",
        "Z dimensions: 5,500\n",
        "Xprime dimensions: 5,500\n",
        "mean(abs(deltaW)): 0.19531856\n",
        "A dimensions: 5,500\n",
        "Z dimensions: 5,500\n",
        "Xprime dimensions: 5,500\n",
        "mean(abs(deltaW)): 0.19481989"
       ]
      },
      {
       "output_type": "stream",
       "stream": "stdout",
       "text": [
        "\n",
        "A dimensions: 5,500\n",
        "Z dimensions: 5,500\n",
        "Xprime dimensions: 5,500\n",
        "mean(abs(deltaW)): 0.19432328\n",
        "A dimensions: 5,500\n",
        "Z dimensions: 5,500\n",
        "Xprime dimensions: 5,500\n",
        "mean(abs(deltaW)): 0.19382872"
       ]
      },
      {
       "output_type": "stream",
       "stream": "stdout",
       "text": [
        "\n",
        "A dimensions: 5,500\n",
        "Z dimensions: 5,500\n",
        "Xprime dimensions: 5,500\n",
        "mean(abs(deltaW)): 0.19333619\n",
        "A dimensions: 5,500\n",
        "Z dimensions: 5,500\n",
        "Xprime dimensions: 5,500\n",
        "mean(abs(deltaW)): 0.19284568"
       ]
      },
      {
       "output_type": "stream",
       "stream": "stdout",
       "text": [
        "\n",
        "A dimensions: 5,500\n",
        "Z dimensions: 5,500\n",
        "Xprime dimensions: 5,500\n",
        "mean(abs(deltaW)): 0.19235719\n",
        "A dimensions: 5,500\n",
        "Z dimensions: 5,500\n",
        "Xprime dimensions: 5,500\n",
        "mean(abs(deltaW)): 0.19187069"
       ]
      },
      {
       "output_type": "stream",
       "stream": "stdout",
       "text": [
        "\n",
        "A dimensions: 5,500\n",
        "Z dimensions: 5,500\n",
        "Xprime dimensions: 5,500\n",
        "mean(abs(deltaW)): 0.19138619\n",
        "A dimensions: 5,500\n",
        "Z dimensions: 5,500\n",
        "Xprime dimensions: 5,500\n",
        "mean(abs(deltaW)): 0.19090366"
       ]
      },
      {
       "output_type": "stream",
       "stream": "stdout",
       "text": [
        "\n",
        "A dimensions: 5,500\n",
        "Z dimensions: 5,500\n",
        "Xprime dimensions: 5,500\n",
        "mean(abs(deltaW)): 0.19042310\n",
        "A dimensions: 5,500\n",
        "Z dimensions: 5,500\n",
        "Xprime dimensions: 5,500\n",
        "iteration:500"
       ]
      },
      {
       "output_type": "stream",
       "stream": "stdout",
       "text": [
        "\n"
       ]
      },
      {
       "metadata": {},
       "output_type": "display_data",
       "png": "[encoded data removed]",
       "text": [
        "<matplotlib.figure.Figure at 0x4a866d0>"
       ]
      },
      {
       "metadata": {},
       "output_type": "display_data",
       "png": "[encoded data removed]",
       "text": [
        "<matplotlib.figure.Figure at 0x3c60c10>"
       ]
      },
      {
       "metadata": {},
       "output_type": "display_data",
       "png": "[encoded data removed]",
       "text": [
        "<matplotlib.figure.Figure at 0x44b7d90>"
       ]
      }
     ],
     "prompt_number": 246
    },
    {
     "cell_type": "code",
     "collapsed": false,
     "input": [
      "print 0.22068564+(0.00081387)\n",
      "\n",
      "\n",
      "L = np.array([[1,2,3],[3,4,5]])\n",
      "print L\n",
      "print L * 5\n"
     ],
     "language": "python",
     "metadata": {},
     "outputs": [
      {
       "output_type": "stream",
       "stream": "stdout",
       "text": [
        "0.22149951\n",
        "[[1 2 3]\n",
        " [3 4 5]]\n",
        "[[ 5 10 15]\n",
        " [15 20 25]]\n"
       ]
      }
     ],
     "prompt_number": 212
    },
    {
     "cell_type": "code",
     "collapsed": false,
     "input": [
      "np.diag([1,2,3])"
     ],
     "language": "python",
     "metadata": {},
     "outputs": [
      {
       "metadata": {},
       "output_type": "pyout",
       "prompt_number": 226,
       "text": [
        "array([[1, 0, 0],\n",
        "       [0, 2, 0],\n",
        "       [0, 0, 3]])"
       ]
      }
     ],
     "prompt_number": 226
    },
    {
     "cell_type": "code",
     "collapsed": false,
     "input": [],
     "language": "python",
     "metadata": {},
     "outputs": []
    }
   ],
   "metadata": {}
  }
 ]
}