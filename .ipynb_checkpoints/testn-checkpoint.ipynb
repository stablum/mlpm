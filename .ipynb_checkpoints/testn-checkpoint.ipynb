{
 "metadata": {
  "name": ""
 },
 "nbformat": 3,
 "nbformat_minor": 0,
 "worksheets": [
  {
   "cells": [
    {
     "cell_type": "markdown",
     "metadata": {},
     "source": [
      "<h1 id=\"heading-1\">Report</h1>"
     ]
    },
    {
     "cell_type": "markdown",
     "metadata": {},
     "source": [
      "<h2>Imported functions</h2>"
     ]
    },
    {
     "cell_type": "code",
     "collapsed": false,
     "input": [
      "import time\n",
      "import copy"
     ],
     "language": "python",
     "metadata": {},
     "outputs": [],
     "prompt_number": 1
    },
    {
     "cell_type": "code",
     "collapsed": false,
     "input": [
      "#%pylab inline\n",
      "\n",
      "\n",
      "# Signal generators\n",
      "def sawtooth(x, period=0.2, amp=1.0, phase=0.):\n",
      "    return (((x / period - phase - 0.5) % 1) - 0.5) * 2 * amp\n",
      "\n",
      "def sine_wave(x, period=0.2, amp=1.0, phase=0.):\n",
      "    return np.sin((x / period - phase) * 2 * np.pi) * amp\n",
      "\n",
      "def square_wave(x, period=0.2, amp=1.0, phase=0.):\n",
      "    return ((np.floor(2 * x / period - 2 * phase - 1) % 2 == 0).astype(float) - 0.5) * 2 * amp\n",
      "\n",
      "def triangle_wave(x, period=0.2, amp=1.0, phase=0.):\n",
      "    return (sawtooth(x, period, 1., phase) * square_wave(x, period, 1., phase) + 0.5) * 2 * amp\n",
      "\n",
      "def random_nonsingular_matrix(d=2):\n",
      "    \"\"\"\n",
      "    Generates a random nonsingular (invertible) matrix of shape d*d\n",
      "    \"\"\"\n",
      "    epsilon = 0.1\n",
      "    A = np.random.rand(d, d)\n",
      "    while abs(np.linalg.det(A)) < epsilon:\n",
      "        A = np.random.rand(d, d)\n",
      "    return A\n",
      "\n",
      "def plot_signals(X, showAxes=False):\n",
      "    \"\"\"\n",
      "    Plot the signals contained in the rows of X.\n",
      "    \"\"\"\n",
      "    figure()\n",
      "    for i in range(X.shape[0]):\n",
      "        # see http://matplotlib.org/api/pyplot_api.html#matplotlib.pyplot.subplot\n",
      "        # subplot params: numrows, numcols, fignum where fignum ranges from 1 to numrows*numcols.\n",
      "        ax = plt.subplot(X.shape[0], 1, i + 1)\n",
      "        plot(X[i, :])\n",
      "        draw()\n",
      "        time.sleep(1)\n",
      "        if not showAxes:\n",
      "            ax.set_xticks([])\n",
      "            ax.set_yticks([])"
     ],
     "language": "python",
     "metadata": {},
     "outputs": [],
     "prompt_number": 2
    },
    {
     "cell_type": "code",
     "collapsed": false,
     "input": [
      "sine_wave(np.array([1,2,3]))\n"
     ],
     "language": "python",
     "metadata": {},
     "outputs": [
      {
       "metadata": {},
       "output_type": "pyout",
       "prompt_number": 3,
       "text": [
        "array([ -1.22464680e-15,  -2.44929360e-15,  -1.07793678e-14])"
       ]
      }
     ],
     "prompt_number": 3
    },
    {
     "cell_type": "code",
     "collapsed": false,
     "input": [
      "num_sources = 5\n",
      "signal_length = 500\n",
      "t = linspace(0, 1, signal_length)\n",
      "# np.c_ Translates slice objects to concatenation along the second axis.\n",
      "S = np.c_[sawtooth(t), sine_wave(t, 0.3), square_wave(t, 0.4), triangle_wave(t, 0.25), np.random.randn(t.size)].T\n"
     ],
     "language": "python",
     "metadata": {},
     "outputs": [],
     "prompt_number": 4
    },
    {
     "cell_type": "code",
     "collapsed": false,
     "input": [
      "print num_sources"
     ],
     "language": "python",
     "metadata": {},
     "outputs": [
      {
       "output_type": "stream",
       "stream": "stdout",
       "text": [
        "5\n"
       ]
      }
     ],
     "prompt_number": 5
    },
    {
     "cell_type": "code",
     "collapsed": false,
     "input": [
      "t2 = linspace(0,2,10)\n",
      "s1 = sawtooth(t2)\n",
      "s2 = sine_wave(t2, 0.3)\n",
      "S2 = np.array([s1, s2])\n",
      "print S2\n",
      "print \"\" \n",
      "print np.c_[s1,s2].T"
     ],
     "language": "python",
     "metadata": {},
     "outputs": [
      {
       "output_type": "stream",
       "stream": "stdout",
       "text": [
        "[[ 0.          0.22222222  0.44444444  0.66666667  0.88888889 -0.88888889\n",
        "  -0.66666667 -0.44444444 -0.22222222  0.        ]\n",
        " [ 0.         -0.99830816  0.11609291  0.98480775 -0.23061587 -0.95798951\n",
        "   0.34202014  0.91821611 -0.44879918 -0.8660254 ]]\n",
        "\n",
        "[[ 0.          0.22222222  0.44444444  0.66666667  0.88888889 -0.88888889\n",
        "  -0.66666667 -0.44444444 -0.22222222  0.        ]\n",
        " [ 0.         -0.99830816  0.11609291  0.98480775 -0.23061587 -0.95798951\n",
        "   0.34202014  0.91821611 -0.44879918 -0.8660254 ]]\n"
       ]
      }
     ],
     "prompt_number": 6
    },
    {
     "cell_type": "code",
     "collapsed": false,
     "input": [
      "print S"
     ],
     "language": "python",
     "metadata": {},
     "outputs": [
      {
       "output_type": "stream",
       "stream": "stdout",
       "text": [
        "[[ 0.          0.02004008  0.04008016 ..., -0.04008016 -0.02004008  0.        ]\n",
        " [ 0.          0.04195952  0.08384514 ...,  0.90489852  0.88624247\n",
        "   0.8660254 ]\n",
        " [-1.         -1.         -1.         ..., -1.         -1.          1.        ]\n",
        " [ 1.          0.96793587  0.93587174 ...,  0.93587174  0.96793587  1.        ]\n",
        " [-0.61426606 -1.21179696  0.22666623 ...,  1.06666369 -0.40277695\n",
        "  -0.63228683]]\n"
       ]
      }
     ],
     "prompt_number": 7
    },
    {
     "cell_type": "code",
     "collapsed": false,
     "input": [
      "plot_signals(S2,showAxes=True)"
     ],
     "language": "python",
     "metadata": {},
     "outputs": [
      {
       "metadata": {},
       "output_type": "display_data",
       "png": "[encoded data removed]",
       "text": [
        "<matplotlib.figure.Figure at 0x3f52e50>"
       ]
      }
     ],
     "prompt_number": 8
    },
    {
     "cell_type": "code",
     "collapsed": false,
     "input": [
      "plot_signals(S,showAxes=True)"
     ],
     "language": "python",
     "metadata": {},
     "outputs": [
      {
       "metadata": {},
       "output_type": "display_data",
       "png": "[encoded data removed]",
       "text": [
        "<matplotlib.figure.Figure at 0x428bc10>"
       ]
      }
     ],
     "prompt_number": 9
    },
    {
     "cell_type": "code",
     "collapsed": false,
     "input": [
      "print random_nonsingular_matrix(d=4)\n"
     ],
     "language": "python",
     "metadata": {},
     "outputs": [
      {
       "output_type": "stream",
       "stream": "stdout",
       "text": [
        "[[ 0.68814096  0.43258752  0.7314159   0.32867498]\n",
        " [ 0.05092409  0.39562255  0.33362147  0.81495709]\n",
        " [ 0.27090201  0.84491482  0.41555073  0.23472748]\n",
        " [ 0.96995776  0.68446823  0.56676557  0.52016472]]\n"
       ]
      }
     ],
     "prompt_number": 10
    },
    {
     "cell_type": "code",
     "collapsed": false,
     "input": [
      "B =np.array([[1,2,3,4],[5,3,6,7]])\n",
      "print B\n",
      "print B.shape\n",
      "print B.T\n",
      "B = B.T\n",
      "A = np.array([[1,2,3],[4,5,6],[7,8,9],[10,11,12]]).T\n",
      "print \"A = %s \" % A\n",
      "print \"B = %s\" % B\n",
      "\n",
      "print \"A x B: %s\" % np.dot(A,B)"
     ],
     "language": "python",
     "metadata": {},
     "outputs": [
      {
       "output_type": "stream",
       "stream": "stdout",
       "text": [
        "[[1 2 3 4]\n",
        " [5 3 6 7]]\n",
        "(2, 4)\n",
        "[[1 5]\n",
        " [2 3]\n",
        " [3 6]\n",
        " [4 7]]\n",
        "A = [[ 1  4  7 10]\n",
        " [ 2  5  8 11]\n",
        " [ 3  6  9 12]] \n",
        "B = [[1 5]\n",
        " [2 3]\n",
        " [3 6]\n",
        " [4 7]]\n",
        "A x B: [[ 70 129]\n",
        " [ 80 150]\n",
        " [ 90 171]]\n"
       ]
      }
     ],
     "prompt_number": 11
    },
    {
     "cell_type": "code",
     "collapsed": false,
     "input": [
      "def make_mixtures(S, A):\n",
      "    X = np.dot(A,S)\n",
      "    return X\n",
      "\n",
      "\n",
      " \n",
      "\n",
      "Mnr = Snr = S.shape[0]\n",
      "Tnr = S.shape[1]\n",
      "\n",
      "\n",
      "\n",
      "A = random_nonsingular_matrix(Snr)\n",
      "\n",
      "X = make_mixtures(S,A)\n",
      "\n",
      "plot_signals( X)"
     ],
     "language": "python",
     "metadata": {},
     "outputs": []
    },
    {
     "cell_type": "code",
     "collapsed": false,
     "input": [
      "# prints a histogram for each row of X\n",
      "def plot_histograms(X, nrBins=10,showAxes=False):\n",
      "    nrRows = X.shape[0]\n",
      "    nrColumns = X.shape[1]\n",
      "    if nrBins > nrColumns:\n",
      "        raise Exception(\"nr bins > nr columns of matrix X\")\n",
      "    figure()\n",
      "    for i in range(nrRows):\n",
      "        #print X[i,:]\n",
      "        hist, bin_edges = histogram(X[i,:],nrBins)\n",
      "        #print hist\n",
      "        #print bin_edges\n",
      "        lowest = bin_edges[:1][0]\n",
      "        highest =  bin_edges[-1:][0]\n",
      "        interval = (highest-lowest)/float(nrBins)\n",
      "        #print interval\n",
      "        ax = plt.subplot(nrRows, 1, i + 1)\n",
      "        bar(bin_edges[:-1],hist, width=interval)\n",
      "        if not showAxes:\n",
      "            ax.set_xticks([])\n",
      "            ax.set_yticks([])\n",
      "            \n",
      "print \"S:\"\n",
      "plot_histograms(S,nrBins=50,showAxes=False)\n",
      "\n",
      "print \"X:\"\n",
      "plot_histograms(X,nrBins=50,showAxes=False)\n"
     ],
     "language": "python",
     "metadata": {},
     "outputs": [
      {
       "output_type": "stream",
       "stream": "stdout",
       "text": [
        "\n"
       ]
      },
      {
       "metadata": {},
       "output_type": "display_data",
       "png": "[encoded data removed]",
       "text": [
        "<matplotlib.figure.Figure at 0x3fb1550>"
       ]
      },
      {
       "metadata": {},
       "output_type": "display_data",
       "png": "[encoded data removed]",
       "text": [
        "<matplotlib.figure.Figure at 0x42a6990>"
       ]
      }
     ]
    },
    {
     "cell_type": "code",
     "collapsed": false,
     "input": [
      "act0 = lambda x : -tanh(x)\n",
      "sourceDistr0 = lambda x : math.exp ( - math.log( cosh(x)))\n",
      "\n",
      "act1 = lambda x : -x + tanh(x)\n",
      "sourceDistr1 = lambda x : math.exp(  -( math.pow(x,2) / float(2) ) + math.log(cosh(x)) )\n",
      "\n",
      "act2 = lambda x : (-1)*(math.pow(x,3))\n",
      "sourceDistr2 = lambda x : math.exp( -((math.pow(x,4))/float(4)))\n",
      "\n",
      "act3 = lambda x : -((6*x)/((math.pow(x,2))+5))\n",
      "sourceDistr3 = lambda x : float(1)/(math.pow(math.pow(x,2)+5,3))\n",
      "\n",
      "actFunctions = [act0, act1, act2, act3]\n",
      "sourceDistrFunctions = [sourceDistr0, sourceDistr1, sourceDistr2, sourceDistr3]\n",
      "\n",
      "actT = linspace(-4,4,500)\n",
      "#actM = [x for x in     \n",
      "\n",
      "actMl = []\n",
      "sourceDistrMl = []\n",
      "for i in range (0, len(actFunctions)):\n",
      "    actMl.append(map (actFunctions[i], actT))\n",
      "    sourceDistrMl.append(map (sourceDistrFunctions[i], actT))\n",
      "\n",
      "\n",
      "actM = np.array(actMl)\n",
      "sourceDistrM = np.array(sourceDistrMl)\n",
      "\n",
      "def plot_signals2(X1,X2, showAxes=False):\n",
      "    \"\"\"\n",
      "    Plot the signals contained in the rows of X.\n",
      "    \"\"\"\n",
      "    figure()\n",
      "    for i in range(X1.shape[0]):\n",
      "        # see http://matplotlib.org/api/pyplot_api.html#matplotlib.pyplot.subplot\n",
      "        # subplot params: numrows, numcols, fignum where fignum ranges from 1 to numrows*numcols.\n",
      "        ax = plt.subplot(X.shape[0], 1, i + 1)\n",
      "        plot(X1[i, :])\n",
      "        plot(X2[i,:])\n",
      "        if not showAxes:\n",
      "            ax.set_xticks([])\n",
      "            ax.set_yticks([])\n",
      "            \n",
      "plot_signals2(actM, sourceDistrM, showAxes=True)\n",
      "\n",
      "plot_signals(actM)\n",
      "\n",
      "plot_signals(sourceDistrM)"
     ],
     "language": "python",
     "metadata": {},
     "outputs": [
      {
       "ename": "KeyboardInterrupt",
       "evalue": "",
       "output_type": "pyerr",
       "traceback": [
        "\u001b[1;31m---------------------------------------------------------------------------\u001b[0m\n\u001b[1;31mKeyboardInterrupt\u001b[0m                         Traceback (most recent call last)",
        "\u001b[1;32m<ipython-input-14-0a7282fd0d73>\u001b[0m in \u001b[0;36m<module>\u001b[1;34m()\u001b[0m\n\u001b[0;32m     46\u001b[0m \u001b[0mplot_signals\u001b[0m\u001b[1;33m(\u001b[0m\u001b[0mactM\u001b[0m\u001b[1;33m)\u001b[0m\u001b[1;33m\u001b[0m\u001b[0m\n\u001b[0;32m     47\u001b[0m \u001b[1;33m\u001b[0m\u001b[0m\n\u001b[1;32m---> 48\u001b[1;33m \u001b[0mplot_signals\u001b[0m\u001b[1;33m(\u001b[0m\u001b[0msourceDistrM\u001b[0m\u001b[1;33m)\u001b[0m\u001b[1;33m\u001b[0m\u001b[0m\n\u001b[0m",
        "\u001b[1;32m<ipython-input-2-9408ac956cfa>\u001b[0m in \u001b[0;36mplot_signals\u001b[1;34m(X, showAxes)\u001b[0m\n\u001b[0;32m     33\u001b[0m         \u001b[1;31m# see http://matplotlib.org/api/pyplot_api.html#matplotlib.pyplot.subplot\u001b[0m\u001b[1;33m\u001b[0m\u001b[1;33m\u001b[0m\u001b[0m\n\u001b[0;32m     34\u001b[0m         \u001b[1;31m# subplot params: numrows, numcols, fignum where fignum ranges from 1 to numrows*numcols.\u001b[0m\u001b[1;33m\u001b[0m\u001b[1;33m\u001b[0m\u001b[0m\n\u001b[1;32m---> 35\u001b[1;33m         \u001b[0max\u001b[0m \u001b[1;33m=\u001b[0m \u001b[0mplt\u001b[0m\u001b[1;33m.\u001b[0m\u001b[0msubplot\u001b[0m\u001b[1;33m(\u001b[0m\u001b[0mX\u001b[0m\u001b[1;33m.\u001b[0m\u001b[0mshape\u001b[0m\u001b[1;33m[\u001b[0m\u001b[1;36m0\u001b[0m\u001b[1;33m]\u001b[0m\u001b[1;33m,\u001b[0m \u001b[1;36m1\u001b[0m\u001b[1;33m,\u001b[0m \u001b[0mi\u001b[0m \u001b[1;33m+\u001b[0m \u001b[1;36m1\u001b[0m\u001b[1;33m)\u001b[0m\u001b[1;33m\u001b[0m\u001b[0m\n\u001b[0m\u001b[0;32m     36\u001b[0m         \u001b[0mplot\u001b[0m\u001b[1;33m(\u001b[0m\u001b[0mX\u001b[0m\u001b[1;33m[\u001b[0m\u001b[0mi\u001b[0m\u001b[1;33m,\u001b[0m \u001b[1;33m:\u001b[0m\u001b[1;33m]\u001b[0m\u001b[1;33m)\u001b[0m\u001b[1;33m\u001b[0m\u001b[0m\n\u001b[0;32m     37\u001b[0m         \u001b[0mdraw\u001b[0m\u001b[1;33m(\u001b[0m\u001b[1;33m)\u001b[0m\u001b[1;33m\u001b[0m\u001b[0m\n",
        "\u001b[1;32m/usr/lib64/python2.7/site-packages/matplotlib/pyplot.pyc\u001b[0m in \u001b[0;36msubplot\u001b[1;34m(*args, **kwargs)\u001b[0m\n\u001b[0;32m    780\u001b[0m \u001b[1;33m\u001b[0m\u001b[0m\n\u001b[0;32m    781\u001b[0m     \u001b[0mfig\u001b[0m \u001b[1;33m=\u001b[0m \u001b[0mgcf\u001b[0m\u001b[1;33m(\u001b[0m\u001b[1;33m)\u001b[0m\u001b[1;33m\u001b[0m\u001b[0m\n\u001b[1;32m--> 782\u001b[1;33m     \u001b[0ma\u001b[0m \u001b[1;33m=\u001b[0m \u001b[0mfig\u001b[0m\u001b[1;33m.\u001b[0m\u001b[0madd_subplot\u001b[0m\u001b[1;33m(\u001b[0m\u001b[1;33m*\u001b[0m\u001b[0margs\u001b[0m\u001b[1;33m,\u001b[0m \u001b[1;33m**\u001b[0m\u001b[0mkwargs\u001b[0m\u001b[1;33m)\u001b[0m\u001b[1;33m\u001b[0m\u001b[0m\n\u001b[0m\u001b[0;32m    783\u001b[0m     \u001b[0mbbox\u001b[0m \u001b[1;33m=\u001b[0m \u001b[0ma\u001b[0m\u001b[1;33m.\u001b[0m\u001b[0mbbox\u001b[0m\u001b[1;33m\u001b[0m\u001b[0m\n\u001b[0;32m    784\u001b[0m     \u001b[0mbyebye\u001b[0m \u001b[1;33m=\u001b[0m \u001b[1;33m[\u001b[0m\u001b[1;33m]\u001b[0m\u001b[1;33m\u001b[0m\u001b[0m\n",
        "\u001b[1;32m/usr/lib64/python2.7/site-packages/matplotlib/figure.pyc\u001b[0m in \u001b[0;36madd_subplot\u001b[1;34m(self, *args, **kwargs)\u001b[0m\n\u001b[0;32m    880\u001b[0m                     \u001b[0mself\u001b[0m\u001b[1;33m.\u001b[0m\u001b[0m_axstack\u001b[0m\u001b[1;33m.\u001b[0m\u001b[0mremove\u001b[0m\u001b[1;33m(\u001b[0m\u001b[0max\u001b[0m\u001b[1;33m)\u001b[0m\u001b[1;33m\u001b[0m\u001b[0m\n\u001b[0;32m    881\u001b[0m \u001b[1;33m\u001b[0m\u001b[0m\n\u001b[1;32m--> 882\u001b[1;33m             \u001b[0ma\u001b[0m \u001b[1;33m=\u001b[0m \u001b[0msubplot_class_factory\u001b[0m\u001b[1;33m(\u001b[0m\u001b[0mprojection_class\u001b[0m\u001b[1;33m)\u001b[0m\u001b[1;33m(\u001b[0m\u001b[0mself\u001b[0m\u001b[1;33m,\u001b[0m \u001b[1;33m*\u001b[0m\u001b[0margs\u001b[0m\u001b[1;33m,\u001b[0m \u001b[1;33m**\u001b[0m\u001b[0mkwargs\u001b[0m\u001b[1;33m)\u001b[0m\u001b[1;33m\u001b[0m\u001b[0m\n\u001b[0m\u001b[0;32m    883\u001b[0m \u001b[1;33m\u001b[0m\u001b[0m\n\u001b[0;32m    884\u001b[0m         \u001b[0mself\u001b[0m\u001b[1;33m.\u001b[0m\u001b[0m_axstack\u001b[0m\u001b[1;33m.\u001b[0m\u001b[0madd\u001b[0m\u001b[1;33m(\u001b[0m\u001b[0mkey\u001b[0m\u001b[1;33m,\u001b[0m \u001b[0ma\u001b[0m\u001b[1;33m)\u001b[0m\u001b[1;33m\u001b[0m\u001b[0m\n",
        "\u001b[1;32m/usr/lib64/python2.7/site-packages/matplotlib/axes.pyc\u001b[0m in \u001b[0;36m__init__\u001b[1;34m(self, fig, *args, **kwargs)\u001b[0m\n\u001b[0;32m   8936\u001b[0m \u001b[1;33m\u001b[0m\u001b[0m\n\u001b[0;32m   8937\u001b[0m         \u001b[1;31m# _axes_class is set in the subplot_class_factory\u001b[0m\u001b[1;33m\u001b[0m\u001b[1;33m\u001b[0m\u001b[0m\n\u001b[1;32m-> 8938\u001b[1;33m         \u001b[0mself\u001b[0m\u001b[1;33m.\u001b[0m\u001b[0m_axes_class\u001b[0m\u001b[1;33m.\u001b[0m\u001b[0m__init__\u001b[0m\u001b[1;33m(\u001b[0m\u001b[0mself\u001b[0m\u001b[1;33m,\u001b[0m \u001b[0mfig\u001b[0m\u001b[1;33m,\u001b[0m \u001b[0mself\u001b[0m\u001b[1;33m.\u001b[0m\u001b[0mfigbox\u001b[0m\u001b[1;33m,\u001b[0m \u001b[1;33m**\u001b[0m\u001b[0mkwargs\u001b[0m\u001b[1;33m)\u001b[0m\u001b[1;33m\u001b[0m\u001b[0m\n\u001b[0m\u001b[0;32m   8939\u001b[0m \u001b[1;33m\u001b[0m\u001b[0m\n\u001b[0;32m   8940\u001b[0m     \u001b[1;32mdef\u001b[0m \u001b[0m__reduce__\u001b[0m\u001b[1;33m(\u001b[0m\u001b[0mself\u001b[0m\u001b[1;33m)\u001b[0m\u001b[1;33m:\u001b[0m\u001b[1;33m\u001b[0m\u001b[0m\n",
        "\u001b[1;32m/usr/lib64/python2.7/site-packages/matplotlib/axes.pyc\u001b[0m in \u001b[0;36m__init__\u001b[1;34m(self, fig, rect, axisbg, frameon, sharex, sharey, label, xscale, yscale, **kwargs)\u001b[0m\n\u001b[0;32m    459\u001b[0m \u001b[1;33m\u001b[0m\u001b[0m\n\u001b[0;32m    460\u001b[0m         \u001b[1;31m# this call may differ for non-sep axes, eg polar\u001b[0m\u001b[1;33m\u001b[0m\u001b[1;33m\u001b[0m\u001b[0m\n\u001b[1;32m--> 461\u001b[1;33m         \u001b[0mself\u001b[0m\u001b[1;33m.\u001b[0m\u001b[0m_init_axis\u001b[0m\u001b[1;33m(\u001b[0m\u001b[1;33m)\u001b[0m\u001b[1;33m\u001b[0m\u001b[0m\n\u001b[0m\u001b[0;32m    462\u001b[0m \u001b[1;33m\u001b[0m\u001b[0m\n\u001b[0;32m    463\u001b[0m         \u001b[1;32mif\u001b[0m \u001b[0maxisbg\u001b[0m \u001b[1;32mis\u001b[0m \u001b[0mNone\u001b[0m\u001b[1;33m:\u001b[0m \u001b[0maxisbg\u001b[0m \u001b[1;33m=\u001b[0m \u001b[0mrcParams\u001b[0m\u001b[1;33m[\u001b[0m\u001b[1;34m'axes.facecolor'\u001b[0m\u001b[1;33m]\u001b[0m\u001b[1;33m\u001b[0m\u001b[0m\n",
        "\u001b[1;32m/usr/lib64/python2.7/site-packages/matplotlib/axes.pyc\u001b[0m in \u001b[0;36m_init_axis\u001b[1;34m(self)\u001b[0m\n\u001b[0;32m    517\u001b[0m         \u001b[1;34m\"move this out of __init__ because non-separable axes don't use it\"\u001b[0m\u001b[1;33m\u001b[0m\u001b[0m\n\u001b[0;32m    518\u001b[0m         \u001b[0mself\u001b[0m\u001b[1;33m.\u001b[0m\u001b[0mxaxis\u001b[0m \u001b[1;33m=\u001b[0m \u001b[0mmaxis\u001b[0m\u001b[1;33m.\u001b[0m\u001b[0mXAxis\u001b[0m\u001b[1;33m(\u001b[0m\u001b[0mself\u001b[0m\u001b[1;33m)\u001b[0m\u001b[1;33m\u001b[0m\u001b[0m\n\u001b[1;32m--> 519\u001b[1;33m         \u001b[0mself\u001b[0m\u001b[1;33m.\u001b[0m\u001b[0mspines\u001b[0m\u001b[1;33m[\u001b[0m\u001b[1;34m'bottom'\u001b[0m\u001b[1;33m]\u001b[0m\u001b[1;33m.\u001b[0m\u001b[0mregister_axis\u001b[0m\u001b[1;33m(\u001b[0m\u001b[0mself\u001b[0m\u001b[1;33m.\u001b[0m\u001b[0mxaxis\u001b[0m\u001b[1;33m)\u001b[0m\u001b[1;33m\u001b[0m\u001b[0m\n\u001b[0m\u001b[0;32m    520\u001b[0m         \u001b[0mself\u001b[0m\u001b[1;33m.\u001b[0m\u001b[0mspines\u001b[0m\u001b[1;33m[\u001b[0m\u001b[1;34m'top'\u001b[0m\u001b[1;33m]\u001b[0m\u001b[1;33m.\u001b[0m\u001b[0mregister_axis\u001b[0m\u001b[1;33m(\u001b[0m\u001b[0mself\u001b[0m\u001b[1;33m.\u001b[0m\u001b[0mxaxis\u001b[0m\u001b[1;33m)\u001b[0m\u001b[1;33m\u001b[0m\u001b[0m\n\u001b[0;32m    521\u001b[0m         \u001b[0mself\u001b[0m\u001b[1;33m.\u001b[0m\u001b[0myaxis\u001b[0m \u001b[1;33m=\u001b[0m \u001b[0mmaxis\u001b[0m\u001b[1;33m.\u001b[0m\u001b[0mYAxis\u001b[0m\u001b[1;33m(\u001b[0m\u001b[0mself\u001b[0m\u001b[1;33m)\u001b[0m\u001b[1;33m\u001b[0m\u001b[0m\n",
        "\u001b[1;32m/usr/lib64/python2.7/site-packages/matplotlib/spines.pyc\u001b[0m in \u001b[0;36mregister_axis\u001b[1;34m(self, axis)\u001b[0m\n\u001b[0;32m    149\u001b[0m         \u001b[0mself\u001b[0m\u001b[1;33m.\u001b[0m\u001b[0maxis\u001b[0m \u001b[1;33m=\u001b[0m \u001b[0maxis\u001b[0m\u001b[1;33m\u001b[0m\u001b[0m\n\u001b[0;32m    150\u001b[0m         \u001b[1;32mif\u001b[0m \u001b[0mself\u001b[0m\u001b[1;33m.\u001b[0m\u001b[0maxis\u001b[0m \u001b[1;32mis\u001b[0m \u001b[1;32mnot\u001b[0m \u001b[0mNone\u001b[0m\u001b[1;33m:\u001b[0m\u001b[1;33m\u001b[0m\u001b[0m\n\u001b[1;32m--> 151\u001b[1;33m             \u001b[0mself\u001b[0m\u001b[1;33m.\u001b[0m\u001b[0maxis\u001b[0m\u001b[1;33m.\u001b[0m\u001b[0mcla\u001b[0m\u001b[1;33m(\u001b[0m\u001b[1;33m)\u001b[0m\u001b[1;33m\u001b[0m\u001b[0m\n\u001b[0m\u001b[0;32m    152\u001b[0m \u001b[1;33m\u001b[0m\u001b[0m\n\u001b[0;32m    153\u001b[0m     \u001b[1;32mdef\u001b[0m \u001b[0mcla\u001b[0m\u001b[1;33m(\u001b[0m\u001b[0mself\u001b[0m\u001b[1;33m)\u001b[0m\u001b[1;33m:\u001b[0m\u001b[1;33m\u001b[0m\u001b[0m\n",
        "\u001b[1;32m/usr/lib64/python2.7/site-packages/matplotlib/axis.pyc\u001b[0m in \u001b[0;36mcla\u001b[1;34m(self)\u001b[0m\n\u001b[0;32m    730\u001b[0m         \u001b[0mself\u001b[0m\u001b[1;33m.\u001b[0m\u001b[0m_set_artist_props\u001b[0m\u001b[1;33m(\u001b[0m\u001b[0mself\u001b[0m\u001b[1;33m.\u001b[0m\u001b[0mlabel\u001b[0m\u001b[1;33m)\u001b[0m\u001b[1;33m\u001b[0m\u001b[0m\n\u001b[0;32m    731\u001b[0m \u001b[1;33m\u001b[0m\u001b[0m\n\u001b[1;32m--> 732\u001b[1;33m         \u001b[0mself\u001b[0m\u001b[1;33m.\u001b[0m\u001b[0mreset_ticks\u001b[0m\u001b[1;33m(\u001b[0m\u001b[1;33m)\u001b[0m\u001b[1;33m\u001b[0m\u001b[0m\n\u001b[0m\u001b[0;32m    733\u001b[0m \u001b[1;33m\u001b[0m\u001b[0m\n\u001b[0;32m    734\u001b[0m         \u001b[0mself\u001b[0m\u001b[1;33m.\u001b[0m\u001b[0mconverter\u001b[0m \u001b[1;33m=\u001b[0m \u001b[0mNone\u001b[0m\u001b[1;33m\u001b[0m\u001b[0m\n",
        "\u001b[1;32m/usr/lib64/python2.7/site-packages/matplotlib/axis.pyc\u001b[0m in \u001b[0;36mreset_ticks\u001b[1;34m(self)\u001b[0m\n\u001b[0;32m    743\u001b[0m         \u001b[0mcbook\u001b[0m\u001b[1;33m.\u001b[0m\u001b[0mpopall\u001b[0m\u001b[1;33m(\u001b[0m\u001b[0mself\u001b[0m\u001b[1;33m.\u001b[0m\u001b[0mminorTicks\u001b[0m\u001b[1;33m)\u001b[0m\u001b[1;33m\u001b[0m\u001b[0m\n\u001b[0;32m    744\u001b[0m \u001b[1;33m\u001b[0m\u001b[0m\n\u001b[1;32m--> 745\u001b[1;33m         \u001b[0mself\u001b[0m\u001b[1;33m.\u001b[0m\u001b[0mmajorTicks\u001b[0m\u001b[1;33m.\u001b[0m\u001b[0mextend\u001b[0m\u001b[1;33m(\u001b[0m\u001b[1;33m[\u001b[0m\u001b[0mself\u001b[0m\u001b[1;33m.\u001b[0m\u001b[0m_get_tick\u001b[0m\u001b[1;33m(\u001b[0m\u001b[0mmajor\u001b[0m\u001b[1;33m=\u001b[0m\u001b[0mTrue\u001b[0m\u001b[1;33m)\u001b[0m\u001b[1;33m]\u001b[0m\u001b[1;33m)\u001b[0m\u001b[1;33m\u001b[0m\u001b[0m\n\u001b[0m\u001b[0;32m    746\u001b[0m         \u001b[0mself\u001b[0m\u001b[1;33m.\u001b[0m\u001b[0mminorTicks\u001b[0m\u001b[1;33m.\u001b[0m\u001b[0mextend\u001b[0m\u001b[1;33m(\u001b[0m\u001b[1;33m[\u001b[0m\u001b[0mself\u001b[0m\u001b[1;33m.\u001b[0m\u001b[0m_get_tick\u001b[0m\u001b[1;33m(\u001b[0m\u001b[0mmajor\u001b[0m\u001b[1;33m=\u001b[0m\u001b[0mFalse\u001b[0m\u001b[1;33m)\u001b[0m\u001b[1;33m]\u001b[0m\u001b[1;33m)\u001b[0m\u001b[1;33m\u001b[0m\u001b[0m\n\u001b[0;32m    747\u001b[0m         \u001b[0mself\u001b[0m\u001b[1;33m.\u001b[0m\u001b[0m_lastNumMajorTicks\u001b[0m \u001b[1;33m=\u001b[0m \u001b[1;36m1\u001b[0m\u001b[1;33m\u001b[0m\u001b[0m\n",
        "\u001b[1;32m/usr/lib64/python2.7/site-packages/matplotlib/axis.pyc\u001b[0m in \u001b[0;36m_get_tick\u001b[1;34m(self, major)\u001b[0m\n\u001b[0;32m   1564\u001b[0m         \u001b[1;32melse\u001b[0m\u001b[1;33m:\u001b[0m\u001b[1;33m\u001b[0m\u001b[0m\n\u001b[0;32m   1565\u001b[0m             \u001b[0mtick_kw\u001b[0m \u001b[1;33m=\u001b[0m \u001b[0mself\u001b[0m\u001b[1;33m.\u001b[0m\u001b[0m_minor_tick_kw\u001b[0m\u001b[1;33m\u001b[0m\u001b[0m\n\u001b[1;32m-> 1566\u001b[1;33m         \u001b[1;32mreturn\u001b[0m \u001b[0mXTick\u001b[0m\u001b[1;33m(\u001b[0m\u001b[0mself\u001b[0m\u001b[1;33m.\u001b[0m\u001b[0maxes\u001b[0m\u001b[1;33m,\u001b[0m \u001b[1;36m0\u001b[0m\u001b[1;33m,\u001b[0m \u001b[1;34m''\u001b[0m\u001b[1;33m,\u001b[0m \u001b[0mmajor\u001b[0m\u001b[1;33m=\u001b[0m\u001b[0mmajor\u001b[0m\u001b[1;33m,\u001b[0m \u001b[1;33m**\u001b[0m\u001b[0mtick_kw\u001b[0m\u001b[1;33m)\u001b[0m\u001b[1;33m\u001b[0m\u001b[0m\n\u001b[0m\u001b[0;32m   1567\u001b[0m \u001b[1;33m\u001b[0m\u001b[0m\n\u001b[0;32m   1568\u001b[0m     \u001b[1;32mdef\u001b[0m \u001b[0m_get_label\u001b[0m\u001b[1;33m(\u001b[0m\u001b[0mself\u001b[0m\u001b[1;33m)\u001b[0m\u001b[1;33m:\u001b[0m\u001b[1;33m\u001b[0m\u001b[0m\n",
        "\u001b[1;32m/usr/lib64/python2.7/site-packages/matplotlib/axis.pyc\u001b[0m in \u001b[0;36m__init__\u001b[1;34m(self, axes, loc, label, size, width, color, tickdir, pad, labelsize, labelcolor, zorder, gridOn, tick1On, tick2On, label1On, label2On, major)\u001b[0m\n\u001b[0;32m    137\u001b[0m         \u001b[0mself\u001b[0m\u001b[1;33m.\u001b[0m\u001b[0mapply_tickdir\u001b[0m\u001b[1;33m(\u001b[0m\u001b[0mtickdir\u001b[0m\u001b[1;33m)\u001b[0m\u001b[1;33m\u001b[0m\u001b[0m\n\u001b[0;32m    138\u001b[0m \u001b[1;33m\u001b[0m\u001b[0m\n\u001b[1;32m--> 139\u001b[1;33m         \u001b[0mself\u001b[0m\u001b[1;33m.\u001b[0m\u001b[0mtick1line\u001b[0m \u001b[1;33m=\u001b[0m \u001b[0mself\u001b[0m\u001b[1;33m.\u001b[0m\u001b[0m_get_tick1line\u001b[0m\u001b[1;33m(\u001b[0m\u001b[1;33m)\u001b[0m\u001b[1;33m\u001b[0m\u001b[0m\n\u001b[0m\u001b[0;32m    140\u001b[0m         \u001b[0mself\u001b[0m\u001b[1;33m.\u001b[0m\u001b[0mtick2line\u001b[0m \u001b[1;33m=\u001b[0m \u001b[0mself\u001b[0m\u001b[1;33m.\u001b[0m\u001b[0m_get_tick2line\u001b[0m\u001b[1;33m(\u001b[0m\u001b[1;33m)\u001b[0m\u001b[1;33m\u001b[0m\u001b[0m\n\u001b[0;32m    141\u001b[0m         \u001b[0mself\u001b[0m\u001b[1;33m.\u001b[0m\u001b[0mgridline\u001b[0m \u001b[1;33m=\u001b[0m \u001b[0mself\u001b[0m\u001b[1;33m.\u001b[0m\u001b[0m_get_gridline\u001b[0m\u001b[1;33m(\u001b[0m\u001b[1;33m)\u001b[0m\u001b[1;33m\u001b[0m\u001b[0m\n",
        "\u001b[1;32m/usr/lib64/python2.7/site-packages/matplotlib/axis.pyc\u001b[0m in \u001b[0;36m_get_tick1line\u001b[1;34m(self)\u001b[0m\n\u001b[0;32m    385\u001b[0m                    \u001b[0mzorder\u001b[0m\u001b[1;33m=\u001b[0m\u001b[0mself\u001b[0m\u001b[1;33m.\u001b[0m\u001b[0m_zorder\u001b[0m\u001b[1;33m,\u001b[0m\u001b[1;33m\u001b[0m\u001b[0m\n\u001b[0;32m    386\u001b[0m                    )\n\u001b[1;32m--> 387\u001b[1;33m         \u001b[0ml\u001b[0m\u001b[1;33m.\u001b[0m\u001b[0mset_transform\u001b[0m\u001b[1;33m(\u001b[0m\u001b[0mself\u001b[0m\u001b[1;33m.\u001b[0m\u001b[0maxes\u001b[0m\u001b[1;33m.\u001b[0m\u001b[0mget_xaxis_transform\u001b[0m\u001b[1;33m(\u001b[0m\u001b[0mwhich\u001b[0m\u001b[1;33m=\u001b[0m\u001b[1;34m'tick1'\u001b[0m\u001b[1;33m)\u001b[0m\u001b[1;33m)\u001b[0m\u001b[1;33m\u001b[0m\u001b[0m\n\u001b[0m\u001b[0;32m    388\u001b[0m         \u001b[0mself\u001b[0m\u001b[1;33m.\u001b[0m\u001b[0m_set_artist_props\u001b[0m\u001b[1;33m(\u001b[0m\u001b[0ml\u001b[0m\u001b[1;33m)\u001b[0m\u001b[1;33m\u001b[0m\u001b[0m\n\u001b[0;32m    389\u001b[0m         \u001b[1;32mreturn\u001b[0m \u001b[0ml\u001b[0m\u001b[1;33m\u001b[0m\u001b[0m\n",
        "\u001b[1;32m/usr/lib64/python2.7/site-packages/matplotlib/axes.pyc\u001b[0m in \u001b[0;36mget_xaxis_transform\u001b[1;34m(self, which)\u001b[0m\n\u001b[0;32m    599\u001b[0m         \u001b[1;32melif\u001b[0m \u001b[0mwhich\u001b[0m\u001b[1;33m==\u001b[0m\u001b[1;34m'tick1'\u001b[0m\u001b[1;33m:\u001b[0m\u001b[1;33m\u001b[0m\u001b[0m\n\u001b[0;32m    600\u001b[0m             \u001b[1;31m# for cartesian projection, this is bottom spine\u001b[0m\u001b[1;33m\u001b[0m\u001b[1;33m\u001b[0m\u001b[0m\n\u001b[1;32m--> 601\u001b[1;33m             \u001b[1;32mreturn\u001b[0m \u001b[0mself\u001b[0m\u001b[1;33m.\u001b[0m\u001b[0mspines\u001b[0m\u001b[1;33m[\u001b[0m\u001b[1;34m'bottom'\u001b[0m\u001b[1;33m]\u001b[0m\u001b[1;33m.\u001b[0m\u001b[0mget_spine_transform\u001b[0m\u001b[1;33m(\u001b[0m\u001b[1;33m)\u001b[0m\u001b[1;33m\u001b[0m\u001b[0m\n\u001b[0m\u001b[0;32m    602\u001b[0m         \u001b[1;32melif\u001b[0m \u001b[0mwhich\u001b[0m\u001b[1;33m==\u001b[0m\u001b[1;34m'tick2'\u001b[0m\u001b[1;33m:\u001b[0m\u001b[1;33m\u001b[0m\u001b[0m\n\u001b[0;32m    603\u001b[0m             \u001b[1;31m# for cartesian projection, this is top spine\u001b[0m\u001b[1;33m\u001b[0m\u001b[1;33m\u001b[0m\u001b[0m\n",
        "\u001b[1;32m/usr/lib64/python2.7/site-packages/matplotlib/spines.pyc\u001b[0m in \u001b[0;36mget_spine_transform\u001b[1;34m(self)\u001b[0m\n\u001b[0;32m    389\u001b[0m             \u001b[1;32mreturn\u001b[0m \u001b[0mresult\u001b[0m\u001b[1;33m\u001b[0m\u001b[0m\n\u001b[0;32m    390\u001b[0m \u001b[1;33m\u001b[0m\u001b[0m\n\u001b[1;32m--> 391\u001b[1;33m         \u001b[1;32mif\u001b[0m \u001b[0mself\u001b[0m\u001b[1;33m.\u001b[0m\u001b[0mspine_type\u001b[0m \u001b[1;32min\u001b[0m \u001b[1;33m[\u001b[0m\u001b[1;34m'left'\u001b[0m\u001b[1;33m,\u001b[0m\u001b[1;34m'right'\u001b[0m\u001b[1;33m]\u001b[0m\u001b[1;33m:\u001b[0m\u001b[1;33m\u001b[0m\u001b[0m\n\u001b[0m\u001b[0;32m    392\u001b[0m             \u001b[0mbase_transform\u001b[0m \u001b[1;33m=\u001b[0m \u001b[0mself\u001b[0m\u001b[1;33m.\u001b[0m\u001b[0maxes\u001b[0m\u001b[1;33m.\u001b[0m\u001b[0mget_yaxis_transform\u001b[0m\u001b[1;33m(\u001b[0m\u001b[0mwhich\u001b[0m\u001b[1;33m=\u001b[0m\u001b[1;34m'grid'\u001b[0m\u001b[1;33m)\u001b[0m\u001b[1;33m\u001b[0m\u001b[0m\n\u001b[0;32m    393\u001b[0m         \u001b[1;32melif\u001b[0m \u001b[0mself\u001b[0m\u001b[1;33m.\u001b[0m\u001b[0mspine_type\u001b[0m \u001b[1;32min\u001b[0m \u001b[1;33m[\u001b[0m\u001b[1;34m'top'\u001b[0m\u001b[1;33m,\u001b[0m\u001b[1;34m'bottom'\u001b[0m\u001b[1;33m]\u001b[0m\u001b[1;33m:\u001b[0m\u001b[1;33m\u001b[0m\u001b[0m\n",
        "\u001b[1;31mKeyboardInterrupt\u001b[0m: "
       ]
      },
      {
       "metadata": {},
       "output_type": "display_data",
       "png": "[encoded data removed]",
       "text": [
        "<matplotlib.figure.Figure at 0x52ad510>"
       ]
      },
      {
       "metadata": {},
       "output_type": "display_data",
       "png": "[encoded data removed]",
       "text": [
        "<matplotlib.figure.Figure at 0x4fa6f10>"
       ]
      },
      {
       "metadata": {},
       "output_type": "display_data",
       "png": "[encoded data removed]",
       "text": [
        "<matplotlib.figure.Figure at 0x4e56f50>"
       ]
      }
     ]
    },
    {
     "cell_type": "code",
     "collapsed": false,
     "input": [
      "l = []\n",
      "l.append([1,2,3]) \n",
      "l.append([3,3,6])\n",
      "print l\n",
      "\n",
      "la = np.array(l)\n",
      "print la"
     ],
     "language": "python",
     "metadata": {},
     "outputs": []
    },
    {
     "cell_type": "markdown",
     "metadata": {},
     "source": [
      "<blockquote>\n",
      "<p>Example of a <em>blockquote</em>. \n",
      "</p>\n",
      "</blockquote>"
     ]
    },
    {
     "cell_type": "markdown",
     "metadata": {},
     "source": [
      "Example $\\LaTeX$ code: $$e^{x-1}$$ "
     ]
    },
    {
     "cell_type": "markdown",
     "metadata": {},
     "source": [
      "Bla bla  $$ \\sum_{i=1}^{I} x_i $$ \n",
      "\n",
      "<ul>\n",
      "<li>apples</li>\n",
      "<li>oranges</li>\n",
      "<li>pears</li>\n",
      "</ul>\n",
      " \n"
     ]
    },
    {
     "cell_type": "code",
     "collapsed": false,
     "input": [
      "def normalizeZeroMean(X):\n",
      "    mu = np.array([ np.mean(d) for d in np.transpose(X) ])\n",
      "    #X = X - mean(X)\n",
      "    X = X - mu\n",
      "    return X\n",
      "\n",
      "\n",
      "\n",
      "np.set_printoptions(suppress=True)\n",
      "\n",
      "B = X.T\n",
      "\n",
      "#B =np.array([[4,2,.6],[4.2,2.1,.59],[3.9,2.0,.58],[4.3,2.1,.62],[4.1,2.2,.63]])\n",
      "#B=np.array([[ 1,2,4,5 ], [2,2,3,4 ] , [ 3,4,4,3 ], [4,2,4,4 ], [5,2,4,2]])\n",
      "\n",
      "#print B\n",
      "B = normalizeZeroMean(B)\n",
      "#print mean(B)  \n",
      "#print \"B (normalized):\\n%s\" % B\n",
      "\n",
      "covB = cov(B.T)\n",
      "#covB = normalizeZeroMean(covB)\n",
      "#print \"covB: %s\" % covB \n",
      "\n",
      "print mean(B[:,1])"
     ],
     "language": "python",
     "metadata": {},
     "outputs": []
    },
    {
     "cell_type": "code",
     "collapsed": false,
     "input": [
      "\n",
      "print \"=== the above is correct ===\"\n",
      "# see http://www.itl.nist.gov/div898/handbook/pmc/section5/pmc541.htm\n",
      "print \"=== now do eigen decomposition thing ===\"\n",
      "\n",
      "eigenvalues, eigenVectors = eigh(covB)\n",
      "#eigenvalues, eigenVectors = np.linalg.eig(covB)\n",
      "\n",
      "print \"eigenvalues: %s\" % eigenvalues\n",
      "print \"eigenVectors: %s\" % eigenVectors\n",
      "\n",
      "print \"=== should be equal: ===\"\n",
      "dEv = np.dot(np.dot(eigenVectors.T, covB), eigenVectors)\n",
      "print \"dEv:\\n%s\" % dEv\n",
      "\n",
      "dEv2 = np.diag(eigenvalues)\n",
      "print \"dEv2 (eigenvalue-diag-matrix):\\n%s\" % dEv2\n",
      "print \"======\"\n",
      "\n",
      "print \"sum(dEv - dEv2): %s\" % sum(dEv - dEv2)\n",
      "\n",
      "print \"== should be equal: ===\"\n",
      "print \"covB * eigenVectorMatrix:\\n%s\" %  (np.dot(covB, eigenVectors))\n",
      "\n",
      "print \"eigenvectorMatrix * eigenvalue-diag-matrix:\\n%s\" % (np.dot(eigenVectors , dEv2))\n",
      "\n",
      "print \"======\"\n",
      "\n",
      "\n",
      "#print \"eigenVectors.T:\\n%s\" % eigenVectors.T"
     ],
     "language": "python",
     "metadata": {},
     "outputs": []
    },
    {
     "cell_type": "code",
     "collapsed": false,
     "input": [
      "\n",
      "\n",
      "\"\"\"\n",
      "print B[0,:]\n",
      "y0 = dot(eigenVectors.T,B[0,:].T)\n",
      "y1 = dot(eigenVectors.T,B[1,:].T)\n",
      "y2 = dot(eigenVectors.T,B[2,:].T)\n",
      "y3 = dot(eigenVectors.T,B[3,:].T)\n",
      "y4 = dot(eigenVectors.T,B[4,:].T)\n",
      "print y0\n",
      "print y1\n",
      "print y2\n",
      "print y3\n",
      "print y4\n",
      "Y = np.array([y0,y1,y2,y3,y4])\n",
      "print Y\n",
      "\"\"\"\n",
      "# RULE:\n",
      "# stacking rows of Y2: X * (row of y).T ==> Y2\n",
      "# equals\n",
      "# X * Y.T ==> Y2\n",
      "Y = np.dot(eigenVectors.T, B.T)\n",
      "print \"Y:\\n%s\" % Y.T\n",
      "Y = Y.T\n",
      "\n",
      "yCov =  np.cov(Y.T)\n",
      "print \"yCov (should be equal to  dEv, dEv2, (eigenVectorMatrx.T * covB * eigenVectorMatrix) :\\n%s\" % yCov\n",
      "imshow(log(abs(yCov)), cmap='gray', interpolation='nearest')\n",
      "\n",
      "show()\n"
     ],
     "language": "python",
     "metadata": {},
     "outputs": []
    },
    {
     "cell_type": "code",
     "collapsed": false,
     "input": [
      "dEv3 = np.diag(1./sqrt(eigenvalues+0.0001))\n",
      "\n",
      "print \"dEv3:\\n%s\" % dEv3\n",
      "\n",
      "Y2 = np.dot(np.dot(dEv3,eigenVectors.T), B.T)\n",
      "print \"Y2:\\n%s\" % Y2.T\n",
      "#Y2 = Y2.T\n",
      "\n",
      "y2Cov =  np.cov(Y2)\n",
      "print \"y2Cov:\\n%s\" % y2Cov\n",
      "ax2 = imshow(log(abs(y2Cov)), cmap='gray', interpolation='nearest')\n",
      "\n",
      "show()\n"
     ],
     "language": "python",
     "metadata": {},
     "outputs": []
    },
    {
     "cell_type": "code",
     "collapsed": false,
     "input": [
      "print X.shape\n",
      "print Y2.shape\n",
      "\n",
      "Xwhitened = Y2\n",
      "\n",
      "np.zeros((5,5))"
     ],
     "language": "python",
     "metadata": {},
     "outputs": []
    },
    {
     "cell_type": "code",
     "collapsed": false,
     "input": [
      "# McKay approach w/o covariant\n",
      "\n",
      "\n",
      "def ICA_McKay_noCovariant(Xh, activation_function, learningRate, maxIterations):\n",
      "    \n",
      "    epsilon = 0.000000001 # stop criterion\n",
      "   \n",
      "    W =  random_nonsingular_matrix(num_sources)\n",
      "\n",
      "    deltaW = W*1000\n",
      "\n",
      "    iteration = 0\n",
      "    \n",
      "    Z = 0\n",
      "\n",
      "    while mean(abs(deltaW)) > epsilon and iteration < maxIterations:\n",
      "        #print \"mean(abs(deltaW)): %2.8f\" % mean(abs(deltaW))\n",
      "        \n",
      "        # multiply by column!\n",
      "        #\n",
      "        # [X * column1(W); X*column2(W)]\n",
      "        # equals\n",
      "        # X * W\n",
      "        A = np.dot(W,Xh)\n",
      "        \n",
      "        #print \"A dimensions: %d,%d\" % A.shape\n",
      "        \n",
      "        Z =  np.array(map(activation_function, A))\n",
      "        \n",
      "        #print \"Z dimensions: %d,%d\" % Z.shape\n",
      "\n",
      "        #Xprime = dot(W.T, A) # possibly wrong\n",
      "        \n",
      "        nrCols = X.shape[1]\n",
      "        \n",
      "        deltaW = np.zeros((num_sources,num_sources))\n",
      "        for i in range(0,nrCols):\n",
      "            \n",
      "            #print \"shape colums z %d %d\" % (np.array([Z[:,i]])).shape\n",
      "            #print \"shape colums z %d %d\" % np.array([Xprime[:,i]]).shape\n",
      "            \n",
      "            gradPerTime =  np.dot(np.array([Z[:,i]]).T, np.array([Xh[:,i]]))\n",
      "            #print \"gradPerTime %d:\\n%s\" % (i, gradPerTime )\n",
      "            deltaW += gradPerTime\n",
      "        \n",
      "        deltaW = deltaW + linalg.inv(W.T)\n",
      "        #print \"deltaW sum:\\n%s\" % deltaW\n",
      "        deltaW = deltaW / nrCols        \n",
      "        #print \"deltaW avg.:\\n%s\" % deltaW\n",
      "        \n",
      "        oldW = copy.deepcopy(W)\n",
      "        #print \"old W: \\n%s\" % oldW\n",
      "        W = W + (learningRate * ( deltaW))\n",
      "        #print \"new W: \\n%s\" % W\n",
      "        \n",
      "        #print \"old W:\\n%s\" % oldW\n",
      "        #print \"new W:\\n%s\" % W\n",
      "        #print \"diff:\\n%s\" % (oldW - W)\n",
      "        #print \"(learningRate * deltaW):\\n%s\" % (learningRate * deltaW)\n",
      "        \n",
      "        \n",
      "        \n",
      "        iteration += 1\n",
      "        if iteration % 100 == 0:\n",
      "            print \"iteration:%d\" % iteration\n",
      "            print \"mean(abs(deltaW)): %2.8f\" % mean(abs(deltaW))\n",
      "            #Sapprox = dot(W,X)  \n",
      "            #time.sleep(1)\n",
      "            #plot_signals(Sapprox)\n",
      "            #plt.pause(1)\n",
      "            #pyplot.draw()\n",
      "\n",
      "    Sapprox = dot(W,Xh)  \n",
      "    #print Z\n",
      "    return Sapprox\n",
      "    \n",
      "    \n",
      "\n",
      "\n"
     ],
     "language": "python",
     "metadata": {},
     "outputs": []
    },
    {
     "cell_type": "code",
     "collapsed": false,
     "input": [
      "# McKay approach with covariant\n",
      "\n",
      "\n",
      "import copy\n",
      "\n",
      "def ICA_McKay_covariant(X, activation_function, learningRate, maxIterations):\n",
      "    \n",
      "    epsilon = 0.000000001 # stop criterion\n",
      "\n",
      "    W =  random_nonsingular_matrix(num_sources)\n",
      "\n",
      "    deltaW = W*1000\n",
      "\n",
      "    iteration = 0\n",
      "    \n",
      "    Z = 0\n",
      "\n",
      "    while mean(abs(deltaW)) > epsilon and iteration < maxIterations:\n",
      "        \n",
      "        \n",
      "        #print \"mean(abs(deltaW)): %2.8f\" % mean(abs(deltaW))\n",
      "        \n",
      "        # multiply by column!\n",
      "        #\n",
      "        # [X * column1(W); X*column2(W)]\n",
      "        # equals\n",
      "        # X * W\n",
      "        A = np.dot(W,X)\n",
      "        \n",
      "        #print \"A dimensions: %d,%d\" % A.shape\n",
      "        \n",
      "        Z =  np.array(map(activation_function, A))\n",
      "        \n",
      "        #print \"Z dimensions: %d,%d\" % Z.shape\n",
      "\n",
      "        Xprime = dot(W.T, A) # possibly wrong\n",
      "        \n",
      "        nrCols = X.shape[1]\n",
      "        \n",
      "        #deltaW = np.zeros((num_sources,num_sources))\n",
      "        \n",
      "        average_dW = (X.shape[1]*W + dot(Z,Xprime.T)) / X.shape[1]\n",
      "       # for i in range(0,nrCols):\n",
      "            \n",
      "            #print \"shape colums z %d %d\" % (np.array([Z[:,i]])).shape\n",
      "            #print \"shape colums z %d %d\" % np.array([Xprime[:,i]]).shape\n",
      "            \n",
      "        #    gradPerTime =  np.dot(np.array([Z[:,i]]).T, np.array([Xprime[:,i]]))\n",
      "            #print \"gradPerTime %d:\\n%s\" % (i, gradPerTime )\n",
      "        #    deltaW += gradPerTime\n",
      "        \n",
      "        #print \"deltaW sum:\\n%s\" % deltaW\n",
      "        #deltaW = deltaW / nrCols        \n",
      "        #print \"deltaW avg.:\\n%s\" % deltaW\n",
      "        \n",
      "        oldW = copy.deepcopy(W)\n",
      "        #print \"old W: \\n%s\" % oldW\n",
      "        #W = W + (learningRate * deltaW)\n",
      "        W += learning_rate * average_dW\n",
      "        #print \"new W: \\n%s\" % W\n",
      "        \n",
      "        #print \"old W:\\n%s\" % oldW\n",
      "        #print \"new W:\\n%s\" % W\n",
      "        #print \"diff:\\n%s\" % (oldW - W)\n",
      "        #print \"(learningRate * deltaW):\\n%s\" % (learningRate * deltaW)\n",
      "        \n",
      "        deltaW = oldW - W\n",
      "        \n",
      "        \n",
      "        iteration += 1\n",
      "        if iteration % 1000 == 0:\n",
      "            print \"iteration:%d\" % iteration\n",
      "\n",
      "    Sapprox = dot(W,X)  \n",
      "    #print Z\n",
      "    return Sapprox\n",
      "    \n",
      "    "
     ],
     "language": "python",
     "metadata": {},
     "outputs": []
    },
    {
     "cell_type": "code",
     "collapsed": false,
     "input": [
      "def ICA_lecture_old(X, activation_function, learningRate, maxIterations):\n",
      "    epsilon = 0.00000001 # stop criterion\n",
      "\n",
      "    W =  random_nonsingular_matrix(num_sources)\n",
      "\n",
      "    deltaW = W*1000\n",
      "\n",
      "    iteration = 0\n",
      "    \n",
      "    Z = 0\n",
      "    \n",
      "    nrColsW = W.shape[1]\n",
      "    nrRowsW = W.shape[0]\n",
      "    \n",
      "    numDatapoints = X.shape[1]\n",
      "    \n",
      "    while mean(abs(deltaW)) > epsilon and iteration < maxIterations:\n",
      "        deltaW = zeros((nrRowsW, nrColsW))\n",
      "        for i in range(0, nrRowsW):\n",
      "            for j in range(0, nrColsW):\n",
      "                sumDatapoints = 0\n",
      "                for n in range(0, numDatapoints):\n",
      "                    sumDatapoints += activation_function(dot(W[i,:].T, X[:,n])) *  X[j,n]\n",
      "                \n",
      "                \n",
      "                avgDatapoints = (1/float(numDatapoints)) * (sumDatapoints)\n",
      "                deltaW[i,j] = avgDatapoints \n",
      "                \n",
      "                \n",
      "                WTinv = linalg.inv(W.T)\n",
      "                deltaW[i,j] += WTinv[i,j]\n",
      "                \n",
      "                \n",
      "                \n",
      "        W = W + (learningRate * deltaW * W) #dot(W.T, W) )\n",
      "        \n",
      "        iteration += 1\n",
      "        if iteration % 100 == 0:\n",
      "            print \"iteration:%d\" % iteration\n",
      "            print \"mean(abs(deltaW)): %2.8f\" % mean(abs(deltaW))\n",
      "            \n",
      "    return dot(W, X)\n",
      "\n"
     ],
     "language": "python",
     "metadata": {},
     "outputs": []
    },
    {
     "cell_type": "code",
     "collapsed": false,
     "input": [
      "def ICA_lecture(X, activation_function, learningRate, maxIterations):\n",
      "    epsilon = 0.0000001 # stop criterion\n",
      "\n",
      "    W =  random_nonsingular_matrix(num_sources)\n",
      "\n",
      "    deltaW = W*1000\n",
      "\n",
      "    iteration = 0\n",
      "    \n",
      "    Z = 0\n",
      "    \n",
      "    nrColsW = W.shape[1]\n",
      "    nrRowsW = W.shape[0]\n",
      "    \n",
      "    numDatapoints = X.shape[1]\n",
      "    \n",
      "    while mean(abs(deltaW)) > epsilon and iteration < maxIterations:\n",
      "        deltaW = zeros((nrRowsW, nrColsW))\n",
      "        \n",
      "        prodSum = zeros((num_sources, num_sources))\n",
      "        \n",
      "        for i in range(0, numDatapoints):\n",
      "            xColumn = np.array([X[:,i]]).T\n",
      "            \n",
      "            sApprox = dot(W,xColumn)\n",
      "            #print sApprox.shape\n",
      "            \n",
      "            sApproxAct = map(activation_function, sApprox)\n",
      "            \n",
      "            prod = dot(sApproxAct, sApprox.T)\n",
      "            \n",
      "            #print prod.shape\n",
      "            \n",
      "        \n",
      "            prodSum += prod\n",
      "        \n",
      "        prodSum = prodSum / float(numDatapoints)\n",
      "        \n",
      "        deltaW = dot( (identity(num_sources) + prodSum), W)\n",
      "        \n",
      "        #print deltaW.shape\n",
      "        \n",
      "        W = W + learningRate * deltaW\n",
      "        \n",
      "        \n",
      "            \n",
      "        iteration += 1\n",
      "        if iteration % 100 == 0:\n",
      "            print \"iteration:%d\" % iteration\n",
      "            print \"mean(abs(deltaW)): %2.8f\" % mean(abs(deltaW))\n",
      "            \n",
      "    return dot(W, X)\n"
     ],
     "language": "python",
     "metadata": {},
     "outputs": []
    },
    {
     "cell_type": "code",
     "collapsed": false,
     "input": [
      "def ICA_fast(X, activation_function, learningRate, maxIterations):\n",
      "    epsilon = 0.0000000 # stop criterion\n",
      "\n",
      "    W =  random_nonsingular_matrix(num_sources)\n",
      "\n",
      "    deltaW = W*1000\n",
      "\n",
      "    iteration = 0\n",
      "    \n",
      "    Z = 0\n",
      "    \n",
      "    nrColsW = W.shape[1]\n",
      "    nrRowsW = W.shape[0]\n",
      "    \n",
      "    numDatapoints = X.shape[1]\n",
      "    \n",
      "    W = W / sqrt(linalg.norm(dot(W,W.T)))\n",
      "    \n",
      "    while mean(abs(deltaW)) > epsilon and iteration < maxIterations:\n",
      "        \n",
      "        oldW = copy.deepcopy(W)\n",
      "        \n",
      "        W = W + learningRate * ( (3/float(2))*W - 0.5*dot(dot(W,W.T),W))\n",
      "        \n",
      "        deltaW = (W-oldW)*500\n",
      "        \n",
      "            \n",
      "        iteration += 1\n",
      "        if iteration % 10000 == 0:\n",
      "            print \"iteration:%d\" % iteration\n",
      "            print \"mean(abs(deltaW)): %2.8f\" % mean(abs(deltaW))\n",
      "            \n",
      "    return dot(W, X)"
     ],
     "language": "python",
     "metadata": {},
     "outputs": []
    },
    {
     "cell_type": "code",
     "collapsed": false,
     "input": [
      "#Sapprox = ICA_McKay_noCovariant(Xwhitened, actFunctions[1], 0.001, 3000)\n",
      "Sapprox = ICA_McKay_covariant(Xwhitened, actFunction[0], 0.09, 100)\n",
      "#Sapprox = ICA_lecture_old(Xwhitened,actFunctions[0], 0.0001, 1000)\n",
      "#Sapprox = ICA_lecture(Xwhitened,actFunctions[0], 0.000001, 1000)\n",
      "#Sapprox = ICA_fast(Xwhitened,actFunctions[0], 0.1, 300000)\n",
      "\n",
      "\n",
      "plot_signals(Sapprox)\n"
     ],
     "language": "python",
     "metadata": {},
     "outputs": []
    },
    {
     "cell_type": "code",
     "collapsed": false,
     "input": [],
     "language": "python",
     "metadata": {},
     "outputs": []
    },
    {
     "cell_type": "code",
     "collapsed": false,
     "input": [],
     "language": "python",
     "metadata": {},
     "outputs": []
    },
    {
     "cell_type": "code",
     "collapsed": false,
     "input": [],
     "language": "python",
     "metadata": {},
     "outputs": []
    },
    {
     "cell_type": "code",
     "collapsed": false,
     "input": [],
     "language": "python",
     "metadata": {},
     "outputs": []
    },
    {
     "cell_type": "code",
     "collapsed": false,
     "input": [],
     "language": "python",
     "metadata": {},
     "outputs": []
    },
    {
     "cell_type": "code",
     "collapsed": false,
     "input": [],
     "language": "python",
     "metadata": {},
     "outputs": []
    }
   ],
   "metadata": {}
  }
 ]
}