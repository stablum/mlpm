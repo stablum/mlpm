{
 "metadata": {
  "name": ""
 },
 "nbformat": 3,
 "nbformat_minor": 0,
 "worksheets": [
  {
   "cells": [
    {
     "cell_type": "markdown",
     "metadata": {},
     "source": [
      "<h1 id=\"heading-1\">Report</h1>"
     ]
    },
    {
     "cell_type": "markdown",
     "metadata": {},
     "source": [
      "<h2>Imported functions</h2>"
     ]
    },
    {
     "cell_type": "code",
     "collapsed": false,
     "input": [
      "#%pylab inline\n",
      "\n",
      "# Signal generators\n",
      "def sawtooth(x, period=0.2, amp=1.0, phase=0.):\n",
      "    return (((x / period - phase - 0.5) % 1) - 0.5) * 2 * amp\n",
      "\n",
      "def sine_wave(x, period=0.2, amp=1.0, phase=0.):\n",
      "    return np.sin((x / period - phase) * 2 * np.pi) * amp\n",
      "\n",
      "def square_wave(x, period=0.2, amp=1.0, phase=0.):\n",
      "    return ((np.floor(2 * x / period - 2 * phase - 1) % 2 == 0).astype(float) - 0.5) * 2 * amp\n",
      "\n",
      "def triangle_wave(x, period=0.2, amp=1.0, phase=0.):\n",
      "    return (sawtooth(x, period, 1., phase) * square_wave(x, period, 1., phase) + 0.5) * 2 * amp\n",
      "\n",
      "def random_nonsingular_matrix(d=2):\n",
      "    \"\"\"\n",
      "    Generates a random nonsingular (invertible) matrix of shape d*d\n",
      "    \"\"\"\n",
      "    epsilon = 0.1\n",
      "    A = np.random.rand(d, d)\n",
      "    while abs(np.linalg.det(A)) < epsilon:\n",
      "        A = np.random.rand(d, d)\n",
      "    return A\n",
      "\n",
      "def plot_signals(X, showAxes=False):\n",
      "    \"\"\"\n",
      "    Plot the signals contained in the rows of X.\n",
      "    \"\"\"\n",
      "    figure()\n",
      "    for i in range(X.shape[0]):\n",
      "        # see http://matplotlib.org/api/pyplot_api.html#matplotlib.pyplot.subplot\n",
      "        # subplot params: numrows, numcols, fignum where fignum ranges from 1 to numrows*numcols.\n",
      "        ax = plt.subplot(X.shape[0], 1, i + 1)\n",
      "        plot(X[i, :])\n",
      "        if not showAxes:\n",
      "            ax.set_xticks([])\n",
      "            ax.set_yticks([])"
     ],
     "language": "python",
     "metadata": {},
     "outputs": [
      {
       "output_type": "stream",
       "stream": "stdout",
       "text": [
        "Populating the interactive namespace from numpy and matplotlib\n"
       ]
      }
     ],
     "prompt_number": 2
    },
    {
     "cell_type": "code",
     "collapsed": false,
     "input": [
      "sine_wave(np.array([1,2,3]))\n"
     ],
     "language": "python",
     "metadata": {},
     "outputs": [
      {
       "metadata": {},
       "output_type": "pyout",
       "prompt_number": 3,
       "text": [
        "array([ -1.22464680e-15,  -2.44929360e-15,  -1.07793678e-14])"
       ]
      }
     ],
     "prompt_number": 3
    },
    {
     "cell_type": "code",
     "collapsed": false,
     "input": [
      "num_sources = 5\n",
      "signal_length = 500\n",
      "t = linspace(0, 1, signal_length)\n",
      "# np.c_ Translates slice objects to concatenation along the second axis.\n",
      "S = np.c_[sawtooth(t), sine_wave(t, 0.3), square_wave(t, 0.4), triangle_wave(t, 0.25), np.random.randn(t.size)].T\n"
     ],
     "language": "python",
     "metadata": {},
     "outputs": [],
     "prompt_number": 4
    },
    {
     "cell_type": "code",
     "collapsed": false,
     "input": [
      "print num_sources"
     ],
     "language": "python",
     "metadata": {},
     "outputs": [
      {
       "output_type": "stream",
       "stream": "stdout",
       "text": [
        "5\n"
       ]
      }
     ],
     "prompt_number": 5
    },
    {
     "cell_type": "code",
     "collapsed": false,
     "input": [
      "t2 = linspace(0,2,10)\n",
      "s1 = sawtooth(t2)\n",
      "s2 = sine_wave(t2, 0.3)\n",
      "S2 = np.array([s1, s2])\n",
      "print S2\n",
      "print \"\" \n",
      "print np.c_[s1,s2].T"
     ],
     "language": "python",
     "metadata": {},
     "outputs": [
      {
       "output_type": "stream",
       "stream": "stdout",
       "text": [
        "[[ 0.          0.22222222  0.44444444  0.66666667  0.88888889 -0.88888889\n",
        "  -0.66666667 -0.44444444 -0.22222222  0.        ]\n",
        " [ 0.         -0.99830816  0.11609291  0.98480775 -0.23061587 -0.95798951\n",
        "   0.34202014  0.91821611 -0.44879918 -0.8660254 ]]\n",
        "\n",
        "[[ 0.          0.22222222  0.44444444  0.66666667  0.88888889 -0.88888889\n",
        "  -0.66666667 -0.44444444 -0.22222222  0.        ]\n",
        " [ 0.         -0.99830816  0.11609291  0.98480775 -0.23061587 -0.95798951\n",
        "   0.34202014  0.91821611 -0.44879918 -0.8660254 ]]\n"
       ]
      }
     ],
     "prompt_number": 6
    },
    {
     "cell_type": "code",
     "collapsed": false,
     "input": [
      "print S"
     ],
     "language": "python",
     "metadata": {},
     "outputs": [
      {
       "output_type": "stream",
       "stream": "stdout",
       "text": [
        "[[ 0.          0.02004008  0.04008016 ..., -0.04008016 -0.02004008  0.        ]\n",
        " [ 0.          0.04195952  0.08384514 ...,  0.90489852  0.88624247\n",
        "   0.8660254 ]\n",
        " [-1.         -1.         -1.         ..., -1.         -1.          1.        ]\n",
        " [ 1.          0.96793587  0.93587174 ...,  0.93587174  0.96793587  1.        ]\n",
        " [ 0.77530968  0.51076544  1.8057238  ..., -1.44166916 -0.88350251\n",
        "   1.3333021 ]]\n"
       ]
      }
     ],
     "prompt_number": 7
    },
    {
     "cell_type": "code",
     "collapsed": false,
     "input": [
      "plot_signals(S2,showAxes=True)"
     ],
     "language": "python",
     "metadata": {},
     "outputs": [
      {
       "metadata": {},
       "output_type": "display_data",
       "png": "[encoded data removed]",
       "text": [
        "<matplotlib.figure.Figure at 0x3dcaf50>"
       ]
      }
     ],
     "prompt_number": 8
    },
    {
     "cell_type": "code",
     "collapsed": false,
     "input": [
      "plot_signals(S,showAxes=True)"
     ],
     "language": "python",
     "metadata": {},
     "outputs": [
      {
       "metadata": {},
       "output_type": "display_data",
       "png": "[encoded data removed]",
       "text": [
        "<matplotlib.figure.Figure at 0x3e82250>"
       ]
      }
     ],
     "prompt_number": 9
    },
    {
     "cell_type": "code",
     "collapsed": false,
     "input": [
      "print random_nonsingular_matrix(d=4)\n"
     ],
     "language": "python",
     "metadata": {},
     "outputs": [
      {
       "output_type": "stream",
       "stream": "stdout",
       "text": [
        "[[ 0.42689599  0.37026877  0.88765195  0.53407643]\n",
        " [ 0.61651134  0.60480394  0.19487056  0.46611628]\n",
        " [ 0.085112    0.75232159  0.74120902  0.12478794]\n",
        " [ 0.82936885  0.15100665  0.35761475  0.0688761 ]]\n"
       ]
      }
     ],
     "prompt_number": 14
    },
    {
     "cell_type": "code",
     "collapsed": false,
     "input": [
      "B =np.array([[1,2,3,4],[5,3,6,7]])\n",
      "print B\n",
      "print B.shape\n",
      "print B.T\n",
      "B = B.T\n",
      "A = np.array([[1,2,3],[4,5,6],[7,8,9],[10,11,12]]).T\n",
      "print \"A = %s \" % A\n",
      "print \"B = %s\" % B\n",
      "\n",
      "print \"A x B: %s\" % np.dot(A,B)"
     ],
     "language": "python",
     "metadata": {},
     "outputs": [
      {
       "output_type": "stream",
       "stream": "stdout",
       "text": [
        "[[1 2 3 4]\n",
        " [5 3 6 7]]\n",
        "(2, 4)\n",
        "[[1 5]\n",
        " [2 3]\n",
        " [3 6]\n",
        " [4 7]]\n",
        "A = [[ 1  4  7 10]\n",
        " [ 2  5  8 11]\n",
        " [ 3  6  9 12]] \n",
        "B = [[1 5]\n",
        " [2 3]\n",
        " [3 6]\n",
        " [4 7]]\n",
        "A x B: [[ 70 129]\n",
        " [ 80 150]\n",
        " [ 90 171]]\n"
       ]
      }
     ],
     "prompt_number": 11
    },
    {
     "cell_type": "code",
     "collapsed": false,
     "input": [
      "def make_mixtures(S, A):\n",
      "    X = np.dot(A,S)\n",
      "    return X\n",
      "\n",
      "\n",
      " \n",
      "\n",
      "Mnr = Snr = S.shape[0]\n",
      "Tnr = S.shape[1]\n",
      "\n",
      "A = random_nonsingular_matrix(Snr)\n",
      "\n",
      "X = make_mixtures(S,A)\n",
      "\n",
      "plot_signals( X)"
     ],
     "language": "python",
     "metadata": {},
     "outputs": [
      {
       "metadata": {},
       "output_type": "display_data",
       "png": "[encoded data removed]",
       "text": [
        "<matplotlib.figure.Figure at 0x3efd490>"
       ]
      }
     ],
     "prompt_number": 12
    },
    {
     "cell_type": "code",
     "collapsed": false,
     "input": [
      "# prints a histogram for each row of X\n",
      "def plot_histograms(X, nrBins=10,showAxes=False):\n",
      "    nrRows = X.shape[0]\n",
      "    nrColumns = X.shape[1]\n",
      "    if nrBins > nrColumns:\n",
      "        raise Exception(\"nr bins > nr columns of matrix X\")\n",
      "    figure()\n",
      "    for i in range(nrRows):\n",
      "        #print X[i,:]\n",
      "        hist, bin_edges = histogram(X[i,:],nrBins)\n",
      "        #print hist\n",
      "        #print bin_edges\n",
      "        lowest = bin_edges[:1][0]\n",
      "        highest =  bin_edges[-1:][0]\n",
      "        interval = (highest-lowest)/float(nrBins)\n",
      "        #print interval\n",
      "        ax = plt.subplot(nrRows, 1, i + 1)\n",
      "        bar(bin_edges[:-1],hist, width=interval)\n",
      "        if not showAxes:\n",
      "            ax.set_xticks([])\n",
      "            ax.set_yticks([])\n",
      "            \n",
      "print \"S:\"\n",
      "plot_histograms(S,nrBins=50,showAxes=False)\n",
      "\n",
      "print \"X:\"\n",
      "plot_histograms(X,nrBins=50,showAxes=False)\n"
     ],
     "language": "python",
     "metadata": {},
     "outputs": [
      {
       "output_type": "stream",
       "stream": "stdout",
       "text": [
        "S:\n",
        "X:"
       ]
      },
      {
       "output_type": "stream",
       "stream": "stdout",
       "text": [
        "\n"
       ]
      },
      {
       "metadata": {},
       "output_type": "display_data",
       "png": "[encoded data removed]",
       "text": [
        "<matplotlib.figure.Figure at 0x43fc090>"
       ]
      },
      {
       "metadata": {},
       "output_type": "display_data",
       "png": "[encoded data removed]",
       "text": [
        "<matplotlib.figure.Figure at 0x4878090>"
       ]
      }
     ],
     "prompt_number": 16
    },
    {
     "cell_type": "code",
     "collapsed": false,
     "input": [
      "act0 = lambda x : -tanh(x)\n",
      "sourceDistr0 = lambda x : math.exp ( - math.log( cosh(x)))\n",
      "\n",
      "act1 = lambda x : -x + tanh(x)\n",
      "sourceDistr1 = lambda x : math.exp(  -( math.pow(x,2) / float(2) ) + math.log(cosh(x)) )\n",
      "\n",
      "act2 = lambda x : (-1)*(math.pow(x,3))\n",
      "sourceDistr2 = lambda x : math.exp( -((math.pow(x,4))/float(4)))\n",
      "\n",
      "act3 = lambda x : -((6*x)/((math.pow(x,2))+5))\n",
      "sourceDistr3 = lambda x : float(1)/(math.pow(math.pow(x,2)+5,3))\n",
      "\n",
      "actFunctions = [act0, act1, act2, act3]\n",
      "sourceDistrFunctions = [sourceDistr0, sourceDistr1, sourceDistr2, sourceDistr3]\n",
      "\n",
      "actT = linspace(-4,4,500)\n",
      "#actM = [x for x in     \n",
      "\n",
      "actMl = []\n",
      "sourceDistrMl = []\n",
      "for i in range (0, len(actFunctions)):\n",
      "    actMl.append(map (actFunctions[i], actT))\n",
      "    sourceDistrMl.append(map (sourceDistrFunctions[i], actT))\n",
      "\n",
      "\n",
      "actM = np.array(actMl)\n",
      "sourceDistrM = np.array(sourceDistrMl)\n",
      "\n",
      "def plot_signals2(X1,X2, showAxes=False):\n",
      "    \"\"\"\n",
      "    Plot the signals contained in the rows of X.\n",
      "    \"\"\"\n",
      "    figure()\n",
      "    for i in range(X1.shape[0]):\n",
      "        # see http://matplotlib.org/api/pyplot_api.html#matplotlib.pyplot.subplot\n",
      "        # subplot params: numrows, numcols, fignum where fignum ranges from 1 to numrows*numcols.\n",
      "        ax = plt.subplot(X.shape[0], 1, i + 1)\n",
      "        plot(X1[i, :])\n",
      "        plot(X2[i,:])\n",
      "        if not showAxes:\n",
      "            ax.set_xticks([])\n",
      "            ax.set_yticks([])\n",
      "            \n",
      "plot_signals2(actM, sourceDistrM, showAxes=True)\n",
      "\n",
      "plot_signals(actM)\n",
      "\n",
      "plot_signals(sourceDistrM)"
     ],
     "language": "python",
     "metadata": {},
     "outputs": [
      {
       "metadata": {},
       "output_type": "display_data",
       "png": "[encoded data removed]",
       "text": [
        "<matplotlib.figure.Figure at 0x2f787d0>"
       ]
      },
      {
       "metadata": {},
       "output_type": "display_data",
       "png": "[encoded data removed]",
       "text": [
        "<matplotlib.figure.Figure at 0x2f78b10>"
       ]
      },
      {
       "metadata": {},
       "output_type": "display_data",
       "png": "[encoded data removed]",
       "text": [
        "<matplotlib.figure.Figure at 0x2f78290>"
       ]
      }
     ],
     "prompt_number": 50
    },
    {
     "cell_type": "code",
     "collapsed": false,
     "input": [
      "l = []\n",
      "l.append([1,2,3]) \n",
      "l.append([3,3,6])\n",
      "print l\n",
      "\n",
      "la = np.array(l)\n",
      "print la"
     ],
     "language": "python",
     "metadata": {},
     "outputs": [
      {
       "output_type": "stream",
       "stream": "stdout",
       "text": [
        "[[1, 2, 3], [3, 3, 6]]\n",
        "[[1 2 3]\n",
        " [3 3 6]]\n"
       ]
      }
     ],
     "prompt_number": 51
    },
    {
     "cell_type": "markdown",
     "metadata": {},
     "source": [
      "<blockquote>\n",
      "<p>Example of a <em>blockquote</em>. \n",
      "</p>\n",
      "</blockquote>"
     ]
    },
    {
     "cell_type": "markdown",
     "metadata": {},
     "source": [
      "Example $\\LaTeX$ code: $$e^{x-1}$$ "
     ]
    },
    {
     "cell_type": "markdown",
     "metadata": {},
     "source": [
      "Bla bla  $$ \\sum_{i=1}^{I} x_i $$ \n",
      "\n",
      "<ul>\n",
      "<li>apples</li>\n",
      "<li>oranges</li>\n",
      "<li>pears</li>\n",
      "</ul>\n",
      " \n"
     ]
    },
    {
     "cell_type": "code",
     "collapsed": false,
     "input": [
      "def normalizeZeroMean(X):\n",
      "    mu = np.array([ np.mean(d) for d in np.transpose(X) ])\n",
      "    #X = X - mean(X)\n",
      "    X = X - mu\n",
      "    return X\n",
      "\n",
      "np.set_printoptions(suppress=True)\n",
      "\n",
      "B = X\n",
      "#B =np.array([[4,2,.6],[4.2,2.1,.59],[3.9,2.0,.58],[4.3,2.1,.62],[4.1,2.2,.63]])#\n",
      "#B=np.array([[ 1,2,4,5 ], [2,2,3,4 ] , [ 3,4,4,3 ], [4,2,4,4 ], [5,2,4,2]])\n",
      "print B\n",
      "B = normalizeZeroMean(B)\n",
      "print mean(B)  \n",
      "print \"B (normalized):\\n%s\" % B\n",
      "\n",
      "covB = cov(B.T)\n",
      "#covB = normalizeZeroMean(covB)\n",
      "print \"covB: %s\" % covB \n",
      "\n",
      "print \"=== the above is correct ===\"\n",
      "# see http://www.itl.nist.gov/div898/handbook/pmc/section5/pmc541.htm\n",
      "print \"=== now do eigen decomposition thing ===\"\n",
      "\n",
      "eigenvalues, eigenVectors = eigh(covB)\n",
      "#eigenvalues, eigenVectors = np.linalg.eig(covB)\n",
      "\n",
      "print \"eigenvalues: %s\" % eigenvalues\n",
      "print \"eigenVectors: %s\" % eigenVectors\n",
      "\n",
      "print \"=== should be equal: ===\"\n",
      "dEv = np.dot(np.dot(eigenVectors.T, covB), eigenVectors)\n",
      "print \"dEv:\\n%s\" % dEv\n",
      "\n",
      "dEv2 = np.diag(eigenvalues)\n",
      "print \"dEv2 (eigenvalue-diag-matrix):\\n%s\" % dEv2\n",
      "print \"======\"\n",
      "\n",
      "print \"sum(dEv - dEv2): %s\" % sum(dEv - dEv2)\n",
      "\n",
      "print \"== should be equal: ===\"\n",
      "print \"covB * eigenVectorMatrix:\\n%s\" %  (np.dot(covB, eigenVectors))\n",
      "\n",
      "print \"eigenvectorMatrix * eigenvalue-diag-matrix:\\n%s\" % (np.dot(eigenVectors , dEv2))\n",
      "\n",
      "print \"======\"\n",
      "\n",
      "diff = sum(sum((np.dot(covB, eigenVectors))-(np.dot(eigenVectors , dEv2))))\n",
      "print \"diff: %s\" % diff\n",
      "\n",
      "print \"eigenVectors.T:\\n%s\" % eigenVectors.T\n",
      "\n",
      "#D = np.diag(1./sqrt(eigenvalues+0.0001))\n",
      "\"\"\"\n",
      "print B[0,:]\n",
      "y0 = dot(eigenVectors.T,B[0,:].T)\n",
      "y1 = dot(eigenVectors.T,B[1,:].T)\n",
      "y2 = dot(eigenVectors.T,B[2,:].T)\n",
      "y3 = dot(eigenVectors.T,B[3,:].T)\n",
      "y4 = dot(eigenVectors.T,B[4,:].T)\n",
      "print y0\n",
      "print y1\n",
      "print y2\n",
      "print y3\n",
      "print y4\n",
      "Y = np.array([y0,y1,y2,y3,y4])\n",
      "print Y\n",
      "\"\"\"\n",
      "# RULE:\n",
      "# stacking rows of Y2: X * (row of y).T ==> Y2\n",
      "# equals\n",
      "# X * Y.T ==> Y2\n",
      "Y2 = np.dot(eigenVectors.T, B.T)\n",
      "print \"Y2:\\n%s\" % Y2.T\n",
      "Y = Y2.T\n",
      "\n",
      "yCov =  np.cov(Y.T)\n",
      "print \"yCov (should be equal to  dEv, dEv2, (eigenVectorMatrx.T * covB * eigenVectorMatrix) :\\n%s\" % yCov\n",
      "ax = imshow(log(abs(yCov)-((0.1)*(10**-19))), cmap='gray', interpolation='nearest')"
     ],
     "language": "python",
     "metadata": {},
     "outputs": [
      {
       "output_type": "stream",
       "stream": "stdout",
       "text": [
        "[[ -1.63397633e-03  -2.15204747e-02   2.94949465e-01 ...,   9.01363908e-02\n",
        "    2.29508703e-01   1.82003054e+00]\n",
        " [ -4.11868113e-01  -4.69445886e-01  -1.13111796e-01 ...,  -8.95322973e-01\n",
        "   -7.38610756e-01   1.23243411e+00]\n",
        " [  4.83984140e-01   3.58459353e-01   9.72750014e-01 ...,  -4.79211045e-01\n",
        "   -1.88341694e-01   1.77734162e+00]\n",
        " [  2.41458970e-01   2.34018985e-01   3.47647382e-01 ...,   5.20877712e-01\n",
        "    5.99001840e-01   2.25394305e+00]\n",
        " [  1.31672226e+00   1.11773182e+00   2.15419994e+00 ...,   1.51726046e-01\n",
        "    6.14414508e-01   2.67133735e+00]]\n",
        "9.41469124882e-18\n",
        "B (normalized):\n",
        "[[-0.32736663 -0.26536923 -0.43633754 ...,  0.21249516  0.12631418\n",
        "  -0.13098679]\n",
        " [-0.73760077 -0.71329465 -0.8443988  ..., -0.7729642  -0.84180528\n",
        "  -0.71858322]\n",
        " [ 0.15825148  0.11461059  0.24146301 ..., -0.35685227 -0.29153621\n",
        "  -0.17367572]\n",
        " [-0.08427369 -0.00982977 -0.38363962 ...,  0.64323649  0.49580732\n",
        "   0.30292571]\n",
        " [ 0.9909896   0.87388306  1.42291294 ...,  0.27408482  0.51121999\n",
        "   0.72032002]]\n",
        "covB: [[ 0.41635745  0.37449361  0.56157652 ...,  0.16537751  0.24956483\n",
        "   0.3084312 ]\n",
        " [ 0.37449361  0.33902847  0.49825013 ...,  0.17181443  0.24384874\n",
        "   0.28847853]\n",
        " [ 0.56157652  0.49825013  0.78339119 ...,  0.15425791  0.28062968\n",
        "   0.38268184]\n",
        " ..., \n",
        " [ 0.16537751  0.17181443  0.15425791 ...,  0.31471176  0.31015021\n",
        "   0.24546582]\n",
        " [ 0.24956483  0.24384874  0.28062968 ...,  0.31015021  0.32918888\n",
        "   0.2893573 ]\n",
        " [ 0.3084312   0.28847853  0.38268184 ...,  0.24546582  0.2893573\n",
        "   0.29357689]]\n",
        "=== the above is correct ===\n",
        "=== now do eigen decomposition thing ===\n",
        "eigenvalues: [ -9.09976266e-14  -7.86270257e-14  -6.81989734e-14  -6.65404709e-14\n",
        "  -5.40767960e-14  -5.07802023e-14  -5.05686120e-14  -4.94479973e-14\n",
        "  -4.84596027e-14  -4.71472218e-14  -4.28485446e-14  -3.69247947e-14\n",
        "  -3.49162684e-14  -3.43371926e-14  -3.29062618e-14  -3.27892620e-14\n",
        "  -2.94752152e-14  -2.94693943e-14  -2.78540167e-14  -2.58433402e-14\n",
        "  -1.99592953e-14  -1.89781902e-14  -1.81165849e-14  -1.77137788e-14\n",
        "  -1.56220150e-14  -1.51879427e-14  -1.39812754e-14  -1.36722950e-14\n",
        "  -1.29321891e-14  -1.17576113e-14  -1.16150243e-14  -1.15412005e-14\n",
        "  -1.09886788e-14  -1.06889008e-14  -1.03523834e-14  -9.42976834e-15\n",
        "  -9.33949057e-15  -8.66956329e-15  -7.89031325e-15  -7.76167471e-15\n",
        "  -7.30242022e-15  -6.55277003e-15  -6.11284853e-15  -5.77161567e-15\n",
        "  -5.60185396e-15  -5.22266408e-15  -4.69210326e-15  -4.28238979e-15\n",
        "  -4.19447539e-15  -3.96750606e-15  -3.75137982e-15  -3.46440924e-15\n",
        "  -3.39438097e-15  -3.23634831e-15  -3.04492132e-15  -2.79832023e-15\n",
        "  -2.67011530e-15  -2.53549951e-15  -2.32540611e-15  -2.23532326e-15\n",
        "  -1.95077008e-15  -1.90627899e-15  -1.79729132e-15  -1.78395724e-15\n",
        "  -1.64042745e-15  -1.55600070e-15  -1.55401386e-15  -1.55253214e-15\n",
        "  -1.52212483e-15  -1.47520221e-15  -1.47138264e-15  -1.41382991e-15\n",
        "  -1.39456185e-15  -1.33208080e-15  -1.31786566e-15  -1.27076132e-15\n",
        "  -1.24477485e-15  -1.22358341e-15  -1.21785128e-15  -1.20539779e-15\n",
        "  -1.18704748e-15  -1.13897635e-15  -1.10126798e-15  -1.09519400e-15\n",
        "  -1.08845486e-15  -1.04441119e-15  -1.03189203e-15  -1.02474940e-15\n",
        "  -9.88317455e-16  -9.87172933e-16  -9.86245088e-16  -9.54369068e-16\n",
        "  -9.41476987e-16  -9.22988842e-16  -8.70859753e-16  -8.48023552e-16\n",
        "  -8.42938561e-16  -8.09197562e-16  -7.95523392e-16  -7.95436272e-16\n",
        "  -7.92200835e-16  -7.91801078e-16  -7.77192226e-16  -7.57747064e-16\n",
        "  -7.44487604e-16  -7.29332166e-16  -7.11902908e-16  -7.06159193e-16\n",
        "  -7.00154697e-16  -6.70235999e-16  -6.66881798e-16  -6.49257282e-16\n",
        "  -6.37028800e-16  -6.14470498e-16  -6.03481241e-16  -6.01001168e-16\n",
        "  -5.90680046e-16  -5.88285428e-16  -5.82089953e-16  -5.68323498e-16\n",
        "  -5.64189140e-16  -5.48091035e-16  -5.44624967e-16  -5.37035124e-16\n",
        "  -5.25099743e-16  -5.23650455e-16  -5.14393685e-16  -4.97222962e-16\n",
        "  -4.92621038e-16  -4.88054557e-16  -4.72928512e-16  -4.66845933e-16\n",
        "  -4.65267798e-16  -4.48202208e-16  -4.43836322e-16  -4.40366482e-16\n",
        "  -4.34400294e-16  -4.20819644e-16  -4.19227687e-16  -4.10998311e-16\n",
        "  -3.96157620e-16  -3.95435665e-16  -3.86453060e-16  -3.85303163e-16\n",
        "  -3.84989020e-16  -3.84629666e-16  -3.80743468e-16  -3.68681271e-16\n",
        "  -3.64116142e-16  -3.61838033e-16  -3.61245806e-16  -3.40600897e-16\n",
        "  -3.25219075e-16  -3.19390623e-16  -3.16214609e-16  -3.15161465e-16\n",
        "  -3.07455883e-16  -3.04826202e-16  -3.03278388e-16  -2.95806065e-16\n",
        "  -2.90876614e-16  -2.89688262e-16  -2.74333101e-16  -2.72890350e-16\n",
        "  -2.72152692e-16  -2.71009617e-16  -2.66488876e-16  -2.59591022e-16\n",
        "  -2.53791950e-16  -2.48648318e-16  -2.45731099e-16  -2.44149671e-16\n",
        "  -2.42741945e-16  -2.40992260e-16  -2.40980985e-16  -2.33729900e-16\n",
        "  -2.28295329e-16  -2.17729149e-16  -2.12059930e-16  -2.09753421e-16\n",
        "  -2.08417597e-16  -2.02403855e-16  -2.01373861e-16  -1.98148840e-16\n",
        "  -1.97746112e-16  -1.94778644e-16  -1.94428019e-16  -1.87135885e-16\n",
        "  -1.80999193e-16  -1.80971197e-16  -1.80936071e-16  -1.77522001e-16\n",
        "  -1.76337893e-16  -1.73515813e-16  -1.72435214e-16  -1.68961433e-16\n",
        "  -1.57085463e-16  -1.54743430e-16  -1.51065650e-16  -1.49502179e-16\n",
        "  -1.47684397e-16  -1.45259226e-16  -1.44959325e-16  -1.41184478e-16\n",
        "  -1.41151345e-16  -1.30785941e-16  -1.30700424e-16  -1.30611072e-16\n",
        "  -1.27110392e-16  -1.24767150e-16  -1.20227534e-16  -1.17214773e-16\n",
        "  -1.16993761e-16  -1.07612670e-16  -1.05476244e-16  -1.04744557e-16\n",
        "  -1.02954586e-16  -1.01183604e-16  -1.00184737e-16  -9.74293385e-17\n",
        "  -9.27644194e-17  -8.95076177e-17  -8.93013573e-17  -8.64742625e-17\n",
        "  -8.18910823e-17  -7.95657948e-17  -7.56416581e-17  -7.39676043e-17\n",
        "  -7.37231500e-17  -7.12825763e-17  -6.88322234e-17  -6.84895323e-17\n",
        "  -6.52272406e-17  -6.29456466e-17  -5.51555363e-17  -5.48095198e-17\n",
        "  -5.47446941e-17  -4.93072565e-17  -4.77202890e-17  -4.58288990e-17\n",
        "  -4.48403207e-17  -4.10842305e-17  -3.51123194e-17  -3.50799214e-17\n",
        "  -3.27939640e-17  -2.82818504e-17  -2.74392186e-17  -2.16763263e-17\n",
        "  -2.04868376e-17  -1.99605311e-17  -1.76249802e-17  -9.30952785e-18\n",
        "  -7.38824467e-18  -6.83942412e-18  -5.61363957e-18  -2.61437433e-18\n",
        "  -2.53238870e-18  -2.14477838e-18  -9.64852965e-19  -9.30605212e-19\n",
        "   1.37097493e-18   4.76690146e-18   4.91283705e-18   5.17873832e-18\n",
        "   5.25013965e-18   5.37113827e-18   6.03722945e-18   1.10200859e-17\n",
        "   1.13926560e-17   1.19562007e-17   1.28206841e-17   1.67329107e-17\n",
        "   1.91517814e-17   1.94133936e-17   2.00058033e-17   2.76940301e-17\n",
        "   2.85205841e-17   2.86424596e-17   3.00961149e-17   3.37295228e-17\n",
        "   4.03614099e-17   4.05242888e-17   4.21247975e-17   4.84007117e-17\n",
        "   4.87086934e-17   4.90427440e-17   5.41962331e-17   5.60525058e-17\n",
        "   5.81398531e-17   6.40279543e-17   6.55850031e-17   6.65622222e-17\n",
        "   6.96043758e-17   7.13265287e-17   7.24985642e-17   7.34473845e-17\n",
        "   7.34680417e-17   7.88963975e-17   8.07601780e-17   8.49509320e-17\n",
        "   9.03352911e-17   9.57644042e-17   9.72230320e-17   9.88242825e-17\n",
        "   9.91492350e-17   1.03021432e-16   1.04728221e-16   1.08188484e-16\n",
        "   1.08558118e-16   1.09982056e-16   1.13015537e-16   1.16968956e-16\n",
        "   1.23152595e-16   1.24283807e-16   1.27475543e-16   1.38290235e-16\n",
        "   1.38997953e-16   1.39666818e-16   1.40851125e-16   1.44670725e-16\n",
        "   1.46246052e-16   1.46702597e-16   1.47720697e-16   1.51004963e-16\n",
        "   1.56570507e-16   1.57947932e-16   1.59372723e-16   1.59647879e-16\n",
        "   1.63826109e-16   1.63954913e-16   1.72785982e-16   1.81481933e-16\n",
        "   1.83086401e-16   1.93238257e-16   1.95264707e-16   1.96994554e-16\n",
        "   1.99331501e-16   2.00076277e-16   2.05645805e-16   2.10989139e-16\n",
        "   2.20551655e-16   2.21636996e-16   2.28254988e-16   2.29625820e-16\n",
        "   2.34540508e-16   2.35903307e-16   2.38503822e-16   2.42997608e-16\n",
        "   2.46360441e-16   2.48500306e-16   2.52768959e-16   2.53041075e-16\n",
        "   2.57493789e-16   2.60603248e-16   2.72974079e-16   2.75765518e-16\n",
        "   2.86522988e-16   2.90094812e-16   3.00621013e-16   3.02028936e-16\n",
        "   3.04354133e-16   3.05669602e-16   3.09719258e-16   3.15367017e-16\n",
        "   3.41478437e-16   3.42685997e-16   3.44971387e-16   3.53731190e-16\n",
        "   3.55930693e-16   3.59290399e-16   3.61626455e-16   3.67504972e-16\n",
        "   3.73655815e-16   3.76228881e-16   3.76792358e-16   4.03110244e-16\n",
        "   4.03459205e-16   4.04578633e-16   4.06765288e-16   4.20677244e-16\n",
        "   4.47892956e-16   4.49219388e-16   4.51939452e-16   4.63048130e-16\n",
        "   4.64422935e-16   4.69138501e-16   4.69808879e-16   4.81172155e-16\n",
        "   5.04677377e-16   5.11035013e-16   5.36339331e-16   5.45214699e-16\n",
        "   5.47087777e-16   5.56664603e-16   5.59015826e-16   5.75346258e-16\n",
        "   5.78918152e-16   5.83455702e-16   6.01979059e-16   6.11747138e-16\n",
        "   6.27114460e-16   6.32295217e-16   6.66504504e-16   6.94490696e-16\n",
        "   7.00340693e-16   7.11191288e-16   7.13885733e-16   7.48203326e-16\n",
        "   7.49545646e-16   7.54613094e-16   7.62123482e-16   7.78287154e-16\n",
        "   8.12866762e-16   8.28472300e-16   8.48907876e-16   8.59142798e-16\n",
        "   8.89343951e-16   9.14347148e-16   9.43005925e-16   9.82542932e-16\n",
        "   9.92919769e-16   9.97242382e-16   1.03298207e-15   1.06514219e-15\n",
        "   1.07148882e-15   1.12371263e-15   1.13227337e-15   1.14050123e-15\n",
        "   1.22103504e-15   1.24491523e-15   1.26005674e-15   1.27748302e-15\n",
        "   1.35766356e-15   1.37624006e-15   1.38929522e-15   1.42574672e-15\n",
        "   1.43820402e-15   1.51947881e-15   1.56313597e-15   1.65755241e-15\n",
        "   1.67845991e-15   1.72911348e-15   1.81898505e-15   1.99380070e-15\n",
        "   2.29896723e-15   2.37810567e-15   2.38174996e-15   2.61451006e-15\n",
        "   2.78706737e-15   3.00530677e-15   3.14677666e-15   3.58586042e-15\n",
        "   4.20513307e-15   4.39606192e-15   4.49999744e-15   4.69557357e-15\n",
        "   5.45255978e-15   5.49774520e-15   5.79320714e-15   6.27255542e-15\n",
        "   6.33492724e-15   6.35058290e-15   6.67745745e-15   7.44597703e-15\n",
        "   7.86205809e-15   7.91133807e-15   8.09965472e-15   9.37068852e-15\n",
        "   1.03101992e-14   1.04503781e-14   1.20090468e-14   1.24808149e-14\n",
        "   1.27646886e-14   1.33938520e-14   1.50402156e-14   1.67160489e-14\n",
        "   1.71014439e-14   1.84382025e-14   1.87051667e-14   2.27727828e-14\n",
        "   2.50239124e-14   2.57701549e-14   2.75538032e-14   3.27234773e-14\n",
        "   3.64696437e-14   3.89726759e-14   4.12766586e-14   4.23886046e-14\n",
        "   4.36722595e-14   4.66501125e-14   5.17983281e-14   5.19003527e-14\n",
        "   5.46567245e-14   5.87460796e-14   6.50203452e-14   8.16243403e-14\n",
        "   2.72409718e+00   1.12833627e+01   2.28650831e+01   7.30037457e+01]"
       ]
      },
      {
       "output_type": "stream",
       "stream": "stdout",
       "text": [
        "\n",
        "eigenVectors: [[  4.90935619e-02   0.00000000e+00   0.00000000e+00 ...,   5.21879318e-02\n",
        "    5.54431375e-02  -6.56599409e-02]\n",
        " [ -8.32145415e-01   1.40283787e-02  -6.97642354e-02 ...,   4.98607608e-02\n",
        "    5.82403030e-02  -5.64753258e-02]\n",
        " [  1.44244272e-01  -1.26693995e-01  -2.57366809e-01 ...,   4.25979643e-02\n",
        "    5.28614094e-02  -9.77950071e-02]\n",
        " ..., \n",
        " [  6.06861460e-03  -3.90819509e-02  -2.83559679e-03 ...,   3.68369580e-02\n",
        "    1.14298410e-01   1.18278154e-04]\n",
        " [ -1.26506262e-02  -4.93639862e-03  -3.19429962e-04 ...,   3.71733392e-02\n",
        "    1.12604447e-01  -1.78281454e-02]\n",
        " [  2.58521642e-02  -2.28305979e-02  -1.61562256e-02 ...,   4.77305994e-02\n",
        "    8.57960193e-02  -3.61264676e-02]]\n",
        "=== should be equal: ===\n",
        "dEv:\n",
        "[[ -1.01494614e-16   1.83242679e-16  -2.54571587e-16 ...,  -1.15464524e-14\n",
        "   -1.63744057e-14   7.47377678e-14]\n",
        " [ -6.30786529e-18   9.53828790e-17  -8.76002126e-17 ...,  -1.28000371e-15\n",
        "   -3.33717617e-15  -1.08738855e-14]\n",
        " [  8.63896026e-17   2.01225069e-18  -7.34087120e-17 ...,   4.95680127e-15\n",
        "    1.03717504e-14  -1.20595799e-13]\n",
        " ..., \n",
        " [ -1.14422360e-14  -1.09461051e-15   5.05845366e-15 ...,   1.12833627e+01\n",
        "    7.13318293e-15   6.59541866e-15]\n",
        " [ -1.68684511e-14  -2.97678548e-15   1.04638520e-14 ...,   5.67601521e-15\n",
        "    2.28650831e+01  -3.85802501e-15]\n",
        " [  7.41767758e-14  -1.16226473e-14  -1.19480814e-13 ...,   3.71924713e-15\n",
        "   -2.13717932e-15   7.30037457e+01]]"
       ]
      },
      {
       "output_type": "stream",
       "stream": "stdout",
       "text": [
        "\n",
        "dEv2 (eigenvalue-diag-matrix):\n",
        "[[ -9.09976266e-14   0.00000000e+00   0.00000000e+00 ...,   0.00000000e+00\n",
        "    0.00000000e+00   0.00000000e+00]\n",
        " [  0.00000000e+00  -7.86270257e-14   0.00000000e+00 ...,   0.00000000e+00\n",
        "    0.00000000e+00   0.00000000e+00]\n",
        " [  0.00000000e+00   0.00000000e+00  -6.81989734e-14 ...,   0.00000000e+00\n",
        "    0.00000000e+00   0.00000000e+00]\n",
        " ..., \n",
        " [  0.00000000e+00   0.00000000e+00   0.00000000e+00 ...,   1.12833627e+01\n",
        "    0.00000000e+00   0.00000000e+00]\n",
        " [  0.00000000e+00   0.00000000e+00   0.00000000e+00 ...,   0.00000000e+00\n",
        "    2.28650831e+01   0.00000000e+00]\n",
        " [  0.00000000e+00   0.00000000e+00   0.00000000e+00 ...,   0.00000000e+00\n",
        "    0.00000000e+00   7.30037457e+01]]\n",
        "======\n",
        "sum(dEv - dEv2): 3.56822619036e-13\n",
        "== should be equal: ===\n",
        "covB * eigenVectorMatrix:\n",
        "[[ -6.41697253e-15   4.11912122e-16   8.78512757e-15 ...,   5.88855363e-01\n",
        "    1.26771195e+00  -4.79342163e+00]\n",
        " [ -5.61287399e-15   3.96580826e-16   7.57628958e-15 ...,   5.62597048e-01\n",
        "    1.33166937e+00  -4.12291032e+00]\n",
        " [ -8.71197103e-15   8.95689908e-16   1.26275299e-14 ...,   4.80648281e-01\n",
        "    1.20868052e+00  -7.13940183e+00]\n",
        " ..., \n",
        " [ -2.32279473e-15  -4.33680869e-16   1.33313499e-15 ...,   4.15644758e-01\n",
        "    2.61344265e+00   8.63474829e-03]\n",
        " [ -3.60649011e-15  -2.26381414e-16   3.49286572e-15 ...,   4.19440269e-01\n",
        "    2.57471004e+00  -1.30152139e+00]\n",
        " [ -4.72191730e-15   1.90819582e-17   5.41840878e-15 ...,   5.38561665e-01\n",
        "    1.96173311e+00  -2.63736746e+00]]"
       ]
      },
      {
       "output_type": "stream",
       "stream": "stdout",
       "text": [
        "\n",
        "eigenvectorMatrix * eigenvalue-diag-matrix:\n",
        "[[ -4.46739761e-15   0.00000000e+00   0.00000000e+00 ...,   5.88855363e-01\n",
        "    1.26771195e+00  -4.79342163e+00]\n",
        " [  7.57232578e-14  -1.10300969e-15   4.75784923e-15 ...,   5.62597048e-01\n",
        "    1.33166937e+00  -4.12291032e+00]\n",
        " [ -1.31258865e-14   9.96157197e-15   1.75521522e-14 ...,   4.80648281e-01\n",
        "    1.20868052e+00  -7.13940183e+00]\n",
        " ..., \n",
        " [ -5.52229526e-16   3.07289756e-15   1.93384790e-16 ...,   4.15644758e-01\n",
        "    2.61344265e+00   8.63474829e-03]\n",
        " [  1.15117696e-15   3.88134341e-16   2.17847955e-17 ...,   4.19440269e-01\n",
        "    2.57471004e+00  -1.30152139e+00]\n",
        " [ -2.35248558e-15   1.79510201e-15   1.10183800e-15 ...,   5.38561665e-01\n",
        "    1.96173311e+00  -2.63736746e+00]]"
       ]
      },
      {
       "output_type": "stream",
       "stream": "stdout",
       "text": [
        "\n",
        "======\n",
        "diff: -8.40902398892e-13"
       ]
      },
      {
       "output_type": "stream",
       "stream": "stdout",
       "text": [
        "\n",
        "eigenVectors.T:\n",
        "[[  4.90935619e-02  -8.32145415e-01   1.44244272e-01 ...,   6.06861460e-03\n",
        "   -1.26506262e-02   2.58521642e-02]\n",
        " [  0.00000000e+00   1.40283787e-02  -1.26693995e-01 ...,  -3.90819509e-02\n",
        "   -4.93639862e-03  -2.28305979e-02]\n",
        " [  0.00000000e+00  -6.97642354e-02  -2.57366809e-01 ...,  -2.83559679e-03\n",
        "   -3.19429962e-04  -1.61562256e-02]\n",
        " ..., \n",
        " [  5.21879318e-02   4.98607608e-02   4.25979643e-02 ...,   3.68369580e-02\n",
        "    3.71733392e-02   4.77305994e-02]\n",
        " [  5.54431375e-02   5.82403030e-02   5.28614094e-02 ...,   1.14298410e-01\n",
        "    1.12604447e-01   8.57960193e-02]\n",
        " [ -6.56599409e-02  -5.64753258e-02  -9.77950071e-02 ...,   1.18278154e-04\n",
        "   -1.78281454e-02  -3.61264676e-02]]\n",
        "Y2:\n",
        "[[  7.17655102e-15  -6.14525791e-16  -7.25764934e-15 ...,  -4.57757117e+00\n",
        "    3.49549011e+00   4.56971467e+00]\n",
        " [  1.00822128e-14   3.53883589e-16  -1.17492821e-14 ...,  -1.52954725e+00\n",
        "   -6.49283687e+00   4.17819751e+00]\n",
        " [ -2.35488712e-15   7.69349862e-16   5.71070968e-15 ...,   2.60874822e+00\n",
        "   -3.64360876e+00  -2.89697402e+00]\n",
        " [  6.48786580e-16  -1.88911387e-15  -9.76475845e-15 ...,   3.86045413e+00\n",
        "    4.25800665e+00   7.75549902e+00]\n",
        " [ -1.56194502e-14   1.89084859e-15   2.28584512e-14 ...,  -3.62083932e-01\n",
        "    2.38294886e+00  -1.36064372e+01]]\n",
        "yCov (should be equal to  dEv, dEv2, (eigenVectorMatrx.T * covB * eigenVectorMatrix) :\n",
        "[[  1.00771662e-28  -8.35170175e-30  -1.36841530e-28 ...,  -1.15638847e-14\n",
        "   -1.65635316e-14   7.48247613e-14]\n",
        " [ -8.35170175e-30   2.04668101e-30   1.65962388e-29 ...,  -9.24672339e-16\n",
        "   -2.69676276e-15  -1.09842830e-14]\n",
        " [ -1.36841530e-28   1.65962388e-29   2.10295602e-28 ...,   5.02955307e-15\n",
        "    1.07504132e-14  -1.21388160e-13]\n",
        " ..., \n",
        " [ -1.15638847e-14  -9.24672339e-16   5.02955307e-15 ...,   1.12833627e+01\n",
        "    1.88737914e-15  -1.77635684e-15]\n",
        " [ -1.65635316e-14  -2.69676276e-15   1.07504132e-14 ...,   1.88737914e-15\n",
        "    2.28650831e+01  -1.77635684e-14]\n",
        " [  7.48247613e-14  -1.09842830e-14  -1.21388160e-13 ...,  -1.77635684e-15\n",
        "   -1.77635684e-14   7.30037457e+01]]\n"
       ]
      },
      {
       "metadata": {},
       "output_type": "display_data",
       "png": "[encoded data removed]",
       "text": [
        "<matplotlib.figure.Figure at 0x3e55310>"
       ]
      }
     ],
     "prompt_number": 47
    },
    {
     "cell_type": "code",
     "collapsed": false,
     "input": [
      "print B\n",
      "B + B\n"
     ],
     "language": "python",
     "metadata": {},
     "outputs": [
      {
       "output_type": "stream",
       "stream": "stdout",
       "text": [
        "[[-2.875 -1.875 -0.875  0.125]\n",
        " [ 1.125 -0.875  2.125  3.125]]\n"
       ]
      },
      {
       "metadata": {},
       "output_type": "pyout",
       "prompt_number": 91,
       "text": [
        "array([[-5.75, -3.75, -1.75,  0.25],\n",
        "       [ 2.25, -1.75,  4.25,  6.25]])"
       ]
      }
     ],
     "prompt_number": 91
    },
    {
     "cell_type": "code",
     "collapsed": false,
     "input": [
      "np.dot(B.T,B)"
     ],
     "language": "python",
     "metadata": {},
     "outputs": [
      {
       "metadata": {},
       "output_type": "pyout",
       "prompt_number": 88,
       "text": [
        "array([[ 9.53125,  4.40625,  4.90625,  3.15625],\n",
        "       [ 4.40625,  4.28125, -0.21875, -2.96875],\n",
        "       [ 4.90625, -0.21875,  5.28125,  6.53125],\n",
        "       [ 3.15625, -2.96875,  6.53125,  9.78125]])"
       ]
      }
     ],
     "prompt_number": 88
    },
    {
     "cell_type": "code",
     "collapsed": false,
     "input": [],
     "language": "python",
     "metadata": {},
     "outputs": []
    }
   ],
   "metadata": {}
  }
 ]
}