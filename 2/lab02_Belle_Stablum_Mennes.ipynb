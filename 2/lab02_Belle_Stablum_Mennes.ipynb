{
 "metadata": {
  "name": ""
 },
 "nbformat": 3,
 "nbformat_minor": 0,
 "worksheets": [
  {
   "cells": [
    {
     "cell_type": "heading",
     "level": 1,
     "metadata": {},
     "source": [
      "Report ML:PM lab 2: Inference in Graphical Models\n"
     ]
    },
    {
     "cell_type": "heading",
     "level": 4,
     "metadata": {},
     "source": [
      "Agnes van Belle (10363130), Lydia Mennes (10333843), Francesco Stablum (6200982)\n"
     ]
    },
    {
     "cell_type": "heading",
     "level": 2,
     "metadata": {},
     "source": [
      "Part 1: The sum-product algorithm\n"
     ]
    },
    {
     "cell_type": "markdown",
     "metadata": {},
     "source": [
      "First we present the three main classes Node, Variable and Factor, which will be further discussed below."
     ]
    },
    {
     "cell_type": "code",
     "collapsed": false,
     "input": [
      "%pylab inline\n",
      "import operator\n",
      "\n",
      "\n",
      "class Node(object):\n",
      "    \"\"\"\n",
      "    Base-class for Nodes in a factor graph. Only instantiate sub-classes of Node.\n",
      "    \"\"\"\n",
      "    def __init__(self, name):\n",
      "        # A name for this Node, for printing purposes\n",
      "        self.name = name\n",
      "        \n",
      "        # Neighbours in the graph, identified with their index in this list.\n",
      "        # i.e. self.neighbours contains neighbour 0 through len(self.neighbours) - 1.\n",
      "        self.neighbours = []\n",
      "        \n",
      "        # Reset the node-state (not the graph topology)\n",
      "        self.reset()\n",
      "        \n",
      "        \n",
      "    def reset(self):\n",
      "        # Incoming messages; a dictionary mapping neighbours to messages.\n",
      "        # That is, it maps  Node -> np.ndarray.\n",
      "        self.in_msgs = {}\n",
      "        \n",
      "        # A set of NAMES OF neighbours for which this node has pending messages.\n",
      "        # We use a python set object so we don't have to worry about duplicates.\n",
      "        self.pending = set([])\n",
      "        \n",
      "\n",
      "    def add_neighbour(self, nb):\n",
      "        self.neighbours.append(nb)\n",
      "\n",
      "        \n",
      "    def send_sp_msg(self, other):\n",
      "        # To be implemented in subclass.\n",
      "        raise Exception('Method send_sp_msg not implemented in base-class Node')\n",
      "   \n",
      "        \n",
      "    def send_ms_msg(self, other):\n",
      "        # To be implemented in subclass.\n",
      "        raise Exception('Method send_ms_msg not implemented in base-class Node')\n",
      "    \n",
      "    \n",
      "    # Store the incoming message, replacing previous messages from the same node\n",
      "    # other = var\n",
      "    def receive_msg(self, other, msg):\n",
      "        self.in_msgs[other] = msg\n",
      "       \n",
      "        pendingNeighbourslist = []\n",
      "        for i in range (0, len(self.neighbours)):\n",
      "            neighbour = self.neighbours[i]\n",
      "            if neighbour.name != other.name:\n",
      "                pendingNeighbourslist.append(neighbour)        \n",
      "        \n",
      "        self.pending.update(pendingNeighbourslist)\n",
      "\n",
      "    \n",
      "    def __str__(self):\n",
      "        # This is printed when using 'print node_instance'\n",
      "        return self.name\n",
      "\n",
      "    \n",
      "    def __repr__(self):\n",
      "        return self.__str__()\n",
      "    \n",
      "    \n",
      "    def __hash__(self):\n",
      "        return hash(self.name)\n",
      "\n",
      "    \n",
      "    # assumption: unique names\n",
      "    def __eq__(self, other):\n",
      "        return (self.name) == (other.name)\n",
      "    \n",
      "    \n",
      "    # get messages for this node\n",
      "    # from neighboring nodes (except `other') \n",
      "    # and its own index in its own list of neighbours\n",
      "    def getMessagesFromOthersAndTargetIndex(self, other):\n",
      "        messagesFromOthers = []\n",
      "        varIndex = -1\n",
      "        for i in range (0, len(self.neighbours)):\n",
      "            neighbour = self.neighbours[i]\n",
      "            if neighbour.name == other.name:\n",
      "                varIndex = i # index of var we're sending to in neighbour list\n",
      "            else:\n",
      "                if neighbour in self.in_msgs:\n",
      "                    message = self.in_msgs[neighbour]\n",
      "                    messagesFromOthers.append(message) #put messages from others in list\n",
      "                \n",
      "        return (messagesFromOthers,varIndex)\n",
      "        "
     ],
     "language": "python",
     "metadata": {},
     "outputs": [],
     "prompt_number": 6
    },
    {
     "cell_type": "code",
     "collapsed": false,
     "input": [
      "class Variable(Node):\n",
      "    \n",
      "    def __init__(self, name, num_states):\n",
      "        \"\"\"\n",
      "        Variable node constructor.\n",
      "        Args:\n",
      "            name: a name string for this node. Used for printing. \n",
      "            num_states: the number of states this variable can take.\n",
      "            Allowable states run from 0 through (num_states - 1).\n",
      "            For example, for a binary variable num_states=2,\n",
      "            and the allowable states are 0, 1.\n",
      "        \"\"\"\n",
      "        self.num_states = num_states\n",
      "        \n",
      "        # Call the base-class constructor\n",
      "        super(Variable, self).__init__(name)\n",
      "    \n",
      "      \n",
      "    def set_observed(self, observed_state):\n",
      "        \"\"\"\n",
      "        Set this variable to an observed state.\n",
      "        Args:\n",
      "            observed_state: an integer value in [0, self.num_states - 1].\n",
      "        \"\"\"\n",
      "        # Observed state is represented as a 1-of-N variable\n",
      "        # Could be 0.0 for sum-product, but log(0.0) = -inf so a tiny value is preferable for max-sum\n",
      "        self.observed_state[:] = 0.000001\n",
      "        self.observed_state[observed_state] = 1.0\n",
      "        \n",
      "        \n",
      "    def set_latent(self):\n",
      "        \"\"\"\n",
      "        Erase an observed state for this variable and consider it latent again.\n",
      "        \"\"\"\n",
      "        # No state is preferred, so set all entries of observed_state to 1.0\n",
      "        # Using this representation we need not differentiate observed an latent\n",
      "        # variables when sending messages.\n",
      "        self.observed_state[:] = 1.0\n",
      "        \n",
      "        \n",
      "    def reset(self):\n",
      "        super(Variable, self).reset()\n",
      "        self.observed_state = np.ones(self.num_states)\n",
      "        \n",
      "        \n",
      "    def marginal(self, Z=None):\n",
      "        \"\"\"\n",
      "        Compute the marginal distribution of this Variable.\n",
      "        It is assumed that message passing has completed when this function is called.\n",
      "        Args:\n",
      "            Z: an optional normalization constant can be passed in. If None is passed, Z is computed.\n",
      "        Returns: Z. Either equal to the input Z, or computed (if Z=None was passed).\n",
      "        \"\"\"\n",
      "        p_tilde = np.multiply.reduce(self.in_msgs.values())\n",
      "        if Z is None:\n",
      "            Z = numpy.sum(p_tilde)\n",
      "        p = np.multiply(1/Z,p_tilde)\n",
      "        return p\n",
      "    \n",
      "    \n",
      "    # return MAP (Maximum a Posteriori) state and corresponding MAP value (in log space)\n",
      "    # found by running max-sum \n",
      "    def mapStateAndLogValue(self):\n",
      "       \n",
      "        if sum(self.observed_state) >= 2: # if not observed var\n",
      "            summ = np.add.reduce(self.in_msgs.values())\n",
      "            idx = np.argmax(summ)\n",
      "        else:\n",
      "            summ = [666]*self.num_states\n",
      "            idx = np.argmax(self.observed_state)\n",
      "            \n",
      "        return (idx, summ[idx]) \n",
      "    \n",
      "     \n",
      "    def send_sp_msg(self, other):\n",
      "        # get factor-->var messages for this var\n",
      "        # from neighboring factors (except `other')        \n",
      "        (messagesFromOthers, indexOfReceivingFactor) = self.getMessagesFromOthersAndTargetIndex(other)\n",
      "        messagesFromOthers.append(np.array([1,1]))\n",
      "          \n",
      "        if (indexOfReceivingFactor == -1):\n",
      "            raise Exception(\"Variable::send_sp_msg: other not found -- indexOfReceivingFactor = %d\" % indexOfReceivingFactor)\n",
      "        \n",
      "        productOfMessages =  reduce(np.multiply, messagesFromOthers)\n",
      "        productOfMessages = productOfMessages *  self.observed_state\n",
      "                \n",
      "        # remove pending message\n",
      "        self.pending.discard(other)        \n",
      "        other.receive_msg(self, productOfMessages)\n",
      "    \n",
      "    \n",
      "    def send_ms_msg(self, other):\n",
      "        # get factor-->var messages for this var\n",
      "        # from neighboring factors (except `other')\n",
      "        \n",
      "        (messagesFromOthers, indexOfReceivingFactor) = self.getMessagesFromOthersAndTargetIndex(other)        \n",
      "        messagesFromOthers.append(np.array([0,0])) # 0 because summation \n",
      "        \n",
      "        if (indexOfReceivingFactor == -1):\n",
      "            raise Exception(\"Variable::send_sp_msg: other not found -- indexOfReceivingFactor = %d\" % indexOfReceivingFactor)\n",
      "                        \n",
      "        sumOfMessages =  reduce(np.add, messagesFromOthers)\n",
      "        sumOfMessages = sumOfMessages + np.log( self.observed_state)\n",
      "        \n",
      "        # remove pending message\n",
      "        self.pending.discard(other)        \n",
      "        other.receive_msg(self, sumOfMessages)\n",
      "    "
     ],
     "language": "python",
     "metadata": {},
     "outputs": [],
     "prompt_number": 7
    },
    {
     "cell_type": "code",
     "collapsed": false,
     "input": [
      "class Factor(Node):\n",
      "    def __init__(self, name, f, neighbours):\n",
      "        \"\"\"\n",
      "        Factor node constructor.\n",
      "        Args:\n",
      "            name: a name string for this node. Used for printing\n",
      "            f: a numpy.ndarray with N axes, where N is the number of neighbours.\n",
      "               That is, the axes of f correspond to variables, and the index along that axes corresponds to a value of that variable.\n",
      "               Each axis of the array should have as many entries as the corresponding neighbour variable has states.\n",
      "            neighbours: a list of neighbouring Variables. Bi-directional connections are created.\n",
      "        \"\"\"\n",
      "        # Call the base-class constructor\n",
      "        super(Factor, self).__init__(name)\n",
      "\n",
      "        assert len(neighbours) == f.ndim, 'Factor function f should accept as many arguments as this Factor node has neighbours'\n",
      "        \n",
      "        for nb_ind in range(len(neighbours)):\n",
      "            nb = neighbours[nb_ind]\n",
      "            assert f.shape[nb_ind] == nb.num_states, 'The range of the factor function f is invalid for input %i %s' % (nb_ind, nb.name)\n",
      "            self.add_neighbour(nb)\n",
      "            nb.add_neighbour(self)\n",
      "\n",
      "        self.f = f\n",
      "        \n",
      "    \n",
      "    def repmatMatrix(self, other, matrix, varIndex):\n",
      "        # \"repmat\" the productMatrix to create an extra dimension \n",
      "        # to later be able to multiply it with the probability table (self.f)\n",
      "        nrVars = len(self.neighbours)\n",
      "        tileFactor = ones(nrVars)\n",
      "        tileFactor[0] = other.num_states\n",
      "        matrixTiled = np.tile(matrix,tileFactor)\n",
      "        \n",
      "        # because np.tile changes order of dimensions,\n",
      "        # transpose the productMatrix to get the correct order w.r.t.\n",
      "        # the probability table (self.f)\n",
      "        rangeReshape = range(1,nrVars)\n",
      "        rangeReshape = rangeReshape[0:varIndex] + [0] + rangeReshape[varIndex:nrVars]\n",
      "        matrixTiledTransposed = np.transpose(matrixTiled, rangeReshape)\n",
      "        \n",
      "        return matrixTiledTransposed\n",
      "    \n",
      "    \n",
      "    # assumption: other is a Variable object\n",
      "    def send_sp_msg(self, other):\n",
      "        # get var-->factor messages for this factor\n",
      "        # from neighboring vars (except `other')\n",
      "        (messagesFromOthers, varIndex) = self.getMessagesFromOthersAndTargetIndex(other)   \n",
      "\n",
      "        if varIndex == -1:\n",
      "            raise Exception(\"Factor::send_sp_msg: other not found -- varIndex = %d\" % varIndex)\n",
      "        \n",
      "        # produce a matrix containing all possible multiplications\n",
      "        # for all neighbouring message sover their states\n",
      "        # e.g. for two messages [0.2, 0.8] and [0.7, 0.3] one would get:\n",
      "        #  0.2*0.7, 0.2*0.3\n",
      "        #  0.8*0.7, 0.8*0.3\n",
      "        messagesFromOthers2 = np.ix_(*messagesFromOthers)\n",
      "        productMatrix = np.multiply.reduce(messagesFromOthers2)   \n",
      "        \n",
      "        productMatrixTiledTransposed = self.repmatMatrix(other, productMatrix,varIndex)\n",
      "        \n",
      "        # multiply the product Matrix with the probability table\n",
      "        # for all vars (self.f)\n",
      "        multiplied  = productMatrixTiledTransposed * self.f\n",
      "\n",
      "        # sum over the other variables except the one we are sending\n",
      "        # to (`other')\n",
      "        nrVars = len(self.neighbours)\n",
      "        for i in range(nrVars-1,-1,-1):\n",
      "            if not i == varIndex:\n",
      "                multiplied = np.add.reduce(multiplied,i)\n",
      "        \n",
      "        # remove pending message\n",
      "        self.pending.discard(other)\n",
      "        \n",
      "        other.receive_msg(self, multiplied)\n",
      "    \n",
      "    \n",
      "    def send_ms_msg(self, other):\n",
      "        # get var-->factor messages for this factor\n",
      "        # from neighboring vars (except `other')\n",
      "        (messagesFromOthers, varIndex) = self.getMessagesFromOthersAndTargetIndex(other)   \n",
      "            \n",
      "        if varIndex == -1:\n",
      "            raise Exception(\"Factor::send_sp_msg: other not found -- varIndex = %d\" % varIndex)\n",
      "        \n",
      "        # produce a matrix containing all possible multiplications\n",
      "        # for all neighbouring message sover their states\n",
      "        # e.g. for two messages [0.2, 0.8] and [0.7, 0.3] one would get:\n",
      "        #  0.2*0.7, 0.2*0.3\n",
      "        #  0.8*0.7, 0.8*0.3\n",
      "        messagesFromOthers2 = np.ix_(*messagesFromOthers)\n",
      "        productMatrix = np.add.reduce(messagesFromOthers2)\n",
      "   \n",
      "        productMatrixTiledTransposed = self.repmatMatrix(other, productMatrix,varIndex)\n",
      "        \n",
      "        # sum the product Matrix with the probability table\n",
      "        # for all vars (self.f)\n",
      "        added = productMatrixTiledTransposed + np.log(self.f)\n",
      "\n",
      "        # take the max over the other variables except the one we are sending\n",
      "        # to (`other')\n",
      "        nrVars = len(self.neighbours)\n",
      "        for i in range(nrVars-1,-1,-1):\n",
      "            if not i == varIndex:\n",
      "                added = np.maximum.reduce(added,i)\n",
      "             \n",
      "        # remove pending message\n",
      "        self.pending.discard(other)\n",
      "        \n",
      "        other.receive_msg(self, added)\n",
      "\n",
      "\n",
      "    def __str__(self):\n",
      "        return \"name:\\n\\t%s \\nneighbours:\\n\\t%s\\nprobs:\\n%s\" % (self.name, self.neighbours, self.f)\n",
      "    \n",
      "    \n",
      "    def __repr__(self):\n",
      "        return self.__str__()"
     ],
     "language": "python",
     "metadata": {},
     "outputs": [],
     "prompt_number": 8
    },
    {
     "cell_type": "heading",
     "level": 3,
     "metadata": {},
     "source": [
      "1.1 Instantiate network"
     ]
    },
    {
     "cell_type": "code",
     "collapsed": false,
     "input": [
      "from IPython.core.display import Image \n",
      "Image(filename='bn.png') "
     ],
     "language": "python",
     "metadata": {},
     "outputs": [
      {
       "metadata": {},
       "output_type": "pyout",
       "png": "[encoded data removed]",
       "prompt_number": 48,
       "text": [
        "<IPython.core.display.Image at 0x3808150>"
       ]
      }
     ],
     "prompt_number": 48
    },
    {
     "cell_type": "markdown",
     "metadata": {},
     "source": [
      "We convert the directed graphical model (\"Bayesian Network\") shown above to a factor graph. We instantiate this graph by creating Variable and Factor instances and linking them according to the graph structure. \n",
      "To instantiate the factor graph, we first create the Variable nodes and then create Factor nodes, passing a list of neighbour Variables to each Factor.\n",
      "We use the following prior and conditional probabilities.\n",
      "\n"
     ]
    },
    {
     "cell_type": "markdown",
     "metadata": {},
     "source": [
      "$$\n",
      "p(\\verb+Influenza+) = 0.05 \\\\\\\\\n",
      "p(\\verb+Smokes+) = 0.2 \\\\\\\\\n",
      "$$\n",
      "\n",
      "$$\n",
      "p(\\verb+SoreThroat+ = 1 | \\verb+Influenza+ = 1) = 0.3 \\\\\\\\\n",
      "p(\\verb+SoreThroat+ = 1 | \\verb+Influenza+ = 0) = 0.001 \\\\\\\\\n",
      "p(\\verb+Fever+ = 1| \\verb+Influenza+ = 1) = 0.9 \\\\\\\\\n",
      "p(\\verb+Fever+ = 1| \\verb+Influenza+ = 0) 0.05 \\\\\\\\\n",
      "p(\\verb+Bronchitis+ = 1 | \\verb+Influenza+ = 1, \\verb+Smokes+ = 1) = 0.99 \\\\\\\\\n",
      "p(\\verb+Bronchitis+ = 1 | \\verb+Influenza+ = 1, \\verb+Smokes+ = 0) = 0.9 \\\\\\\\\n",
      "p(\\verb+Bronchitis+ = 1 | \\verb+Influenza+ = 0, \\verb+Smokes+ = 1) = 0.7 \\\\\\\\\n",
      "p(\\verb+Bronchitis+ = 1 | \\verb+Influenza+ = 0, \\verb+Smokes+ = 0) = 0.0001 \\\\\\\\\n",
      "p(\\verb+Coughing+ = 1| \\verb+Bronchitis+ = 1) = 0.8 \\\\\\\\\n",
      "p(\\verb+Coughing+ = 1| \\verb+Bronchitis+ = 0) = 0.07 \\\\\\\\\n",
      "p(\\verb+Wheezing+ = 1| \\verb+Bronchitis+ = 1) = 0.6 \\\\\\\\\n",
      "p(\\verb+Wheezing+ = 1| \\verb+Bronchitis+ = 0) = 0.001 \\\\\\\\\n",
      "$$"
     ]
    },
    {
     "cell_type": "markdown",
     "metadata": {},
     "source": [
      "The code below initializes the Factor and Variable nodes and connects them."
     ]
    },
    {
     "cell_type": "code",
     "collapsed": false,
     "input": [
      "nrStates = 2\n",
      "\n",
      "I = Variable(\"Influenza\",nrStates)\n",
      "S = Variable (\"Smokes\",nrStates)\n",
      "ST = Variable(\"SoreThroat\",nrStates)\n",
      "F = Variable(\"Fever\",nrStates)\n",
      "B = Variable(\"Bronchitis\",nrStates)\n",
      "C = Variable(\"Coughing\",nrStates)\n",
      "W = Variable(\"Wheezing\", nrStates)\n",
      "\n",
      "f1Probs = asanyarray([0.95,0.05],dtype=float)\n",
      "\n",
      "f2Probs = asanyarray([.8, .2],dtype=float)\n",
      "\n",
      "f3Probs = asanyarray([ [.999, .001],[.7, .3] ] , dtype=float) # I ST\n",
      "\n",
      "f4Probs = asanyarray( [ [ .95, .05], [ 0.1, 0.9] ] , dtype=float) # I F\n",
      "\n",
      "f5Probs = asanyarray ([ [[ .9999, 0.1], [0.3, 0.01] ] , [ [0.0001, 0.9], [0.7, 0.99] ]], dtype=float) # B, S, I; \n",
      "\n",
      "f6Probs = asanyarray( [ [.93, 0.2], [.07, 0.8] ] , dtype=float) # C, B\n",
      "\n",
      "f7Probs = asanyarray ( [ [.999, 0.4], [.001, 0.6] ] , dtype=float) # W, B\n",
      "\n",
      "\n",
      "f1 = Factor(\"f1\",f1Probs,[I])\n",
      "f2 = Factor(\"f2\", f2Probs, [S])\n",
      "f3 = Factor(\"f3\", f3Probs, [I, ST] )\n",
      "f4 = Factor (\"f4\", f4Probs, [I, F])\n",
      "f5 = Factor(\"f5\", f5Probs, [B,S,I])\n",
      "f6 = Factor(\"f6\", f6Probs, [C,B])\n",
      "f7 = Factor(\"f7\", f7Probs, [W, B])\n",
      "\n",
      "factorList = [f1, f2, f3, f4, f5, f6, f7]\n",
      "varList = [I, S, ST, F, B, C, W] \n",
      "\n",
      "nodeList = (factorList + varList)"
     ],
     "language": "python",
     "metadata": {},
     "outputs": [],
     "prompt_number": 10
    },
    {
     "cell_type": "markdown",
     "metadata": {},
     "source": [
      "Plot the resulting factor graph:"
     ]
    },
    {
     "cell_type": "code",
     "collapsed": false,
     "input": [
      "import networkx as nx\n",
      "import matplotlib.pyplot as plt\n",
      "import matplotlib as mpl\n",
      "\n",
      "figsize(15,11)\n",
      "#import pygraphviz as pgv\n",
      "\n",
      "G = nx.MultiGraph()\n",
      "\n",
      "nodelist_variables = list(set([item.name for sublist in [ f.neighbours for f in factorList] for item in sublist]))\n",
      "nodelist_factors = [f.name for f in factorList]\n",
      "\n",
      "for v in nodelist_variables + nodelist_factors:\n",
      "    G.add_node(v)\n",
      "\n",
      "for factor in factorList:\n",
      "    for n in factor.neighbours:\n",
      "        G.add_edge(factor.name, n.name)\n",
      "\n",
      "ax = plt.gca()\n",
      "pos = nx.spring_layout(G,scale=2000)\n",
      "nx.draw_networkx_nodes(G,pos,ax=ax,node_size=800,node_shape='s',nodelist=nodelist_factors, node_color='red',edgecolor='green')\n",
      "nx.draw_networkx_nodes(G,pos,ax=ax,node_size=6000,node_shape='o',nodelist=nodelist_variables, node_color='white')\n",
      "nx.draw_networkx_edges(G,pos,ax=ax,node_size=2000,node_shape='s',width=4,edge_color='red')\n",
      "nx.draw_networkx_labels(G,pos,ax=ax)\n",
      "\n",
      "plt.axis('off')\n",
      "plt.show()\n"
     ],
     "language": "python",
     "metadata": {},
     "outputs": [
      {
       "metadata": {},
       "output_type": "display_data",
       "png": "[encoded data removed]",
       "text": [
        "<matplotlib.figure.Figure at 0x3805cd0>"
       ]
      }
     ],
     "prompt_number": 50
    },
    {
     "cell_type": "markdown",
     "metadata": {},
     "source": [
      "Some utility functions:  "
     ]
    },
    {
     "cell_type": "code",
     "collapsed": false,
     "input": [
      "# Resets all network nodes: Removes all messages,\n",
      "# pending messages,\n",
      "# and sets all variables to unobserved\n",
      "def reset_network():\n",
      "    for n in nodeList:\n",
      "        n.reset()\n",
      "        \n",
      "# Get the leaf (fringe) nodes given all nodes and a root node\n",
      "def getFringeNodes(allNodes, rootNode=None):\n",
      "    fringeNodes = []\n",
      "    for n in allNodes:        \n",
      "        if len(n.neighbours) == 1 and not n == rootNode:\n",
      "            fringeNodes.append(n)\n",
      "    return fringeNodes\n",
      "\n"
     ],
     "language": "python",
     "metadata": {},
     "outputs": [],
     "prompt_number": 12
    },
    {
     "cell_type": "heading",
     "level": 3,
     "metadata": {},
     "source": [
      "1.2 Factor to variable messages\n"
     ]
    },
    {
     "cell_type": "markdown",
     "metadata": {},
     "source": [
      "Write a method `send_sp_msg(self, other)` for the Factor class, that checks if all the information required to pass a message to Variable `other` is present, computes the message and sends it to `other`. \"Sending\" here simply means calling the `receive_msg` function of the receiving node (we will implement this later). The message itself should be represented as a numpy array (np.array) whose length is equal to the number of states of the variable.\n",
      "\n",
      "An elegant and efficient solution can be obtained using the n-way outer product of vectors. This product takes n vectors $\\mathbf{x}^{(1)}, \\ldots, \\mathbf{x}^{(n)}$ and computes a $n$-dimensional tensor (ndarray) whose element $i_0,i_1,...,i_n$ is given by $\\prod_j \\mathbf{x}^{(j)}_{i_j}$. In python, this is realized as `np.multiply.reduce(np.ix_(*vectors))` for a python list `vectors` of 1D numpy arrays. "
     ]
    },
    {
     "cell_type": "markdown",
     "metadata": {},
     "source": [
      "We implemented the factor to variable message procedure in the method `send_sp_msg(self, other)` in the Factor class as defined above. We use the efficient and elegant method as describe din the assignment, which uses the n-way outer product. We explain our procedure in more detail below."
     ]
    },
    {
     "cell_type": "markdown",
     "metadata": {},
     "source": [
      "First define the  probabilities. Each vector cna be seen as a message where the first number  in the vector is the probability of the first state of the corresponding variable."
     ]
    },
    {
     "cell_type": "code",
     "collapsed": false,
     "input": [
      "vector1 = np.array([0.2,0.8]) \n",
      "vector2 = np.array([0.7,0.3]) "
     ],
     "language": "python",
     "metadata": {},
     "outputs": [],
     "prompt_number": 13
    },
    {
     "cell_type": "markdown",
     "metadata": {},
     "source": [
      "Get the product for each combination of values in the incoming messages, in a matrix."
     ]
    },
    {
     "cell_type": "code",
     "collapsed": false,
     "input": [
      "vectors2 = np.ix_(vector1, vector2)\n",
      "\n",
      "r = np.multiply.reduce(vectors2)\n",
      "# 0.2*0.7, 0.2*0.3\n",
      "# 0.8*0.7, 0.8*0.3\n",
      "\n",
      "print \"result:\\n%s\" % r"
     ],
     "language": "python",
     "metadata": {},
     "outputs": [
      {
       "output_type": "stream",
       "stream": "stdout",
       "text": [
        "result:\n",
        "[[ 0.14  0.06]\n",
        " [ 0.56  0.24]]\n"
       ]
      }
     ],
     "prompt_number": 14
    },
    {
     "cell_type": "markdown",
     "metadata": {},
     "source": [
      "For each value of the variable we will send this message to, we need a copy of the previous result (matrix containing all product combinations of all incoming messages). We use `np.tile` to add one dimension. However, with this function, this can only be accomplished for a new first dimension."
     ]
    },
    {
     "cell_type": "code",
     "collapsed": false,
     "input": [
      "nrDims = len(vectors2)+1\n",
      "tileFactor = ones(nrDims)\n",
      "tileFactor[0] = 2\n",
      "\n",
      "print \"tileFactor:\\n%s\\n\" % tileFactor \n",
      "\n",
      "r = np.tile(r,tileFactor)\n",
      "\n",
      "print \"result:\\n%s\" % r"
     ],
     "language": "python",
     "metadata": {},
     "outputs": [
      {
       "output_type": "stream",
       "stream": "stdout",
       "text": [
        "tileFactor:\n",
        "[ 2.  1.  1.]\n",
        "\n",
        "result:\n",
        "[[[ 0.14  0.06]\n",
        "  [ 0.56  0.24]]\n",
        "\n",
        " [[ 0.14  0.06]\n",
        "  [ 0.56  0.24]]]\n"
       ]
      }
     ],
     "prompt_number": 15
    },
    {
     "cell_type": "markdown",
     "metadata": {},
     "source": [
      "In order to be able to multiply the matrix directly with the factor probability matrix (`self.f` in a Factor node) , we need to rearrange the dimensions of the previously defined product matrix such that these match.  "
     ]
    },
    {
     "cell_type": "code",
     "collapsed": false,
     "input": [
      "# index of variable that the message will be sent to\n",
      "pos = 1\n",
      "\n",
      "rangeReshape = range(1,nrDims)\n",
      "rangeReshape = rangeReshape[0:pos] + [0] + rangeReshape[pos:nrDims]\n",
      "\n",
      "print \"rangeShape:\\n%s\\n\" % rangeReshape\n",
      "\n",
      "r = np.transpose(r, rangeReshape)\n",
      "\n",
      "print \"result:\\n%s\" % r"
     ],
     "language": "python",
     "metadata": {},
     "outputs": [
      {
       "output_type": "stream",
       "stream": "stdout",
       "text": [
        "rangeShape:\n",
        "[1, 0, 2]\n",
        "\n",
        "result:\n",
        "[[[ 0.14  0.06]\n",
        "  [ 0.14  0.06]]\n",
        "\n",
        " [[ 0.56  0.24]\n",
        "  [ 0.56  0.24]]]\n"
       ]
      }
     ],
     "prompt_number": 16
    },
    {
     "cell_type": "markdown",
     "metadata": {},
     "source": [
      "Now we can multiply the product matrix with the factor probability matrix:"
     ]
    },
    {
     "cell_type": "code",
     "collapsed": false,
     "input": [
      "conditionalProbDing = ones((2,2,2)) # note: makes no sense in real life\n",
      "conditionalProbDing[0,1,1] = 0.5\n",
      "\n",
      "\n",
      "multiplied  = r * conditionalProbDing\n",
      "\n",
      "print \"multiplied: \\n%s\" % multiplied"
     ],
     "language": "python",
     "metadata": {},
     "outputs": [
      {
       "output_type": "stream",
       "stream": "stdout",
       "text": [
        "multiplied: \n",
        "[[[ 0.14  0.06]\n",
        "  [ 0.14  0.03]]\n",
        "\n",
        " [[ 0.56  0.24]\n",
        "  [ 0.56  0.24]]]\n"
       ]
      }
     ],
     "prompt_number": 17
    },
    {
     "cell_type": "markdown",
     "metadata": {},
     "source": [
      "Sum out all variables except the one we are sending the message to:"
     ]
    },
    {
     "cell_type": "code",
     "collapsed": false,
     "input": [
      "for i in range(nrDims-1,-1,-1):\n",
      "    if not i == pos:\n",
      "        multiplied = np.add.reduce(multiplied,i)\n",
      "        print \"edited matrix: \\n%s\\n\" % multiplied\n"
     ],
     "language": "python",
     "metadata": {},
     "outputs": [
      {
       "output_type": "stream",
       "stream": "stdout",
       "text": [
        "edited matrix: \n",
        "[[ 0.2   0.17]\n",
        " [ 0.8   0.8 ]]\n",
        "\n",
        "edited matrix: \n",
        "[ 1.    0.97]\n",
        "\n"
       ]
      }
     ],
     "prompt_number": 18
    },
    {
     "cell_type": "heading",
     "level": 3,
     "metadata": {},
     "source": [
      "1.3-1.5 Other necessary sum-product algorithm methods"
     ]
    },
    {
     "cell_type": "markdown",
     "metadata": {},
     "source": [
      "We wrote a method `send_sp_message(self, other)` for the Variable class, that checks if all the information required to pass a message to Variable var is present, computes the message and sends it to factor."
     ]
    },
    {
     "cell_type": "markdown",
     "metadata": {},
     "source": [
      "We wrote the method `marginal` for the Variable class, that computes a normalized marginal distribution over that node."
     ]
    },
    {
     "cell_type": "markdown",
     "metadata": {},
     "source": [
      "We wrote a function `receive_msg` for the Node class that manages the pending messages as described in the assignment. The member self.pending is a set that is to be filled with Nodes to which self has pending messages. We also modified the `send_*_msg` functions in the Variable and Factor classes such that they remove pending messages as they are sent."
     ]
    },
    {
     "cell_type": "heading",
     "level": 3,
     "metadata": {},
     "source": [
      "1.6 Inference Engine"
     ]
    },
    {
     "cell_type": "markdown",
     "metadata": {},
     "source": [
      "First we define a function that orderd the nodes from a factor graph, given a root node, correctly. I.e. such that the list  starts with a leaf node which can always send a message, and subsequent nodes in the list can send a message when the pending messages of preceding nodes in the list have been sent. "
     ]
    },
    {
     "cell_type": "code",
     "collapsed": false,
     "input": [
      "from collections import deque\n",
      "\n",
      "def createOrderedList(rootNode):\n",
      "    \n",
      "    cue = deque([(rootNode, None)]) #better than queue\n",
      "    orderedList = []\n",
      "    while len(cue) > 0:\n",
      "        (nextOne, parent) = cue.popleft()        \n",
      "        orderedList.append(nextOne)\n",
      "        for neighbour in nextOne.neighbours:\n",
      "            if neighbour != parent:\n",
      "                cue.append((neighbour, nextOne))\n",
      "     \n",
      "    orderedList = list(reversed(orderedList))\n",
      "    \n",
      "    \n",
      "    return orderedList"
     ],
     "language": "python",
     "metadata": {},
     "outputs": [],
     "prompt_number": 19
    },
    {
     "cell_type": "markdown",
     "metadata": {},
     "source": [
      "Then we define a function that initialized the pending messages at the leaf nodes."
     ]
    },
    {
     "cell_type": "code",
     "collapsed": false,
     "input": [
      "def initPendingMessages(nodeList,rootNode):\n",
      "    fringeNodes = getFringeNodes(nodeList, rootNode)\n",
      "    for n in fringeNodes:\n",
      "        nb = n.neighbours[0] # all have 1 nb\n",
      "        n.pending.add(nb)\n",
      "    "
     ],
     "language": "python",
     "metadata": {},
     "outputs": [],
     "prompt_number": 20
    },
    {
     "cell_type": "markdown",
     "metadata": {},
     "source": [
      "Now, we are ready to define a general message passing procedure (the \"Inference Engine\") for the sum-product algorithm. The messages are sent in both directions given a root node."
     ]
    },
    {
     "cell_type": "code",
     "collapsed": false,
     "input": [
      " def sendMessages_sum_product(rootNode):  \n",
      "    initPendingMessages(nodeList, rootNode)    \n",
      "\n",
      "    orderedList =  createOrderedList(rootNode)\n",
      "    \n",
      "    for n in orderedList:\n",
      "        pendingMessages = list(n.pending)        \n",
      "        for p in pendingMessages:\n",
      "            n.send_sp_msg(p)\n",
      "    \n",
      "    orderedList.reverse()\n",
      "    orderedList = orderedList[1:]    \n",
      "        \n",
      "    for n in orderedList:\n",
      "        pendingMessages = list(n.pending)\n",
      "        for p in pendingMessages:\n",
      "            n.send_sp_msg(p)\n",
      "\n",
      "\n"
     ],
     "language": "python",
     "metadata": {},
     "outputs": [],
     "prompt_number": 21
    },
    {
     "cell_type": "markdown",
     "metadata": {},
     "source": [
      "For example, we can evaluate the marginal probability of having Bronchitis without having observed any other variables (symptoms):"
     ]
    },
    {
     "cell_type": "code",
     "collapsed": false,
     "input": [
      "sendMessages_sum_product(B)\n",
      "\n",
      "print \"Marginal of B:\", B.marginal()\n",
      "\n",
      "reset_network()"
     ],
     "language": "python",
     "metadata": {},
     "outputs": [
      {
       "output_type": "stream",
       "stream": "stdout",
       "text": [
        "Marginal of B: [ 0.821024  0.178976]\n"
       ]
      }
     ],
     "prompt_number": 22
    },
    {
     "cell_type": "markdown",
     "metadata": {},
     "source": [
      "Furthermore, we modified he `Variable.send_msg` and `Variable.marginal` methods  such that they are able to use the `observed_state` so as to get the required marginals when some nodes are observed."
     ]
    },
    {
     "cell_type": "markdown",
     "metadata": {},
     "source": [
      "For example, when we have observed Influenza to be present:"
     ]
    },
    {
     "cell_type": "code",
     "collapsed": false,
     "input": [
      "I.set_observed(1)\n",
      "\n",
      "sendMessages_sum_product(B)\n",
      "\n",
      "print \"Marginal of B:\", B.marginal()\n",
      "\n",
      "reset_network()"
     ],
     "language": "python",
     "metadata": {},
     "outputs": [
      {
       "output_type": "stream",
       "stream": "stdout",
       "text": [
        "Marginal of B: [ 0.08201478  0.91798522]\n"
       ]
      }
     ],
     "prompt_number": 41
    },
    {
     "cell_type": "heading",
     "level": 3,
     "metadata": {},
     "source": [
      "1.7 Sum-Product and MAP states"
     ]
    },
    {
     "cell_type": "markdown",
     "metadata": {},
     "source": [
      "The sum-product algorithm can be used to find for each latent variable the state that maximizes the marginal probability for that latent variable. However, in case of the MAP-state we wish to find the set of states that maximizes the joint probability over all variables. These are not neccessarily the same and therefore we cannot use the Sum-Product algorithm to find the MAP-state."
     ]
    },
    {
     "cell_type": "heading",
     "level": 2,
     "metadata": {},
     "source": [
      "Part 2: The max-sum algorithm\n"
     ]
    },
    {
     "cell_type": "heading",
     "level": 3,
     "metadata": {},
     "source": [
      "2.1-2.2 Max-sum messages"
     ]
    },
    {
     "cell_type": "markdown",
     "metadata": {},
     "source": [
      "In the Factor and Variable classes we heve implemented the max-sum version of the message sending methods (`send_ms_msg`). The differences are that conditional probability tables in the factors now become log probabilities, and instead of taking the product of incoming messages (for both variable to factor and factor to variable messages) we sum them, and instead of summing out variables (for factor to variable messages) we now take the maximum. "
     ]
    },
    {
     "cell_type": "heading",
     "level": 2,
     "metadata": {},
     "source": [
      "2.3 Finding a MAP state"
     ]
    },
    {
     "cell_type": "markdown",
     "metadata": {},
     "source": [
      "Using the same message passing schedule we used for sum-product, we implemented the max-sum algorithm to find the Maximum a Posteriori (MAP) state. We have ignored issues relating to non-unique maxima, i.e. the MAP state is obtained by a per-node maximization."
     ]
    },
    {
     "cell_type": "markdown",
     "metadata": {},
     "source": [
      "The message passing procedure for the max-sum algorithm is defined below. Except for the differences relating to the messages (which results in a different message-passing method being called) the procedure is the same as for the sum-product algorithm as defined in the function `sendMessages_sum_product`."
     ]
    },
    {
     "cell_type": "code",
     "collapsed": false,
     "input": [
      "def sendMessages_max_sum(rootNode):    \n",
      "    orderedList =  createOrderedList(rootNode)\n",
      "    initPendingMessages(nodeList, rootNode)\n",
      "    \n",
      "    for n in orderedList:\n",
      "        pendingMessages = list(n.pending)        \n",
      "        for p in pendingMessages:\n",
      "            n.send_ms_msg(p)\n",
      "    \n",
      "    orderedList.reverse()\n",
      "    orderedList = orderedList[1:]    \n",
      "        \n",
      "    for n in orderedList:\n",
      "        pendingMessages = list(n.pending)\n",
      "        for p in pendingMessages:\n",
      "            n.send_ms_msg(p)"
     ],
     "language": "python",
     "metadata": {},
     "outputs": [],
     "prompt_number": 25
    },
    {
     "cell_type": "markdown",
     "metadata": {},
     "source": [
      "For example, we can find the MAP state of the network without having observed any other variables (symptoms):"
     ]
    },
    {
     "cell_type": "code",
     "collapsed": false,
     "input": [
      "sendMessages_max_sum(B)\n",
      "\n",
      "print \"MAP state:\"\n",
      "for v in varList:\n",
      "    (mapState, logValue) = v.mapStateAndLogValue()\n",
      "    print \"%s: %d (%2.2f)\" % (v.name, mapState, logValue)\n",
      "    \n",
      "    \n",
      "reset_network()"
     ],
     "language": "python",
     "metadata": {},
     "outputs": [
      {
       "output_type": "stream",
       "stream": "stdout",
       "text": [
        "MAP state:\n",
        "Influenza: 0 (-0.40)\n",
        "Smokes: 0 (-0.40)\n",
        "SoreThroat: 0 (-0.40)\n",
        "Fever: 0 (-0.40)\n",
        "Bronchitis: 0 (-0.40)\n",
        "Coughing: 0 (-0.40)\n",
        "Wheezing: 0 (-0.40)\n"
       ]
      }
     ],
     "prompt_number": 36
    },
    {
     "cell_type": "markdown",
     "metadata": {},
     "source": [
      "Or the MAP state of the network given observed variables, for example when we've observed Influenza as present:"
     ]
    },
    {
     "cell_type": "code",
     "collapsed": false,
     "input": [
      "I.set_observed(1)\n",
      "\n",
      "sendMessages_max_sum(B)\n",
      "\n",
      "print \"MAP state:\"\n",
      "for v in varList:\n",
      "    (mapState, logValue) = v.mapStateAndLogValue()\n",
      "    print \"%s: %d (%2.2f)\" % (v.name, mapState, logValue)\n",
      "    \n",
      "    \n",
      "reset_network()"
     ],
     "language": "python",
     "metadata": {},
     "outputs": [
      {
       "output_type": "stream",
       "stream": "stdout",
       "text": [
        "MAP state:\n",
        "Influenza: 1 (666.00)\n",
        "Smokes: 0 (-4.52)\n",
        "SoreThroat: 0 (-4.52)\n",
        "Fever: 1 (-4.52)\n",
        "Bronchitis: 1 (-4.52)\n",
        "Coughing: 1 (-4.52)\n",
        "Wheezing: 1 (-4.52)\n"
       ]
      }
     ],
     "prompt_number": 39
    },
    {
     "cell_type": "heading",
     "level": 1,
     "metadata": {},
     "source": [
      "Part 3: Image Denoising and Loopy Max-Sum"
     ]
    },
    {
     "cell_type": "markdown",
     "metadata": {},
     "source": [
      "We have implemented a loopy version of max-sum to perform denoising on a binary image. We use a factor graph representation of the relevant joint probability distribution which is represented as a Markov Random Field (MRF) in Bishop 8.3.3. On MRFs this denoising can be accomplished using the Iterative Conditional Modes algorithm, and on a factor graph representation of the same joint distribution, we can use the max-sum algorithm "
     ]
    },
    {
     "cell_type": "markdown",
     "metadata": {},
     "source": [
      "First we load a 600x750 pixels image, binarize it (all pixels $\\in \\{0,1\\}$), and add random noise."
     ]
    },
    {
     "cell_type": "code",
     "collapsed": false,
     "input": [
      "from pylab import imread, gray\n",
      "\n",
      "figsize(7,7)\n",
      "\n",
      "# Load the image and binarize\n",
      "im = np.mean(imread('dalmatian1.png'), axis=2) > 0.5\n",
      "figure()\n",
      "imshow(im,interpolation='nearest')\n",
      "gray()\n",
      "\n",
      "# Add 10% noise\n",
      "noise = np.random.rand(*im.shape) > 0.9\n",
      "noise_im = np.logical_xor(noise, im)\n",
      "figure()\n",
      "imshow(noise_im,interpolation='nearest')"
     ],
     "language": "python",
     "metadata": {},
     "outputs": [
      {
       "metadata": {},
       "output_type": "pyout",
       "prompt_number": 45,
       "text": [
        "<matplotlib.image.AxesImage at 0x3efe610>"
       ]
      },
      {
       "metadata": {},
       "output_type": "display_data",
       "png": "[encoded data removed]",
       "text": [
        "<matplotlib.figure.Figure at 0x458e650>"
       ]
      },
      {
       "metadata": {},
       "output_type": "display_data",
       "png": "[encoded data removed]",
       "text": [
        "<matplotlib.figure.Figure at 0x4583d50>"
       ]
      }
     ],
     "prompt_number": 45
    },
    {
     "cell_type": "markdown",
     "metadata": {},
     "source": [
      "However, processing this image posed us with memory issues. Therefore, we have defined a test image which simply consists of the top-left 200x200 pixels of the original, given image. We also add 10% noise to this image to produce a noisy version of it."
     ]
    },
    {
     "cell_type": "code",
     "collapsed": false,
     "input": [
      "# define test image as a 200x200 subimage of the given image\n",
      "test_im2 = im[0:200,0:200]\n",
      "figure()\n",
      "imshow(test_im2,interpolation='nearest')\n",
      "\n",
      "# add 10% noise\n",
      "noise = np.random.rand(*test_im2.shape) > 0.9\n",
      "noise_test_im2 = np.logical_xor(noise, test_im2)\n",
      "figure()\n",
      "imshow(noise_test_im2,interpolation='nearest')            "
     ],
     "language": "python",
     "metadata": {},
     "outputs": [
      {
       "metadata": {},
       "output_type": "pyout",
       "prompt_number": 47,
       "text": [
        "<matplotlib.image.AxesImage at 0x4f671d0>"
       ]
      },
      {
       "metadata": {},
       "output_type": "display_data",
       "png": "[encoded data removed]",
       "text": [
        "<matplotlib.figure.Figure at 0x4565e90>"
       ]
      },
      {
       "metadata": {},
       "output_type": "display_data",
       "png": "[encoded data removed]",
       "text": [
        "<matplotlib.figure.Figure at 0x4587290>"
       ]
      }
     ],
     "prompt_number": 47
    },
    {
     "cell_type": "markdown",
     "metadata": {},
     "source": [
      "Define which image we are going to use in the process."
     ]
    },
    {
     "cell_type": "code",
     "collapsed": false,
     "input": [
      "maxSumImg = noise_test_im2 \n",
      "origImg = test_im2"
     ],
     "language": "python",
     "metadata": {},
     "outputs": [],
     "prompt_number": 14
    },
    {
     "cell_type": "heading",
     "level": 2,
     "metadata": {},
     "source": [
      "3.1 Constructing the factor graph\n"
     ]
    },
    {
     "cell_type": "markdown",
     "metadata": {},
     "source": [
      "In line with Bishop 8.3.3 we define $X$ to be the set of latent variables and $Y$ to be the set of observed variables (corresponding to the pixels in the noisy image).\n",
      "Note that the joint probability $p(X)$ can be expressed as:\n",
      "$$P(x_1, x_2, \\dots, x_N) = \\dfrac{1}{Z} \\prod_{i,j} \\psi(x_i,x_j) \\prod_{i} \\phi(x_i,y_i) $$\n",
      "\n",
      "where $\\phi(x_i,y_i)$ is the local evidence function which should preserve the structure of the original image present in the noisy image, and $ \\psi(x_i,x_j)$  is the neighbouring pixels factor that can be seen as a \"smoothing\" function for removing the noise.  \n",
      "\n",
      "For example, if we should happen to know that the amount of noise is about 10%, we could argue that the local evidence function $\\phi(x_i,y_i)$, expressed in terms of factor probability tables, should be best set to 0.9 if $x_i = y_i$ and 0.1 otherwise.\n"
     ]
    },
    {
     "cell_type": "markdown",
     "metadata": {},
     "source": [
      "The MRF representation the joint probability used for image denoising only has maximal cliques of size 2. Therefore, in the factor graph representation, each variable is connected by all its neighbors in the MRF through a factor node. The code below instantiates such a factor graph for a given image."
     ]
    },
    {
     "cell_type": "code",
     "collapsed": false,
     "input": [
      "from itertools import repeat\n",
      "\n",
      "def createNetwork(image):\n",
      "    \n",
      "    size = image.shape\n",
      "    nrRows = size[0]\n",
      "    nrCols = size[1]\n",
      "    \n",
      "    imageStates = 2\n",
      "    imageVariables_x = []\n",
      "    imageVariables_y = []\n",
      "    imageFactors = []\n",
      "    imageNodes = []\n",
      "    \n",
      "    factnr = 0\n",
      "    \n",
      "    # probability tables for the two factor types\n",
      "    xy = asanyarray( [[0.9, 0.1],[0.1, 0.9]] , dtype=float) # local evidence factor\n",
      "    xx = asanyarray( [[0.85,0.15], [0.15, 0.85]] , dtype=float) # neighbouring pixels factor \n",
      "    \n",
      "    currentIndex = 0\n",
      "    \n",
      "    for r in range(nrRows):\n",
      "        for c in range(nrCols):\n",
      "            # create an x-node\n",
      "            name = 'x_' + str(r) + '_'+str(c)\n",
      "            x = Variable(name, imageStates)\n",
      "            imageVariables_x.append(x)\n",
      "            imageNodes.append(x)\n",
      "            \n",
      "            # create an y-node and\n",
      "            # set this variable observed with the value of the noisy image\n",
      "            name = 'y_' + str(r) + '_'+str(c)\n",
      "            y = Variable(name, imageStates)\n",
      "            y.set_observed(image[r,c])\n",
      "            imageVariables_y.append(y)\n",
      "            imageNodes.append(y)\n",
      "            \n",
      "            # create a factor between the just generated x and y node\n",
      "            factName = 'fxy_' + str(r) + '_'+str(c)\n",
      "            f = Factor(factName, xy, [x,y]) \n",
      "            imageFactors.append(f)\n",
      "            imageNodes.append(f)\n",
      "            \n",
      "            # if applicable, create a factor between this x-node\n",
      "            # and one neighbour of it to the east or north of it within the\n",
      "            # plane containing the x-nodes\n",
      "            if c > 0: \n",
      "                factName = 'fxxh_' + str(r) + '_'+str(c)\n",
      "                factnr += 1\n",
      "                f = Factor(factName, xx, [x, imageVariables_x[currentIndex-1]] ) \n",
      "                imageFactors.append(f)\n",
      "                imageNodes.append(f)\n",
      "                \n",
      "            if r > 0:\n",
      "                factName = 'fxxv_' + str(r) + '_'+str(c)\n",
      "                factnr += 1\n",
      "                f = Factor(factName, xx, [x, imageVariables_x[currentIndex-nrCols]] ) \n",
      "                imageFactors.append(f)\n",
      "                imageNodes.append(f)\n",
      "            \n",
      "            currentIndex+=1\n",
      "    \n",
      "    return (imageNodes, imageVariables_x,imageVariables_y)"
     ],
     "language": "python",
     "metadata": {},
     "outputs": [],
     "prompt_number": 15
    },
    {
     "cell_type": "heading",
     "level": 3,
     "metadata": {},
     "source": [
      "3.2 Loopy max-sum"
     ]
    },
    {
     "cell_type": "markdown",
     "metadata": {},
     "source": [
      "First we initialize a message on all edges in both directions, meanwhile accumalating all pending messages. The message we send for initialization has the values `[0,0]` (each variable has two states: 0 or 1). These values have no effect on future messages since a sum containing a zero remains the same. "
     ]
    },
    {
     "cell_type": "code",
     "collapsed": false,
     "input": [
      "(im_nodes, imageVariables_x,imageVariables_y) = createNetwork( maxSumImg)\n",
      "\n",
      "pendingAll = set([])\n",
      "\n",
      "for node in im_nodes:\n",
      "    for neighbour in node.neighbours:\n",
      "        \n",
      "        neighbour.receive_msg(node, np.array([0,0]))\n",
      "        \n",
      "        for p in neighbour.pending:\n",
      "            pendingAll.add((neighbour, p))\n",
      "        \n",
      "for yNode in imageVariables_y:\n",
      "    yNode.pending.add(yNode.neighbours[0])\n",
      "    \n",
      "    for p in yNode.pending:\n",
      "        pendingAll.add((yNode,p))\n",
      "    \n",
      "  \n",
      "print len(pendingAll)"
     ],
     "language": "python",
     "metadata": {},
     "outputs": [
      {
       "output_type": "stream",
       "stream": "stdout",
       "text": [
        "478400\n"
       ]
      }
     ],
     "prompt_number": 19
    },
    {
     "cell_type": "markdown",
     "metadata": {},
     "source": [
      "After this initialization we are ready to run the loopy max-sum algorithm. We randomly choose a pending message and send it. Then we update the set of messages that are pending. We continue this until there are no pending messages left, or the maximum number of iterations (set at 1.000.000) is reached. \n",
      "\n",
      "We send one message per iteration, i.e. we use a serial schedule. "
     ]
    },
    {
     "cell_type": "code",
     "collapsed": false,
     "input": [
      "########################################################################\n",
      "# The loopy max-sum algorithm applied to the factor graph defined above.\n",
      "########################################################################\n",
      "# It requires an initial list of pending messages.\n",
      "maxIt = 1000000\n",
      "it = 0\n",
      "while len(pendingAll) > 0 and it < maxIt :\n",
      "    \n",
      "    (vonn,zu) = pendingAll.pop() \n",
      "    vonn.send_ms_msg(zu)\n",
      "    for p in zu.pending:        \n",
      "        pendingAll.add((zu,p))\n",
      "    \n",
      "    it+=1\n",
      "    \n",
      "    if it % 100000 == 0:\n",
      "        print \"nr pending messages: %d \\t iteration: %d of %d\" % (len(pendingAll), it, maxIt)\n",
      "########################################################################\n",
      "\n",
      "\n",
      "    \n",
      "# code to convert the resulting MAP states of the x-nodes to image representation format    \n",
      "resultingImage = zeros(np.shape(maxSumImg))+(-1)\n",
      "\n",
      "for xVar in imageVariables_x:\n",
      "    (mapState, logValue)=xVar.mapStateAndLogValue()\n",
      "    xVarSplit = xVar.name.split(\"_\")\n",
      "    xVarX = int(xVarSplit[1])\n",
      "    xVarY = int(xVarSplit[2])\n",
      "    \n",
      "    resultingImage[xVarX,xVarY] = mapState"
     ],
     "language": "python",
     "metadata": {},
     "outputs": [
      {
       "output_type": "stream",
       "stream": "stdout",
       "text": [
        "nr pending messages: 244348 \t iteration: 100000 of 1000000\n",
        "nr pending messages: 249709 \t iteration: 200000 of 1000000"
       ]
      },
      {
       "output_type": "stream",
       "stream": "stdout",
       "text": [
        "\n",
        "nr pending messages: 238869 \t iteration: 300000 of 1000000"
       ]
      },
      {
       "output_type": "stream",
       "stream": "stdout",
       "text": [
        "\n",
        "nr pending messages: 245222 \t iteration: 400000 of 1000000"
       ]
      },
      {
       "output_type": "stream",
       "stream": "stdout",
       "text": [
        "\n",
        "nr pending messages: 223461 \t iteration: 500000 of 1000000"
       ]
      },
      {
       "output_type": "stream",
       "stream": "stdout",
       "text": [
        "\n",
        "nr pending messages: 207027 \t iteration: 600000 of 1000000"
       ]
      },
      {
       "output_type": "stream",
       "stream": "stdout",
       "text": [
        "\n",
        "nr pending messages: 196149 \t iteration: 700000 of 1000000"
       ]
      },
      {
       "output_type": "stream",
       "stream": "stdout",
       "text": [
        "\n",
        "nr pending messages: 218614 \t iteration: 800000 of 1000000"
       ]
      },
      {
       "output_type": "stream",
       "stream": "stdout",
       "text": [
        "\n",
        "nr pending messages: 231393 \t iteration: 900000 of 1000000"
       ]
      },
      {
       "output_type": "stream",
       "stream": "stdout",
       "text": [
        "\n",
        "nr pending messages: 239800 \t iteration: 1000000 of 1000000"
       ]
      },
      {
       "output_type": "stream",
       "stream": "stdout",
       "text": [
        "\n",
        "1000000\n",
        "[[ -12.66198442  -12.66198442  -10.61535306 ...,  -80.89942165\n",
        "   -79.38854918  -25.51295402]\n",
        " [ -46.92791492  -46.55467496  -28.67970794 ..., -116.21788036\n",
        "  -134.43242579  -87.75465234]\n",
        " [ -26.69068614  -35.88216348 -111.09719735 ...,  -59.41528004\n",
        "  -101.10632264  -39.56767086]\n",
        " ..., \n",
        " [ -26.58892573  -71.68880969  -53.23820729 ..., -117.35055443\n",
        "   -88.33770614  -30.08675289]\n",
        " [  -7.70792495  -65.92215558  -66.13287661 ..., -189.17402395\n",
        "  -189.17402395  -40.23781799]\n",
        " [  -2.90742811  -11.26542878  -66.95847881 ...,  -54.40873921  -27.6449177\n",
        "    -4.14146482]]"
       ]
      },
      {
       "output_type": "stream",
       "stream": "stdout",
       "text": [
        "\n",
        "[[ 0.  0.  0. ...,  1.  1.  1.]\n",
        " [ 0.  0.  0. ...,  1.  1.  1.]\n",
        " [ 0.  0.  0. ...,  1.  1.  1.]\n",
        " ..., \n",
        " [ 0.  0.  0. ...,  0.  0.  0.]\n",
        " [ 0.  0.  0. ...,  0.  0.  0.]\n",
        " [ 0.  0.  0. ...,  0.  0.  0.]]\n",
        "nr iterations: 1000000 \n"
       ]
      },
      {
       "metadata": {},
       "output_type": "display_data",
       "png": "[encoded data removed]",
       "text": [
        "<matplotlib.figure.Figure at 0x37fa510>"
       ]
      },
      {
       "metadata": {},
       "output_type": "display_data",
       "png": "[encoded data removed]",
       "text": [
        "<matplotlib.figure.Figure at 0x312bb90>"
       ]
      },
      {
       "metadata": {},
       "output_type": "display_data",
       "png": "[encoded data removed]",
       "text": [
        "<matplotlib.figure.Figure at 0x307ef90>"
       ]
      }
     ],
     "prompt_number": 21
    },
    {
     "cell_type": "code",
     "collapsed": false,
     "input": [
      "print \"The images below are the original image, the noisy variant \\\n",
      "        of the original image and the result of the loopy max-sum algorithm after %d iterations\" % it\n",
      "\n",
      "imshow(origImg,interpolation='nearest')\n",
      "figure() \n",
      "imshow(maxSumImg,interpolation='nearest')\n",
      "figure()\n",
      "imshow(resultingImage,interpolation='nearest')"
     ],
     "language": "python",
     "metadata": {},
     "outputs": []
    },
    {
     "cell_type": "markdown",
     "metadata": {},
     "source": [
      "As one can see, the amount of noise is greatly reduced. "
     ]
    },
    {
     "cell_type": "markdown",
     "metadata": {},
     "source": [
      "Memory usage improvements could be obtained by relaxing the strict storage of pending messages.\n",
      "For example, by not storing the pending messages in a list, but instead only keeping track of the number of pending messages in the network to be able to check for convergence. Then each iteration we randomly pick a node until we find one that has pending messages, and send one or all of them, and update the variable containg the number of pending messages in the network accordingly.\n",
      "Not using the convergence criterion at all (for example with a fixed flooding schedule) is also a possibility."
     ]
    }
   ],
   "metadata": {}
  }
 ]
}