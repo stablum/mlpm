{
 "metadata": {
  "name": ""
 },
 "nbformat": 3,
 "nbformat_minor": 0,
 "worksheets": [
  {
   "cells": [
    {
     "cell_type": "code",
     "collapsed": false,
     "input": [
      "import networkx as nx\n",
      "import matplotlib.pyplot as plt\n",
      "import matplotlib as mpl\n",
      "\n",
      "figsize(15,9)\n",
      "#import pygraphviz as pgv\n",
      "\n",
      "G = nx.MultiGraph()\n",
      "\n",
      "nodelist_variables = list(set([item.name for sublist in [ f.neighbours for f in factorList] for item in sublist]))\n",
      "nodelist_factors = [f.name for f in factorList]\n",
      "\n",
      "for v in nodelist_variables + nodelist_factors:\n",
      "    G.add_node(v)\n",
      "\n",
      "for factor in factorList:\n",
      "    for n in factor.neighbours:\n",
      "        print (factor.name, n.name)\n",
      "        G.add_edge(factor.name, n.name)\n",
      "\n",
      "print nodelist_variables\n",
      "ax = plt.gca()\n",
      "pos = nx.spring_layout(G,scale=2000)\n",
      "nx.draw_networkx_nodes(G,pos,ax=ax,node_size=800,node_shape='s',nodelist=nodelist_factors, node_color='red',edgecolor='green')\n",
      "nx.draw_networkx_nodes(G,pos,ax=ax,node_size=2000,node_shape='o',nodelist=nodelist_variables, node_color='white')\n",
      "\n",
      "nx.draw_networkx_edges(G,pos,ax=ax,node_size=2000,node_shape='s',width=4,edge_color='red')\n",
      "nx.draw_networkx_labels(G,pos,ax=ax)\n",
      "\n",
      "#plt.axis('off')\n",
      "plt.show()\n"
     ],
     "language": "python",
     "metadata": {},
     "outputs": [
      {
       "ename": "ImportError",
       "evalue": "No module named networkx",
       "output_type": "pyerr",
       "traceback": [
        "\u001b[1;31m---------------------------------------------------------------------------\u001b[0m\n\u001b[1;31mImportError\u001b[0m                               Traceback (most recent call last)",
        "\u001b[1;32m<ipython-input-1-d0e6d586a83f>\u001b[0m in \u001b[0;36m<module>\u001b[1;34m()\u001b[0m\n\u001b[1;32m----> 1\u001b[1;33m \u001b[1;32mimport\u001b[0m \u001b[0mnetworkx\u001b[0m \u001b[1;32mas\u001b[0m \u001b[0mnx\u001b[0m\u001b[1;33m\u001b[0m\u001b[0m\n\u001b[0m\u001b[0;32m      2\u001b[0m \u001b[1;32mimport\u001b[0m \u001b[0mmatplotlib\u001b[0m\u001b[1;33m.\u001b[0m\u001b[0mpyplot\u001b[0m \u001b[1;32mas\u001b[0m \u001b[0mplt\u001b[0m\u001b[1;33m\u001b[0m\u001b[0m\n\u001b[0;32m      3\u001b[0m \u001b[1;32mimport\u001b[0m \u001b[0mmatplotlib\u001b[0m \u001b[1;32mas\u001b[0m \u001b[0mmpl\u001b[0m\u001b[1;33m\u001b[0m\u001b[0m\n\u001b[0;32m      4\u001b[0m \u001b[1;33m\u001b[0m\u001b[0m\n\u001b[0;32m      5\u001b[0m \u001b[0mfigsize\u001b[0m\u001b[1;33m(\u001b[0m\u001b[1;36m15\u001b[0m\u001b[1;33m,\u001b[0m\u001b[1;36m9\u001b[0m\u001b[1;33m)\u001b[0m\u001b[1;33m\u001b[0m\u001b[0m\n",
        "\u001b[1;31mImportError\u001b[0m: No module named networkx"
       ]
      }
     ],
     "prompt_number": 1
    },
    {
     "cell_type": "code",
     "collapsed": false,
     "input": [],
     "language": "python",
     "metadata": {},
     "outputs": []
    }
   ],
   "metadata": {}
  }
 ]
}