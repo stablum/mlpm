{
 "metadata": {
  "name": ""
 },
 "nbformat": 3,
 "nbformat_minor": 0,
 "worksheets": [
  {
   "cells": [
    {
     "cell_type": "code",
     "collapsed": false,
     "input": [
      "import networkx as nx\n",
      "import matplotlib.pyplot as plt\n",
      "import matplotlib as mpl\n",
      "\n",
      "figsize(15,9)\n",
      "#import pygraphviz as pgv\n",
      "\n",
      "G = nx.MultiGraph()\n",
      "\n",
      "nodelist_variables = list(set([item.name for sublist in [ f.neighbours for f in factorList] for item in sublist]))\n",
      "nodelist_factors = [f.name for f in factorList]\n",
      "\n",
      "for v in nodelist_variables + nodelist_factors:\n",
      "    G.add_node(v)\n",
      "\n",
      "for factor in factorList:\n",
      "    for n in factor.neighbours:\n",
      "        print (factor.name, n.name)\n",
      "        G.add_edge(factor.name, n.name)\n",
      "\n",
      "print nodelist_variables\n",
      "ax = plt.gca()\n",
      "pos = nx.spring_layout(G,scale=2000)\n",
      "nx.draw_networkx_nodes(G,pos,ax=ax,node_size=800,node_shape='s',nodelist=nodelist_factors, node_color='red',edgecolor='green')\n",
      "nx.draw_networkx_nodes(G,pos,ax=ax,node_size=2000,node_shape='o',nodelist=nodelist_variables, node_color='white')\n",
      "\n",
      "nx.draw_networkx_edges(G,pos,ax=ax,node_size=2000,node_shape='s',width=4,edge_color='red')\n",
      "nx.draw_networkx_labels(G,pos,ax=ax)\n",
      "\n",
      "#plt.axis('off')\n",
      "plt.show()\n"
     ],
     "language": "python",
     "metadata": {},
     "outputs": []
    }
   ],
   "metadata": {}
  }
 ]
}