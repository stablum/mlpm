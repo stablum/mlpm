{
 "metadata": {
  "name": ""
 },
 "nbformat": 3,
 "nbformat_minor": 0,
 "worksheets": [
  {
   "cells": [
    {
     "cell_type": "heading",
     "level": 1,
     "metadata": {},
     "source": [
      "Report ML:PM lab 2: Inference in Graphical Models\n"
     ]
    },
    {
     "cell_type": "heading",
     "level": 4,
     "metadata": {},
     "source": [
      "Agnes van Belle (10363130), Lydia Mennes (10333843), Francesco Stablum (6200982)\n"
     ]
    },
    {
     "cell_type": "code",
     "collapsed": false,
     "input": [
      "%pylab inline\n",
      "\n",
      "import operator\n"
     ],
     "language": "python",
     "metadata": {},
     "outputs": [
      {
       "output_type": "stream",
       "stream": "stdout",
       "text": [
        "Populating the interactive namespace from numpy and matplotlib\n"
       ]
      }
     ],
     "prompt_number": 6
    },
    {
     "cell_type": "heading",
     "level": 2,
     "metadata": {},
     "source": [
      "Part 1: The sum-product algorithm\n"
     ]
    },
    {
     "cell_type": "code",
     "collapsed": false,
     "input": [
      "class Node(object):\n",
      "    \"\"\"\n",
      "    Base-class for Nodes in a factor graph. Only instantiate sub-classes of Node.\n",
      "    \"\"\"\n",
      "    def __init__(self, name):\n",
      "        # A name for this Node, for printing purposes\n",
      "        self.name = name\n",
      "        \n",
      "        # Neighbours in the graph, identified with their index in this list.\n",
      "        # i.e. self.neighbours contains neighbour 0 through len(self.neighbours) - 1.\n",
      "        self.neighbours = []\n",
      "        \n",
      "        # Reset the node-state (not the graph topology)\n",
      "        self.reset()\n",
      "        \n",
      "        \n",
      "    def reset(self):\n",
      "        # Incoming messages; a dictionary mapping neighbours to messages.\n",
      "        # That is, it maps  Node -> np.ndarray.\n",
      "        self.in_msgs = {}\n",
      "        \n",
      "        # A set of NAMES OF neighbours for which this node has pending messages.\n",
      "        # We use a python set object so we don't have to worry about duplicates.\n",
      "        self.pending = set([])\n",
      "        \n",
      "\n",
      "    def add_neighbour(self, nb):\n",
      "        self.neighbours.append(nb)\n",
      "\n",
      "        \n",
      "    def send_sp_msg(self, other):\n",
      "        # To be implemented in subclass.\n",
      "        raise Exception('Method send_sp_msg not implemented in base-class Node')\n",
      "   \n",
      "        \n",
      "    def send_ms_msg(self, other):\n",
      "        # To be implemented in subclass.\n",
      "        raise Exception('Method send_ms_msg not implemented in base-class Node')\n",
      "    \n",
      "    \n",
      "    # Store the incoming message, replacing previous messages from the same node\n",
      "    # other = var\n",
      "    def receive_msg(self, other, msg):\n",
      "        self.in_msgs[other] = msg\n",
      "       \n",
      "        pendingNeighbourslist = []\n",
      "        for i in range (0, len(self.neighbours)):\n",
      "            neighbour = self.neighbours[i]\n",
      "            if neighbour.name != other.name:\n",
      "                pendingNeighbourslist.append(neighbour)        \n",
      "        \n",
      "        self.pending.update(pendingNeighbourslist)\n",
      "\n",
      "    \n",
      "    def __str__(self):\n",
      "        # This is printed when using 'print node_instance'\n",
      "        return self.name\n",
      "\n",
      "    \n",
      "    def __repr__(self):\n",
      "        return self.__str__()\n",
      "    \n",
      "    \n",
      "    def __hash__(self):\n",
      "        return hash(self.name)\n",
      "\n",
      "    \n",
      "    # assumption: unique names\n",
      "    def __eq__(self, other):\n",
      "        return (self.name) == (other.name)\n",
      "    \n",
      "    \n",
      "    # get messages for this node\n",
      "    # from neighboring nodes (except `other') \n",
      "    # and its own index in its own list of neighbours\n",
      "    def getMessagesFromOthersAndTargetIndex(self, other):\n",
      "        messagesFromOthers = []\n",
      "        varIndex = -1\n",
      "        for i in range (0, len(self.neighbours)):\n",
      "            neighbour = self.neighbours[i]\n",
      "            if neighbour.name == other.name:\n",
      "                varIndex = i # index of var we're sending to in neighbour list\n",
      "            else:\n",
      "                if neighbour in self.in_msgs:\n",
      "                    message = self.in_msgs[neighbour]\n",
      "                    messagesFromOthers.append(message) #put messages from others in list\n",
      "                \n",
      "        return (messagesFromOthers,varIndex)\n",
      "        "
     ],
     "language": "python",
     "metadata": {},
     "outputs": [],
     "prompt_number": 7
    },
    {
     "cell_type": "code",
     "collapsed": false,
     "input": [
      "class Variable(Node):\n",
      "    \n",
      "    def __init__(self, name, num_states):\n",
      "        \"\"\"\n",
      "        Variable node constructor.\n",
      "        Args:\n",
      "            name: a name string for this node. Used for printing. \n",
      "            num_states: the number of states this variable can take.\n",
      "            Allowable states run from 0 through (num_states - 1).\n",
      "            For example, for a binary variable num_states=2,\n",
      "            and the allowable states are 0, 1.\n",
      "        \"\"\"\n",
      "        self.num_states = num_states\n",
      "        \n",
      "        # Call the base-class constructor\n",
      "        super(Variable, self).__init__(name)\n",
      "    \n",
      "      \n",
      "    def set_observed(self, observed_state):\n",
      "        \"\"\"\n",
      "        Set this variable to an observed state.\n",
      "        Args:\n",
      "            observed_state: an integer value in [0, self.num_states - 1].\n",
      "        \"\"\"\n",
      "        # Observed state is represented as a 1-of-N variable\n",
      "        # Could be 0.0 for sum-product, but log(0.0) = -inf so a tiny value is preferable for max-sum\n",
      "        self.observed_state[:] = 0.000001\n",
      "        self.observed_state[observed_state] = 1.0\n",
      "        \n",
      "        \n",
      "    def set_latent(self):\n",
      "        \"\"\"\n",
      "        Erase an observed state for this variable and consider it latent again.\n",
      "        \"\"\"\n",
      "        # No state is preferred, so set all entries of observed_state to 1.0\n",
      "        # Using this representation we need not differentiate observed an latent\n",
      "        # variables when sending messages.\n",
      "        self.observed_state[:] = 1.0\n",
      "        \n",
      "        \n",
      "    def reset(self):\n",
      "        super(Variable, self).reset()\n",
      "        self.observed_state = np.ones(self.num_states)\n",
      "        \n",
      "        \n",
      "    def marginal(self, Z=None):\n",
      "        \"\"\"\n",
      "        Compute the marginal distribution of this Variable.\n",
      "        It is assumed that message passing has completed when this function is called.\n",
      "        Args:\n",
      "            Z: an optional normalization constant can be passed in. If None is passed, Z is computed.\n",
      "        Returns: Z. Either equal to the input Z, or computed (if Z=None was passed).\n",
      "        \"\"\"\n",
      "        p_tilde = np.multiply.reduce(self.in_msgs.values())\n",
      "        if Z is None:\n",
      "            Z = numpy.sum(p_tilde)\n",
      "        p = np.multiply(1/Z,p_tilde)\n",
      "        return p\n",
      "    \n",
      "    \n",
      "    # return MAP (Maximum a Posteriori) state and corresponding MAP value (in log space)\n",
      "    # found by running max-sum \n",
      "    def mapStateAndLogValue(self):\n",
      "       \n",
      "        if sum(self.observed_state) >= 2: # if not observed var\n",
      "            summ = np.add.reduce(self.in_msgs.values())\n",
      "            idx = np.argmax(summ)\n",
      "        else:\n",
      "            summ = [666]*self.num_states\n",
      "            idx = np.argmax(self.observed_state)\n",
      "            \n",
      "        return (idx, summ[idx]) \n",
      "    \n",
      "     \n",
      "    def send_sp_msg(self, other):\n",
      "        # get factor-->var messages for this var\n",
      "        # from neighboring factors (except `other')        \n",
      "        (messagesFromOthers, indexOfReceivingFactor) = self.getMessagesFromOthersAndTargetIndex(other)\n",
      "        messagesFromOthers.append(np.array([1,1]))\n",
      "          \n",
      "        if (indexOfReceivingFactor == -1):\n",
      "            raise Exception(\"Variable::send_sp_msg: other not found -- indexOfReceivingFactor = %d\" % indexOfReceivingFactor)\n",
      "        \n",
      "        productOfMessages =  reduce(np.multiply, messagesFromOthers)\n",
      "        productOfMessages = productOfMessages *  self.observed_state\n",
      "                \n",
      "        # remove pending message\n",
      "        self.pending.discard(other)        \n",
      "        other.receive_msg(self, productOfMessages)\n",
      "    \n",
      "    \n",
      "    def send_ms_msg(self, other):\n",
      "        # get factor-->var messages for this var\n",
      "        # from neighboring factors (except `other')\n",
      "        \n",
      "        (messagesFromOthers, indexOfReceivingFactor) = self.getMessagesFromOthersAndTargetIndex(other)        \n",
      "        messagesFromOthers.append(np.array([0,0])) # 0 because summation \n",
      "        \n",
      "        if (indexOfReceivingFactor == -1):\n",
      "            raise Exception(\"Variable::send_sp_msg: other not found -- indexOfReceivingFactor = %d\" % indexOfReceivingFactor)\n",
      "                        \n",
      "        sumOfMessages =  reduce(np.add, messagesFromOthers)\n",
      "        sumOfMessages = sumOfMessages + np.log( self.observed_state)\n",
      "        \n",
      "        # remove pending message\n",
      "        self.pending.discard(other)        \n",
      "        other.receive_msg(self, sumOfMessages)\n",
      "    "
     ],
     "language": "python",
     "metadata": {},
     "outputs": [],
     "prompt_number": 8
    },
    {
     "cell_type": "code",
     "collapsed": false,
     "input": [
      "class Factor(Node):\n",
      "    def __init__(self, name, f, neighbours):\n",
      "        \"\"\"\n",
      "        Factor node constructor.\n",
      "        Args:\n",
      "            name: a name string for this node. Used for printing\n",
      "            f: a numpy.ndarray with N axes, where N is the number of neighbours.\n",
      "               That is, the axes of f correspond to variables, and the index along that axes corresponds to a value of that variable.\n",
      "               Each axis of the array should have as many entries as the corresponding neighbour variable has states.\n",
      "            neighbours: a list of neighbouring Variables. Bi-directional connections are created.\n",
      "        \"\"\"\n",
      "        # Call the base-class constructor\n",
      "        super(Factor, self).__init__(name)\n",
      "\n",
      "        assert len(neighbours) == f.ndim, 'Factor function f should accept as many arguments as this Factor node has neighbours'\n",
      "        \n",
      "        for nb_ind in range(len(neighbours)):\n",
      "            nb = neighbours[nb_ind]\n",
      "            assert f.shape[nb_ind] == nb.num_states, 'The range of the factor function f is invalid for input %i %s' % (nb_ind, nb.name)\n",
      "            self.add_neighbour(nb)\n",
      "            nb.add_neighbour(self)\n",
      "\n",
      "        self.f = f\n",
      "        \n",
      "    \n",
      "    def repmatMatrix(self, other, matrix, varIndex):\n",
      "        # \"repmat\" the productMatrix to create an extra dimension \n",
      "        # to later be able to multiply it with the probability table (self.f)\n",
      "        nrVars = len(self.neighbours)\n",
      "        tileFactor = ones(nrVars)\n",
      "        tileFactor[0] = other.num_states\n",
      "        matrixTiled = np.tile(matrix,tileFactor)\n",
      "        \n",
      "        # because np.tile changes order of dimensions,\n",
      "        # transpose the productMatrix to get the correct order w.r.t.\n",
      "        # the probability table (self.f)\n",
      "        rangeReshape = range(1,nrVars)\n",
      "        rangeReshape = rangeReshape[0:varIndex] + [0] + rangeReshape[varIndex:nrVars]\n",
      "        matrixTiledTransposed = np.transpose(matrixTiled, rangeReshape)\n",
      "        \n",
      "        return matrixTiledTransposed\n",
      "    \n",
      "    \n",
      "    # assumption: other is a Variable object\n",
      "    def send_sp_msg(self, other):\n",
      "        # get var-->factor messages for this factor\n",
      "        # from neighboring vars (except `other')\n",
      "        (messagesFromOthers, varIndex) = self.getMessagesFromOthersAndTargetIndex(other)   \n",
      "\n",
      "        if varIndex == -1:\n",
      "            raise Exception(\"Factor::send_sp_msg: other not found -- varIndex = %d\" % varIndex)\n",
      "        \n",
      "        # produce a matrix containing all possible multiplications\n",
      "        # for all neighbouring message sover their states\n",
      "        # e.g. for two messages [0.2, 0.8] and [0.7, 0.3] one would get:\n",
      "        #  0.2*0.7, 0.2*0.3\n",
      "        #  0.8*0.7, 0.8*0.3\n",
      "        messagesFromOthers2 = np.ix_(*messagesFromOthers)\n",
      "        productMatrix = np.multiply.reduce(messagesFromOthers2)   \n",
      "        \n",
      "        productMatrixTiledTransposed = self.repmatMatrix(other, productMatrix,varIndex)\n",
      "        \n",
      "        # multiply the product Matrix with the probability table\n",
      "        # for all vars (self.f)\n",
      "        multiplied  = productMatrixTiledTransposed * self.f\n",
      "\n",
      "        # sum over the other variables except the one we are sending\n",
      "        # to (`other')\n",
      "        nrVars = len(self.neighbours)\n",
      "        for i in range(nrVars-1,-1,-1):\n",
      "            if not i == varIndex:\n",
      "                multiplied = np.add.reduce(multiplied,i)\n",
      "        \n",
      "        # remove pending message\n",
      "        self.pending.discard(other)\n",
      "        \n",
      "        other.receive_msg(self, multiplied)\n",
      "    \n",
      "    \n",
      "    def send_ms_msg(self, other):\n",
      "        # get var-->factor messages for this factor\n",
      "        # from neighboring vars (except `other')\n",
      "        (messagesFromOthers, varIndex) = self.getMessagesFromOthersAndTargetIndex(other)   \n",
      "            \n",
      "        if varIndex == -1:\n",
      "            raise Exception(\"Factor::send_sp_msg: other not found -- varIndex = %d\" % varIndex)\n",
      "        \n",
      "        # produce a matrix containing all possible multiplications\n",
      "        # for all neighbouring message sover their states\n",
      "        # e.g. for two messages [0.2, 0.8] and [0.7, 0.3] one would get:\n",
      "        #  0.2*0.7, 0.2*0.3\n",
      "        #  0.8*0.7, 0.8*0.3\n",
      "        messagesFromOthers2 = np.ix_(*messagesFromOthers)\n",
      "        productMatrix = np.add.reduce(messagesFromOthers2)\n",
      "   \n",
      "        productMatrixTiledTransposed = self.repmatMatrix(other, productMatrix,varIndex)\n",
      "        \n",
      "        # sum the product Matrix with the probability table\n",
      "        # for all vars (self.f)\n",
      "        added = productMatrixTiledTransposed + np.log(self.f)\n",
      "\n",
      "        # take the max over the other variables except the one we are sending\n",
      "        # to (`other')\n",
      "        nrVars = len(self.neighbours)\n",
      "        for i in range(nrVars-1,-1,-1):\n",
      "            if not i == varIndex:\n",
      "                added = np.maximum.reduce(added,i)\n",
      "             \n",
      "        # remove pending message\n",
      "        self.pending.discard(other)\n",
      "        \n",
      "        other.receive_msg(self, added)\n",
      "\n",
      "\n",
      "    def __str__(self):\n",
      "        return \"name:\\n\\t%s \\nneighbours:\\n\\t%s\\nprobs:\\n%s\" % (self.name, self.neighbours, self.f)\n",
      "    \n",
      "    \n",
      "    def __repr__(self):\n",
      "        return self.__str__()"
     ],
     "language": "python",
     "metadata": {},
     "outputs": [],
     "prompt_number": 9
    },
    {
     "cell_type": "heading",
     "level": 3,
     "metadata": {},
     "source": [
      "1.1 Instantiate network"
     ]
    },
    {
     "cell_type": "code",
     "collapsed": false,
     "input": [
      "from IPython.core.display import Image \n",
      "Image(filename='bn.png') \n",
      "\n"
     ],
     "language": "python",
     "metadata": {},
     "outputs": [
      {
       "metadata": {},
       "output_type": "pyout",
       "png": "[encoded data removed]",
       "prompt_number": 10,
       "text": [
        "<IPython.core.display.Image at 0x31bbe50>"
       ]
      }
     ],
     "prompt_number": 10
    },
    {
     "cell_type": "markdown",
     "metadata": {},
     "source": [
      "We convert the directed graphical model (\"Bayesian Network\") shown above to a factor graph. We instantiate this graph by creating Variable and Factor instances and linking them according to the graph structure. \n",
      "To instantiate the factor graph, we first create the Variable nodes and then create Factor nodes, passing a list of neighbour Variables to each Factor.\n",
      "We use the following prior and conditional probabilities.\n",
      "\n"
     ]
    },
    {
     "cell_type": "markdown",
     "metadata": {},
     "source": [
      "$$\n",
      "p(\\verb+Influenza+) = 0.05 \\\\\\\\\n",
      "p(\\verb+Smokes+) = 0.2 \\\\\\\\\n",
      "$$\n",
      "\n",
      "$$\n",
      "p(\\verb+SoreThroat+ = 1 | \\verb+Influenza+ = 1) = 0.3 \\\\\\\\\n",
      "p(\\verb+SoreThroat+ = 1 | \\verb+Influenza+ = 0) = 0.001 \\\\\\\\\n",
      "p(\\verb+Fever+ = 1| \\verb+Influenza+ = 1) = 0.9 \\\\\\\\\n",
      "p(\\verb+Fever+ = 1| \\verb+Influenza+ = 0) 0.05 \\\\\\\\\n",
      "p(\\verb+Bronchitis+ = 1 | \\verb+Influenza+ = 1, \\verb+Smokes+ = 1) = 0.99 \\\\\\\\\n",
      "p(\\verb+Bronchitis+ = 1 | \\verb+Influenza+ = 1, \\verb+Smokes+ = 0) = 0.9 \\\\\\\\\n",
      "p(\\verb+Bronchitis+ = 1 | \\verb+Influenza+ = 0, \\verb+Smokes+ = 1) = 0.7 \\\\\\\\\n",
      "p(\\verb+Bronchitis+ = 1 | \\verb+Influenza+ = 0, \\verb+Smokes+ = 0) = 0.0001 \\\\\\\\\n",
      "p(\\verb+Coughing+ = 1| \\verb+Bronchitis+ = 1) = 0.8 \\\\\\\\\n",
      "p(\\verb+Coughing+ = 1| \\verb+Bronchitis+ = 0) = 0.07 \\\\\\\\\n",
      "p(\\verb+Wheezing+ = 1| \\verb+Bronchitis+ = 1) = 0.6 \\\\\\\\\n",
      "p(\\verb+Wheezing+ = 1| \\verb+Bronchitis+ = 0) = 0.001 \\\\\\\\\n",
      "$$"
     ]
    },
    {
     "cell_type": "markdown",
     "metadata": {},
     "source": [
      "The code below initializes the Factor and Variable nodes and connects them."
     ]
    },
    {
     "cell_type": "code",
     "collapsed": false,
     "input": [
      "nrStates = 2\n",
      "\n",
      "I = Variable(\"Influenza\",nrStates)\n",
      "S = Variable (\"Smokes\",nrStates)\n",
      "ST = Variable(\"SoreThroat\",nrStates)\n",
      "F = Variable(\"Fever\",nrStates)\n",
      "B = Variable(\"Bronchitis\",nrStates)\n",
      "C = Variable(\"Coughing\",nrStates)\n",
      "W = Variable(\"Wheezing\", nrStates)\n",
      "\n",
      "f1Probs = asanyarray([0.95,0.05],dtype=float)\n",
      "\n",
      "f2Probs = asanyarray([.8, .2],dtype=float)\n",
      "\n",
      "f3Probs = asanyarray([ [.999, .001],[.7, .3] ] , dtype=float) # I ST\n",
      "\n",
      "f4Probs = asanyarray( [ [ .95, .05], [ 0.1, 0.9] ] , dtype=float) # I F\n",
      "\n",
      "f5Probs = asanyarray ([ [[ .9999, 0.1], [0.3, 0.01] ] , [ [0.0001, 0.9], [0.7, 0.99] ]], dtype=float) # B, S, I; \n",
      "\n",
      "f6Probs = asanyarray( [ [.93, 0.2], [.07, 0.8] ] , dtype=float) # C, B\n",
      "\n",
      "f7Probs = asanyarray ( [ [.999, 0.4], [.001, 0.6] ] , dtype=float) # W, B\n",
      "\n",
      "\n",
      "f1 = Factor(\"f1\",f1Probs,[I])\n",
      "f2 = Factor(\"f2\", f2Probs, [S])\n",
      "f3 = Factor(\"f3\", f3Probs, [I, ST] )\n",
      "f4 = Factor (\"f4\", f4Probs, [I, F])\n",
      "f5 = Factor(\"f5\", f5Probs, [B,S,I])\n",
      "f6 = Factor(\"f6\", f6Probs, [C,B])\n",
      "f7 = Factor(\"f7\", f7Probs, [W, B])\n",
      "\n",
      "factorList = [f1, f2, f3, f4, f5, f6, f7]\n",
      "varList = [I, S, ST, F, B, C, W] \n",
      "\n",
      "nodeList = (factorList + varList)\n",
      " \n",
      "\n"
     ],
     "language": "python",
     "metadata": {},
     "outputs": [],
     "prompt_number": 45
    },
    {
     "cell_type": "markdown",
     "metadata": {},
     "source": [
      "Plot the resulting factor graph:"
     ]
    },
    {
     "cell_type": "code",
     "collapsed": false,
     "input": [
      "import networkx as nx\n",
      "import matplotlib.pyplot as plt\n",
      "import matplotlib as mpl\n",
      "\n",
      "figsize(15,11)\n",
      "#import pygraphviz as pgv\n",
      "\n",
      "G = nx.MultiGraph()\n",
      "\n",
      "nodelist_variables = list(set([item.name for sublist in [ f.neighbours for f in factorList] for item in sublist]))\n",
      "nodelist_factors = [f.name for f in factorList]\n",
      "\n",
      "for v in nodelist_variables + nodelist_factors:\n",
      "    G.add_node(v)\n",
      "\n",
      "for factor in factorList:\n",
      "    for n in factor.neighbours:\n",
      "        G.add_edge(factor.name, n.name)\n",
      "\n",
      "ax = plt.gca()\n",
      "pos = nx.spring_layout(G,scale=2000)\n",
      "nx.draw_networkx_nodes(G,pos,ax=ax,node_size=800,node_shape='s',nodelist=nodelist_factors, node_color='red',edgecolor='green')\n",
      "nx.draw_networkx_nodes(G,pos,ax=ax,node_size=6000,node_shape='o',nodelist=nodelist_variables, node_color='white')\n",
      "nx.draw_networkx_edges(G,pos,ax=ax,node_size=2000,node_shape='s',width=4,edge_color='red')\n",
      "nx.draw_networkx_labels(G,pos,ax=ax)\n",
      "\n",
      "plt.axis('off')\n",
      "plt.show()\n"
     ],
     "language": "python",
     "metadata": {},
     "outputs": [
      {
       "metadata": {},
       "output_type": "display_data",
       "png": "[encoded data removed]",
       "text": [
        "<matplotlib.figure.Figure at 0x366f390>"
       ]
      }
     ],
     "prompt_number": 46
    },
    {
     "cell_type": "markdown",
     "metadata": {},
     "source": [
      "Some utility functions:  "
     ]
    },
    {
     "cell_type": "code",
     "collapsed": false,
     "input": [
      "# Resets all network nodes: Removes all messages,\n",
      "# pending messages,\n",
      "# and sets all variables to unobserved\n",
      "def reset_network():\n",
      "    for n in nodeList:\n",
      "        n.reset()\n",
      "        \n",
      "# Get the leaf (fringe) nodes given all nodes and a root node\n",
      "def getFringeNodes(allNodes, rootNode=None):\n",
      "    fringeNodes = []\n",
      "    for n in allNodes:        \n",
      "        if len(n.neighbours) == 1 and not n == rootNode:\n",
      "            fringeNodes.append(n)\n",
      "    return fringeNodes\n",
      "\n"
     ],
     "language": "python",
     "metadata": {},
     "outputs": [],
     "prompt_number": 47
    },
    {
     "cell_type": "heading",
     "level": 3,
     "metadata": {},
     "source": [
      "1.2 Factor to variable messages\n"
     ]
    },
    {
     "cell_type": "markdown",
     "metadata": {},
     "source": [
      "Write a method `send_sp_msg(self, other)` for the Factor class, that checks if all the information required to pass a message to Variable `other` is present, computes the message and sends it to `other`. \"Sending\" here simply means calling the `receive_msg` function of the receiving node (we will implement this later). The message itself should be represented as a numpy array (np.array) whose length is equal to the number of states of the variable.\n",
      "\n",
      "An elegant and efficient solution can be obtained using the n-way outer product of vectors. This product takes n vectors $\\mathbf{x}^{(1)}, \\ldots, \\mathbf{x}^{(n)}$ and computes a $n$-dimensional tensor (ndarray) whose element $i_0,i_1,...,i_n$ is given by $\\prod_j \\mathbf{x}^{(j)}_{i_j}$. In python, this is realized as `np.multiply.reduce(np.ix_(*vectors))` for a python list `vectors` of 1D numpy arrays. "
     ]
    },
    {
     "cell_type": "markdown",
     "metadata": {},
     "source": [
      "We implemented the factor to variable message procedure in the method `send_sp_msg(self, other)` in the Factor class as defined above. We use the efficient and elegant method as describe din the assignment, which uses the n-way outer product. We explain our procedure in more detail below."
     ]
    },
    {
     "cell_type": "markdown",
     "metadata": {},
     "source": [
      "First define the  probabilities. Each vector cna be seen as a message where the first number  in the vector is the probability of the first state of the corresponding variable."
     ]
    },
    {
     "cell_type": "code",
     "collapsed": false,
     "input": [
      "vector1 = np.array([0.2,0.8]) \n",
      "vector2 = np.array([0.7,0.3]) "
     ],
     "language": "python",
     "metadata": {},
     "outputs": [],
     "prompt_number": 49
    },
    {
     "cell_type": "markdown",
     "metadata": {},
     "source": [
      "Get the product for each combination of values in the incoming messages, in a matrix."
     ]
    },
    {
     "cell_type": "code",
     "collapsed": false,
     "input": [
      "vectors2 = np.ix_(vector1, vector2)\n",
      "\n",
      "r = np.multiply.reduce(vectors2)\n",
      "# 0.2*0.7, 0.2*0.3\n",
      "# 0.8*0.7, 0.8*0.3\n",
      "\n",
      "print \"result:\\n%s\" % r"
     ],
     "language": "python",
     "metadata": {},
     "outputs": [
      {
       "output_type": "stream",
       "stream": "stdout",
       "text": [
        "result:\n",
        "[[ 0.14  0.06]\n",
        " [ 0.56  0.24]]\n"
       ]
      }
     ],
     "prompt_number": 50
    },
    {
     "cell_type": "markdown",
     "metadata": {},
     "source": [
      "For each value of the variable we will send this message to, we need a copy of the previous result (matrix containing all product combinations of all incoming messages). We use `np.tile` to add one dimension. However, with this function, this can only be accomplished for a new first dimension."
     ]
    },
    {
     "cell_type": "code",
     "collapsed": false,
     "input": [
      "nrDims = len(vectors2)+1\n",
      "tileFactor = ones(nrDims)\n",
      "tileFactor[0] = 2\n",
      "\n",
      "print \"tileFactor:\\n%s\" % tileFactor \n",
      "\n",
      "r = np.tile(r,tileFactor)\n",
      "\n",
      "print \"result:\\n%s\" % r"
     ],
     "language": "python",
     "metadata": {},
     "outputs": [
      {
       "output_type": "stream",
       "stream": "stdout",
       "text": [
        "tileFactor:\n",
        "[ 2.  1.  1.]\n",
        "result:\n",
        "[[[ 0.14  0.06]\n",
        "  [ 0.56  0.24]]\n",
        "\n",
        " [[ 0.14  0.06]\n",
        "  [ 0.56  0.24]]]\n"
       ]
      }
     ],
     "prompt_number": 51
    },
    {
     "cell_type": "markdown",
     "metadata": {},
     "source": [
      "In order to be able to multiply the matrix directly with the factor probability matrix (`self.f` in a Factor node) , we need to rearrange the dimensions of the previously defined product matrix such that these match.  "
     ]
    },
    {
     "cell_type": "code",
     "collapsed": false,
     "input": [
      "# index of variable that the message will be sent to\n",
      "pos = 1\n",
      "\n",
      "rangeReshape = range(1,nrDims)\n",
      "rangeReshape = rangeReshape[0:pos] + [0] + rangeReshape[pos:nrDims]\n",
      "\n",
      "print \"rangeShape:\\n%s\\n\" % rangeReshape\n",
      "\n",
      "r = np.transpose(r, rangeReshape)\n",
      "\n",
      "print \"result:\\n%s\" % r"
     ],
     "language": "python",
     "metadata": {},
     "outputs": [
      {
       "output_type": "stream",
       "stream": "stdout",
       "text": [
        "rangeShape:\n",
        "[1, 0, 2]\n",
        "\n",
        "result:\n",
        "[[[ 0.14  0.06]\n",
        "  [ 0.14  0.06]]\n",
        "\n",
        " [[ 0.56  0.24]\n",
        "  [ 0.56  0.24]]]\n"
       ]
      }
     ],
     "prompt_number": 52
    },
    {
     "cell_type": "markdown",
     "metadata": {},
     "source": [
      "Now we can multiply the product matrix with the factor probability matrix:"
     ]
    },
    {
     "cell_type": "code",
     "collapsed": false,
     "input": [
      "conditionalProbDing = ones((2,2,2)) # note: makes no sense in real life\n",
      "conditionalProbDing[0,1,1] = 0.5\n",
      "\n",
      "\n",
      "multiplied  = r * conditionalProbDing\n",
      "\n",
      "print \"multiplied: \\n%s\" % multiplied"
     ],
     "language": "python",
     "metadata": {},
     "outputs": [
      {
       "output_type": "stream",
       "stream": "stdout",
       "text": [
        "multiplied: \n",
        "[[[ 0.14  0.06]\n",
        "  [ 0.14  0.03]]\n",
        "\n",
        " [[ 0.56  0.24]\n",
        "  [ 0.56  0.24]]]\n"
       ]
      }
     ],
     "prompt_number": 53
    },
    {
     "cell_type": "markdown",
     "metadata": {},
     "source": [
      "Sum out all variables except the one we are sending the message to:"
     ]
    },
    {
     "cell_type": "code",
     "collapsed": false,
     "input": [
      "for i in range(nrDims-1,-1,-1):\n",
      "    if not i == pos:\n",
      "        multiplied = np.add.reduce(multiplied,i)\n",
      "        print \"edited matrix: \\n%s\\n\" % multiplied\n"
     ],
     "language": "python",
     "metadata": {},
     "outputs": [
      {
       "output_type": "stream",
       "stream": "stdout",
       "text": [
        "edited matrix: \n",
        "[[ 0.2   0.17]\n",
        " [ 0.8   0.8 ]]\n",
        "\n",
        "edited matrix: \n",
        "[ 1.    0.97]\n",
        "\n"
       ]
      }
     ],
     "prompt_number": 54
    },
    {
     "cell_type": "code",
     "collapsed": false,
     "input": [
      "\n",
      "# vectors should be list of np.arrays\n",
      "def sendMessage(vectors, indexOfReceivingVar, conditionalProbMatrix, nrStatesReceivingVar=2):\n",
      "    vectors2= np.ix_(*vectors)\n",
      "    productMatrix = np.multiply.reduce(vectors2)\n",
      "\n",
      "    nrVars = len(vectors2)+1\n",
      "    tileFactor = ones(nrVars)\n",
      "    tileFactor[0] = nrStatesReceivingVar\n",
      "    productMatrixTiled = np.tile(productMatrix,tileFactor)\n",
      "\n",
      "    \n",
      "    rangeReshape = range(1,nrVars)\n",
      "    rangeReshape = rangeReshape[0:indexOfReceivingVar] + [0] + rangeReshape[indexOfReceivingVar:nrVars]\n",
      "    productMatrixTiledTransposed = np.transpose(productMatrixTiled, rangeReshape)\n",
      "\n",
      "    multiplied  = productMatrixTiledTransposed * conditionalProbMatrix\n",
      "\n",
      "    for i in range(nrVars-1,-1,-1):\n",
      "        if not i == indexOfReceivingVar:\n",
      "            multiplied = np.add.reduce(multiplied,i)\n",
      "            print \"edited multiplied: \\n%s\" % multiplied\n",
      "    \n",
      "    return multiplied\n",
      "\n",
      "# test for f5-->B\n",
      "f5Probs = asanyarray ([ [[ .9999, 0.1], [0.3, 0.01] ] , [ [0.0001, 0.9], [0.7, 0.99] ]], dtype=float) # B, S, I; \n",
      "messageFromI = np.array([0.95,0.05]) # message from I\n",
      "messageFromS = np.array([0.8,0.2]) # message from S\n",
      "sendMessage([messageFromS,messageFromI], 0, f5Probs)\n",
      "\n",
      "\n",
      "# test for f6-->B\n",
      "f6Probs = asanyarray( [ [.93, 0.2], [.07, 0.8] ] , dtype=float) # C, B\n",
      "messageFromC = np.array([1,1])\n",
      "sendMessage([messageFromC], 1, f6Probs)\n",
      "\n",
      "print  \"f1:\"\n",
      "print sendMessage([], 0, f1Probs)\n",
      "\n"
     ],
     "language": "python",
     "metadata": {},
     "outputs": [
      {
       "output_type": "stream",
       "stream": "stdout",
       "text": [
        "edited multiplied: \n",
        "[[ 0.763924  0.0571  ]\n",
        " [ 0.036076  0.1429  ]]\n",
        "edited multiplied: \n",
        "[ 0.821024  0.178976]\n",
        "edited multiplied: \n",
        "[ 1.  1.]\n",
        "f1:\n",
        "[ 0.95  0.05]\n"
       ]
      }
     ],
     "prompt_number": 10
    },
    {
     "cell_type": "markdown",
     "metadata": {},
     "source": [
      "### 1.3 Variable to factor messages (10 points)\n",
      "\n",
      "Write a method `send_sp_message(self, other)` for the Variable class, that checks if all the information required to pass a message to Variable var is present, computes the message and sends it to factor."
     ]
    },
    {
     "cell_type": "markdown",
     "metadata": {},
     "source": [
      "### 1.4 Compute marginal (10 points)\n",
      "Later in this assignment, we will implement message passing schemes to do inference. Once the message passing has completed, we will want to compute local marginals for each variable.\n",
      "Write the method `marginal` for the Variable class, that computes a marginal distribution over that node."
     ]
    },
    {
     "cell_type": "markdown",
     "metadata": {},
     "source": [
      "### 1.5 Receiving messages (10 points)\n",
      "In order to implement the loopy and non-loopy message passing algorithms, we need some way to determine which nodes are ready to send messages to which neighbours. To do this in a way that works for both loopy and non-loopy algorithms, we make use of the concept of \"pending messages\", which is explained in Bishop (8.4.7): \n",
      "\"we will say that a (variable or factor)\n",
      "node a has a message pending on its link to a node b if node a has received any\n",
      "message on any of its other links since the last time it send (sic) a message to b. Thus,\n",
      "when a node receives a message on one of its links, this creates pending messages\n",
      "on all of its other links.\"\n",
      "\n",
      "Keep in mind that for the non-loopy algorithm, nodes may not have received any messages on some or all of their links. Therefore, before we say node a has a pending message for node b, we must check that node a has received all messages needed to compute the message that is to be sent to b.\n",
      "\n",
      "Modify the function `receive_msg`, so that it updates the self.pending variable as described above. The member self.pending is a set that is to be filled with Nodes to which self has pending messages. Modify the `send_msg` functions to remove pending messages as they are sent."
     ]
    },
    {
     "cell_type": "markdown",
     "metadata": {},
     "source": [
      "### 1.6 Inference Engine (10 points)\n",
      "Write a function `sum_product(node_list)` that runs the sum-product message passing algorithm on a tree-structured factor graph with given nodes. The input parameter `node_list` is a list of all Node instances in the graph, which is assumed to be ordered correctly. That is, the list starts with a leaf node, which can always send a message. Subsequent nodes in `node_list` should be capable of sending a message when the pending messages of preceding nodes in the list have been sent. The sum-product algorithm then proceeds by passing over the list from beginning to end, sending all pending messages at the nodes it encounters. Then, in reverse order, the algorithm traverses the list again and again sends all pending messages at each node as it is encountered. For this to work, you must initialize pending messages for all the leaf nodes, e.g. `influenza_prior.pending.add(influenza)`, where `influenza_prior` is a Factor node corresponding the the prior, `influenza` is a Variable node and the only connection of `influenza_prior` goes to `influenza`.\n",
      "\n",
      "\n"
     ]
    },
    {
     "cell_type": "code",
     "collapsed": false,
     "input": [
      "from collections import deque\n",
      "\n",
      "def createOrderedList(rootNode):\n",
      "    \n",
      "    cue = deque([(rootNode, None)]) #better than queue\n",
      "    orderedList = []\n",
      "    while len(cue) > 0:\n",
      "        (nextOne, parent) = cue.popleft()        \n",
      "        orderedList.append(nextOne)\n",
      "        for neighbour in nextOne.neighbours:\n",
      "            if neighbour != parent:\n",
      "                cue.append((neighbour, nextOne))\n",
      "     \n",
      "    orderedList = list(reversed(orderedList))\n",
      "    \n",
      "    for n in orderedList:\n",
      "        print n.name,\n",
      "    print '\\n'\n",
      "    \n",
      "    return orderedList\n",
      "\n",
      "   \n",
      "def sendMessages_sum_product(rootNode):    \n",
      "    orderedList =  createOrderedList(rootNode)\n",
      "    \n",
      "    for n in orderedList:\n",
      "        print \"node\",  n.name\n",
      "        pendingMessages = list(n.pending)        \n",
      "        for p in pendingMessages:\n",
      "            print \"pending\", p.name\n",
      "            n.send_sp_msg(p)\n",
      "    \n",
      "    orderedList.reverse()\n",
      "    orderedList = orderedList[1:]    \n",
      "    \n",
      "    \n",
      "    for n in orderedList:\n",
      "        print \"node\",  n.name\n",
      "        pendingMessages = list(n.pending)\n",
      "        for p in pendingMessages:\n",
      "            print \"pending\", p.name\n",
      "            n.send_sp_msg(p)\n",
      "\n",
      "\n",
      "    \n",
      "def initPendingMessages(nodeList):\n",
      "    fringeNodes = getFringeNodes(nodeList)\n",
      "    for n in fringeNodes:\n",
      "        nb = n.neighbours[0] # all have 1 nb\n",
      "        n.pending.add(nb)\n",
      "    \n",
      "initPendingMessages(nodeList)    \n",
      "#f1.pending.add(I)\n",
      "#f2.pending.add(S)\n",
      "#ST.pending.add(f3)\n",
      "#F.pending.add(f4)\n",
      "#C.pending.add(f6)\n",
      "#W.pending.add(f7)\n",
      "\n",
      "#S.set_observed(0)\n",
      "#ST.set_observed(1)\n",
      "\n",
      "#I.set_observed(1)\n",
      "\n",
      "sendMessages_sum_product(B)\n",
      "\n",
      "print \"Marginal of B:\", B.marginal()\n",
      "\n",
      "reset_network()"
     ],
     "language": "python",
     "metadata": {},
     "outputs": [
      {
       "output_type": "stream",
       "stream": "stdout",
       "text": [
        "Fever SoreThroat f4 f3 f1 f2 Wheezing Coughing Influenza Smokes f7 f6 f5 Bronchitis \n",
        "\n",
        "node Fever\n",
        "pending f4\n",
        "node SoreThroat\n",
        "pending f3\n",
        "node f4\n",
        "pending Influenza\n",
        "node f3\n",
        "pending Influenza\n",
        "node f1\n",
        "pending Influenza\n",
        "node f2\n",
        "pending Smokes\n",
        "node Wheezing\n",
        "pending f7\n",
        "node Coughing\n",
        "pending f6\n",
        "node Influenza\n",
        "pending f1\n",
        "pending f3\n",
        "pending f4\n",
        "pending f5\n",
        "node Smokes\n",
        "pending f5\n",
        "node f7\n",
        "pending Bronchitis\n",
        "node f6\n",
        "pending Bronchitis\n",
        "node f5\n",
        "pending Influenza\n",
        "pending Smokes\n",
        "pending Bronchitis\n",
        "node Bronchitis\n",
        "pending f5\n",
        "pending f6\n",
        "pending f7\n",
        "node f5\n",
        "pending Influenza\n",
        "pending Smokes\n",
        "node f6\n",
        "pending Coughing\n",
        "node f7\n",
        "pending Wheezing\n",
        "node Smokes\n",
        "pending f2\n",
        "node Influenza\n",
        "pending f1\n",
        "pending f3\n",
        "pending f4\n",
        "node Coughing\n",
        "node Wheezing\n",
        "node f2\n",
        "node f1\n",
        "node f3\n",
        "pending SoreThroat\n",
        "node f4\n",
        "pending Fever\n",
        "node SoreThroat\n",
        "node Fever\n",
        "Marginal of B: [ 0.821024  0.178976]\n"
       ]
      }
     ],
     "prompt_number": 11
    },
    {
     "cell_type": "markdown",
     "metadata": {},
     "source": [
      "### 1.6 Observed variables and probabilistic queries (15 points)\n",
      "We will now use the inference engine to answer probabilistic queries. That is, we will set certain variables to observed values, and obtain the marginals over latent variables. We have already provided functions `set_observed` and `set_latent` that manage a member of Variable called `observed_state`. Modify the `Variable.send_msg` and `Variable.marginal` routines that you wrote before, to use `observed_state` so as to get the required marginals when some nodes are observed."
     ]
    },
    {
     "cell_type": "markdown",
     "metadata": {},
     "source": [
      "### 1.7 Sum-product and MAP states (5 points)\n",
      "A maximum a posteriori state (MAP-state) is an assignment of all latent variables that maximizes the probability of latent variables given observed variables:\n",
      "$$\n",
      "\\mathbf{x}_{\\verb+MAP+} = \\arg\\max _{\\mathbf{x}} p(\\mathbf{x} | \\mathbf{y})\n",
      "$$\n",
      "Could we use the sum-product algorithm to obtain a MAP state? If yes, how? If no, why not?\n"
     ]
    },
    {
     "cell_type": "raw",
     "metadata": {},
     "source": [
      "The sum-product algorithm can be used to find for each latent variable the state that maximizes the marginal probability for that latent variable. However, in case of the MAP-state we wish to find the set of states that maximizes the joint probability over all variables. These are not neccessarily the same and therefore we cannot use the Sum-Product algorithm to find the MAP-state."
     ]
    },
    {
     "cell_type": "markdown",
     "metadata": {},
     "source": [
      "## Part 2: The max-sum algorithm\n",
      "Next, we implement the max-sum algorithm as described in section 8.4.5 of Bishop."
     ]
    },
    {
     "cell_type": "markdown",
     "metadata": {},
     "source": [
      "### 2.1 Factor to variable messages (10 points)\n",
      "Implement the function `Factor.send_ms_msg` that sends Factor -> Variable messages for the max-sum algorithm. It is analogous to the `Factor.send_sp_msg` function you implemented before."
     ]
    },
    {
     "cell_type": "markdown",
     "metadata": {},
     "source": [
      "### 2.2 Variable to factor messages (10 points)\n",
      "Implement the `Variable.send_ms_msg` function that sends Variable -> Factor messages for the max-sum algorithm."
     ]
    },
    {
     "cell_type": "markdown",
     "metadata": {},
     "source": [
      "### 2.3 Find a MAP state (10 points)\n",
      "\n",
      "Using the same message passing schedule we used for sum-product, implement the max-sum algorithm. For simplicity, we will ignore issues relating to non-unique maxima. So there is no need to implement backtracking; the MAP state is obtained by a per-node maximization (eq. 8.98 in Bishop). Make sure your algorithm works with both latent and observed variables."
     ]
    },
    {
     "cell_type": "code",
     "collapsed": false,
     "input": [
      "def sendMessages_max_sum(rootNode):    \n",
      "    orderedList =  createOrderedList(rootNode)\n",
      "    \n",
      "    for n in orderedList:\n",
      "        pendingMessages = list(n.pending)        \n",
      "        for p in pendingMessages:\n",
      "            print \"from %s to %s\" %(n.name, p.name)\n",
      "            n.send_ms_msg(p)\n",
      "    \n",
      "    orderedList.reverse()\n",
      "    orderedList = orderedList[1:]    \n",
      "    \n",
      "    \n",
      "    for n in orderedList:\n",
      "        pendingMessages = list(n.pending)\n",
      "        for p in pendingMessages:\n",
      "            print \"from %s to %s\" %(n.name, p.name)\n",
      "            n.send_ms_msg(p)\n",
      "\n",
      "            \n",
      "initPendingMessages(nodeList)\n",
      "\n",
      "#I.set_observed(1)\n",
      "\n",
      "sendMessages_max_sum(B)\n",
      "\n",
      "print\n",
      "\n",
      "print \"MAP state:\"\n",
      "for v in varList:\n",
      "    (mapState, logValue) = v.mapStateAndLogValue()\n",
      "    print \"%s:(%d,%2.2f)\" % (v.name, mapState, logValue)\n",
      "    \n",
      "    \n",
      "reset_network()"
     ],
     "language": "python",
     "metadata": {},
     "outputs": [
      {
       "output_type": "stream",
       "stream": "stdout",
       "text": [
        "Fever SoreThroat f4 f3 f1 f2 Wheezing Coughing Influenza Smokes f7 f6 f5 Bronchitis \n",
        "\n",
        "from Fever to f4\n",
        "from SoreThroat to f3\n",
        "from f4 to Influenza\n",
        "from f3 to Influenza\n",
        "from f1 to Influenza\n",
        "from f2 to Smokes\n",
        "from Wheezing to f7\n",
        "from Coughing to f6\n",
        "from Influenza to f1\n",
        "from Influenza to f3\n",
        "from Influenza to f4\n",
        "from Influenza to f5\n",
        "from Smokes to f5\n",
        "from f7 to Bronchitis\n",
        "from f6 to Bronchitis\n",
        "from f5 to Influenza\n",
        "from f5 to Smokes\n",
        "from f5 to Bronchitis\n",
        "from Bronchitis to f5\n",
        "from Bronchitis to f6\n",
        "from Bronchitis to f7\n",
        "from f5 to Influenza\n",
        "from f5 to Smokes\n",
        "from f6 to Coughing\n",
        "from f7 to Wheezing\n",
        "from Smokes to f2\n",
        "from Influenza to f1\n",
        "from Influenza to f3\n",
        "from Influenza to f4\n",
        "from f3 to SoreThroat\n",
        "from f4 to Fever\n",
        "\n",
        "MAP state:\n",
        "Influenza:(0,-0.40)\n",
        "Smokes:(0,-0.40)\n",
        "SoreThroat:(0,-0.40)\n",
        "Fever:(0,-0.40)\n",
        "Bronchitis:(0,-0.40)\n",
        "Coughing:(0,-0.40)\n",
        "Wheezing:(0,-0.40)\n"
       ]
      }
     ],
     "prompt_number": 12
    },
    {
     "cell_type": "markdown",
     "metadata": {},
     "source": [
      "## Part 3: Image Denoising and Loopy BP\n",
      "\n",
      "Next, we will use a loopy version of max-sum to perform denoising on a binary image. The model itself is discussed in Bishop 8.3.3, but we will use loopy max-sum instead of Iterative Conditional Modes as Bishop does.\n",
      "\n",
      "The following code creates some toy data. `im` is a quite large binary image, `test_im` is a smaller synthetic binary image. Noisy versions are also provided."
     ]
    },
    {
     "cell_type": "code",
     "collapsed": false,
     "input": [
      "from pylab import imread, gray\n",
      "# Load the image and binarize\n",
      "im = np.mean(imread('dalmatian1.png'), axis=2) > 0.5\n",
      "imshow(im,interpolation='nearest')\n",
      "gray()\n",
      "\n",
      "# Add some noise\n",
      "noise = np.random.rand(*im.shape) > 0.9\n",
      "noise_im = np.logical_xor(noise, im)\n",
      "figure()\n",
      "imshow(noise_im,interpolation='nearest')\n",
      "\n",
      "test_im = np.ones((5,5))\n",
      "#test_im[5:8, 3:8] = 1.0\n",
      "test_im[3,2] = 0\n",
      "figure()\n",
      "imshow(test_im,interpolation='nearest')\n",
      "\n",
      "# Add some noise\n",
      "noise = np.random.rand(*test_im.shape) > 0.5\n",
      "noise_test_im = np.logical_xor(noise, test_im)\n",
      "figure()\n",
      "imshow(noise_test_im,interpolation='nearest')\n",
      "\n",
      "test_im2 = im[0:200,0:200]\n",
      "figure()\n",
      "imshow(test_im2,interpolation='nearest')\n",
      "noise = np.random.rand(*test_im2.shape) > 0.9\n",
      "noise_test_im2 = np.logical_xor(noise, test_im2)\n",
      "figure()\n",
      "imshow(noise_test_im2,interpolation='nearest')            "
     ],
     "language": "python",
     "metadata": {},
     "outputs": [
      {
       "metadata": {},
       "output_type": "pyout",
       "prompt_number": 13,
       "text": [
        "<matplotlib.image.AxesImage at 0x37e2310>"
       ]
      },
      {
       "metadata": {},
       "output_type": "display_data",
       "png": "[encoded data removed]",
       "text": [
        "<matplotlib.figure.Figure at 0x309b290>"
       ]
      },
      {
       "metadata": {},
       "output_type": "display_data",
       "png": "[encoded data removed]",
       "text": [
        "<matplotlib.figure.Figure at 0x30feb10>"
       ]
      },
      {
       "metadata": {},
       "output_type": "display_data",
       "png": "[encoded data removed]",
       "text": [
        "<matplotlib.figure.Figure at 0x3123fd0>"
       ]
      },
      {
       "metadata": {},
       "output_type": "display_data",
       "png": "[encoded data removed]",
       "text": [
        "<matplotlib.figure.Figure at 0x3499510>"
       ]
      },
      {
       "metadata": {},
       "output_type": "display_data",
       "png": "[encoded data removed]",
       "text": [
        "<matplotlib.figure.Figure at 0x34bca90>"
       ]
      },
      {
       "metadata": {},
       "output_type": "display_data",
       "png": "[encoded data removed]",
       "text": [
        "<matplotlib.figure.Figure at 0x34c00d0>"
       ]
      }
     ],
     "prompt_number": 13
    },
    {
     "cell_type": "markdown",
     "metadata": {},
     "source": [
      "### 3.1 Construct factor graph (10 points)\n",
      "Convert the Markov Random Field (Bishop, fig. 8.31) to a factor graph and instantiate it."
     ]
    },
    {
     "cell_type": "code",
     "collapsed": false,
     "input": [
      "maxSumImg = noise_test_im2 # noise_test_im\n",
      "origImg = test_im2"
     ],
     "language": "python",
     "metadata": {},
     "outputs": [],
     "prompt_number": 14
    },
    {
     "cell_type": "raw",
     "metadata": {},
     "source": [
      "The factor graph from the Markov Random Field for image denoising only has maximal cliques of size 2. Therefore, in the factor graph, each variable is connected by all its neighbors in the Markov Random Field through a factor node. The code below instantiates such a factor graph for a given image."
     ]
    },
    {
     "cell_type": "code",
     "collapsed": false,
     "input": [
      "from itertools import repeat\n",
      "\n",
      "def createNetwork(image):\n",
      "    \n",
      "    size = image.shape\n",
      "    nrRows = size[0]\n",
      "    nrCols = size[1]\n",
      "    \n",
      "    imageStates = 2\n",
      "    imageVariables_x = []\n",
      "    imageVariables_y = []\n",
      "    imageFactors = []\n",
      "    imageNodes = []\n",
      "    \n",
      "    factnr = 0\n",
      "    xy = asanyarray( [[0.9, 0.1],[0.1, 0.9]] , dtype=float)\n",
      "    xx = asanyarray( [[0.85,0.15], [0.15, 0.85]] , dtype=float)\n",
      "    \n",
      "    currentIndex = 0\n",
      "    \n",
      "    for r in range(nrRows):\n",
      "        for c in range(nrCols):\n",
      "            name = 'x_' + str(r) + '_'+str(c)\n",
      "            x = Variable(name, imageStates)\n",
      "            # Set this variable observed with the value of the noisy image\n",
      "            imageVariables_x.append(x)\n",
      "            imageNodes.append(x)\n",
      "            \n",
      "            name = 'y_' + str(r) + '_'+str(c)\n",
      "            y = Variable(name, imageStates)\n",
      "            y.set_observed(image[r,c])\n",
      "            imageVariables_y.append(y)\n",
      "            imageNodes.append(y)\n",
      "            \n",
      "            factName = 'fxy_' + str(r) + '_'+str(c)\n",
      "            f = Factor(factName, xy, [x,y]) \n",
      "            imageFactors.append(f)\n",
      "            imageNodes.append(f)\n",
      "            \n",
      "            if c > 0:\n",
      "                factName = 'fxxh_' + str(r) + '_'+str(c)\n",
      "                factnr += 1\n",
      "                f = Factor(factName, xx, [x, imageVariables_x[currentIndex-1]] ) \n",
      "                imageFactors.append(f)\n",
      "                imageNodes.append(f)\n",
      "                \n",
      "            if r > 0:\n",
      "                factName = 'fxxv_' + str(r) + '_'+str(c)\n",
      "                factnr += 1\n",
      "                f = Factor(factName, xx, [x, imageVariables_x[currentIndex-nrCols]] ) \n",
      "                imageFactors.append(f)\n",
      "                imageNodes.append(f)\n",
      "            \n",
      "            currentIndex+=1\n",
      "    \n",
      "    return (imageNodes, imageVariables_x,imageVariables_y)\n",
      "    \n"
     ],
     "language": "python",
     "metadata": {},
     "outputs": [],
     "prompt_number": 15
    },
    {
     "cell_type": "code",
     "collapsed": false,
     "input": [
      "\n",
      "\"\"\"\n",
      "\n",
      "for n in im_nodes:\n",
      "    print n.name\n",
      "    print 'neighbors:',\n",
      "    for buur in n.neighbours:\n",
      "        print buur.name, \n",
      "    print '\\n'\n",
      "\"\"\""
     ],
     "language": "python",
     "metadata": {},
     "outputs": [
      {
       "metadata": {},
       "output_type": "pyout",
       "prompt_number": 16,
       "text": [
        "\"\\n\\nfor n in im_nodes:\\n    print n.name\\n    print 'neighbors:',\\n    for buur in n.neighbours:\\n        print buur.name, \\n    print '\\n'\\n\""
       ]
      }
     ],
     "prompt_number": 16
    },
    {
     "cell_type": "code",
     "collapsed": false,
     "input": [
      "\n",
      "\n",
      "(im_nodes, imageVariables_x,imageVariables_y) = createNetwork( maxSumImg)\n",
      "\n",
      "pendingAll = set([])\n",
      "\n",
      "for node in im_nodes:\n",
      "    for neighbour in node.neighbours:\n",
      "        \n",
      "        neighbour.receive_msg(node, np.array([0,0]))\n",
      "        \n",
      "        for p in neighbour.pending:\n",
      "            #if not ((neighbour, p)) in pendingAll:\n",
      "            #    print \"(%s) %s --> %s\" % (node.name,neighbour.name, p.name)\n",
      "           \n",
      "            pendingAll.add((neighbour, p))\n",
      "        #for n in pendingAll:\n",
      "           \n",
      "        #print\n",
      "        \n",
      "for yNode in imageVariables_y:\n",
      "    yNode.pending.add(yNode.neighbours[0])\n",
      "    \n",
      "    for p in yNode.pending:\n",
      "        pendingAll.add((yNode,p))\n",
      "    \n",
      "#for n in pendingAll:\n",
      " #   print \"%s --> %s\" % (n[0].name, n[1].name)\n",
      "        \n",
      "                \n",
      "print len(pendingAll)\n",
      "\n",
      "    "
     ],
     "language": "python",
     "metadata": {},
     "outputs": [
      {
       "output_type": "stream",
       "stream": "stdout",
       "text": [
        "478400\n"
       ]
      }
     ],
     "prompt_number": 19
    },
    {
     "cell_type": "code",
     "collapsed": false,
     "input": [
      "\"\"\"\n",
      "for xVar in imageVariables_x:\n",
      "    (mapState, logValue)=xVar.mapStateAndLogValue()\n",
      "    print \"mapState:%s (%2.2f)\" % (mapState,logValue)\n",
      "\"\"\"    \n",
      "    \n"
     ],
     "language": "python",
     "metadata": {},
     "outputs": [
      {
       "metadata": {},
       "output_type": "pyout",
       "prompt_number": 18,
       "text": [
        "'\\nfor xVar in imageVariables_x:\\n    (mapState, logValue)=xVar.mapStateAndLogValue()\\n    print \"mapState:%s (%2.2f)\" % (mapState,logValue)\\n'"
       ]
      }
     ],
     "prompt_number": 18
    },
    {
     "cell_type": "code",
     "collapsed": false,
     "input": [
      "maxIt = 1000000\n",
      "\n",
      "it = 0\n",
      "while len(pendingAll) > 0 and it < maxIt :\n",
      "    \n",
      "    (vonn,zu) = pendingAll.pop() \n",
      "    vonn.send_ms_msg(zu)\n",
      "    for p in zu.pending:        \n",
      "        pendingAll.add((zu,p))\n",
      "    \n",
      "    it+=1\n",
      "    \n",
      "    if it % 100000 == 0:\n",
      "        print \"nr pending messages: %d \\t iteration: %d of %d\" % (len(pendingAll), it, maxIt)\n",
      "\n",
      "print it\n",
      "    \n",
      "    \n",
      "bla = zeros(np.shape(maxSumImg))+(-1)\n",
      "blaV =  zeros(np.shape(maxSumImg))+(-1)\n",
      "yReconstr = zeros(np.shape(maxSumImg))+(-1)\n",
      "\n",
      "for xVar in imageVariables_x:\n",
      "    (mapState, logValue)=xVar.mapStateAndLogValue()\n",
      "    #print \"mapState:%s (%2.2f)\" % (mapState,logValue)\n",
      "    #print \"values: %s\" % xVar.mapLogValues()\n",
      "    \n",
      "    xVarSplit = xVar.name.split(\"_\")\n",
      "    xVarX = int(xVarSplit[1])\n",
      "    xVarY = int(xVarSplit[2])\n",
      "    \n",
      "    bla[xVarX,xVarY] =mapState\n",
      "    blaV[xVarX,xVarY] =logValue\n",
      "\n",
      "for yVar in imageVariables_y:\n",
      "    \n",
      "    (mapState, logValue)=yVar.mapStateAndLogValue()\n",
      "    #print \"mapState:%s (%2.2f)\" % (mapState,logValue)\n",
      "    #print \"values: %s\" % xVar.mapLogValues()\n",
      "    \n",
      "    yVarSplit = yVar.name.split(\"_\")\n",
      "    yVarX = int(yVarSplit[1])\n",
      "    yVarY = int(yVarSplit[2])\n",
      "    \n",
      "    yReconstr[yVarX,yVarY] =mapState\n",
      "    \n",
      "\n",
      "imshow(origImg,interpolation='nearest')\n",
      "figure() \n",
      "imshow(maxSumImg,interpolation='nearest')\n",
      "figure()\n",
      "imshow(bla,interpolation='nearest')\n",
      "\n",
      "#figure()\n",
      "#imshow(yReconstr, interpolation='nearest')\n",
      "print blaV\n",
      "\n",
      "print bla\n",
      "\n",
      "print \"nr iterations: %d \" % it"
     ],
     "language": "python",
     "metadata": {},
     "outputs": [
      {
       "output_type": "stream",
       "stream": "stdout",
       "text": [
        "nr pending messages: 244348 \t iteration: 100000 of 1000000\n",
        "nr pending messages: 249709 \t iteration: 200000 of 1000000"
       ]
      },
      {
       "output_type": "stream",
       "stream": "stdout",
       "text": [
        "\n",
        "nr pending messages: 238869 \t iteration: 300000 of 1000000"
       ]
      },
      {
       "output_type": "stream",
       "stream": "stdout",
       "text": [
        "\n",
        "nr pending messages: 245222 \t iteration: 400000 of 1000000"
       ]
      },
      {
       "output_type": "stream",
       "stream": "stdout",
       "text": [
        "\n",
        "nr pending messages: 223461 \t iteration: 500000 of 1000000"
       ]
      },
      {
       "output_type": "stream",
       "stream": "stdout",
       "text": [
        "\n",
        "nr pending messages: 207027 \t iteration: 600000 of 1000000"
       ]
      },
      {
       "output_type": "stream",
       "stream": "stdout",
       "text": [
        "\n",
        "nr pending messages: 196149 \t iteration: 700000 of 1000000"
       ]
      },
      {
       "output_type": "stream",
       "stream": "stdout",
       "text": [
        "\n",
        "nr pending messages: 218614 \t iteration: 800000 of 1000000"
       ]
      },
      {
       "output_type": "stream",
       "stream": "stdout",
       "text": [
        "\n",
        "nr pending messages: 231393 \t iteration: 900000 of 1000000"
       ]
      },
      {
       "output_type": "stream",
       "stream": "stdout",
       "text": [
        "\n",
        "nr pending messages: 239800 \t iteration: 1000000 of 1000000"
       ]
      },
      {
       "output_type": "stream",
       "stream": "stdout",
       "text": [
        "\n",
        "1000000\n",
        "[[ -12.66198442  -12.66198442  -10.61535306 ...,  -80.89942165\n",
        "   -79.38854918  -25.51295402]\n",
        " [ -46.92791492  -46.55467496  -28.67970794 ..., -116.21788036\n",
        "  -134.43242579  -87.75465234]\n",
        " [ -26.69068614  -35.88216348 -111.09719735 ...,  -59.41528004\n",
        "  -101.10632264  -39.56767086]\n",
        " ..., \n",
        " [ -26.58892573  -71.68880969  -53.23820729 ..., -117.35055443\n",
        "   -88.33770614  -30.08675289]\n",
        " [  -7.70792495  -65.92215558  -66.13287661 ..., -189.17402395\n",
        "  -189.17402395  -40.23781799]\n",
        " [  -2.90742811  -11.26542878  -66.95847881 ...,  -54.40873921  -27.6449177\n",
        "    -4.14146482]]"
       ]
      },
      {
       "output_type": "stream",
       "stream": "stdout",
       "text": [
        "\n",
        "[[ 0.  0.  0. ...,  1.  1.  1.]\n",
        " [ 0.  0.  0. ...,  1.  1.  1.]\n",
        " [ 0.  0.  0. ...,  1.  1.  1.]\n",
        " ..., \n",
        " [ 0.  0.  0. ...,  0.  0.  0.]\n",
        " [ 0.  0.  0. ...,  0.  0.  0.]\n",
        " [ 0.  0.  0. ...,  0.  0.  0.]]\n",
        "nr iterations: 1000000 \n"
       ]
      },
      {
       "metadata": {},
       "output_type": "display_data",
       "png": "[encoded data removed]",
       "text": [
        "<matplotlib.figure.Figure at 0x37fa510>"
       ]
      },
      {
       "metadata": {},
       "output_type": "display_data",
       "png": "[encoded data removed]",
       "text": [
        "<matplotlib.figure.Figure at 0x312bb90>"
       ]
      },
      {
       "metadata": {},
       "output_type": "display_data",
       "png": "[encoded data removed]",
       "text": [
        "<matplotlib.figure.Figure at 0x307ef90>"
       ]
      }
     ],
     "prompt_number": 21
    },
    {
     "cell_type": "markdown",
     "metadata": {},
     "source": [
      "### 3.2 Loopy max-sum (10 points)\n",
      "Implement the loopy max-sum algorithm, by passing messages from randomly chosen nodes iteratively until no more pending messages are created or a maximum number of iterations is reached. \n",
      "\n",
      "Think of a good way to initialize the messages in the graph."
     ]
    },
    {
     "cell_type": "markdown",
     "metadata": {},
     "source": [
      "General formula:\n",
      "$P(x_1, x_2, \\dots, x_N) = \\dfrac{1}{Z} \\prod_{i,j} \\psi(x_i,x_j) \\prod_{i} \\phi(x_i,y_i) $\n",
      "\n",
      "\n",
      "A good way to initialize is.. \n",
      "?\n",
      "With a prior? See <a href=\"http://www.ski.org/Rehab/Coughlan_lab/General/TutorialsandReference/BPtutorial.pdf\"> this pdf </a>, Ctrl+F for ``loopy''\n",
      "\n",
      "\n",
      "Factor settings:\n",
      "If the amount of noise is 10%, the local evidence function $\\phi(x_i,y_i)$ should be 0.9 if $x_i = y_i$ and 0.1 otherwise.\n",
      "The neighbouring pixels function $\\psi(x_i,x_j)$  should be ..? A function of the nr. of pixels?\n"
     ]
    },
    {
     "cell_type": "code",
     "collapsed": false,
     "input": [],
     "language": "python",
     "metadata": {},
     "outputs": []
    }
   ],
   "metadata": {}
  }
 ]
}